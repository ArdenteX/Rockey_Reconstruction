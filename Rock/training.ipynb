{
 "cells": [
  {
   "cell_type": "code",
   "execution_count": 1,
   "outputs": [],
   "source": [
    "from Rock.Train.mdnTraining import mdnTraining"
   ],
   "metadata": {
    "collapsed": false,
    "pycharm": {
     "name": "#%%\n"
    }
   }
  },
  {
   "cell_type": "code",
   "execution_count": 2,
   "outputs": [],
   "source": [
    "test_train = mdnTraining(learning_rate=0.0001984, batch_size=512, hidden_size=256, n_gaussian=3, is_gpu=True, epoch=200, split_type='2', is_normal=True)"
   ],
   "metadata": {
    "collapsed": false,
    "pycharm": {
     "name": "#%%\n"
    }
   }
  },
  {
   "cell_type": "code",
   "execution_count": 3,
   "outputs": [
    {
     "name": "stdout",
     "output_type": "stream",
     "text": [
      "module.root_layer.0.weight : torch.Size([3])\n",
      "module.root_layer.0.bias : torch.Size([3])\n",
      "module.root_layer.1.weight : torch.Size([256, 3])\n",
      "module.root_layer.1.bias : torch.Size([256])\n",
      "module.root_layer.4.weight : torch.Size([256, 256])\n",
      "module.root_layer.4.bias : torch.Size([256])\n",
      "module.root_layer.7.weight : torch.Size([256, 256])\n",
      "module.root_layer.7.bias : torch.Size([256])\n",
      "module.root_layer.10.weight : torch.Size([256, 256])\n",
      "module.root_layer.10.bias : torch.Size([256])\n",
      "module.root_layer.12.weight : torch.Size([256])\n",
      "module.root_layer.12.bias : torch.Size([256])\n",
      "module.pi.0.weight : torch.Size([256, 256])\n",
      "module.pi.0.bias : torch.Size([256])\n",
      "module.pi.2.weight : torch.Size([3, 256])\n",
      "module.pi.2.bias : torch.Size([3])\n",
      "module.normal_layer.0.weight : torch.Size([256, 256])\n",
      "module.normal_layer.0.bias : torch.Size([256])\n",
      "module.normal_layer.2.weight : torch.Size([24, 256])\n",
      "module.normal_layer.2.bias : torch.Size([24])\n"
     ]
    },
    {
     "name": "stderr",
     "output_type": "stream",
     "text": [
      "  0%|          | 0/313 [00:00<?, ?batch/s]E:\\anaconda\\envs\\deeplearning\\lib\\site-packages\\torch\\optim\\lr_scheduler.py:136: UserWarning: Detected call of `lr_scheduler.step()` before `optimizer.step()`. In PyTorch 1.1.0 and later, you should call them in the opposite order: `optimizer.step()` before `lr_scheduler.step()`.  Failure to do this will result in PyTorch skipping the first value of the learning rate schedule. See more details at https://pytorch.org/docs/stable/optim.html#how-to-adjust-learning-rate\n",
      "  \"https://pytorch.org/docs/stable/optim.html#how-to-adjust-learning-rate\", UserWarning)\n",
      "Epoch 1 Training: 100%|██████████| 313/313 [00:09<00:00, 31.67batch/s, loss=1.8484, loss_avg=3.1466, lr=0.000066] \n",
      "Epoch 1 Validating: 100%|██████████| 40/40 [00:01<00:00, 20.73batch/s, loss_avg=0.3610, loss_val=0.4218, mse=1.3419, r2=-42.3476, relative_error=119.3100]\n"
     ]
    },
    {
     "name": "stdout",
     "output_type": "stream",
     "text": [
      " \n"
     ]
    },
    {
     "name": "stderr",
     "output_type": "stream",
     "text": [
      "Epoch 2 Training: 100%|██████████| 313/313 [00:06<00:00, 48.69batch/s, loss=1.4238, loss_avg=1.6805, lr=0.000132]\n",
      "Epoch 2 Validating: 100%|██████████| 40/40 [00:01<00:00, 22.05batch/s, loss_avg=0.0795, loss_val=0.1801, mse=1.2420, r2=-39.2988, relative_error=138.0391]\n"
     ]
    },
    {
     "name": "stdout",
     "output_type": "stream",
     "text": [
      " \n"
     ]
    },
    {
     "name": "stderr",
     "output_type": "stream",
     "text": [
      "Epoch 3 Training: 100%|██████████| 313/313 [00:06<00:00, 48.55batch/s, loss=0.4745, loss_avg=0.8370, lr=0.000198]\n",
      "Epoch 3 Validating: 100%|██████████| 40/40 [00:01<00:00, 22.42batch/s, loss_avg=-0.4807, loss_val=-0.3723, mse=0.9403, r2=-29.9064, relative_error=114.9271]\n"
     ]
    },
    {
     "name": "stdout",
     "output_type": "stream",
     "text": [
      " \n"
     ]
    },
    {
     "name": "stderr",
     "output_type": "stream",
     "text": [
      "Epoch 4 Training: 100%|██████████| 313/313 [00:07<00:00, 44.08batch/s, loss=-1.1920, loss_avg=-0.2680, lr=0.000265]\n",
      "Epoch 4 Validating: 100%|██████████| 40/40 [00:01<00:00, 22.18batch/s, loss_avg=-1.8010, loss_val=-1.6853, mse=0.6709, r2=-20.0697, relative_error=81.6964]\n"
     ]
    },
    {
     "name": "stdout",
     "output_type": "stream",
     "text": [
      " \n"
     ]
    },
    {
     "name": "stderr",
     "output_type": "stream",
     "text": [
      "Epoch 5 Training: 100%|██████████| 313/313 [00:06<00:00, 44.94batch/s, loss=-3.9344, loss_avg=-2.4653, lr=0.000265]\n",
      "Epoch 5 Validating: 100%|██████████| 40/40 [00:01<00:00, 20.80batch/s, loss_avg=-5.0352, loss_val=-4.9166, mse=0.1888, r2=-5.1477, relative_error=70.5080]\n"
     ]
    },
    {
     "name": "stdout",
     "output_type": "stream",
     "text": [
      " \n"
     ]
    },
    {
     "name": "stderr",
     "output_type": "stream",
     "text": [
      "Epoch 6 Training: 100%|██████████| 313/313 [00:07<00:00, 43.50batch/s, loss=-7.0288, loss_avg=-5.5819, lr=0.000265]\n",
      "Epoch 6 Validating: 100%|██████████| 40/40 [00:01<00:00, 22.17batch/s, loss_avg=-8.1180, loss_val=-8.2002, mse=0.0429, r2=-0.4490, relative_error=21.3636]\n"
     ]
    },
    {
     "name": "stdout",
     "output_type": "stream",
     "text": [
      " \n"
     ]
    },
    {
     "name": "stderr",
     "output_type": "stream",
     "text": [
      "Epoch 7 Training: 100%|██████████| 313/313 [00:07<00:00, 44.25batch/s, loss=-8.3943, loss_avg=-7.9401, lr=0.000265]\n",
      "Epoch 7 Validating: 100%|██████████| 40/40 [00:01<00:00, 22.33batch/s, loss_avg=-9.4474, loss_val=-9.7433, mse=0.0169, r2=0.4953, relative_error=12.2035]\n"
     ]
    },
    {
     "name": "stdout",
     "output_type": "stream",
     "text": [
      " \n"
     ]
    },
    {
     "name": "stderr",
     "output_type": "stream",
     "text": [
      "Epoch 8 Training: 100%|██████████| 313/313 [00:07<00:00, 44.30batch/s, loss=-9.4473, loss_avg=-9.0723, lr=0.000265]\n",
      "Epoch 8 Validating: 100%|██████████| 40/40 [00:01<00:00, 22.11batch/s, loss_avg=-10.1502, loss_val=-10.3754, mse=0.0116, r2=0.6592, relative_error=7.5986]\n"
     ]
    },
    {
     "name": "stdout",
     "output_type": "stream",
     "text": [
      " \n"
     ]
    },
    {
     "name": "stderr",
     "output_type": "stream",
     "text": [
      "Epoch 9 Training: 100%|██████████| 313/313 [00:07<00:00, 44.23batch/s, loss=-10.0344, loss_avg=-9.7025, lr=0.000265]\n",
      "Epoch 9 Validating: 100%|██████████| 40/40 [00:01<00:00, 22.22batch/s, loss_avg=-10.7781, loss_val=-11.0436, mse=0.0090, r2=0.7406, relative_error=8.5944] \n"
     ]
    },
    {
     "name": "stdout",
     "output_type": "stream",
     "text": [
      " \n"
     ]
    },
    {
     "name": "stderr",
     "output_type": "stream",
     "text": [
      "Epoch 10 Training: 100%|██████████| 313/313 [00:06<00:00, 44.80batch/s, loss=-10.3273, loss_avg=-10.1524, lr=0.000265]\n",
      "Epoch 10 Validating: 100%|██████████| 40/40 [00:01<00:00, 22.21batch/s, loss_avg=-10.1221, loss_val=-10.2461, mse=0.0084, r2=0.7639, relative_error=8.0457] \n"
     ]
    },
    {
     "name": "stdout",
     "output_type": "stream",
     "text": [
      " \n"
     ]
    },
    {
     "name": "stderr",
     "output_type": "stream",
     "text": [
      "Epoch 11 Training: 100%|██████████| 313/313 [00:07<00:00, 44.54batch/s, loss=-10.4410, loss_avg=-10.4964, lr=0.000265]\n",
      "Epoch 11 Validating: 100%|██████████| 40/40 [00:01<00:00, 21.66batch/s, loss_avg=-10.6287, loss_val=-10.9060, mse=0.0075, r2=0.7792, relative_error=5.7212]\n"
     ]
    },
    {
     "name": "stdout",
     "output_type": "stream",
     "text": [
      " \n"
     ]
    },
    {
     "name": "stderr",
     "output_type": "stream",
     "text": [
      "Epoch 12 Training: 100%|██████████| 313/313 [00:06<00:00, 45.02batch/s, loss=-10.9900, loss_avg=-10.7637, lr=0.000265]\n",
      "Epoch 12 Validating: 100%|██████████| 40/40 [00:01<00:00, 21.83batch/s, loss_avg=-10.9378, loss_val=-11.1814, mse=0.0079, r2=0.7741, relative_error=6.0744]\n"
     ]
    },
    {
     "name": "stdout",
     "output_type": "stream",
     "text": [
      " \n"
     ]
    },
    {
     "name": "stderr",
     "output_type": "stream",
     "text": [
      "Epoch 13 Training: 100%|██████████| 313/313 [00:07<00:00, 44.42batch/s, loss=-11.2009, loss_avg=-10.9424, lr=0.000265]\n",
      "Epoch 13 Validating: 100%|██████████| 40/40 [00:01<00:00, 22.70batch/s, loss_avg=-10.2877, loss_val=-10.3915, mse=0.0075, r2=0.7848, relative_error=3.2597]\n"
     ]
    },
    {
     "name": "stdout",
     "output_type": "stream",
     "text": [
      " \n"
     ]
    },
    {
     "name": "stderr",
     "output_type": "stream",
     "text": [
      "Epoch 14 Training: 100%|██████████| 313/313 [00:07<00:00, 44.60batch/s, loss=-11.1081, loss_avg=-11.1445, lr=0.000265]\n",
      "Epoch 14 Validating: 100%|██████████| 40/40 [00:01<00:00, 21.46batch/s, loss_avg=-10.4134, loss_val=-10.6080, mse=0.0072, r2=0.7910, relative_error=5.7454]\n"
     ]
    },
    {
     "name": "stdout",
     "output_type": "stream",
     "text": [
      " \n"
     ]
    },
    {
     "name": "stderr",
     "output_type": "stream",
     "text": [
      "Epoch 15 Training: 100%|██████████| 313/313 [00:07<00:00, 44.24batch/s, loss=-11.2926, loss_avg=-11.3079, lr=0.000265]\n",
      "Epoch 15 Validating: 100%|██████████| 40/40 [00:01<00:00, 22.20batch/s, loss_avg=-10.1467, loss_val=-10.1688, mse=0.0074, r2=0.7900, relative_error=4.0350]\n"
     ]
    },
    {
     "name": "stdout",
     "output_type": "stream",
     "text": [
      " \n"
     ]
    },
    {
     "name": "stderr",
     "output_type": "stream",
     "text": [
      "Epoch 16 Training: 100%|██████████| 313/313 [00:06<00:00, 45.57batch/s, loss=-11.5541, loss_avg=-11.4094, lr=0.000265]\n",
      "Epoch 16 Validating: 100%|██████████| 40/40 [00:01<00:00, 21.46batch/s, loss_avg=-10.1354, loss_val=-10.2168, mse=0.0076, r2=0.7864, relative_error=7.3637] \n"
     ]
    },
    {
     "name": "stdout",
     "output_type": "stream",
     "text": [
      " \n"
     ]
    },
    {
     "name": "stderr",
     "output_type": "stream",
     "text": [
      "Epoch 17 Training: 100%|██████████| 313/313 [00:06<00:00, 45.38batch/s, loss=-11.4505, loss_avg=-11.5160, lr=0.000265]\n",
      "Epoch 17 Validating: 100%|██████████| 40/40 [00:01<00:00, 20.74batch/s, loss_avg=-9.9115, loss_val=-9.9455, mse=0.0080, r2=0.7748, relative_error=21.6461] \n"
     ]
    },
    {
     "name": "stdout",
     "output_type": "stream",
     "text": [
      " \n"
     ]
    },
    {
     "name": "stderr",
     "output_type": "stream",
     "text": [
      "Epoch 18 Training: 100%|██████████| 313/313 [00:06<00:00, 45.29batch/s, loss=-11.8627, loss_avg=-11.6788, lr=0.000265]\n",
      "Epoch 18 Validating: 100%|██████████| 40/40 [00:02<00:00, 19.83batch/s, loss_avg=-10.0504, loss_val=-10.1910, mse=0.0078, r2=0.7802, relative_error=45.5765] \n"
     ]
    },
    {
     "name": "stdout",
     "output_type": "stream",
     "text": [
      " \n"
     ]
    },
    {
     "name": "stderr",
     "output_type": "stream",
     "text": [
      "Epoch 19 Training: 100%|██████████| 313/313 [00:07<00:00, 43.71batch/s, loss=-11.7744, loss_avg=-11.7592, lr=0.000265]\n",
      "Epoch 19 Validating: 100%|██████████| 40/40 [00:01<00:00, 21.00batch/s, loss_avg=-10.1880, loss_val=-10.3103, mse=0.0073, r2=0.7952, relative_error=24.1426]\n"
     ]
    },
    {
     "name": "stdout",
     "output_type": "stream",
     "text": [
      " \n"
     ]
    },
    {
     "name": "stderr",
     "output_type": "stream",
     "text": [
      "Epoch 20 Training: 100%|██████████| 313/313 [00:06<00:00, 45.23batch/s, loss=-12.1251, loss_avg=-11.8691, lr=0.000265]\n",
      "Epoch 20 Validating: 100%|██████████| 40/40 [00:01<00:00, 21.61batch/s, loss_avg=-10.5675, loss_val=-10.6395, mse=0.0070, r2=0.8062, relative_error=4.5886]\n"
     ]
    },
    {
     "name": "stdout",
     "output_type": "stream",
     "text": [
      " \n"
     ]
    },
    {
     "name": "stderr",
     "output_type": "stream",
     "text": [
      "Epoch 21 Training: 100%|██████████| 313/313 [00:07<00:00, 44.07batch/s, loss=-12.1050, loss_avg=-11.9462, lr=0.000265]\n",
      "Epoch 21 Validating: 100%|██████████| 40/40 [00:01<00:00, 21.74batch/s, loss_avg=-10.2356, loss_val=-10.1537, mse=0.0071, r2=0.8020, relative_error=3.7381]\n"
     ]
    },
    {
     "name": "stdout",
     "output_type": "stream",
     "text": [
      " \n"
     ]
    },
    {
     "name": "stderr",
     "output_type": "stream",
     "text": [
      "Epoch 22 Training: 100%|██████████| 313/313 [00:06<00:00, 44.73batch/s, loss=-12.0644, loss_avg=-12.0149, lr=0.000265]\n",
      "Epoch 22 Validating: 100%|██████████| 40/40 [00:01<00:00, 21.82batch/s, loss_avg=-9.4708, loss_val=-9.3838, mse=0.0077, r2=0.7864, relative_error=7.5560] \n"
     ]
    },
    {
     "name": "stdout",
     "output_type": "stream",
     "text": [
      " \n"
     ]
    },
    {
     "name": "stderr",
     "output_type": "stream",
     "text": [
      "Epoch 23 Training: 100%|██████████| 313/313 [00:06<00:00, 44.81batch/s, loss=-12.0330, loss_avg=-12.0528, lr=0.000265]\n",
      "Epoch 23 Validating: 100%|██████████| 40/40 [00:01<00:00, 21.40batch/s, loss_avg=-9.6308, loss_val=-9.3126, mse=0.0076, r2=0.7913, relative_error=7.9439]\n"
     ]
    },
    {
     "name": "stdout",
     "output_type": "stream",
     "text": [
      " \n"
     ]
    },
    {
     "name": "stderr",
     "output_type": "stream",
     "text": [
      "Epoch 24 Training: 100%|██████████| 313/313 [00:06<00:00, 44.87batch/s, loss=-12.1537, loss_avg=-12.1412, lr=0.000265]\n",
      "Epoch 24 Validating: 100%|██████████| 40/40 [00:01<00:00, 20.74batch/s, loss_avg=-9.5725, loss_val=-9.5651, mse=0.0074, r2=0.7961, relative_error=4.2839]\n"
     ]
    },
    {
     "name": "stdout",
     "output_type": "stream",
     "text": [
      " \n"
     ]
    },
    {
     "name": "stderr",
     "output_type": "stream",
     "text": [
      "Epoch 25 Training: 100%|██████████| 313/313 [00:07<00:00, 44.22batch/s, loss=-12.2151, loss_avg=-12.2123, lr=0.000265]\n",
      "Epoch 25 Validating: 100%|██████████| 40/40 [00:01<00:00, 21.33batch/s, loss_avg=-9.6024, loss_val=-9.4829, mse=0.0077, r2=0.7859, relative_error=9.7691] \n"
     ]
    },
    {
     "name": "stdout",
     "output_type": "stream",
     "text": [
      " \n"
     ]
    },
    {
     "name": "stderr",
     "output_type": "stream",
     "text": [
      "Epoch 26 Training: 100%|██████████| 313/313 [00:07<00:00, 43.54batch/s, loss=-12.3196, loss_avg=-12.2669, lr=0.000265]\n",
      "Epoch 26 Validating: 100%|██████████| 40/40 [00:01<00:00, 22.36batch/s, loss_avg=-9.6451, loss_val=-9.5950, mse=0.0072, r2=0.8030, relative_error=5.5340]\n"
     ]
    },
    {
     "name": "stdout",
     "output_type": "stream",
     "text": [
      " \n"
     ]
    },
    {
     "name": "stderr",
     "output_type": "stream",
     "text": [
      "Epoch 27 Training: 100%|██████████| 313/313 [00:07<00:00, 44.43batch/s, loss=-12.2730, loss_avg=-12.3060, lr=0.000265]\n",
      "Epoch 27 Validating: 100%|██████████| 40/40 [00:01<00:00, 22.29batch/s, loss_avg=-9.8668, loss_val=-9.6803, mse=0.0076, r2=0.7911, relative_error=4.6870] \n"
     ]
    },
    {
     "name": "stdout",
     "output_type": "stream",
     "text": [
      " \n"
     ]
    },
    {
     "name": "stderr",
     "output_type": "stream",
     "text": [
      "Epoch 28 Training: 100%|██████████| 313/313 [00:07<00:00, 44.35batch/s, loss=-12.4976, loss_avg=-12.3516, lr=0.000265]\n",
      "Epoch 28 Validating: 100%|██████████| 40/40 [00:01<00:00, 21.05batch/s, loss_avg=-9.5492, loss_val=-9.4329, mse=0.0075, r2=0.7931, relative_error=14.3656]\n"
     ]
    },
    {
     "name": "stdout",
     "output_type": "stream",
     "text": [
      " \n"
     ]
    },
    {
     "name": "stderr",
     "output_type": "stream",
     "text": [
      "Epoch 29 Training: 100%|██████████| 313/313 [00:06<00:00, 46.56batch/s, loss=-12.3170, loss_avg=-12.4929, lr=0.000185]\n",
      "Epoch 29 Validating: 100%|██████████| 40/40 [00:01<00:00, 22.55batch/s, loss_avg=-9.8289, loss_val=-9.5637, mse=0.0073, r2=0.8005, relative_error=10.9932] \n"
     ]
    },
    {
     "name": "stdout",
     "output_type": "stream",
     "text": [
      " \n"
     ]
    },
    {
     "name": "stderr",
     "output_type": "stream",
     "text": [
      "Epoch 30 Training: 100%|██████████| 313/313 [00:06<00:00, 45.18batch/s, loss=-12.4164, loss_avg=-12.5356, lr=0.000185]\n",
      "Epoch 30 Validating: 100%|██████████| 40/40 [00:01<00:00, 21.11batch/s, loss_avg=-10.0003, loss_val=-9.6187, mse=0.0074, r2=0.7992, relative_error=11.3266] \n"
     ]
    },
    {
     "name": "stdout",
     "output_type": "stream",
     "text": [
      " \n"
     ]
    },
    {
     "name": "stderr",
     "output_type": "stream",
     "text": [
      "Epoch 31 Training: 100%|██████████| 313/313 [00:06<00:00, 45.54batch/s, loss=-12.5808, loss_avg=-12.5634, lr=0.000185]\n",
      "Epoch 31 Validating: 100%|██████████| 40/40 [00:01<00:00, 22.15batch/s, loss_avg=-9.9499, loss_val=-9.6854, mse=0.0076, r2=0.7930, relative_error=4.8459] \n"
     ]
    },
    {
     "name": "stdout",
     "output_type": "stream",
     "text": [
      " \n"
     ]
    },
    {
     "name": "stderr",
     "output_type": "stream",
     "text": [
      "Epoch 32 Training: 100%|██████████| 313/313 [00:06<00:00, 46.03batch/s, loss=-12.3688, loss_avg=-12.5866, lr=0.000185]\n",
      "Epoch 32 Validating: 100%|██████████| 40/40 [00:01<00:00, 23.09batch/s, loss_avg=-9.7010, loss_val=-9.5067, mse=0.0075, r2=0.7947, relative_error=5.7202] \n"
     ]
    },
    {
     "name": "stdout",
     "output_type": "stream",
     "text": [
      " \n"
     ]
    },
    {
     "name": "stderr",
     "output_type": "stream",
     "text": [
      "Epoch 33 Training: 100%|██████████| 313/313 [00:06<00:00, 45.60batch/s, loss=-12.5451, loss_avg=-12.6145, lr=0.000185]\n",
      "Epoch 33 Validating: 100%|██████████| 40/40 [00:01<00:00, 23.46batch/s, loss_avg=-9.5602, loss_val=-9.2555, mse=0.0073, r2=0.8022, relative_error=6.2300] \n"
     ]
    },
    {
     "name": "stdout",
     "output_type": "stream",
     "text": [
      " \n"
     ]
    },
    {
     "name": "stderr",
     "output_type": "stream",
     "text": [
      "Epoch 34 Training: 100%|██████████| 313/313 [00:06<00:00, 45.73batch/s, loss=-12.6747, loss_avg=-12.6469, lr=0.000185]\n",
      "Epoch 34 Validating: 100%|██████████| 40/40 [00:01<00:00, 22.84batch/s, loss_avg=-10.0451, loss_val=-9.6314, mse=0.0079, r2=0.7876, relative_error=5.0156] \n"
     ]
    },
    {
     "name": "stdout",
     "output_type": "stream",
     "text": [
      " \n"
     ]
    },
    {
     "name": "stderr",
     "output_type": "stream",
     "text": [
      "Epoch 35 Training: 100%|██████████| 313/313 [00:06<00:00, 45.67batch/s, loss=-12.5947, loss_avg=-12.6731, lr=0.000185]\n",
      "Epoch 35 Validating: 100%|██████████| 40/40 [00:01<00:00, 21.12batch/s, loss_avg=-10.1028, loss_val=-9.7994, mse=0.0072, r2=0.8031, relative_error=6.0007]  \n"
     ]
    },
    {
     "name": "stdout",
     "output_type": "stream",
     "text": [
      " \n"
     ]
    },
    {
     "name": "stderr",
     "output_type": "stream",
     "text": [
      "Epoch 36 Training: 100%|██████████| 313/313 [00:06<00:00, 45.10batch/s, loss=-12.5521, loss_avg=-12.7242, lr=0.000185]\n",
      "Epoch 36 Validating: 100%|██████████| 40/40 [00:01<00:00, 23.29batch/s, loss_avg=-9.9515, loss_val=-9.6071, mse=0.0073, r2=0.8037, relative_error=8.3672]   \n"
     ]
    },
    {
     "name": "stdout",
     "output_type": "stream",
     "text": [
      " \n"
     ]
    },
    {
     "name": "stderr",
     "output_type": "stream",
     "text": [
      "Epoch 37 Training: 100%|██████████| 313/313 [00:06<00:00, 46.00batch/s, loss=-12.7024, loss_avg=-12.7362, lr=0.000185]\n",
      "Epoch 37 Validating: 100%|██████████| 40/40 [00:01<00:00, 23.27batch/s, loss_avg=-10.0297, loss_val=-9.6440, mse=0.0076, r2=0.7962, relative_error=7.0328] \n"
     ]
    },
    {
     "name": "stdout",
     "output_type": "stream",
     "text": [
      " \n"
     ]
    },
    {
     "name": "stderr",
     "output_type": "stream",
     "text": [
      "Epoch 38 Training: 100%|██████████| 313/313 [00:06<00:00, 45.11batch/s, loss=-12.6396, loss_avg=-12.7698, lr=0.000185]\n",
      "Epoch 38 Validating: 100%|██████████| 40/40 [00:01<00:00, 22.33batch/s, loss_avg=-10.0816, loss_val=-9.8029, mse=0.0074, r2=0.8009, relative_error=7.2163]  \n"
     ]
    },
    {
     "name": "stdout",
     "output_type": "stream",
     "text": [
      " \n"
     ]
    },
    {
     "name": "stderr",
     "output_type": "stream",
     "text": [
      "Epoch 39 Training: 100%|██████████| 313/313 [00:07<00:00, 44.21batch/s, loss=-12.3403, loss_avg=-12.7913, lr=0.000185]\n",
      "Epoch 39 Validating: 100%|██████████| 40/40 [00:01<00:00, 23.02batch/s, loss_avg=-9.9895, loss_val=-9.8389, mse=0.0073, r2=0.8059, relative_error=3.7911]  \n"
     ]
    },
    {
     "name": "stdout",
     "output_type": "stream",
     "text": [
      " \n"
     ]
    },
    {
     "name": "stderr",
     "output_type": "stream",
     "text": [
      "Epoch 40 Training: 100%|██████████| 313/313 [00:06<00:00, 45.86batch/s, loss=-12.7131, loss_avg=-12.8245, lr=0.000185]\n",
      "Epoch 40 Validating: 100%|██████████| 40/40 [00:01<00:00, 21.56batch/s, loss_avg=-9.7360, loss_val=-9.3193, mse=0.0074, r2=0.7993, relative_error=4.4826] \n"
     ]
    },
    {
     "name": "stdout",
     "output_type": "stream",
     "text": [
      " \n"
     ]
    },
    {
     "name": "stderr",
     "output_type": "stream",
     "text": [
      "Epoch 41 Training: 100%|██████████| 313/313 [00:06<00:00, 45.15batch/s, loss=-12.7557, loss_avg=-12.8580, lr=0.000185]\n",
      "Epoch 41 Validating: 100%|██████████| 40/40 [00:01<00:00, 22.85batch/s, loss_avg=-9.9298, loss_val=-9.6621, mse=0.0076, r2=0.7907, relative_error=4.4565] \n"
     ]
    },
    {
     "name": "stdout",
     "output_type": "stream",
     "text": [
      " \n"
     ]
    },
    {
     "name": "stderr",
     "output_type": "stream",
     "text": [
      "Epoch 42 Training: 100%|██████████| 313/313 [00:06<00:00, 44.87batch/s, loss=-12.8993, loss_avg=-12.8642, lr=0.000185]\n",
      "Epoch 42 Validating: 100%|██████████| 40/40 [00:01<00:00, 21.83batch/s, loss_avg=-10.0329, loss_val=-9.7733, mse=0.0073, r2=0.8020, relative_error=5.0110] \n"
     ]
    },
    {
     "name": "stdout",
     "output_type": "stream",
     "text": [
      " \n"
     ]
    },
    {
     "name": "stderr",
     "output_type": "stream",
     "text": [
      "Epoch 43 Training: 100%|██████████| 313/313 [00:06<00:00, 44.89batch/s, loss=-12.9847, loss_avg=-12.9001, lr=0.000185]\n",
      "Epoch 43 Validating: 100%|██████████| 40/40 [00:01<00:00, 22.76batch/s, loss_avg=-10.0214, loss_val=-9.8077, mse=0.0074, r2=0.8019, relative_error=3.2138] \n"
     ]
    },
    {
     "name": "stdout",
     "output_type": "stream",
     "text": [
      " \n"
     ]
    },
    {
     "name": "stderr",
     "output_type": "stream",
     "text": [
      "Epoch 44 Training: 100%|██████████| 313/313 [00:06<00:00, 45.44batch/s, loss=-13.0061, loss_avg=-12.9296, lr=0.000185]\n",
      "Epoch 44 Validating: 100%|██████████| 40/40 [00:01<00:00, 21.50batch/s, loss_avg=-10.0666, loss_val=-9.9009, mse=0.0070, r2=0.8098, relative_error=3.7279] \n"
     ]
    },
    {
     "name": "stdout",
     "output_type": "stream",
     "text": [
      " \n"
     ]
    },
    {
     "name": "stderr",
     "output_type": "stream",
     "text": [
      "Epoch 45 Training: 100%|██████████| 313/313 [00:06<00:00, 44.96batch/s, loss=-12.7866, loss_avg=-12.9335, lr=0.000185]\n",
      "Epoch 45 Validating: 100%|██████████| 40/40 [00:01<00:00, 22.18batch/s, loss_avg=-10.0928, loss_val=-9.8415, mse=0.0070, r2=0.8120, relative_error=1.9817] \n"
     ]
    },
    {
     "name": "stdout",
     "output_type": "stream",
     "text": [
      " \n"
     ]
    },
    {
     "name": "stderr",
     "output_type": "stream",
     "text": [
      "Epoch 46 Training: 100%|██████████| 313/313 [00:06<00:00, 44.94batch/s, loss=-12.5919, loss_avg=-12.9634, lr=0.000185]\n",
      "Epoch 46 Validating: 100%|██████████| 40/40 [00:01<00:00, 21.26batch/s, loss_avg=-9.8455, loss_val=-9.5661, mse=0.0072, r2=0.8036, relative_error=3.5157] \n"
     ]
    },
    {
     "name": "stdout",
     "output_type": "stream",
     "text": [
      " \n"
     ]
    },
    {
     "name": "stderr",
     "output_type": "stream",
     "text": [
      "Epoch 47 Training: 100%|██████████| 313/313 [00:06<00:00, 46.31batch/s, loss=-12.9144, loss_avg=-12.9865, lr=0.000185]\n",
      "Epoch 47 Validating: 100%|██████████| 40/40 [00:01<00:00, 21.41batch/s, loss_avg=-9.7468, loss_val=-9.4265, mse=0.0074, r2=0.8010, relative_error=3.3992] \n"
     ]
    },
    {
     "name": "stdout",
     "output_type": "stream",
     "text": [
      " \n"
     ]
    },
    {
     "name": "stderr",
     "output_type": "stream",
     "text": [
      "Epoch 48 Training: 100%|██████████| 313/313 [00:06<00:00, 46.34batch/s, loss=-12.6507, loss_avg=-13.0030, lr=0.000185]\n",
      "Epoch 48 Validating: 100%|██████████| 40/40 [00:01<00:00, 21.49batch/s, loss_avg=-10.0588, loss_val=-9.7679, mse=0.0068, r2=0.8176, relative_error=3.1502] \n"
     ]
    },
    {
     "name": "stdout",
     "output_type": "stream",
     "text": [
      " \n"
     ]
    },
    {
     "name": "stderr",
     "output_type": "stream",
     "text": [
      "Epoch 49 Training: 100%|██████████| 313/313 [00:10<00:00, 29.58batch/s, loss=-13.0936, loss_avg=-13.1044, lr=0.000130]\n",
      "Epoch 49 Validating: 100%|██████████| 40/40 [00:01<00:00, 22.40batch/s, loss_avg=-9.9404, loss_val=-9.5435, mse=0.0069, r2=0.8123, relative_error=1.1824]  \n"
     ]
    },
    {
     "name": "stdout",
     "output_type": "stream",
     "text": [
      " \n"
     ]
    },
    {
     "name": "stderr",
     "output_type": "stream",
     "text": [
      "Epoch 50 Training: 100%|██████████| 313/313 [00:06<00:00, 45.78batch/s, loss=-12.9830, loss_avg=-13.1283, lr=0.000130]\n",
      "Epoch 50 Validating: 100%|██████████| 40/40 [00:01<00:00, 22.69batch/s, loss_avg=-9.7723, loss_val=-9.4757, mse=0.0069, r2=0.8128, relative_error=2.6910] \n"
     ]
    },
    {
     "name": "stdout",
     "output_type": "stream",
     "text": [
      " \n"
     ]
    },
    {
     "name": "stderr",
     "output_type": "stream",
     "text": [
      "Epoch 51 Training: 100%|██████████| 313/313 [00:06<00:00, 46.20batch/s, loss=-12.8926, loss_avg=-13.1153, lr=0.000130]\n",
      "Epoch 51 Validating: 100%|██████████| 40/40 [00:01<00:00, 22.80batch/s, loss_avg=-9.9729, loss_val=-9.6162, mse=0.0068, r2=0.8163, relative_error=1.9313]  \n"
     ]
    },
    {
     "name": "stdout",
     "output_type": "stream",
     "text": [
      "Save Best model: R2:0.8163, Loss Avg:-9.9729\n"
     ]
    },
    {
     "name": "stderr",
     "output_type": "stream",
     "text": [
      "Epoch 52 Training: 100%|██████████| 313/313 [00:06<00:00, 45.26batch/s, loss=-13.0563, loss_avg=-13.1541, lr=0.000130]\n",
      "Epoch 52 Validating: 100%|██████████| 40/40 [00:01<00:00, 21.85batch/s, loss_avg=-9.8833, loss_val=-9.5221, mse=0.0069, r2=0.8142, relative_error=3.0572] \n"
     ]
    },
    {
     "name": "stdout",
     "output_type": "stream",
     "text": [
      " \n"
     ]
    },
    {
     "name": "stderr",
     "output_type": "stream",
     "text": [
      "Epoch 53 Training: 100%|██████████| 313/313 [00:06<00:00, 46.19batch/s, loss=-13.0712, loss_avg=-13.1677, lr=0.000130]\n",
      "Epoch 53 Validating: 100%|██████████| 40/40 [00:01<00:00, 21.44batch/s, loss_avg=-10.2125, loss_val=-9.8195, mse=0.0069, r2=0.8111, relative_error=2.0537] \n"
     ]
    },
    {
     "name": "stdout",
     "output_type": "stream",
     "text": [
      " \n"
     ]
    },
    {
     "name": "stderr",
     "output_type": "stream",
     "text": [
      "Epoch 54 Training: 100%|██████████| 313/313 [00:07<00:00, 44.58batch/s, loss=-13.1269, loss_avg=-13.1945, lr=0.000130]\n",
      "Epoch 54 Validating: 100%|██████████| 40/40 [00:01<00:00, 20.90batch/s, loss_avg=-10.1534, loss_val=-9.8062, mse=0.0067, r2=0.8188, relative_error=2.0711] \n"
     ]
    },
    {
     "name": "stdout",
     "output_type": "stream",
     "text": [
      "Save Best model: R2:0.8188, Loss Avg:-10.1534\n"
     ]
    },
    {
     "name": "stderr",
     "output_type": "stream",
     "text": [
      "Epoch 55 Training: 100%|██████████| 313/313 [00:06<00:00, 46.65batch/s, loss=-13.1606, loss_avg=-13.2032, lr=0.000130]\n",
      "Epoch 55 Validating: 100%|██████████| 40/40 [00:01<00:00, 23.01batch/s, loss_avg=-10.0011, loss_val=-9.6638, mse=0.0067, r2=0.8172, relative_error=1.9934] \n"
     ]
    },
    {
     "name": "stdout",
     "output_type": "stream",
     "text": [
      " \n"
     ]
    },
    {
     "name": "stderr",
     "output_type": "stream",
     "text": [
      "Epoch 56 Training: 100%|██████████| 313/313 [00:07<00:00, 44.34batch/s, loss=-13.1842, loss_avg=-13.2016, lr=0.000130]\n",
      "Epoch 56 Validating: 100%|██████████| 40/40 [00:01<00:00, 21.38batch/s, loss_avg=-10.2120, loss_val=-9.9149, mse=0.0064, r2=0.8258, relative_error=2.0815] \n"
     ]
    },
    {
     "name": "stdout",
     "output_type": "stream",
     "text": [
      "Save Best model: R2:0.8258, Loss Avg:-10.2120\n"
     ]
    },
    {
     "name": "stderr",
     "output_type": "stream",
     "text": [
      "Epoch 57 Training: 100%|██████████| 313/313 [00:06<00:00, 46.04batch/s, loss=-12.9338, loss_avg=-13.2178, lr=0.000130]\n",
      "Epoch 57 Validating: 100%|██████████| 40/40 [00:01<00:00, 21.84batch/s, loss_avg=-9.9191, loss_val=-9.4651, mse=0.0069, r2=0.8158, relative_error=2.3390] \n"
     ]
    },
    {
     "name": "stdout",
     "output_type": "stream",
     "text": [
      " \n"
     ]
    },
    {
     "name": "stderr",
     "output_type": "stream",
     "text": [
      "Epoch 58 Training: 100%|██████████| 313/313 [00:06<00:00, 45.80batch/s, loss=-13.1975, loss_avg=-13.2385, lr=0.000130]\n",
      "Epoch 58 Validating: 100%|██████████| 40/40 [00:01<00:00, 22.49batch/s, loss_avg=-10.3963, loss_val=-9.9545, mse=0.0068, r2=0.8144, relative_error=2.3646] \n"
     ]
    },
    {
     "name": "stdout",
     "output_type": "stream",
     "text": [
      " \n"
     ]
    },
    {
     "name": "stderr",
     "output_type": "stream",
     "text": [
      "Epoch 59 Training: 100%|██████████| 313/313 [00:06<00:00, 46.50batch/s, loss=-13.1689, loss_avg=-13.2420, lr=0.000130]\n",
      "Epoch 59 Validating: 100%|██████████| 40/40 [00:01<00:00, 22.02batch/s, loss_avg=-10.0055, loss_val=-9.5348, mse=0.0068, r2=0.8157, relative_error=2.4018] \n"
     ]
    },
    {
     "name": "stdout",
     "output_type": "stream",
     "text": [
      " \n"
     ]
    },
    {
     "name": "stderr",
     "output_type": "stream",
     "text": [
      "Epoch 60 Training: 100%|██████████| 313/313 [00:06<00:00, 45.22batch/s, loss=-13.2518, loss_avg=-13.2665, lr=0.000130]\n",
      "Epoch 60 Validating: 100%|██████████| 40/40 [00:01<00:00, 22.29batch/s, loss_avg=-9.9205, loss_val=-9.6511, mse=0.0067, r2=0.8196, relative_error=2.3482] \n"
     ]
    },
    {
     "name": "stdout",
     "output_type": "stream",
     "text": [
      " \n"
     ]
    },
    {
     "name": "stderr",
     "output_type": "stream",
     "text": [
      "Epoch 61 Training: 100%|██████████| 313/313 [00:06<00:00, 44.81batch/s, loss=-13.2853, loss_avg=-13.2853, lr=0.000130]\n",
      "Epoch 61 Validating: 100%|██████████| 40/40 [00:01<00:00, 22.70batch/s, loss_avg=-9.9377, loss_val=-9.6378, mse=0.0066, r2=0.8194, relative_error=3.0461] \n"
     ]
    },
    {
     "name": "stdout",
     "output_type": "stream",
     "text": [
      " \n"
     ]
    },
    {
     "name": "stderr",
     "output_type": "stream",
     "text": [
      "Epoch 62 Training: 100%|██████████| 313/313 [00:06<00:00, 45.46batch/s, loss=-13.0682, loss_avg=-13.2839, lr=0.000130]\n",
      "Epoch 62 Validating: 100%|██████████| 40/40 [00:01<00:00, 22.26batch/s, loss_avg=-9.9116, loss_val=-9.5194, mse=0.0067, r2=0.8178, relative_error=2.0649] \n"
     ]
    },
    {
     "name": "stdout",
     "output_type": "stream",
     "text": [
      " \n"
     ]
    },
    {
     "name": "stderr",
     "output_type": "stream",
     "text": [
      "Epoch 63 Training: 100%|██████████| 313/313 [00:06<00:00, 46.33batch/s, loss=-13.3421, loss_avg=-13.3144, lr=0.000130]\n",
      "Epoch 63 Validating: 100%|██████████| 40/40 [00:01<00:00, 22.35batch/s, loss_avg=-10.1413, loss_val=-9.8448, mse=0.0068, r2=0.8164, relative_error=2.7476] \n"
     ]
    },
    {
     "name": "stdout",
     "output_type": "stream",
     "text": [
      " \n"
     ]
    },
    {
     "name": "stderr",
     "output_type": "stream",
     "text": [
      "Epoch 64 Training: 100%|██████████| 313/313 [00:06<00:00, 44.82batch/s, loss=-13.2211, loss_avg=-13.3113, lr=0.000130]\n",
      "Epoch 64 Validating: 100%|██████████| 40/40 [00:01<00:00, 21.11batch/s, loss_avg=-9.9447, loss_val=-9.5474, mse=0.0067, r2=0.8185, relative_error=2.0659]  \n"
     ]
    },
    {
     "name": "stdout",
     "output_type": "stream",
     "text": [
      " \n"
     ]
    },
    {
     "name": "stderr",
     "output_type": "stream",
     "text": [
      "Epoch 65 Training: 100%|██████████| 313/313 [00:06<00:00, 45.99batch/s, loss=-13.0298, loss_avg=-13.3111, lr=0.000130]\n",
      "Epoch 65 Validating: 100%|██████████| 40/40 [00:01<00:00, 22.06batch/s, loss_avg=-10.0749, loss_val=-9.6819, mse=0.0066, r2=0.8209, relative_error=1.9748] \n"
     ]
    },
    {
     "name": "stdout",
     "output_type": "stream",
     "text": [
      " \n"
     ]
    },
    {
     "name": "stderr",
     "output_type": "stream",
     "text": [
      "Epoch 66 Training: 100%|██████████| 313/313 [00:06<00:00, 46.30batch/s, loss=-13.4051, loss_avg=-13.3288, lr=0.000130]\n",
      "Epoch 66 Validating: 100%|██████████| 40/40 [00:01<00:00, 23.07batch/s, loss_avg=-10.1303, loss_val=-9.9113, mse=0.0067, r2=0.8180, relative_error=1.2412] \n"
     ]
    },
    {
     "name": "stdout",
     "output_type": "stream",
     "text": [
      " \n"
     ]
    },
    {
     "name": "stderr",
     "output_type": "stream",
     "text": [
      "Epoch 67 Training: 100%|██████████| 313/313 [00:06<00:00, 45.99batch/s, loss=-13.2865, loss_avg=-13.3524, lr=0.000130]\n",
      "Epoch 67 Validating: 100%|██████████| 40/40 [00:01<00:00, 22.49batch/s, loss_avg=-10.1375, loss_val=-9.7972, mse=0.0067, r2=0.8189, relative_error=1.7090] \n"
     ]
    },
    {
     "name": "stdout",
     "output_type": "stream",
     "text": [
      " \n"
     ]
    },
    {
     "name": "stderr",
     "output_type": "stream",
     "text": [
      "Epoch 68 Training: 100%|██████████| 313/313 [00:06<00:00, 45.78batch/s, loss=-13.0614, loss_avg=-13.3581, lr=0.000130]\n",
      "Epoch 68 Validating: 100%|██████████| 40/40 [00:01<00:00, 20.69batch/s, loss_avg=-9.9390, loss_val=-9.6655, mse=0.0066, r2=0.8225, relative_error=3.4292]  \n"
     ]
    },
    {
     "name": "stdout",
     "output_type": "stream",
     "text": [
      " \n"
     ]
    },
    {
     "name": "stderr",
     "output_type": "stream",
     "text": [
      "Epoch 69 Training: 100%|██████████| 313/313 [00:06<00:00, 46.51batch/s, loss=-13.0514, loss_avg=-13.3690, lr=0.000130]\n",
      "Epoch 69 Validating: 100%|██████████| 40/40 [00:01<00:00, 22.76batch/s, loss_avg=-9.8895, loss_val=-9.6194, mse=0.0068, r2=0.8184, relative_error=1.2940] \n"
     ]
    },
    {
     "name": "stdout",
     "output_type": "stream",
     "text": [
      " \n"
     ]
    },
    {
     "name": "stderr",
     "output_type": "stream",
     "text": [
      "Epoch 70 Training: 100%|██████████| 313/313 [00:07<00:00, 44.25batch/s, loss=-13.4018, loss_avg=-13.3848, lr=0.000130]\n",
      "Epoch 70 Validating: 100%|██████████| 40/40 [00:01<00:00, 22.72batch/s, loss_avg=-10.0257, loss_val=-9.6421, mse=0.0068, r2=0.8169, relative_error=1.6059] \n"
     ]
    },
    {
     "name": "stdout",
     "output_type": "stream",
     "text": [
      " \n"
     ]
    },
    {
     "name": "stderr",
     "output_type": "stream",
     "text": [
      "Epoch 71 Training: 100%|██████████| 313/313 [00:06<00:00, 45.61batch/s, loss=-13.3166, loss_avg=-13.3983, lr=0.000130]\n",
      "Epoch 71 Validating: 100%|██████████| 40/40 [00:01<00:00, 23.36batch/s, loss_avg=-10.2802, loss_val=-10.0207, mse=0.0066, r2=0.8231, relative_error=1.7825]\n"
     ]
    },
    {
     "name": "stdout",
     "output_type": "stream",
     "text": [
      " \n"
     ]
    },
    {
     "name": "stderr",
     "output_type": "stream",
     "text": [
      "Epoch 72 Training: 100%|██████████| 313/313 [00:06<00:00, 45.53batch/s, loss=-13.3357, loss_avg=-13.4222, lr=0.000130]\n",
      "Epoch 72 Validating: 100%|██████████| 40/40 [00:01<00:00, 22.04batch/s, loss_avg=-9.9321, loss_val=-9.6437, mse=0.0067, r2=0.8189, relative_error=1.7732] \n"
     ]
    },
    {
     "name": "stdout",
     "output_type": "stream",
     "text": [
      " \n"
     ]
    },
    {
     "name": "stderr",
     "output_type": "stream",
     "text": [
      "Epoch 73 Training: 100%|██████████| 313/313 [00:06<00:00, 46.39batch/s, loss=-13.3412, loss_avg=-13.4301, lr=0.000130]\n",
      "Epoch 73 Validating: 100%|██████████| 40/40 [00:01<00:00, 22.53batch/s, loss_avg=-9.8172, loss_val=-9.5017, mse=0.0069, r2=0.8133, relative_error=1.6270] \n"
     ]
    },
    {
     "name": "stdout",
     "output_type": "stream",
     "text": [
      " \n"
     ]
    },
    {
     "name": "stderr",
     "output_type": "stream",
     "text": [
      "Epoch 74 Training: 100%|██████████| 313/313 [00:07<00:00, 44.63batch/s, loss=-13.2869, loss_avg=-13.4157, lr=0.000130]\n",
      "Epoch 74 Validating: 100%|██████████| 40/40 [00:01<00:00, 21.39batch/s, loss_avg=-10.2889, loss_val=-10.0957, mse=0.0065, r2=0.8244, relative_error=1.8360]\n"
     ]
    },
    {
     "name": "stdout",
     "output_type": "stream",
     "text": [
      " \n"
     ]
    },
    {
     "name": "stderr",
     "output_type": "stream",
     "text": [
      "Epoch 75 Training: 100%|██████████| 313/313 [00:06<00:00, 45.71batch/s, loss=-13.1417, loss_avg=-13.4437, lr=0.000130]\n",
      "Epoch 75 Validating: 100%|██████████| 40/40 [00:01<00:00, 21.83batch/s, loss_avg=-10.0338, loss_val=-9.5676, mse=0.0066, r2=0.8226, relative_error=1.5449] \n"
     ]
    },
    {
     "name": "stdout",
     "output_type": "stream",
     "text": [
      " \n"
     ]
    },
    {
     "name": "stderr",
     "output_type": "stream",
     "text": [
      "Epoch 76 Training: 100%|██████████| 313/313 [00:06<00:00, 46.03batch/s, loss=-13.1698, loss_avg=-13.4489, lr=0.000130]\n",
      "Epoch 76 Validating: 100%|██████████| 40/40 [00:01<00:00, 21.17batch/s, loss_avg=-10.2587, loss_val=-9.9318, mse=0.0065, r2=0.8237, relative_error=1.7059] \n"
     ]
    },
    {
     "name": "stdout",
     "output_type": "stream",
     "text": [
      " \n"
     ]
    },
    {
     "name": "stderr",
     "output_type": "stream",
     "text": [
      "Epoch 77 Training: 100%|██████████| 313/313 [00:06<00:00, 45.25batch/s, loss=-13.5137, loss_avg=-13.4688, lr=0.000130]\n",
      "Epoch 77 Validating: 100%|██████████| 40/40 [00:01<00:00, 22.93batch/s, loss_avg=-9.9466, loss_val=-9.5000, mse=0.0067, r2=0.8207, relative_error=2.6082] \n"
     ]
    },
    {
     "name": "stdout",
     "output_type": "stream",
     "text": [
      " \n"
     ]
    },
    {
     "name": "stderr",
     "output_type": "stream",
     "text": [
      "Epoch 78 Training: 100%|██████████| 313/313 [00:06<00:00, 45.51batch/s, loss=-13.6545, loss_avg=-13.4858, lr=0.000130]\n",
      "Epoch 78 Validating: 100%|██████████| 40/40 [00:01<00:00, 21.45batch/s, loss_avg=-10.2405, loss_val=-9.9525, mse=0.0063, r2=0.8265, relative_error=1.3312] \n"
     ]
    },
    {
     "name": "stdout",
     "output_type": "stream",
     "text": [
      "Save Best model: R2:0.8265, Loss Avg:-10.2405\n"
     ]
    },
    {
     "name": "stderr",
     "output_type": "stream",
     "text": [
      "Epoch 79 Training: 100%|██████████| 313/313 [00:06<00:00, 45.31batch/s, loss=-13.2313, loss_avg=-13.5558, lr=0.000091]\n",
      "Epoch 79 Validating: 100%|██████████| 40/40 [00:01<00:00, 22.13batch/s, loss_avg=-10.2314, loss_val=-10.1186, mse=0.0065, r2=0.8248, relative_error=2.0259]\n"
     ]
    },
    {
     "name": "stdout",
     "output_type": "stream",
     "text": [
      " \n"
     ]
    },
    {
     "name": "stderr",
     "output_type": "stream",
     "text": [
      "Epoch 80 Training: 100%|██████████| 313/313 [00:06<00:00, 45.93batch/s, loss=-13.2770, loss_avg=-13.5569, lr=0.000091]\n",
      "Epoch 80 Validating: 100%|██████████| 40/40 [00:01<00:00, 21.87batch/s, loss_avg=-10.1552, loss_val=-9.9116, mse=0.0063, r2=0.8298, relative_error=1.3766] \n"
     ]
    },
    {
     "name": "stdout",
     "output_type": "stream",
     "text": [
      "Save Best model: R2:0.8298, Loss Avg:-10.1552\n"
     ]
    },
    {
     "name": "stderr",
     "output_type": "stream",
     "text": [
      "Epoch 81 Training: 100%|██████████| 313/313 [00:06<00:00, 45.75batch/s, loss=-13.5516, loss_avg=-13.5735, lr=0.000091]\n",
      "Epoch 81 Validating: 100%|██████████| 40/40 [00:01<00:00, 21.51batch/s, loss_avg=-10.4818, loss_val=-10.2131, mse=0.0064, r2=0.8253, relative_error=1.4257]\n"
     ]
    },
    {
     "name": "stdout",
     "output_type": "stream",
     "text": [
      " \n"
     ]
    },
    {
     "name": "stderr",
     "output_type": "stream",
     "text": [
      "Epoch 82 Training: 100%|██████████| 313/313 [00:06<00:00, 44.95batch/s, loss=-13.2357, loss_avg=-13.5817, lr=0.000091]\n",
      "Epoch 82 Validating: 100%|██████████| 40/40 [00:01<00:00, 21.76batch/s, loss_avg=-10.4074, loss_val=-10.3047, mse=0.0063, r2=0.8303, relative_error=0.8307]\n"
     ]
    },
    {
     "name": "stdout",
     "output_type": "stream",
     "text": [
      "Save Best model: R2:0.8303, Loss Avg:-10.4074\n"
     ]
    },
    {
     "name": "stderr",
     "output_type": "stream",
     "text": [
      "Epoch 83 Training: 100%|██████████| 313/313 [00:06<00:00, 46.19batch/s, loss=-13.5627, loss_avg=-13.5877, lr=0.000091]\n",
      "Epoch 83 Validating: 100%|██████████| 40/40 [00:01<00:00, 22.57batch/s, loss_avg=-10.3063, loss_val=-10.1441, mse=0.0066, r2=0.8231, relative_error=1.6730]\n"
     ]
    },
    {
     "name": "stdout",
     "output_type": "stream",
     "text": [
      " \n"
     ]
    },
    {
     "name": "stderr",
     "output_type": "stream",
     "text": [
      "Epoch 84 Training: 100%|██████████| 313/313 [00:06<00:00, 45.46batch/s, loss=-13.2844, loss_avg=-13.6025, lr=0.000091]\n",
      "Epoch 84 Validating: 100%|██████████| 40/40 [00:01<00:00, 21.86batch/s, loss_avg=-10.3030, loss_val=-10.1088, mse=0.0063, r2=0.8292, relative_error=1.6434]\n"
     ]
    },
    {
     "name": "stdout",
     "output_type": "stream",
     "text": [
      " \n"
     ]
    },
    {
     "name": "stderr",
     "output_type": "stream",
     "text": [
      "Epoch 85 Training: 100%|██████████| 313/313 [00:06<00:00, 46.09batch/s, loss=-13.2603, loss_avg=-13.5926, lr=0.000091]\n",
      "Epoch 85 Validating: 100%|██████████| 40/40 [00:01<00:00, 22.74batch/s, loss_avg=-10.2788, loss_val=-10.0828, mse=0.0065, r2=0.8237, relative_error=1.7950]\n"
     ]
    },
    {
     "name": "stdout",
     "output_type": "stream",
     "text": [
      " \n"
     ]
    },
    {
     "name": "stderr",
     "output_type": "stream",
     "text": [
      "Epoch 86 Training: 100%|██████████| 313/313 [00:06<00:00, 45.13batch/s, loss=-13.6166, loss_avg=-13.6164, lr=0.000091]\n",
      "Epoch 86 Validating: 100%|██████████| 40/40 [00:01<00:00, 21.41batch/s, loss_avg=-10.4705, loss_val=-10.2782, mse=0.0064, r2=0.8274, relative_error=1.5400]\n"
     ]
    },
    {
     "name": "stdout",
     "output_type": "stream",
     "text": [
      " \n"
     ]
    },
    {
     "name": "stderr",
     "output_type": "stream",
     "text": [
      "Epoch 87 Training: 100%|██████████| 313/313 [00:06<00:00, 46.02batch/s, loss=-13.6625, loss_avg=-13.6323, lr=0.000091]\n",
      "Epoch 87 Validating: 100%|██████████| 40/40 [00:01<00:00, 23.00batch/s, loss_avg=-10.4560, loss_val=-10.1359, mse=0.0064, r2=0.8276, relative_error=1.4811]\n"
     ]
    },
    {
     "name": "stdout",
     "output_type": "stream",
     "text": [
      " \n"
     ]
    },
    {
     "name": "stderr",
     "output_type": "stream",
     "text": [
      "Epoch 88 Training: 100%|██████████| 313/313 [00:06<00:00, 46.08batch/s, loss=-13.3174, loss_avg=-13.6224, lr=0.000091]\n",
      "Epoch 88 Validating: 100%|██████████| 40/40 [00:01<00:00, 21.45batch/s, loss_avg=-10.6319, loss_val=-10.5437, mse=0.0066, r2=0.8224, relative_error=2.1500]\n"
     ]
    },
    {
     "name": "stdout",
     "output_type": "stream",
     "text": [
      " \n"
     ]
    },
    {
     "name": "stderr",
     "output_type": "stream",
     "text": [
      "Epoch 89 Training: 100%|██████████| 313/313 [00:06<00:00, 45.96batch/s, loss=-13.5790, loss_avg=-13.6271, lr=0.000091]\n",
      "Epoch 89 Validating: 100%|██████████| 40/40 [00:01<00:00, 22.63batch/s, loss_avg=-10.1994, loss_val=-9.9627, mse=0.0066, r2=0.8232, relative_error=2.3097] \n"
     ]
    },
    {
     "name": "stdout",
     "output_type": "stream",
     "text": [
      " \n"
     ]
    },
    {
     "name": "stderr",
     "output_type": "stream",
     "text": [
      "Epoch 90 Training: 100%|██████████| 313/313 [00:06<00:00, 45.61batch/s, loss=-13.3017, loss_avg=-13.6431, lr=0.000091]\n",
      "Epoch 90 Validating: 100%|██████████| 40/40 [00:01<00:00, 23.04batch/s, loss_avg=-10.3147, loss_val=-10.1363, mse=0.0064, r2=0.8274, relative_error=1.4590]\n"
     ]
    },
    {
     "name": "stdout",
     "output_type": "stream",
     "text": [
      " \n"
     ]
    },
    {
     "name": "stderr",
     "output_type": "stream",
     "text": [
      "Epoch 91 Training: 100%|██████████| 313/313 [00:07<00:00, 44.15batch/s, loss=-13.4911, loss_avg=-13.6487, lr=0.000091]\n",
      "Epoch 91 Validating: 100%|██████████| 40/40 [00:01<00:00, 20.88batch/s, loss_avg=-10.2650, loss_val=-10.0280, mse=0.0064, r2=0.8269, relative_error=1.5225]\n"
     ]
    },
    {
     "name": "stdout",
     "output_type": "stream",
     "text": [
      " \n"
     ]
    },
    {
     "name": "stderr",
     "output_type": "stream",
     "text": [
      "Epoch 92 Training: 100%|██████████| 313/313 [00:06<00:00, 47.02batch/s, loss=-13.2898, loss_avg=-13.6535, lr=0.000091]\n",
      "Epoch 92 Validating: 100%|██████████| 40/40 [00:01<00:00, 22.26batch/s, loss_avg=-10.2554, loss_val=-10.0555, mse=0.0065, r2=0.8268, relative_error=2.1581]\n"
     ]
    },
    {
     "name": "stdout",
     "output_type": "stream",
     "text": [
      " \n"
     ]
    },
    {
     "name": "stderr",
     "output_type": "stream",
     "text": [
      "Epoch 93 Training: 100%|██████████| 313/313 [00:06<00:00, 45.74batch/s, loss=-13.6474, loss_avg=-13.6391, lr=0.000091]\n",
      "Epoch 93 Validating: 100%|██████████| 40/40 [00:01<00:00, 21.70batch/s, loss_avg=-10.5172, loss_val=-10.2502, mse=0.0063, r2=0.8320, relative_error=1.7224]\n"
     ]
    },
    {
     "name": "stdout",
     "output_type": "stream",
     "text": [
      "Save Best model: R2:0.8320, Loss Avg:-10.5172\n"
     ]
    },
    {
     "name": "stderr",
     "output_type": "stream",
     "text": [
      "Epoch 94 Training: 100%|██████████| 313/313 [00:06<00:00, 46.73batch/s, loss=-13.5472, loss_avg=-13.6600, lr=0.000091]\n",
      "Epoch 94 Validating: 100%|██████████| 40/40 [00:01<00:00, 21.65batch/s, loss_avg=-10.1834, loss_val=-10.0304, mse=0.0066, r2=0.8227, relative_error=1.6648]\n"
     ]
    },
    {
     "name": "stdout",
     "output_type": "stream",
     "text": [
      " \n"
     ]
    },
    {
     "name": "stderr",
     "output_type": "stream",
     "text": [
      "Epoch 95 Training: 100%|██████████| 313/313 [00:06<00:00, 47.69batch/s, loss=-13.5033, loss_avg=-13.6764, lr=0.000091]\n",
      "Epoch 95 Validating: 100%|██████████| 40/40 [00:02<00:00, 19.90batch/s, loss_avg=-10.3606, loss_val=-9.9448, mse=0.0064, r2=0.8275, relative_error=2.6595] \n"
     ]
    },
    {
     "name": "stdout",
     "output_type": "stream",
     "text": [
      " \n"
     ]
    },
    {
     "name": "stderr",
     "output_type": "stream",
     "text": [
      "Epoch 96 Training: 100%|██████████| 313/313 [00:06<00:00, 45.32batch/s, loss=-13.5153, loss_avg=-13.6682, lr=0.000091]\n",
      "Epoch 96 Validating: 100%|██████████| 40/40 [00:01<00:00, 21.89batch/s, loss_avg=-10.6688, loss_val=-10.4258, mse=0.0065, r2=0.8245, relative_error=1.5291]\n"
     ]
    },
    {
     "name": "stdout",
     "output_type": "stream",
     "text": [
      " \n"
     ]
    },
    {
     "name": "stderr",
     "output_type": "stream",
     "text": [
      "Epoch 97 Training: 100%|██████████| 313/313 [00:06<00:00, 46.33batch/s, loss=-13.4136, loss_avg=-13.7019, lr=0.000091]\n",
      "Epoch 97 Validating: 100%|██████████| 40/40 [00:01<00:00, 22.52batch/s, loss_avg=-10.1570, loss_val=-10.0365, mse=0.0065, r2=0.8235, relative_error=1.4755]\n"
     ]
    },
    {
     "name": "stdout",
     "output_type": "stream",
     "text": [
      " \n"
     ]
    },
    {
     "name": "stderr",
     "output_type": "stream",
     "text": [
      "Epoch 98 Training: 100%|██████████| 313/313 [00:06<00:00, 45.60batch/s, loss=-13.6238, loss_avg=-13.6954, lr=0.000091]\n",
      "Epoch 98 Validating: 100%|██████████| 40/40 [00:01<00:00, 22.44batch/s, loss_avg=-10.6478, loss_val=-10.4713, mse=0.0064, r2=0.8281, relative_error=1.4783]\n"
     ]
    },
    {
     "name": "stdout",
     "output_type": "stream",
     "text": [
      " \n"
     ]
    },
    {
     "name": "stderr",
     "output_type": "stream",
     "text": [
      "Epoch 99 Training: 100%|██████████| 313/313 [00:06<00:00, 46.13batch/s, loss=-13.7351, loss_avg=-13.7090, lr=0.000091]\n",
      "Epoch 99 Validating: 100%|██████████| 40/40 [00:01<00:00, 20.75batch/s, loss_avg=-10.5800, loss_val=-10.5488, mse=0.0063, r2=0.8292, relative_error=1.9831]\n"
     ]
    },
    {
     "name": "stdout",
     "output_type": "stream",
     "text": [
      " \n"
     ]
    },
    {
     "name": "stderr",
     "output_type": "stream",
     "text": [
      "Epoch 100 Training: 100%|██████████| 313/313 [00:06<00:00, 46.39batch/s, loss=-13.4682, loss_avg=-13.7075, lr=0.000091]\n",
      "Epoch 100 Validating: 100%|██████████| 40/40 [00:01<00:00, 22.28batch/s, loss_avg=-10.6195, loss_val=-10.4401, mse=0.0064, r2=0.8267, relative_error=1.4460]\n"
     ]
    },
    {
     "name": "stdout",
     "output_type": "stream",
     "text": [
      " \n"
     ]
    },
    {
     "name": "stderr",
     "output_type": "stream",
     "text": [
      "Epoch 101 Training: 100%|██████████| 313/313 [00:06<00:00, 45.55batch/s, loss=-13.6254, loss_avg=-13.7157, lr=0.000091]\n",
      "Epoch 101 Validating: 100%|██████████| 40/40 [00:01<00:00, 20.46batch/s, loss_avg=-10.2130, loss_val=-9.8624, mse=0.0064, r2=0.8276, relative_error=1.1098] \n"
     ]
    },
    {
     "name": "stdout",
     "output_type": "stream",
     "text": [
      " \n"
     ]
    },
    {
     "name": "stderr",
     "output_type": "stream",
     "text": [
      "Epoch 102 Training: 100%|██████████| 313/313 [00:06<00:00, 46.84batch/s, loss=-13.4965, loss_avg=-13.7152, lr=0.000091]\n",
      "Epoch 102 Validating: 100%|██████████| 40/40 [00:01<00:00, 21.13batch/s, loss_avg=-10.2170, loss_val=-10.0690, mse=0.0065, r2=0.8253, relative_error=1.7315]\n"
     ]
    },
    {
     "name": "stdout",
     "output_type": "stream",
     "text": [
      " \n"
     ]
    },
    {
     "name": "stderr",
     "output_type": "stream",
     "text": [
      "Epoch 103 Training: 100%|██████████| 313/313 [00:06<00:00, 46.10batch/s, loss=-13.7132, loss_avg=-13.7209, lr=0.000091]\n",
      "Epoch 103 Validating: 100%|██████████| 40/40 [00:01<00:00, 22.03batch/s, loss_avg=-10.6572, loss_val=-10.6150, mse=0.0061, r2=0.8341, relative_error=1.1372]\n"
     ]
    },
    {
     "name": "stdout",
     "output_type": "stream",
     "text": [
      "Save Best model: R2:0.8341, Loss Avg:-10.6572\n"
     ]
    },
    {
     "name": "stderr",
     "output_type": "stream",
     "text": [
      "Epoch 104 Training: 100%|██████████| 313/313 [00:06<00:00, 46.34batch/s, loss=-13.5516, loss_avg=-13.7351, lr=0.000091]\n",
      "Epoch 104 Validating: 100%|██████████| 40/40 [00:01<00:00, 23.04batch/s, loss_avg=-10.1978, loss_val=-10.0321, mse=0.0065, r2=0.8244, relative_error=1.3158]\n"
     ]
    },
    {
     "name": "stdout",
     "output_type": "stream",
     "text": [
      " \n"
     ]
    },
    {
     "name": "stderr",
     "output_type": "stream",
     "text": [
      "Epoch 105 Training: 100%|██████████| 313/313 [00:07<00:00, 44.34batch/s, loss=-13.4196, loss_avg=-13.7230, lr=0.000091]\n",
      "Epoch 105 Validating: 100%|██████████| 40/40 [00:01<00:00, 21.94batch/s, loss_avg=-10.4530, loss_val=-10.2874, mse=0.0063, r2=0.8281, relative_error=1.5283]\n"
     ]
    },
    {
     "name": "stdout",
     "output_type": "stream",
     "text": [
      " \n"
     ]
    },
    {
     "name": "stderr",
     "output_type": "stream",
     "text": [
      "Epoch 106 Training: 100%|██████████| 313/313 [00:06<00:00, 46.85batch/s, loss=-13.5623, loss_avg=-13.7455, lr=0.000091]\n",
      "Epoch 106 Validating: 100%|██████████| 40/40 [00:01<00:00, 22.28batch/s, loss_avg=-10.4829, loss_val=-10.3901, mse=0.0064, r2=0.8274, relative_error=1.5053]\n"
     ]
    },
    {
     "name": "stdout",
     "output_type": "stream",
     "text": [
      " \n"
     ]
    },
    {
     "name": "stderr",
     "output_type": "stream",
     "text": [
      "Epoch 107 Training: 100%|██████████| 313/313 [00:06<00:00, 45.90batch/s, loss=-13.4196, loss_avg=-13.7446, lr=0.000091]\n",
      "Epoch 107 Validating: 100%|██████████| 40/40 [00:01<00:00, 22.53batch/s, loss_avg=-10.3706, loss_val=-10.1890, mse=0.0065, r2=0.8259, relative_error=1.0854]\n"
     ]
    },
    {
     "name": "stdout",
     "output_type": "stream",
     "text": [
      " \n"
     ]
    },
    {
     "name": "stderr",
     "output_type": "stream",
     "text": [
      "Epoch 108 Training: 100%|██████████| 313/313 [00:06<00:00, 46.00batch/s, loss=-13.5228, loss_avg=-13.7620, lr=0.000091]\n",
      "Epoch 108 Validating: 100%|██████████| 40/40 [00:01<00:00, 21.40batch/s, loss_avg=-10.5292, loss_val=-10.2387, mse=0.0063, r2=0.8312, relative_error=1.2835]\n"
     ]
    },
    {
     "name": "stdout",
     "output_type": "stream",
     "text": [
      " \n"
     ]
    },
    {
     "name": "stderr",
     "output_type": "stream",
     "text": [
      "Epoch 109 Training: 100%|██████████| 313/313 [00:06<00:00, 46.86batch/s, loss=-13.6631, loss_avg=-13.7526, lr=0.000091]\n",
      "Epoch 109 Validating: 100%|██████████| 40/40 [00:01<00:00, 22.55batch/s, loss_avg=-10.2580, loss_val=-10.1508, mse=0.0064, r2=0.8285, relative_error=1.2536]\n"
     ]
    },
    {
     "name": "stdout",
     "output_type": "stream",
     "text": [
      " \n"
     ]
    },
    {
     "name": "stderr",
     "output_type": "stream",
     "text": [
      "Epoch 110 Training: 100%|██████████| 313/313 [00:06<00:00, 46.30batch/s, loss=-13.7293, loss_avg=-13.7755, lr=0.000091]\n",
      "Epoch 110 Validating: 100%|██████████| 40/40 [00:01<00:00, 21.31batch/s, loss_avg=-10.4526, loss_val=-10.4181, mse=0.0064, r2=0.8274, relative_error=1.8407]\n"
     ]
    },
    {
     "name": "stdout",
     "output_type": "stream",
     "text": [
      " \n"
     ]
    },
    {
     "name": "stderr",
     "output_type": "stream",
     "text": [
      "Epoch 111 Training: 100%|██████████| 313/313 [00:06<00:00, 45.75batch/s, loss=-13.3593, loss_avg=-13.7704, lr=0.000091]\n",
      "Epoch 111 Validating: 100%|██████████| 40/40 [00:01<00:00, 23.06batch/s, loss_avg=-10.4450, loss_val=-10.2298, mse=0.0063, r2=0.8294, relative_error=1.0943]\n"
     ]
    },
    {
     "name": "stdout",
     "output_type": "stream",
     "text": [
      " \n"
     ]
    },
    {
     "name": "stderr",
     "output_type": "stream",
     "text": [
      "Epoch 112 Training: 100%|██████████| 313/313 [00:06<00:00, 45.58batch/s, loss=-13.6714, loss_avg=-13.7866, lr=0.000091]\n",
      "Epoch 112 Validating: 100%|██████████| 40/40 [00:01<00:00, 20.83batch/s, loss_avg=-10.3680, loss_val=-10.1852, mse=0.0064, r2=0.8282, relative_error=1.0433]\n"
     ]
    },
    {
     "name": "stdout",
     "output_type": "stream",
     "text": [
      " \n"
     ]
    },
    {
     "name": "stderr",
     "output_type": "stream",
     "text": [
      "Epoch 113 Training: 100%|██████████| 313/313 [00:06<00:00, 44.85batch/s, loss=-13.6626, loss_avg=-13.7822, lr=0.000091]\n",
      "Epoch 113 Validating: 100%|██████████| 40/40 [00:01<00:00, 21.93batch/s, loss_avg=-10.8323, loss_val=-10.5789, mse=0.0062, r2=0.8338, relative_error=1.3464]\n"
     ]
    },
    {
     "name": "stdout",
     "output_type": "stream",
     "text": [
      " \n"
     ]
    },
    {
     "name": "stderr",
     "output_type": "stream",
     "text": [
      "Epoch 114 Training: 100%|██████████| 313/313 [00:06<00:00, 46.97batch/s, loss=-13.4709, loss_avg=-13.7788, lr=0.000091]\n",
      "Epoch 114 Validating: 100%|██████████| 40/40 [00:01<00:00, 22.85batch/s, loss_avg=-10.8681, loss_val=-10.6662, mse=0.0063, r2=0.8297, relative_error=1.4026]\n"
     ]
    },
    {
     "name": "stdout",
     "output_type": "stream",
     "text": [
      " \n"
     ]
    },
    {
     "name": "stderr",
     "output_type": "stream",
     "text": [
      "Epoch 115 Training: 100%|██████████| 313/313 [00:06<00:00, 45.86batch/s, loss=-13.8000, loss_avg=-13.8060, lr=0.000091]\n",
      "Epoch 115 Validating: 100%|██████████| 40/40 [00:01<00:00, 21.31batch/s, loss_avg=-10.5240, loss_val=-10.4619, mse=0.0065, r2=0.8255, relative_error=1.2721]\n"
     ]
    },
    {
     "name": "stdout",
     "output_type": "stream",
     "text": [
      " \n"
     ]
    },
    {
     "name": "stderr",
     "output_type": "stream",
     "text": [
      "Epoch 116 Training: 100%|██████████| 313/313 [00:06<00:00, 46.48batch/s, loss=-13.7879, loss_avg=-13.8060, lr=0.000091]\n",
      "Epoch 116 Validating: 100%|██████████| 40/40 [00:01<00:00, 22.58batch/s, loss_avg=-10.3363, loss_val=-10.2291, mse=0.0061, r2=0.8327, relative_error=1.3784]\n"
     ]
    },
    {
     "name": "stdout",
     "output_type": "stream",
     "text": [
      " \n"
     ]
    },
    {
     "name": "stderr",
     "output_type": "stream",
     "text": [
      "Epoch 117 Training: 100%|██████████| 313/313 [00:06<00:00, 46.83batch/s, loss=-13.6029, loss_avg=-13.8075, lr=0.000091]\n",
      "Epoch 117 Validating: 100%|██████████| 40/40 [00:01<00:00, 20.61batch/s, loss_avg=-10.4589, loss_val=-10.3899, mse=0.0066, r2=0.8240, relative_error=1.1644]\n"
     ]
    },
    {
     "name": "stdout",
     "output_type": "stream",
     "text": [
      " \n"
     ]
    },
    {
     "name": "stderr",
     "output_type": "stream",
     "text": [
      "Epoch 118 Training: 100%|██████████| 313/313 [00:07<00:00, 40.30batch/s, loss=-13.6254, loss_avg=-13.8291, lr=0.000091]\n",
      "Epoch 118 Validating: 100%|██████████| 40/40 [00:01<00:00, 20.74batch/s, loss_avg=-10.6959, loss_val=-10.6404, mse=0.0065, r2=0.8250, relative_error=1.5607]\n"
     ]
    },
    {
     "name": "stdout",
     "output_type": "stream",
     "text": [
      " \n"
     ]
    },
    {
     "name": "stderr",
     "output_type": "stream",
     "text": [
      "Epoch 119 Training: 100%|██████████| 313/313 [00:07<00:00, 42.26batch/s, loss=-13.7949, loss_avg=-13.8116, lr=0.000091]\n",
      "Epoch 119 Validating: 100%|██████████| 40/40 [00:02<00:00, 19.94batch/s, loss_avg=-10.5397, loss_val=-10.3368, mse=0.0062, r2=0.8342, relative_error=1.7381]\n"
     ]
    },
    {
     "name": "stdout",
     "output_type": "stream",
     "text": [
      "Save Best model: R2:0.8342, Loss Avg:-10.5397\n"
     ]
    },
    {
     "name": "stderr",
     "output_type": "stream",
     "text": [
      "Epoch 120 Training: 100%|██████████| 313/313 [00:07<00:00, 40.83batch/s, loss=-13.4900, loss_avg=-13.8272, lr=0.000091]\n",
      "Epoch 120 Validating: 100%|██████████| 40/40 [00:01<00:00, 20.75batch/s, loss_avg=-10.2573, loss_val=-10.1336, mse=0.0065, r2=0.8266, relative_error=1.1432]\n"
     ]
    },
    {
     "name": "stdout",
     "output_type": "stream",
     "text": [
      " \n"
     ]
    },
    {
     "name": "stderr",
     "output_type": "stream",
     "text": [
      "Epoch 121 Training: 100%|██████████| 313/313 [00:07<00:00, 42.24batch/s, loss=-13.9361, loss_avg=-13.8340, lr=0.000091]\n",
      "Epoch 121 Validating: 100%|██████████| 40/40 [00:02<00:00, 19.93batch/s, loss_avg=-10.6148, loss_val=-10.4653, mse=0.0063, r2=0.8284, relative_error=1.1276]\n"
     ]
    },
    {
     "name": "stdout",
     "output_type": "stream",
     "text": [
      " \n"
     ]
    },
    {
     "name": "stderr",
     "output_type": "stream",
     "text": [
      "Epoch 122 Training: 100%|██████████| 313/313 [00:07<00:00, 43.12batch/s, loss=-13.4813, loss_avg=-13.8355, lr=0.000091]\n",
      "Epoch 122 Validating: 100%|██████████| 40/40 [00:01<00:00, 21.84batch/s, loss_avg=-10.4071, loss_val=-10.3196, mse=0.0063, r2=0.8312, relative_error=1.9021]\n"
     ]
    },
    {
     "name": "stdout",
     "output_type": "stream",
     "text": [
      " \n"
     ]
    },
    {
     "name": "stderr",
     "output_type": "stream",
     "text": [
      "Epoch 123 Training: 100%|██████████| 313/313 [00:06<00:00, 45.43batch/s, loss=-13.6207, loss_avg=-13.8465, lr=0.000091]\n",
      "Epoch 123 Validating: 100%|██████████| 40/40 [00:01<00:00, 20.63batch/s, loss_avg=-10.3355, loss_val=-10.2139, mse=0.0064, r2=0.8286, relative_error=1.4013]\n"
     ]
    },
    {
     "name": "stdout",
     "output_type": "stream",
     "text": [
      " \n"
     ]
    },
    {
     "name": "stderr",
     "output_type": "stream",
     "text": [
      "Epoch 124 Training: 100%|██████████| 313/313 [00:06<00:00, 46.62batch/s, loss=-13.6953, loss_avg=-13.8512, lr=0.000091]\n",
      "Epoch 124 Validating: 100%|██████████| 40/40 [00:01<00:00, 21.62batch/s, loss_avg=-10.5469, loss_val=-10.5338, mse=0.0063, r2=0.8288, relative_error=1.1771]\n"
     ]
    },
    {
     "name": "stdout",
     "output_type": "stream",
     "text": [
      " \n"
     ]
    },
    {
     "name": "stderr",
     "output_type": "stream",
     "text": [
      "Epoch 125 Training: 100%|██████████| 313/313 [00:06<00:00, 45.24batch/s, loss=-13.7405, loss_avg=-13.8526, lr=0.000091]\n",
      "Epoch 125 Validating: 100%|██████████| 40/40 [00:01<00:00, 20.54batch/s, loss_avg=-10.3639, loss_val=-10.3353, mse=0.0063, r2=0.8294, relative_error=1.7854]\n"
     ]
    },
    {
     "name": "stdout",
     "output_type": "stream",
     "text": [
      " \n"
     ]
    },
    {
     "name": "stderr",
     "output_type": "stream",
     "text": [
      "Epoch 126 Training: 100%|██████████| 313/313 [00:07<00:00, 44.33batch/s, loss=-13.5701, loss_avg=-13.8540, lr=0.000091]\n",
      "Epoch 126 Validating: 100%|██████████| 40/40 [00:01<00:00, 21.95batch/s, loss_avg=-10.4774, loss_val=-10.4376, mse=0.0063, r2=0.8307, relative_error=1.2389]\n"
     ]
    },
    {
     "name": "stdout",
     "output_type": "stream",
     "text": [
      " \n"
     ]
    },
    {
     "name": "stderr",
     "output_type": "stream",
     "text": [
      "Epoch 127 Training: 100%|██████████| 313/313 [00:07<00:00, 43.33batch/s, loss=-13.5421, loss_avg=-13.8620, lr=0.000091]\n",
      "Epoch 127 Validating: 100%|██████████| 40/40 [00:02<00:00, 18.94batch/s, loss_avg=-10.7756, loss_val=-10.6909, mse=0.0062, r2=0.8319, relative_error=2.5965]\n"
     ]
    },
    {
     "name": "stdout",
     "output_type": "stream",
     "text": [
      " \n"
     ]
    },
    {
     "name": "stderr",
     "output_type": "stream",
     "text": [
      "Epoch 128 Training: 100%|██████████| 313/313 [00:07<00:00, 40.52batch/s, loss=-13.7623, loss_avg=-13.8731, lr=0.000091]\n",
      "Epoch 128 Validating: 100%|██████████| 40/40 [00:02<00:00, 19.75batch/s, loss_avg=-10.1766, loss_val=-10.1459, mse=0.0063, r2=0.8305, relative_error=0.9952]\n"
     ]
    },
    {
     "name": "stdout",
     "output_type": "stream",
     "text": [
      " \n"
     ]
    },
    {
     "name": "stderr",
     "output_type": "stream",
     "text": [
      "Epoch 129 Training: 100%|██████████| 313/313 [00:07<00:00, 42.41batch/s, loss=-13.6718, loss_avg=-13.8755, lr=0.000091]\n",
      "Epoch 129 Validating: 100%|██████████| 40/40 [00:01<00:00, 20.82batch/s, loss_avg=-10.3989, loss_val=-10.4054, mse=0.0064, r2=0.8289, relative_error=1.0643]\n"
     ]
    },
    {
     "name": "stdout",
     "output_type": "stream",
     "text": [
      " \n"
     ]
    },
    {
     "name": "stderr",
     "output_type": "stream",
     "text": [
      "Epoch 130 Training: 100%|██████████| 313/313 [00:07<00:00, 43.02batch/s, loss=-13.7465, loss_avg=-13.8832, lr=0.000091]\n",
      "Epoch 130 Validating: 100%|██████████| 40/40 [00:01<00:00, 21.66batch/s, loss_avg=-10.5575, loss_val=-10.5301, mse=0.0064, r2=0.8286, relative_error=0.8580]\n"
     ]
    },
    {
     "name": "stdout",
     "output_type": "stream",
     "text": [
      " \n"
     ]
    },
    {
     "name": "stderr",
     "output_type": "stream",
     "text": [
      "Epoch 131 Training: 100%|██████████| 313/313 [00:06<00:00, 47.12batch/s, loss=-13.3484, loss_avg=-13.8724, lr=0.000091]\n",
      "Epoch 131 Validating: 100%|██████████| 40/40 [00:01<00:00, 21.74batch/s, loss_avg=-10.3747, loss_val=-10.3739, mse=0.0063, r2=0.8303, relative_error=1.3158]\n"
     ]
    },
    {
     "name": "stdout",
     "output_type": "stream",
     "text": [
      " \n"
     ]
    },
    {
     "name": "stderr",
     "output_type": "stream",
     "text": [
      "Epoch 132 Training: 100%|██████████| 313/313 [00:06<00:00, 45.71batch/s, loss=-13.5793, loss_avg=-13.8819, lr=0.000091]\n",
      "Epoch 132 Validating: 100%|██████████| 40/40 [00:01<00:00, 21.32batch/s, loss_avg=-10.5777, loss_val=-10.4053, mse=0.0062, r2=0.8311, relative_error=1.0327]\n"
     ]
    },
    {
     "name": "stdout",
     "output_type": "stream",
     "text": [
      " \n"
     ]
    },
    {
     "name": "stderr",
     "output_type": "stream",
     "text": [
      "Epoch 133 Training: 100%|██████████| 313/313 [00:06<00:00, 46.55batch/s, loss=-13.7852, loss_avg=-13.9015, lr=0.000091]\n",
      "Epoch 133 Validating: 100%|██████████| 40/40 [00:01<00:00, 22.14batch/s, loss_avg=-10.9032, loss_val=-10.8137, mse=0.0061, r2=0.8333, relative_error=0.9732]\n"
     ]
    },
    {
     "name": "stdout",
     "output_type": "stream",
     "text": [
      " \n"
     ]
    },
    {
     "name": "stderr",
     "output_type": "stream",
     "text": [
      "Epoch 134 Training: 100%|██████████| 313/313 [00:06<00:00, 46.95batch/s, loss=-13.5866, loss_avg=-13.8884, lr=0.000091]\n",
      "Epoch 134 Validating: 100%|██████████| 40/40 [00:01<00:00, 21.71batch/s, loss_avg=-10.2109, loss_val=-10.2302, mse=0.0063, r2=0.8272, relative_error=1.1284]\n"
     ]
    },
    {
     "name": "stdout",
     "output_type": "stream",
     "text": [
      " \n"
     ]
    },
    {
     "name": "stderr",
     "output_type": "stream",
     "text": [
      "Epoch 135 Training: 100%|██████████| 313/313 [00:06<00:00, 46.65batch/s, loss=-13.6094, loss_avg=-13.8950, lr=0.000091]\n",
      "Epoch 135 Validating: 100%|██████████| 40/40 [00:01<00:00, 21.16batch/s, loss_avg=-10.4239, loss_val=-10.4390, mse=0.0063, r2=0.8305, relative_error=0.9996]\n"
     ]
    },
    {
     "name": "stdout",
     "output_type": "stream",
     "text": [
      " \n"
     ]
    },
    {
     "name": "stderr",
     "output_type": "stream",
     "text": [
      "Epoch 136 Training: 100%|██████████| 313/313 [00:06<00:00, 47.90batch/s, loss=-13.7120, loss_avg=-13.9135, lr=0.000091]\n",
      "Epoch 136 Validating: 100%|██████████| 40/40 [00:01<00:00, 22.02batch/s, loss_avg=-10.5088, loss_val=-10.5999, mse=0.0063, r2=0.8312, relative_error=0.9929]\n"
     ]
    },
    {
     "name": "stdout",
     "output_type": "stream",
     "text": [
      " \n"
     ]
    },
    {
     "name": "stderr",
     "output_type": "stream",
     "text": [
      "Epoch 137 Training: 100%|██████████| 313/313 [00:06<00:00, 46.20batch/s, loss=-13.7418, loss_avg=-13.9114, lr=0.000091]\n",
      "Epoch 137 Validating: 100%|██████████| 40/40 [00:01<00:00, 21.68batch/s, loss_avg=-10.5846, loss_val=-10.5712, mse=0.0064, r2=0.8269, relative_error=0.8401]\n"
     ]
    },
    {
     "name": "stdout",
     "output_type": "stream",
     "text": [
      " \n"
     ]
    },
    {
     "name": "stderr",
     "output_type": "stream",
     "text": [
      "Epoch 138 Training: 100%|██████████| 313/313 [00:07<00:00, 44.13batch/s, loss=-13.3929, loss_avg=-13.9144, lr=0.000091]\n",
      "Epoch 138 Validating: 100%|██████████| 40/40 [00:01<00:00, 20.03batch/s, loss_avg=-10.1704, loss_val=-10.0847, mse=0.0064, r2=0.8279, relative_error=0.8873]\n"
     ]
    },
    {
     "name": "stdout",
     "output_type": "stream",
     "text": [
      " \n"
     ]
    },
    {
     "name": "stderr",
     "output_type": "stream",
     "text": [
      "Epoch 139 Training: 100%|██████████| 313/313 [00:06<00:00, 47.18batch/s, loss=-13.9037, loss_avg=-13.9705, lr=0.000064]\n",
      "Epoch 139 Validating: 100%|██████████| 40/40 [00:01<00:00, 22.49batch/s, loss_avg=-10.6614, loss_val=-10.6192, mse=0.0061, r2=0.8340, relative_error=1.8024]\n"
     ]
    },
    {
     "name": "stdout",
     "output_type": "stream",
     "text": [
      " \n"
     ]
    },
    {
     "name": "stderr",
     "output_type": "stream",
     "text": [
      "Epoch 140 Training: 100%|██████████| 313/313 [00:06<00:00, 45.86batch/s, loss=-13.8803, loss_avg=-13.9816, lr=0.000064]\n",
      "Epoch 140 Validating: 100%|██████████| 40/40 [00:01<00:00, 21.84batch/s, loss_avg=-10.4864, loss_val=-10.6614, mse=0.0062, r2=0.8301, relative_error=1.1133]\n"
     ]
    },
    {
     "name": "stdout",
     "output_type": "stream",
     "text": [
      " \n"
     ]
    },
    {
     "name": "stderr",
     "output_type": "stream",
     "text": [
      "Epoch 141 Training: 100%|██████████| 313/313 [00:06<00:00, 47.57batch/s, loss=-13.8170, loss_avg=-13.9834, lr=0.000064]\n",
      "Epoch 141 Validating: 100%|██████████| 40/40 [00:01<00:00, 21.88batch/s, loss_avg=-10.6672, loss_val=-10.7708, mse=0.0061, r2=0.8344, relative_error=1.3923]\n"
     ]
    },
    {
     "name": "stdout",
     "output_type": "stream",
     "text": [
      "Save Best model: R2:0.8344, Loss Avg:-10.6672\n"
     ]
    },
    {
     "name": "stderr",
     "output_type": "stream",
     "text": [
      "Epoch 142 Training: 100%|██████████| 313/313 [00:06<00:00, 45.42batch/s, loss=-13.7448, loss_avg=-13.9793, lr=0.000064]\n",
      "Epoch 142 Validating: 100%|██████████| 40/40 [00:01<00:00, 23.15batch/s, loss_avg=-11.1361, loss_val=-11.0422, mse=0.0061, r2=0.8349, relative_error=1.1424]\n"
     ]
    },
    {
     "name": "stdout",
     "output_type": "stream",
     "text": [
      "Save Best model: R2:0.8349, Loss Avg:-11.1361\n"
     ]
    },
    {
     "name": "stderr",
     "output_type": "stream",
     "text": [
      "Epoch 143 Training: 100%|██████████| 313/313 [00:06<00:00, 45.61batch/s, loss=-13.7314, loss_avg=-14.0026, lr=0.000064]\n",
      "Epoch 143 Validating: 100%|██████████| 40/40 [00:01<00:00, 20.47batch/s, loss_avg=-10.7392, loss_val=-10.8531, mse=0.0060, r2=0.8363, relative_error=1.3809]\n"
     ]
    },
    {
     "name": "stdout",
     "output_type": "stream",
     "text": [
      "Save Best model: R2:0.8363, Loss Avg:-10.7392\n"
     ]
    },
    {
     "name": "stderr",
     "output_type": "stream",
     "text": [
      "Epoch 144 Training: 100%|██████████| 313/313 [00:06<00:00, 45.85batch/s, loss=-13.7447, loss_avg=-13.9933, lr=0.000064]\n",
      "Epoch 144 Validating: 100%|██████████| 40/40 [00:01<00:00, 22.57batch/s, loss_avg=-10.9263, loss_val=-11.0715, mse=0.0062, r2=0.8320, relative_error=0.9012]\n"
     ]
    },
    {
     "name": "stdout",
     "output_type": "stream",
     "text": [
      " \n"
     ]
    },
    {
     "name": "stderr",
     "output_type": "stream",
     "text": [
      "Epoch 145 Training: 100%|██████████| 313/313 [00:06<00:00, 46.80batch/s, loss=-13.8303, loss_avg=-14.0086, lr=0.000064]\n",
      "Epoch 145 Validating: 100%|██████████| 40/40 [00:01<00:00, 23.49batch/s, loss_avg=-10.8692, loss_val=-11.0791, mse=0.0062, r2=0.8341, relative_error=1.1477]\n"
     ]
    },
    {
     "name": "stdout",
     "output_type": "stream",
     "text": [
      " \n"
     ]
    },
    {
     "name": "stderr",
     "output_type": "stream",
     "text": [
      "Epoch 146 Training: 100%|██████████| 313/313 [00:06<00:00, 45.65batch/s, loss=-13.8825, loss_avg=-13.9994, lr=0.000064]\n",
      "Epoch 146 Validating: 100%|██████████| 40/40 [00:01<00:00, 21.01batch/s, loss_avg=-10.8382, loss_val=-10.8825, mse=0.0061, r2=0.8334, relative_error=0.9173]\n"
     ]
    },
    {
     "name": "stdout",
     "output_type": "stream",
     "text": [
      " \n"
     ]
    },
    {
     "name": "stderr",
     "output_type": "stream",
     "text": [
      "Epoch 147 Training: 100%|██████████| 313/313 [00:06<00:00, 46.37batch/s, loss=-13.7276, loss_avg=-14.0149, lr=0.000064]\n",
      "Epoch 147 Validating: 100%|██████████| 40/40 [00:01<00:00, 21.17batch/s, loss_avg=-10.8472, loss_val=-11.0611, mse=0.0060, r2=0.8358, relative_error=1.4554]\n"
     ]
    },
    {
     "name": "stdout",
     "output_type": "stream",
     "text": [
      " \n"
     ]
    },
    {
     "name": "stderr",
     "output_type": "stream",
     "text": [
      "Epoch 148 Training: 100%|██████████| 313/313 [00:06<00:00, 47.08batch/s, loss=-14.0048, loss_avg=-14.0111, lr=0.000064]\n",
      "Epoch 148 Validating: 100%|██████████| 40/40 [00:01<00:00, 21.13batch/s, loss_avg=-11.1374, loss_val=-11.1172, mse=0.0060, r2=0.8364, relative_error=1.7327]\n"
     ]
    },
    {
     "name": "stdout",
     "output_type": "stream",
     "text": [
      "Save Best model: R2:0.8364, Loss Avg:-11.1374\n"
     ]
    },
    {
     "name": "stderr",
     "output_type": "stream",
     "text": [
      "Epoch 149 Training: 100%|██████████| 313/313 [00:06<00:00, 47.02batch/s, loss=-13.8269, loss_avg=-14.0128, lr=0.000064]\n",
      "Epoch 149 Validating: 100%|██████████| 40/40 [00:01<00:00, 20.62batch/s, loss_avg=-10.7156, loss_val=-10.8042, mse=0.0063, r2=0.8301, relative_error=1.3334]\n"
     ]
    },
    {
     "name": "stdout",
     "output_type": "stream",
     "text": [
      " \n"
     ]
    },
    {
     "name": "stderr",
     "output_type": "stream",
     "text": [
      "Epoch 150 Training: 100%|██████████| 313/313 [00:06<00:00, 47.66batch/s, loss=-13.8909, loss_avg=-14.0161, lr=0.000064]\n",
      "Epoch 150 Validating: 100%|██████████| 40/40 [00:01<00:00, 21.92batch/s, loss_avg=-10.9065, loss_val=-11.0390, mse=0.0061, r2=0.8336, relative_error=0.4808]\n"
     ]
    },
    {
     "name": "stdout",
     "output_type": "stream",
     "text": [
      " \n"
     ]
    },
    {
     "name": "stderr",
     "output_type": "stream",
     "text": [
      "Epoch 151 Training: 100%|██████████| 313/313 [00:06<00:00, 47.02batch/s, loss=-13.8719, loss_avg=-14.0136, lr=0.000064]\n",
      "Epoch 151 Validating: 100%|██████████| 40/40 [00:01<00:00, 21.83batch/s, loss_avg=-10.9655, loss_val=-11.0904, mse=0.0062, r2=0.8326, relative_error=0.9829]\n"
     ]
    },
    {
     "name": "stdout",
     "output_type": "stream",
     "text": [
      " \n"
     ]
    },
    {
     "name": "stderr",
     "output_type": "stream",
     "text": [
      "Epoch 152 Training: 100%|██████████| 313/313 [00:06<00:00, 47.23batch/s, loss=-13.7685, loss_avg=-14.0258, lr=0.000064]\n",
      "Epoch 152 Validating: 100%|██████████| 40/40 [00:01<00:00, 22.32batch/s, loss_avg=-10.8041, loss_val=-10.8176, mse=0.0059, r2=0.8398, relative_error=1.7289]\n"
     ]
    },
    {
     "name": "stdout",
     "output_type": "stream",
     "text": [
      "Save Best model: R2:0.8398, Loss Avg:-10.8041\n"
     ]
    },
    {
     "name": "stderr",
     "output_type": "stream",
     "text": [
      "Epoch 153 Training: 100%|██████████| 313/313 [00:06<00:00, 45.97batch/s, loss=-13.9991, loss_avg=-14.0289, lr=0.000064]\n",
      "Epoch 153 Validating: 100%|██████████| 40/40 [00:02<00:00, 19.85batch/s, loss_avg=-10.7205, loss_val=-10.8321, mse=0.0061, r2=0.8349, relative_error=1.5175]\n"
     ]
    },
    {
     "name": "stdout",
     "output_type": "stream",
     "text": [
      " \n"
     ]
    },
    {
     "name": "stderr",
     "output_type": "stream",
     "text": [
      "Epoch 154 Training: 100%|██████████| 313/313 [00:06<00:00, 47.49batch/s, loss=-13.7961, loss_avg=-14.0226, lr=0.000064]\n",
      "Epoch 154 Validating: 100%|██████████| 40/40 [00:01<00:00, 21.90batch/s, loss_avg=-10.8119, loss_val=-10.7990, mse=0.0059, r2=0.8405, relative_error=1.3200]\n"
     ]
    },
    {
     "name": "stdout",
     "output_type": "stream",
     "text": [
      "Save Best model: R2:0.8405, Loss Avg:-10.8119\n"
     ]
    },
    {
     "name": "stderr",
     "output_type": "stream",
     "text": [
      "Epoch 155 Training: 100%|██████████| 313/313 [00:06<00:00, 46.82batch/s, loss=-13.8406, loss_avg=-14.0421, lr=0.000064]\n",
      "Epoch 155 Validating: 100%|██████████| 40/40 [00:01<00:00, 22.54batch/s, loss_avg=-10.9539, loss_val=-11.1676, mse=0.0062, r2=0.8323, relative_error=1.5938]\n"
     ]
    },
    {
     "name": "stdout",
     "output_type": "stream",
     "text": [
      " \n"
     ]
    },
    {
     "name": "stderr",
     "output_type": "stream",
     "text": [
      "Epoch 156 Training: 100%|██████████| 313/313 [00:06<00:00, 46.66batch/s, loss=-14.1191, loss_avg=-14.0268, lr=0.000064]\n",
      "Epoch 156 Validating: 100%|██████████| 40/40 [00:01<00:00, 21.74batch/s, loss_avg=-10.5935, loss_val=-10.6283, mse=0.0061, r2=0.8335, relative_error=1.0754]\n"
     ]
    },
    {
     "name": "stdout",
     "output_type": "stream",
     "text": [
      " \n"
     ]
    },
    {
     "name": "stderr",
     "output_type": "stream",
     "text": [
      "Epoch 157 Training: 100%|██████████| 313/313 [00:06<00:00, 46.42batch/s, loss=-13.9448, loss_avg=-14.0396, lr=0.000064]\n",
      "Epoch 157 Validating: 100%|██████████| 40/40 [00:01<00:00, 22.53batch/s, loss_avg=-10.6975, loss_val=-10.8558, mse=0.0062, r2=0.8333, relative_error=1.4211]\n"
     ]
    },
    {
     "name": "stdout",
     "output_type": "stream",
     "text": [
      " \n"
     ]
    },
    {
     "name": "stderr",
     "output_type": "stream",
     "text": [
      "Epoch 158 Training: 100%|██████████| 313/313 [00:06<00:00, 47.34batch/s, loss=-13.8190, loss_avg=-14.0590, lr=0.000064]\n",
      "Epoch 158 Validating: 100%|██████████| 40/40 [00:01<00:00, 20.43batch/s, loss_avg=-10.6370, loss_val=-10.7680, mse=0.0062, r2=0.8332, relative_error=0.7823]\n"
     ]
    },
    {
     "name": "stdout",
     "output_type": "stream",
     "text": [
      " \n"
     ]
    },
    {
     "name": "stderr",
     "output_type": "stream",
     "text": [
      "Epoch 159 Training: 100%|██████████| 313/313 [00:06<00:00, 46.76batch/s, loss=-13.9683, loss_avg=-14.0556, lr=0.000064]\n",
      "Epoch 159 Validating: 100%|██████████| 40/40 [00:01<00:00, 20.43batch/s, loss_avg=-10.7160, loss_val=-10.9570, mse=0.0062, r2=0.8317, relative_error=1.3546]\n"
     ]
    },
    {
     "name": "stdout",
     "output_type": "stream",
     "text": [
      " \n"
     ]
    },
    {
     "name": "stderr",
     "output_type": "stream",
     "text": [
      "Epoch 160 Training: 100%|██████████| 313/313 [00:06<00:00, 46.66batch/s, loss=-13.8463, loss_avg=-14.0492, lr=0.000064]\n",
      "Epoch 160 Validating: 100%|██████████| 40/40 [00:01<00:00, 21.06batch/s, loss_avg=-10.4911, loss_val=-10.6561, mse=0.0061, r2=0.8337, relative_error=1.2553]\n"
     ]
    },
    {
     "name": "stdout",
     "output_type": "stream",
     "text": [
      " \n"
     ]
    },
    {
     "name": "stderr",
     "output_type": "stream",
     "text": [
      "Epoch 161 Training: 100%|██████████| 313/313 [00:06<00:00, 46.58batch/s, loss=-14.0052, loss_avg=-14.0554, lr=0.000064]\n",
      "Epoch 161 Validating: 100%|██████████| 40/40 [00:01<00:00, 20.11batch/s, loss_avg=-10.7164, loss_val=-10.9200, mse=0.0061, r2=0.8349, relative_error=1.2070]\n"
     ]
    },
    {
     "name": "stdout",
     "output_type": "stream",
     "text": [
      " \n"
     ]
    },
    {
     "name": "stderr",
     "output_type": "stream",
     "text": [
      "Epoch 162 Training: 100%|██████████| 313/313 [00:06<00:00, 46.86batch/s, loss=-13.8829, loss_avg=-14.0573, lr=0.000064]\n",
      "Epoch 162 Validating: 100%|██████████| 40/40 [00:01<00:00, 21.24batch/s, loss_avg=-10.9454, loss_val=-11.2307, mse=0.0061, r2=0.8349, relative_error=1.8542]\n"
     ]
    },
    {
     "name": "stdout",
     "output_type": "stream",
     "text": [
      " \n"
     ]
    },
    {
     "name": "stderr",
     "output_type": "stream",
     "text": [
      "Epoch 163 Training: 100%|██████████| 313/313 [00:06<00:00, 47.00batch/s, loss=-13.9268, loss_avg=-14.0542, lr=0.000064]\n",
      "Epoch 163 Validating: 100%|██████████| 40/40 [00:01<00:00, 22.17batch/s, loss_avg=-10.7462, loss_val=-10.7924, mse=0.0060, r2=0.8362, relative_error=0.9690]\n"
     ]
    },
    {
     "name": "stdout",
     "output_type": "stream",
     "text": [
      " \n"
     ]
    },
    {
     "name": "stderr",
     "output_type": "stream",
     "text": [
      "Epoch 164 Training: 100%|██████████| 313/313 [00:06<00:00, 47.68batch/s, loss=-13.6427, loss_avg=-14.0725, lr=0.000064]\n",
      "Epoch 164 Validating: 100%|██████████| 40/40 [00:01<00:00, 20.98batch/s, loss_avg=-10.7576, loss_val=-10.9519, mse=0.0061, r2=0.8350, relative_error=1.4336]\n"
     ]
    },
    {
     "name": "stdout",
     "output_type": "stream",
     "text": [
      " \n"
     ]
    },
    {
     "name": "stderr",
     "output_type": "stream",
     "text": [
      "Epoch 165 Training: 100%|██████████| 313/313 [00:06<00:00, 47.17batch/s, loss=-13.8109, loss_avg=-14.0637, lr=0.000064]\n",
      "Epoch 165 Validating: 100%|██████████| 40/40 [00:01<00:00, 22.48batch/s, loss_avg=-10.5413, loss_val=-10.6775, mse=0.0060, r2=0.8365, relative_error=0.6233]\n"
     ]
    },
    {
     "name": "stdout",
     "output_type": "stream",
     "text": [
      " \n"
     ]
    },
    {
     "name": "stderr",
     "output_type": "stream",
     "text": [
      "Epoch 166 Training: 100%|██████████| 313/313 [00:06<00:00, 46.99batch/s, loss=-13.7916, loss_avg=-14.0703, lr=0.000064]\n",
      "Epoch 166 Validating: 100%|██████████| 40/40 [00:01<00:00, 22.61batch/s, loss_avg=-10.5119, loss_val=-10.6853, mse=0.0062, r2=0.8337, relative_error=0.8249]\n"
     ]
    },
    {
     "name": "stdout",
     "output_type": "stream",
     "text": [
      " \n"
     ]
    },
    {
     "name": "stderr",
     "output_type": "stream",
     "text": [
      "Epoch 167 Training: 100%|██████████| 313/313 [00:06<00:00, 45.95batch/s, loss=-13.8520, loss_avg=-14.0761, lr=0.000064]\n",
      "Epoch 167 Validating: 100%|██████████| 40/40 [00:01<00:00, 21.77batch/s, loss_avg=-10.6901, loss_val=-10.8964, mse=0.0061, r2=0.8349, relative_error=1.2467]\n"
     ]
    },
    {
     "name": "stdout",
     "output_type": "stream",
     "text": [
      " \n"
     ]
    },
    {
     "name": "stderr",
     "output_type": "stream",
     "text": [
      "Epoch 168 Training: 100%|██████████| 313/313 [00:06<00:00, 46.51batch/s, loss=-13.9218, loss_avg=-14.0735, lr=0.000064]\n",
      "Epoch 168 Validating: 100%|██████████| 40/40 [00:01<00:00, 21.03batch/s, loss_avg=-11.0041, loss_val=-11.1644, mse=0.0060, r2=0.8381, relative_error=0.7296]\n"
     ]
    },
    {
     "name": "stdout",
     "output_type": "stream",
     "text": [
      " \n"
     ]
    },
    {
     "name": "stderr",
     "output_type": "stream",
     "text": [
      "Epoch 169 Training: 100%|██████████| 313/313 [00:06<00:00, 47.78batch/s, loss=-13.9633, loss_avg=-14.0713, lr=0.000064]\n",
      "Epoch 169 Validating: 100%|██████████| 40/40 [00:01<00:00, 21.83batch/s, loss_avg=-10.8550, loss_val=-11.0676, mse=0.0060, r2=0.8365, relative_error=1.1176]\n"
     ]
    },
    {
     "name": "stdout",
     "output_type": "stream",
     "text": [
      " \n"
     ]
    },
    {
     "name": "stderr",
     "output_type": "stream",
     "text": [
      "Epoch 170 Training: 100%|██████████| 313/313 [00:06<00:00, 47.61batch/s, loss=-13.8769, loss_avg=-14.0855, lr=0.000064]\n",
      "Epoch 170 Validating: 100%|██████████| 40/40 [00:01<00:00, 21.81batch/s, loss_avg=-10.6166, loss_val=-10.6445, mse=0.0060, r2=0.8366, relative_error=1.3402]\n"
     ]
    },
    {
     "name": "stdout",
     "output_type": "stream",
     "text": [
      " \n"
     ]
    },
    {
     "name": "stderr",
     "output_type": "stream",
     "text": [
      "Epoch 171 Training: 100%|██████████| 313/313 [00:06<00:00, 46.65batch/s, loss=-13.9391, loss_avg=-14.0782, lr=0.000064]\n",
      "Epoch 171 Validating: 100%|██████████| 40/40 [00:01<00:00, 21.26batch/s, loss_avg=-10.9572, loss_val=-11.1766, mse=0.0062, r2=0.8327, relative_error=0.9375]\n"
     ]
    },
    {
     "name": "stdout",
     "output_type": "stream",
     "text": [
      " \n"
     ]
    },
    {
     "name": "stderr",
     "output_type": "stream",
     "text": [
      "Epoch 172 Training: 100%|██████████| 313/313 [00:06<00:00, 46.80batch/s, loss=-14.2200, loss_avg=-14.1059, lr=0.000064]\n",
      "Epoch 172 Validating: 100%|██████████| 40/40 [00:02<00:00, 19.78batch/s, loss_avg=-11.1272, loss_val=-11.2963, mse=0.0060, r2=0.8370, relative_error=1.6691]\n"
     ]
    },
    {
     "name": "stdout",
     "output_type": "stream",
     "text": [
      " \n"
     ]
    },
    {
     "name": "stderr",
     "output_type": "stream",
     "text": [
      "Epoch 173 Training: 100%|██████████| 313/313 [00:06<00:00, 47.60batch/s, loss=-13.9754, loss_avg=-14.0907, lr=0.000064]\n",
      "Epoch 173 Validating: 100%|██████████| 40/40 [00:01<00:00, 21.72batch/s, loss_avg=-10.5206, loss_val=-10.7627, mse=0.0062, r2=0.8322, relative_error=1.1709]\n"
     ]
    },
    {
     "name": "stdout",
     "output_type": "stream",
     "text": [
      " \n"
     ]
    },
    {
     "name": "stderr",
     "output_type": "stream",
     "text": [
      "Epoch 174 Training: 100%|██████████| 313/313 [00:06<00:00, 46.91batch/s, loss=-13.8584, loss_avg=-14.0956, lr=0.000064]\n",
      "Epoch 174 Validating: 100%|██████████| 40/40 [00:01<00:00, 22.62batch/s, loss_avg=-10.3981, loss_val=-10.7520, mse=0.0059, r2=0.8394, relative_error=0.8564]\n"
     ]
    },
    {
     "name": "stdout",
     "output_type": "stream",
     "text": [
      " \n"
     ]
    },
    {
     "name": "stderr",
     "output_type": "stream",
     "text": [
      "Epoch 175 Training: 100%|██████████| 313/313 [00:06<00:00, 46.33batch/s, loss=-13.9232, loss_avg=-14.0999, lr=0.000064]\n",
      "Epoch 175 Validating: 100%|██████████| 40/40 [00:01<00:00, 21.48batch/s, loss_avg=-10.7759, loss_val=-10.9373, mse=0.0062, r2=0.8320, relative_error=1.3016]\n"
     ]
    },
    {
     "name": "stdout",
     "output_type": "stream",
     "text": [
      " \n"
     ]
    },
    {
     "name": "stderr",
     "output_type": "stream",
     "text": [
      "Epoch 176 Training: 100%|██████████| 313/313 [00:06<00:00, 47.03batch/s, loss=-14.0511, loss_avg=-14.1064, lr=0.000064]\n",
      "Epoch 176 Validating: 100%|██████████| 40/40 [00:01<00:00, 21.02batch/s, loss_avg=-10.6697, loss_val=-11.0038, mse=0.0061, r2=0.8363, relative_error=0.6762]\n"
     ]
    },
    {
     "name": "stdout",
     "output_type": "stream",
     "text": [
      " \n"
     ]
    },
    {
     "name": "stderr",
     "output_type": "stream",
     "text": [
      "Epoch 177 Training: 100%|██████████| 313/313 [00:06<00:00, 48.59batch/s, loss=-13.9921, loss_avg=-14.1059, lr=0.000064]\n",
      "Epoch 177 Validating: 100%|██████████| 40/40 [00:01<00:00, 21.23batch/s, loss_avg=-10.5781, loss_val=-10.9279, mse=0.0060, r2=0.8377, relative_error=0.9000]\n"
     ]
    },
    {
     "name": "stdout",
     "output_type": "stream",
     "text": [
      " \n"
     ]
    },
    {
     "name": "stderr",
     "output_type": "stream",
     "text": [
      "Epoch 178 Training: 100%|██████████| 313/313 [00:06<00:00, 46.39batch/s, loss=-14.0746, loss_avg=-14.1153, lr=0.000064]\n",
      "Epoch 178 Validating: 100%|██████████| 40/40 [00:01<00:00, 20.48batch/s, loss_avg=-10.9684, loss_val=-11.3119, mse=0.0060, r2=0.8363, relative_error=0.5897]\n"
     ]
    },
    {
     "name": "stdout",
     "output_type": "stream",
     "text": [
      " \n"
     ]
    },
    {
     "name": "stderr",
     "output_type": "stream",
     "text": [
      "Epoch 179 Training: 100%|██████████| 313/313 [00:06<00:00, 47.51batch/s, loss=-14.0094, loss_avg=-14.1672, lr=0.000044]\n",
      "Epoch 179 Validating: 100%|██████████| 40/40 [00:01<00:00, 22.84batch/s, loss_avg=-10.7394, loss_val=-10.9460, mse=0.0061, r2=0.8341, relative_error=1.1958]\n"
     ]
    },
    {
     "name": "stdout",
     "output_type": "stream",
     "text": [
      " \n"
     ]
    },
    {
     "name": "stderr",
     "output_type": "stream",
     "text": [
      "Epoch 180 Training: 100%|██████████| 313/313 [00:06<00:00, 47.32batch/s, loss=-13.8878, loss_avg=-14.1732, lr=0.000044]\n",
      "Epoch 180 Validating: 100%|██████████| 40/40 [00:01<00:00, 21.46batch/s, loss_avg=-10.7292, loss_val=-11.0207, mse=0.0062, r2=0.8316, relative_error=1.2630]\n"
     ]
    },
    {
     "name": "stdout",
     "output_type": "stream",
     "text": [
      " \n"
     ]
    },
    {
     "name": "stderr",
     "output_type": "stream",
     "text": [
      "Epoch 181 Training: 100%|██████████| 313/313 [00:06<00:00, 45.49batch/s, loss=-13.9511, loss_avg=-14.1663, lr=0.000044]\n",
      "Epoch 181 Validating: 100%|██████████| 40/40 [00:01<00:00, 21.03batch/s, loss_avg=-10.4610, loss_val=-10.6551, mse=0.0062, r2=0.8314, relative_error=0.9562]\n"
     ]
    },
    {
     "name": "stdout",
     "output_type": "stream",
     "text": [
      " \n"
     ]
    },
    {
     "name": "stderr",
     "output_type": "stream",
     "text": [
      "Epoch 182 Training: 100%|██████████| 313/313 [00:06<00:00, 46.03batch/s, loss=-14.1846, loss_avg=-14.1733, lr=0.000044]\n",
      "Epoch 182 Validating: 100%|██████████| 40/40 [00:01<00:00, 21.11batch/s, loss_avg=-10.5718, loss_val=-10.9555, mse=0.0063, r2=0.8287, relative_error=0.8183]\n"
     ]
    },
    {
     "name": "stdout",
     "output_type": "stream",
     "text": [
      " \n"
     ]
    },
    {
     "name": "stderr",
     "output_type": "stream",
     "text": [
      "Epoch 183 Training: 100%|██████████| 313/313 [00:06<00:00, 47.56batch/s, loss=-14.0864, loss_avg=-14.1689, lr=0.000044]\n",
      "Epoch 183 Validating: 100%|██████████| 40/40 [00:01<00:00, 22.04batch/s, loss_avg=-10.8603, loss_val=-11.2400, mse=0.0062, r2=0.8326, relative_error=1.0183]\n"
     ]
    },
    {
     "name": "stdout",
     "output_type": "stream",
     "text": [
      " \n"
     ]
    },
    {
     "name": "stderr",
     "output_type": "stream",
     "text": [
      "Epoch 184 Training: 100%|██████████| 313/313 [00:06<00:00, 47.05batch/s, loss=-13.8613, loss_avg=-14.1773, lr=0.000044]\n",
      "Epoch 184 Validating: 100%|██████████| 40/40 [00:01<00:00, 21.14batch/s, loss_avg=-10.4806, loss_val=-10.6890, mse=0.0062, r2=0.8314, relative_error=1.0202]\n"
     ]
    },
    {
     "name": "stdout",
     "output_type": "stream",
     "text": [
      " \n"
     ]
    },
    {
     "name": "stderr",
     "output_type": "stream",
     "text": [
      "Epoch 185 Training: 100%|██████████| 313/313 [00:06<00:00, 46.24batch/s, loss=-13.9049, loss_avg=-14.1714, lr=0.000044]\n",
      "Epoch 185 Validating: 100%|██████████| 40/40 [00:01<00:00, 21.72batch/s, loss_avg=-10.8565, loss_val=-11.2012, mse=0.0062, r2=0.8316, relative_error=1.0218]\n"
     ]
    },
    {
     "name": "stdout",
     "output_type": "stream",
     "text": [
      " \n"
     ]
    },
    {
     "name": "stderr",
     "output_type": "stream",
     "text": [
      "Epoch 186 Training: 100%|██████████| 313/313 [00:06<00:00, 47.22batch/s, loss=-13.8964, loss_avg=-14.1878, lr=0.000044]\n",
      "Epoch 186 Validating: 100%|██████████| 40/40 [00:01<00:00, 21.45batch/s, loss_avg=-10.6593, loss_val=-10.9538, mse=0.0062, r2=0.8339, relative_error=0.7827]\n"
     ]
    },
    {
     "name": "stdout",
     "output_type": "stream",
     "text": [
      " \n"
     ]
    },
    {
     "name": "stderr",
     "output_type": "stream",
     "text": [
      "Epoch 187 Training: 100%|██████████| 313/313 [00:06<00:00, 45.17batch/s, loss=-13.9950, loss_avg=-14.1751, lr=0.000044]\n",
      "Epoch 187 Validating: 100%|██████████| 40/40 [00:01<00:00, 21.63batch/s, loss_avg=-10.8370, loss_val=-11.0145, mse=0.0063, r2=0.8299, relative_error=0.8757]\n"
     ]
    },
    {
     "name": "stdout",
     "output_type": "stream",
     "text": [
      " \n"
     ]
    },
    {
     "name": "stderr",
     "output_type": "stream",
     "text": [
      "Epoch 188 Training: 100%|██████████| 313/313 [00:06<00:00, 47.05batch/s, loss=-14.0600, loss_avg=-14.1808, lr=0.000044]\n",
      "Epoch 188 Validating: 100%|██████████| 40/40 [00:01<00:00, 22.05batch/s, loss_avg=-10.9669, loss_val=-11.2967, mse=0.0062, r2=0.8311, relative_error=0.7811]\n"
     ]
    },
    {
     "name": "stdout",
     "output_type": "stream",
     "text": [
      " \n"
     ]
    },
    {
     "name": "stderr",
     "output_type": "stream",
     "text": [
      "Epoch 189 Training: 100%|██████████| 313/313 [00:06<00:00, 46.45batch/s, loss=-14.1270, loss_avg=-14.1746, lr=0.000044]\n",
      "Epoch 189 Validating: 100%|██████████| 40/40 [00:01<00:00, 22.33batch/s, loss_avg=-10.7896, loss_val=-11.0769, mse=0.0062, r2=0.8321, relative_error=0.8499]\n"
     ]
    },
    {
     "name": "stdout",
     "output_type": "stream",
     "text": [
      " \n"
     ]
    },
    {
     "name": "stderr",
     "output_type": "stream",
     "text": [
      "Epoch 190 Training: 100%|██████████| 313/313 [00:06<00:00, 45.46batch/s, loss=-13.9928, loss_avg=-14.1816, lr=0.000044]\n",
      "Epoch 190 Validating: 100%|██████████| 40/40 [00:01<00:00, 20.43batch/s, loss_avg=-10.7125, loss_val=-10.9125, mse=0.0063, r2=0.8299, relative_error=0.9899]\n"
     ]
    },
    {
     "name": "stdout",
     "output_type": "stream",
     "text": [
      " \n"
     ]
    },
    {
     "name": "stderr",
     "output_type": "stream",
     "text": [
      "Epoch 191 Training: 100%|██████████| 313/313 [00:06<00:00, 47.64batch/s, loss=-14.0097, loss_avg=-14.1887, lr=0.000044]\n",
      "Epoch 191 Validating: 100%|██████████| 40/40 [00:01<00:00, 22.10batch/s, loss_avg=-10.6868, loss_val=-11.0097, mse=0.0063, r2=0.8302, relative_error=0.8160]\n"
     ]
    },
    {
     "name": "stdout",
     "output_type": "stream",
     "text": [
      " \n"
     ]
    },
    {
     "name": "stderr",
     "output_type": "stream",
     "text": [
      "Epoch 192 Training: 100%|██████████| 313/313 [00:06<00:00, 46.45batch/s, loss=-13.9643, loss_avg=-14.1916, lr=0.000044]\n",
      "Epoch 192 Validating: 100%|██████████| 40/40 [00:01<00:00, 20.98batch/s, loss_avg=-10.6607, loss_val=-10.9149, mse=0.0062, r2=0.8327, relative_error=1.2791]\n"
     ]
    },
    {
     "name": "stdout",
     "output_type": "stream",
     "text": [
      " \n"
     ]
    },
    {
     "name": "stderr",
     "output_type": "stream",
     "text": [
      "Epoch 193 Training: 100%|██████████| 313/313 [00:06<00:00, 47.12batch/s, loss=-14.3074, loss_avg=-14.2029, lr=0.000044]\n",
      "Epoch 193 Validating: 100%|██████████| 40/40 [00:01<00:00, 20.76batch/s, loss_avg=-10.8350, loss_val=-11.1948, mse=0.0061, r2=0.8325, relative_error=1.1158]\n"
     ]
    },
    {
     "name": "stdout",
     "output_type": "stream",
     "text": [
      " \n"
     ]
    },
    {
     "name": "stderr",
     "output_type": "stream",
     "text": [
      "Epoch 194 Training: 100%|██████████| 313/313 [00:06<00:00, 46.60batch/s, loss=-13.8755, loss_avg=-14.1919, lr=0.000044]\n",
      "Epoch 194 Validating: 100%|██████████| 40/40 [00:01<00:00, 21.06batch/s, loss_avg=-10.7520, loss_val=-11.1303, mse=0.0063, r2=0.8299, relative_error=0.7522]\n"
     ]
    },
    {
     "name": "stdout",
     "output_type": "stream",
     "text": [
      " \n"
     ]
    },
    {
     "name": "stderr",
     "output_type": "stream",
     "text": [
      "Epoch 195 Training: 100%|██████████| 313/313 [00:06<00:00, 47.49batch/s, loss=-14.0651, loss_avg=-14.1964, lr=0.000044]\n",
      "Epoch 195 Validating: 100%|██████████| 40/40 [00:01<00:00, 21.25batch/s, loss_avg=-10.6596, loss_val=-11.0492, mse=0.0064, r2=0.8276, relative_error=1.4541]\n"
     ]
    },
    {
     "name": "stdout",
     "output_type": "stream",
     "text": [
      " \n"
     ]
    },
    {
     "name": "stderr",
     "output_type": "stream",
     "text": [
      "Epoch 196 Training: 100%|██████████| 313/313 [00:06<00:00, 46.69batch/s, loss=-13.9357, loss_avg=-14.1976, lr=0.000044]\n",
      "Epoch 196 Validating: 100%|██████████| 40/40 [00:01<00:00, 22.53batch/s, loss_avg=-10.6159, loss_val=-10.8954, mse=0.0062, r2=0.8312, relative_error=1.1979]\n"
     ]
    },
    {
     "name": "stdout",
     "output_type": "stream",
     "text": [
      " \n"
     ]
    },
    {
     "name": "stderr",
     "output_type": "stream",
     "text": [
      "Epoch 197 Training: 100%|██████████| 313/313 [00:06<00:00, 46.77batch/s, loss=-13.8297, loss_avg=-14.2056, lr=0.000044]\n",
      "Epoch 197 Validating: 100%|██████████| 40/40 [00:01<00:00, 22.08batch/s, loss_avg=-10.7204, loss_val=-11.1088, mse=0.0062, r2=0.8303, relative_error=1.4466]\n"
     ]
    },
    {
     "name": "stdout",
     "output_type": "stream",
     "text": [
      " \n"
     ]
    },
    {
     "name": "stderr",
     "output_type": "stream",
     "text": [
      "Epoch 198 Training: 100%|██████████| 313/313 [00:06<00:00, 48.28batch/s, loss=-14.0532, loss_avg=-14.2011, lr=0.000044]\n",
      "Epoch 198 Validating: 100%|██████████| 40/40 [00:01<00:00, 22.85batch/s, loss_avg=-10.5245, loss_val=-10.9954, mse=0.0062, r2=0.8329, relative_error=1.6033]\n"
     ]
    },
    {
     "name": "stdout",
     "output_type": "stream",
     "text": [
      " \n"
     ]
    },
    {
     "name": "stderr",
     "output_type": "stream",
     "text": [
      "Epoch 199 Training: 100%|██████████| 313/313 [00:06<00:00, 47.48batch/s, loss=-14.0605, loss_avg=-14.1961, lr=0.000044]\n",
      "Epoch 199 Validating: 100%|██████████| 40/40 [00:01<00:00, 21.00batch/s, loss_avg=-10.4824, loss_val=-10.7970, mse=0.0061, r2=0.8351, relative_error=1.2207]\n"
     ]
    },
    {
     "name": "stdout",
     "output_type": "stream",
     "text": [
      " \n"
     ]
    },
    {
     "name": "stderr",
     "output_type": "stream",
     "text": [
      "Epoch 200 Training: 100%|██████████| 313/313 [00:06<00:00, 46.82batch/s, loss=-13.9812, loss_avg=-14.1957, lr=0.000044]\n",
      "Epoch 200 Validating: 100%|██████████| 40/40 [00:01<00:00, 20.76batch/s, loss_avg=-10.8826, loss_val=-11.1339, mse=0.0062, r2=0.8332, relative_error=0.8715]"
     ]
    },
    {
     "name": "stdout",
     "output_type": "stream",
     "text": [
      " \n"
     ]
    },
    {
     "name": "stderr",
     "output_type": "stream",
     "text": [
      "\n"
     ]
    }
   ],
   "source": [
    "t_l, v_l, r2, r_e, mse = test_train.fit()"
   ],
   "metadata": {
    "collapsed": false,
    "pycharm": {
     "name": "#%%\n"
    }
   }
  },
  {
   "cell_type": "code",
   "execution_count": 4,
   "outputs": [
    {
     "data": {
      "text/plain": "<Figure size 432x288 with 1 Axes>",
      "image/png": "[encoded data removed]"
     },
     "metadata": {},
     "output_type": "display_data"
    }
   ],
   "source": [
    "test_train.plot_loss(t_l, v_l)\n"
   ],
   "metadata": {
    "collapsed": false,
    "pycharm": {
     "name": "#%%\n"
    }
   }
  },
  {
   "cell_type": "code",
   "execution_count": 5,
   "outputs": [],
   "source": [
    "import seaborn as sns\n",
    "import pandas as pd\n",
    "import matplotlib.pyplot as plt"
   ],
   "metadata": {
    "collapsed": false,
    "pycharm": {
     "name": "#%%\n"
    }
   }
  },
  {
   "cell_type": "code",
   "execution_count": 6,
   "outputs": [
    {
     "data": {
      "text/plain": "<Figure size 432x288 with 1 Axes>",
      "image/png": "[encoded data removed]"
     },
     "metadata": {},
     "output_type": "display_data"
    }
   ],
   "source": [
    "result_pd = pd.DataFrame()\n",
    "result_pd['epoch'] = range(200)\n",
    "result_pd['r2_avg'] = r2\n",
    "sns.lineplot(x='epoch', y='r2_avg', data=result_pd)\n",
    "plt.show()"
   ],
   "metadata": {
    "collapsed": false,
    "pycharm": {
     "name": "#%%\n"
    }
   }
  },
  {
   "cell_type": "code",
   "execution_count": 7,
   "outputs": [
    {
     "data": {
      "text/plain": "<Figure size 432x288 with 1 Axes>",
      "image/png": "[encoded data removed]"
     },
     "metadata": {},
     "output_type": "display_data"
    }
   ],
   "source": [
    "result_pd = pd.DataFrame()\n",
    "result_pd['epoch'] = range(200)\n",
    "result_pd['mse_avg'] = mse\n",
    "sns.lineplot(x='epoch', y='mse_avg', data=result_pd)\n",
    "plt.show()"
   ],
   "metadata": {
    "collapsed": false,
    "pycharm": {
     "name": "#%%\n"
    }
   }
  },
  {
   "cell_type": "code",
   "execution_count": null,
   "outputs": [],
   "source": [],
   "metadata": {
    "collapsed": false,
    "pycharm": {
     "name": "#%%\n"
    }
   }
  }
 ],
 "metadata": {
  "kernelspec": {
   "display_name": "Python 3",
   "language": "python",
   "name": "python3"
  },
  "language_info": {
   "codemirror_mode": {
    "name": "ipython",
    "version": 2
   },
   "file_extension": ".py",
   "mimetype": "text/x-python",
   "name": "python",
   "nbconvert_exporter": "python",
   "pygments_lexer": "ipython2",
   "version": "2.7.6"
  }
 },
 "nbformat": 4,
 "nbformat_minor": 0
}