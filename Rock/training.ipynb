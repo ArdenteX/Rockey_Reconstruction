{
 "cells": [
  {
   "cell_type": "code",
   "execution_count": 1,
   "outputs": [],
   "source": [
    "from Rock.Train.mdnTraining import mdnTraining"
   ],
   "metadata": {
    "collapsed": false,
    "pycharm": {
     "name": "#%%\n"
    }
   }
  },
  {
   "cell_type": "code",
   "execution_count": 2,
   "outputs": [],
   "source": [
    "test_train = mdnTraining()"
   ],
   "metadata": {
    "collapsed": false,
    "pycharm": {
     "name": "#%%\n"
    }
   }
  },
  {
   "cell_type": "code",
   "execution_count": 3,
   "outputs": [
    {
     "name": "stdout",
     "output_type": "stream",
     "text": [
      "pi.0.weight : torch.Size([256, 3])\n",
      "pi.0.bias : torch.Size([256])\n",
      "pi.2.weight : torch.Size([256, 256])\n",
      "pi.2.bias : torch.Size([256])\n",
      "pi.4.weight : torch.Size([3, 256])\n",
      "pi.4.bias : torch.Size([3])\n",
      "normal_layer.0.weight : torch.Size([256, 3])\n",
      "normal_layer.0.bias : torch.Size([256])\n",
      "normal_layer.2.weight : torch.Size([256, 256])\n",
      "normal_layer.2.bias : torch.Size([256])\n",
      "normal_layer.4.weight : torch.Size([24, 256])\n",
      "normal_layer.4.bias : torch.Size([24])\n"
     ]
    },
    {
     "name": "stderr",
     "output_type": "stream",
     "text": [
      "  0%|          | 0/235 [00:00<?, ?batch/s]E:\\anaconda\\envs\\deeplearning\\lib\\site-packages\\torch\\optim\\lr_scheduler.py:136: UserWarning: Detected call of `lr_scheduler.step()` before `optimizer.step()`. In PyTorch 1.1.0 and later, you should call them in the opposite order: `optimizer.step()` before `lr_scheduler.step()`.  Failure to do this will result in PyTorch skipping the first value of the learning rate schedule. See more details at https://pytorch.org/docs/stable/optim.html#how-to-adjust-learning-rate\n",
      "  \"https://pytorch.org/docs/stable/optim.html#how-to-adjust-learning-rate\", UserWarning)\n",
      "Epoch 1 Training: 100%|██████████| 235/235 [00:03<00:00, 61.08batch/s, loss=-12.4185, loss_avg=-6.11, lr=0.0004] \n",
      "Epoch 1 Validating: 100%|██████████| 79/79 [00:01<00:00, 51.44batch/s, loss_avg=-11.5338, val_loss=-11.9396]\n"
     ]
    },
    {
     "name": "stdout",
     "output_type": "stream",
     "text": [
      " \n"
     ]
    },
    {
     "name": "stderr",
     "output_type": "stream",
     "text": [
      "Epoch 2 Training: 100%|██████████| 235/235 [00:02<00:00, 95.00batch/s, loss=-9.2305, loss_avg=-11.5, lr=0.0008]  \n",
      "Epoch 2 Validating: 100%|██████████| 79/79 [00:01<00:00, 50.47batch/s, loss_avg=-7.7926, val_loss=-8.0041]\n"
     ]
    },
    {
     "name": "stdout",
     "output_type": "stream",
     "text": [
      " \n"
     ]
    },
    {
     "name": "stderr",
     "output_type": "stream",
     "text": [
      "Epoch 3 Training: 100%|██████████| 235/235 [00:02<00:00, 89.39batch/s, loss=-10.3590, loss_avg=-8.93, lr=0.0012] \n",
      "Epoch 3 Validating: 100%|██████████| 79/79 [00:01<00:00, 50.81batch/s, loss_avg=-9.8373, val_loss=-9.2564] \n"
     ]
    },
    {
     "name": "stdout",
     "output_type": "stream",
     "text": [
      " \n"
     ]
    },
    {
     "name": "stderr",
     "output_type": "stream",
     "text": [
      "Epoch 4 Training: 100%|██████████| 235/235 [00:02<00:00, 92.25batch/s, loss=-4.0928, loss_avg=-8.51, lr=0.0016]  \n",
      "Epoch 4 Validating: 100%|██████████| 79/79 [00:01<00:00, 50.86batch/s, loss_avg=-5.3772, val_loss=-4.8232]\n"
     ]
    },
    {
     "name": "stdout",
     "output_type": "stream",
     "text": [
      " \n"
     ]
    },
    {
     "name": "stderr",
     "output_type": "stream",
     "text": [
      "Epoch 5 Training: 100%|██████████| 235/235 [00:02<00:00, 92.86batch/s, loss=-10.1843, loss_avg=-9.65, lr=0.0020] \n",
      "Epoch 5 Validating: 100%|██████████| 79/79 [00:01<00:00, 49.99batch/s, loss_avg=-7.9316, val_loss=-7.5071]\n"
     ]
    },
    {
     "name": "stdout",
     "output_type": "stream",
     "text": [
      " \n"
     ]
    },
    {
     "name": "stderr",
     "output_type": "stream",
     "text": [
      "Epoch 6 Training: 100%|██████████| 235/235 [00:02<00:00, 88.81batch/s, loss=-14.5849, loss_avg=-12.5, lr=0.0020] \n",
      "Epoch 6 Validating: 100%|██████████| 79/79 [00:01<00:00, 48.12batch/s, loss_avg=-3.8855, val_loss=-3.5539]\n"
     ]
    },
    {
     "name": "stdout",
     "output_type": "stream",
     "text": [
      " \n"
     ]
    },
    {
     "name": "stderr",
     "output_type": "stream",
     "text": [
      "Epoch 7 Training: 100%|██████████| 235/235 [00:02<00:00, 94.05batch/s, loss=-14.9031, loss_avg=-10.7, lr=0.0020] \n",
      "Epoch 7 Validating: 100%|██████████| 79/79 [00:01<00:00, 48.36batch/s, loss_avg=-2.5158, val_loss=1.2671] \n"
     ]
    },
    {
     "name": "stdout",
     "output_type": "stream",
     "text": [
      " \n"
     ]
    },
    {
     "name": "stderr",
     "output_type": "stream",
     "text": [
      "Epoch 8 Training: 100%|██████████| 235/235 [00:02<00:00, 86.79batch/s, loss=-10.4056, loss_avg=-11.3, lr=0.0020] \n",
      "Epoch 8 Validating: 100%|██████████| 79/79 [00:01<00:00, 49.04batch/s, loss_avg=-7.0822, val_loss=-6.8827]\n"
     ]
    },
    {
     "name": "stdout",
     "output_type": "stream",
     "text": [
      " \n"
     ]
    },
    {
     "name": "stderr",
     "output_type": "stream",
     "text": [
      "Epoch 9 Training: 100%|██████████| 235/235 [00:02<00:00, 88.40batch/s, loss=-1.0108, loss_avg=-13, lr=0.0020]    \n",
      "Epoch 9 Validating: 100%|██████████| 79/79 [00:01<00:00, 48.85batch/s, loss_avg=-2.0392, val_loss=-2.2285]\n"
     ]
    },
    {
     "name": "stdout",
     "output_type": "stream",
     "text": [
      " \n"
     ]
    },
    {
     "name": "stderr",
     "output_type": "stream",
     "text": [
      "Epoch 10 Training: 100%|██████████| 235/235 [00:02<00:00, 89.29batch/s, loss=-11.9504, loss_avg=-10.3, lr=0.0020] \n",
      "Epoch 10 Validating: 100%|██████████| 79/79 [00:01<00:00, 49.81batch/s, loss_avg=-7.9657, val_loss=-7.6508]\n"
     ]
    },
    {
     "name": "stdout",
     "output_type": "stream",
     "text": [
      " \n"
     ]
    },
    {
     "name": "stderr",
     "output_type": "stream",
     "text": [
      "Epoch 11 Training: 100%|██████████| 235/235 [00:02<00:00, 93.29batch/s, loss=-16.0032, loss_avg=-11.9, lr=0.0020] \n",
      "Epoch 11 Validating: 100%|██████████| 79/79 [00:01<00:00, 50.11batch/s, loss_avg=-5.4566, val_loss=-5.3802]\n"
     ]
    },
    {
     "name": "stdout",
     "output_type": "stream",
     "text": [
      " \n"
     ]
    },
    {
     "name": "stderr",
     "output_type": "stream",
     "text": [
      "Epoch 12 Training: 100%|██████████| 235/235 [00:02<00:00, 90.72batch/s, loss=-15.0169, loss_avg=-14.1, lr=0.0020] \n",
      "Epoch 12 Validating: 100%|██████████| 79/79 [00:01<00:00, 49.11batch/s, loss_avg=-4.4381, val_loss=-4.2935]\n"
     ]
    },
    {
     "name": "stdout",
     "output_type": "stream",
     "text": [
      " \n"
     ]
    },
    {
     "name": "stderr",
     "output_type": "stream",
     "text": [
      "Epoch 13 Training: 100%|██████████| 235/235 [00:02<00:00, 92.59batch/s, loss=-15.1764, loss_avg=-15.5, lr=0.0020] \n",
      "Epoch 13 Validating: 100%|██████████| 79/79 [00:01<00:00, 49.86batch/s, loss_avg=-6.8511, val_loss=-7.1546]\n"
     ]
    },
    {
     "name": "stdout",
     "output_type": "stream",
     "text": [
      " \n"
     ]
    },
    {
     "name": "stderr",
     "output_type": "stream",
     "text": [
      "Epoch 14 Training: 100%|██████████| 235/235 [00:02<00:00, 90.27batch/s, loss=-15.2894, loss_avg=-13.1, lr=0.0020] \n",
      "Epoch 14 Validating: 100%|██████████| 79/79 [00:01<00:00, 47.27batch/s, loss_avg=-0.6473, val_loss=0.6632] \n"
     ]
    },
    {
     "name": "stdout",
     "output_type": "stream",
     "text": [
      " \n"
     ]
    },
    {
     "name": "stderr",
     "output_type": "stream",
     "text": [
      "Epoch 15 Training: 100%|██████████| 235/235 [00:02<00:00, 91.56batch/s, loss=-10.7465, loss_avg=-14.2, lr=0.0020] \n",
      "Epoch 15 Validating: 100%|██████████| 79/79 [00:01<00:00, 49.14batch/s, loss_avg=26.3740, val_loss=24.2806]\n"
     ]
    },
    {
     "name": "stdout",
     "output_type": "stream",
     "text": [
      " \n"
     ]
    },
    {
     "name": "stderr",
     "output_type": "stream",
     "text": [
      "Epoch 16 Training: 100%|██████████| 235/235 [00:02<00:00, 81.27batch/s, loss=-16.8508, loss_avg=-15.2, lr=0.0020] \n",
      "Epoch 16 Validating: 100%|██████████| 79/79 [00:01<00:00, 48.58batch/s, loss_avg=18.4395, val_loss=14.9996]\n"
     ]
    },
    {
     "name": "stdout",
     "output_type": "stream",
     "text": [
      " \n"
     ]
    },
    {
     "name": "stderr",
     "output_type": "stream",
     "text": [
      "Epoch 17 Training: 100%|██████████| 235/235 [00:02<00:00, 88.14batch/s, loss=-16.5116, loss_avg=-15.4, lr=0.0020] \n",
      "Epoch 17 Validating: 100%|██████████| 79/79 [00:01<00:00, 46.86batch/s, loss_avg=-5.5960, val_loss=-4.9484]\n"
     ]
    },
    {
     "name": "stdout",
     "output_type": "stream",
     "text": [
      " \n"
     ]
    },
    {
     "name": "stderr",
     "output_type": "stream",
     "text": [
      "Epoch 18 Training: 100%|██████████| 235/235 [00:02<00:00, 87.98batch/s, loss=-17.8701, loss_avg=-16.1, lr=0.0020] \n",
      "Epoch 18 Validating: 100%|██████████| 79/79 [00:01<00:00, 44.43batch/s, loss_avg=5.0779, val_loss=9.9876]\n"
     ]
    },
    {
     "name": "stdout",
     "output_type": "stream",
     "text": [
      " \n"
     ]
    },
    {
     "name": "stderr",
     "output_type": "stream",
     "text": [
      "Epoch 19 Training: 100%|██████████| 235/235 [00:02<00:00, 91.60batch/s, loss=-15.7022, loss_avg=-15.1, lr=0.0020] \n",
      "Epoch 19 Validating: 100%|██████████| 79/79 [00:01<00:00, 49.12batch/s, loss_avg=5.4456, val_loss=8.9055]\n"
     ]
    },
    {
     "name": "stdout",
     "output_type": "stream",
     "text": [
      " \n"
     ]
    },
    {
     "name": "stderr",
     "output_type": "stream",
     "text": [
      "Epoch 20 Training: 100%|██████████| 235/235 [00:02<00:00, 89.88batch/s, loss=-17.1415, loss_avg=-14, lr=0.0020]   \n",
      "Epoch 20 Validating: 100%|██████████| 79/79 [00:01<00:00, 49.08batch/s, loss_avg=2.7636, val_loss=1.1308]\n"
     ]
    },
    {
     "name": "stdout",
     "output_type": "stream",
     "text": [
      " \n"
     ]
    },
    {
     "name": "stderr",
     "output_type": "stream",
     "text": [
      "Epoch 21 Training: 100%|██████████| 235/235 [00:02<00:00, 91.73batch/s, loss=15.0266, loss_avg=-16, lr=0.0020]    \n",
      "Epoch 21 Validating: 100%|██████████| 79/79 [00:01<00:00, 49.75batch/s, loss_avg=5.5738, val_loss=7.7611]\n"
     ]
    },
    {
     "name": "stdout",
     "output_type": "stream",
     "text": [
      " \n"
     ]
    },
    {
     "name": "stderr",
     "output_type": "stream",
     "text": [
      "Epoch 22 Training: 100%|██████████| 235/235 [00:02<00:00, 88.71batch/s, loss=-15.0931, loss_avg=-16, lr=0.0020]   \n",
      "Epoch 22 Validating: 100%|██████████| 79/79 [00:01<00:00, 47.96batch/s, loss_avg=-9.6121, val_loss=-10.4820]\n"
     ]
    },
    {
     "name": "stdout",
     "output_type": "stream",
     "text": [
      " \n"
     ]
    },
    {
     "name": "stderr",
     "output_type": "stream",
     "text": [
      "Epoch 23 Training: 100%|██████████| 235/235 [00:02<00:00, 91.12batch/s, loss=-17.7996, loss_avg=-16.7, lr=0.0020] \n",
      "Epoch 23 Validating: 100%|██████████| 79/79 [00:01<00:00, 49.39batch/s, loss_avg=-5.8502, val_loss=-5.2334]\n"
     ]
    },
    {
     "name": "stdout",
     "output_type": "stream",
     "text": [
      " \n"
     ]
    },
    {
     "name": "stderr",
     "output_type": "stream",
     "text": [
      "Epoch 24 Training: 100%|██████████| 235/235 [00:02<00:00, 88.74batch/s, loss=-9.2984, loss_avg=-16.8, lr=0.0020]  \n",
      "Epoch 24 Validating: 100%|██████████| 79/79 [00:01<00:00, 49.50batch/s, loss_avg=-5.2947, val_loss=-5.1723]\n"
     ]
    },
    {
     "name": "stdout",
     "output_type": "stream",
     "text": [
      " \n"
     ]
    },
    {
     "name": "stderr",
     "output_type": "stream",
     "text": [
      "Epoch 25 Training: 100%|██████████| 235/235 [00:02<00:00, 90.89batch/s, loss=-16.6885, loss_avg=-15.3, lr=0.0020] \n",
      "Epoch 25 Validating: 100%|██████████| 79/79 [00:01<00:00, 46.61batch/s, loss_avg=9.1943, val_loss=12.8095]\n"
     ]
    },
    {
     "name": "stdout",
     "output_type": "stream",
     "text": [
      " \n"
     ]
    },
    {
     "name": "stderr",
     "output_type": "stream",
     "text": [
      "Epoch 26 Training: 100%|██████████| 235/235 [00:02<00:00, 88.33batch/s, loss=-17.8751, loss_avg=-15.6, lr=0.0020] \n",
      "Epoch 26 Validating: 100%|██████████| 79/79 [00:01<00:00, 47.39batch/s, loss_avg=38.3863, val_loss=33.9307]\n"
     ]
    },
    {
     "name": "stdout",
     "output_type": "stream",
     "text": [
      " \n"
     ]
    },
    {
     "name": "stderr",
     "output_type": "stream",
     "text": [
      "Epoch 27 Training: 100%|██████████| 235/235 [00:02<00:00, 86.50batch/s, loss=-17.4640, loss_avg=-17.4, lr=0.0020] \n",
      "Epoch 27 Validating: 100%|██████████| 79/79 [00:01<00:00, 51.62batch/s, loss_avg=16.7787, val_loss=19.7485]\n"
     ]
    },
    {
     "name": "stdout",
     "output_type": "stream",
     "text": [
      " \n"
     ]
    },
    {
     "name": "stderr",
     "output_type": "stream",
     "text": [
      "Epoch 28 Training: 100%|██████████| 235/235 [00:02<00:00, 88.08batch/s, loss=-17.9217, loss_avg=-16.2, lr=0.0020] \n",
      "Epoch 28 Validating: 100%|██████████| 79/79 [00:01<00:00, 45.37batch/s, loss_avg=40.5153, val_loss=43.4384]\n"
     ]
    },
    {
     "name": "stdout",
     "output_type": "stream",
     "text": [
      " \n"
     ]
    },
    {
     "name": "stderr",
     "output_type": "stream",
     "text": [
      "Epoch 29 Training: 100%|██████████| 235/235 [00:02<00:00, 87.63batch/s, loss=-16.7841, loss_avg=-17.4, lr=0.0020] \n",
      "Epoch 29 Validating: 100%|██████████| 79/79 [00:01<00:00, 48.77batch/s, loss_avg=29.5314, val_loss=31.6261]\n"
     ]
    },
    {
     "name": "stdout",
     "output_type": "stream",
     "text": [
      " \n"
     ]
    },
    {
     "name": "stderr",
     "output_type": "stream",
     "text": [
      "Epoch 30 Training: 100%|██████████| 235/235 [00:02<00:00, 89.73batch/s, loss=-19.0330, loss_avg=-17.7, lr=0.0020] \n",
      "Epoch 30 Validating: 100%|██████████| 79/79 [00:01<00:00, 41.41batch/s, loss_avg=64.5293, val_loss=83.0380]\n"
     ]
    },
    {
     "name": "stdout",
     "output_type": "stream",
     "text": [
      " \n"
     ]
    },
    {
     "name": "stderr",
     "output_type": "stream",
     "text": [
      "Epoch 31 Training: 100%|██████████| 235/235 [00:02<00:00, 87.21batch/s, loss=-18.0494, loss_avg=-16.6, lr=0.0020] \n",
      "Epoch 31 Validating: 100%|██████████| 79/79 [00:01<00:00, 48.71batch/s, loss_avg=22.9448, val_loss=22.3031]\n"
     ]
    },
    {
     "name": "stdout",
     "output_type": "stream",
     "text": [
      " \n"
     ]
    },
    {
     "name": "stderr",
     "output_type": "stream",
     "text": [
      "Epoch 32 Training: 100%|██████████| 235/235 [00:02<00:00, 86.60batch/s, loss=-15.2204, loss_avg=-17.1, lr=0.0020] \n",
      "Epoch 32 Validating: 100%|██████████| 79/79 [00:01<00:00, 49.77batch/s, loss_avg=-2.7397, val_loss=-3.5715]\n"
     ]
    },
    {
     "name": "stdout",
     "output_type": "stream",
     "text": [
      " \n"
     ]
    },
    {
     "name": "stderr",
     "output_type": "stream",
     "text": [
      "Epoch 33 Training: 100%|██████████| 235/235 [00:02<00:00, 89.00batch/s, loss=-18.7837, loss_avg=-17.5, lr=0.0020] \n",
      "Epoch 33 Validating: 100%|██████████| 79/79 [00:01<00:00, 47.92batch/s, loss_avg=65.9075, val_loss=67.6529]\n"
     ]
    },
    {
     "name": "stdout",
     "output_type": "stream",
     "text": [
      " \n"
     ]
    },
    {
     "name": "stderr",
     "output_type": "stream",
     "text": [
      "Epoch 34 Training: 100%|██████████| 235/235 [00:02<00:00, 86.89batch/s, loss=-18.4119, loss_avg=-18.1, lr=0.0020] \n",
      "Epoch 34 Validating: 100%|██████████| 79/79 [00:01<00:00, 46.96batch/s, loss_avg=13.5132, val_loss=11.4051]\n"
     ]
    },
    {
     "name": "stdout",
     "output_type": "stream",
     "text": [
      " \n"
     ]
    },
    {
     "name": "stderr",
     "output_type": "stream",
     "text": [
      "Epoch 35 Training: 100%|██████████| 235/235 [00:02<00:00, 86.84batch/s, loss=-17.5871, loss_avg=-18.3, lr=0.0020] \n",
      "Epoch 35 Validating: 100%|██████████| 79/79 [00:01<00:00, 48.12batch/s, loss_avg=11.3023, val_loss=5.7782] \n"
     ]
    },
    {
     "name": "stdout",
     "output_type": "stream",
     "text": [
      " \n"
     ]
    },
    {
     "name": "stderr",
     "output_type": "stream",
     "text": [
      "Epoch 36 Training: 100%|██████████| 235/235 [00:02<00:00, 88.80batch/s, loss=-17.0146, loss_avg=-18.1, lr=0.0020] \n",
      "Epoch 36 Validating: 100%|██████████| 79/79 [00:01<00:00, 48.98batch/s, loss_avg=-0.1582, val_loss=1.9094] \n"
     ]
    },
    {
     "name": "stdout",
     "output_type": "stream",
     "text": [
      " \n"
     ]
    },
    {
     "name": "stderr",
     "output_type": "stream",
     "text": [
      "Epoch 37 Training: 100%|██████████| 235/235 [00:02<00:00, 89.42batch/s, loss=-19.3323, loss_avg=-18.7, lr=0.0020] \n",
      "Epoch 37 Validating: 100%|██████████| 79/79 [00:01<00:00, 48.98batch/s, loss_avg=38.7392, val_loss=39.2478]\n"
     ]
    },
    {
     "name": "stdout",
     "output_type": "stream",
     "text": [
      " \n"
     ]
    },
    {
     "name": "stderr",
     "output_type": "stream",
     "text": [
      "Epoch 38 Training: 100%|██████████| 235/235 [00:02<00:00, 88.94batch/s, loss=-18.8426, loss_avg=-18, lr=0.0020]   \n",
      "Epoch 38 Validating: 100%|██████████| 79/79 [00:01<00:00, 48.71batch/s, loss_avg=1.0529, val_loss=-0.2874]\n"
     ]
    },
    {
     "name": "stdout",
     "output_type": "stream",
     "text": [
      " \n"
     ]
    },
    {
     "name": "stderr",
     "output_type": "stream",
     "text": [
      "Epoch 39 Training: 100%|██████████| 235/235 [00:02<00:00, 94.25batch/s, loss=-19.4575, loss_avg=-19, lr=0.0020]   \n",
      "Epoch 39 Validating: 100%|██████████| 79/79 [00:01<00:00, 48.13batch/s, loss_avg=4.5501, val_loss=3.7773]\n"
     ]
    },
    {
     "name": "stdout",
     "output_type": "stream",
     "text": [
      " \n"
     ]
    },
    {
     "name": "stderr",
     "output_type": "stream",
     "text": [
      "Epoch 40 Training: 100%|██████████| 235/235 [00:02<00:00, 90.85batch/s, loss=-16.6484, loss_avg=-17.4, lr=0.0020] \n",
      "Epoch 40 Validating: 100%|██████████| 79/79 [00:01<00:00, 49.90batch/s, loss_avg=-1.4120, val_loss=1.6684] \n"
     ]
    },
    {
     "name": "stdout",
     "output_type": "stream",
     "text": [
      " \n"
     ]
    },
    {
     "name": "stderr",
     "output_type": "stream",
     "text": [
      "Epoch 41 Training: 100%|██████████| 235/235 [00:02<00:00, 90.19batch/s, loss=-9.5818, loss_avg=-17.1, lr=0.0020]  \n",
      "Epoch 41 Validating: 100%|██████████| 79/79 [00:01<00:00, 49.41batch/s, loss_avg=-7.8732, val_loss=-7.5443]\n"
     ]
    },
    {
     "name": "stdout",
     "output_type": "stream",
     "text": [
      " \n"
     ]
    },
    {
     "name": "stderr",
     "output_type": "stream",
     "text": [
      "Epoch 42 Training: 100%|██████████| 235/235 [00:02<00:00, 82.05batch/s, loss=-19.1158, loss_avg=-16.8, lr=0.0020] \n",
      "Epoch 42 Validating: 100%|██████████| 79/79 [00:01<00:00, 47.12batch/s, loss_avg=6.1333, val_loss=5.0426]\n"
     ]
    },
    {
     "name": "stdout",
     "output_type": "stream",
     "text": [
      " \n"
     ]
    },
    {
     "name": "stderr",
     "output_type": "stream",
     "text": [
      "Epoch 43 Training: 100%|██████████| 235/235 [00:02<00:00, 89.31batch/s, loss=-17.1087, loss_avg=-17.7, lr=0.0020] \n",
      "Epoch 43 Validating: 100%|██████████| 79/79 [00:01<00:00, 48.49batch/s, loss_avg=-2.1600, val_loss=-2.2377]\n"
     ]
    },
    {
     "name": "stdout",
     "output_type": "stream",
     "text": [
      " \n"
     ]
    },
    {
     "name": "stderr",
     "output_type": "stream",
     "text": [
      "Epoch 44 Training: 100%|██████████| 235/235 [00:02<00:00, 91.33batch/s, loss=-18.7910, loss_avg=-18.4, lr=0.0020] \n",
      "Epoch 44 Validating: 100%|██████████| 79/79 [00:01<00:00, 49.43batch/s, loss_avg=-1.3630, val_loss=-3.2241]\n"
     ]
    },
    {
     "name": "stdout",
     "output_type": "stream",
     "text": [
      " \n"
     ]
    },
    {
     "name": "stderr",
     "output_type": "stream",
     "text": [
      "Epoch 45 Training: 100%|██████████| 235/235 [00:02<00:00, 90.07batch/s, loss=-19.0678, loss_avg=-18.6, lr=0.0020] \n",
      "Epoch 45 Validating: 100%|██████████| 79/79 [00:01<00:00, 49.50batch/s, loss_avg=-3.7660, val_loss=-4.0459]\n"
     ]
    },
    {
     "name": "stdout",
     "output_type": "stream",
     "text": [
      " \n"
     ]
    },
    {
     "name": "stderr",
     "output_type": "stream",
     "text": [
      "Epoch 46 Training: 100%|██████████| 235/235 [00:02<00:00, 92.13batch/s, loss=-19.6379, loss_avg=-18.3, lr=0.0020] \n",
      "Epoch 46 Validating: 100%|██████████| 79/79 [00:01<00:00, 49.57batch/s, loss_avg=5.0679, val_loss=5.8590]\n"
     ]
    },
    {
     "name": "stdout",
     "output_type": "stream",
     "text": [
      " \n"
     ]
    },
    {
     "name": "stderr",
     "output_type": "stream",
     "text": [
      "Epoch 47 Training: 100%|██████████| 235/235 [00:02<00:00, 89.05batch/s, loss=-18.8320, loss_avg=-17.8, lr=0.0020] \n",
      "Epoch 47 Validating: 100%|██████████| 79/79 [00:01<00:00, 49.91batch/s, loss_avg=-2.4048, val_loss=-2.1583]\n"
     ]
    },
    {
     "name": "stdout",
     "output_type": "stream",
     "text": [
      " \n"
     ]
    },
    {
     "name": "stderr",
     "output_type": "stream",
     "text": [
      "Epoch 48 Training: 100%|██████████| 235/235 [00:02<00:00, 93.70batch/s, loss=-17.3821, loss_avg=-18.3, lr=0.0020] \n",
      "Epoch 48 Validating: 100%|██████████| 79/79 [00:01<00:00, 48.97batch/s, loss_avg=-5.1767, val_loss=-5.2956]\n"
     ]
    },
    {
     "name": "stdout",
     "output_type": "stream",
     "text": [
      " \n"
     ]
    },
    {
     "name": "stderr",
     "output_type": "stream",
     "text": [
      "Epoch 49 Training: 100%|██████████| 235/235 [00:02<00:00, 94.01batch/s, loss=-14.6246, loss_avg=-18.3, lr=0.0020] \n",
      "Epoch 49 Validating: 100%|██████████| 79/79 [00:01<00:00, 49.27batch/s, loss_avg=-4.0399, val_loss=-2.6721]\n"
     ]
    },
    {
     "name": "stdout",
     "output_type": "stream",
     "text": [
      " \n"
     ]
    },
    {
     "name": "stderr",
     "output_type": "stream",
     "text": [
      "Epoch 50 Training: 100%|██████████| 235/235 [00:02<00:00, 91.03batch/s, loss=-15.8497, loss_avg=-14.7, lr=0.0020] \n",
      "Epoch 50 Validating: 100%|██████████| 79/79 [00:01<00:00, 48.61batch/s, loss_avg=3.4452, val_loss=6.2706]\n"
     ]
    },
    {
     "name": "stdout",
     "output_type": "stream",
     "text": [
      " \n"
     ]
    },
    {
     "name": "stderr",
     "output_type": "stream",
     "text": [
      "Epoch 51 Training: 100%|██████████| 235/235 [00:02<00:00, 83.36batch/s, loss=-18.4345, loss_avg=-15.4, lr=0.0020] \n",
      "Epoch 51 Validating: 100%|██████████| 79/79 [00:01<00:00, 49.16batch/s, loss_avg=40.6292, val_loss=58.4600]\n"
     ]
    },
    {
     "name": "stdout",
     "output_type": "stream",
     "text": [
      " \n"
     ]
    },
    {
     "name": "stderr",
     "output_type": "stream",
     "text": [
      "Epoch 52 Training: 100%|██████████| 235/235 [00:02<00:00, 93.67batch/s, loss=-16.1373, loss_avg=-15.9, lr=0.0020] \n",
      "Epoch 52 Validating: 100%|██████████| 79/79 [00:01<00:00, 49.89batch/s, loss_avg=14.6346, val_loss=16.0131]\n"
     ]
    },
    {
     "name": "stdout",
     "output_type": "stream",
     "text": [
      " \n"
     ]
    },
    {
     "name": "stderr",
     "output_type": "stream",
     "text": [
      "Epoch 53 Training: 100%|██████████| 235/235 [00:02<00:00, 96.07batch/s, loss=-18.0268, loss_avg=-16.8, lr=0.0020] \n",
      "Epoch 53 Validating: 100%|██████████| 79/79 [00:01<00:00, 50.61batch/s, loss_avg=9.4092, val_loss=9.2404] \n"
     ]
    },
    {
     "name": "stdout",
     "output_type": "stream",
     "text": [
      " \n"
     ]
    },
    {
     "name": "stderr",
     "output_type": "stream",
     "text": [
      "Epoch 54 Training: 100%|██████████| 235/235 [00:02<00:00, 94.22batch/s, loss=-18.2409, loss_avg=-16.9, lr=0.0020] \n",
      "Epoch 54 Validating: 100%|██████████| 79/79 [00:01<00:00, 51.60batch/s, loss_avg=9.3243, val_loss=11.4437]\n"
     ]
    },
    {
     "name": "stdout",
     "output_type": "stream",
     "text": [
      " \n"
     ]
    },
    {
     "name": "stderr",
     "output_type": "stream",
     "text": [
      "Epoch 55 Training: 100%|██████████| 235/235 [00:02<00:00, 95.87batch/s, loss=-19.5916, loss_avg=-18.4, lr=0.0020] \n",
      "Epoch 55 Validating: 100%|██████████| 79/79 [00:01<00:00, 52.33batch/s, loss_avg=-1.2411, val_loss=-0.1689]\n"
     ]
    },
    {
     "name": "stdout",
     "output_type": "stream",
     "text": [
      " \n"
     ]
    },
    {
     "name": "stderr",
     "output_type": "stream",
     "text": [
      "Epoch 56 Training: 100%|██████████| 235/235 [00:02<00:00, 91.06batch/s, loss=-18.8731, loss_avg=-17.8, lr=0.0020] \n",
      "Epoch 56 Validating: 100%|██████████| 79/79 [00:01<00:00, 50.22batch/s, loss_avg=-3.5058, val_loss=-4.7575]\n"
     ]
    },
    {
     "name": "stdout",
     "output_type": "stream",
     "text": [
      "Save Best model: Loss:-4.7575, Loss Avg:-3.5058\n"
     ]
    },
    {
     "name": "stderr",
     "output_type": "stream",
     "text": [
      "Epoch 57 Training: 100%|██████████| 235/235 [00:02<00:00, 97.72batch/s, loss=-18.9704, loss_avg=-17.6, lr=0.0020] \n",
      "Epoch 57 Validating: 100%|██████████| 79/79 [00:01<00:00, 51.27batch/s, loss_avg=3.9581, val_loss=2.8776]\n"
     ]
    },
    {
     "name": "stdout",
     "output_type": "stream",
     "text": [
      " \n"
     ]
    },
    {
     "name": "stderr",
     "output_type": "stream",
     "text": [
      "Epoch 58 Training: 100%|██████████| 235/235 [00:02<00:00, 92.96batch/s, loss=-18.8861, loss_avg=-17.7, lr=0.0020] \n",
      "Epoch 58 Validating: 100%|██████████| 79/79 [00:01<00:00, 48.00batch/s, loss_avg=21.1799, val_loss=24.6448]\n"
     ]
    },
    {
     "name": "stdout",
     "output_type": "stream",
     "text": [
      " \n"
     ]
    },
    {
     "name": "stderr",
     "output_type": "stream",
     "text": [
      "Epoch 59 Training: 100%|██████████| 235/235 [00:02<00:00, 86.50batch/s, loss=-19.0785, loss_avg=-18.1, lr=0.0020] \n",
      "Epoch 59 Validating: 100%|██████████| 79/79 [00:01<00:00, 49.77batch/s, loss_avg=1.2669, val_loss=1.4472]\n"
     ]
    },
    {
     "name": "stdout",
     "output_type": "stream",
     "text": [
      " \n"
     ]
    },
    {
     "name": "stderr",
     "output_type": "stream",
     "text": [
      "Epoch 60 Training: 100%|██████████| 235/235 [00:02<00:00, 90.94batch/s, loss=-19.6307, loss_avg=-18.8, lr=0.0020] \n",
      "Epoch 60 Validating: 100%|██████████| 79/79 [00:01<00:00, 50.00batch/s, loss_avg=0.1420, val_loss=0.2430] \n"
     ]
    },
    {
     "name": "stdout",
     "output_type": "stream",
     "text": [
      " \n"
     ]
    },
    {
     "name": "stderr",
     "output_type": "stream",
     "text": [
      "Epoch 61 Training: 100%|██████████| 235/235 [00:02<00:00, 89.95batch/s, loss=-19.1503, loss_avg=-18.1, lr=0.0020] \n",
      "Epoch 61 Validating: 100%|██████████| 79/79 [00:01<00:00, 50.45batch/s, loss_avg=50.5117, val_loss=51.5038] \n"
     ]
    },
    {
     "name": "stdout",
     "output_type": "stream",
     "text": [
      " \n"
     ]
    },
    {
     "name": "stderr",
     "output_type": "stream",
     "text": [
      "Epoch 62 Training: 100%|██████████| 235/235 [00:02<00:00, 90.67batch/s, loss=-15.7540, loss_avg=-17.6, lr=0.0020] \n",
      "Epoch 62 Validating: 100%|██████████| 79/79 [00:01<00:00, 50.13batch/s, loss_avg=-2.5968, val_loss=-2.6380]\n"
     ]
    },
    {
     "name": "stdout",
     "output_type": "stream",
     "text": [
      " \n"
     ]
    },
    {
     "name": "stderr",
     "output_type": "stream",
     "text": [
      "Epoch 63 Training: 100%|██████████| 235/235 [00:02<00:00, 93.21batch/s, loss=-18.5728, loss_avg=-16.9, lr=0.0020] \n",
      "Epoch 63 Validating: 100%|██████████| 79/79 [00:01<00:00, 49.56batch/s, loss_avg=3.7246, val_loss=4.5418]\n"
     ]
    },
    {
     "name": "stdout",
     "output_type": "stream",
     "text": [
      " \n"
     ]
    },
    {
     "name": "stderr",
     "output_type": "stream",
     "text": [
      "Epoch 64 Training: 100%|██████████| 235/235 [00:02<00:00, 91.02batch/s, loss=-18.4730, loss_avg=-17.7, lr=0.0020] \n",
      "Epoch 64 Validating: 100%|██████████| 79/79 [00:01<00:00, 49.08batch/s, loss_avg=18.2334, val_loss=22.5387]\n"
     ]
    },
    {
     "name": "stdout",
     "output_type": "stream",
     "text": [
      " \n"
     ]
    },
    {
     "name": "stderr",
     "output_type": "stream",
     "text": [
      "Epoch 65 Training: 100%|██████████| 235/235 [00:02<00:00, 92.81batch/s, loss=-19.4905, loss_avg=-18.2, lr=0.0020] \n",
      "Epoch 65 Validating: 100%|██████████| 79/79 [00:01<00:00, 50.92batch/s, loss_avg=4.3380, val_loss=7.3698]\n"
     ]
    },
    {
     "name": "stdout",
     "output_type": "stream",
     "text": [
      " \n"
     ]
    },
    {
     "name": "stderr",
     "output_type": "stream",
     "text": [
      "Epoch 66 Training: 100%|██████████| 235/235 [00:02<00:00, 90.44batch/s, loss=-18.5448, loss_avg=-18.4, lr=0.0020] \n",
      "Epoch 66 Validating: 100%|██████████| 79/79 [00:01<00:00, 50.32batch/s, loss_avg=6.5628, val_loss=5.6649]\n"
     ]
    },
    {
     "name": "stdout",
     "output_type": "stream",
     "text": [
      " \n"
     ]
    },
    {
     "name": "stderr",
     "output_type": "stream",
     "text": [
      "Epoch 67 Training: 100%|██████████| 235/235 [00:02<00:00, 90.35batch/s, loss=-17.9091, loss_avg=-18, lr=0.0020]   \n",
      "Epoch 67 Validating: 100%|██████████| 79/79 [00:01<00:00, 49.87batch/s, loss_avg=-4.6761, val_loss=-6.3671]\n"
     ]
    },
    {
     "name": "stdout",
     "output_type": "stream",
     "text": [
      "Save Best model: Loss:-6.3671, Loss Avg:-4.6761\n"
     ]
    },
    {
     "name": "stderr",
     "output_type": "stream",
     "text": [
      "Epoch 68 Training: 100%|██████████| 235/235 [00:02<00:00, 93.11batch/s, loss=-19.6484, loss_avg=-18.6, lr=0.0020] \n",
      "Epoch 68 Validating: 100%|██████████| 79/79 [00:01<00:00, 50.11batch/s, loss_avg=-0.5477, val_loss=-0.3990]\n"
     ]
    },
    {
     "name": "stdout",
     "output_type": "stream",
     "text": [
      " \n"
     ]
    },
    {
     "name": "stderr",
     "output_type": "stream",
     "text": [
      "Epoch 69 Training: 100%|██████████| 235/235 [00:02<00:00, 92.68batch/s, loss=-19.4017, loss_avg=-17.2, lr=0.0020] \n",
      "Epoch 69 Validating: 100%|██████████| 79/79 [00:01<00:00, 49.35batch/s, loss_avg=32.1019, val_loss=34.1688]\n"
     ]
    },
    {
     "name": "stdout",
     "output_type": "stream",
     "text": [
      " \n"
     ]
    },
    {
     "name": "stderr",
     "output_type": "stream",
     "text": [
      "Epoch 70 Training: 100%|██████████| 235/235 [00:02<00:00, 93.42batch/s, loss=-17.7472, loss_avg=-16, lr=0.0020]   \n",
      "Epoch 70 Validating: 100%|██████████| 79/79 [00:01<00:00, 49.18batch/s, loss_avg=12.3343, val_loss=14.0796]\n"
     ]
    },
    {
     "name": "stdout",
     "output_type": "stream",
     "text": [
      " \n"
     ]
    },
    {
     "name": "stderr",
     "output_type": "stream",
     "text": [
      "Epoch 71 Training: 100%|██████████| 235/235 [00:02<00:00, 90.17batch/s, loss=-18.8326, loss_avg=-17.9, lr=0.0020] \n",
      "Epoch 71 Validating: 100%|██████████| 79/79 [00:01<00:00, 49.59batch/s, loss_avg=18.0204, val_loss=13.7173]\n"
     ]
    },
    {
     "name": "stdout",
     "output_type": "stream",
     "text": [
      " \n"
     ]
    },
    {
     "name": "stderr",
     "output_type": "stream",
     "text": [
      "Epoch 72 Training: 100%|██████████| 235/235 [00:02<00:00, 92.22batch/s, loss=-19.4116, loss_avg=-18.1, lr=0.0020] \n",
      "Epoch 72 Validating: 100%|██████████| 79/79 [00:01<00:00, 50.84batch/s, loss_avg=14.7919, val_loss=18.1473]\n"
     ]
    },
    {
     "name": "stdout",
     "output_type": "stream",
     "text": [
      " \n"
     ]
    },
    {
     "name": "stderr",
     "output_type": "stream",
     "text": [
      "Epoch 73 Training: 100%|██████████| 235/235 [00:02<00:00, 93.31batch/s, loss=-18.9596, loss_avg=-18.5, lr=0.0020] \n",
      "Epoch 73 Validating: 100%|██████████| 79/79 [00:01<00:00, 49.71batch/s, loss_avg=8.5356, val_loss=7.5037]\n"
     ]
    },
    {
     "name": "stdout",
     "output_type": "stream",
     "text": [
      " \n"
     ]
    },
    {
     "name": "stderr",
     "output_type": "stream",
     "text": [
      "Epoch 74 Training: 100%|██████████| 235/235 [00:02<00:00, 93.30batch/s, loss=-19.7451, loss_avg=-18.6, lr=0.0020] \n",
      "Epoch 74 Validating: 100%|██████████| 79/79 [00:01<00:00, 48.52batch/s, loss_avg=11.1750, val_loss=11.4127]\n"
     ]
    },
    {
     "name": "stdout",
     "output_type": "stream",
     "text": [
      " \n"
     ]
    },
    {
     "name": "stderr",
     "output_type": "stream",
     "text": [
      "Epoch 75 Training: 100%|██████████| 235/235 [00:02<00:00, 92.01batch/s, loss=-19.5987, loss_avg=-18.7, lr=0.0020] \n",
      "Epoch 75 Validating: 100%|██████████| 79/79 [00:01<00:00, 48.86batch/s, loss_avg=7.7032, val_loss=6.0544]\n"
     ]
    },
    {
     "name": "stdout",
     "output_type": "stream",
     "text": [
      " \n"
     ]
    },
    {
     "name": "stderr",
     "output_type": "stream",
     "text": [
      "Epoch 76 Training: 100%|██████████| 235/235 [00:02<00:00, 92.24batch/s, loss=-18.3108, loss_avg=-18.9, lr=0.0020] \n",
      "Epoch 76 Validating: 100%|██████████| 79/79 [00:01<00:00, 46.60batch/s, loss_avg=-0.5753, val_loss=1.0189] \n"
     ]
    },
    {
     "name": "stdout",
     "output_type": "stream",
     "text": [
      " \n"
     ]
    },
    {
     "name": "stderr",
     "output_type": "stream",
     "text": [
      "Epoch 77 Training: 100%|██████████| 235/235 [00:02<00:00, 90.66batch/s, loss=-19.3563, loss_avg=-19.3, lr=0.0020] \n",
      "Epoch 77 Validating: 100%|██████████| 79/79 [00:01<00:00, 48.03batch/s, loss_avg=3.0926, val_loss=2.3408]\n"
     ]
    },
    {
     "name": "stdout",
     "output_type": "stream",
     "text": [
      " \n"
     ]
    },
    {
     "name": "stderr",
     "output_type": "stream",
     "text": [
      "Epoch 78 Training: 100%|██████████| 235/235 [00:02<00:00, 90.76batch/s, loss=-19.3278, loss_avg=-18.3, lr=0.0020] \n",
      "Epoch 78 Validating: 100%|██████████| 79/79 [00:01<00:00, 48.55batch/s, loss_avg=1.1584, val_loss=2.8510]\n"
     ]
    },
    {
     "name": "stdout",
     "output_type": "stream",
     "text": [
      " \n"
     ]
    },
    {
     "name": "stderr",
     "output_type": "stream",
     "text": [
      "Epoch 79 Training: 100%|██████████| 235/235 [00:02<00:00, 93.68batch/s, loss=-19.1561, loss_avg=-19.3, lr=0.0020] \n",
      "Epoch 79 Validating: 100%|██████████| 79/79 [00:01<00:00, 50.84batch/s, loss_avg=-0.0714, val_loss=0.8963] \n"
     ]
    },
    {
     "name": "stdout",
     "output_type": "stream",
     "text": [
      " \n"
     ]
    },
    {
     "name": "stderr",
     "output_type": "stream",
     "text": [
      "Epoch 80 Training: 100%|██████████| 235/235 [00:02<00:00, 90.83batch/s, loss=-19.5901, loss_avg=-19, lr=0.0020]   \n",
      "Epoch 80 Validating: 100%|██████████| 79/79 [00:01<00:00, 46.79batch/s, loss_avg=11.2629, val_loss=12.8675]\n"
     ]
    },
    {
     "name": "stdout",
     "output_type": "stream",
     "text": [
      " \n"
     ]
    },
    {
     "name": "stderr",
     "output_type": "stream",
     "text": [
      "Epoch 81 Training: 100%|██████████| 235/235 [00:02<00:00, 89.97batch/s, loss=-16.6936, loss_avg=-18.8, lr=0.0020] \n",
      "Epoch 81 Validating: 100%|██████████| 79/79 [00:01<00:00, 49.84batch/s, loss_avg=0.7329, val_loss=-0.0339]\n"
     ]
    },
    {
     "name": "stdout",
     "output_type": "stream",
     "text": [
      " \n"
     ]
    },
    {
     "name": "stderr",
     "output_type": "stream",
     "text": [
      "Epoch 82 Training: 100%|██████████| 235/235 [00:02<00:00, 91.02batch/s, loss=-16.3106, loss_avg=-19, lr=0.0020]   \n",
      "Epoch 82 Validating: 100%|██████████| 79/79 [00:01<00:00, 49.28batch/s, loss_avg=0.9907, val_loss=0.9206]\n"
     ]
    },
    {
     "name": "stdout",
     "output_type": "stream",
     "text": [
      " \n"
     ]
    },
    {
     "name": "stderr",
     "output_type": "stream",
     "text": [
      "Epoch 83 Training: 100%|██████████| 235/235 [00:02<00:00, 89.42batch/s, loss=-19.8149, loss_avg=-19.2, lr=0.0020] \n",
      "Epoch 83 Validating: 100%|██████████| 79/79 [00:01<00:00, 49.82batch/s, loss_avg=0.2908, val_loss=-1.9124]\n"
     ]
    },
    {
     "name": "stdout",
     "output_type": "stream",
     "text": [
      " \n"
     ]
    },
    {
     "name": "stderr",
     "output_type": "stream",
     "text": [
      "Epoch 84 Training: 100%|██████████| 235/235 [00:02<00:00, 91.33batch/s, loss=-19.5452, loss_avg=-19.3, lr=0.0020] \n",
      "Epoch 84 Validating: 100%|██████████| 79/79 [00:01<00:00, 49.89batch/s, loss_avg=5.9635, val_loss=5.9572]\n"
     ]
    },
    {
     "name": "stdout",
     "output_type": "stream",
     "text": [
      " \n"
     ]
    },
    {
     "name": "stderr",
     "output_type": "stream",
     "text": [
      "Epoch 85 Training: 100%|██████████| 235/235 [00:02<00:00, 88.70batch/s, loss=-19.1111, loss_avg=-19.1, lr=0.0020] \n",
      "Epoch 85 Validating: 100%|██████████| 79/79 [00:01<00:00, 48.74batch/s, loss_avg=9.5721, val_loss=9.8428] \n"
     ]
    },
    {
     "name": "stdout",
     "output_type": "stream",
     "text": [
      " \n"
     ]
    },
    {
     "name": "stderr",
     "output_type": "stream",
     "text": [
      "Epoch 86 Training: 100%|██████████| 235/235 [00:02<00:00, 90.24batch/s, loss=-19.1635, loss_avg=-19.4, lr=0.0020] \n",
      "Epoch 86 Validating: 100%|██████████| 79/79 [00:01<00:00, 50.57batch/s, loss_avg=10.1458, val_loss=11.2249]\n"
     ]
    },
    {
     "name": "stdout",
     "output_type": "stream",
     "text": [
      " \n"
     ]
    },
    {
     "name": "stderr",
     "output_type": "stream",
     "text": [
      "Epoch 87 Training: 100%|██████████| 235/235 [00:02<00:00, 90.25batch/s, loss=-20.2427, loss_avg=-19.1, lr=0.0020] \n",
      "Epoch 87 Validating: 100%|██████████| 79/79 [00:01<00:00, 47.99batch/s, loss_avg=6.1835, val_loss=6.4728]\n"
     ]
    },
    {
     "name": "stdout",
     "output_type": "stream",
     "text": [
      " \n"
     ]
    },
    {
     "name": "stderr",
     "output_type": "stream",
     "text": [
      "Epoch 88 Training: 100%|██████████| 235/235 [00:02<00:00, 92.35batch/s, loss=-20.2788, loss_avg=-19, lr=0.0020]   \n",
      "Epoch 88 Validating: 100%|██████████| 79/79 [00:01<00:00, 50.70batch/s, loss_avg=8.5577, val_loss=8.9956]\n"
     ]
    },
    {
     "name": "stdout",
     "output_type": "stream",
     "text": [
      " \n"
     ]
    },
    {
     "name": "stderr",
     "output_type": "stream",
     "text": [
      "Epoch 89 Training: 100%|██████████| 235/235 [00:02<00:00, 91.23batch/s, loss=-17.6049, loss_avg=-17.2, lr=0.0020] \n",
      "Epoch 89 Validating: 100%|██████████| 79/79 [00:01<00:00, 48.89batch/s, loss_avg=22.7530, val_loss=20.8409]\n"
     ]
    },
    {
     "name": "stdout",
     "output_type": "stream",
     "text": [
      " \n"
     ]
    },
    {
     "name": "stderr",
     "output_type": "stream",
     "text": [
      "Epoch 90 Training: 100%|██████████| 235/235 [00:02<00:00, 89.99batch/s, loss=-19.8299, loss_avg=-19.1, lr=0.0020] \n",
      "Epoch 90 Validating: 100%|██████████| 79/79 [00:01<00:00, 49.19batch/s, loss_avg=94.1079, val_loss=108.0758]\n"
     ]
    },
    {
     "name": "stdout",
     "output_type": "stream",
     "text": [
      " \n"
     ]
    },
    {
     "name": "stderr",
     "output_type": "stream",
     "text": [
      "Epoch 91 Training: 100%|██████████| 235/235 [00:02<00:00, 90.72batch/s, loss=-19.7239, loss_avg=-19.2, lr=0.0020] \n",
      "Epoch 91 Validating: 100%|██████████| 79/79 [00:01<00:00, 50.09batch/s, loss_avg=72.2826, val_loss=60.2172]\n"
     ]
    },
    {
     "name": "stdout",
     "output_type": "stream",
     "text": [
      " \n"
     ]
    },
    {
     "name": "stderr",
     "output_type": "stream",
     "text": [
      "Epoch 92 Training: 100%|██████████| 235/235 [00:02<00:00, 90.23batch/s, loss=-19.0426, loss_avg=-18.4, lr=0.0020] \n",
      "Epoch 92 Validating: 100%|██████████| 79/79 [00:01<00:00, 49.22batch/s, loss_avg=38.0953, val_loss=38.6178]\n"
     ]
    },
    {
     "name": "stdout",
     "output_type": "stream",
     "text": [
      " \n"
     ]
    },
    {
     "name": "stderr",
     "output_type": "stream",
     "text": [
      "Epoch 93 Training: 100%|██████████| 235/235 [00:02<00:00, 89.34batch/s, loss=-19.5660, loss_avg=-18.6, lr=0.0020] \n",
      "Epoch 93 Validating: 100%|██████████| 79/79 [00:01<00:00, 50.18batch/s, loss_avg=40.6497, val_loss=38.7613]\n"
     ]
    },
    {
     "name": "stdout",
     "output_type": "stream",
     "text": [
      " \n"
     ]
    },
    {
     "name": "stderr",
     "output_type": "stream",
     "text": [
      "Epoch 94 Training: 100%|██████████| 235/235 [00:02<00:00, 92.02batch/s, loss=-20.1099, loss_avg=-19.4, lr=0.0020] \n",
      "Epoch 94 Validating: 100%|██████████| 79/79 [00:01<00:00, 49.39batch/s, loss_avg=78.9331, val_loss=84.2621]\n"
     ]
    },
    {
     "name": "stdout",
     "output_type": "stream",
     "text": [
      " \n"
     ]
    },
    {
     "name": "stderr",
     "output_type": "stream",
     "text": [
      "Epoch 95 Training: 100%|██████████| 235/235 [00:02<00:00, 90.74batch/s, loss=-13.3257, loss_avg=-17.2, lr=0.0020] \n",
      "Epoch 95 Validating: 100%|██████████| 79/79 [00:01<00:00, 49.83batch/s, loss_avg=-9.9910, val_loss=-10.5901] \n"
     ]
    },
    {
     "name": "stdout",
     "output_type": "stream",
     "text": [
      "Save Best model: Loss:-10.5901, Loss Avg:-9.9910\n"
     ]
    },
    {
     "name": "stderr",
     "output_type": "stream",
     "text": [
      "Epoch 96 Training: 100%|██████████| 235/235 [00:02<00:00, 91.23batch/s, loss=-18.9586, loss_avg=-17.3, lr=0.0020] \n",
      "Epoch 96 Validating: 100%|██████████| 79/79 [00:01<00:00, 49.29batch/s, loss_avg=-0.6379, val_loss=-0.9473]\n"
     ]
    },
    {
     "name": "stdout",
     "output_type": "stream",
     "text": [
      " \n"
     ]
    },
    {
     "name": "stderr",
     "output_type": "stream",
     "text": [
      "Epoch 97 Training: 100%|██████████| 235/235 [00:02<00:00, 91.26batch/s, loss=-17.4195, loss_avg=-18.3, lr=0.0020] \n",
      "Epoch 97 Validating: 100%|██████████| 79/79 [00:01<00:00, 50.23batch/s, loss_avg=1.5650, val_loss=0.9374]\n"
     ]
    },
    {
     "name": "stdout",
     "output_type": "stream",
     "text": [
      " \n"
     ]
    },
    {
     "name": "stderr",
     "output_type": "stream",
     "text": [
      "Epoch 98 Training: 100%|██████████| 235/235 [00:02<00:00, 90.23batch/s, loss=-19.7410, loss_avg=-18.5, lr=0.0020] \n",
      "Epoch 98 Validating: 100%|██████████| 79/79 [00:01<00:00, 46.95batch/s, loss_avg=48.0996, val_loss=56.4414]\n"
     ]
    },
    {
     "name": "stdout",
     "output_type": "stream",
     "text": [
      " \n"
     ]
    },
    {
     "name": "stderr",
     "output_type": "stream",
     "text": [
      "Epoch 99 Training: 100%|██████████| 235/235 [00:02<00:00, 89.33batch/s, loss=-14.5111, loss_avg=-17, lr=0.0020]   \n",
      "Epoch 99 Validating: 100%|██████████| 79/79 [00:01<00:00, 48.64batch/s, loss_avg=-6.2098, val_loss=-5.7105]\n"
     ]
    },
    {
     "name": "stdout",
     "output_type": "stream",
     "text": [
      " \n"
     ]
    },
    {
     "name": "stderr",
     "output_type": "stream",
     "text": [
      "Epoch 100 Training: 100%|██████████| 235/235 [00:02<00:00, 89.93batch/s, loss=-15.9942, loss_avg=-17.7, lr=0.0020] \n",
      "Epoch 100 Validating: 100%|██████████| 79/79 [00:01<00:00, 49.63batch/s, loss_avg=-4.0015, val_loss=-3.1750]\n"
     ]
    },
    {
     "name": "stdout",
     "output_type": "stream",
     "text": [
      " \n"
     ]
    },
    {
     "name": "stderr",
     "output_type": "stream",
     "text": [
      "Epoch 101 Training: 100%|██████████| 235/235 [00:02<00:00, 90.68batch/s, loss=-19.6158, loss_avg=-18.6, lr=0.0020] \n",
      "Epoch 101 Validating: 100%|██████████| 79/79 [00:01<00:00, 47.48batch/s, loss_avg=90.3684, val_loss=100.9172]\n"
     ]
    },
    {
     "name": "stdout",
     "output_type": "stream",
     "text": [
      " \n"
     ]
    },
    {
     "name": "stderr",
     "output_type": "stream",
     "text": [
      "Epoch 102 Training: 100%|██████████| 235/235 [00:02<00:00, 92.76batch/s, loss=-19.7366, loss_avg=-18.1, lr=0.0020] \n",
      "Epoch 102 Validating: 100%|██████████| 79/79 [00:01<00:00, 50.45batch/s, loss_avg=71.7655, val_loss=55.3320]\n"
     ]
    },
    {
     "name": "stdout",
     "output_type": "stream",
     "text": [
      " \n"
     ]
    },
    {
     "name": "stderr",
     "output_type": "stream",
     "text": [
      "Epoch 103 Training: 100%|██████████| 235/235 [00:02<00:00, 88.98batch/s, loss=-19.3049, loss_avg=-18.2, lr=0.0020] \n",
      "Epoch 103 Validating: 100%|██████████| 79/79 [00:01<00:00, 50.55batch/s, loss_avg=49.5402, val_loss=46.7740]\n"
     ]
    },
    {
     "name": "stdout",
     "output_type": "stream",
     "text": [
      " \n"
     ]
    },
    {
     "name": "stderr",
     "output_type": "stream",
     "text": [
      "Epoch 104 Training: 100%|██████████| 235/235 [00:02<00:00, 91.25batch/s, loss=-19.8817, loss_avg=-19.3, lr=0.0020] \n",
      "Epoch 104 Validating: 100%|██████████| 79/79 [00:01<00:00, 50.75batch/s, loss_avg=104.1484, val_loss=86.4743] \n"
     ]
    },
    {
     "name": "stdout",
     "output_type": "stream",
     "text": [
      " \n"
     ]
    },
    {
     "name": "stderr",
     "output_type": "stream",
     "text": [
      "Epoch 105 Training: 100%|██████████| 235/235 [00:02<00:00, 93.58batch/s, loss=-19.8186, loss_avg=-19.3, lr=0.0020] \n",
      "Epoch 105 Validating: 100%|██████████| 79/79 [00:01<00:00, 50.33batch/s, loss_avg=127.4739, val_loss=136.3764]\n"
     ]
    },
    {
     "name": "stdout",
     "output_type": "stream",
     "text": [
      " \n"
     ]
    },
    {
     "name": "stderr",
     "output_type": "stream",
     "text": [
      "Epoch 106 Training: 100%|██████████| 235/235 [00:02<00:00, 92.12batch/s, loss=-18.4764, loss_avg=-18.7, lr=0.0020] \n",
      "Epoch 106 Validating: 100%|██████████| 79/79 [00:01<00:00, 50.31batch/s, loss_avg=63.2853, val_loss=65.3988]\n"
     ]
    },
    {
     "name": "stdout",
     "output_type": "stream",
     "text": [
      " \n"
     ]
    },
    {
     "name": "stderr",
     "output_type": "stream",
     "text": [
      "Epoch 107 Training: 100%|██████████| 235/235 [00:02<00:00, 91.79batch/s, loss=-12.0613, loss_avg=-19.2, lr=0.0020] \n",
      "Epoch 107 Validating: 100%|██████████| 79/79 [00:01<00:00, 48.56batch/s, loss_avg=70.2791, val_loss=51.7348]\n"
     ]
    },
    {
     "name": "stdout",
     "output_type": "stream",
     "text": [
      " \n"
     ]
    },
    {
     "name": "stderr",
     "output_type": "stream",
     "text": [
      "Epoch 108 Training: 100%|██████████| 235/235 [00:02<00:00, 92.17batch/s, loss=-20.0795, loss_avg=-19.4, lr=0.0020] \n",
      "Epoch 108 Validating: 100%|██████████| 79/79 [00:01<00:00, 48.80batch/s, loss_avg=102.5389, val_loss=94.7502] \n"
     ]
    },
    {
     "name": "stdout",
     "output_type": "stream",
     "text": [
      " \n"
     ]
    },
    {
     "name": "stderr",
     "output_type": "stream",
     "text": [
      "Epoch 109 Training: 100%|██████████| 235/235 [00:02<00:00, 92.26batch/s, loss=-17.1865, loss_avg=-19.3, lr=0.0020] \n",
      "Epoch 109 Validating: 100%|██████████| 79/79 [00:01<00:00, 48.78batch/s, loss_avg=19.6430, val_loss=24.0098]\n"
     ]
    },
    {
     "name": "stdout",
     "output_type": "stream",
     "text": [
      " \n"
     ]
    },
    {
     "name": "stderr",
     "output_type": "stream",
     "text": [
      "Epoch 110 Training: 100%|██████████| 235/235 [00:02<00:00, 94.78batch/s, loss=-18.9346, loss_avg=-19.4, lr=0.0020] \n",
      "Epoch 110 Validating: 100%|██████████| 79/79 [00:01<00:00, 48.90batch/s, loss_avg=110.3446, val_loss=114.2481]\n"
     ]
    },
    {
     "name": "stdout",
     "output_type": "stream",
     "text": [
      " \n"
     ]
    },
    {
     "name": "stderr",
     "output_type": "stream",
     "text": [
      "Epoch 111 Training: 100%|██████████| 235/235 [00:02<00:00, 90.94batch/s, loss=-19.4602, loss_avg=-17.9, lr=0.0020] \n",
      "Epoch 111 Validating: 100%|██████████| 79/79 [00:01<00:00, 48.85batch/s, loss_avg=82.3924, val_loss=86.5827]\n"
     ]
    },
    {
     "name": "stdout",
     "output_type": "stream",
     "text": [
      " \n"
     ]
    },
    {
     "name": "stderr",
     "output_type": "stream",
     "text": [
      "Epoch 112 Training: 100%|██████████| 235/235 [00:02<00:00, 91.40batch/s, loss=-19.4645, loss_avg=-18, lr=0.0020]   \n",
      "Epoch 112 Validating: 100%|██████████| 79/79 [00:01<00:00, 49.61batch/s, loss_avg=63.5855, val_loss=73.9644]\n"
     ]
    },
    {
     "name": "stdout",
     "output_type": "stream",
     "text": [
      " \n"
     ]
    },
    {
     "name": "stderr",
     "output_type": "stream",
     "text": [
      "Epoch 113 Training: 100%|██████████| 235/235 [00:02<00:00, 89.02batch/s, loss=-19.8210, loss_avg=-19.3, lr=0.0020] \n",
      "Epoch 113 Validating: 100%|██████████| 79/79 [00:01<00:00, 50.11batch/s, loss_avg=90.0469, val_loss=101.0222]\n"
     ]
    },
    {
     "name": "stdout",
     "output_type": "stream",
     "text": [
      " \n"
     ]
    },
    {
     "name": "stderr",
     "output_type": "stream",
     "text": [
      "Epoch 114 Training: 100%|██████████| 235/235 [00:02<00:00, 92.44batch/s, loss=-19.8578, loss_avg=-18.9, lr=0.0020] \n",
      "Epoch 114 Validating: 100%|██████████| 79/79 [00:01<00:00, 50.18batch/s, loss_avg=90.1298, val_loss=106.2395]\n"
     ]
    },
    {
     "name": "stdout",
     "output_type": "stream",
     "text": [
      " \n"
     ]
    },
    {
     "name": "stderr",
     "output_type": "stream",
     "text": [
      "Epoch 115 Training: 100%|██████████| 235/235 [00:02<00:00, 90.51batch/s, loss=-19.9881, loss_avg=-19.4, lr=0.0020] \n",
      "Epoch 115 Validating: 100%|██████████| 79/79 [00:01<00:00, 48.87batch/s, loss_avg=97.6388, val_loss=86.7974] \n"
     ]
    },
    {
     "name": "stdout",
     "output_type": "stream",
     "text": [
      " \n"
     ]
    },
    {
     "name": "stderr",
     "output_type": "stream",
     "text": [
      "Epoch 116 Training: 100%|██████████| 235/235 [00:02<00:00, 92.22batch/s, loss=-19.6772, loss_avg=-17.2, lr=0.0020] \n",
      "Epoch 116 Validating: 100%|██████████| 79/79 [00:01<00:00, 48.60batch/s, loss_avg=72.7300, val_loss=73.1211]\n"
     ]
    },
    {
     "name": "stdout",
     "output_type": "stream",
     "text": [
      " \n"
     ]
    },
    {
     "name": "stderr",
     "output_type": "stream",
     "text": [
      "Epoch 117 Training: 100%|██████████| 235/235 [00:02<00:00, 94.30batch/s, loss=17.4226, loss_avg=-19.2, lr=0.0020]  \n",
      "Epoch 117 Validating: 100%|██████████| 79/79 [00:01<00:00, 52.41batch/s, loss_avg=52.2489, val_loss=55.1404]\n"
     ]
    },
    {
     "name": "stdout",
     "output_type": "stream",
     "text": [
      " \n"
     ]
    },
    {
     "name": "stderr",
     "output_type": "stream",
     "text": [
      "Epoch 118 Training: 100%|██████████| 235/235 [00:02<00:00, 94.01batch/s, loss=-19.4480, loss_avg=-18.6, lr=0.0020] \n",
      "Epoch 118 Validating: 100%|██████████| 79/79 [00:01<00:00, 48.41batch/s, loss_avg=82.1548, val_loss=81.4482]\n"
     ]
    },
    {
     "name": "stdout",
     "output_type": "stream",
     "text": [
      " \n"
     ]
    },
    {
     "name": "stderr",
     "output_type": "stream",
     "text": [
      "Epoch 119 Training: 100%|██████████| 235/235 [00:02<00:00, 94.94batch/s, loss=-17.2967, loss_avg=-19.4, lr=0.0020] \n",
      "Epoch 119 Validating: 100%|██████████| 79/79 [00:01<00:00, 50.49batch/s, loss_avg=111.4360, val_loss=117.5527]\n"
     ]
    },
    {
     "name": "stdout",
     "output_type": "stream",
     "text": [
      " \n"
     ]
    },
    {
     "name": "stderr",
     "output_type": "stream",
     "text": [
      "Epoch 120 Training: 100%|██████████| 235/235 [00:02<00:00, 92.40batch/s, loss=-20.0951, loss_avg=-19.6, lr=0.0020] \n",
      "Epoch 120 Validating: 100%|██████████| 79/79 [00:01<00:00, 49.77batch/s, loss_avg=105.0700, val_loss=92.7481] \n"
     ]
    },
    {
     "name": "stdout",
     "output_type": "stream",
     "text": [
      " \n"
     ]
    },
    {
     "name": "stderr",
     "output_type": "stream",
     "text": [
      "Epoch 121 Training: 100%|██████████| 235/235 [00:02<00:00, 93.16batch/s, loss=-18.6129, loss_avg=-19.3, lr=0.0020] \n",
      "Epoch 121 Validating: 100%|██████████| 79/79 [00:01<00:00, 49.50batch/s, loss_avg=19.5527, val_loss=19.8355]\n"
     ]
    },
    {
     "name": "stdout",
     "output_type": "stream",
     "text": [
      " \n"
     ]
    },
    {
     "name": "stderr",
     "output_type": "stream",
     "text": [
      "Epoch 122 Training: 100%|██████████| 235/235 [00:02<00:00, 92.24batch/s, loss=-18.0964, loss_avg=-19, lr=0.0020]   \n",
      "Epoch 122 Validating: 100%|██████████| 79/79 [00:01<00:00, 49.74batch/s, loss_avg=9.7505, val_loss=11.3819]\n"
     ]
    },
    {
     "name": "stdout",
     "output_type": "stream",
     "text": [
      " \n"
     ]
    },
    {
     "name": "stderr",
     "output_type": "stream",
     "text": [
      "Epoch 123 Training: 100%|██████████| 235/235 [00:02<00:00, 91.49batch/s, loss=-19.0657, loss_avg=-19.4, lr=0.0020] \n",
      "Epoch 123 Validating: 100%|██████████| 79/79 [00:01<00:00, 50.99batch/s, loss_avg=23.0039, val_loss=21.4844]\n"
     ]
    },
    {
     "name": "stdout",
     "output_type": "stream",
     "text": [
      " \n"
     ]
    },
    {
     "name": "stderr",
     "output_type": "stream",
     "text": [
      "Epoch 124 Training: 100%|██████████| 235/235 [00:02<00:00, 89.36batch/s, loss=-19.9522, loss_avg=-19.4, lr=0.0020] \n",
      "Epoch 124 Validating: 100%|██████████| 79/79 [00:01<00:00, 48.33batch/s, loss_avg=64.4615, val_loss=67.7025]\n"
     ]
    },
    {
     "name": "stdout",
     "output_type": "stream",
     "text": [
      " \n"
     ]
    },
    {
     "name": "stderr",
     "output_type": "stream",
     "text": [
      "Epoch 125 Training: 100%|██████████| 235/235 [00:02<00:00, 90.01batch/s, loss=-19.7976, loss_avg=-19.4, lr=0.0020] \n",
      "Epoch 125 Validating: 100%|██████████| 79/79 [00:01<00:00, 51.16batch/s, loss_avg=83.9871, val_loss=87.9072]\n"
     ]
    },
    {
     "name": "stdout",
     "output_type": "stream",
     "text": [
      " \n"
     ]
    },
    {
     "name": "stderr",
     "output_type": "stream",
     "text": [
      "Epoch 126 Training: 100%|██████████| 235/235 [00:02<00:00, 92.25batch/s, loss=-19.6331, loss_avg=-19.2, lr=0.0020] \n",
      "Epoch 126 Validating: 100%|██████████| 79/79 [00:01<00:00, 49.92batch/s, loss_avg=78.6654, val_loss=77.2237]\n"
     ]
    },
    {
     "name": "stdout",
     "output_type": "stream",
     "text": [
      " \n"
     ]
    },
    {
     "name": "stderr",
     "output_type": "stream",
     "text": [
      "Epoch 127 Training: 100%|██████████| 235/235 [00:02<00:00, 92.06batch/s, loss=-18.9995, loss_avg=-18.9, lr=0.0020] \n",
      "Epoch 127 Validating: 100%|██████████| 79/79 [00:01<00:00, 48.59batch/s, loss_avg=44.6663, val_loss=52.8643]\n"
     ]
    },
    {
     "name": "stdout",
     "output_type": "stream",
     "text": [
      " \n"
     ]
    },
    {
     "name": "stderr",
     "output_type": "stream",
     "text": [
      "Epoch 128 Training: 100%|██████████| 235/235 [00:02<00:00, 93.06batch/s, loss=-19.8107, loss_avg=-19.6, lr=0.0020] \n",
      "Epoch 128 Validating: 100%|██████████| 79/79 [00:01<00:00, 48.02batch/s, loss_avg=58.3917, val_loss=50.4877]\n"
     ]
    },
    {
     "name": "stdout",
     "output_type": "stream",
     "text": [
      " \n"
     ]
    },
    {
     "name": "stderr",
     "output_type": "stream",
     "text": [
      "Epoch 129 Training: 100%|██████████| 235/235 [00:02<00:00, 91.51batch/s, loss=-19.8476, loss_avg=-19.6, lr=0.0020] \n",
      "Epoch 129 Validating: 100%|██████████| 79/79 [00:01<00:00, 49.97batch/s, loss_avg=81.8539, val_loss=91.9820]\n"
     ]
    },
    {
     "name": "stdout",
     "output_type": "stream",
     "text": [
      " \n"
     ]
    },
    {
     "name": "stderr",
     "output_type": "stream",
     "text": [
      "Epoch 130 Training: 100%|██████████| 235/235 [00:02<00:00, 91.40batch/s, loss=-19.0061, loss_avg=-19.3, lr=0.0020] \n",
      "Epoch 130 Validating: 100%|██████████| 79/79 [00:01<00:00, 51.20batch/s, loss_avg=98.0307, val_loss=104.6863]\n"
     ]
    },
    {
     "name": "stdout",
     "output_type": "stream",
     "text": [
      " \n"
     ]
    },
    {
     "name": "stderr",
     "output_type": "stream",
     "text": [
      "Epoch 131 Training: 100%|██████████| 235/235 [00:02<00:00, 89.93batch/s, loss=-19.8406, loss_avg=-19.8, lr=0.0020] \n",
      "Epoch 131 Validating: 100%|██████████| 79/79 [00:01<00:00, 50.27batch/s, loss_avg=88.8501, val_loss=96.0704]\n"
     ]
    },
    {
     "name": "stdout",
     "output_type": "stream",
     "text": [
      " \n"
     ]
    },
    {
     "name": "stderr",
     "output_type": "stream",
     "text": [
      "Epoch 132 Training: 100%|██████████| 235/235 [00:02<00:00, 90.79batch/s, loss=-19.8786, loss_avg=-19.3, lr=0.0020] \n",
      "Epoch 132 Validating: 100%|██████████| 79/79 [00:01<00:00, 50.12batch/s, loss_avg=67.2884, val_loss=87.6434]\n"
     ]
    },
    {
     "name": "stdout",
     "output_type": "stream",
     "text": [
      " \n"
     ]
    },
    {
     "name": "stderr",
     "output_type": "stream",
     "text": [
      "Epoch 133 Training: 100%|██████████| 235/235 [00:02<00:00, 92.20batch/s, loss=-19.2689, loss_avg=-19.4, lr=0.0020] \n",
      "Epoch 133 Validating: 100%|██████████| 79/79 [00:01<00:00, 47.76batch/s, loss_avg=35.7815, val_loss=37.1148]\n"
     ]
    },
    {
     "name": "stdout",
     "output_type": "stream",
     "text": [
      " \n"
     ]
    },
    {
     "name": "stderr",
     "output_type": "stream",
     "text": [
      "Epoch 134 Training: 100%|██████████| 235/235 [00:02<00:00, 92.83batch/s, loss=-20.0094, loss_avg=-19.3, lr=0.0020] \n",
      "Epoch 134 Validating: 100%|██████████| 79/79 [00:01<00:00, 47.81batch/s, loss_avg=88.0975, val_loss=85.0646]\n"
     ]
    },
    {
     "name": "stdout",
     "output_type": "stream",
     "text": [
      " \n"
     ]
    },
    {
     "name": "stderr",
     "output_type": "stream",
     "text": [
      "Epoch 135 Training: 100%|██████████| 235/235 [00:02<00:00, 93.05batch/s, loss=-19.4473, loss_avg=-18.7, lr=0.0020] \n",
      "Epoch 135 Validating: 100%|██████████| 79/79 [00:01<00:00, 49.30batch/s, loss_avg=63.7017, val_loss=73.4625]\n"
     ]
    },
    {
     "name": "stdout",
     "output_type": "stream",
     "text": [
      " \n"
     ]
    },
    {
     "name": "stderr",
     "output_type": "stream",
     "text": [
      "Epoch 136 Training: 100%|██████████| 235/235 [00:02<00:00, 91.84batch/s, loss=-20.1503, loss_avg=-19.9, lr=0.0020] \n",
      "Epoch 136 Validating: 100%|██████████| 79/79 [00:01<00:00, 51.03batch/s, loss_avg=129.3394, val_loss=111.3735]\n"
     ]
    },
    {
     "name": "stdout",
     "output_type": "stream",
     "text": [
      " \n"
     ]
    },
    {
     "name": "stderr",
     "output_type": "stream",
     "text": [
      "Epoch 137 Training: 100%|██████████| 235/235 [00:02<00:00, 93.13batch/s, loss=-20.1317, loss_avg=-19.3, lr=0.0020] \n",
      "Epoch 137 Validating: 100%|██████████| 79/79 [00:01<00:00, 48.37batch/s, loss_avg=127.8033, val_loss=122.0901]\n"
     ]
    },
    {
     "name": "stdout",
     "output_type": "stream",
     "text": [
      " \n"
     ]
    },
    {
     "name": "stderr",
     "output_type": "stream",
     "text": [
      "Epoch 138 Training: 100%|██████████| 235/235 [00:02<00:00, 93.33batch/s, loss=-20.3441, loss_avg=-19.8, lr=0.0020] \n",
      "Epoch 138 Validating: 100%|██████████| 79/79 [00:01<00:00, 48.37batch/s, loss_avg=133.1222, val_loss=127.2153]\n"
     ]
    },
    {
     "name": "stdout",
     "output_type": "stream",
     "text": [
      " \n"
     ]
    },
    {
     "name": "stderr",
     "output_type": "stream",
     "text": [
      "Epoch 139 Training: 100%|██████████| 235/235 [00:02<00:00, 91.18batch/s, loss=-20.3282, loss_avg=-19.5, lr=0.0020] \n",
      "Epoch 139 Validating: 100%|██████████| 79/79 [00:01<00:00, 49.75batch/s, loss_avg=101.7521, val_loss=114.2309]\n"
     ]
    },
    {
     "name": "stdout",
     "output_type": "stream",
     "text": [
      " \n"
     ]
    },
    {
     "name": "stderr",
     "output_type": "stream",
     "text": [
      "Epoch 140 Training: 100%|██████████| 235/235 [00:02<00:00, 90.69batch/s, loss=-19.6783, loss_avg=-19.8, lr=0.0020] \n",
      "Epoch 140 Validating: 100%|██████████| 79/79 [00:01<00:00, 49.07batch/s, loss_avg=124.9333, val_loss=109.2814]\n"
     ]
    },
    {
     "name": "stdout",
     "output_type": "stream",
     "text": [
      " \n"
     ]
    },
    {
     "name": "stderr",
     "output_type": "stream",
     "text": [
      "Epoch 141 Training: 100%|██████████| 235/235 [00:02<00:00, 90.65batch/s, loss=-20.1729, loss_avg=-19.1, lr=0.0020] \n",
      "Epoch 141 Validating: 100%|██████████| 79/79 [00:01<00:00, 49.45batch/s, loss_avg=108.5994, val_loss=111.7609]\n"
     ]
    },
    {
     "name": "stdout",
     "output_type": "stream",
     "text": [
      " \n"
     ]
    },
    {
     "name": "stderr",
     "output_type": "stream",
     "text": [
      "Epoch 142 Training: 100%|██████████| 235/235 [00:02<00:00, 89.62batch/s, loss=-19.1296, loss_avg=-19, lr=0.0020]   \n",
      "Epoch 142 Validating: 100%|██████████| 79/79 [00:01<00:00, 49.98batch/s, loss_avg=29.8632, val_loss=35.8721]\n"
     ]
    },
    {
     "name": "stdout",
     "output_type": "stream",
     "text": [
      " \n"
     ]
    },
    {
     "name": "stderr",
     "output_type": "stream",
     "text": [
      "Epoch 143 Training: 100%|██████████| 235/235 [00:02<00:00, 89.29batch/s, loss=27.0458, loss_avg=-19.6, lr=0.0020]  \n",
      "Epoch 143 Validating: 100%|██████████| 79/79 [00:01<00:00, 49.53batch/s, loss_avg=163.4104, val_loss=168.6144]\n"
     ]
    },
    {
     "name": "stdout",
     "output_type": "stream",
     "text": [
      " \n"
     ]
    },
    {
     "name": "stderr",
     "output_type": "stream",
     "text": [
      "Epoch 144 Training: 100%|██████████| 235/235 [00:02<00:00, 90.76batch/s, loss=-19.8152, loss_avg=-18.6, lr=0.0020] \n",
      "Epoch 144 Validating: 100%|██████████| 79/79 [00:01<00:00, 48.95batch/s, loss_avg=66.3636, val_loss=61.0513]\n"
     ]
    },
    {
     "name": "stdout",
     "output_type": "stream",
     "text": [
      " \n"
     ]
    },
    {
     "name": "stderr",
     "output_type": "stream",
     "text": [
      "Epoch 145 Training: 100%|██████████| 235/235 [00:02<00:00, 93.71batch/s, loss=-19.8190, loss_avg=-19.4, lr=0.0020] \n",
      "Epoch 145 Validating: 100%|██████████| 79/79 [00:01<00:00, 48.99batch/s, loss_avg=66.7903, val_loss=68.5677]\n"
     ]
    },
    {
     "name": "stdout",
     "output_type": "stream",
     "text": [
      " \n"
     ]
    },
    {
     "name": "stderr",
     "output_type": "stream",
     "text": [
      "Epoch 146 Training: 100%|██████████| 235/235 [00:02<00:00, 92.66batch/s, loss=-20.4827, loss_avg=-20, lr=0.0020]   \n",
      "Epoch 146 Validating: 100%|██████████| 79/79 [00:01<00:00, 49.63batch/s, loss_avg=98.7926, val_loss=88.6485] \n"
     ]
    },
    {
     "name": "stdout",
     "output_type": "stream",
     "text": [
      " \n"
     ]
    },
    {
     "name": "stderr",
     "output_type": "stream",
     "text": [
      "Epoch 147 Training: 100%|██████████| 235/235 [00:02<00:00, 90.06batch/s, loss=-20.4550, loss_avg=-19.6, lr=0.0020] \n",
      "Epoch 147 Validating: 100%|██████████| 79/79 [00:01<00:00, 49.66batch/s, loss_avg=119.7473, val_loss=120.7077]\n"
     ]
    },
    {
     "name": "stdout",
     "output_type": "stream",
     "text": [
      " \n"
     ]
    },
    {
     "name": "stderr",
     "output_type": "stream",
     "text": [
      "Epoch 148 Training: 100%|██████████| 235/235 [00:02<00:00, 92.00batch/s, loss=-20.3137, loss_avg=-19.3, lr=0.0020] \n",
      "Epoch 148 Validating: 100%|██████████| 79/79 [00:01<00:00, 49.85batch/s, loss_avg=116.5919, val_loss=117.3914]\n"
     ]
    },
    {
     "name": "stdout",
     "output_type": "stream",
     "text": [
      " \n"
     ]
    },
    {
     "name": "stderr",
     "output_type": "stream",
     "text": [
      "Epoch 149 Training: 100%|██████████| 235/235 [00:02<00:00, 90.82batch/s, loss=-19.4193, loss_avg=-19.1, lr=0.0020] \n",
      "Epoch 149 Validating: 100%|██████████| 79/79 [00:01<00:00, 49.11batch/s, loss_avg=39.5236, val_loss=40.1238]\n"
     ]
    },
    {
     "name": "stdout",
     "output_type": "stream",
     "text": [
      " \n"
     ]
    },
    {
     "name": "stderr",
     "output_type": "stream",
     "text": [
      "Epoch 150 Training: 100%|██████████| 235/235 [00:02<00:00, 91.31batch/s, loss=-16.1877, loss_avg=-18.9, lr=0.0020] \n",
      "Epoch 150 Validating: 100%|██████████| 79/79 [00:01<00:00, 47.94batch/s, loss_avg=-4.1124, val_loss=-4.4987]"
     ]
    },
    {
     "name": "stdout",
     "output_type": "stream",
     "text": [
      " \n"
     ]
    },
    {
     "name": "stderr",
     "output_type": "stream",
     "text": [
      "\n"
     ]
    }
   ],
   "source": [
    "t_l, v_l = test_train.fit()"
   ],
   "metadata": {
    "collapsed": false,
    "pycharm": {
     "name": "#%%\n"
    }
   }
  },
  {
   "cell_type": "code",
   "execution_count": 4,
   "outputs": [
    {
     "data": {
      "text/plain": "<Figure size 432x288 with 1 Axes>",
      "image/png": "[encoded data removed]"
     },
     "metadata": {},
     "output_type": "display_data"
    }
   ],
   "source": [
    "test_train.plot_loss(t_l, v_l)"
   ],
   "metadata": {
    "collapsed": false,
    "pycharm": {
     "name": "#%%\n"
    }
   }
  },
  {
   "cell_type": "code",
   "execution_count": 13,
   "outputs": [],
   "source": [
    "import seaborn as sns\n",
    "import pandas as pd\n",
    "import matplotlib.pyplot as plt"
   ],
   "metadata": {
    "collapsed": false,
    "pycharm": {
     "name": "#%%\n"
    }
   }
  },
  {
   "cell_type": "code",
   "execution_count": 14,
   "outputs": [
    {
     "data": {
      "text/plain": "<Figure size 432x288 with 1 Axes>",
      "image/png": "[encoded data removed]"
     },
     "metadata": {},
     "output_type": "display_data"
    }
   ],
   "source": [
    "result_pd = pd.DataFrame()\n",
    "result_pd['epoch'] = range(150)\n",
    "result_pd['train_loss_avg'] = t_l\n",
    "sns.lineplot(x='epoch', y='train_loss_avg', data=result_pd)\n",
    "plt.show()"
   ],
   "metadata": {
    "collapsed": false,
    "pycharm": {
     "name": "#%%\n"
    }
   }
  },
  {
   "cell_type": "code",
   "execution_count": 11,
   "outputs": [
    {
     "data": {
      "text/plain": "0"
     },
     "execution_count": 11,
     "metadata": {},
     "output_type": "execute_result"
    }
   ],
   "source": [
    "\n"
   ],
   "metadata": {
    "collapsed": false,
    "pycharm": {
     "name": "#%%\n"
    }
   }
  },
  {
   "cell_type": "code",
   "execution_count": null,
   "outputs": [],
   "source": [],
   "metadata": {
    "collapsed": false,
    "pycharm": {
     "name": "#%%\n"
    }
   }
  }
 ],
 "metadata": {
  "kernelspec": {
   "display_name": "Python 3",
   "language": "python",
   "name": "python3"
  },
  "language_info": {
   "codemirror_mode": {
    "name": "ipython",
    "version": 2
   },
   "file_extension": ".py",
   "mimetype": "text/x-python",
   "name": "python",
   "nbconvert_exporter": "python",
   "pygments_lexer": "ipython2",
   "version": "2.7.6"
  }
 },
 "nbformat": 4,
 "nbformat_minor": 0
}