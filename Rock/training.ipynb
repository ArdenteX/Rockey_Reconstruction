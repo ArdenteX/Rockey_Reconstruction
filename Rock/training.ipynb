{
 "cells": [
  {
   "cell_type": "code",
   "execution_count": 1,
   "outputs": [],
   "source": [
    "import numpy as np\n",
    "import pandas as pd\n",
    "import math\n",
    "import torch\n",
    "from Rock.Train.mdnTraining import mdnTraining\n",
    "from sklearn.model_selection import train_test_split\n",
    "from sklearn.preprocessing import MinMaxScaler\n",
    "from torch.utils.data import TensorDataset, DataLoader\n"
   ],
   "metadata": {
    "collapsed": false,
    "pycharm": {
     "name": "#%%\n"
    }
   }
  },
  {
   "cell_type": "code",
   "execution_count": 2,
   "outputs": [
    {
     "name": "stdout",
     "output_type": "stream",
     "text": [
      "Batch size: 1024, Learning rate:5.984e-05, Hidden size:128, is GPU: True, is Normal: True\n"
     ]
    }
   ],
   "source": [
    "test_train = mdnTraining(learning_rate=0.00005984, batch_size=1024, hidden_size=128, n_gaussian=10, is_gpu=True, epoch=300, if_shuffle=True, is_normal=True, weight_decay=0.001)"
   ],
   "metadata": {
    "collapsed": false,
    "pycharm": {
     "name": "#%%\n"
    }
   }
  },
  {
   "cell_type": "code",
   "execution_count": 3,
   "outputs": [],
   "source": [
    "t_loader, v_loader, test_x, test_y, s_x, s_y = test_train.load_data()"
   ],
   "metadata": {
    "collapsed": false,
    "pycharm": {
     "name": "#%%\n"
    }
   }
  },
  {
   "cell_type": "code",
   "execution_count": 4,
   "outputs": [
    {
     "name": "stdout",
     "output_type": "stream",
     "text": [
      "module.root_layer.0.weight : torch.Size([128, 3])\n",
      "module.root_layer.0.bias : torch.Size([128])\n",
      "module.root_layer.2.weight : torch.Size([128, 128])\n",
      "module.root_layer.2.bias : torch.Size([128])\n",
      "module.root_layer.4.weight : torch.Size([128, 128])\n",
      "module.root_layer.4.bias : torch.Size([128])\n",
      "module.pi.0.weight : torch.Size([128, 128])\n",
      "module.pi.0.bias : torch.Size([128])\n",
      "module.pi.2.weight : torch.Size([10, 128])\n",
      "module.pi.2.bias : torch.Size([10])\n",
      "module.mu.0.weight : torch.Size([128, 128])\n",
      "module.mu.0.bias : torch.Size([128])\n",
      "module.mu.2.weight : torch.Size([40, 128])\n",
      "module.mu.2.bias : torch.Size([40])\n",
      "module.sigma.0.weight : torch.Size([128, 128])\n",
      "module.sigma.0.bias : torch.Size([128])\n",
      "module.sigma.2.weight : torch.Size([40, 128])\n",
      "module.sigma.2.bias : torch.Size([40])\n"
     ]
    },
    {
     "name": "stderr",
     "output_type": "stream",
     "text": [
      "  0%|          | 0/176 [00:00<?, ?batch/s]E:\\anaconda\\envs\\deeplearning\\lib\\site-packages\\torch\\optim\\lr_scheduler.py:136: UserWarning: Detected call of `lr_scheduler.step()` before `optimizer.step()`. In PyTorch 1.1.0 and later, you should call them in the opposite order: `optimizer.step()` before `lr_scheduler.step()`.  Failure to do this will result in PyTorch skipping the first value of the learning rate schedule. See more details at https://pytorch.org/docs/stable/optim.html#how-to-adjust-learning-rate\n",
      "  \"https://pytorch.org/docs/stable/optim.html#how-to-adjust-learning-rate\", UserWarning)\n",
      "Epoch 1 Training: 100%|██████████| 176/176 [00:06<00:00, 26.11batch/s, loss=0.2164, loss_avg=0.2520, lr=0.000012, r2=-38.7525]\n",
      "Epoch 1 Validating: 100%|██████████| 10/10 [00:01<00:00,  6.24batch/s, loss_avg=0.2178, loss_val=0.2051, mse=1.1234, r2=-39.2414, relative_error=63.8774]\n"
     ]
    },
    {
     "name": "stdout",
     "output_type": "stream",
     "text": [
      " \n"
     ]
    },
    {
     "name": "stderr",
     "output_type": "stream",
     "text": [
      "Epoch 2 Training: 100%|██████████| 176/176 [00:05<00:00, 35.04batch/s, loss=-0.2102, loss_avg=0.0865, lr=0.000024, r2=-35.5919]\n",
      "Epoch 2 Validating: 100%|██████████| 10/10 [00:01<00:00,  6.17batch/s, loss_avg=-0.2107, loss_val=-0.2201, mse=0.9046, r2=-30.5591, relative_error=56.5597]\n"
     ]
    },
    {
     "name": "stdout",
     "output_type": "stream",
     "text": [
      " \n"
     ]
    },
    {
     "name": "stderr",
     "output_type": "stream",
     "text": [
      "Epoch 3 Training: 100%|██████████| 176/176 [00:05<00:00, 34.45batch/s, loss=-5.8085, loss_avg=-2.4768, lr=0.000036, r2=-15.6220]\n",
      "Epoch 3 Validating: 100%|██████████| 10/10 [00:01<00:00,  6.52batch/s, loss_avg=-5.7521, loss_val=-5.7520, mse=0.1223, r2=-3.0441, relative_error=22.8489]\n"
     ]
    },
    {
     "name": "stdout",
     "output_type": "stream",
     "text": [
      " \n"
     ]
    },
    {
     "name": "stderr",
     "output_type": "stream",
     "text": [
      "Epoch 4 Training: 100%|██████████| 176/176 [00:04<00:00, 35.47batch/s, loss=-7.8085, loss_avg=-7.0325, lr=0.000048, r2=-1.4057]\n",
      "Epoch 4 Validating: 100%|██████████| 10/10 [00:01<00:00,  6.17batch/s, loss_avg=-7.7812, loss_val=-7.7984, mse=0.0551, r2=-0.7031, relative_error=9.3711]\n"
     ]
    },
    {
     "name": "stdout",
     "output_type": "stream",
     "text": [
      " \n"
     ]
    },
    {
     "name": "stderr",
     "output_type": "stream",
     "text": [
      "Epoch 5 Training: 100%|██████████| 176/176 [00:04<00:00, 35.60batch/s, loss=-8.5996, loss_avg=-8.1386, lr=0.000060, r2=-0.5228]\n",
      "Epoch 5 Validating: 100%|██████████| 10/10 [00:01<00:00,  6.30batch/s, loss_avg=-8.4675, loss_val=-8.4290, mse=0.0443, r2=-0.3981, relative_error=7.8507]\n"
     ]
    },
    {
     "name": "stdout",
     "output_type": "stream",
     "text": [
      " \n"
     ]
    },
    {
     "name": "stderr",
     "output_type": "stream",
     "text": [
      "Epoch 6 Training: 100%|██████████| 176/176 [00:05<00:00, 34.38batch/s, loss=-9.1632, loss_avg=-8.7998, lr=0.000072, r2=-0.3166]\n",
      "Epoch 6 Validating: 100%|██████████| 10/10 [00:01<00:00,  6.09batch/s, loss_avg=-9.0845, loss_val=-9.0742, mse=0.0397, r2=-0.2625, relative_error=6.7177]\n"
     ]
    },
    {
     "name": "stdout",
     "output_type": "stream",
     "text": [
      " \n"
     ]
    },
    {
     "name": "stderr",
     "output_type": "stream",
     "text": [
      "Epoch 7 Training: 100%|██████████| 176/176 [00:05<00:00, 34.98batch/s, loss=-9.6163, loss_avg=-9.2583, lr=0.000072, r2=-0.2190]\n",
      "Epoch 7 Validating: 100%|██████████| 10/10 [00:01<00:00,  6.22batch/s, loss_avg=-9.5653, loss_val=-9.5892, mse=0.0370, r2=-0.1945, relative_error=6.5147]\n"
     ]
    },
    {
     "name": "stdout",
     "output_type": "stream",
     "text": [
      " \n"
     ]
    },
    {
     "name": "stderr",
     "output_type": "stream",
     "text": [
      "Epoch 8 Training: 100%|██████████| 176/176 [00:04<00:00, 35.79batch/s, loss=-10.0856, loss_avg=-9.7771, lr=0.000072, r2=-0.1059]\n",
      "Epoch 8 Validating: 100%|██████████| 10/10 [00:01<00:00,  6.19batch/s, loss_avg=-10.0526, loss_val=-10.0848, mse=0.0326, r2=-0.0410, relative_error=4.7143]\n"
     ]
    },
    {
     "name": "stdout",
     "output_type": "stream",
     "text": [
      " \n"
     ]
    },
    {
     "name": "stderr",
     "output_type": "stream",
     "text": [
      "Epoch 9 Training: 100%|██████████| 176/176 [00:04<00:00, 35.90batch/s, loss=-10.5252, loss_avg=-10.2632, lr=0.000072, r2=0.0141] \n",
      "Epoch 9 Validating: 100%|██████████| 10/10 [00:01<00:00,  5.92batch/s, loss_avg=-10.4784, loss_val=-10.4758, mse=0.0290, r2=0.0708, relative_error=3.7201]\n"
     ]
    },
    {
     "name": "stdout",
     "output_type": "stream",
     "text": [
      " \n"
     ]
    },
    {
     "name": "stderr",
     "output_type": "stream",
     "text": [
      "Epoch 10 Training: 100%|██████████| 176/176 [00:05<00:00, 34.43batch/s, loss=-10.9287, loss_avg=-10.6926, lr=0.000072, r2=0.1409]\n",
      "Epoch 10 Validating: 100%|██████████| 10/10 [00:01<00:00,  6.32batch/s, loss_avg=-10.9263, loss_val=-10.9205, mse=0.0249, r2=0.2091, relative_error=3.2225]\n"
     ]
    },
    {
     "name": "stdout",
     "output_type": "stream",
     "text": [
      " \n"
     ]
    },
    {
     "name": "stderr",
     "output_type": "stream",
     "text": [
      "Epoch 11 Training: 100%|██████████| 176/176 [00:04<00:00, 35.33batch/s, loss=-11.3249, loss_avg=-11.1183, lr=0.000072, r2=0.2702]\n",
      "Epoch 11 Validating: 100%|██████████| 10/10 [00:01<00:00,  6.22batch/s, loss_avg=-11.2258, loss_val=-11.2527, mse=0.0219, r2=0.3077, relative_error=2.0444]\n"
     ]
    },
    {
     "name": "stdout",
     "output_type": "stream",
     "text": [
      " \n"
     ]
    },
    {
     "name": "stderr",
     "output_type": "stream",
     "text": [
      "Epoch 12 Training: 100%|██████████| 176/176 [00:05<00:00, 34.98batch/s, loss=-11.6283, loss_avg=-11.4712, lr=0.000072, r2=0.3611]\n",
      "Epoch 12 Validating: 100%|██████████| 10/10 [00:01<00:00,  6.00batch/s, loss_avg=-11.5109, loss_val=-11.5435, mse=0.0190, r2=0.4120, relative_error=1.6884]\n"
     ]
    },
    {
     "name": "stdout",
     "output_type": "stream",
     "text": [
      " \n"
     ]
    },
    {
     "name": "stderr",
     "output_type": "stream",
     "text": [
      "Epoch 13 Training: 100%|██████████| 176/176 [00:05<00:00, 35.05batch/s, loss=-11.8426, loss_avg=-11.7964, lr=0.000072, r2=0.4339]\n",
      "Epoch 13 Validating: 100%|██████████| 10/10 [00:01<00:00,  6.15batch/s, loss_avg=-11.9509, loss_val=-11.9919, mse=0.0175, r2=0.4615, relative_error=1.1992]\n"
     ]
    },
    {
     "name": "stdout",
     "output_type": "stream",
     "text": [
      " \n"
     ]
    },
    {
     "name": "stderr",
     "output_type": "stream",
     "text": [
      "Epoch 14 Training: 100%|██████████| 176/176 [00:05<00:00, 35.12batch/s, loss=-12.2243, loss_avg=-12.0974, lr=0.000072, r2=0.4919]\n",
      "Epoch 14 Validating: 100%|██████████| 10/10 [00:01<00:00,  5.79batch/s, loss_avg=-12.2313, loss_val=-12.3029, mse=0.0159, r2=0.5154, relative_error=1.0576]\n"
     ]
    },
    {
     "name": "stdout",
     "output_type": "stream",
     "text": [
      " \n"
     ]
    },
    {
     "name": "stderr",
     "output_type": "stream",
     "text": [
      "Epoch 15 Training: 100%|██████████| 176/176 [00:04<00:00, 35.47batch/s, loss=-12.4882, loss_avg=-12.4356, lr=0.000072, r2=0.5343]\n",
      "Epoch 15 Validating: 100%|██████████| 10/10 [00:01<00:00,  6.07batch/s, loss_avg=-12.6067, loss_val=-12.7113, mse=0.0144, r2=0.5685, relative_error=1.0967]\n"
     ]
    },
    {
     "name": "stdout",
     "output_type": "stream",
     "text": [
      " \n"
     ]
    },
    {
     "name": "stderr",
     "output_type": "stream",
     "text": [
      "Epoch 16 Training: 100%|██████████| 176/176 [00:04<00:00, 35.22batch/s, loss=-12.7432, loss_avg=-12.7542, lr=0.000072, r2=0.5696]\n",
      "Epoch 16 Validating: 100%|██████████| 10/10 [00:01<00:00,  6.24batch/s, loss_avg=-12.8924, loss_val=-13.0475, mse=0.0142, r2=0.5755, relative_error=0.8106]\n"
     ]
    },
    {
     "name": "stdout",
     "output_type": "stream",
     "text": [
      " \n"
     ]
    },
    {
     "name": "stderr",
     "output_type": "stream",
     "text": [
      "Epoch 17 Training: 100%|██████████| 176/176 [00:05<00:00, 35.03batch/s, loss=-13.0427, loss_avg=-12.9437, lr=0.000072, r2=0.5931]\n",
      "Epoch 17 Validating: 100%|██████████| 10/10 [00:01<00:00,  6.06batch/s, loss_avg=-13.0955, loss_val=-13.2612, mse=0.0131, r2=0.6113, relative_error=0.7637]\n"
     ]
    },
    {
     "name": "stdout",
     "output_type": "stream",
     "text": [
      " \n"
     ]
    },
    {
     "name": "stderr",
     "output_type": "stream",
     "text": [
      "Epoch 18 Training: 100%|██████████| 176/176 [00:04<00:00, 35.29batch/s, loss=-13.1929, loss_avg=-13.1537, lr=0.000072, r2=0.6123]\n",
      "Epoch 18 Validating: 100%|██████████| 10/10 [00:01<00:00,  5.91batch/s, loss_avg=-13.2536, loss_val=-13.4099, mse=0.0130, r2=0.6171, relative_error=0.7097]\n"
     ]
    },
    {
     "name": "stdout",
     "output_type": "stream",
     "text": [
      " \n"
     ]
    },
    {
     "name": "stderr",
     "output_type": "stream",
     "text": [
      "Epoch 19 Training: 100%|██████████| 176/176 [00:05<00:00, 34.95batch/s, loss=-13.3355, loss_avg=-13.2901, lr=0.000072, r2=0.6268]\n",
      "Epoch 19 Validating: 100%|██████████| 10/10 [00:01<00:00,  6.36batch/s, loss_avg=-13.3853, loss_val=-13.5413, mse=0.0122, r2=0.6396, relative_error=0.7621]\n"
     ]
    },
    {
     "name": "stdout",
     "output_type": "stream",
     "text": [
      " \n"
     ]
    },
    {
     "name": "stderr",
     "output_type": "stream",
     "text": [
      "Epoch 20 Training: 100%|██████████| 176/176 [00:05<00:00, 34.85batch/s, loss=-13.5326, loss_avg=-13.4067, lr=0.000072, r2=0.6395]\n",
      "Epoch 20 Validating: 100%|██████████| 10/10 [00:01<00:00,  6.22batch/s, loss_avg=-13.5642, loss_val=-13.6971, mse=0.0121, r2=0.6519, relative_error=0.6405]\n"
     ]
    },
    {
     "name": "stdout",
     "output_type": "stream",
     "text": [
      " \n"
     ]
    },
    {
     "name": "stderr",
     "output_type": "stream",
     "text": [
      "Epoch 21 Training: 100%|██████████| 176/176 [00:04<00:00, 35.57batch/s, loss=-13.1145, loss_avg=-13.5943, lr=0.000072, r2=0.6479]\n",
      "Epoch 21 Validating: 100%|██████████| 10/10 [00:01<00:00,  6.22batch/s, loss_avg=-12.6558, loss_val=-12.7378, mse=0.0118, r2=0.6564, relative_error=0.6715]\n"
     ]
    },
    {
     "name": "stdout",
     "output_type": "stream",
     "text": [
      " \n"
     ]
    },
    {
     "name": "stderr",
     "output_type": "stream",
     "text": [
      "Epoch 22 Training: 100%|██████████| 176/176 [00:04<00:00, 35.74batch/s, loss=-13.5105, loss_avg=-13.6454, lr=0.000072, r2=0.6532]\n",
      "Epoch 22 Validating: 100%|██████████| 10/10 [00:01<00:00,  6.07batch/s, loss_avg=-13.6572, loss_val=-13.7703, mse=0.0119, r2=0.6546, relative_error=0.5857]\n"
     ]
    },
    {
     "name": "stdout",
     "output_type": "stream",
     "text": [
      " \n"
     ]
    },
    {
     "name": "stderr",
     "output_type": "stream",
     "text": [
      "Epoch 23 Training: 100%|██████████| 176/176 [00:05<00:00, 34.70batch/s, loss=-13.9037, loss_avg=-13.8404, lr=0.000072, r2=0.6572]\n",
      "Epoch 23 Validating: 100%|██████████| 10/10 [00:01<00:00,  5.76batch/s, loss_avg=-13.9151, loss_val=-14.0231, mse=0.0119, r2=0.6539, relative_error=0.5618]\n"
     ]
    },
    {
     "name": "stdout",
     "output_type": "stream",
     "text": [
      " \n"
     ]
    },
    {
     "name": "stderr",
     "output_type": "stream",
     "text": [
      "Epoch 24 Training: 100%|██████████| 176/176 [00:05<00:00, 35.03batch/s, loss=-13.9733, loss_avg=-13.7933, lr=0.000072, r2=0.6603]\n",
      "Epoch 24 Validating: 100%|██████████| 10/10 [00:01<00:00,  6.31batch/s, loss_avg=-13.9571, loss_val=-14.0694, mse=0.0114, r2=0.6668, relative_error=0.5440]\n"
     ]
    },
    {
     "name": "stdout",
     "output_type": "stream",
     "text": [
      " \n"
     ]
    },
    {
     "name": "stderr",
     "output_type": "stream",
     "text": [
      "Epoch 25 Training: 100%|██████████| 176/176 [00:04<00:00, 35.38batch/s, loss=-13.6109, loss_avg=-14.0437, lr=0.000072, r2=0.6652]\n",
      "Epoch 25 Validating: 100%|██████████| 10/10 [00:01<00:00,  6.18batch/s, loss_avg=-12.8193, loss_val=-12.8630, mse=0.0112, r2=0.6742, relative_error=0.6003]\n"
     ]
    },
    {
     "name": "stdout",
     "output_type": "stream",
     "text": [
      " \n"
     ]
    },
    {
     "name": "stderr",
     "output_type": "stream",
     "text": [
      "Epoch 26 Training: 100%|██████████| 176/176 [00:05<00:00, 34.65batch/s, loss=-14.0940, loss_avg=-14.0711, lr=0.000072, r2=0.6649]\n",
      "Epoch 26 Validating: 100%|██████████| 10/10 [00:01<00:00,  6.07batch/s, loss_avg=-14.1801, loss_val=-14.2977, mse=0.0111, r2=0.6787, relative_error=0.5332]\n"
     ]
    },
    {
     "name": "stdout",
     "output_type": "stream",
     "text": [
      " \n"
     ]
    },
    {
     "name": "stderr",
     "output_type": "stream",
     "text": [
      "Epoch 27 Training: 100%|██████████| 176/176 [00:04<00:00, 35.48batch/s, loss=-14.2417, loss_avg=-14.1887, lr=0.000072, r2=0.6739]\n",
      "Epoch 27 Validating: 100%|██████████| 10/10 [00:01<00:00,  6.21batch/s, loss_avg=-14.2696, loss_val=-14.3847, mse=0.0112, r2=0.6755, relative_error=0.4991]\n"
     ]
    },
    {
     "name": "stdout",
     "output_type": "stream",
     "text": [
      " \n"
     ]
    },
    {
     "name": "stderr",
     "output_type": "stream",
     "text": [
      "Epoch 28 Training: 100%|██████████| 176/176 [00:04<00:00, 35.77batch/s, loss=-14.0531, loss_avg=-14.2014, lr=0.000072, r2=0.6753]\n",
      "Epoch 28 Validating: 100%|██████████| 10/10 [00:01<00:00,  6.38batch/s, loss_avg=-14.2959, loss_val=-14.4143, mse=0.0114, r2=0.6696, relative_error=0.5007]\n"
     ]
    },
    {
     "name": "stdout",
     "output_type": "stream",
     "text": [
      " \n"
     ]
    },
    {
     "name": "stderr",
     "output_type": "stream",
     "text": [
      "Epoch 29 Training: 100%|██████████| 176/176 [00:04<00:00, 35.62batch/s, loss=-13.8328, loss_avg=-14.3453, lr=0.000072, r2=0.6749]\n",
      "Epoch 29 Validating: 100%|██████████| 10/10 [00:01<00:00,  6.27batch/s, loss_avg=-13.8586, loss_val=-13.9560, mse=0.0109, r2=0.6844, relative_error=0.5324]\n"
     ]
    },
    {
     "name": "stdout",
     "output_type": "stream",
     "text": [
      " \n"
     ]
    },
    {
     "name": "stderr",
     "output_type": "stream",
     "text": [
      "Epoch 30 Training: 100%|██████████| 176/176 [00:04<00:00, 35.68batch/s, loss=-14.4142, loss_avg=-14.3876, lr=0.000072, r2=0.6762]\n",
      "Epoch 30 Validating: 100%|██████████| 10/10 [00:01<00:00,  6.38batch/s, loss_avg=-14.4166, loss_val=-14.5374, mse=0.0111, r2=0.6757, relative_error=0.4484]\n"
     ]
    },
    {
     "name": "stdout",
     "output_type": "stream",
     "text": [
      " \n"
     ]
    },
    {
     "name": "stderr",
     "output_type": "stream",
     "text": [
      "Epoch 31 Training: 100%|██████████| 176/176 [00:04<00:00, 35.26batch/s, loss=-14.4510, loss_avg=-14.4108, lr=0.000072, r2=0.6807]\n",
      "Epoch 31 Validating: 100%|██████████| 10/10 [00:01<00:00,  6.20batch/s, loss_avg=-14.4240, loss_val=-14.5494, mse=0.0110, r2=0.6795, relative_error=0.4990]\n"
     ]
    },
    {
     "name": "stdout",
     "output_type": "stream",
     "text": [
      " \n"
     ]
    },
    {
     "name": "stderr",
     "output_type": "stream",
     "text": [
      "Epoch 32 Training: 100%|██████████| 176/176 [00:04<00:00, 35.21batch/s, loss=-14.1378, loss_avg=-14.4790, lr=0.000072, r2=0.6794]\n",
      "Epoch 32 Validating: 100%|██████████| 10/10 [00:01<00:00,  6.28batch/s, loss_avg=-13.6433, loss_val=-13.7064, mse=0.0110, r2=0.6800, relative_error=0.5025]\n"
     ]
    },
    {
     "name": "stdout",
     "output_type": "stream",
     "text": [
      " \n"
     ]
    },
    {
     "name": "stderr",
     "output_type": "stream",
     "text": [
      "Epoch 33 Training: 100%|██████████| 176/176 [00:04<00:00, 35.91batch/s, loss=-14.5392, loss_avg=-14.4572, lr=0.000072, r2=0.6795]\n",
      "Epoch 33 Validating: 100%|██████████| 10/10 [00:01<00:00,  6.25batch/s, loss_avg=-14.5624, loss_val=-14.6776, mse=0.0108, r2=0.6843, relative_error=0.4550]\n"
     ]
    },
    {
     "name": "stdout",
     "output_type": "stream",
     "text": [
      " \n"
     ]
    },
    {
     "name": "stderr",
     "output_type": "stream",
     "text": [
      "Epoch 34 Training: 100%|██████████| 176/176 [00:05<00:00, 34.96batch/s, loss=-14.5795, loss_avg=-14.5651, lr=0.000072, r2=0.6826]\n",
      "Epoch 34 Validating: 100%|██████████| 10/10 [00:01<00:00,  6.24batch/s, loss_avg=-14.5815, loss_val=-14.6939, mse=0.0107, r2=0.6863, relative_error=0.4212]\n"
     ]
    },
    {
     "name": "stdout",
     "output_type": "stream",
     "text": [
      " \n"
     ]
    },
    {
     "name": "stderr",
     "output_type": "stream",
     "text": [
      "Epoch 35 Training: 100%|██████████| 176/176 [00:04<00:00, 35.33batch/s, loss=-14.5669, loss_avg=-14.5259, lr=0.000072, r2=0.6816]\n",
      "Epoch 35 Validating: 100%|██████████| 10/10 [00:01<00:00,  6.09batch/s, loss_avg=-14.5674, loss_val=-14.6972, mse=0.0108, r2=0.6832, relative_error=0.4452]\n"
     ]
    },
    {
     "name": "stdout",
     "output_type": "stream",
     "text": [
      " \n"
     ]
    },
    {
     "name": "stderr",
     "output_type": "stream",
     "text": [
      "Epoch 36 Training: 100%|██████████| 176/176 [00:04<00:00, 35.94batch/s, loss=-14.6759, loss_avg=-14.6174, lr=0.000072, r2=0.6836]\n",
      "Epoch 36 Validating: 100%|██████████| 10/10 [00:01<00:00,  6.17batch/s, loss_avg=-14.6164, loss_val=-14.7340, mse=0.0106, r2=0.6877, relative_error=0.4666]\n"
     ]
    },
    {
     "name": "stdout",
     "output_type": "stream",
     "text": [
      " \n"
     ]
    },
    {
     "name": "stderr",
     "output_type": "stream",
     "text": [
      "Epoch 37 Training: 100%|██████████| 176/176 [00:04<00:00, 35.34batch/s, loss=-14.7187, loss_avg=-14.6078, lr=0.000072, r2=0.6844]\n",
      "Epoch 37 Validating: 100%|██████████| 10/10 [00:01<00:00,  6.24batch/s, loss_avg=-14.6855, loss_val=-14.8038, mse=0.0105, r2=0.6900, relative_error=0.3968]\n"
     ]
    },
    {
     "name": "stdout",
     "output_type": "stream",
     "text": [
      " \n"
     ]
    },
    {
     "name": "stderr",
     "output_type": "stream",
     "text": [
      "Epoch 38 Training: 100%|██████████| 176/176 [00:04<00:00, 35.29batch/s, loss=-14.7381, loss_avg=-14.6009, lr=0.000072, r2=0.6866]\n",
      "Epoch 38 Validating: 100%|██████████| 10/10 [00:01<00:00,  6.01batch/s, loss_avg=-14.7131, loss_val=-14.8314, mse=0.0109, r2=0.6811, relative_error=0.4338]\n"
     ]
    },
    {
     "name": "stdout",
     "output_type": "stream",
     "text": [
      " \n"
     ]
    },
    {
     "name": "stderr",
     "output_type": "stream",
     "text": [
      "Epoch 39 Training: 100%|██████████| 176/176 [00:05<00:00, 34.24batch/s, loss=-14.7673, loss_avg=-14.6872, lr=0.000072, r2=0.6866]\n",
      "Epoch 39 Validating: 100%|██████████| 10/10 [00:01<00:00,  6.32batch/s, loss_avg=-14.7563, loss_val=-14.8703, mse=0.0108, r2=0.6831, relative_error=0.4092]\n"
     ]
    },
    {
     "name": "stdout",
     "output_type": "stream",
     "text": [
      " \n"
     ]
    },
    {
     "name": "stderr",
     "output_type": "stream",
     "text": [
      "Epoch 40 Training: 100%|██████████| 176/176 [00:04<00:00, 35.67batch/s, loss=-14.6871, loss_avg=-14.6710, lr=0.000072, r2=0.6872]\n",
      "Epoch 40 Validating: 100%|██████████| 10/10 [00:01<00:00,  6.30batch/s, loss_avg=-14.7028, loss_val=-14.8310, mse=0.0107, r2=0.6864, relative_error=0.4025]\n"
     ]
    },
    {
     "name": "stdout",
     "output_type": "stream",
     "text": [
      " \n"
     ]
    },
    {
     "name": "stderr",
     "output_type": "stream",
     "text": [
      "Epoch 41 Training: 100%|██████████| 176/176 [00:04<00:00, 35.50batch/s, loss=-14.8044, loss_avg=-14.7472, lr=0.000072, r2=0.6888]\n",
      "Epoch 41 Validating: 100%|██████████| 10/10 [00:01<00:00,  6.34batch/s, loss_avg=-14.7963, loss_val=-14.9166, mse=0.0103, r2=0.6972, relative_error=0.4019]\n"
     ]
    },
    {
     "name": "stdout",
     "output_type": "stream",
     "text": [
      " \n"
     ]
    },
    {
     "name": "stderr",
     "output_type": "stream",
     "text": [
      "Epoch 42 Training: 100%|██████████| 176/176 [00:04<00:00, 35.93batch/s, loss=-13.9547, loss_avg=-14.7663, lr=0.000072, r2=0.6913]\n",
      "Epoch 42 Validating: 100%|██████████| 10/10 [00:01<00:00,  6.01batch/s, loss_avg=-13.7518, loss_val=-13.8677, mse=0.0105, r2=0.6915, relative_error=0.4906]\n"
     ]
    },
    {
     "name": "stdout",
     "output_type": "stream",
     "text": [
      " \n"
     ]
    },
    {
     "name": "stderr",
     "output_type": "stream",
     "text": [
      "Epoch 43 Training: 100%|██████████| 176/176 [00:04<00:00, 35.34batch/s, loss=-14.8346, loss_avg=-14.7563, lr=0.000072, r2=0.6924]\n",
      "Epoch 43 Validating: 100%|██████████| 10/10 [00:01<00:00,  6.25batch/s, loss_avg=-14.8422, loss_val=-14.9582, mse=0.0104, r2=0.6970, relative_error=0.3694]\n"
     ]
    },
    {
     "name": "stdout",
     "output_type": "stream",
     "text": [
      " \n"
     ]
    },
    {
     "name": "stderr",
     "output_type": "stream",
     "text": [
      "Epoch 44 Training: 100%|██████████| 176/176 [00:05<00:00, 33.85batch/s, loss=-14.8829, loss_avg=-14.7266, lr=0.000072, r2=0.6940]\n",
      "Epoch 44 Validating: 100%|██████████| 10/10 [00:01<00:00,  6.42batch/s, loss_avg=-14.8796, loss_val=-14.9982, mse=0.0104, r2=0.6960, relative_error=0.3971]\n"
     ]
    },
    {
     "name": "stdout",
     "output_type": "stream",
     "text": [
      " \n"
     ]
    },
    {
     "name": "stderr",
     "output_type": "stream",
     "text": [
      "Epoch 45 Training: 100%|██████████| 176/176 [00:04<00:00, 35.98batch/s, loss=-13.5997, loss_avg=-14.8270, lr=0.000072, r2=0.6940]\n",
      "Epoch 45 Validating: 100%|██████████| 10/10 [00:01<00:00,  6.04batch/s, loss_avg=-13.7007, loss_val=-13.8109, mse=0.0102, r2=0.7013, relative_error=0.4595]\n"
     ]
    },
    {
     "name": "stdout",
     "output_type": "stream",
     "text": [
      " \n"
     ]
    },
    {
     "name": "stderr",
     "output_type": "stream",
     "text": [
      "Epoch 46 Training: 100%|██████████| 176/176 [00:05<00:00, 34.39batch/s, loss=-14.9104, loss_avg=-14.8431, lr=0.000072, r2=0.6950]\n",
      "Epoch 46 Validating: 100%|██████████| 10/10 [00:01<00:00,  6.17batch/s, loss_avg=-14.8949, loss_val=-15.0052, mse=0.0104, r2=0.6961, relative_error=0.3925]\n"
     ]
    },
    {
     "name": "stdout",
     "output_type": "stream",
     "text": [
      " \n"
     ]
    },
    {
     "name": "stderr",
     "output_type": "stream",
     "text": [
      "Epoch 47 Training: 100%|██████████| 176/176 [00:05<00:00, 35.09batch/s, loss=-14.8479, loss_avg=-14.8307, lr=0.000072, r2=0.6979]\n",
      "Epoch 47 Validating: 100%|██████████| 10/10 [00:01<00:00,  6.08batch/s, loss_avg=-14.8551, loss_val=-14.9917, mse=0.0100, r2=0.7087, relative_error=0.4537]\n"
     ]
    },
    {
     "name": "stdout",
     "output_type": "stream",
     "text": [
      " \n"
     ]
    },
    {
     "name": "stderr",
     "output_type": "stream",
     "text": [
      "Epoch 48 Training: 100%|██████████| 176/176 [00:05<00:00, 34.95batch/s, loss=-14.8669, loss_avg=-14.9037, lr=0.000072, r2=0.7011]\n",
      "Epoch 48 Validating: 100%|██████████| 10/10 [00:01<00:00,  6.21batch/s, loss_avg=-14.8748, loss_val=-14.9775, mse=0.0106, r2=0.6895, relative_error=0.3707]\n"
     ]
    },
    {
     "name": "stdout",
     "output_type": "stream",
     "text": [
      " \n"
     ]
    },
    {
     "name": "stderr",
     "output_type": "stream",
     "text": [
      "Epoch 49 Training: 100%|██████████| 176/176 [00:04<00:00, 35.75batch/s, loss=-14.8481, loss_avg=-14.9575, lr=0.000072, r2=0.6999]\n",
      "Epoch 49 Validating: 100%|██████████| 10/10 [00:01<00:00,  5.93batch/s, loss_avg=-14.7725, loss_val=-14.8438, mse=0.0104, r2=0.6977, relative_error=0.3907]\n"
     ]
    },
    {
     "name": "stdout",
     "output_type": "stream",
     "text": [
      " \n"
     ]
    },
    {
     "name": "stderr",
     "output_type": "stream",
     "text": [
      "Epoch 50 Training: 100%|██████████| 176/176 [00:03<00:00, 50.85batch/s, loss=-14.8855, loss_avg=-14.7648, lr=0.000072, r2=0.6990] \n",
      "Epoch 50 Validating: 100%|██████████| 10/10 [00:01<00:00,  6.54batch/s, loss_avg=-14.9167, loss_val=-15.0416, mse=0.0100, r2=0.7103, relative_error=0.3950]\n"
     ]
    },
    {
     "name": "stdout",
     "output_type": "stream",
     "text": [
      " \n"
     ]
    },
    {
     "name": "stderr",
     "output_type": "stream",
     "text": [
      "Epoch 51 Training: 100%|██████████| 176/176 [00:03<00:00, 53.28batch/s, loss=-14.6027, loss_avg=-15.0002, lr=0.000072, r2=0.7024] \n",
      "Epoch 51 Validating: 100%|██████████| 10/10 [00:01<00:00,  5.57batch/s, loss_avg=-14.6811, loss_val=-14.7991, mse=0.0101, r2=0.7095, relative_error=0.3982]\n"
     ]
    },
    {
     "name": "stdout",
     "output_type": "stream",
     "text": [
      " \n"
     ]
    },
    {
     "name": "stderr",
     "output_type": "stream",
     "text": [
      "Epoch 52 Training: 100%|██████████| 176/176 [00:03<00:00, 54.56batch/s, loss=-14.9939, loss_avg=-14.9987, lr=0.000072, r2=0.7039] \n",
      "Epoch 52 Validating: 100%|██████████| 10/10 [00:01<00:00,  5.98batch/s, loss_avg=-15.0551, loss_val=-15.1742, mse=0.0101, r2=0.7081, relative_error=0.3604]\n"
     ]
    },
    {
     "name": "stdout",
     "output_type": "stream",
     "text": [
      " \n"
     ]
    },
    {
     "name": "stderr",
     "output_type": "stream",
     "text": [
      "Epoch 53 Training: 100%|██████████| 176/176 [00:03<00:00, 51.29batch/s, loss=-15.0388, loss_avg=-15.0591, lr=0.000072, r2=0.7048] \n",
      "Epoch 53 Validating: 100%|██████████| 10/10 [00:01<00:00,  5.99batch/s, loss_avg=-15.0308, loss_val=-15.1385, mse=0.0100, r2=0.7083, relative_error=0.3951]\n"
     ]
    },
    {
     "name": "stdout",
     "output_type": "stream",
     "text": [
      " \n"
     ]
    },
    {
     "name": "stderr",
     "output_type": "stream",
     "text": [
      "Epoch 54 Training: 100%|██████████| 176/176 [00:05<00:00, 31.34batch/s, loss=-14.1786, loss_avg=-15.0622, lr=0.000072, r2=0.7058]\n",
      "Epoch 54 Validating: 100%|██████████| 10/10 [00:01<00:00,  5.31batch/s, loss_avg=-14.2823, loss_val=-14.2905, mse=0.0101, r2=0.7064, relative_error=0.4787]\n"
     ]
    },
    {
     "name": "stdout",
     "output_type": "stream",
     "text": [
      " \n"
     ]
    },
    {
     "name": "stderr",
     "output_type": "stream",
     "text": [
      "Epoch 55 Training: 100%|██████████| 176/176 [00:05<00:00, 32.10batch/s, loss=-15.0984, loss_avg=-15.0740, lr=0.000072, r2=0.7074]\n",
      "Epoch 55 Validating: 100%|██████████| 10/10 [00:02<00:00,  4.96batch/s, loss_avg=-15.1511, loss_val=-15.2549, mse=0.0101, r2=0.7085, relative_error=0.3734]\n"
     ]
    },
    {
     "name": "stdout",
     "output_type": "stream",
     "text": [
      " \n"
     ]
    },
    {
     "name": "stderr",
     "output_type": "stream",
     "text": [
      "Epoch 56 Training: 100%|██████████| 176/176 [00:05<00:00, 34.80batch/s, loss=-15.0669, loss_avg=-15.1136, lr=0.000072, r2=0.7095]\n",
      "Epoch 56 Validating: 100%|██████████| 10/10 [00:01<00:00,  5.82batch/s, loss_avg=-15.1984, loss_val=-15.2898, mse=0.0099, r2=0.7131, relative_error=0.3421]\n"
     ]
    },
    {
     "name": "stdout",
     "output_type": "stream",
     "text": [
      " \n"
     ]
    },
    {
     "name": "stderr",
     "output_type": "stream",
     "text": [
      "Epoch 57 Training: 100%|██████████| 176/176 [00:05<00:00, 35.05batch/s, loss=-15.1847, loss_avg=-15.1399, lr=0.000072, r2=0.7127]\n",
      "Epoch 57 Validating: 100%|██████████| 10/10 [00:01<00:00,  5.68batch/s, loss_avg=-15.1891, loss_val=-15.2880, mse=0.0098, r2=0.7172, relative_error=0.3864]\n"
     ]
    },
    {
     "name": "stdout",
     "output_type": "stream",
     "text": [
      " \n"
     ]
    },
    {
     "name": "stderr",
     "output_type": "stream",
     "text": [
      "Epoch 58 Training: 100%|██████████| 176/176 [00:04<00:00, 36.97batch/s, loss=-15.1469, loss_avg=-15.1542, lr=0.000072, r2=0.7141]\n",
      "Epoch 58 Validating: 100%|██████████| 10/10 [00:01<00:00,  6.03batch/s, loss_avg=-15.2082, loss_val=-15.3133, mse=0.0099, r2=0.7131, relative_error=0.3795]\n"
     ]
    },
    {
     "name": "stdout",
     "output_type": "stream",
     "text": [
      " \n"
     ]
    },
    {
     "name": "stderr",
     "output_type": "stream",
     "text": [
      "Epoch 59 Training: 100%|██████████| 176/176 [00:05<00:00, 33.05batch/s, loss=-14.5980, loss_avg=-15.2047, lr=0.000072, r2=0.7151]\n",
      "Epoch 59 Validating: 100%|██████████| 10/10 [00:01<00:00,  5.20batch/s, loss_avg=-14.1699, loss_val=-14.1426, mse=0.0098, r2=0.7163, relative_error=0.4992]\n"
     ]
    },
    {
     "name": "stdout",
     "output_type": "stream",
     "text": [
      " \n"
     ]
    },
    {
     "name": "stderr",
     "output_type": "stream",
     "text": [
      "Epoch 60 Training: 100%|██████████| 176/176 [00:05<00:00, 35.14batch/s, loss=-15.1135, loss_avg=-15.2086, lr=0.000072, r2=0.7172]\n",
      "Epoch 60 Validating: 100%|██████████| 10/10 [00:01<00:00,  6.06batch/s, loss_avg=-14.9540, loss_val=-15.0052, mse=0.0095, r2=0.7233, relative_error=0.3876]\n"
     ]
    },
    {
     "name": "stdout",
     "output_type": "stream",
     "text": [
      " \n"
     ]
    },
    {
     "name": "stderr",
     "output_type": "stream",
     "text": [
      "Epoch 61 Training: 100%|██████████| 176/176 [00:04<00:00, 36.86batch/s, loss=-15.2121, loss_avg=-15.2195, lr=0.000072, r2=0.7167]\n",
      "Epoch 61 Validating: 100%|██████████| 10/10 [00:01<00:00,  6.05batch/s, loss_avg=-15.2081, loss_val=-15.3102, mse=0.0095, r2=0.7238, relative_error=0.3464]\n"
     ]
    },
    {
     "name": "stdout",
     "output_type": "stream",
     "text": [
      " \n"
     ]
    },
    {
     "name": "stderr",
     "output_type": "stream",
     "text": [
      "Epoch 62 Training: 100%|██████████| 176/176 [00:04<00:00, 36.24batch/s, loss=-15.2470, loss_avg=-15.2776, lr=0.000072, r2=0.7215]\n",
      "Epoch 62 Validating: 100%|██████████| 10/10 [00:01<00:00,  6.00batch/s, loss_avg=-15.3398, loss_val=-15.4251, mse=0.0096, r2=0.7207, relative_error=0.3843]\n"
     ]
    },
    {
     "name": "stdout",
     "output_type": "stream",
     "text": [
      " \n"
     ]
    },
    {
     "name": "stderr",
     "output_type": "stream",
     "text": [
      "Epoch 63 Training: 100%|██████████| 176/176 [00:04<00:00, 37.30batch/s, loss=-14.9344, loss_avg=-15.1542, lr=0.000072, r2=0.7193]\n",
      "Epoch 63 Validating: 100%|██████████| 10/10 [00:01<00:00,  6.11batch/s, loss_avg=-15.0156, loss_val=-15.1231, mse=0.0094, r2=0.7284, relative_error=0.4707]\n"
     ]
    },
    {
     "name": "stdout",
     "output_type": "stream",
     "text": [
      " \n"
     ]
    },
    {
     "name": "stderr",
     "output_type": "stream",
     "text": [
      "Epoch 64 Training: 100%|██████████| 176/176 [00:04<00:00, 37.04batch/s, loss=-15.3354, loss_avg=-15.2724, lr=0.000072, r2=0.7266]\n",
      "Epoch 64 Validating: 100%|██████████| 10/10 [00:01<00:00,  6.06batch/s, loss_avg=-15.3761, loss_val=-15.4690, mse=0.0093, r2=0.7306, relative_error=0.3527]\n"
     ]
    },
    {
     "name": "stdout",
     "output_type": "stream",
     "text": [
      " \n"
     ]
    },
    {
     "name": "stderr",
     "output_type": "stream",
     "text": [
      "Epoch 65 Training: 100%|██████████| 176/176 [00:04<00:00, 37.64batch/s, loss=-15.2761, loss_avg=-15.3318, lr=0.000072, r2=0.7267]\n",
      "Epoch 65 Validating: 100%|██████████| 10/10 [00:01<00:00,  6.12batch/s, loss_avg=-15.3579, loss_val=-15.4289, mse=0.0093, r2=0.7317, relative_error=0.3582]\n"
     ]
    },
    {
     "name": "stdout",
     "output_type": "stream",
     "text": [
      " \n"
     ]
    },
    {
     "name": "stderr",
     "output_type": "stream",
     "text": [
      "Epoch 66 Training: 100%|██████████| 176/176 [00:04<00:00, 37.20batch/s, loss=-15.3666, loss_avg=-15.3469, lr=0.000072, r2=0.7270]\n",
      "Epoch 66 Validating: 100%|██████████| 10/10 [00:01<00:00,  6.35batch/s, loss_avg=-15.4099, loss_val=-15.4897, mse=0.0092, r2=0.7332, relative_error=0.3420]\n"
     ]
    },
    {
     "name": "stdout",
     "output_type": "stream",
     "text": [
      " \n"
     ]
    },
    {
     "name": "stderr",
     "output_type": "stream",
     "text": [
      "Epoch 67 Training: 100%|██████████| 176/176 [00:04<00:00, 35.55batch/s, loss=-15.4216, loss_avg=-15.3993, lr=0.000072, r2=0.7301]\n",
      "Epoch 67 Validating: 100%|██████████| 10/10 [00:01<00:00,  5.62batch/s, loss_avg=-15.4605, loss_val=-15.5424, mse=0.0090, r2=0.7394, relative_error=0.3525]\n"
     ]
    },
    {
     "name": "stdout",
     "output_type": "stream",
     "text": [
      " \n"
     ]
    },
    {
     "name": "stderr",
     "output_type": "stream",
     "text": [
      "Epoch 68 Training: 100%|██████████| 176/176 [00:05<00:00, 31.70batch/s, loss=-15.1655, loss_avg=-15.4067, lr=0.000072, r2=0.7324]\n",
      "Epoch 68 Validating: 100%|██████████| 10/10 [00:01<00:00,  5.96batch/s, loss_avg=-14.8303, loss_val=-14.8323, mse=0.0091, r2=0.7359, relative_error=0.4291]\n"
     ]
    },
    {
     "name": "stdout",
     "output_type": "stream",
     "text": [
      " \n"
     ]
    },
    {
     "name": "stderr",
     "output_type": "stream",
     "text": [
      "Epoch 69 Training: 100%|██████████| 176/176 [00:05<00:00, 32.98batch/s, loss=-15.4603, loss_avg=-15.4005, lr=0.000072, r2=0.7340]\n",
      "Epoch 69 Validating: 100%|██████████| 10/10 [00:01<00:00,  6.01batch/s, loss_avg=-15.4890, loss_val=-15.5670, mse=0.0090, r2=0.7431, relative_error=0.3414]\n"
     ]
    },
    {
     "name": "stdout",
     "output_type": "stream",
     "text": [
      " \n"
     ]
    },
    {
     "name": "stderr",
     "output_type": "stream",
     "text": [
      "Epoch 70 Training: 100%|██████████| 176/176 [00:05<00:00, 32.60batch/s, loss=-15.3974, loss_avg=-15.4236, lr=0.000072, r2=0.7346]\n",
      "Epoch 70 Validating: 100%|██████████| 10/10 [00:01<00:00,  5.92batch/s, loss_avg=-15.5021, loss_val=-15.5683, mse=0.0090, r2=0.7403, relative_error=0.4786]\n"
     ]
    },
    {
     "name": "stdout",
     "output_type": "stream",
     "text": [
      " \n"
     ]
    },
    {
     "name": "stderr",
     "output_type": "stream",
     "text": [
      "Epoch 71 Training: 100%|██████████| 176/176 [00:05<00:00, 32.68batch/s, loss=-15.4663, loss_avg=-15.3726, lr=0.000072, r2=0.7371]\n",
      "Epoch 71 Validating: 100%|██████████| 10/10 [00:01<00:00,  6.04batch/s, loss_avg=-15.4918, loss_val=-15.5660, mse=0.0089, r2=0.7444, relative_error=0.3517]\n"
     ]
    },
    {
     "name": "stdout",
     "output_type": "stream",
     "text": [
      " \n"
     ]
    },
    {
     "name": "stderr",
     "output_type": "stream",
     "text": [
      "Epoch 72 Training: 100%|██████████| 176/176 [00:04<00:00, 36.17batch/s, loss=-15.4954, loss_avg=-15.4823, lr=0.000072, r2=0.7391]\n",
      "Epoch 72 Validating: 100%|██████████| 10/10 [00:01<00:00,  5.90batch/s, loss_avg=-15.5489, loss_val=-15.6126, mse=0.0087, r2=0.7477, relative_error=0.3108]\n"
     ]
    },
    {
     "name": "stdout",
     "output_type": "stream",
     "text": [
      " \n"
     ]
    },
    {
     "name": "stderr",
     "output_type": "stream",
     "text": [
      "Epoch 73 Training: 100%|██████████| 176/176 [00:04<00:00, 35.51batch/s, loss=-15.4965, loss_avg=-15.4988, lr=0.000072, r2=0.7425]\n",
      "Epoch 73 Validating: 100%|██████████| 10/10 [00:01<00:00,  6.21batch/s, loss_avg=-15.5548, loss_val=-15.6182, mse=0.0087, r2=0.7514, relative_error=0.3891]\n"
     ]
    },
    {
     "name": "stdout",
     "output_type": "stream",
     "text": [
      " \n"
     ]
    },
    {
     "name": "stderr",
     "output_type": "stream",
     "text": [
      "Epoch 74 Training: 100%|██████████| 176/176 [00:04<00:00, 36.05batch/s, loss=-15.5615, loss_avg=-15.5390, lr=0.000072, r2=0.7439]\n",
      "Epoch 74 Validating: 100%|██████████| 10/10 [00:01<00:00,  5.96batch/s, loss_avg=-15.5917, loss_val=-15.6477, mse=0.0087, r2=0.7502, relative_error=0.3300]\n"
     ]
    },
    {
     "name": "stdout",
     "output_type": "stream",
     "text": [
      " \n"
     ]
    },
    {
     "name": "stderr",
     "output_type": "stream",
     "text": [
      "Epoch 75 Training: 100%|██████████| 176/176 [00:04<00:00, 36.40batch/s, loss=-15.5134, loss_avg=-15.5120, lr=0.000072, r2=0.7451]\n",
      "Epoch 75 Validating: 100%|██████████| 10/10 [00:01<00:00,  6.16batch/s, loss_avg=-15.5794, loss_val=-15.6294, mse=0.0084, r2=0.7571, relative_error=0.3724]\n"
     ]
    },
    {
     "name": "stdout",
     "output_type": "stream",
     "text": [
      " \n"
     ]
    },
    {
     "name": "stderr",
     "output_type": "stream",
     "text": [
      "Epoch 76 Training: 100%|██████████| 176/176 [00:04<00:00, 38.08batch/s, loss=-15.5845, loss_avg=-15.5655, lr=0.000072, r2=0.7478]\n",
      "Epoch 76 Validating: 100%|██████████| 10/10 [00:01<00:00,  6.15batch/s, loss_avg=-15.5995, loss_val=-15.6549, mse=0.0083, r2=0.7610, relative_error=0.3527]\n"
     ]
    },
    {
     "name": "stdout",
     "output_type": "stream",
     "text": [
      " \n"
     ]
    },
    {
     "name": "stderr",
     "output_type": "stream",
     "text": [
      "Epoch 77 Training: 100%|██████████| 176/176 [00:04<00:00, 37.00batch/s, loss=-15.6285, loss_avg=-15.5901, lr=0.000072, r2=0.7500]\n",
      "Epoch 77 Validating: 100%|██████████| 10/10 [00:01<00:00,  6.35batch/s, loss_avg=-15.6568, loss_val=-15.6955, mse=0.0086, r2=0.7536, relative_error=0.3663]\n"
     ]
    },
    {
     "name": "stdout",
     "output_type": "stream",
     "text": [
      " \n"
     ]
    },
    {
     "name": "stderr",
     "output_type": "stream",
     "text": [
      "Epoch 78 Training: 100%|██████████| 176/176 [00:04<00:00, 36.94batch/s, loss=-15.6709, loss_avg=-15.6141, lr=0.000072, r2=0.7513]\n",
      "Epoch 78 Validating: 100%|██████████| 10/10 [00:01<00:00,  6.54batch/s, loss_avg=-15.6999, loss_val=-15.7340, mse=0.0084, r2=0.7594, relative_error=0.4997]\n"
     ]
    },
    {
     "name": "stdout",
     "output_type": "stream",
     "text": [
      " \n"
     ]
    },
    {
     "name": "stderr",
     "output_type": "stream",
     "text": [
      "Epoch 79 Training: 100%|██████████| 176/176 [00:04<00:00, 36.23batch/s, loss=-15.5352, loss_avg=-15.6178, lr=0.000072, r2=0.7547]\n",
      "Epoch 79 Validating: 100%|██████████| 10/10 [00:01<00:00,  6.10batch/s, loss_avg=-15.2958, loss_val=-15.3496, mse=0.0084, r2=0.7600, relative_error=0.3772]\n"
     ]
    },
    {
     "name": "stdout",
     "output_type": "stream",
     "text": [
      " \n"
     ]
    },
    {
     "name": "stderr",
     "output_type": "stream",
     "text": [
      "Epoch 80 Training: 100%|██████████| 176/176 [00:04<00:00, 36.81batch/s, loss=-15.5058, loss_avg=-15.6208, lr=0.000072, r2=0.7551]\n",
      "Epoch 80 Validating: 100%|██████████| 10/10 [00:01<00:00,  6.38batch/s, loss_avg=-15.5720, loss_val=-15.5834, mse=0.0082, r2=0.7673, relative_error=0.3605]\n"
     ]
    },
    {
     "name": "stdout",
     "output_type": "stream",
     "text": [
      " \n"
     ]
    },
    {
     "name": "stderr",
     "output_type": "stream",
     "text": [
      "Epoch 81 Training: 100%|██████████| 176/176 [00:04<00:00, 36.61batch/s, loss=-15.7137, loss_avg=-15.6540, lr=0.000072, r2=0.7583]\n",
      "Epoch 81 Validating: 100%|██████████| 10/10 [00:01<00:00,  6.30batch/s, loss_avg=-15.7295, loss_val=-15.7570, mse=0.0083, r2=0.7620, relative_error=0.3276]\n"
     ]
    },
    {
     "name": "stdout",
     "output_type": "stream",
     "text": [
      " \n"
     ]
    },
    {
     "name": "stderr",
     "output_type": "stream",
     "text": [
      "Epoch 82 Training: 100%|██████████| 176/176 [00:04<00:00, 37.13batch/s, loss=-15.0026, loss_avg=-15.6880, lr=0.000072, r2=0.7608]\n",
      "Epoch 82 Validating: 100%|██████████| 10/10 [00:01<00:00,  6.34batch/s, loss_avg=-15.4506, loss_val=-15.5032, mse=0.0081, r2=0.7670, relative_error=0.4745]\n"
     ]
    },
    {
     "name": "stdout",
     "output_type": "stream",
     "text": [
      " \n"
     ]
    },
    {
     "name": "stderr",
     "output_type": "stream",
     "text": [
      "Epoch 83 Training: 100%|██████████| 176/176 [00:04<00:00, 37.25batch/s, loss=-15.5012, loss_avg=-15.6901, lr=0.000072, r2=0.7608]\n",
      "Epoch 83 Validating: 100%|██████████| 10/10 [00:01<00:00,  6.23batch/s, loss_avg=-15.3376, loss_val=-15.3863, mse=0.0082, r2=0.7671, relative_error=0.3605]\n"
     ]
    },
    {
     "name": "stdout",
     "output_type": "stream",
     "text": [
      " \n"
     ]
    },
    {
     "name": "stderr",
     "output_type": "stream",
     "text": [
      "Epoch 84 Training: 100%|██████████| 176/176 [00:04<00:00, 36.38batch/s, loss=-15.4954, loss_avg=-15.7325, lr=0.000072, r2=0.7648]\n",
      "Epoch 84 Validating: 100%|██████████| 10/10 [00:01<00:00,  6.50batch/s, loss_avg=-15.4322, loss_val=-15.4762, mse=0.0080, r2=0.7714, relative_error=0.5409]\n"
     ]
    },
    {
     "name": "stdout",
     "output_type": "stream",
     "text": [
      " \n"
     ]
    },
    {
     "name": "stderr",
     "output_type": "stream",
     "text": [
      "Epoch 85 Training: 100%|██████████| 176/176 [00:04<00:00, 37.22batch/s, loss=-15.7927, loss_avg=-15.7509, lr=0.000072, r2=0.7681]\n",
      "Epoch 85 Validating: 100%|██████████| 10/10 [00:01<00:00,  6.21batch/s, loss_avg=-15.8190, loss_val=-15.8272, mse=0.0081, r2=0.7701, relative_error=0.3909]\n"
     ]
    },
    {
     "name": "stdout",
     "output_type": "stream",
     "text": [
      " \n"
     ]
    },
    {
     "name": "stderr",
     "output_type": "stream",
     "text": [
      "Epoch 86 Training: 100%|██████████| 176/176 [00:04<00:00, 38.74batch/s, loss=-15.8150, loss_avg=-15.7693, lr=0.000072, r2=0.7698]\n",
      "Epoch 86 Validating: 100%|██████████| 10/10 [00:01<00:00,  6.23batch/s, loss_avg=-15.8188, loss_val=-15.8364, mse=0.0080, r2=0.7725, relative_error=0.4414]\n"
     ]
    },
    {
     "name": "stdout",
     "output_type": "stream",
     "text": [
      " \n"
     ]
    },
    {
     "name": "stderr",
     "output_type": "stream",
     "text": [
      "Epoch 87 Training: 100%|██████████| 176/176 [00:04<00:00, 37.04batch/s, loss=-15.8252, loss_avg=-15.7857, lr=0.000072, r2=0.7721]\n",
      "Epoch 87 Validating: 100%|██████████| 10/10 [00:01<00:00,  6.25batch/s, loss_avg=-15.8598, loss_val=-15.8672, mse=0.0078, r2=0.7771, relative_error=0.4569]\n"
     ]
    },
    {
     "name": "stdout",
     "output_type": "stream",
     "text": [
      " \n"
     ]
    },
    {
     "name": "stderr",
     "output_type": "stream",
     "text": [
      "Epoch 88 Training: 100%|██████████| 176/176 [00:04<00:00, 35.88batch/s, loss=-15.8398, loss_avg=-15.7983, lr=0.000072, r2=0.7741]\n",
      "Epoch 88 Validating: 100%|██████████| 10/10 [00:01<00:00,  5.92batch/s, loss_avg=-15.8971, loss_val=-15.9044, mse=0.0078, r2=0.7770, relative_error=0.3468]\n"
     ]
    },
    {
     "name": "stdout",
     "output_type": "stream",
     "text": [
      " \n"
     ]
    },
    {
     "name": "stderr",
     "output_type": "stream",
     "text": [
      "Epoch 89 Training: 100%|██████████| 176/176 [00:04<00:00, 36.30batch/s, loss=-15.7839, loss_avg=-15.8174, lr=0.000072, r2=0.7769]\n",
      "Epoch 89 Validating: 100%|██████████| 10/10 [00:01<00:00,  6.39batch/s, loss_avg=-15.8922, loss_val=-15.9007, mse=0.0077, r2=0.7764, relative_error=0.3428]\n"
     ]
    },
    {
     "name": "stdout",
     "output_type": "stream",
     "text": [
      " \n"
     ]
    },
    {
     "name": "stderr",
     "output_type": "stream",
     "text": [
      "Epoch 90 Training: 100%|██████████| 176/176 [00:04<00:00, 36.25batch/s, loss=-15.2705, loss_avg=-15.8641, lr=0.000072, r2=0.7780]\n",
      "Epoch 90 Validating: 100%|██████████| 10/10 [00:01<00:00,  6.18batch/s, loss_avg=-15.5992, loss_val=-15.6548, mse=0.0075, r2=0.7858, relative_error=0.3515]\n"
     ]
    },
    {
     "name": "stdout",
     "output_type": "stream",
     "text": [
      " \n"
     ]
    },
    {
     "name": "stderr",
     "output_type": "stream",
     "text": [
      "Epoch 91 Training: 100%|██████████| 176/176 [00:05<00:00, 34.43batch/s, loss=-15.8574, loss_avg=-15.8754, lr=0.000072, r2=0.7815]\n",
      "Epoch 91 Validating: 100%|██████████| 10/10 [00:01<00:00,  6.44batch/s, loss_avg=-15.9026, loss_val=-15.9262, mse=0.0072, r2=0.7953, relative_error=0.3273]\n"
     ]
    },
    {
     "name": "stdout",
     "output_type": "stream",
     "text": [
      " \n"
     ]
    },
    {
     "name": "stderr",
     "output_type": "stream",
     "text": [
      "Epoch 92 Training: 100%|██████████| 176/176 [00:04<00:00, 37.30batch/s, loss=-15.0605, loss_avg=-15.8935, lr=0.000072, r2=0.7853]\n",
      "Epoch 92 Validating: 100%|██████████| 10/10 [00:01<00:00,  6.43batch/s, loss_avg=-15.6467, loss_val=-15.6822, mse=0.0073, r2=0.7914, relative_error=0.4403]\n"
     ]
    },
    {
     "name": "stdout",
     "output_type": "stream",
     "text": [
      " \n"
     ]
    },
    {
     "name": "stderr",
     "output_type": "stream",
     "text": [
      "Epoch 93 Training: 100%|██████████| 176/176 [00:04<00:00, 36.61batch/s, loss=-15.8639, loss_avg=-15.8589, lr=0.000072, r2=0.7872]\n",
      "Epoch 93 Validating: 100%|██████████| 10/10 [00:01<00:00,  6.33batch/s, loss_avg=-15.9611, loss_val=-15.9860, mse=0.0071, r2=0.7946, relative_error=0.5071]\n"
     ]
    },
    {
     "name": "stdout",
     "output_type": "stream",
     "text": [
      " \n"
     ]
    },
    {
     "name": "stderr",
     "output_type": "stream",
     "text": [
      "Epoch 94 Training: 100%|██████████| 176/176 [00:04<00:00, 37.24batch/s, loss=-15.7566, loss_avg=-15.9265, lr=0.000072, r2=0.7895]\n",
      "Epoch 94 Validating: 100%|██████████| 10/10 [00:01<00:00,  6.10batch/s, loss_avg=-16.0094, loss_val=-16.0303, mse=0.0072, r2=0.7916, relative_error=0.4519]\n"
     ]
    },
    {
     "name": "stdout",
     "output_type": "stream",
     "text": [
      " \n"
     ]
    },
    {
     "name": "stderr",
     "output_type": "stream",
     "text": [
      "Epoch 95 Training: 100%|██████████| 176/176 [00:05<00:00, 34.73batch/s, loss=-15.8779, loss_avg=-15.9522, lr=0.000072, r2=0.7914]\n",
      "Epoch 95 Validating: 100%|██████████| 10/10 [00:01<00:00,  6.28batch/s, loss_avg=-15.1584, loss_val=-15.1544, mse=0.0070, r2=0.7969, relative_error=0.3741]\n"
     ]
    },
    {
     "name": "stdout",
     "output_type": "stream",
     "text": [
      " \n"
     ]
    },
    {
     "name": "stderr",
     "output_type": "stream",
     "text": [
      "Epoch 96 Training: 100%|██████████| 176/176 [00:04<00:00, 36.60batch/s, loss=-15.9703, loss_avg=-15.9457, lr=0.000072, r2=0.7932]\n",
      "Epoch 96 Validating: 100%|██████████| 10/10 [00:01<00:00,  6.46batch/s, loss_avg=-15.9627, loss_val=-15.9879, mse=0.0070, r2=0.7991, relative_error=0.3220]\n"
     ]
    },
    {
     "name": "stdout",
     "output_type": "stream",
     "text": [
      " \n"
     ]
    },
    {
     "name": "stderr",
     "output_type": "stream",
     "text": [
      "Epoch 97 Training: 100%|██████████| 176/176 [00:04<00:00, 37.06batch/s, loss=-15.8921, loss_avg=-15.9966, lr=0.000072, r2=0.7956]\n",
      "Epoch 97 Validating: 100%|██████████| 10/10 [00:01<00:00,  6.04batch/s, loss_avg=-16.0349, loss_val=-16.0484, mse=0.0070, r2=0.8011, relative_error=0.3390]\n"
     ]
    },
    {
     "name": "stdout",
     "output_type": "stream",
     "text": [
      "Save Best model: R2:0.8011, Loss Avg:-16.0349\n"
     ]
    },
    {
     "name": "stderr",
     "output_type": "stream",
     "text": [
      "Epoch 98 Training: 100%|██████████| 176/176 [00:04<00:00, 37.59batch/s, loss=-16.0558, loss_avg=-16.0326, lr=0.000072, r2=0.7990]\n",
      "Epoch 98 Validating: 100%|██████████| 10/10 [00:01<00:00,  6.83batch/s, loss_avg=-16.0758, loss_val=-16.0833, mse=0.0068, r2=0.8050, relative_error=0.3272]\n"
     ]
    },
    {
     "name": "stdout",
     "output_type": "stream",
     "text": [
      "Save Best model: R2:0.8050, Loss Avg:-16.0758\n"
     ]
    },
    {
     "name": "stderr",
     "output_type": "stream",
     "text": [
      "Epoch 99 Training: 100%|██████████| 176/176 [00:03<00:00, 53.84batch/s, loss=-15.7988, loss_avg=-15.9993, lr=0.000072, r2=0.7999] \n",
      "Epoch 99 Validating: 100%|██████████| 10/10 [00:01<00:00,  6.70batch/s, loss_avg=-16.0980, loss_val=-16.0896, mse=0.0067, r2=0.8059, relative_error=0.3279]\n"
     ]
    },
    {
     "name": "stdout",
     "output_type": "stream",
     "text": [
      "Save Best model: R2:0.8059, Loss Avg:-16.0980\n"
     ]
    },
    {
     "name": "stderr",
     "output_type": "stream",
     "text": [
      "Epoch 100 Training: 100%|██████████| 176/176 [00:03<00:00, 52.90batch/s, loss=-15.9323, loss_avg=-16.0721, lr=0.000072, r2=0.8032] \n",
      "Epoch 100 Validating: 100%|██████████| 10/10 [00:01<00:00,  6.22batch/s, loss_avg=-15.9559, loss_val=-15.9808, mse=0.0067, r2=0.8084, relative_error=0.3132]\n"
     ]
    },
    {
     "name": "stdout",
     "output_type": "stream",
     "text": [
      "Save Best model: R2:0.8084, Loss Avg:-15.9559\n"
     ]
    },
    {
     "name": "stderr",
     "output_type": "stream",
     "text": [
      "Epoch 101 Training: 100%|██████████| 176/176 [00:04<00:00, 41.01batch/s, loss=-16.0492, loss_avg=-16.0938, lr=0.000072, r2=0.8050] \n",
      "Epoch 101 Validating: 100%|██████████| 10/10 [00:01<00:00,  6.38batch/s, loss_avg=-16.1414, loss_val=-16.1201, mse=0.0066, r2=0.8097, relative_error=0.3259]\n"
     ]
    },
    {
     "name": "stdout",
     "output_type": "stream",
     "text": [
      "Save Best model: R2:0.8097, Loss Avg:-16.1414\n"
     ]
    },
    {
     "name": "stderr",
     "output_type": "stream",
     "text": [
      "Epoch 102 Training: 100%|██████████| 176/176 [00:04<00:00, 37.03batch/s, loss=-16.1435, loss_avg=-16.1146, lr=0.000072, r2=0.8094]\n",
      "Epoch 102 Validating: 100%|██████████| 10/10 [00:01<00:00,  6.22batch/s, loss_avg=-16.1869, loss_val=-16.1874, mse=0.0064, r2=0.8173, relative_error=0.4821]\n"
     ]
    },
    {
     "name": "stdout",
     "output_type": "stream",
     "text": [
      "Save Best model: R2:0.8173, Loss Avg:-16.1869\n"
     ]
    },
    {
     "name": "stderr",
     "output_type": "stream",
     "text": [
      "Epoch 103 Training: 100%|██████████| 176/176 [00:04<00:00, 36.92batch/s, loss=-15.9711, loss_avg=-16.1287, lr=0.000072, r2=0.8118]\n",
      "Epoch 103 Validating: 100%|██████████| 10/10 [00:01<00:00,  6.26batch/s, loss_avg=-16.1926, loss_val=-16.1776, mse=0.0063, r2=0.8175, relative_error=0.4621]\n"
     ]
    },
    {
     "name": "stdout",
     "output_type": "stream",
     "text": [
      "Save Best model: R2:0.8175, Loss Avg:-16.1926\n"
     ]
    },
    {
     "name": "stderr",
     "output_type": "stream",
     "text": [
      "Epoch 104 Training: 100%|██████████| 176/176 [00:04<00:00, 35.73batch/s, loss=-16.1098, loss_avg=-16.1511, lr=0.000072, r2=0.8146]\n",
      "Epoch 104 Validating: 100%|██████████| 10/10 [00:01<00:00,  5.94batch/s, loss_avg=-16.1976, loss_val=-16.1823, mse=0.0063, r2=0.8167, relative_error=0.4084]\n"
     ]
    },
    {
     "name": "stdout",
     "output_type": "stream",
     "text": [
      " \n"
     ]
    },
    {
     "name": "stderr",
     "output_type": "stream",
     "text": [
      "Epoch 105 Training: 100%|██████████| 176/176 [00:04<00:00, 36.02batch/s, loss=-16.0069, loss_avg=-16.1742, lr=0.000072, r2=0.8159]\n",
      "Epoch 105 Validating: 100%|██████████| 10/10 [00:01<00:00,  6.26batch/s, loss_avg=-16.2036, loss_val=-16.2025, mse=0.0062, r2=0.8199, relative_error=0.4926]\n"
     ]
    },
    {
     "name": "stdout",
     "output_type": "stream",
     "text": [
      "Save Best model: R2:0.8199, Loss Avg:-16.2036\n"
     ]
    },
    {
     "name": "stderr",
     "output_type": "stream",
     "text": [
      "Epoch 106 Training: 100%|██████████| 176/176 [00:04<00:00, 35.95batch/s, loss=-16.2002, loss_avg=-16.1902, lr=0.000072, r2=0.8199]\n",
      "Epoch 106 Validating: 100%|██████████| 10/10 [00:01<00:00,  6.35batch/s, loss_avg=-16.2627, loss_val=-16.2436, mse=0.0062, r2=0.8208, relative_error=0.2938]\n"
     ]
    },
    {
     "name": "stdout",
     "output_type": "stream",
     "text": [
      "Save Best model: R2:0.8208, Loss Avg:-16.2627\n"
     ]
    },
    {
     "name": "stderr",
     "output_type": "stream",
     "text": [
      "Epoch 107 Training: 100%|██████████| 176/176 [00:04<00:00, 36.27batch/s, loss=-16.1591, loss_avg=-16.1934, lr=0.000072, r2=0.8227]\n",
      "Epoch 107 Validating: 100%|██████████| 10/10 [00:01<00:00,  6.38batch/s, loss_avg=-16.1278, loss_val=-16.1273, mse=0.0061, r2=0.8256, relative_error=0.6046]\n"
     ]
    },
    {
     "name": "stdout",
     "output_type": "stream",
     "text": [
      "Save Best model: R2:0.8256, Loss Avg:-16.1278\n"
     ]
    },
    {
     "name": "stderr",
     "output_type": "stream",
     "text": [
      "Epoch 108 Training: 100%|██████████| 176/176 [00:04<00:00, 35.99batch/s, loss=-15.3404, loss_avg=-16.2269, lr=0.000072, r2=0.8255]\n",
      "Epoch 108 Validating: 100%|██████████| 10/10 [00:01<00:00,  6.20batch/s, loss_avg=-15.6809, loss_val=-15.8222, mse=0.0060, r2=0.8220, relative_error=0.4715]\n"
     ]
    },
    {
     "name": "stdout",
     "output_type": "stream",
     "text": [
      " \n"
     ]
    },
    {
     "name": "stderr",
     "output_type": "stream",
     "text": [
      "Epoch 109 Training: 100%|██████████| 176/176 [00:05<00:00, 34.69batch/s, loss=-15.7918, loss_avg=-15.9943, lr=0.000072, r2=0.8259]\n",
      "Epoch 109 Validating: 100%|██████████| 10/10 [00:01<00:00,  6.12batch/s, loss_avg=-15.8319, loss_val=-15.8256, mse=0.0058, r2=0.8354, relative_error=0.5940]\n"
     ]
    },
    {
     "name": "stdout",
     "output_type": "stream",
     "text": [
      "Save Best model: R2:0.8354, Loss Avg:-15.8319\n"
     ]
    },
    {
     "name": "stderr",
     "output_type": "stream",
     "text": [
      "Epoch 110 Training: 100%|██████████| 176/176 [00:04<00:00, 35.39batch/s, loss=-15.9173, loss_avg=-15.9066, lr=0.000072, r2=0.8290]\n",
      "Epoch 110 Validating: 100%|██████████| 10/10 [00:01<00:00,  6.40batch/s, loss_avg=-16.0028, loss_val=-16.0243, mse=0.0059, r2=0.8309, relative_error=0.5115]\n"
     ]
    },
    {
     "name": "stdout",
     "output_type": "stream",
     "text": [
      " \n"
     ]
    },
    {
     "name": "stderr",
     "output_type": "stream",
     "text": [
      "Epoch 111 Training: 100%|██████████| 176/176 [00:04<00:00, 35.42batch/s, loss=-15.9790, loss_avg=-15.9776, lr=0.000072, r2=0.8304]\n",
      "Epoch 111 Validating: 100%|██████████| 10/10 [00:01<00:00,  5.54batch/s, loss_avg=-16.0515, loss_val=-16.0833, mse=0.0059, r2=0.8294, relative_error=0.5586]\n"
     ]
    },
    {
     "name": "stdout",
     "output_type": "stream",
     "text": [
      " \n"
     ]
    },
    {
     "name": "stderr",
     "output_type": "stream",
     "text": [
      "Epoch 112 Training: 100%|██████████| 176/176 [00:04<00:00, 36.33batch/s, loss=-16.0042, loss_avg=-16.0314, lr=0.000072, r2=0.8327]\n",
      "Epoch 112 Validating: 100%|██████████| 10/10 [00:01<00:00,  5.76batch/s, loss_avg=-16.0881, loss_val=-16.1266, mse=0.0057, r2=0.8359, relative_error=0.5134]\n"
     ]
    },
    {
     "name": "stdout",
     "output_type": "stream",
     "text": [
      "Save Best model: R2:0.8359, Loss Avg:-16.0881\n"
     ]
    },
    {
     "name": "stderr",
     "output_type": "stream",
     "text": [
      "Epoch 113 Training: 100%|██████████| 176/176 [00:04<00:00, 35.70batch/s, loss=-16.0196, loss_avg=-16.0590, lr=0.000072, r2=0.8332]\n",
      "Epoch 113 Validating: 100%|██████████| 10/10 [00:01<00:00,  5.83batch/s, loss_avg=-16.1456, loss_val=-16.1931, mse=0.0056, r2=0.8364, relative_error=0.6905]\n"
     ]
    },
    {
     "name": "stdout",
     "output_type": "stream",
     "text": [
      "Save Best model: R2:0.8364, Loss Avg:-16.1456\n"
     ]
    },
    {
     "name": "stderr",
     "output_type": "stream",
     "text": [
      "Epoch 114 Training: 100%|██████████| 176/176 [00:05<00:00, 32.47batch/s, loss=-16.1153, loss_avg=-16.1012, lr=0.000072, r2=0.8357]\n",
      "Epoch 114 Validating: 100%|██████████| 10/10 [00:01<00:00,  5.64batch/s, loss_avg=-16.2053, loss_val=-16.2544, mse=0.0054, r2=0.8448, relative_error=0.3486]\n"
     ]
    },
    {
     "name": "stdout",
     "output_type": "stream",
     "text": [
      "Save Best model: R2:0.8448, Loss Avg:-16.2053\n"
     ]
    },
    {
     "name": "stderr",
     "output_type": "stream",
     "text": [
      "Epoch 115 Training: 100%|██████████| 176/176 [00:05<00:00, 33.87batch/s, loss=-16.1493, loss_avg=-16.1405, lr=0.000072, r2=0.8375]\n",
      "Epoch 115 Validating: 100%|██████████| 10/10 [00:01<00:00,  5.69batch/s, loss_avg=-16.2000, loss_val=-16.2574, mse=0.0054, r2=0.8423, relative_error=0.4915]\n"
     ]
    },
    {
     "name": "stdout",
     "output_type": "stream",
     "text": [
      " \n"
     ]
    },
    {
     "name": "stderr",
     "output_type": "stream",
     "text": [
      "Epoch 116 Training: 100%|██████████| 176/176 [00:05<00:00, 33.74batch/s, loss=-15.1802, loss_avg=-16.1777, lr=0.000072, r2=0.8402]\n",
      "Epoch 116 Validating: 100%|██████████| 10/10 [00:01<00:00,  5.61batch/s, loss_avg=-15.3334, loss_val=-15.4727, mse=0.0054, r2=0.8433, relative_error=0.5247]\n"
     ]
    },
    {
     "name": "stdout",
     "output_type": "stream",
     "text": [
      " \n"
     ]
    },
    {
     "name": "stderr",
     "output_type": "stream",
     "text": [
      "Epoch 117 Training: 100%|██████████| 176/176 [00:04<00:00, 36.07batch/s, loss=-16.2159, loss_avg=-16.1981, lr=0.000072, r2=0.8439]\n",
      "Epoch 117 Validating: 100%|██████████| 10/10 [00:01<00:00,  5.96batch/s, loss_avg=-16.3083, loss_val=-16.3605, mse=0.0050, r2=0.8538, relative_error=0.6616]\n"
     ]
    },
    {
     "name": "stdout",
     "output_type": "stream",
     "text": [
      "Save Best model: R2:0.8538, Loss Avg:-16.3083\n"
     ]
    },
    {
     "name": "stderr",
     "output_type": "stream",
     "text": [
      "Epoch 118 Training: 100%|██████████| 176/176 [00:05<00:00, 30.91batch/s, loss=-15.7075, loss_avg=-16.2338, lr=0.000072, r2=0.8452]\n",
      "Epoch 118 Validating: 100%|██████████| 10/10 [00:01<00:00,  6.03batch/s, loss_avg=-16.0444, loss_val=-16.1342, mse=0.0053, r2=0.8484, relative_error=0.7422]\n"
     ]
    },
    {
     "name": "stdout",
     "output_type": "stream",
     "text": [
      " \n"
     ]
    },
    {
     "name": "stderr",
     "output_type": "stream",
     "text": [
      "Epoch 119 Training: 100%|██████████| 176/176 [00:04<00:00, 35.78batch/s, loss=-16.1731, loss_avg=-16.2435, lr=0.000072, r2=0.8476]\n",
      "Epoch 119 Validating: 100%|██████████| 10/10 [00:01<00:00,  5.93batch/s, loss_avg=-16.2696, loss_val=-16.2993, mse=0.0052, r2=0.8507, relative_error=0.5482]\n"
     ]
    },
    {
     "name": "stdout",
     "output_type": "stream",
     "text": [
      " \n"
     ]
    },
    {
     "name": "stderr",
     "output_type": "stream",
     "text": [
      "Epoch 120 Training: 100%|██████████| 176/176 [00:04<00:00, 36.06batch/s, loss=-15.7541, loss_avg=-16.2890, lr=0.000072, r2=0.8502]\n",
      "Epoch 120 Validating: 100%|██████████| 10/10 [00:01<00:00,  6.11batch/s, loss_avg=-16.1478, loss_val=-16.2237, mse=0.0052, r2=0.8475, relative_error=0.5584]\n"
     ]
    },
    {
     "name": "stdout",
     "output_type": "stream",
     "text": [
      " \n"
     ]
    },
    {
     "name": "stderr",
     "output_type": "stream",
     "text": [
      "Epoch 121 Training: 100%|██████████| 176/176 [00:04<00:00, 35.65batch/s, loss=-16.3719, loss_avg=-16.3119, lr=0.000072, r2=0.8531]\n",
      "Epoch 121 Validating: 100%|██████████| 10/10 [00:01<00:00,  5.73batch/s, loss_avg=-16.4131, loss_val=-16.4574, mse=0.0050, r2=0.8534, relative_error=0.4842]\n"
     ]
    },
    {
     "name": "stdout",
     "output_type": "stream",
     "text": [
      " \n"
     ]
    },
    {
     "name": "stderr",
     "output_type": "stream",
     "text": [
      "Epoch 122 Training: 100%|██████████| 176/176 [00:04<00:00, 36.25batch/s, loss=-15.6679, loss_avg=-16.3344, lr=0.000072, r2=0.8562]\n",
      "Epoch 122 Validating: 100%|██████████| 10/10 [00:01<00:00,  6.02batch/s, loss_avg=-16.0742, loss_val=-16.1780, mse=0.0049, r2=0.8585, relative_error=0.7455]\n"
     ]
    },
    {
     "name": "stdout",
     "output_type": "stream",
     "text": [
      "Save Best model: R2:0.8585, Loss Avg:-16.0742\n"
     ]
    },
    {
     "name": "stderr",
     "output_type": "stream",
     "text": [
      "Epoch 123 Training: 100%|██████████| 176/176 [00:04<00:00, 35.69batch/s, loss=-16.4003, loss_avg=-16.3604, lr=0.000072, r2=0.8578]\n",
      "Epoch 123 Validating: 100%|██████████| 10/10 [00:01<00:00,  5.98batch/s, loss_avg=-16.4278, loss_val=-16.4636, mse=0.0047, r2=0.8642, relative_error=0.5297]\n"
     ]
    },
    {
     "name": "stdout",
     "output_type": "stream",
     "text": [
      "Save Best model: R2:0.8642, Loss Avg:-16.4278\n"
     ]
    },
    {
     "name": "stderr",
     "output_type": "stream",
     "text": [
      "Epoch 124 Training: 100%|██████████| 176/176 [00:06<00:00, 27.40batch/s, loss=-16.4050, loss_avg=-16.3816, lr=0.000072, r2=0.8595]\n",
      "Epoch 124 Validating: 100%|██████████| 10/10 [00:02<00:00,  4.80batch/s, loss_avg=-16.4967, loss_val=-16.5305, mse=0.0046, r2=0.8661, relative_error=0.6890]\n"
     ]
    },
    {
     "name": "stdout",
     "output_type": "stream",
     "text": [
      "Save Best model: R2:0.8661, Loss Avg:-16.4967\n"
     ]
    },
    {
     "name": "stderr",
     "output_type": "stream",
     "text": [
      "Epoch 125 Training: 100%|██████████| 176/176 [00:04<00:00, 36.39batch/s, loss=-16.3772, loss_avg=-16.4060, lr=0.000072, r2=0.8620]\n",
      "Epoch 125 Validating: 100%|██████████| 10/10 [00:01<00:00,  5.87batch/s, loss_avg=-16.5190, loss_val=-16.5619, mse=0.0045, r2=0.8675, relative_error=0.7048]\n"
     ]
    },
    {
     "name": "stdout",
     "output_type": "stream",
     "text": [
      "Save Best model: R2:0.8675, Loss Avg:-16.5190\n"
     ]
    },
    {
     "name": "stderr",
     "output_type": "stream",
     "text": [
      "Epoch 126 Training: 100%|██████████| 176/176 [00:04<00:00, 36.04batch/s, loss=-16.4437, loss_avg=-16.4474, lr=0.000072, r2=0.8639]\n",
      "Epoch 126 Validating: 100%|██████████| 10/10 [00:01<00:00,  5.84batch/s, loss_avg=-16.4382, loss_val=-16.4747, mse=0.0046, r2=0.8655, relative_error=0.7611]\n"
     ]
    },
    {
     "name": "stdout",
     "output_type": "stream",
     "text": [
      " \n"
     ]
    },
    {
     "name": "stderr",
     "output_type": "stream",
     "text": [
      "Epoch 127 Training: 100%|██████████| 176/176 [00:04<00:00, 36.42batch/s, loss=-16.1190, loss_avg=-16.4551, lr=0.000072, r2=0.8663]\n",
      "Epoch 127 Validating: 100%|██████████| 10/10 [00:01<00:00,  5.90batch/s, loss_avg=-16.5354, loss_val=-16.5843, mse=0.0046, r2=0.8684, relative_error=0.7494]\n"
     ]
    },
    {
     "name": "stdout",
     "output_type": "stream",
     "text": [
      "Save Best model: R2:0.8684, Loss Avg:-16.5354\n"
     ]
    },
    {
     "name": "stderr",
     "output_type": "stream",
     "text": [
      "Epoch 128 Training: 100%|██████████| 176/176 [00:04<00:00, 36.22batch/s, loss=-16.6588, loss_avg=-16.5178, lr=0.000072, r2=0.8712]\n",
      "Epoch 128 Validating: 100%|██████████| 10/10 [00:01<00:00,  6.01batch/s, loss_avg=-16.7155, loss_val=-16.7387, mse=0.0043, r2=0.8749, relative_error=0.5637]\n"
     ]
    },
    {
     "name": "stdout",
     "output_type": "stream",
     "text": [
      "Save Best model: R2:0.8749, Loss Avg:-16.7155\n"
     ]
    },
    {
     "name": "stderr",
     "output_type": "stream",
     "text": [
      "Epoch 129 Training: 100%|██████████| 176/176 [00:04<00:00, 35.38batch/s, loss=-16.6761, loss_avg=-16.5805, lr=0.000072, r2=0.8719]\n",
      "Epoch 129 Validating: 100%|██████████| 10/10 [00:01<00:00,  6.10batch/s, loss_avg=-16.7291, loss_val=-16.7392, mse=0.0042, r2=0.8782, relative_error=0.7137]\n"
     ]
    },
    {
     "name": "stdout",
     "output_type": "stream",
     "text": [
      "Save Best model: R2:0.8782, Loss Avg:-16.7291\n"
     ]
    },
    {
     "name": "stderr",
     "output_type": "stream",
     "text": [
      "Epoch 130 Training: 100%|██████████| 176/176 [00:04<00:00, 37.10batch/s, loss=-16.7288, loss_avg=-16.6926, lr=0.000072, r2=0.8766]\n",
      "Epoch 130 Validating: 100%|██████████| 10/10 [00:01<00:00,  6.22batch/s, loss_avg=-16.7070, loss_val=-16.7330, mse=0.0041, r2=0.8788, relative_error=0.6249]\n"
     ]
    },
    {
     "name": "stdout",
     "output_type": "stream",
     "text": [
      "Save Best model: R2:0.8788, Loss Avg:-16.7070\n"
     ]
    },
    {
     "name": "stderr",
     "output_type": "stream",
     "text": [
      "Epoch 131 Training: 100%|██████████| 176/176 [00:04<00:00, 36.65batch/s, loss=-16.5203, loss_avg=-16.7309, lr=0.000072, r2=0.8776]\n",
      "Epoch 131 Validating: 100%|██████████| 10/10 [00:01<00:00,  6.05batch/s, loss_avg=-16.7324, loss_val=-16.7662, mse=0.0041, r2=0.8787, relative_error=0.7713]\n"
     ]
    },
    {
     "name": "stdout",
     "output_type": "stream",
     "text": [
      " \n"
     ]
    },
    {
     "name": "stderr",
     "output_type": "stream",
     "text": [
      "Epoch 132 Training: 100%|██████████| 176/176 [00:05<00:00, 31.82batch/s, loss=-16.7995, loss_avg=-16.7436, lr=0.000072, r2=0.8815]\n",
      "Epoch 132 Validating: 100%|██████████| 10/10 [00:01<00:00,  5.83batch/s, loss_avg=-16.6958, loss_val=-16.7288, mse=0.0039, r2=0.8853, relative_error=0.7990]\n"
     ]
    },
    {
     "name": "stdout",
     "output_type": "stream",
     "text": [
      "Save Best model: R2:0.8853, Loss Avg:-16.6958\n"
     ]
    },
    {
     "name": "stderr",
     "output_type": "stream",
     "text": [
      "Epoch 133 Training: 100%|██████████| 176/176 [00:04<00:00, 35.74batch/s, loss=-16.5269, loss_avg=-16.6453, lr=0.000072, r2=0.8832]\n",
      "Epoch 133 Validating: 100%|██████████| 10/10 [00:01<00:00,  6.30batch/s, loss_avg=-16.6005, loss_val=-16.6194, mse=0.0040, r2=0.8854, relative_error=0.8187]\n"
     ]
    },
    {
     "name": "stdout",
     "output_type": "stream",
     "text": [
      "Save Best model: R2:0.8854, Loss Avg:-16.6005\n"
     ]
    },
    {
     "name": "stderr",
     "output_type": "stream",
     "text": [
      "Epoch 134 Training: 100%|██████████| 176/176 [00:04<00:00, 36.27batch/s, loss=-16.5784, loss_avg=-16.6177, lr=0.000072, r2=0.8829]\n",
      "Epoch 134 Validating: 100%|██████████| 10/10 [00:01<00:00,  6.01batch/s, loss_avg=-16.7191, loss_val=-16.7404, mse=0.0039, r2=0.8849, relative_error=0.7961]\n"
     ]
    },
    {
     "name": "stdout",
     "output_type": "stream",
     "text": [
      " \n"
     ]
    },
    {
     "name": "stderr",
     "output_type": "stream",
     "text": [
      "Epoch 135 Training: 100%|██████████| 176/176 [00:04<00:00, 37.26batch/s, loss=-16.6497, loss_avg=-16.6248, lr=0.000072, r2=0.8851]\n",
      "Epoch 135 Validating: 100%|██████████| 10/10 [00:01<00:00,  6.17batch/s, loss_avg=-16.7110, loss_val=-16.7415, mse=0.0038, r2=0.8884, relative_error=0.8242]\n"
     ]
    },
    {
     "name": "stdout",
     "output_type": "stream",
     "text": [
      "Save Best model: R2:0.8884, Loss Avg:-16.7110\n"
     ]
    },
    {
     "name": "stderr",
     "output_type": "stream",
     "text": [
      "Epoch 136 Training: 100%|██████████| 176/176 [00:04<00:00, 36.57batch/s, loss=-16.6805, loss_avg=-16.6488, lr=0.000072, r2=0.8871]\n",
      "Epoch 136 Validating: 100%|██████████| 10/10 [00:01<00:00,  6.23batch/s, loss_avg=-16.5554, loss_val=-16.5853, mse=0.0038, r2=0.8906, relative_error=0.7268]\n"
     ]
    },
    {
     "name": "stdout",
     "output_type": "stream",
     "text": [
      "Save Best model: R2:0.8906, Loss Avg:-16.5554\n"
     ]
    },
    {
     "name": "stderr",
     "output_type": "stream",
     "text": [
      "Epoch 137 Training: 100%|██████████| 176/176 [00:04<00:00, 36.42batch/s, loss=-16.6567, loss_avg=-16.6808, lr=0.000072, r2=0.8895]\n",
      "Epoch 137 Validating: 100%|██████████| 10/10 [00:01<00:00,  6.11batch/s, loss_avg=-16.7102, loss_val=-16.7409, mse=0.0037, r2=0.8909, relative_error=0.7889]\n"
     ]
    },
    {
     "name": "stdout",
     "output_type": "stream",
     "text": [
      "Save Best model: R2:0.8909, Loss Avg:-16.7102\n"
     ]
    },
    {
     "name": "stderr",
     "output_type": "stream",
     "text": [
      "Epoch 138 Training: 100%|██████████| 176/176 [00:04<00:00, 35.89batch/s, loss=-16.6835, loss_avg=-16.6842, lr=0.000072, r2=0.8908]\n",
      "Epoch 138 Validating: 100%|██████████| 10/10 [00:01<00:00,  5.94batch/s, loss_avg=-16.6830, loss_val=-16.7128, mse=0.0038, r2=0.8917, relative_error=0.8243]\n"
     ]
    },
    {
     "name": "stdout",
     "output_type": "stream",
     "text": [
      "Save Best model: R2:0.8917, Loss Avg:-16.6830\n"
     ]
    },
    {
     "name": "stderr",
     "output_type": "stream",
     "text": [
      "Epoch 139 Training: 100%|██████████| 176/176 [00:04<00:00, 35.67batch/s, loss=-16.5830, loss_avg=-16.7114, lr=0.000072, r2=0.8932]\n",
      "Epoch 139 Validating: 100%|██████████| 10/10 [00:01<00:00,  6.03batch/s, loss_avg=-16.7030, loss_val=-16.7439, mse=0.0035, r2=0.8977, relative_error=0.8259]\n"
     ]
    },
    {
     "name": "stdout",
     "output_type": "stream",
     "text": [
      "Save Best model: R2:0.8977, Loss Avg:-16.7030\n"
     ]
    },
    {
     "name": "stderr",
     "output_type": "stream",
     "text": [
      "Epoch 140 Training: 100%|██████████| 176/176 [00:05<00:00, 32.90batch/s, loss=-16.7600, loss_avg=-16.7351, lr=0.000072, r2=0.8944]\n",
      "Epoch 140 Validating: 100%|██████████| 10/10 [00:01<00:00,  6.00batch/s, loss_avg=-16.6815, loss_val=-16.7434, mse=0.0036, r2=0.8967, relative_error=0.7920]\n"
     ]
    },
    {
     "name": "stdout",
     "output_type": "stream",
     "text": [
      " \n"
     ]
    },
    {
     "name": "stderr",
     "output_type": "stream",
     "text": [
      "Epoch 141 Training: 100%|██████████| 176/176 [00:04<00:00, 36.65batch/s, loss=-16.8034, loss_avg=-16.7705, lr=0.000072, r2=0.8971]\n",
      "Epoch 141 Validating: 100%|██████████| 10/10 [00:01<00:00,  5.92batch/s, loss_avg=-16.7715, loss_val=-16.8012, mse=0.0035, r2=0.8979, relative_error=0.8149]\n"
     ]
    },
    {
     "name": "stdout",
     "output_type": "stream",
     "text": [
      "Save Best model: R2:0.8979, Loss Avg:-16.7715\n"
     ]
    },
    {
     "name": "stderr",
     "output_type": "stream",
     "text": [
      "Epoch 142 Training: 100%|██████████| 176/176 [00:04<00:00, 37.24batch/s, loss=-16.8012, loss_avg=-16.7768, lr=0.000072, r2=0.8987]\n",
      "Epoch 142 Validating: 100%|██████████| 10/10 [00:01<00:00,  6.30batch/s, loss_avg=-16.8615, loss_val=-16.8878, mse=0.0035, r2=0.8986, relative_error=0.8170]\n"
     ]
    },
    {
     "name": "stdout",
     "output_type": "stream",
     "text": [
      "Save Best model: R2:0.8986, Loss Avg:-16.8615\n"
     ]
    },
    {
     "name": "stderr",
     "output_type": "stream",
     "text": [
      "Epoch 143 Training: 100%|██████████| 176/176 [00:04<00:00, 36.43batch/s, loss=-16.5856, loss_avg=-16.7876, lr=0.000072, r2=0.9009]\n",
      "Epoch 143 Validating: 100%|██████████| 10/10 [00:01<00:00,  6.05batch/s, loss_avg=-16.8667, loss_val=-16.9019, mse=0.0034, r2=0.9021, relative_error=0.8171]\n"
     ]
    },
    {
     "name": "stdout",
     "output_type": "stream",
     "text": [
      "Save Best model: R2:0.9021, Loss Avg:-16.8667\n"
     ]
    },
    {
     "name": "stderr",
     "output_type": "stream",
     "text": [
      "Epoch 144 Training: 100%|██████████| 176/176 [00:04<00:00, 35.31batch/s, loss=-16.6771, loss_avg=-16.8004, lr=0.000072, r2=0.9022]\n",
      "Epoch 144 Validating: 100%|██████████| 10/10 [00:01<00:00,  6.32batch/s, loss_avg=-16.8426, loss_val=-16.8874, mse=0.0033, r2=0.9044, relative_error=0.8211]\n"
     ]
    },
    {
     "name": "stdout",
     "output_type": "stream",
     "text": [
      "Save Best model: R2:0.9044, Loss Avg:-16.8426\n"
     ]
    },
    {
     "name": "stderr",
     "output_type": "stream",
     "text": [
      "Epoch 145 Training: 100%|██████████| 176/176 [00:04<00:00, 37.02batch/s, loss=-16.8791, loss_avg=-16.8526, lr=0.000072, r2=0.9049]\n",
      "Epoch 145 Validating: 100%|██████████| 10/10 [00:01<00:00,  6.04batch/s, loss_avg=-16.8742, loss_val=-16.9036, mse=0.0031, r2=0.9083, relative_error=0.8213]\n"
     ]
    },
    {
     "name": "stdout",
     "output_type": "stream",
     "text": [
      "Save Best model: R2:0.9083, Loss Avg:-16.8742\n"
     ]
    },
    {
     "name": "stderr",
     "output_type": "stream",
     "text": [
      "Epoch 146 Training: 100%|██████████| 176/176 [00:04<00:00, 36.23batch/s, loss=-16.6006, loss_avg=-16.8467, lr=0.000072, r2=0.9066]\n",
      "Epoch 146 Validating: 100%|██████████| 10/10 [00:01<00:00,  6.08batch/s, loss_avg=-16.9209, loss_val=-16.9592, mse=0.0032, r2=0.9065, relative_error=0.7955]\n"
     ]
    },
    {
     "name": "stdout",
     "output_type": "stream",
     "text": [
      " \n"
     ]
    },
    {
     "name": "stderr",
     "output_type": "stream",
     "text": [
      "Epoch 147 Training: 100%|██████████| 176/176 [00:04<00:00, 35.80batch/s, loss=-16.5269, loss_avg=-16.8618, lr=0.000072, r2=0.9082]\n",
      "Epoch 147 Validating: 100%|██████████| 10/10 [00:01<00:00,  5.96batch/s, loss_avg=-16.7312, loss_val=-16.8165, mse=0.0030, r2=0.9126, relative_error=0.6602]\n"
     ]
    },
    {
     "name": "stdout",
     "output_type": "stream",
     "text": [
      "Save Best model: R2:0.9126, Loss Avg:-16.7312\n"
     ]
    },
    {
     "name": "stderr",
     "output_type": "stream",
     "text": [
      "Epoch 148 Training: 100%|██████████| 176/176 [00:04<00:00, 36.90batch/s, loss=-16.8599, loss_avg=-16.9067, lr=0.000072, r2=0.9087]\n",
      "Epoch 148 Validating: 100%|██████████| 10/10 [00:01<00:00,  6.12batch/s, loss_avg=-16.9924, loss_val=-17.0242, mse=0.0031, r2=0.9100, relative_error=0.8251]\n"
     ]
    },
    {
     "name": "stdout",
     "output_type": "stream",
     "text": [
      " \n"
     ]
    },
    {
     "name": "stderr",
     "output_type": "stream",
     "text": [
      "Epoch 149 Training: 100%|██████████| 176/176 [00:04<00:00, 35.77batch/s, loss=-16.7075, loss_avg=-16.9085, lr=0.000072, r2=0.9115]\n",
      "Epoch 149 Validating: 100%|██████████| 10/10 [00:01<00:00,  5.93batch/s, loss_avg=-16.9689, loss_val=-17.0060, mse=0.0030, r2=0.9131, relative_error=0.8573]\n"
     ]
    },
    {
     "name": "stdout",
     "output_type": "stream",
     "text": [
      "Save Best model: R2:0.9131, Loss Avg:-16.9689\n"
     ]
    },
    {
     "name": "stderr",
     "output_type": "stream",
     "text": [
      "Epoch 150 Training: 100%|██████████| 176/176 [00:04<00:00, 35.82batch/s, loss=-16.9492, loss_avg=-16.9458, lr=0.000072, r2=0.9133]\n",
      "Epoch 150 Validating: 100%|██████████| 10/10 [00:01<00:00,  6.11batch/s, loss_avg=-16.9255, loss_val=-16.9832, mse=0.0029, r2=0.9163, relative_error=0.8690]\n"
     ]
    },
    {
     "name": "stdout",
     "output_type": "stream",
     "text": [
      "Save Best model: R2:0.9163, Loss Avg:-16.9255\n"
     ]
    },
    {
     "name": "stderr",
     "output_type": "stream",
     "text": [
      "Epoch 151 Training: 100%|██████████| 176/176 [00:04<00:00, 36.91batch/s, loss=-16.7412, loss_avg=-16.9648, lr=0.000072, r2=0.9143]\n",
      "Epoch 151 Validating: 100%|██████████| 10/10 [00:01<00:00,  5.51batch/s, loss_avg=-17.0779, loss_val=-17.1159, mse=0.0028, r2=0.9180, relative_error=0.8265]\n"
     ]
    },
    {
     "name": "stdout",
     "output_type": "stream",
     "text": [
      "Save Best model: R2:0.9180, Loss Avg:-17.0779\n"
     ]
    },
    {
     "name": "stderr",
     "output_type": "stream",
     "text": [
      "Epoch 152 Training: 100%|██████████| 176/176 [00:04<00:00, 36.02batch/s, loss=-16.9437, loss_avg=-16.9897, lr=0.000072, r2=0.9167]\n",
      "Epoch 152 Validating: 100%|██████████| 10/10 [00:01<00:00,  5.96batch/s, loss_avg=-17.0594, loss_val=-17.0885, mse=0.0028, r2=0.9195, relative_error=0.8601]\n"
     ]
    },
    {
     "name": "stdout",
     "output_type": "stream",
     "text": [
      "Save Best model: R2:0.9195, Loss Avg:-17.0594\n"
     ]
    },
    {
     "name": "stderr",
     "output_type": "stream",
     "text": [
      "Epoch 153 Training: 100%|██████████| 176/176 [00:04<00:00, 36.05batch/s, loss=-17.0382, loss_avg=-17.0108, lr=0.000072, r2=0.9186]\n",
      "Epoch 153 Validating: 100%|██████████| 10/10 [00:01<00:00,  6.08batch/s, loss_avg=-17.1016, loss_val=-17.1339, mse=0.0027, r2=0.9208, relative_error=0.8270]\n"
     ]
    },
    {
     "name": "stdout",
     "output_type": "stream",
     "text": [
      "Save Best model: R2:0.9208, Loss Avg:-17.1016\n"
     ]
    },
    {
     "name": "stderr",
     "output_type": "stream",
     "text": [
      "Epoch 154 Training: 100%|██████████| 176/176 [00:04<00:00, 36.46batch/s, loss=-17.0471, loss_avg=-17.0104, lr=0.000072, r2=0.9204]\n",
      "Epoch 154 Validating: 100%|██████████| 10/10 [00:01<00:00,  5.88batch/s, loss_avg=-17.1265, loss_val=-17.1483, mse=0.0027, r2=0.9237, relative_error=0.8410]\n"
     ]
    },
    {
     "name": "stdout",
     "output_type": "stream",
     "text": [
      "Save Best model: R2:0.9237, Loss Avg:-17.1265\n"
     ]
    },
    {
     "name": "stderr",
     "output_type": "stream",
     "text": [
      "Epoch 155 Training: 100%|██████████| 176/176 [00:04<00:00, 38.15batch/s, loss=-17.0573, loss_avg=-17.0413, lr=0.000072, r2=0.9219]\n",
      "Epoch 155 Validating: 100%|██████████| 10/10 [00:01<00:00,  6.08batch/s, loss_avg=-17.0417, loss_val=-17.0681, mse=0.0026, r2=0.9254, relative_error=0.7388]\n"
     ]
    },
    {
     "name": "stdout",
     "output_type": "stream",
     "text": [
      "Save Best model: R2:0.9254, Loss Avg:-17.0417\n"
     ]
    },
    {
     "name": "stderr",
     "output_type": "stream",
     "text": [
      "Epoch 156 Training: 100%|██████████| 176/176 [00:04<00:00, 36.83batch/s, loss=-17.0986, loss_avg=-17.0595, lr=0.000072, r2=0.9237]\n",
      "Epoch 156 Validating: 100%|██████████| 10/10 [00:01<00:00,  6.04batch/s, loss_avg=-17.1668, loss_val=-17.1945, mse=0.0025, r2=0.9274, relative_error=0.8686]\n"
     ]
    },
    {
     "name": "stdout",
     "output_type": "stream",
     "text": [
      "Save Best model: R2:0.9274, Loss Avg:-17.1668\n"
     ]
    },
    {
     "name": "stderr",
     "output_type": "stream",
     "text": [
      "Epoch 157 Training: 100%|██████████| 176/176 [00:05<00:00, 32.98batch/s, loss=-16.9897, loss_avg=-17.0871, lr=0.000072, r2=0.9250]\n",
      "Epoch 157 Validating: 100%|██████████| 10/10 [00:01<00:00,  6.29batch/s, loss_avg=-17.1403, loss_val=-17.1658, mse=0.0025, r2=0.9265, relative_error=0.8637]\n"
     ]
    },
    {
     "name": "stdout",
     "output_type": "stream",
     "text": [
      " \n"
     ]
    },
    {
     "name": "stderr",
     "output_type": "stream",
     "text": [
      "Epoch 158 Training: 100%|██████████| 176/176 [00:04<00:00, 36.05batch/s, loss=-17.1253, loss_avg=-17.0932, lr=0.000072, r2=0.9267]\n",
      "Epoch 158 Validating: 100%|██████████| 10/10 [00:01<00:00,  5.97batch/s, loss_avg=-17.1791, loss_val=-17.2001, mse=0.0025, r2=0.9284, relative_error=0.8715]\n"
     ]
    },
    {
     "name": "stdout",
     "output_type": "stream",
     "text": [
      "Save Best model: R2:0.9284, Loss Avg:-17.1791\n"
     ]
    },
    {
     "name": "stderr",
     "output_type": "stream",
     "text": [
      "Epoch 159 Training: 100%|██████████| 176/176 [00:04<00:00, 37.19batch/s, loss=-17.1475, loss_avg=-17.1095, lr=0.000072, r2=0.9279]\n",
      "Epoch 159 Validating: 100%|██████████| 10/10 [00:01<00:00,  5.98batch/s, loss_avg=-17.1680, loss_val=-17.2076, mse=0.0024, r2=0.9326, relative_error=0.8775]\n"
     ]
    },
    {
     "name": "stdout",
     "output_type": "stream",
     "text": [
      "Save Best model: R2:0.9326, Loss Avg:-17.1680\n"
     ]
    },
    {
     "name": "stderr",
     "output_type": "stream",
     "text": [
      "Epoch 160 Training: 100%|██████████| 176/176 [00:04<00:00, 36.62batch/s, loss=-17.0903, loss_avg=-17.1455, lr=0.000072, r2=0.9292]\n",
      "Epoch 160 Validating: 100%|██████████| 10/10 [00:01<00:00,  6.20batch/s, loss_avg=-17.1719, loss_val=-17.1890, mse=0.0023, r2=0.9333, relative_error=0.8994]\n"
     ]
    },
    {
     "name": "stdout",
     "output_type": "stream",
     "text": [
      "Save Best model: R2:0.9333, Loss Avg:-17.1719\n"
     ]
    },
    {
     "name": "stderr",
     "output_type": "stream",
     "text": [
      "Epoch 161 Training: 100%|██████████| 176/176 [00:05<00:00, 33.74batch/s, loss=-17.0334, loss_avg=-17.1159, lr=0.000072, r2=0.9305]\n",
      "Epoch 161 Validating: 100%|██████████| 10/10 [00:01<00:00,  6.03batch/s, loss_avg=-17.1731, loss_val=-17.2060, mse=0.0023, r2=0.9341, relative_error=0.9292]\n"
     ]
    },
    {
     "name": "stdout",
     "output_type": "stream",
     "text": [
      "Save Best model: R2:0.9341, Loss Avg:-17.1731\n"
     ]
    },
    {
     "name": "stderr",
     "output_type": "stream",
     "text": [
      "Epoch 162 Training: 100%|██████████| 176/176 [00:04<00:00, 36.85batch/s, loss=-17.1824, loss_avg=-17.1863, lr=0.000072, r2=0.9319]\n",
      "Epoch 162 Validating: 100%|██████████| 10/10 [00:01<00:00,  5.85batch/s, loss_avg=-17.2784, loss_val=-17.2935, mse=0.0022, r2=0.9343, relative_error=0.4590]\n"
     ]
    },
    {
     "name": "stdout",
     "output_type": "stream",
     "text": [
      "Save Best model: R2:0.9343, Loss Avg:-17.2784\n"
     ]
    },
    {
     "name": "stderr",
     "output_type": "stream",
     "text": [
      "Epoch 163 Training: 100%|██████████| 176/176 [00:04<00:00, 36.45batch/s, loss=-17.2298, loss_avg=-17.2037, lr=0.000072, r2=0.9332]\n",
      "Epoch 163 Validating: 100%|██████████| 10/10 [00:01<00:00,  6.00batch/s, loss_avg=-17.2972, loss_val=-17.3166, mse=0.0022, r2=0.9351, relative_error=0.9296]\n"
     ]
    },
    {
     "name": "stdout",
     "output_type": "stream",
     "text": [
      "Save Best model: R2:0.9351, Loss Avg:-17.2972\n"
     ]
    },
    {
     "name": "stderr",
     "output_type": "stream",
     "text": [
      "Epoch 164 Training: 100%|██████████| 176/176 [00:04<00:00, 37.09batch/s, loss=-17.1308, loss_avg=-17.2199, lr=0.000072, r2=0.9347]\n",
      "Epoch 164 Validating: 100%|██████████| 10/10 [00:01<00:00,  6.06batch/s, loss_avg=-17.2702, loss_val=-17.2981, mse=0.0021, r2=0.9392, relative_error=0.8516]\n"
     ]
    },
    {
     "name": "stdout",
     "output_type": "stream",
     "text": [
      "Save Best model: R2:0.9392, Loss Avg:-17.2702\n"
     ]
    },
    {
     "name": "stderr",
     "output_type": "stream",
     "text": [
      "Epoch 165 Training: 100%|██████████| 176/176 [00:05<00:00, 34.74batch/s, loss=-17.0803, loss_avg=-17.2437, lr=0.000072, r2=0.9357]\n",
      "Epoch 165 Validating: 100%|██████████| 10/10 [00:01<00:00,  6.04batch/s, loss_avg=-17.3454, loss_val=-17.3675, mse=0.0022, r2=0.9372, relative_error=0.9617]\n"
     ]
    },
    {
     "name": "stdout",
     "output_type": "stream",
     "text": [
      " \n"
     ]
    },
    {
     "name": "stderr",
     "output_type": "stream",
     "text": [
      "Epoch 166 Training: 100%|██████████| 176/176 [00:04<00:00, 36.46batch/s, loss=-17.2494, loss_avg=-17.2580, lr=0.000072, r2=0.9369]\n",
      "Epoch 166 Validating: 100%|██████████| 10/10 [00:01<00:00,  6.34batch/s, loss_avg=-17.3286, loss_val=-17.3472, mse=0.0020, r2=0.9415, relative_error=0.8798]\n"
     ]
    },
    {
     "name": "stdout",
     "output_type": "stream",
     "text": [
      "Save Best model: R2:0.9415, Loss Avg:-17.3286\n"
     ]
    },
    {
     "name": "stderr",
     "output_type": "stream",
     "text": [
      "Epoch 167 Training: 100%|██████████| 176/176 [00:04<00:00, 36.08batch/s, loss=-17.2775, loss_avg=-17.2818, lr=0.000072, r2=0.9388]\n",
      "Epoch 167 Validating: 100%|██████████| 10/10 [00:01<00:00,  6.27batch/s, loss_avg=-17.3580, loss_val=-17.3834, mse=0.0021, r2=0.9387, relative_error=0.8706]\n"
     ]
    },
    {
     "name": "stdout",
     "output_type": "stream",
     "text": [
      " \n"
     ]
    },
    {
     "name": "stderr",
     "output_type": "stream",
     "text": [
      "Epoch 168 Training: 100%|██████████| 176/176 [00:05<00:00, 29.40batch/s, loss=-17.2472, loss_avg=-17.2643, lr=0.000072, r2=0.9391]\n",
      "Epoch 168 Validating: 100%|██████████| 10/10 [00:01<00:00,  6.10batch/s, loss_avg=-17.2687, loss_val=-17.3039, mse=0.0020, r2=0.9440, relative_error=0.9811]\n"
     ]
    },
    {
     "name": "stdout",
     "output_type": "stream",
     "text": [
      "Save Best model: R2:0.9440, Loss Avg:-17.2687\n"
     ]
    },
    {
     "name": "stderr",
     "output_type": "stream",
     "text": [
      "Epoch 169 Training: 100%|██████████| 176/176 [00:04<00:00, 36.11batch/s, loss=-17.2933, loss_avg=-17.3283, lr=0.000072, r2=0.9407]\n",
      "Epoch 169 Validating: 100%|██████████| 10/10 [00:01<00:00,  6.19batch/s, loss_avg=-17.4030, loss_val=-17.4225, mse=0.0021, r2=0.9419, relative_error=0.8813]\n"
     ]
    },
    {
     "name": "stdout",
     "output_type": "stream",
     "text": [
      " \n"
     ]
    },
    {
     "name": "stderr",
     "output_type": "stream",
     "text": [
      "Epoch 170 Training: 100%|██████████| 176/176 [00:04<00:00, 38.07batch/s, loss=-17.3594, loss_avg=-17.3308, lr=0.000072, r2=0.9419]\n",
      "Epoch 170 Validating: 100%|██████████| 10/10 [00:01<00:00,  6.22batch/s, loss_avg=-17.3644, loss_val=-17.3908, mse=0.0020, r2=0.9420, relative_error=0.9028]\n"
     ]
    },
    {
     "name": "stdout",
     "output_type": "stream",
     "text": [
      " \n"
     ]
    },
    {
     "name": "stderr",
     "output_type": "stream",
     "text": [
      "Epoch 171 Training: 100%|██████████| 176/176 [00:04<00:00, 35.80batch/s, loss=-17.3623, loss_avg=-17.3188, lr=0.000072, r2=0.9432]\n",
      "Epoch 171 Validating: 100%|██████████| 10/10 [00:01<00:00,  5.72batch/s, loss_avg=-17.3097, loss_val=-17.3521, mse=0.0019, r2=0.9468, relative_error=0.9717]\n"
     ]
    },
    {
     "name": "stdout",
     "output_type": "stream",
     "text": [
      "Save Best model: R2:0.9468, Loss Avg:-17.3097\n"
     ]
    },
    {
     "name": "stderr",
     "output_type": "stream",
     "text": [
      "Epoch 172 Training: 100%|██████████| 176/176 [00:04<00:00, 36.49batch/s, loss=-17.2929, loss_avg=-17.3692, lr=0.000072, r2=0.9439]\n",
      "Epoch 172 Validating: 100%|██████████| 10/10 [00:01<00:00,  6.05batch/s, loss_avg=-17.4210, loss_val=-17.4480, mse=0.0019, r2=0.9450, relative_error=0.9624]\n"
     ]
    },
    {
     "name": "stdout",
     "output_type": "stream",
     "text": [
      " \n"
     ]
    },
    {
     "name": "stderr",
     "output_type": "stream",
     "text": [
      "Epoch 173 Training: 100%|██████████| 176/176 [00:04<00:00, 36.06batch/s, loss=-17.3729, loss_avg=-17.3890, lr=0.000072, r2=0.9451]\n",
      "Epoch 173 Validating: 100%|██████████| 10/10 [00:01<00:00,  5.93batch/s, loss_avg=-17.4794, loss_val=-17.4957, mse=0.0018, r2=0.9472, relative_error=0.9084]\n"
     ]
    },
    {
     "name": "stdout",
     "output_type": "stream",
     "text": [
      "Save Best model: R2:0.9472, Loss Avg:-17.4794\n"
     ]
    },
    {
     "name": "stderr",
     "output_type": "stream",
     "text": [
      "Epoch 174 Training: 100%|██████████| 176/176 [00:04<00:00, 37.10batch/s, loss=-17.4245, loss_avg=-17.3796, lr=0.000072, r2=0.9459]\n",
      "Epoch 174 Validating: 100%|██████████| 10/10 [00:01<00:00,  6.17batch/s, loss_avg=-17.3327, loss_val=-17.3702, mse=0.0019, r2=0.9467, relative_error=0.9261]\n"
     ]
    },
    {
     "name": "stdout",
     "output_type": "stream",
     "text": [
      " \n"
     ]
    },
    {
     "name": "stderr",
     "output_type": "stream",
     "text": [
      "Epoch 175 Training: 100%|██████████| 176/176 [00:04<00:00, 36.30batch/s, loss=-17.2504, loss_avg=-17.4019, lr=0.000072, r2=0.9465]\n",
      "Epoch 175 Validating: 100%|██████████| 10/10 [00:01<00:00,  6.02batch/s, loss_avg=-17.1804, loss_val=-17.2169, mse=0.0019, r2=0.9476, relative_error=0.9568]\n"
     ]
    },
    {
     "name": "stdout",
     "output_type": "stream",
     "text": [
      "Save Best model: R2:0.9476, Loss Avg:-17.1804\n"
     ]
    },
    {
     "name": "stderr",
     "output_type": "stream",
     "text": [
      "Epoch 176 Training: 100%|██████████| 176/176 [00:04<00:00, 36.11batch/s, loss=-17.2897, loss_avg=-17.4377, lr=0.000072, r2=0.9473]\n",
      "Epoch 176 Validating: 100%|██████████| 10/10 [00:01<00:00,  6.05batch/s, loss_avg=-17.4122, loss_val=-17.4294, mse=0.0018, r2=0.9485, relative_error=1.0021]\n"
     ]
    },
    {
     "name": "stdout",
     "output_type": "stream",
     "text": [
      "Save Best model: R2:0.9485, Loss Avg:-17.4122\n"
     ]
    },
    {
     "name": "stderr",
     "output_type": "stream",
     "text": [
      "Epoch 177 Training: 100%|██████████| 176/176 [00:04<00:00, 35.97batch/s, loss=-17.1448, loss_avg=-17.4536, lr=0.000072, r2=0.9481]\n",
      "Epoch 177 Validating: 100%|██████████| 10/10 [00:01<00:00,  6.15batch/s, loss_avg=-17.0207, loss_val=-17.0763, mse=0.0018, r2=0.9478, relative_error=0.9066]\n"
     ]
    },
    {
     "name": "stdout",
     "output_type": "stream",
     "text": [
      " \n"
     ]
    },
    {
     "name": "stderr",
     "output_type": "stream",
     "text": [
      "Epoch 178 Training: 100%|██████████| 176/176 [00:04<00:00, 36.91batch/s, loss=-17.3599, loss_avg=-17.4688, lr=0.000072, r2=0.9488]\n",
      "Epoch 178 Validating: 100%|██████████| 10/10 [00:01<00:00,  6.22batch/s, loss_avg=-17.3748, loss_val=-17.3994, mse=0.0018, r2=0.9495, relative_error=0.9928]\n"
     ]
    },
    {
     "name": "stdout",
     "output_type": "stream",
     "text": [
      "Save Best model: R2:0.9495, Loss Avg:-17.3748\n"
     ]
    },
    {
     "name": "stderr",
     "output_type": "stream",
     "text": [
      "Epoch 179 Training: 100%|██████████| 176/176 [00:05<00:00, 32.07batch/s, loss=-17.2396, loss_avg=-17.4787, lr=0.000072, r2=0.9496]\n",
      "Epoch 179 Validating: 100%|██████████| 10/10 [00:01<00:00,  6.19batch/s, loss_avg=-17.5662, loss_val=-17.5896, mse=0.0018, r2=0.9489, relative_error=0.8911]\n"
     ]
    },
    {
     "name": "stdout",
     "output_type": "stream",
     "text": [
      " \n"
     ]
    },
    {
     "name": "stderr",
     "output_type": "stream",
     "text": [
      "Epoch 180 Training: 100%|██████████| 176/176 [00:05<00:00, 33.38batch/s, loss=-17.5308, loss_avg=-17.4962, lr=0.000072, r2=0.9507]\n",
      "Epoch 180 Validating: 100%|██████████| 10/10 [00:01<00:00,  5.72batch/s, loss_avg=-17.5688, loss_val=-17.5972, mse=0.0017, r2=0.9525, relative_error=0.8749]\n"
     ]
    },
    {
     "name": "stdout",
     "output_type": "stream",
     "text": [
      "Save Best model: R2:0.9525, Loss Avg:-17.5688\n"
     ]
    },
    {
     "name": "stderr",
     "output_type": "stream",
     "text": [
      "Epoch 181 Training: 100%|██████████| 176/176 [00:04<00:00, 35.53batch/s, loss=-17.4562, loss_avg=-17.5065, lr=0.000072, r2=0.9510]\n",
      "Epoch 181 Validating: 100%|██████████| 10/10 [00:01<00:00,  5.82batch/s, loss_avg=-17.3822, loss_val=-17.4228, mse=0.0017, r2=0.9506, relative_error=0.8992]\n"
     ]
    },
    {
     "name": "stdout",
     "output_type": "stream",
     "text": [
      " \n"
     ]
    },
    {
     "name": "stderr",
     "output_type": "stream",
     "text": [
      "Epoch 182 Training: 100%|██████████| 176/176 [00:04<00:00, 35.66batch/s, loss=-17.5393, loss_avg=-17.5355, lr=0.000072, r2=0.9520]\n",
      "Epoch 182 Validating: 100%|██████████| 10/10 [00:01<00:00,  6.18batch/s, loss_avg=-17.5788, loss_val=-17.6053, mse=0.0016, r2=0.9539, relative_error=0.9789]\n"
     ]
    },
    {
     "name": "stdout",
     "output_type": "stream",
     "text": [
      "Save Best model: R2:0.9539, Loss Avg:-17.5788\n"
     ]
    },
    {
     "name": "stderr",
     "output_type": "stream",
     "text": [
      "Epoch 183 Training: 100%|██████████| 176/176 [00:05<00:00, 31.82batch/s, loss=-17.1711, loss_avg=-17.5496, lr=0.000072, r2=0.9525]\n",
      "Epoch 183 Validating: 100%|██████████| 10/10 [00:01<00:00,  5.86batch/s, loss_avg=-17.1411, loss_val=-17.2033, mse=0.0016, r2=0.9557, relative_error=0.8352]\n"
     ]
    },
    {
     "name": "stdout",
     "output_type": "stream",
     "text": [
      "Save Best model: R2:0.9557, Loss Avg:-17.1411\n"
     ]
    },
    {
     "name": "stderr",
     "output_type": "stream",
     "text": [
      "Epoch 184 Training: 100%|██████████| 176/176 [00:05<00:00, 32.32batch/s, loss=-17.4715, loss_avg=-17.5492, lr=0.000072, r2=0.9529]\n",
      "Epoch 184 Validating: 100%|██████████| 10/10 [00:01<00:00,  5.52batch/s, loss_avg=-17.5555, loss_val=-17.5881, mse=0.0016, r2=0.9545, relative_error=0.9731]\n"
     ]
    },
    {
     "name": "stdout",
     "output_type": "stream",
     "text": [
      " \n"
     ]
    },
    {
     "name": "stderr",
     "output_type": "stream",
     "text": [
      "Epoch 185 Training: 100%|██████████| 176/176 [00:05<00:00, 31.48batch/s, loss=-17.5323, loss_avg=-17.5716, lr=0.000072, r2=0.9539]\n",
      "Epoch 185 Validating: 100%|██████████| 10/10 [00:01<00:00,  6.04batch/s, loss_avg=-17.5663, loss_val=-17.6093, mse=0.0016, r2=0.9554, relative_error=0.9563]\n"
     ]
    },
    {
     "name": "stdout",
     "output_type": "stream",
     "text": [
      " \n"
     ]
    },
    {
     "name": "stderr",
     "output_type": "stream",
     "text": [
      "Epoch 186 Training: 100%|██████████| 176/176 [00:06<00:00, 29.16batch/s, loss=-17.5437, loss_avg=-17.5755, lr=0.000072, r2=0.9543]\n",
      "Epoch 186 Validating: 100%|██████████| 10/10 [00:01<00:00,  6.13batch/s, loss_avg=-17.5105, loss_val=-17.5636, mse=0.0015, r2=0.9565, relative_error=0.9851]\n"
     ]
    },
    {
     "name": "stdout",
     "output_type": "stream",
     "text": [
      "Save Best model: R2:0.9565, Loss Avg:-17.5105\n"
     ]
    },
    {
     "name": "stderr",
     "output_type": "stream",
     "text": [
      "Epoch 187 Training: 100%|██████████| 176/176 [00:06<00:00, 28.00batch/s, loss=-17.6105, loss_avg=-17.6083, lr=0.000072, r2=0.9549]\n",
      "Epoch 187 Validating: 100%|██████████| 10/10 [00:01<00:00,  6.49batch/s, loss_avg=-17.6625, loss_val=-17.6937, mse=0.0015, r2=0.9563, relative_error=0.9719]\n"
     ]
    },
    {
     "name": "stdout",
     "output_type": "stream",
     "text": [
      " \n"
     ]
    },
    {
     "name": "stderr",
     "output_type": "stream",
     "text": [
      "Epoch 188 Training: 100%|██████████| 176/176 [00:03<00:00, 54.91batch/s, loss=-17.1176, loss_avg=-17.5845, lr=0.000072, r2=0.9555] \n",
      "Epoch 188 Validating: 100%|██████████| 10/10 [00:01<00:00,  6.74batch/s, loss_avg=-17.4029, loss_val=-17.4553, mse=0.0015, r2=0.9578, relative_error=0.8435]\n"
     ]
    },
    {
     "name": "stdout",
     "output_type": "stream",
     "text": [
      "Save Best model: R2:0.9578, Loss Avg:-17.4029\n"
     ]
    },
    {
     "name": "stderr",
     "output_type": "stream",
     "text": [
      "Epoch 189 Training: 100%|██████████| 176/176 [00:03<00:00, 53.66batch/s, loss=-17.4781, loss_avg=-17.6232, lr=0.000072, r2=0.9558] \n",
      "Epoch 189 Validating: 100%|██████████| 10/10 [00:01<00:00,  6.67batch/s, loss_avg=-17.3705, loss_val=-17.4377, mse=0.0015, r2=0.9569, relative_error=0.8898]\n"
     ]
    },
    {
     "name": "stdout",
     "output_type": "stream",
     "text": [
      " \n"
     ]
    },
    {
     "name": "stderr",
     "output_type": "stream",
     "text": [
      "Epoch 190 Training: 100%|██████████| 176/176 [00:03<00:00, 52.43batch/s, loss=-17.0965, loss_avg=-17.6308, lr=0.000072, r2=0.9562] \n",
      "Epoch 190 Validating: 100%|██████████| 10/10 [00:01<00:00,  5.49batch/s, loss_avg=-17.2866, loss_val=-17.3556, mse=0.0015, r2=0.9579, relative_error=0.8373]\n"
     ]
    },
    {
     "name": "stdout",
     "output_type": "stream",
     "text": [
      "Save Best model: R2:0.9579, Loss Avg:-17.2866\n"
     ]
    },
    {
     "name": "stderr",
     "output_type": "stream",
     "text": [
      "Epoch 191 Training: 100%|██████████| 176/176 [00:03<00:00, 49.48batch/s, loss=-17.6174, loss_avg=-17.6535, lr=0.000072, r2=0.9567]\n",
      "Epoch 191 Validating: 100%|██████████| 10/10 [00:01<00:00,  6.24batch/s, loss_avg=-17.7389, loss_val=-17.7760, mse=0.0015, r2=0.9579, relative_error=1.0196]\n"
     ]
    },
    {
     "name": "stdout",
     "output_type": "stream",
     "text": [
      "Save Best model: R2:0.9579, Loss Avg:-17.7389\n"
     ]
    },
    {
     "name": "stderr",
     "output_type": "stream",
     "text": [
      "Epoch 192 Training: 100%|██████████| 176/176 [00:03<00:00, 49.10batch/s, loss=-17.6323, loss_avg=-17.6658, lr=0.000072, r2=0.9574] \n",
      "Epoch 192 Validating: 100%|██████████| 10/10 [00:01<00:00,  5.89batch/s, loss_avg=-17.7491, loss_val=-17.7932, mse=0.0014, r2=0.9587, relative_error=0.9790]\n"
     ]
    },
    {
     "name": "stdout",
     "output_type": "stream",
     "text": [
      "Save Best model: R2:0.9587, Loss Avg:-17.7491\n"
     ]
    },
    {
     "name": "stderr",
     "output_type": "stream",
     "text": [
      "Epoch 193 Training: 100%|██████████| 176/176 [00:03<00:00, 53.94batch/s, loss=-17.2368, loss_avg=-17.6908, lr=0.000072, r2=0.9579] \n",
      "Epoch 193 Validating: 100%|██████████| 10/10 [00:01<00:00,  6.64batch/s, loss_avg=-17.5653, loss_val=-17.6241, mse=0.0014, r2=0.9594, relative_error=0.9680]\n"
     ]
    },
    {
     "name": "stdout",
     "output_type": "stream",
     "text": [
      "Save Best model: R2:0.9594, Loss Avg:-17.5653\n"
     ]
    },
    {
     "name": "stderr",
     "output_type": "stream",
     "text": [
      "Epoch 194 Training: 100%|██████████| 176/176 [00:03<00:00, 56.78batch/s, loss=-17.5026, loss_avg=-17.6817, lr=0.000072, r2=0.9582] \n",
      "Epoch 194 Validating: 100%|██████████| 10/10 [00:01<00:00,  6.62batch/s, loss_avg=-17.5657, loss_val=-17.6214, mse=0.0014, r2=0.9597, relative_error=0.9732]\n"
     ]
    },
    {
     "name": "stdout",
     "output_type": "stream",
     "text": [
      "Save Best model: R2:0.9597, Loss Avg:-17.5657\n"
     ]
    },
    {
     "name": "stderr",
     "output_type": "stream",
     "text": [
      "Epoch 195 Training: 100%|██████████| 176/176 [00:03<00:00, 52.92batch/s, loss=-17.4953, loss_avg=-17.7026, lr=0.000072, r2=0.9588] \n",
      "Epoch 195 Validating: 100%|██████████| 10/10 [00:01<00:00,  6.43batch/s, loss_avg=-17.4339, loss_val=-17.5087, mse=0.0014, r2=0.9606, relative_error=0.8907]\n"
     ]
    },
    {
     "name": "stdout",
     "output_type": "stream",
     "text": [
      "Save Best model: R2:0.9606, Loss Avg:-17.4339\n"
     ]
    },
    {
     "name": "stderr",
     "output_type": "stream",
     "text": [
      "Epoch 196 Training: 100%|██████████| 176/176 [00:03<00:00, 55.71batch/s, loss=-17.4006, loss_avg=-17.7158, lr=0.000072, r2=0.9592] \n",
      "Epoch 196 Validating: 100%|██████████| 10/10 [00:01<00:00,  6.90batch/s, loss_avg=-17.7881, loss_val=-17.8407, mse=0.0014, r2=0.9608, relative_error=0.8003]\n"
     ]
    },
    {
     "name": "stdout",
     "output_type": "stream",
     "text": [
      "Save Best model: R2:0.9608, Loss Avg:-17.7881\n"
     ]
    },
    {
     "name": "stderr",
     "output_type": "stream",
     "text": [
      "Epoch 197 Training: 100%|██████████| 176/176 [00:03<00:00, 56.05batch/s, loss=-16.9102, loss_avg=-17.7313, lr=0.000072, r2=0.9594] \n",
      "Epoch 197 Validating: 100%|██████████| 10/10 [00:01<00:00,  6.76batch/s, loss_avg=-17.1741, loss_val=-17.2927, mse=0.0014, r2=0.9593, relative_error=0.9784]\n"
     ]
    },
    {
     "name": "stdout",
     "output_type": "stream",
     "text": [
      " \n"
     ]
    },
    {
     "name": "stderr",
     "output_type": "stream",
     "text": [
      "Epoch 198 Training: 100%|██████████| 176/176 [00:03<00:00, 51.11batch/s, loss=-17.7093, loss_avg=-17.7132, lr=0.000072, r2=0.9601] \n",
      "Epoch 198 Validating: 100%|██████████| 10/10 [00:01<00:00,  5.06batch/s, loss_avg=-17.7836, loss_val=-17.8397, mse=0.0014, r2=0.9604, relative_error=0.8417]\n"
     ]
    },
    {
     "name": "stdout",
     "output_type": "stream",
     "text": [
      " \n"
     ]
    },
    {
     "name": "stderr",
     "output_type": "stream",
     "text": [
      "Epoch 199 Training: 100%|██████████| 176/176 [00:03<00:00, 46.19batch/s, loss=-17.3337, loss_avg=-17.7460, lr=0.000072, r2=0.9604]\n",
      "Epoch 199 Validating: 100%|██████████| 10/10 [00:01<00:00,  5.61batch/s, loss_avg=-17.7412, loss_val=-17.7987, mse=0.0013, r2=0.9620, relative_error=0.9568]\n"
     ]
    },
    {
     "name": "stdout",
     "output_type": "stream",
     "text": [
      "Save Best model: R2:0.9620, Loss Avg:-17.7412\n"
     ]
    },
    {
     "name": "stderr",
     "output_type": "stream",
     "text": [
      "Epoch 200 Training: 100%|██████████| 176/176 [00:05<00:00, 32.99batch/s, loss=-17.7474, loss_avg=-17.7528, lr=0.000072, r2=0.9611]\n",
      "Epoch 200 Validating: 100%|██████████| 10/10 [00:01<00:00,  5.71batch/s, loss_avg=-17.7539, loss_val=-17.8198, mse=0.0014, r2=0.9608, relative_error=0.9562]\n"
     ]
    },
    {
     "name": "stdout",
     "output_type": "stream",
     "text": [
      " \n"
     ]
    },
    {
     "name": "stderr",
     "output_type": "stream",
     "text": [
      "Epoch 201 Training: 100%|██████████| 176/176 [00:05<00:00, 32.66batch/s, loss=-17.6271, loss_avg=-17.7755, lr=0.000072, r2=0.9610]\n",
      "Epoch 201 Validating: 100%|██████████| 10/10 [00:01<00:00,  5.79batch/s, loss_avg=-17.8391, loss_val=-17.8964, mse=0.0013, r2=0.9624, relative_error=0.9330]\n"
     ]
    },
    {
     "name": "stdout",
     "output_type": "stream",
     "text": [
      "Save Best model: R2:0.9624, Loss Avg:-17.8391\n"
     ]
    },
    {
     "name": "stderr",
     "output_type": "stream",
     "text": [
      "Epoch 202 Training: 100%|██████████| 176/176 [00:05<00:00, 34.40batch/s, loss=-17.7254, loss_avg=-17.7948, lr=0.000072, r2=0.9617]\n",
      "Epoch 202 Validating: 100%|██████████| 10/10 [00:01<00:00,  5.09batch/s, loss_avg=-17.7303, loss_val=-17.8080, mse=0.0013, r2=0.9626, relative_error=0.8634]\n"
     ]
    },
    {
     "name": "stdout",
     "output_type": "stream",
     "text": [
      "Save Best model: R2:0.9626, Loss Avg:-17.7303\n"
     ]
    },
    {
     "name": "stderr",
     "output_type": "stream",
     "text": [
      "Epoch 203 Training: 100%|██████████| 176/176 [00:05<00:00, 35.08batch/s, loss=-17.7828, loss_avg=-17.7670, lr=0.000072, r2=0.9619]\n",
      "Epoch 203 Validating: 100%|██████████| 10/10 [00:01<00:00,  5.87batch/s, loss_avg=-17.7743, loss_val=-17.8405, mse=0.0013, r2=0.9635, relative_error=0.9185]\n"
     ]
    },
    {
     "name": "stdout",
     "output_type": "stream",
     "text": [
      "Save Best model: R2:0.9635, Loss Avg:-17.7743\n"
     ]
    },
    {
     "name": "stderr",
     "output_type": "stream",
     "text": [
      "Epoch 204 Training: 100%|██████████| 176/176 [00:05<00:00, 33.49batch/s, loss=-16.5322, loss_avg=-17.8084, lr=0.000072, r2=0.9625]\n",
      "Epoch 204 Validating: 100%|██████████| 10/10 [00:01<00:00,  6.43batch/s, loss_avg=-17.1155, loss_val=-17.2426, mse=0.0013, r2=0.9632, relative_error=0.9097]\n"
     ]
    },
    {
     "name": "stdout",
     "output_type": "stream",
     "text": [
      " \n"
     ]
    },
    {
     "name": "stderr",
     "output_type": "stream",
     "text": [
      "Epoch 205 Training: 100%|██████████| 176/176 [00:03<00:00, 47.07batch/s, loss=-17.8047, loss_avg=-17.7942, lr=0.000072, r2=0.9625] \n",
      "Epoch 205 Validating: 100%|██████████| 10/10 [00:01<00:00,  6.50batch/s, loss_avg=-17.5992, loss_val=-17.6855, mse=0.0013, r2=0.9635, relative_error=0.8223]\n"
     ]
    },
    {
     "name": "stdout",
     "output_type": "stream",
     "text": [
      " \n"
     ]
    },
    {
     "name": "stderr",
     "output_type": "stream",
     "text": [
      "Epoch 206 Training: 100%|██████████| 176/176 [00:03<00:00, 53.45batch/s, loss=-17.5959, loss_avg=-17.8385, lr=0.000072, r2=0.9625] \n",
      "Epoch 206 Validating: 100%|██████████| 10/10 [00:01<00:00,  6.66batch/s, loss_avg=-17.8881, loss_val=-17.9501, mse=0.0013, r2=0.9633, relative_error=0.8101]\n"
     ]
    },
    {
     "name": "stdout",
     "output_type": "stream",
     "text": [
      " \n"
     ]
    },
    {
     "name": "stderr",
     "output_type": "stream",
     "text": [
      "Epoch 207 Training: 100%|██████████| 176/176 [00:03<00:00, 54.27batch/s, loss=-17.7376, loss_avg=-17.8555, lr=0.000072, r2=0.9634] \n",
      "Epoch 207 Validating: 100%|██████████| 10/10 [00:01<00:00,  6.22batch/s, loss_avg=-17.8953, loss_val=-17.9548, mse=0.0012, r2=0.9657, relative_error=0.9183]\n"
     ]
    },
    {
     "name": "stdout",
     "output_type": "stream",
     "text": [
      "Save Best model: R2:0.9657, Loss Avg:-17.8953\n"
     ]
    },
    {
     "name": "stderr",
     "output_type": "stream",
     "text": [
      "Epoch 208 Training: 100%|██████████| 176/176 [00:03<00:00, 51.79batch/s, loss=-17.7664, loss_avg=-17.8634, lr=0.000072, r2=0.9639] \n",
      "Epoch 208 Validating: 100%|██████████| 10/10 [00:01<00:00,  6.73batch/s, loss_avg=-17.8938, loss_val=-17.9555, mse=0.0012, r2=0.9649, relative_error=0.9287]\n"
     ]
    },
    {
     "name": "stdout",
     "output_type": "stream",
     "text": [
      " \n"
     ]
    },
    {
     "name": "stderr",
     "output_type": "stream",
     "text": [
      "Epoch 209 Training: 100%|██████████| 176/176 [00:03<00:00, 55.50batch/s, loss=-17.8780, loss_avg=-17.8588, lr=0.000072, r2=0.9642] \n",
      "Epoch 209 Validating: 100%|██████████| 10/10 [00:01<00:00,  6.44batch/s, loss_avg=-17.8028, loss_val=-17.8700, mse=0.0013, r2=0.9640, relative_error=0.9416]\n"
     ]
    },
    {
     "name": "stdout",
     "output_type": "stream",
     "text": [
      " \n"
     ]
    },
    {
     "name": "stderr",
     "output_type": "stream",
     "text": [
      "Epoch 210 Training: 100%|██████████| 176/176 [00:03<00:00, 54.37batch/s, loss=-17.8398, loss_avg=-17.8774, lr=0.000072, r2=0.9642] \n",
      "Epoch 210 Validating: 100%|██████████| 10/10 [00:01<00:00,  6.56batch/s, loss_avg=-17.8988, loss_val=-17.9677, mse=0.0012, r2=0.9667, relative_error=0.7587]\n"
     ]
    },
    {
     "name": "stdout",
     "output_type": "stream",
     "text": [
      "Save Best model: R2:0.9667, Loss Avg:-17.8988\n"
     ]
    },
    {
     "name": "stderr",
     "output_type": "stream",
     "text": [
      "Epoch 211 Training: 100%|██████████| 176/176 [00:03<00:00, 53.95batch/s, loss=-17.8270, loss_avg=-17.8907, lr=0.000072, r2=0.9645] \n",
      "Epoch 211 Validating: 100%|██████████| 10/10 [00:01<00:00,  6.72batch/s, loss_avg=-17.9298, loss_val=-17.9929, mse=0.0012, r2=0.9646, relative_error=0.8969]\n"
     ]
    },
    {
     "name": "stdout",
     "output_type": "stream",
     "text": [
      " \n"
     ]
    },
    {
     "name": "stderr",
     "output_type": "stream",
     "text": [
      "Epoch 212 Training: 100%|██████████| 176/176 [00:03<00:00, 51.10batch/s, loss=-17.8437, loss_avg=-17.8906, lr=0.000072, r2=0.9648] \n",
      "Epoch 212 Validating: 100%|██████████| 10/10 [00:01<00:00,  5.96batch/s, loss_avg=-17.9303, loss_val=-18.0054, mse=0.0012, r2=0.9657, relative_error=0.8645]\n"
     ]
    },
    {
     "name": "stdout",
     "output_type": "stream",
     "text": [
      " \n"
     ]
    },
    {
     "name": "stderr",
     "output_type": "stream",
     "text": [
      "Epoch 213 Training: 100%|██████████| 176/176 [00:03<00:00, 46.58batch/s, loss=-17.9164, loss_avg=-17.8998, lr=0.000072, r2=0.9653]\n",
      "Epoch 213 Validating: 100%|██████████| 10/10 [00:01<00:00,  6.41batch/s, loss_avg=-17.8703, loss_val=-17.9507, mse=0.0012, r2=0.9660, relative_error=0.8972]\n"
     ]
    },
    {
     "name": "stdout",
     "output_type": "stream",
     "text": [
      " \n"
     ]
    },
    {
     "name": "stderr",
     "output_type": "stream",
     "text": [
      "Epoch 214 Training: 100%|██████████| 176/176 [00:03<00:00, 53.21batch/s, loss=-16.8718, loss_avg=-17.9397, lr=0.000072, r2=0.9653] \n",
      "Epoch 214 Validating: 100%|██████████| 10/10 [00:01<00:00,  6.54batch/s, loss_avg=-17.1447, loss_val=-17.2940, mse=0.0012, r2=0.9656, relative_error=0.8644]\n"
     ]
    },
    {
     "name": "stdout",
     "output_type": "stream",
     "text": [
      " \n"
     ]
    },
    {
     "name": "stderr",
     "output_type": "stream",
     "text": [
      "Epoch 215 Training: 100%|██████████| 176/176 [00:03<00:00, 54.98batch/s, loss=-17.6946, loss_avg=-17.9166, lr=0.000072, r2=0.9656] \n",
      "Epoch 215 Validating: 100%|██████████| 10/10 [00:01<00:00,  5.87batch/s, loss_avg=-17.8114, loss_val=-17.8963, mse=0.0011, r2=0.9675, relative_error=0.7712]\n"
     ]
    },
    {
     "name": "stdout",
     "output_type": "stream",
     "text": [
      "Save Best model: R2:0.9675, Loss Avg:-17.8114\n"
     ]
    },
    {
     "name": "stderr",
     "output_type": "stream",
     "text": [
      "Epoch 216 Training: 100%|██████████| 176/176 [00:03<00:00, 58.25batch/s, loss=-17.4606, loss_avg=-17.9426, lr=0.000072, r2=0.9662] \n",
      "Epoch 216 Validating: 100%|██████████| 10/10 [00:01<00:00,  6.68batch/s, loss_avg=-17.5559, loss_val=-17.6610, mse=0.0012, r2=0.9669, relative_error=0.7855]\n"
     ]
    },
    {
     "name": "stdout",
     "output_type": "stream",
     "text": [
      " \n"
     ]
    },
    {
     "name": "stderr",
     "output_type": "stream",
     "text": [
      "Epoch 217 Training: 100%|██████████| 176/176 [00:03<00:00, 55.45batch/s, loss=-17.8555, loss_avg=-17.9453, lr=0.000072, r2=0.9662] \n",
      "Epoch 217 Validating: 100%|██████████| 10/10 [00:01<00:00,  6.64batch/s, loss_avg=-17.9992, loss_val=-18.0675, mse=0.0012, r2=0.9672, relative_error=0.8836]\n"
     ]
    },
    {
     "name": "stdout",
     "output_type": "stream",
     "text": [
      " \n"
     ]
    },
    {
     "name": "stderr",
     "output_type": "stream",
     "text": [
      "Epoch 218 Training: 100%|██████████| 176/176 [00:03<00:00, 53.38batch/s, loss=-16.9377, loss_avg=-17.9755, lr=0.000072, r2=0.9665] \n",
      "Epoch 218 Validating: 100%|██████████| 10/10 [00:01<00:00,  6.53batch/s, loss_avg=-17.4314, loss_val=-17.5638, mse=0.0012, r2=0.9668, relative_error=0.8620]\n"
     ]
    },
    {
     "name": "stdout",
     "output_type": "stream",
     "text": [
      " \n"
     ]
    },
    {
     "name": "stderr",
     "output_type": "stream",
     "text": [
      "Epoch 219 Training: 100%|██████████| 176/176 [00:03<00:00, 54.05batch/s, loss=-17.1716, loss_avg=-17.9652, lr=0.000072, r2=0.9670] \n",
      "Epoch 219 Validating: 100%|██████████| 10/10 [00:01<00:00,  6.56batch/s, loss_avg=-17.6123, loss_val=-17.7228, mse=0.0012, r2=0.9662, relative_error=0.8923]\n"
     ]
    },
    {
     "name": "stdout",
     "output_type": "stream",
     "text": [
      " \n"
     ]
    },
    {
     "name": "stderr",
     "output_type": "stream",
     "text": [
      "Epoch 220 Training: 100%|██████████| 176/176 [00:03<00:00, 54.43batch/s, loss=-17.8265, loss_avg=-17.9867, lr=0.000072, r2=0.9672] \n",
      "Epoch 220 Validating: 100%|██████████| 10/10 [00:01<00:00,  6.65batch/s, loss_avg=-18.0217, loss_val=-18.0903, mse=0.0012, r2=0.9669, relative_error=0.8252]\n"
     ]
    },
    {
     "name": "stdout",
     "output_type": "stream",
     "text": [
      " \n"
     ]
    },
    {
     "name": "stderr",
     "output_type": "stream",
     "text": [
      "Epoch 221 Training: 100%|██████████| 176/176 [00:03<00:00, 53.37batch/s, loss=-16.6345, loss_avg=-18.0021, lr=0.000072, r2=0.9676] \n",
      "Epoch 221 Validating: 100%|██████████| 10/10 [00:01<00:00,  6.46batch/s, loss_avg=-17.2410, loss_val=-17.3921, mse=0.0012, r2=0.9666, relative_error=0.8598]\n"
     ]
    },
    {
     "name": "stdout",
     "output_type": "stream",
     "text": [
      " \n"
     ]
    },
    {
     "name": "stderr",
     "output_type": "stream",
     "text": [
      "Epoch 222 Training: 100%|██████████| 176/176 [00:03<00:00, 54.50batch/s, loss=-17.6808, loss_avg=-17.9708, lr=0.000072, r2=0.9674] \n",
      "Epoch 222 Validating: 100%|██████████| 10/10 [00:01<00:00,  6.58batch/s, loss_avg=-17.8738, loss_val=-17.9574, mse=0.0011, r2=0.9672, relative_error=0.8587]\n"
     ]
    },
    {
     "name": "stdout",
     "output_type": "stream",
     "text": [
      " \n"
     ]
    },
    {
     "name": "stderr",
     "output_type": "stream",
     "text": [
      "Epoch 223 Training: 100%|██████████| 176/176 [00:03<00:00, 53.61batch/s, loss=-17.6937, loss_avg=-18.0184, lr=0.000072, r2=0.9679] \n",
      "Epoch 223 Validating: 100%|██████████| 10/10 [00:01<00:00,  6.61batch/s, loss_avg=-18.0903, loss_val=-18.1500, mse=0.0011, r2=0.9684, relative_error=0.8452]\n"
     ]
    },
    {
     "name": "stdout",
     "output_type": "stream",
     "text": [
      "Save Best model: R2:0.9684, Loss Avg:-18.0903\n"
     ]
    },
    {
     "name": "stderr",
     "output_type": "stream",
     "text": [
      "Epoch 224 Training: 100%|██████████| 176/176 [00:03<00:00, 53.86batch/s, loss=-17.7735, loss_avg=-18.0285, lr=0.000072, r2=0.9678] \n",
      "Epoch 224 Validating: 100%|██████████| 10/10 [00:01<00:00,  6.57batch/s, loss_avg=-17.8164, loss_val=-17.9139, mse=0.0011, r2=0.9684, relative_error=0.8480]\n"
     ]
    },
    {
     "name": "stdout",
     "output_type": "stream",
     "text": [
      " \n"
     ]
    },
    {
     "name": "stderr",
     "output_type": "stream",
     "text": [
      "Epoch 225 Training: 100%|██████████| 176/176 [00:03<00:00, 53.77batch/s, loss=-17.9242, loss_avg=-18.0461, lr=0.000072, r2=0.9680] \n",
      "Epoch 225 Validating: 100%|██████████| 10/10 [00:01<00:00,  6.57batch/s, loss_avg=-18.0778, loss_val=-18.1522, mse=0.0011, r2=0.9691, relative_error=0.8295]\n"
     ]
    },
    {
     "name": "stdout",
     "output_type": "stream",
     "text": [
      "Save Best model: R2:0.9691, Loss Avg:-18.0778\n"
     ]
    },
    {
     "name": "stderr",
     "output_type": "stream",
     "text": [
      "Epoch 226 Training: 100%|██████████| 176/176 [00:03<00:00, 53.58batch/s, loss=-17.8808, loss_avg=-18.0505, lr=0.000072, r2=0.9680] \n",
      "Epoch 226 Validating: 100%|██████████| 10/10 [00:01<00:00,  6.48batch/s, loss_avg=-17.9908, loss_val=-18.0753, mse=0.0010, r2=0.9703, relative_error=0.7246]\n"
     ]
    },
    {
     "name": "stdout",
     "output_type": "stream",
     "text": [
      "Save Best model: R2:0.9703, Loss Avg:-17.9908\n"
     ]
    },
    {
     "name": "stderr",
     "output_type": "stream",
     "text": [
      "Epoch 227 Training: 100%|██████████| 176/176 [00:03<00:00, 53.54batch/s, loss=-18.0276, loss_avg=-18.0530, lr=0.000072, r2=0.9687] \n",
      "Epoch 227 Validating: 100%|██████████| 10/10 [00:01<00:00,  6.45batch/s, loss_avg=-18.1141, loss_val=-18.1882, mse=0.0011, r2=0.9696, relative_error=0.7834]\n"
     ]
    },
    {
     "name": "stdout",
     "output_type": "stream",
     "text": [
      " \n"
     ]
    },
    {
     "name": "stderr",
     "output_type": "stream",
     "text": [
      "Epoch 228 Training: 100%|██████████| 176/176 [00:03<00:00, 54.33batch/s, loss=-17.7786, loss_avg=-18.0721, lr=0.000072, r2=0.9687] \n",
      "Epoch 228 Validating: 100%|██████████| 10/10 [00:01<00:00,  6.53batch/s, loss_avg=-18.0002, loss_val=-18.0935, mse=0.0011, r2=0.9679, relative_error=0.7962]\n"
     ]
    },
    {
     "name": "stdout",
     "output_type": "stream",
     "text": [
      " \n"
     ]
    },
    {
     "name": "stderr",
     "output_type": "stream",
     "text": [
      "Epoch 229 Training: 100%|██████████| 176/176 [00:03<00:00, 54.48batch/s, loss=-18.0047, loss_avg=-18.0878, lr=0.000072, r2=0.9691] \n",
      "Epoch 229 Validating: 100%|██████████| 10/10 [00:01<00:00,  6.63batch/s, loss_avg=-18.1359, loss_val=-18.2186, mse=0.0010, r2=0.9700, relative_error=0.7196]\n"
     ]
    },
    {
     "name": "stdout",
     "output_type": "stream",
     "text": [
      " \n"
     ]
    },
    {
     "name": "stderr",
     "output_type": "stream",
     "text": [
      "Epoch 230 Training: 100%|██████████| 176/176 [00:03<00:00, 53.65batch/s, loss=-18.0786, loss_avg=-18.0802, lr=0.000072, r2=0.9693] \n",
      "Epoch 230 Validating: 100%|██████████| 10/10 [00:01<00:00,  6.53batch/s, loss_avg=-18.1142, loss_val=-18.1912, mse=0.0011, r2=0.9697, relative_error=0.8174]\n"
     ]
    },
    {
     "name": "stdout",
     "output_type": "stream",
     "text": [
      " \n"
     ]
    },
    {
     "name": "stderr",
     "output_type": "stream",
     "text": [
      "Epoch 231 Training: 100%|██████████| 176/176 [00:03<00:00, 52.08batch/s, loss=-17.9918, loss_avg=-18.1132, lr=0.000072, r2=0.9690] \n",
      "Epoch 231 Validating: 100%|██████████| 10/10 [00:01<00:00,  6.34batch/s, loss_avg=-18.1110, loss_val=-18.1970, mse=0.0011, r2=0.9695, relative_error=0.7798]\n"
     ]
    },
    {
     "name": "stdout",
     "output_type": "stream",
     "text": [
      " \n"
     ]
    },
    {
     "name": "stderr",
     "output_type": "stream",
     "text": [
      "Epoch 232 Training: 100%|██████████| 176/176 [00:03<00:00, 50.62batch/s, loss=-17.0485, loss_avg=-18.1097, lr=0.000072, r2=0.9688] \n",
      "Epoch 232 Validating: 100%|██████████| 10/10 [00:01<00:00,  6.33batch/s, loss_avg=-17.6403, loss_val=-17.7742, mse=0.0011, r2=0.9687, relative_error=0.8037]\n"
     ]
    },
    {
     "name": "stdout",
     "output_type": "stream",
     "text": [
      " \n"
     ]
    },
    {
     "name": "stderr",
     "output_type": "stream",
     "text": [
      "Epoch 233 Training: 100%|██████████| 176/176 [00:03<00:00, 52.99batch/s, loss=-18.1003, loss_avg=-18.0930, lr=0.000072, r2=0.9692] \n",
      "Epoch 233 Validating: 100%|██████████| 10/10 [00:01<00:00,  6.73batch/s, loss_avg=-18.0779, loss_val=-18.1608, mse=0.0010, r2=0.9711, relative_error=0.8232]\n"
     ]
    },
    {
     "name": "stdout",
     "output_type": "stream",
     "text": [
      "Save Best model: R2:0.9711, Loss Avg:-18.0779\n"
     ]
    },
    {
     "name": "stderr",
     "output_type": "stream",
     "text": [
      "Epoch 234 Training: 100%|██████████| 176/176 [00:03<00:00, 54.76batch/s, loss=-18.0771, loss_avg=-18.1261, lr=0.000072, r2=0.9689] \n",
      "Epoch 234 Validating: 100%|██████████| 10/10 [00:01<00:00,  6.60batch/s, loss_avg=-18.1638, loss_val=-18.2558, mse=0.0010, r2=0.9705, relative_error=0.7984]\n"
     ]
    },
    {
     "name": "stdout",
     "output_type": "stream",
     "text": [
      " \n"
     ]
    },
    {
     "name": "stderr",
     "output_type": "stream",
     "text": [
      "Epoch 235 Training: 100%|██████████| 176/176 [00:03<00:00, 51.50batch/s, loss=-18.0893, loss_avg=-18.1413, lr=0.000072, r2=0.9702] \n",
      "Epoch 235 Validating: 100%|██████████| 10/10 [00:01<00:00,  6.49batch/s, loss_avg=-18.1637, loss_val=-18.2558, mse=0.0011, r2=0.9701, relative_error=0.7927]\n"
     ]
    },
    {
     "name": "stdout",
     "output_type": "stream",
     "text": [
      " \n"
     ]
    },
    {
     "name": "stderr",
     "output_type": "stream",
     "text": [
      "Epoch 236 Training: 100%|██████████| 176/176 [00:03<00:00, 56.07batch/s, loss=-17.9567, loss_avg=-18.1326, lr=0.000072, r2=0.9697] \n",
      "Epoch 236 Validating: 100%|██████████| 10/10 [00:01<00:00,  6.54batch/s, loss_avg=-18.0565, loss_val=-18.1578, mse=0.0010, r2=0.9719, relative_error=0.7682]\n"
     ]
    },
    {
     "name": "stdout",
     "output_type": "stream",
     "text": [
      "Save Best model: R2:0.9719, Loss Avg:-18.0565\n"
     ]
    },
    {
     "name": "stderr",
     "output_type": "stream",
     "text": [
      "Epoch 237 Training: 100%|██████████| 176/176 [00:03<00:00, 54.39batch/s, loss=-18.1257, loss_avg=-18.1517, lr=0.000072, r2=0.9693] \n",
      "Epoch 237 Validating: 100%|██████████| 10/10 [00:01<00:00,  6.55batch/s, loss_avg=-18.2416, loss_val=-18.3261, mse=0.0010, r2=0.9716, relative_error=0.7476]\n"
     ]
    },
    {
     "name": "stdout",
     "output_type": "stream",
     "text": [
      " \n"
     ]
    },
    {
     "name": "stderr",
     "output_type": "stream",
     "text": [
      "Epoch 238 Training: 100%|██████████| 176/176 [00:03<00:00, 55.19batch/s, loss=-17.7932, loss_avg=-18.1709, lr=0.000072, r2=0.9704] \n",
      "Epoch 238 Validating: 100%|██████████| 10/10 [00:01<00:00,  6.54batch/s, loss_avg=-18.0338, loss_val=-18.1400, mse=0.0010, r2=0.9707, relative_error=0.7861]\n"
     ]
    },
    {
     "name": "stdout",
     "output_type": "stream",
     "text": [
      " \n"
     ]
    },
    {
     "name": "stderr",
     "output_type": "stream",
     "text": [
      "Epoch 239 Training: 100%|██████████| 176/176 [00:03<00:00, 55.01batch/s, loss=-18.1216, loss_avg=-18.1664, lr=0.000072, r2=0.9697] \n",
      "Epoch 239 Validating: 100%|██████████| 10/10 [00:01<00:00,  6.77batch/s, loss_avg=-17.7978, loss_val=-17.9277, mse=0.0011, r2=0.9687, relative_error=0.7893]\n"
     ]
    },
    {
     "name": "stdout",
     "output_type": "stream",
     "text": [
      " \n"
     ]
    },
    {
     "name": "stderr",
     "output_type": "stream",
     "text": [
      "Epoch 240 Training: 100%|██████████| 176/176 [00:03<00:00, 57.20batch/s, loss=-18.1197, loss_avg=-18.1687, lr=0.000072, r2=0.9700] \n",
      "Epoch 240 Validating: 100%|██████████| 10/10 [00:01<00:00,  6.77batch/s, loss_avg=-18.1962, loss_val=-18.2918, mse=0.0010, r2=0.9716, relative_error=0.6791]\n"
     ]
    },
    {
     "name": "stdout",
     "output_type": "stream",
     "text": [
      " \n"
     ]
    },
    {
     "name": "stderr",
     "output_type": "stream",
     "text": [
      "Epoch 241 Training: 100%|██████████| 176/176 [00:03<00:00, 56.61batch/s, loss=-18.1286, loss_avg=-18.1910, lr=0.000072, r2=0.9709] \n",
      "Epoch 241 Validating: 100%|██████████| 10/10 [00:01<00:00,  6.73batch/s, loss_avg=-18.2129, loss_val=-18.2998, mse=0.0011, r2=0.9704, relative_error=0.7347]\n"
     ]
    },
    {
     "name": "stdout",
     "output_type": "stream",
     "text": [
      " \n"
     ]
    },
    {
     "name": "stderr",
     "output_type": "stream",
     "text": [
      "Epoch 242 Training: 100%|██████████| 176/176 [00:03<00:00, 55.66batch/s, loss=-18.0219, loss_avg=-18.2002, lr=0.000072, r2=0.9711] \n",
      "Epoch 242 Validating: 100%|██████████| 10/10 [00:01<00:00,  5.62batch/s, loss_avg=-18.2524, loss_val=-18.3395, mse=0.0011, r2=0.9685, relative_error=0.6689]\n"
     ]
    },
    {
     "name": "stdout",
     "output_type": "stream",
     "text": [
      " \n"
     ]
    },
    {
     "name": "stderr",
     "output_type": "stream",
     "text": [
      "Epoch 243 Training: 100%|██████████| 176/176 [00:03<00:00, 54.76batch/s, loss=-18.1470, loss_avg=-18.2113, lr=0.000072, r2=0.9712] \n",
      "Epoch 243 Validating: 100%|██████████| 10/10 [00:01<00:00,  6.29batch/s, loss_avg=-18.1844, loss_val=-18.2741, mse=0.0010, r2=0.9712, relative_error=0.7301]\n"
     ]
    },
    {
     "name": "stdout",
     "output_type": "stream",
     "text": [
      " \n"
     ]
    },
    {
     "name": "stderr",
     "output_type": "stream",
     "text": [
      "Epoch 244 Training: 100%|██████████| 176/176 [00:06<00:00, 27.16batch/s, loss=-18.1102, loss_avg=-18.2121, lr=0.000072, r2=0.9710]\n",
      "Epoch 244 Validating: 100%|██████████| 10/10 [00:01<00:00,  6.36batch/s, loss_avg=-18.2922, loss_val=-18.3895, mse=0.0010, r2=0.9721, relative_error=0.7209]\n"
     ]
    },
    {
     "name": "stdout",
     "output_type": "stream",
     "text": [
      "Save Best model: R2:0.9721, Loss Avg:-18.2922\n"
     ]
    },
    {
     "name": "stderr",
     "output_type": "stream",
     "text": [
      "Epoch 245 Training: 100%|██████████| 176/176 [00:05<00:00, 35.06batch/s, loss=-18.2341, loss_avg=-18.2091, lr=0.000072, r2=0.9714]\n",
      "Epoch 245 Validating: 100%|██████████| 10/10 [00:01<00:00,  6.09batch/s, loss_avg=-18.1427, loss_val=-18.2357, mse=0.0010, r2=0.9699, relative_error=0.7273]\n"
     ]
    },
    {
     "name": "stdout",
     "output_type": "stream",
     "text": [
      " \n"
     ]
    },
    {
     "name": "stderr",
     "output_type": "stream",
     "text": [
      "Epoch 246 Training: 100%|██████████| 176/176 [00:05<00:00, 32.80batch/s, loss=-18.1987, loss_avg=-18.2226, lr=0.000072, r2=0.9712]\n",
      "Epoch 246 Validating: 100%|██████████| 10/10 [00:01<00:00,  5.98batch/s, loss_avg=-18.2293, loss_val=-18.3197, mse=0.0009, r2=0.9734, relative_error=0.6952]\n"
     ]
    },
    {
     "name": "stdout",
     "output_type": "stream",
     "text": [
      "Save Best model: R2:0.9734, Loss Avg:-18.2293\n"
     ]
    },
    {
     "name": "stderr",
     "output_type": "stream",
     "text": [
      "Epoch 247 Training: 100%|██████████| 176/176 [00:05<00:00, 32.79batch/s, loss=-17.8295, loss_avg=-18.2512, lr=0.000072, r2=0.9715]\n",
      "Epoch 247 Validating: 100%|██████████| 10/10 [00:01<00:00,  5.23batch/s, loss_avg=-18.1010, loss_val=-18.2246, mse=0.0009, r2=0.9732, relative_error=0.7086]\n"
     ]
    },
    {
     "name": "stdout",
     "output_type": "stream",
     "text": [
      " \n"
     ]
    },
    {
     "name": "stderr",
     "output_type": "stream",
     "text": [
      "Epoch 248 Training: 100%|██████████| 176/176 [00:04<00:00, 35.39batch/s, loss=-18.0100, loss_avg=-18.2657, lr=0.000072, r2=0.9717]\n",
      "Epoch 248 Validating: 100%|██████████| 10/10 [00:01<00:00,  6.22batch/s, loss_avg=-18.2901, loss_val=-18.3876, mse=0.0010, r2=0.9726, relative_error=0.7105]\n"
     ]
    },
    {
     "name": "stdout",
     "output_type": "stream",
     "text": [
      " \n"
     ]
    },
    {
     "name": "stderr",
     "output_type": "stream",
     "text": [
      "Epoch 249 Training: 100%|██████████| 176/176 [00:05<00:00, 35.19batch/s, loss=-18.0764, loss_avg=-18.2703, lr=0.000072, r2=0.9719]\n",
      "Epoch 249 Validating: 100%|██████████| 10/10 [00:01<00:00,  6.38batch/s, loss_avg=-18.1647, loss_val=-18.2744, mse=0.0010, r2=0.9681, relative_error=0.4556]\n"
     ]
    },
    {
     "name": "stdout",
     "output_type": "stream",
     "text": [
      " \n"
     ]
    },
    {
     "name": "stderr",
     "output_type": "stream",
     "text": [
      "Epoch 250 Training: 100%|██████████| 176/176 [00:03<00:00, 48.20batch/s, loss=-17.2136, loss_avg=-18.2595, lr=0.000072, r2=0.9721] \n",
      "Epoch 250 Validating: 100%|██████████| 10/10 [00:01<00:00,  5.94batch/s, loss_avg=-17.9180, loss_val=-18.0577, mse=0.0010, r2=0.9708, relative_error=0.6949]\n"
     ]
    },
    {
     "name": "stdout",
     "output_type": "stream",
     "text": [
      " \n"
     ]
    },
    {
     "name": "stderr",
     "output_type": "stream",
     "text": [
      "Epoch 251 Training: 100%|██████████| 176/176 [00:03<00:00, 55.34batch/s, loss=-18.1278, loss_avg=-18.2845, lr=0.000072, r2=0.9720] \n",
      "Epoch 251 Validating: 100%|██████████| 10/10 [00:01<00:00,  5.86batch/s, loss_avg=-18.3294, loss_val=-18.4136, mse=0.0009, r2=0.9734, relative_error=0.5934]\n"
     ]
    },
    {
     "name": "stdout",
     "output_type": "stream",
     "text": [
      "Save Best model: R2:0.9734, Loss Avg:-18.3294\n"
     ]
    },
    {
     "name": "stderr",
     "output_type": "stream",
     "text": [
      "Epoch 252 Training: 100%|██████████| 176/176 [00:03<00:00, 54.76batch/s, loss=-18.1885, loss_avg=-18.2869, lr=0.000072, r2=0.9723] \n",
      "Epoch 252 Validating: 100%|██████████| 10/10 [00:01<00:00,  6.68batch/s, loss_avg=-18.2930, loss_val=-18.3954, mse=0.0009, r2=0.9732, relative_error=0.6752]\n"
     ]
    },
    {
     "name": "stdout",
     "output_type": "stream",
     "text": [
      " \n"
     ]
    },
    {
     "name": "stderr",
     "output_type": "stream",
     "text": [
      "Epoch 253 Training: 100%|██████████| 176/176 [00:03<00:00, 55.86batch/s, loss=-18.2807, loss_avg=-18.2934, lr=0.000072, r2=0.9721] \n",
      "Epoch 253 Validating: 100%|██████████| 10/10 [00:01<00:00,  6.48batch/s, loss_avg=-18.2700, loss_val=-18.3585, mse=0.0010, r2=0.9703, relative_error=0.6233]\n"
     ]
    },
    {
     "name": "stdout",
     "output_type": "stream",
     "text": [
      " \n"
     ]
    },
    {
     "name": "stderr",
     "output_type": "stream",
     "text": [
      "Epoch 254 Training: 100%|██████████| 176/176 [00:03<00:00, 53.78batch/s, loss=-17.8931, loss_avg=-18.3165, lr=0.000072, r2=0.9729] \n",
      "Epoch 254 Validating: 100%|██████████| 10/10 [00:01<00:00,  6.67batch/s, loss_avg=-18.1803, loss_val=-18.2995, mse=0.0010, r2=0.9722, relative_error=0.6414]\n"
     ]
    },
    {
     "name": "stdout",
     "output_type": "stream",
     "text": [
      " \n"
     ]
    },
    {
     "name": "stderr",
     "output_type": "stream",
     "text": [
      "Epoch 255 Training: 100%|██████████| 176/176 [00:03<00:00, 54.25batch/s, loss=-18.2096, loss_avg=-18.3279, lr=0.000072, r2=0.9724] \n",
      "Epoch 255 Validating: 100%|██████████| 10/10 [00:01<00:00,  6.40batch/s, loss_avg=-18.2907, loss_val=-18.3968, mse=0.0011, r2=0.9676, relative_error=0.6218]\n"
     ]
    },
    {
     "name": "stdout",
     "output_type": "stream",
     "text": [
      " \n"
     ]
    },
    {
     "name": "stderr",
     "output_type": "stream",
     "text": [
      "Epoch 256 Training: 100%|██████████| 176/176 [00:03<00:00, 51.52batch/s, loss=-18.1490, loss_avg=-18.3458, lr=0.000072, r2=0.9729] \n",
      "Epoch 256 Validating: 100%|██████████| 10/10 [00:01<00:00,  6.51batch/s, loss_avg=-18.3698, loss_val=-18.4580, mse=0.0009, r2=0.9737, relative_error=0.6674]\n"
     ]
    },
    {
     "name": "stdout",
     "output_type": "stream",
     "text": [
      "Save Best model: R2:0.9737, Loss Avg:-18.3698\n"
     ]
    },
    {
     "name": "stderr",
     "output_type": "stream",
     "text": [
      "Epoch 257 Training: 100%|██████████| 176/176 [00:03<00:00, 58.25batch/s, loss=-18.0441, loss_avg=-18.3419, lr=0.000072, r2=0.9727] \n",
      "Epoch 257 Validating: 100%|██████████| 10/10 [00:01<00:00,  6.62batch/s, loss_avg=-18.3669, loss_val=-18.4662, mse=0.0010, r2=0.9717, relative_error=0.6698]\n"
     ]
    },
    {
     "name": "stdout",
     "output_type": "stream",
     "text": [
      " \n"
     ]
    },
    {
     "name": "stderr",
     "output_type": "stream",
     "text": [
      "Epoch 258 Training: 100%|██████████| 176/176 [00:03<00:00, 51.80batch/s, loss=-17.9212, loss_avg=-18.3577, lr=0.000072, r2=0.9721] \n",
      "Epoch 258 Validating: 100%|██████████| 10/10 [00:01<00:00,  6.50batch/s, loss_avg=-18.2564, loss_val=-18.3669, mse=0.0009, r2=0.9732, relative_error=0.6868]\n"
     ]
    },
    {
     "name": "stdout",
     "output_type": "stream",
     "text": [
      " \n"
     ]
    },
    {
     "name": "stderr",
     "output_type": "stream",
     "text": [
      "Epoch 259 Training: 100%|██████████| 176/176 [00:03<00:00, 53.23batch/s, loss=-17.9441, loss_avg=-18.3587, lr=0.000072, r2=0.9728] \n",
      "Epoch 259 Validating: 100%|██████████| 10/10 [00:01<00:00,  6.75batch/s, loss_avg=-18.3814, loss_val=-18.4792, mse=0.0009, r2=0.9737, relative_error=0.6730]\n"
     ]
    },
    {
     "name": "stdout",
     "output_type": "stream",
     "text": [
      "Save Best model: R2:0.9737, Loss Avg:-18.3814\n"
     ]
    },
    {
     "name": "stderr",
     "output_type": "stream",
     "text": [
      "Epoch 260 Training: 100%|██████████| 176/176 [00:03<00:00, 53.01batch/s, loss=-18.2766, loss_avg=-18.3685, lr=0.000072, r2=0.9736] \n",
      "Epoch 260 Validating: 100%|██████████| 10/10 [00:01<00:00,  6.61batch/s, loss_avg=-18.3622, loss_val=-18.4480, mse=0.0009, r2=0.9739, relative_error=0.5718]\n"
     ]
    },
    {
     "name": "stdout",
     "output_type": "stream",
     "text": [
      "Save Best model: R2:0.9739, Loss Avg:-18.3622\n"
     ]
    },
    {
     "name": "stderr",
     "output_type": "stream",
     "text": [
      "Epoch 261 Training: 100%|██████████| 176/176 [00:03<00:00, 53.21batch/s, loss=-18.3400, loss_avg=-18.3845, lr=0.000072, r2=0.9730] \n",
      "Epoch 261 Validating: 100%|██████████| 10/10 [00:01<00:00,  5.82batch/s, loss_avg=-18.2933, loss_val=-18.3965, mse=0.0009, r2=0.9747, relative_error=0.5778]\n"
     ]
    },
    {
     "name": "stdout",
     "output_type": "stream",
     "text": [
      "Save Best model: R2:0.9747, Loss Avg:-18.2933\n"
     ]
    },
    {
     "name": "stderr",
     "output_type": "stream",
     "text": [
      "Epoch 262 Training: 100%|██████████| 176/176 [00:03<00:00, 53.38batch/s, loss=-18.2118, loss_avg=-18.3962, lr=0.000072, r2=0.9728] \n",
      "Epoch 262 Validating: 100%|██████████| 10/10 [00:01<00:00,  6.24batch/s, loss_avg=-18.3252, loss_val=-18.4212, mse=0.0009, r2=0.9752, relative_error=0.5927]\n"
     ]
    },
    {
     "name": "stdout",
     "output_type": "stream",
     "text": [
      "Save Best model: R2:0.9752, Loss Avg:-18.3252\n"
     ]
    },
    {
     "name": "stderr",
     "output_type": "stream",
     "text": [
      "Epoch 263 Training: 100%|██████████| 176/176 [00:03<00:00, 52.84batch/s, loss=-18.0920, loss_avg=-18.4049, lr=0.000072, r2=0.9734] \n",
      "Epoch 263 Validating: 100%|██████████| 10/10 [00:01<00:00,  6.03batch/s, loss_avg=-18.2282, loss_val=-18.3474, mse=0.0009, r2=0.9744, relative_error=0.5816]\n"
     ]
    },
    {
     "name": "stdout",
     "output_type": "stream",
     "text": [
      " \n"
     ]
    },
    {
     "name": "stderr",
     "output_type": "stream",
     "text": [
      "Epoch 264 Training: 100%|██████████| 176/176 [00:03<00:00, 49.92batch/s, loss=-17.7718, loss_avg=-18.4095, lr=0.000072, r2=0.9733]\n",
      "Epoch 264 Validating: 100%|██████████| 10/10 [00:01<00:00,  6.03batch/s, loss_avg=-18.2013, loss_val=-18.3198, mse=0.0010, r2=0.9713, relative_error=0.5838]\n"
     ]
    },
    {
     "name": "stdout",
     "output_type": "stream",
     "text": [
      " \n"
     ]
    },
    {
     "name": "stderr",
     "output_type": "stream",
     "text": [
      "Epoch 265 Training: 100%|██████████| 176/176 [00:05<00:00, 33.35batch/s, loss=-18.2251, loss_avg=-18.4115, lr=0.000072, r2=0.9740]\n",
      "Epoch 265 Validating: 100%|██████████| 10/10 [00:01<00:00,  5.05batch/s, loss_avg=-18.4489, loss_val=-18.5395, mse=0.0009, r2=0.9741, relative_error=0.6393]\n"
     ]
    },
    {
     "name": "stdout",
     "output_type": "stream",
     "text": [
      " \n"
     ]
    },
    {
     "name": "stderr",
     "output_type": "stream",
     "text": [
      "Epoch 266 Training: 100%|██████████| 176/176 [00:05<00:00, 33.94batch/s, loss=-18.3504, loss_avg=-18.4384, lr=0.000072, r2=0.9737]\n",
      "Epoch 266 Validating: 100%|██████████| 10/10 [00:01<00:00,  6.13batch/s, loss_avg=-18.5171, loss_val=-18.6077, mse=0.0009, r2=0.9739, relative_error=0.6049]\n"
     ]
    },
    {
     "name": "stdout",
     "output_type": "stream",
     "text": [
      " \n"
     ]
    },
    {
     "name": "stderr",
     "output_type": "stream",
     "text": [
      "Epoch 267 Training: 100%|██████████| 176/176 [00:05<00:00, 34.55batch/s, loss=-18.1173, loss_avg=-18.4452, lr=0.000072, r2=0.9735]\n",
      "Epoch 267 Validating: 100%|██████████| 10/10 [00:01<00:00,  5.65batch/s, loss_avg=-18.4198, loss_val=-18.5087, mse=0.0009, r2=0.9725, relative_error=0.5508]\n"
     ]
    },
    {
     "name": "stdout",
     "output_type": "stream",
     "text": [
      " \n"
     ]
    },
    {
     "name": "stderr",
     "output_type": "stream",
     "text": [
      "Epoch 268 Training: 100%|██████████| 176/176 [00:05<00:00, 35.11batch/s, loss=-18.4242, loss_avg=-18.4262, lr=0.000072, r2=0.9738]\n",
      "Epoch 268 Validating: 100%|██████████| 10/10 [00:01<00:00,  5.83batch/s, loss_avg=-18.2749, loss_val=-18.3509, mse=0.0009, r2=0.9748, relative_error=0.5355]\n"
     ]
    },
    {
     "name": "stdout",
     "output_type": "stream",
     "text": [
      " \n"
     ]
    },
    {
     "name": "stderr",
     "output_type": "stream",
     "text": [
      "Epoch 269 Training: 100%|██████████| 176/176 [00:05<00:00, 33.86batch/s, loss=-17.8007, loss_avg=-18.4397, lr=0.000072, r2=0.9739]\n",
      "Epoch 269 Validating: 100%|██████████| 10/10 [00:01<00:00,  6.08batch/s, loss_avg=-18.1273, loss_val=-18.2503, mse=0.0009, r2=0.9745, relative_error=0.6076]\n"
     ]
    },
    {
     "name": "stdout",
     "output_type": "stream",
     "text": [
      " \n"
     ]
    },
    {
     "name": "stderr",
     "output_type": "stream",
     "text": [
      "Epoch 270 Training: 100%|██████████| 176/176 [00:04<00:00, 35.50batch/s, loss=-18.4013, loss_avg=-18.4617, lr=0.000072, r2=0.9742]\n",
      "Epoch 270 Validating: 100%|██████████| 10/10 [00:01<00:00,  6.36batch/s, loss_avg=-18.4742, loss_val=-18.5510, mse=0.0009, r2=0.9750, relative_error=0.5151]\n"
     ]
    },
    {
     "name": "stdout",
     "output_type": "stream",
     "text": [
      " \n"
     ]
    },
    {
     "name": "stderr",
     "output_type": "stream",
     "text": [
      "Epoch 271 Training: 100%|██████████| 176/176 [00:04<00:00, 35.39batch/s, loss=-18.4569, loss_avg=-18.4550, lr=0.000072, r2=0.9738]\n",
      "Epoch 271 Validating: 100%|██████████| 10/10 [00:01<00:00,  6.01batch/s, loss_avg=-18.3850, loss_val=-18.4936, mse=0.0009, r2=0.9750, relative_error=0.6110]\n"
     ]
    },
    {
     "name": "stdout",
     "output_type": "stream",
     "text": [
      " \n"
     ]
    },
    {
     "name": "stderr",
     "output_type": "stream",
     "text": [
      "Epoch 272 Training: 100%|██████████| 176/176 [00:05<00:00, 33.90batch/s, loss=-18.2088, loss_avg=-18.4890, lr=0.000072, r2=0.9741]\n",
      "Epoch 272 Validating: 100%|██████████| 10/10 [00:01<00:00,  5.69batch/s, loss_avg=-18.3755, loss_val=-18.4823, mse=0.0010, r2=0.9711, relative_error=0.6175]\n"
     ]
    },
    {
     "name": "stdout",
     "output_type": "stream",
     "text": [
      " \n"
     ]
    },
    {
     "name": "stderr",
     "output_type": "stream",
     "text": [
      "Epoch 273 Training: 100%|██████████| 176/176 [00:05<00:00, 35.12batch/s, loss=-18.0346, loss_avg=-18.4918, lr=0.000072, r2=0.9743]\n",
      "Epoch 273 Validating: 100%|██████████| 10/10 [00:01<00:00,  6.10batch/s, loss_avg=-18.4782, loss_val=-18.5604, mse=0.0009, r2=0.9753, relative_error=0.5962]\n"
     ]
    },
    {
     "name": "stdout",
     "output_type": "stream",
     "text": [
      "Save Best model: R2:0.9753, Loss Avg:-18.4782\n"
     ]
    },
    {
     "name": "stderr",
     "output_type": "stream",
     "text": [
      "Epoch 274 Training: 100%|██████████| 176/176 [00:05<00:00, 34.95batch/s, loss=-18.2960, loss_avg=-18.5115, lr=0.000072, r2=0.9746]\n",
      "Epoch 274 Validating: 100%|██████████| 10/10 [00:01<00:00,  6.06batch/s, loss_avg=-18.5591, loss_val=-18.6279, mse=0.0008, r2=0.9763, relative_error=0.3102]\n"
     ]
    },
    {
     "name": "stdout",
     "output_type": "stream",
     "text": [
      "Save Best model: R2:0.9763, Loss Avg:-18.5591\n"
     ]
    },
    {
     "name": "stderr",
     "output_type": "stream",
     "text": [
      "Epoch 275 Training: 100%|██████████| 176/176 [00:05<00:00, 33.90batch/s, loss=-17.9620, loss_avg=-18.5037, lr=0.000072, r2=0.9744]\n",
      "Epoch 275 Validating: 100%|██████████| 10/10 [00:01<00:00,  5.77batch/s, loss_avg=-18.0909, loss_val=-18.2007, mse=0.0009, r2=0.9753, relative_error=0.5289]\n"
     ]
    },
    {
     "name": "stdout",
     "output_type": "stream",
     "text": [
      " \n"
     ]
    },
    {
     "name": "stderr",
     "output_type": "stream",
     "text": [
      "Epoch 276 Training: 100%|██████████| 176/176 [00:05<00:00, 35.08batch/s, loss=-18.4770, loss_avg=-18.5143, lr=0.000072, r2=0.9739]\n",
      "Epoch 276 Validating: 100%|██████████| 10/10 [00:01<00:00,  6.29batch/s, loss_avg=-18.4148, loss_val=-18.5008, mse=0.0009, r2=0.9749, relative_error=0.5986]\n"
     ]
    },
    {
     "name": "stdout",
     "output_type": "stream",
     "text": [
      " \n"
     ]
    },
    {
     "name": "stderr",
     "output_type": "stream",
     "text": [
      "Epoch 277 Training: 100%|██████████| 176/176 [00:04<00:00, 37.30batch/s, loss=-18.3323, loss_avg=-18.5227, lr=0.000072, r2=0.9746]\n",
      "Epoch 277 Validating: 100%|██████████| 10/10 [00:01<00:00,  6.15batch/s, loss_avg=-18.4141, loss_val=-18.5040, mse=0.0009, r2=0.9745, relative_error=0.6113]\n"
     ]
    },
    {
     "name": "stdout",
     "output_type": "stream",
     "text": [
      " \n"
     ]
    },
    {
     "name": "stderr",
     "output_type": "stream",
     "text": [
      "Epoch 278 Training: 100%|██████████| 176/176 [00:04<00:00, 36.88batch/s, loss=-18.5482, loss_avg=-18.5292, lr=0.000072, r2=0.9745]\n",
      "Epoch 278 Validating: 100%|██████████| 10/10 [00:01<00:00,  6.38batch/s, loss_avg=-18.5092, loss_val=-18.6037, mse=0.0009, r2=0.9753, relative_error=0.5841]\n"
     ]
    },
    {
     "name": "stdout",
     "output_type": "stream",
     "text": [
      " \n"
     ]
    },
    {
     "name": "stderr",
     "output_type": "stream",
     "text": [
      "Epoch 279 Training: 100%|██████████| 176/176 [00:04<00:00, 36.63batch/s, loss=-18.4655, loss_avg=-18.5385, lr=0.000072, r2=0.9748]\n",
      "Epoch 279 Validating: 100%|██████████| 10/10 [00:01<00:00,  6.33batch/s, loss_avg=-18.3354, loss_val=-18.4496, mse=0.0010, r2=0.9730, relative_error=0.5645]\n"
     ]
    },
    {
     "name": "stdout",
     "output_type": "stream",
     "text": [
      " \n"
     ]
    },
    {
     "name": "stderr",
     "output_type": "stream",
     "text": [
      "Epoch 280 Training: 100%|██████████| 176/176 [00:04<00:00, 37.06batch/s, loss=-18.4551, loss_avg=-18.5478, lr=0.000072, r2=0.9744]\n",
      "Epoch 280 Validating: 100%|██████████| 10/10 [00:01<00:00,  6.49batch/s, loss_avg=-18.5381, loss_val=-18.6336, mse=0.0009, r2=0.9754, relative_error=0.5454]\n"
     ]
    },
    {
     "name": "stdout",
     "output_type": "stream",
     "text": [
      " \n"
     ]
    },
    {
     "name": "stderr",
     "output_type": "stream",
     "text": [
      "Epoch 281 Training: 100%|██████████| 176/176 [00:04<00:00, 37.09batch/s, loss=-17.8428, loss_avg=-18.5549, lr=0.000072, r2=0.9750]\n",
      "Epoch 281 Validating: 100%|██████████| 10/10 [00:01<00:00,  6.35batch/s, loss_avg=-18.1041, loss_val=-18.2310, mse=0.0009, r2=0.9723, relative_error=0.5696]\n"
     ]
    },
    {
     "name": "stdout",
     "output_type": "stream",
     "text": [
      " \n"
     ]
    },
    {
     "name": "stderr",
     "output_type": "stream",
     "text": [
      "Epoch 282 Training: 100%|██████████| 176/176 [00:04<00:00, 36.87batch/s, loss=-18.4121, loss_avg=-18.5539, lr=0.000072, r2=0.9738]\n",
      "Epoch 282 Validating: 100%|██████████| 10/10 [00:01<00:00,  6.15batch/s, loss_avg=-18.3840, loss_val=-18.4977, mse=0.0010, r2=0.9740, relative_error=0.4719]\n"
     ]
    },
    {
     "name": "stdout",
     "output_type": "stream",
     "text": [
      " \n"
     ]
    },
    {
     "name": "stderr",
     "output_type": "stream",
     "text": [
      "Epoch 283 Training: 100%|██████████| 176/176 [00:04<00:00, 35.23batch/s, loss=-18.5402, loss_avg=-18.5648, lr=0.000072, r2=0.9750]\n",
      "Epoch 283 Validating: 100%|██████████| 10/10 [00:01<00:00,  6.29batch/s, loss_avg=-18.6491, loss_val=-18.7214, mse=0.0009, r2=0.9719, relative_error=0.4820]\n"
     ]
    },
    {
     "name": "stdout",
     "output_type": "stream",
     "text": [
      " \n"
     ]
    },
    {
     "name": "stderr",
     "output_type": "stream",
     "text": [
      "Epoch 284 Training: 100%|██████████| 176/176 [00:05<00:00, 33.65batch/s, loss=-18.5792, loss_avg=-18.5719, lr=0.000072, r2=0.9753]\n",
      "Epoch 284 Validating: 100%|██████████| 10/10 [00:01<00:00,  5.99batch/s, loss_avg=-18.5927, loss_val=-18.6713, mse=0.0008, r2=0.9768, relative_error=0.4947]\n"
     ]
    },
    {
     "name": "stdout",
     "output_type": "stream",
     "text": [
      "Save Best model: R2:0.9768, Loss Avg:-18.5927\n"
     ]
    },
    {
     "name": "stderr",
     "output_type": "stream",
     "text": [
      "Epoch 285 Training: 100%|██████████| 176/176 [00:04<00:00, 36.84batch/s, loss=-18.5661, loss_avg=-18.4899, lr=0.000072, r2=0.9748]\n",
      "Epoch 285 Validating: 100%|██████████| 10/10 [00:01<00:00,  6.55batch/s, loss_avg=-18.5556, loss_val=-18.6293, mse=0.0009, r2=0.9752, relative_error=0.5883]\n"
     ]
    },
    {
     "name": "stdout",
     "output_type": "stream",
     "text": [
      " \n"
     ]
    },
    {
     "name": "stderr",
     "output_type": "stream",
     "text": [
      "Epoch 286 Training: 100%|██████████| 176/176 [00:03<00:00, 54.91batch/s, loss=-18.2148, loss_avg=-18.6105, lr=0.000072, r2=0.9748] \n",
      "Epoch 286 Validating: 100%|██████████| 10/10 [00:01<00:00,  6.44batch/s, loss_avg=-18.2445, loss_val=-18.3528, mse=0.0008, r2=0.9765, relative_error=0.5690]\n"
     ]
    },
    {
     "name": "stdout",
     "output_type": "stream",
     "text": [
      " \n"
     ]
    },
    {
     "name": "stderr",
     "output_type": "stream",
     "text": [
      "Epoch 287 Training: 100%|██████████| 176/176 [00:03<00:00, 55.46batch/s, loss=-18.5995, loss_avg=-18.6086, lr=0.000072, r2=0.9747] \n",
      "Epoch 287 Validating: 100%|██████████| 10/10 [00:01<00:00,  6.68batch/s, loss_avg=-18.4327, loss_val=-18.5326, mse=0.0009, r2=0.9755, relative_error=0.5291]\n"
     ]
    },
    {
     "name": "stdout",
     "output_type": "stream",
     "text": [
      " \n"
     ]
    },
    {
     "name": "stderr",
     "output_type": "stream",
     "text": [
      "Epoch 288 Training: 100%|██████████| 176/176 [00:03<00:00, 55.01batch/s, loss=-17.5466, loss_avg=-18.6103, lr=0.000072, r2=0.9754] \n",
      "Epoch 288 Validating: 100%|██████████| 10/10 [00:01<00:00,  6.82batch/s, loss_avg=-18.1362, loss_val=-18.2691, mse=0.0008, r2=0.9763, relative_error=0.4595]\n"
     ]
    },
    {
     "name": "stdout",
     "output_type": "stream",
     "text": [
      " \n"
     ]
    },
    {
     "name": "stderr",
     "output_type": "stream",
     "text": [
      "Epoch 289 Training: 100%|██████████| 176/176 [00:03<00:00, 52.22batch/s, loss=-18.6179, loss_avg=-18.6053, lr=0.000072, r2=0.9754] \n",
      "Epoch 289 Validating: 100%|██████████| 10/10 [00:01<00:00,  6.57batch/s, loss_avg=-18.6124, loss_val=-18.7015, mse=0.0008, r2=0.9768, relative_error=0.3449]\n"
     ]
    },
    {
     "name": "stdout",
     "output_type": "stream",
     "text": [
      " \n"
     ]
    },
    {
     "name": "stderr",
     "output_type": "stream",
     "text": [
      "Epoch 290 Training: 100%|██████████| 176/176 [00:03<00:00, 54.82batch/s, loss=-18.5590, loss_avg=-18.6136, lr=0.000072, r2=0.9752] \n",
      "Epoch 290 Validating: 100%|██████████| 10/10 [00:01<00:00,  6.63batch/s, loss_avg=-18.7151, loss_val=-18.7858, mse=0.0008, r2=0.9764, relative_error=0.4646]\n"
     ]
    },
    {
     "name": "stdout",
     "output_type": "stream",
     "text": [
      " \n"
     ]
    },
    {
     "name": "stderr",
     "output_type": "stream",
     "text": [
      "Epoch 291 Training: 100%|██████████| 176/176 [00:03<00:00, 53.32batch/s, loss=-18.6058, loss_avg=-18.6439, lr=0.000072, r2=0.9753] \n",
      "Epoch 291 Validating: 100%|██████████| 10/10 [00:01<00:00,  6.77batch/s, loss_avg=-18.7373, loss_val=-18.8110, mse=0.0008, r2=0.9768, relative_error=0.4401]\n"
     ]
    },
    {
     "name": "stdout",
     "output_type": "stream",
     "text": [
      "Save Best model: R2:0.9768, Loss Avg:-18.7373\n"
     ]
    },
    {
     "name": "stderr",
     "output_type": "stream",
     "text": [
      "Epoch 292 Training: 100%|██████████| 176/176 [00:03<00:00, 55.02batch/s, loss=-18.4881, loss_avg=-18.6560, lr=0.000072, r2=0.9754] \n",
      "Epoch 292 Validating: 100%|██████████| 10/10 [00:01<00:00,  6.81batch/s, loss_avg=-18.3533, loss_val=-18.4567, mse=0.0008, r2=0.9770, relative_error=0.3063]\n"
     ]
    },
    {
     "name": "stdout",
     "output_type": "stream",
     "text": [
      "Save Best model: R2:0.9770, Loss Avg:-18.3533\n"
     ]
    },
    {
     "name": "stderr",
     "output_type": "stream",
     "text": [
      "Epoch 293 Training: 100%|██████████| 176/176 [00:03<00:00, 53.83batch/s, loss=-18.5868, loss_avg=-18.6205, lr=0.000072, r2=0.9751] \n",
      "Epoch 293 Validating: 100%|██████████| 10/10 [00:01<00:00,  6.75batch/s, loss_avg=-18.6533, loss_val=-18.7468, mse=0.0009, r2=0.9711, relative_error=0.5230]\n"
     ]
    },
    {
     "name": "stdout",
     "output_type": "stream",
     "text": [
      " \n"
     ]
    },
    {
     "name": "stderr",
     "output_type": "stream",
     "text": [
      "Epoch 294 Training: 100%|██████████| 176/176 [00:03<00:00, 55.69batch/s, loss=-18.7258, loss_avg=-18.6487, lr=0.000072, r2=0.9757] \n",
      "Epoch 294 Validating: 100%|██████████| 10/10 [00:01<00:00,  6.55batch/s, loss_avg=-18.7343, loss_val=-18.8229, mse=0.0009, r2=0.9766, relative_error=0.3931]\n"
     ]
    },
    {
     "name": "stdout",
     "output_type": "stream",
     "text": [
      " \n"
     ]
    },
    {
     "name": "stderr",
     "output_type": "stream",
     "text": [
      "Epoch 295 Training: 100%|██████████| 176/176 [00:03<00:00, 53.74batch/s, loss=-18.6891, loss_avg=-18.6788, lr=0.000072, r2=0.9757] \n",
      "Epoch 295 Validating: 100%|██████████| 10/10 [00:01<00:00,  6.65batch/s, loss_avg=-18.6986, loss_val=-18.7723, mse=0.0008, r2=0.9765, relative_error=0.4641]\n"
     ]
    },
    {
     "name": "stdout",
     "output_type": "stream",
     "text": [
      " \n"
     ]
    },
    {
     "name": "stderr",
     "output_type": "stream",
     "text": [
      "Epoch 296 Training: 100%|██████████| 176/176 [00:03<00:00, 53.58batch/s, loss=-18.1148, loss_avg=-18.6647, lr=0.000072, r2=0.9757] \n",
      "Epoch 296 Validating: 100%|██████████| 10/10 [00:01<00:00,  6.51batch/s, loss_avg=-18.5903, loss_val=-18.6942, mse=0.0008, r2=0.9771, relative_error=0.3126]\n"
     ]
    },
    {
     "name": "stdout",
     "output_type": "stream",
     "text": [
      "Save Best model: R2:0.9771, Loss Avg:-18.5903\n"
     ]
    },
    {
     "name": "stderr",
     "output_type": "stream",
     "text": [
      "Epoch 297 Training: 100%|██████████| 176/176 [00:03<00:00, 53.80batch/s, loss=-18.6835, loss_avg=-18.6851, lr=0.000072, r2=0.9757] \n",
      "Epoch 297 Validating: 100%|██████████| 10/10 [00:01<00:00,  5.95batch/s, loss_avg=-18.6557, loss_val=-18.7468, mse=0.0008, r2=0.9766, relative_error=0.4509]\n"
     ]
    },
    {
     "name": "stdout",
     "output_type": "stream",
     "text": [
      " \n"
     ]
    },
    {
     "name": "stderr",
     "output_type": "stream",
     "text": [
      "Epoch 298 Training: 100%|██████████| 176/176 [00:03<00:00, 54.56batch/s, loss=-18.6723, loss_avg=-18.7070, lr=0.000072, r2=0.9761] \n",
      "Epoch 298 Validating: 100%|██████████| 10/10 [00:01<00:00,  6.57batch/s, loss_avg=-18.7595, loss_val=-18.8452, mse=0.0008, r2=0.9778, relative_error=0.3885]\n"
     ]
    },
    {
     "name": "stdout",
     "output_type": "stream",
     "text": [
      "Save Best model: R2:0.9778, Loss Avg:-18.7595\n"
     ]
    },
    {
     "name": "stderr",
     "output_type": "stream",
     "text": [
      "Epoch 299 Training: 100%|██████████| 176/176 [00:03<00:00, 55.23batch/s, loss=-18.5420, loss_avg=-18.6779, lr=0.000072, r2=0.9760] \n",
      "Epoch 299 Validating: 100%|██████████| 10/10 [00:01<00:00,  6.79batch/s, loss_avg=-18.7080, loss_val=-18.8010, mse=0.0008, r2=0.9770, relative_error=0.4814]\n"
     ]
    },
    {
     "name": "stdout",
     "output_type": "stream",
     "text": [
      " \n"
     ]
    },
    {
     "name": "stderr",
     "output_type": "stream",
     "text": [
      "Epoch 300 Training: 100%|██████████| 176/176 [00:03<00:00, 54.85batch/s, loss=-18.6200, loss_avg=-18.7163, lr=0.000072, r2=0.9762] \n",
      "Epoch 300 Validating: 100%|██████████| 10/10 [00:01<00:00,  6.64batch/s, loss_avg=-18.7463, loss_val=-18.8317, mse=0.0008, r2=0.9775, relative_error=0.4547]"
     ]
    },
    {
     "name": "stdout",
     "output_type": "stream",
     "text": [
      " \n"
     ]
    },
    {
     "name": "stderr",
     "output_type": "stream",
     "text": [
      "\n"
     ]
    }
   ],
   "source": [
    "t_l, v_l, val_r2, train_r2, r_e, mse = test_train.fit(t_loader, v_loader)"
   ],
   "metadata": {
    "collapsed": false,
    "pycharm": {
     "name": "#%%\n"
    }
   }
  },
  {
   "cell_type": "code",
   "execution_count": 5,
   "outputs": [
    {
     "data": {
      "text/plain": "<Figure size 432x288 with 1 Axes>",
      "image/png": "[encoded data removed]"
     },
     "metadata": {},
     "output_type": "display_data"
    }
   ],
   "source": [
    "test_train.plot_loss(t_l, v_l)\n"
   ],
   "metadata": {
    "collapsed": false,
    "pycharm": {
     "name": "#%%\n"
    }
   }
  },
  {
   "cell_type": "code",
   "execution_count": 6,
   "outputs": [],
   "source": [
    "import seaborn as sns\n",
    "import pandas as pd\n",
    "import matplotlib.pyplot as plt"
   ],
   "metadata": {
    "collapsed": false,
    "pycharm": {
     "name": "#%%\n"
    }
   }
  },
  {
   "cell_type": "code",
   "execution_count": 21,
   "outputs": [],
   "source": [
    "sns.set_style('white')"
   ],
   "metadata": {
    "collapsed": false,
    "pycharm": {
     "name": "#%%\n"
    }
   }
  },
  {
   "cell_type": "code",
   "execution_count": 35,
   "outputs": [],
   "source": [
    "def plot_line_2(y_1: str, y_2: str, df: pd.DataFrame, output_path: str, fig_size: tuple = (10, 6), dpi: int = 300):\n",
    "    \"\"\"\n",
    "    Plot Merge Line (2 Lines) using Seaborn\n",
    "    :param y_1: Name of Line 1\n",
    "    :param y_2: Name of Line 2\n",
    "    :param df: Dataframe\n",
    "    :param fig_size:\n",
    "    :param output_path:\n",
    "    :param dpi:\n",
    "    :return: Show Line picture and save to the specific location\n",
    "    \"\"\"\n",
    "    fig = plt.figure(figsize=fig_size)\n",
    "    sns.lineplot(x='epoch', y=y_1, data=df)\n",
    "    sns.lineplot(x='epoch', y=y_2, data=df)\n",
    "    plt.show()\n",
    "    fig.savefig(output_path, dpi=dpi)\n"
   ],
   "metadata": {
    "collapsed": false,
    "pycharm": {
     "name": "#%%\n"
    }
   }
  },
  {
   "cell_type": "code",
   "execution_count": 33,
   "outputs": [
    {
     "data": {
      "text/plain": "<Figure size 720x432 with 1 Axes>",
      "image/png": "[encoded data removed]"
     },
     "metadata": {},
     "output_type": "display_data"
    }
   ],
   "source": [
    "result_pd = pd.DataFrame()\n",
    "result_pd['epoch'] = range(300)\n",
    "result_pd['train_r2_avg'] = train_r2\n",
    "result_pd['val_r2_avg'] = val_r2\n",
    "\n",
    "plot_line_2(y_1='train_r2_avg', y_2='val_r2_avg', df=result_pd.iloc[20:, :], fig_size=(10, 6), output_path=\".\\\\imgs\\\\GasGiants_MDN20231118_TrainValR2.png\", dpi=300)"
   ],
   "metadata": {
    "collapsed": false,
    "pycharm": {
     "name": "#%%\n"
    }
   }
  },
  {
   "cell_type": "code",
   "execution_count": 8,
   "outputs": [
    {
     "data": {
      "text/plain": "<Figure size 432x288 with 1 Axes>",
      "image/png": "[encoded data removed]"
     },
     "metadata": {},
     "output_type": "display_data"
    }
   ],
   "source": [
    "result_pd = pd.DataFrame()\n",
    "result_pd['epoch'] = range(300)\n",
    "result_pd['mse_avg'] = mse\n",
    "sns.lineplot(x='epoch', y='mse_avg', data=result_pd)\n",
    "plt.show()"
   ],
   "metadata": {
    "collapsed": false,
    "pycharm": {
     "name": "#%%\n"
    }
   }
  },
  {
   "cell_type": "code",
   "execution_count": 36,
   "outputs": [
    {
     "data": {
      "text/plain": "<Figure size 720x432 with 1 Axes>",
      "image/png": "[encoded data removed]"
     },
     "metadata": {},
     "output_type": "display_data"
    }
   ],
   "source": [
    "result_pd = pd.DataFrame()\n",
    "result_pd['epoch'] = range(300)\n",
    "result_pd['train_loss_avg'] = t_l\n",
    "result_pd['validation_loss_avg'] = v_l\n",
    "\n",
    "plot_line_2(y_1='train_loss_avg', y_2='validation_loss_avg', df=result_pd.iloc[5:, :], output_path=\".\\\\imgs\\\\GasGiants_MDN20231118_TrainValLoss.png\")"
   ],
   "metadata": {
    "collapsed": false,
    "pycharm": {
     "name": "#%%\n"
    }
   }
  },
  {
   "cell_type": "code",
   "execution_count": 9,
   "outputs": [],
   "source": [
    "r2_distance = np.abs((np.array(train_r2) - np.array(val_r2)).mean())\n",
    "loss_distance = np.abs((np.array(t_l) - np.array(v_l)).mean())\n",
    "# loss_distance = np.abs(t_l[-1] - v_l[-1])"
   ],
   "metadata": {
    "collapsed": false,
    "pycharm": {
     "name": "#%%\n"
    }
   }
  },
  {
   "cell_type": "code",
   "execution_count": 39,
   "outputs": [],
   "source": [
    "test_x_np = test_x.numpy()\n",
    "test_y_np = test_y.numpy()"
   ],
   "metadata": {
    "collapsed": false,
    "pycharm": {
     "name": "#%%\n"
    }
   }
  },
  {
   "cell_type": "code",
   "execution_count": 40,
   "outputs": [],
   "source": [
    "np.save('D:\\\\Resource\\\\MDN\\\\TestData\\\\test_x.npy', test_x_np)\n",
    "np.save('D:\\\\Resource\\\\MDN\\\\TestData\\\\test_y.npy', test_y_np)\n",
    "np.save('D:\\\\Resource\\\\MDN\\\\TestData\\\\scaler_x.npy', s_x)\n",
    "np.save('D:\\\\Resource\\\\MDN\\\\TestData\\\\scaler_y.npy', s_y)"
   ],
   "metadata": {
    "collapsed": false,
    "pycharm": {
     "name": "#%%\n"
    }
   }
  },
  {
   "cell_type": "code",
   "execution_count": null,
   "outputs": [],
   "source": [],
   "metadata": {
    "collapsed": false,
    "pycharm": {
     "name": "#%%\n"
    }
   }
  }
 ],
 "metadata": {
  "kernelspec": {
   "display_name": "Python 3",
   "language": "python",
   "name": "python3"
  },
  "language_info": {
   "codemirror_mode": {
    "name": "ipython",
    "version": 2
   },
   "file_extension": ".py",
   "mimetype": "text/x-python",
   "name": "python",
   "nbconvert_exporter": "python",
   "pygments_lexer": "ipython2",
   "version": "2.7.6"
  }
 },
 "nbformat": 4,
 "nbformat_minor": 0
}