{
 "cells": [
  {
   "cell_type": "code",
   "execution_count": 1,
   "outputs": [],
   "source": [
    "from Rock.Train.mdnTraining import mdnTraining"
   ],
   "metadata": {
    "collapsed": false,
    "pycharm": {
     "name": "#%%\n"
    }
   }
  },
  {
   "cell_type": "code",
   "execution_count": 3,
   "outputs": [],
   "source": [
    "test_train = mdnTraining(learning_rate=0.0001984, batch_size=512, hidden_size=256, n_gaussian=5, is_gpu=True, epoch=20, split_type='2', is_normal=True)"
   ],
   "metadata": {
    "collapsed": false,
    "pycharm": {
     "name": "#%%\n"
    }
   }
  },
  {
   "cell_type": "code",
   "execution_count": 4,
   "outputs": [
    {
     "name": "stdout",
     "output_type": "stream",
     "text": [
      "module.root_layer.0.weight : torch.Size([3])\n",
      "module.root_layer.0.bias : torch.Size([3])\n",
      "module.root_layer.1.weight : torch.Size([256, 3])\n",
      "module.root_layer.1.bias : torch.Size([256])\n",
      "module.root_layer.4.weight : torch.Size([256, 256])\n",
      "module.root_layer.4.bias : torch.Size([256])\n",
      "module.root_layer.7.weight : torch.Size([256, 256])\n",
      "module.root_layer.7.bias : torch.Size([256])\n",
      "module.root_layer.10.weight : torch.Size([256, 256])\n",
      "module.root_layer.10.bias : torch.Size([256])\n",
      "module.root_layer.12.weight : torch.Size([256])\n",
      "module.root_layer.12.bias : torch.Size([256])\n",
      "module.pi.0.weight : torch.Size([256, 256])\n",
      "module.pi.0.bias : torch.Size([256])\n",
      "module.pi.2.weight : torch.Size([5, 256])\n",
      "module.pi.2.bias : torch.Size([5])\n",
      "module.normal_layer.0.weight : torch.Size([256, 256])\n",
      "module.normal_layer.0.bias : torch.Size([256])\n",
      "module.normal_layer.2.weight : torch.Size([40, 256])\n",
      "module.normal_layer.2.bias : torch.Size([40])\n"
     ]
    },
    {
     "name": "stderr",
     "output_type": "stream",
     "text": [
      "  0%|          | 0/313 [00:00<?, ?batch/s]E:\\anaconda\\envs\\deeplearning\\lib\\site-packages\\torch\\optim\\lr_scheduler.py:136: UserWarning: Detected call of `lr_scheduler.step()` before `optimizer.step()`. In PyTorch 1.1.0 and later, you should call them in the opposite order: `optimizer.step()` before `lr_scheduler.step()`.  Failure to do this will result in PyTorch skipping the first value of the learning rate schedule. See more details at https://pytorch.org/docs/stable/optim.html#how-to-adjust-learning-rate\n",
      "  \"https://pytorch.org/docs/stable/optim.html#how-to-adjust-learning-rate\", UserWarning)\n",
      "Epoch 1 Training: 100%|██████████| 313/313 [00:07<00:00, 41.42batch/s, loss=1.1123, loss_avg=1.6155, lr=0.0001]\n",
      "Epoch 1 Validating: 100%|██████████| 40/40 [00:01<00:00, 24.24batch/s, loss_avg=-0.0964, loss_val=-0.0269, r2=-38.4827]\n"
     ]
    },
    {
     "name": "stdout",
     "output_type": "stream",
     "text": [
      " \n"
     ]
    },
    {
     "name": "stderr",
     "output_type": "stream",
     "text": [
      "Epoch 2 Training: 100%|██████████| 313/313 [00:06<00:00, 51.25batch/s, loss=-0.5666, loss_avg=0.3207, lr=0.0001]\n",
      "Epoch 2 Validating: 100%|██████████| 40/40 [00:01<00:00, 22.92batch/s, loss_avg=-1.8327, loss_val=-1.5913, r2=-26.9459]\n"
     ]
    },
    {
     "name": "stdout",
     "output_type": "stream",
     "text": [
      " \n"
     ]
    },
    {
     "name": "stderr",
     "output_type": "stream",
     "text": [
      "Epoch 3 Training: 100%|██████████| 313/313 [00:06<00:00, 51.27batch/s, loss=-5.3854, loss_avg=-2.7218, lr=0.0002]\n",
      "Epoch 3 Validating: 100%|██████████| 40/40 [00:01<00:00, 24.34batch/s, loss_avg=-6.0304, loss_val=-5.8991, r2=-3.9892]\n"
     ]
    },
    {
     "name": "stdout",
     "output_type": "stream",
     "text": [
      " \n"
     ]
    },
    {
     "name": "stderr",
     "output_type": "stream",
     "text": [
      "Epoch 4 Training: 100%|██████████| 313/313 [00:06<00:00, 51.69batch/s, loss=-8.4158, loss_avg=-7.4069, lr=0.0003]\n",
      "Epoch 4 Validating: 100%|██████████| 40/40 [00:01<00:00, 23.75batch/s, loss_avg=-8.8816, loss_val=-9.1047, r2=0.4678]\n"
     ]
    },
    {
     "name": "stdout",
     "output_type": "stream",
     "text": [
      " \n"
     ]
    },
    {
     "name": "stderr",
     "output_type": "stream",
     "text": [
      "Epoch 5 Training: 100%|██████████| 313/313 [00:06<00:00, 51.33batch/s, loss=-9.5004, loss_avg=-9.0324, lr=0.0003]\n",
      "Epoch 5 Validating: 100%|██████████| 40/40 [00:01<00:00, 22.10batch/s, loss_avg=-9.3095, loss_val=-9.4580, r2=0.6550]\n"
     ]
    },
    {
     "name": "stdout",
     "output_type": "stream",
     "text": [
      " \n"
     ]
    },
    {
     "name": "stderr",
     "output_type": "stream",
     "text": [
      "Epoch 6 Training: 100%|██████████| 313/313 [00:06<00:00, 51.66batch/s, loss=-10.0158, loss_avg=-9.8058, lr=0.0003]\n",
      "Epoch 6 Validating: 100%|██████████| 40/40 [00:01<00:00, 24.75batch/s, loss_avg=-9.8884, loss_val=-9.8769, r2=0.7006] \n"
     ]
    },
    {
     "name": "stdout",
     "output_type": "stream",
     "text": [
      "Save Best model: R2:0.7006, Loss Avg:-9.8884\n"
     ]
    },
    {
     "name": "stderr",
     "output_type": "stream",
     "text": [
      "Epoch 7 Training: 100%|██████████| 313/313 [00:06<00:00, 51.23batch/s, loss=-10.5868, loss_avg=-10.3149, lr=0.0003]\n",
      "Epoch 7 Validating: 100%|██████████| 40/40 [00:01<00:00, 23.42batch/s, loss_avg=-9.2596, loss_val=-9.5523, r2=0.7100]\n"
     ]
    },
    {
     "name": "stdout",
     "output_type": "stream",
     "text": [
      "Save Best model: R2:0.7100, Loss Avg:-9.2596\n"
     ]
    },
    {
     "name": "stderr",
     "output_type": "stream",
     "text": [
      "Epoch 8 Training: 100%|██████████| 313/313 [00:06<00:00, 52.08batch/s, loss=-10.8765, loss_avg=-10.8219, lr=0.0002]\n",
      "Epoch 8 Validating: 100%|██████████| 40/40 [00:01<00:00, 24.01batch/s, loss_avg=-9.8042, loss_val=-9.9968, r2=0.7627] \n"
     ]
    },
    {
     "name": "stdout",
     "output_type": "stream",
     "text": [
      "Save Best model: R2:0.7627, Loss Avg:-9.8042\n"
     ]
    },
    {
     "name": "stderr",
     "output_type": "stream",
     "text": [
      "Epoch 9 Training: 100%|██████████| 313/313 [00:06<00:00, 51.84batch/s, loss=-11.2043, loss_avg=-11.0558, lr=0.0002]\n",
      "Epoch 9 Validating: 100%|██████████| 40/40 [00:01<00:00, 24.31batch/s, loss_avg=-9.9064, loss_val=-9.8770, r2=0.7942] \n"
     ]
    },
    {
     "name": "stdout",
     "output_type": "stream",
     "text": [
      "Save Best model: R2:0.7942, Loss Avg:-9.9064\n"
     ]
    },
    {
     "name": "stderr",
     "output_type": "stream",
     "text": [
      "Epoch 10 Training: 100%|██████████| 313/313 [00:06<00:00, 51.59batch/s, loss=-10.9242, loss_avg=-11.1768, lr=0.0002]\n",
      "Epoch 10 Validating: 100%|██████████| 40/40 [00:01<00:00, 24.64batch/s, loss_avg=-9.6420, loss_val=-9.6589, r2=0.7849]\n"
     ]
    },
    {
     "name": "stdout",
     "output_type": "stream",
     "text": [
      " \n"
     ]
    },
    {
     "name": "stderr",
     "output_type": "stream",
     "text": [
      "Epoch 11 Training: 100%|██████████| 313/313 [00:06<00:00, 51.73batch/s, loss=-11.2597, loss_avg=-11.3021, lr=0.0002]\n",
      "Epoch 11 Validating: 100%|██████████| 40/40 [00:01<00:00, 23.24batch/s, loss_avg=-9.2236, loss_val=-9.2836, r2=0.7860]\n"
     ]
    },
    {
     "name": "stdout",
     "output_type": "stream",
     "text": [
      " \n"
     ]
    },
    {
     "name": "stderr",
     "output_type": "stream",
     "text": [
      "Epoch 12 Training: 100%|██████████| 313/313 [00:06<00:00, 51.19batch/s, loss=-11.3763, loss_avg=-11.4359, lr=0.0002]\n",
      "Epoch 12 Validating: 100%|██████████| 40/40 [00:01<00:00, 23.40batch/s, loss_avg=-9.3998, loss_val=-9.4777, r2=0.7970]\n"
     ]
    },
    {
     "name": "stdout",
     "output_type": "stream",
     "text": [
      "Save Best model: R2:0.7970, Loss Avg:-9.3998\n"
     ]
    },
    {
     "name": "stderr",
     "output_type": "stream",
     "text": [
      "Epoch 13 Training: 100%|██████████| 313/313 [00:06<00:00, 51.43batch/s, loss=-11.4032, loss_avg=-11.6799, lr=0.0001]\n",
      "Epoch 13 Validating: 100%|██████████| 40/40 [00:01<00:00, 24.48batch/s, loss_avg=-9.2920, loss_val=-9.3270, r2=0.7820]\n"
     ]
    },
    {
     "name": "stdout",
     "output_type": "stream",
     "text": [
      " \n"
     ]
    },
    {
     "name": "stderr",
     "output_type": "stream",
     "text": [
      "Epoch 14 Training: 100%|██████████| 313/313 [00:06<00:00, 51.80batch/s, loss=-11.4231, loss_avg=-11.7522, lr=0.0001]\n",
      "Epoch 14 Validating: 100%|██████████| 40/40 [00:01<00:00, 24.30batch/s, loss_avg=-9.6607, loss_val=-9.6438, r2=0.8024]\n"
     ]
    },
    {
     "name": "stdout",
     "output_type": "stream",
     "text": [
      "Save Best model: R2:0.8024, Loss Avg:-9.6607\n"
     ]
    },
    {
     "name": "stderr",
     "output_type": "stream",
     "text": [
      "Epoch 15 Training: 100%|██████████| 313/313 [00:06<00:00, 50.77batch/s, loss=-11.9199, loss_avg=-11.8144, lr=0.0001]\n",
      "Epoch 15 Validating: 100%|██████████| 40/40 [00:01<00:00, 24.49batch/s, loss_avg=-9.5109, loss_val=-9.6084, r2=0.7860]\n"
     ]
    },
    {
     "name": "stdout",
     "output_type": "stream",
     "text": [
      " \n"
     ]
    },
    {
     "name": "stderr",
     "output_type": "stream",
     "text": [
      "Epoch 16 Training: 100%|██████████| 313/313 [00:06<00:00, 50.80batch/s, loss=-11.7798, loss_avg=-11.8737, lr=0.0001]\n",
      "Epoch 16 Validating: 100%|██████████| 40/40 [00:01<00:00, 23.41batch/s, loss_avg=-9.5332, loss_val=-9.3156, r2=0.7929]\n"
     ]
    },
    {
     "name": "stdout",
     "output_type": "stream",
     "text": [
      " \n"
     ]
    },
    {
     "name": "stderr",
     "output_type": "stream",
     "text": [
      "Epoch 17 Training: 100%|██████████| 313/313 [00:06<00:00, 52.07batch/s, loss=-11.9932, loss_avg=-12.0160, lr=0.0001]\n",
      "Epoch 17 Validating: 100%|██████████| 40/40 [00:01<00:00, 24.02batch/s, loss_avg=-9.8062, loss_val=-9.7205, r2=0.7985] \n"
     ]
    },
    {
     "name": "stdout",
     "output_type": "stream",
     "text": [
      " \n"
     ]
    },
    {
     "name": "stderr",
     "output_type": "stream",
     "text": [
      "Epoch 18 Training: 100%|██████████| 313/313 [00:06<00:00, 51.65batch/s, loss=-11.9261, loss_avg=-12.0491, lr=0.0001]\n",
      "Epoch 18 Validating: 100%|██████████| 40/40 [00:01<00:00, 22.16batch/s, loss_avg=-9.9610, loss_val=-9.5691, r2=0.7992] \n"
     ]
    },
    {
     "name": "stdout",
     "output_type": "stream",
     "text": [
      " \n"
     ]
    },
    {
     "name": "stderr",
     "output_type": "stream",
     "text": [
      "Epoch 19 Training: 100%|██████████| 313/313 [00:06<00:00, 51.45batch/s, loss=-12.0041, loss_avg=-12.1057, lr=0.0001]\n",
      "Epoch 19 Validating: 100%|██████████| 40/40 [00:01<00:00, 23.42batch/s, loss_avg=-9.9461, loss_val=-9.7765, r2=0.7921] \n"
     ]
    },
    {
     "name": "stdout",
     "output_type": "stream",
     "text": [
      " \n"
     ]
    },
    {
     "name": "stderr",
     "output_type": "stream",
     "text": [
      "Epoch 20 Training: 100%|██████████| 313/313 [00:06<00:00, 49.46batch/s, loss=-12.2984, loss_avg=-12.1309, lr=0.0001]\n",
      "Epoch 20 Validating: 100%|██████████| 40/40 [00:01<00:00, 23.98batch/s, loss_avg=-10.0628, loss_val=-9.9179, r2=0.8038] "
     ]
    },
    {
     "name": "stdout",
     "output_type": "stream",
     "text": [
      "Save Best model: R2:0.8038, Loss Avg:-10.0628\n"
     ]
    },
    {
     "name": "stderr",
     "output_type": "stream",
     "text": [
      "\n"
     ]
    }
   ],
   "source": [
    "t_l, v_l, r2 = test_train.fit()"
   ],
   "metadata": {
    "collapsed": false,
    "pycharm": {
     "name": "#%%\n"
    }
   }
  },
  {
   "cell_type": "code",
   "execution_count": 5,
   "outputs": [
    {
     "data": {
      "text/plain": "<Figure size 432x288 with 1 Axes>",
      "image/png": "[encoded data removed]"
     },
     "metadata": {},
     "output_type": "display_data"
    }
   ],
   "source": [
    "test_train.plot_loss(t_l, v_l)\n"
   ],
   "metadata": {
    "collapsed": false,
    "pycharm": {
     "name": "#%%\n"
    }
   }
  },
  {
   "cell_type": "code",
   "execution_count": 6,
   "outputs": [],
   "source": [
    "import seaborn as sns\n",
    "import pandas as pd\n",
    "import matplotlib.pyplot as plt"
   ],
   "metadata": {
    "collapsed": false,
    "pycharm": {
     "name": "#%%\n"
    }
   }
  },
  {
   "cell_type": "code",
   "execution_count": 8,
   "outputs": [
    {
     "data": {
      "text/plain": "<Figure size 432x288 with 1 Axes>",
      "image/png": "[encoded data removed]"
     },
     "metadata": {},
     "output_type": "display_data"
    }
   ],
   "source": [
    "result_pd = pd.DataFrame()\n",
    "result_pd['epoch'] = range(20)\n",
    "result_pd['r2_avg'] = r2\n",
    "sns.lineplot(x='epoch', y='r2_avg', data=result_pd)\n",
    "plt.show()"
   ],
   "metadata": {
    "collapsed": false,
    "pycharm": {
     "name": "#%%\n"
    }
   }
  },
  {
   "cell_type": "code",
   "execution_count": 11,
   "outputs": [
    {
     "data": {
      "text/plain": "0"
     },
     "execution_count": 11,
     "metadata": {},
     "output_type": "execute_result"
    }
   ],
   "source": [
    "\n"
   ],
   "metadata": {
    "collapsed": false,
    "pycharm": {
     "name": "#%%\n"
    }
   }
  },
  {
   "cell_type": "code",
   "execution_count": null,
   "outputs": [],
   "source": [],
   "metadata": {
    "collapsed": false,
    "pycharm": {
     "name": "#%%\n"
    }
   }
  }
 ],
 "metadata": {
  "kernelspec": {
   "display_name": "Python 3",
   "language": "python",
   "name": "python3"
  },
  "language_info": {
   "codemirror_mode": {
    "name": "ipython",
    "version": 2
   },
   "file_extension": ".py",
   "mimetype": "text/x-python",
   "name": "python",
   "nbconvert_exporter": "python",
   "pygments_lexer": "ipython2",
   "version": "2.7.6"
  }
 },
 "nbformat": 4,
 "nbformat_minor": 0
}