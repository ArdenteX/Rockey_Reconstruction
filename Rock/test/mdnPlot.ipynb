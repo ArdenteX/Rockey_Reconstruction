{
 "cells": [
  {
   "cell_type": "code",
   "execution_count": 17,
   "metadata": {
    "pycharm": {
     "name": "#%%\n"
    }
   },
   "outputs": [],
   "source": [
    "import numpy as np\n",
    "import torch\n",
    "import torch.nn as nn\n",
    "from sklearn.preprocessing import MinMaxScaler\n",
    "import pandas as pd\n",
    "from Rock.Model.MDN_From_Kaggle import mdn, Mixture\n",
    "from Rock.Utils.View import init_weights\n",
    "from sklearn.metrics import r2_score\n",
    "import math\n",
    "import matplotlib.pyplot as plt\n",
    "import matplotlib\n",
    "from matplotlib.pylab import rcParams\n",
    "%matplotlib inline"
   ]
  },
  {
   "cell_type": "code",
   "execution_count": 18,
   "metadata": {
    "pycharm": {
     "name": "#%%\n"
    }
   },
   "outputs": [],
   "source": [
    "rcParams['figure.figsize'] = 7.2, 5.4"
   ]
  },
  {
   "cell_type": "code",
   "execution_count": 3,
   "metadata": {
    "pycharm": {
     "name": "#%%\n"
    }
   },
   "outputs": [],
   "source": [
    "data = pd.read_excel('D:\\\\Resource\\\\Gas_Giants_Core_Earth20W.xlsx')\n",
    "data['M_total (M_E)'] = data['Mcore (M_J/10^3)'] + data['Menv (M_E)']\n",
    "\n",
    "input_parameters = [\n",
    "    'Mass (M_J)',\n",
    "    'Radius (R_E)',\n",
    "    'T_sur (K)',\n",
    "]\n",
    "\n",
    "output_parameters = [\n",
    "    'M_total (M_E)',\n",
    "    'T_int (K)',\n",
    "    'P_CEB (Mbar)',\n",
    "    'T_CEB (K)'\n",
    "]\n",
    "\n",
    "scaler_x = MinMaxScaler(feature_range=[0, 1])\n",
    "scaler_y = MinMaxScaler(feature_range=[0, 1])\n",
    "\n",
    "data_x_nor = pd.DataFrame(scaler_x.fit_transform(data.loc[:, input_parameters]))\n",
    "data_y_nor = pd.DataFrame(scaler_y.fit_transform(data.loc[:, output_parameters]))"
   ]
  },
  {
   "cell_type": "code",
   "execution_count": 4,
   "metadata": {
    "pycharm": {
     "name": "#%%\n"
    }
   },
   "outputs": [],
   "source": [
    "input_size = 3\n",
    "output_size = 4\n",
    "n_gaussian = 10\n",
    "hidden_size = 128\n",
    "\n",
    "mixture = Mixture()\n",
    "\n",
    "model = mdn(input_size, output_size, n_gaussian, hidden_size)\n",
    "init_weights(model)\n",
    "model = nn.DataParallel(model)\n",
    "model.to(\"cuda\")\n",
    "model.load_state_dict(torch.load(\"D:\\\\Resource\\\\MDN\\\\model_best_mdn_normalization_4060Ti_0.97_0.0008.pth\"))\n",
    "\n",
    "test_x = np.load(\"D:\\\\Resource\\\\MDN\\\\TestData\\\\test_x.npy\")\n",
    "test_y = np.load(\"D:\\\\Resource\\\\MDN\\\\TestData\\\\test_y.npy\")\n",
    "y_label = np.arange(0, 1, 0.001).reshape(-1, 1)\n",
    "\n",
    "model.eval()\n",
    "# Predict\n",
    "pi, mu, sigma = model(torch.from_numpy(test_x))\n",
    "\n",
    "# Construct Distribution Function\n",
    "normal, pi_idx, mu_selected, sigma_selected = mixture(pi, mu, sigma, 'test')"
   ]
  },
  {
   "cell_type": "code",
   "execution_count": 5,
   "metadata": {
    "pycharm": {
     "name": "#%%\n"
    }
   },
   "outputs": [],
   "source": [
    "samples = normal.sample()"
   ]
  },
  {
   "cell_type": "code",
   "execution_count": 6,
   "metadata": {
    "pycharm": {
     "name": "#%%\n"
    }
   },
   "outputs": [],
   "source": [
    "pis = pi[torch.arange(pi.shape[0]), pi_idx].detach().cpu().numpy()\n",
    "mus = mu_selected.detach().cpu().numpy()\n",
    "sigmas = sigma_selected.detach().cpu().numpy()"
   ]
  },
  {
   "cell_type": "code",
   "execution_count": 27,
   "metadata": {
    "pycharm": {
     "name": "#%%\n"
    }
   },
   "outputs": [],
   "source": [
    "# Fixed Begin\n",
    "factors = 1 / math.sqrt(2 * math.pi) / sigmas[:, 0]\n",
    "exponent = np.exp(-1 / 2 * np.square((y_label - mus[:, 0]) / sigmas[:, 0]))\n",
    "GMM_PDF = pis * factors * exponent\n",
    "GMM_PDF_reshape = GMM_PDF.T\n",
    "MM = MinMaxScaler(feature_range=[0, 1])\n",
    "GMM_PDF_scaled = MM.fit_transform(GMM_PDF_reshape)\n",
    "# Fix End"
   ]
  },
  {
   "cell_type": "code",
   "execution_count": 8,
   "metadata": {
    "pycharm": {
     "name": "#%%\n"
    }
   },
   "outputs": [],
   "source": [
    "test_y_inverse = scaler_y.inverse_transform(test_y)"
   ]
  },
  {
   "cell_type": "code",
   "execution_count": 28,
   "outputs": [],
   "source": [
    "cmap = plt.cm.hot_r\n",
    "norm = matplotlib.colors.Normalize(vmin=0, vmax=1)"
   ],
   "metadata": {
    "collapsed": false,
    "pycharm": {
     "name": "#%%\n"
    }
   }
  },
  {
   "cell_type": "code",
   "execution_count": 29,
   "outputs": [
    {
     "data": {
      "text/plain": "<Figure size 720x720 with 0 Axes>"
     },
     "metadata": {},
     "output_type": "display_data"
    }
   ],
   "source": [],
   "metadata": {
    "collapsed": false,
    "pycharm": {
     "name": "#%%\n"
    }
   }
  },
  {
   "cell_type": "code",
   "execution_count": 31,
   "outputs": [
    {
     "data": {
      "text/plain": "(9.2962, 1060.2584)"
     },
     "execution_count": 31,
     "metadata": {},
     "output_type": "execute_result"
    },
    {
     "data": {
      "text/plain": "<Figure size 720x720 with 1 Axes>",
      "image/png": "[encoded data removed]"
     },
     "metadata": {
      "needs_background": "light"
     },
     "output_type": "display_data"
    }
   ],
   "source": [
    "fig = plt.figure(figsize=(10, 10))\n",
    "y = test_y_inverse[:, 0]\n",
    "y_max_2 = max(y)\n",
    "y_min_2 = min(y)\n",
    "ax = fig.add_subplot(2, 2, 0 + 1)\n",
    "for i in range(len(test_y_inverse)):\n",
    "    tx = test_y_inverse[i, 0]\n",
    "    ax.imshow(\n",
    "        GMM_PDF_scaled[i, :].reshape(-1, 1),\n",
    "        cmap=cmap,\n",
    "        norm=norm,\n",
    "        origin='lower',\n",
    "        extent=(tx, tx + 0.5, y_min_2, y_max_2)\n",
    "    )\n",
    "ax.plot([y_min_2, y_max_2], [y_min_2, y_max_2], c='cornflowerblue', ls='--')\n",
    "\n",
    "plt.axis('square')\n",
    "ax.set_xlim(y_min_2, y_max_2)\n",
    "ax.set_ylim(y_min_2, y_max_2)\n",
    "# plt.show()"
   ],
   "metadata": {
    "collapsed": false,
    "pycharm": {
     "name": "#%%\n"
    }
   }
  },
  {
   "cell_type": "code",
   "execution_count": null,
   "metadata": {
    "pycharm": {
     "name": "#%%\n"
    }
   },
   "outputs": [],
   "source": []
  }
 ],
 "metadata": {
  "kernelspec": {
   "display_name": "Python 3 (ipykernel)",
   "language": "python",
   "name": "python3"
  },
  "language_info": {
   "codemirror_mode": {
    "name": "ipython",
    "version": 3
   },
   "file_extension": ".py",
   "mimetype": "text/x-python",
   "name": "python",
   "nbconvert_exporter": "python",
   "pygments_lexer": "ipython3",
   "version": "3.7.1"
  }
 },
 "nbformat": 4,
 "nbformat_minor": 1
}