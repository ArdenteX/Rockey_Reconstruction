{
 "cells": [
  {
   "cell_type": "code",
   "execution_count": 17,
   "metadata": {
    "pycharm": {
     "name": "#%%\n"
    }
   },
   "outputs": [],
   "source": [
    "import numpy as np\n",
    "from sklearn.metrics import r2_score\n",
    "from sklearn.model_selection import train_test_split\n",
    "from sklearn.preprocessing import MinMaxScaler\n",
    "import pandas as pd\n",
    "import mdn\n",
    "import os\n",
    "import tensorflow.keras as keras\n"
   ]
  },
  {
   "cell_type": "code",
   "execution_count": 2,
   "outputs": [],
   "source": [
    "N_HIDDEN, N_MIXES = 512, 20  # N_MIXES is the number of mixtures\n",
    "np.random.seed(123)"
   ],
   "metadata": {
    "collapsed": false,
    "pycharm": {
     "name": "#%%\n"
    }
   }
  },
  {
   "cell_type": "code",
   "execution_count": 3,
   "outputs": [],
   "source": [
    "file_path = 'D:\\\\Resource\\\\MRCK_2\\\\'\n",
    "nowater_data_frames = []\n",
    "\n",
    "file_nowater = os.listdir(file_path + 'nowater')\n",
    "for f in file_nowater:\n",
    "    tmp = pd.read_table(file_path + '\\\\' + 'nowater\\\\' + f, delimiter=\"\\s+\", header=None)\n",
    "    nowater_data_frames.append(tmp)\n",
    "\n",
    "df_nowater = pd.concat(nowater_data_frames)\n",
    "\n",
    "\n",
    "file_water = os.listdir(file_path + 'water')\n",
    "water_data_frames = []\n",
    "for f in file_water:\n",
    "    tmp = pd.read_table(file_path + '\\\\' + 'water\\\\' + f, delimiter=\"\\s+\", header=None)\n",
    "    water_data_frames.append(tmp)\n",
    "\n",
    "df_water = pd.concat(water_data_frames)\n",
    "\n",
    "\n",
    "# combine merged nowater and water data\n",
    "df_all = pd.concat([df_nowater, df_water])\n",
    "\n",
    "# rename columns\n",
    "df_all.columns = ['Mass', 'Radius', 'WMF',\n",
    "                  'CMF', 'WRF', 'CRF', 'PRS_WMB',\n",
    "                  'TEP_WMB', 'PRS_CMB', 'TEP_CMB', 'PRS_CEN', 'TEP_CEN',\n",
    "                  'k2', 'FeMg_mantle', 'SiMg_mantle', 'FeO_mantle']\n",
    "\n",
    "# reset index\n",
    "df_all = df_all.reset_index(drop=True)\n",
    "\n",
    "df_all = df_all.astype(float)\n",
    "\n",
    "CaMg = 0.06\n",
    "AlMg = 0.08\n",
    "wt_frac_S_core = 0.0695     # by mass\n",
    "\n",
    "mFe = 55.845\n",
    "mMg = 24.306\n",
    "mSi = 28.0867\n",
    "mO = 15.9994\n",
    "mS = 32.0650\n",
    "mCa = 40.078\n",
    "mAl = 26.981\n",
    "\n",
    "# you can check the FeO_mantle results from the mantle molar ratios FeMg, SiMg, CaMg, AlMg\n",
    "# The results should be same as the column FeO_mantle\n",
    "reduced_mantle_mass = df_all['FeMg_mantle'] * (mFe+mO) + df_all['SiMg_mantle'] * (mSi+2.0*mO) + CaMg * (mCa+mO) + AlMg * (mAl+1.5*mO) + (mMg+mO)\n",
    "FeO_mantle_cal = df_all['FeMg_mantle'] * (mFe+mO) / reduced_mantle_mass\n",
    "\n",
    "# number of Fe atoms in the core\n",
    "nFe_core = df_all['CMF'] * (1.0 - wt_frac_S_core) / mFe\n",
    "\n",
    "# number of Fe atoms in the mantle\n",
    "nFe_mantle = (1.0 - df_all['CMF'] - df_all['WMF']) * df_all['FeO_mantle'] / (mFe + mO)\n",
    "\n",
    "# number of Mg atoms in the mantle\n",
    "nMg_mantle = nFe_mantle / df_all['FeMg_mantle']\n",
    "\n",
    "# bulk FeMg\n",
    "FeMg = (nFe_core + nFe_mantle) / nMg_mantle\n",
    "df_all['FeMg'] = FeMg\n",
    "\n",
    "# bulk SiMg: there is no Si & Mg in the core\n",
    "df_all['SiMg'] = df_all['SiMg_mantle']\n",
    "\n",
    "df_all = df_all[df_all['FeMg']<=40]\n",
    "\n",
    "df_all[\"Fe_(Mg+Si)\"] = df_all[\"FeMg\"]/(df_all[\"SiMg\"] + 1)\n",
    "\n",
    "df_all[\"MRF\"] = 1 - df_all[\"WRF\"] - df_all[\"CRF\"]"
   ],
   "metadata": {
    "collapsed": false,
    "pycharm": {
     "name": "#%%\n"
    }
   }
  },
  {
   "cell_type": "code",
   "execution_count": 4,
   "outputs": [],
   "source": [
    "input_parameters = [\n",
    "    'Mass',\n",
    "    'Radius',\n",
    "    'Fe_(Mg+Si)',\n",
    "    'k2',\n",
    "]\n",
    "\n",
    "\n",
    "output_parameters = [\n",
    "    'WRF',\n",
    "    'MRF',\n",
    "    'CRF',\n",
    "#     'WMF',\n",
    "    'CMF',\n",
    "    'PRS_CMB',\n",
    "    'TEP_CMB',\n",
    "]\n",
    "\n",
    "X = df_all[input_parameters]\n",
    "\n",
    "y = df_all.loc[:, output_parameters]\n",
    "\n",
    "\n",
    "X_train, X_test, y_train, y_test = train_test_split(X, y, test_size=0.1)\n",
    "\n",
    "scaler_x = MinMaxScaler().fit(X_train)\n",
    "scaler_y = MinMaxScaler().fit(y_train)\n",
    "# import joblib\n",
    "# joblib.dump(scaler_x, \"MDN_MRCk2_Xscaler_20230524.save\")\n",
    "# joblib.dump(scaler_y, \"MDN_MRCk2_yscaler_20230524.save\")\n",
    "# from pickle import dump\n",
    "# save the scaler\n",
    "# dump(scaler, open('scaler.pkl', 'wb'))\n",
    "X_train_scaled = scaler_x.transform(X_train)\n",
    "X_test_scaled = scaler_x.transform(X_test)\n",
    "y_train_scaled = scaler_y.transform(y_train)\n",
    "y_test_scaled = scaler_y.transform(y_test)\n",
    "\n",
    "a, X_test_scaled_pre, b, y_test_pre = train_test_split(X_test_scaled, y_test, test_size=0.2)"
   ],
   "metadata": {
    "collapsed": false,
    "pycharm": {
     "name": "#%%\n"
    }
   }
  },
  {
   "cell_type": "code",
   "execution_count": 8,
   "outputs": [],
   "source": [
    "OUTPUT_DIMS = len(output_parameters)"
   ],
   "metadata": {
    "collapsed": false,
    "pycharm": {
     "name": "#%%\n"
    }
   }
  },
  {
   "cell_type": "code",
   "execution_count": 12,
   "metadata": {
    "pycharm": {
     "name": "#%%\n"
    }
   },
   "outputs": [],
   "source": [
    "m_2 = keras.models.load_model('D:\\\\Resource\\\\MDN\\\\TensorflowVersion\\\\model_b.h5', custom_objects={'MDN': mdn.MDN, 'mdn_loss_func': mdn.get_mixture_loss_func(1, N_MIXES)})"
   ]
  },
  {
   "cell_type": "code",
   "execution_count": 13,
   "outputs": [
    {
     "name": "stdout",
     "output_type": "stream",
     "text": [
      "Model: \"sequential\"\n",
      "_________________________________________________________________\n",
      "Layer (type)                 Output Shape              Param #   \n",
      "=================================================================\n",
      "dense (Dense)                (None, 512)               2560      \n",
      "_________________________________________________________________\n",
      "activation (Activation)      (None, 512)               0         \n",
      "_________________________________________________________________\n",
      "dropout (Dropout)            (None, 512)               0         \n",
      "_________________________________________________________________\n",
      "dense_1 (Dense)              (None, 512)               262656    \n",
      "_________________________________________________________________\n",
      "activation_1 (Activation)    (None, 512)               0         \n",
      "_________________________________________________________________\n",
      "dropout_1 (Dropout)          (None, 512)               0         \n",
      "_________________________________________________________________\n",
      "dense_2 (Dense)              (None, 512)               262656    \n",
      "_________________________________________________________________\n",
      "activation_2 (Activation)    (None, 512)               0         \n",
      "_________________________________________________________________\n",
      "dropout_2 (Dropout)          (None, 512)               0         \n",
      "_________________________________________________________________\n",
      "mdn_outputs (MDN)            (None, 260)               133380    \n",
      "=================================================================\n",
      "Total params: 661,252\n",
      "Trainable params: 661,252\n",
      "Non-trainable params: 0\n",
      "_________________________________________________________________\n"
     ]
    }
   ],
   "source": [
    "m_2.summary()"
   ],
   "metadata": {
    "collapsed": false,
    "pycharm": {
     "name": "#%%\n"
    }
   }
  },
  {
   "cell_type": "code",
   "execution_count": 14,
   "outputs": [],
   "source": [
    "pred = m_2.predict(X_test_scaled_pre)"
   ],
   "metadata": {
    "collapsed": false,
    "pycharm": {
     "name": "#%%\n"
    }
   }
  },
  {
   "cell_type": "code",
   "execution_count": 15,
   "outputs": [],
   "source": [
    "sample_function = mdn.get_mixture_sampling_fun(OUTPUT_DIMS, N_MIXES)\n",
    "mse_function = mdn.get_mixture_mse_accuracy(OUTPUT_DIMS, N_MIXES)"
   ],
   "metadata": {
    "collapsed": false,
    "pycharm": {
     "name": "#%%\n"
    }
   }
  },
  {
   "cell_type": "code",
   "execution_count": 19,
   "outputs": [
    {
     "data": {
      "text/plain": "-16.144677978105218"
     },
     "execution_count": 19,
     "metadata": {},
     "output_type": "execute_result"
    }
   ],
   "source": [
    "samples = sample_function(pred)\n",
    "r2_score(y_test_pre, samples)"
   ],
   "metadata": {
    "collapsed": false,
    "pycharm": {
     "name": "#%%\n"
    }
   }
  },
  {
   "cell_type": "code",
   "execution_count": null,
   "outputs": [],
   "source": [],
   "metadata": {
    "collapsed": false,
    "pycharm": {
     "name": "#%%\n"
    }
   }
  }
 ],
 "metadata": {
  "kernelspec": {
   "display_name": "Python 3 (ipykernel)",
   "language": "python",
   "name": "python3"
  },
  "language_info": {
   "codemirror_mode": {
    "name": "ipython",
    "version": 3
   },
   "file_extension": ".py",
   "mimetype": "text/x-python",
   "name": "python",
   "nbconvert_exporter": "python",
   "pygments_lexer": "ipython3",
   "version": "3.7.1"
  }
 },
 "nbformat": 4,
 "nbformat_minor": 1
}