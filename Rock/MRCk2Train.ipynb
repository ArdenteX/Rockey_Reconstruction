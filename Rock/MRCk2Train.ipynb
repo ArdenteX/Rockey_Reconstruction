{
 "cells": [
  {
   "cell_type": "code",
   "execution_count": 3,
   "metadata": {
    "pycharm": {
     "name": "#%%\n"
    }
   },
   "outputs": [],
   "source": [
    "from TorchLoop import Train\n",
    "import pandas as pd\n",
    "import os\n",
    "import numpy as np\n",
    "from Rock.Model.MDN_From_Kaggle import mdn as mdn_advance, Mixture, NLLLoss\n",
    "import joblib\n"
   ]
  },
  {
   "cell_type": "code",
   "execution_count": 2,
   "metadata": {
    "pycharm": {
     "name": "#%%\n"
    }
   },
   "outputs": [],
   "source": [
    "input_parameters = [\n",
    "    'Mass',\n",
    "    'Radius',\n",
    "    'Fe_(Mg+Si)',\n",
    "    'k2',\n",
    "]\n",
    "\n",
    "\n",
    "output_parameters = [\n",
    "    'WRF',\n",
    "    'MRF',\n",
    "    'CRF',\n",
    "    'CMF',\n",
    "    'PRS_CMB',\n",
    "    'TEP_CMB',\n",
    "]"
   ]
  },
  {
   "cell_type": "code",
   "execution_count": 3,
   "metadata": {
    "pycharm": {
     "name": "#%%\n"
    }
   },
   "outputs": [
    {
     "name": "stdout",
     "output_type": "stream",
     "text": [
      "Batch size: 1024, Learning rate:0.0001984, is GPU: True\n"
     ]
    }
   ],
   "source": [
    "loop = Train.TorchLoop(batch_size=1024, learning_rate=0.0001984, epoch=150, weight_decay=0.001)"
   ]
  },
  {
   "cell_type": "code",
   "execution_count": 4,
   "metadata": {
    "pycharm": {
     "name": "#%%\n"
    }
   },
   "outputs": [],
   "source": [
    "model = mdn_advance(len(input_parameters), len(output_parameters), 10, 256)\n",
    "criterion = NLLLoss()\n",
    "pdf = Mixture()"
   ]
  },
  {
   "cell_type": "code",
   "execution_count": 5,
   "metadata": {
    "pycharm": {
     "name": "#%%\n"
    }
   },
   "outputs": [],
   "source": [
    "file_path = 'D:\\\\Resource\\\\MRCK_2\\\\'\n",
    "nowater_data_frames = []\n",
    "\n",
    "file_nowater = os.listdir(file_path + 'nowater')\n",
    "for f in file_nowater:\n",
    "    tmp = pd.read_table(file_path + '\\\\' + 'nowater\\\\' + f, delimiter=\"\\s+\", header=None)\n",
    "    nowater_data_frames.append(tmp)\n",
    "\n",
    "df_nowater = pd.concat(nowater_data_frames)\n",
    "\n",
    "\n",
    "file_water = os.listdir(file_path + 'water')\n",
    "water_data_frames = []\n",
    "for f in file_water:\n",
    "    tmp = pd.read_table(file_path + '\\\\' + 'water\\\\' + f, delimiter=\"\\s+\", header=None)\n",
    "    water_data_frames.append(tmp)\n",
    "\n",
    "df_water = pd.concat(water_data_frames)\n",
    "\n",
    "\n",
    "# combine merged nowater and water data\n",
    "df_all = pd.concat([df_nowater, df_water])\n",
    "\n",
    "# rename columns\n",
    "df_all.columns = ['Mass', 'Radius', 'WMF',\n",
    "                  'CMF', 'WRF', 'CRF', 'PRS_WMB',\n",
    "                  'TEP_WMB', 'PRS_CMB', 'TEP_CMB', 'PRS_CEN', 'TEP_CEN',\n",
    "                  'k2', 'FeMg_mantle', 'SiMg_mantle', 'FeO_mantle']\n",
    "\n",
    "# reset index\n",
    "df_all = df_all.reset_index(drop=True)\n",
    "\n",
    "df_all = df_all.astype(float)\n",
    "\n",
    "CaMg = 0.06\n",
    "AlMg = 0.08\n",
    "wt_frac_S_core = 0.0695     # by mass\n",
    "\n",
    "mFe = 55.845\n",
    "mMg = 24.306\n",
    "mSi = 28.0867\n",
    "mO = 15.9994\n",
    "mS = 32.0650\n",
    "mCa = 40.078\n",
    "mAl = 26.981\n",
    "\n",
    "# you can check the FeO_mantle results from the mantle molar ratios FeMg, SiMg, CaMg, AlMg\n",
    "# The results should be same as the column FeO_mantle\n",
    "reduced_mantle_mass = df_all['FeMg_mantle'] * (mFe+mO) + df_all['SiMg_mantle'] * (mSi+2.0*mO) + CaMg * (mCa+mO) + AlMg * (mAl+1.5*mO) + (mMg+mO)\n",
    "FeO_mantle_cal = df_all['FeMg_mantle'] * (mFe+mO) / reduced_mantle_mass\n",
    "\n",
    "# number of Fe atoms in the core\n",
    "nFe_core = df_all['CMF'] * (1.0 - wt_frac_S_core) / mFe\n",
    "\n",
    "# number of Fe atoms in the mantle\n",
    "nFe_mantle = (1.0 - df_all['CMF'] - df_all['WMF']) * df_all['FeO_mantle'] / (mFe + mO)\n",
    "\n",
    "# number of Mg atoms in the mantle\n",
    "nMg_mantle = nFe_mantle / df_all['FeMg_mantle']\n",
    "\n",
    "# bulk FeMg\n",
    "FeMg = (nFe_core + nFe_mantle) / nMg_mantle\n",
    "df_all['FeMg'] = FeMg\n",
    "\n",
    "# bulk SiMg: there is no Si & Mg in the core\n",
    "df_all['SiMg'] = df_all['SiMg_mantle']\n",
    "\n",
    "df_all = df_all[df_all['FeMg']<=40]\n",
    "\n",
    "df_all[\"Fe_(Mg+Si)\"] = df_all[\"FeMg\"]/(df_all[\"SiMg\"] + 1)\n",
    "\n",
    "df_all[\"MRF\"] = 1 - df_all[\"WRF\"] - df_all[\"CRF\"]"
   ]
  },
  {
   "cell_type": "code",
   "execution_count": 6,
   "metadata": {
    "pycharm": {
     "name": "#%%\n"
    }
   },
   "outputs": [],
   "source": [
    "t_loader, v_loader, test_x, test_y, s_x, s_y = loop.load_data(df_all, input_parameters, output_parameters, train_size=0.9, val_size=0.05, test_size= 0.05)"
   ]
  },
  {
   "cell_type": "code",
   "execution_count": 8,
   "metadata": {
    "pycharm": {
     "name": "#%%\n"
    }
   },
   "outputs": [
    {
     "name": "stdout",
     "output_type": "stream",
     "text": [
      "module.root_layer.0.weight : torch.Size([256, 4])\n",
      "module.root_layer.0.bias : torch.Size([256])\n",
      "module.root_layer.2.weight : torch.Size([256, 256])\n",
      "module.root_layer.2.bias : torch.Size([256])\n",
      "module.root_layer.4.weight : torch.Size([256, 256])\n",
      "module.root_layer.4.bias : torch.Size([256])\n",
      "module.pi.0.weight : torch.Size([256, 256])\n",
      "module.pi.0.bias : torch.Size([256])\n",
      "module.pi.2.weight : torch.Size([10, 256])\n",
      "module.pi.2.bias : torch.Size([10])\n",
      "module.mu.0.weight : torch.Size([256, 256])\n",
      "module.mu.0.bias : torch.Size([256])\n",
      "module.mu.2.weight : torch.Size([60, 256])\n",
      "module.mu.2.bias : torch.Size([60])\n",
      "module.sigma.0.weight : torch.Size([256, 256])\n",
      "module.sigma.0.bias : torch.Size([256])\n",
      "module.sigma.2.weight : torch.Size([60, 256])\n",
      "module.sigma.2.bias : torch.Size([60])\n"
     ]
    },
    {
     "name": "stderr",
     "output_type": "stream",
     "text": [
      "  0%|          | 0/3830 [00:00<?, ?batch/s]E:\\anaconda\\envs\\deeplearning\\lib\\site-packages\\torch\\optim\\lr_scheduler.py:136: UserWarning: Detected call of `lr_scheduler.step()` before `optimizer.step()`. In PyTorch 1.1.0 and later, you should call them in the opposite order: `optimizer.step()` before `lr_scheduler.step()`.  Failure to do this will result in PyTorch skipping the first value of the learning rate schedule. See more details at https://pytorch.org/docs/stable/optim.html#how-to-adjust-learning-rate\n",
      "  \"https://pytorch.org/docs/stable/optim.html#how-to-adjust-learning-rate\", UserWarning)\n",
      "Epoch 1 Training: 100%|██████████| 3830/3830 [01:03<00:00, 60.68batch/s, loss=-16.8873, loss_avg=-10.0933, lr=0.000040, r2=-5.9322]\n",
      "Epoch 1 Validating: 100%|██████████| 213/213 [00:03<00:00, 65.65batch/s, loss_avg=-16.7610, loss_val=-16.7096, mse=0.0309, r2=0.3984] \n"
     ]
    },
    {
     "name": "stdout",
     "output_type": "stream",
     "text": [
      " \n"
     ]
    },
    {
     "name": "stderr",
     "output_type": "stream",
     "text": [
      "Epoch 2 Training: 100%|██████████| 3830/3830 [01:00<00:00, 63.60batch/s, loss=-20.4854, loss_avg=-19.1565, lr=0.000079, r2=0.7023]\n",
      "Epoch 2 Validating: 100%|██████████| 213/213 [00:03<00:00, 66.33batch/s, loss_avg=-20.4007, loss_val=-20.4276, mse=0.0105, r2=0.7941] \n"
     ]
    },
    {
     "name": "stdout",
     "output_type": "stream",
     "text": [
      " \n"
     ]
    },
    {
     "name": "stderr",
     "output_type": "stream",
     "text": [
      "Epoch 3 Training: 100%|██████████| 3830/3830 [00:59<00:00, 63.88batch/s, loss=-21.8709, loss_avg=-21.1197, lr=0.000119, r2=0.8356]\n",
      "Epoch 3 Validating: 100%|██████████| 213/213 [00:02<00:00, 72.72batch/s, loss_avg=-21.7531, loss_val=-21.7226, mse=0.0068, r2=0.8646] \n"
     ]
    },
    {
     "name": "stdout",
     "output_type": "stream",
     "text": [
      " \n"
     ]
    },
    {
     "name": "stderr",
     "output_type": "stream",
     "text": [
      "Epoch 4 Training: 100%|██████████| 3830/3830 [01:15<00:00, 51.02batch/s, loss=-22.9563, loss_avg=-22.4262, lr=0.000159, r2=0.8786]\n",
      "Epoch 4 Validating: 100%|██████████| 213/213 [00:03<00:00, 54.20batch/s, loss_avg=-22.8992, loss_val=-22.9292, mse=0.0056, r2=0.8870] \n"
     ]
    },
    {
     "name": "stdout",
     "output_type": "stream",
     "text": [
      " \n"
     ]
    },
    {
     "name": "stderr",
     "output_type": "stream",
     "text": [
      "Epoch 5 Training: 100%|██████████| 3830/3830 [01:23<00:00, 45.95batch/s, loss=-23.6670, loss_avg=-23.1882, lr=0.000198, r2=0.8930]\n",
      "Epoch 5 Validating: 100%|██████████| 213/213 [00:03<00:00, 68.21batch/s, loss_avg=-23.5602, loss_val=-23.6101, mse=0.0049, r2=0.9014] \n"
     ]
    },
    {
     "name": "stdout",
     "output_type": "stream",
     "text": [
      " \n"
     ]
    },
    {
     "name": "stderr",
     "output_type": "stream",
     "text": [
      "Epoch 6 Training: 100%|██████████| 3830/3830 [00:59<00:00, 63.87batch/s, loss=-23.8008, loss_avg=-23.6830, lr=0.000238, r2=0.9093]\n",
      "Epoch 6 Validating: 100%|██████████| 213/213 [00:02<00:00, 73.95batch/s, loss_avg=-23.8842, loss_val=-23.8776, mse=0.0042, r2=0.9154] \n"
     ]
    },
    {
     "name": "stdout",
     "output_type": "stream",
     "text": [
      "Save Best model: R2:0.9154, Loss Avg:-23.8842\n"
     ]
    },
    {
     "name": "stderr",
     "output_type": "stream",
     "text": [
      "Epoch 7 Training: 100%|██████████| 3830/3830 [01:05<00:00, 58.50batch/s, loss=-23.9907, loss_avg=-24.1421, lr=0.000238, r2=0.9240]\n",
      "Epoch 7 Validating: 100%|██████████| 213/213 [00:04<00:00, 51.77batch/s, loss_avg=-24.3877, loss_val=-24.2871, mse=0.0035, r2=0.9274] \n"
     ]
    },
    {
     "name": "stdout",
     "output_type": "stream",
     "text": [
      "Save Best model: R2:0.9274, Loss Avg:-24.3877\n"
     ]
    },
    {
     "name": "stderr",
     "output_type": "stream",
     "text": [
      "Epoch 8 Training: 100%|██████████| 3830/3830 [01:18<00:00, 48.51batch/s, loss=-24.8454, loss_avg=-24.6853, lr=0.000238, r2=0.9385]\n",
      "Epoch 8 Validating: 100%|██████████| 213/213 [00:03<00:00, 58.83batch/s, loss_avg=-24.9195, loss_val=-24.8704, mse=0.0025, r2=0.9477] \n"
     ]
    },
    {
     "name": "stdout",
     "output_type": "stream",
     "text": [
      "Save Best model: R2:0.9477, Loss Avg:-24.9195\n"
     ]
    },
    {
     "name": "stderr",
     "output_type": "stream",
     "text": [
      "Epoch 9 Training: 100%|██████████| 3830/3830 [01:18<00:00, 48.72batch/s, loss=-25.9958, loss_avg=-25.3066, lr=0.000238, r2=0.9549]\n",
      "Epoch 9 Validating: 100%|██████████| 213/213 [00:03<00:00, 59.47batch/s, loss_avg=-25.9489, loss_val=-25.8916, mse=0.0018, r2=0.9623] \n"
     ]
    },
    {
     "name": "stdout",
     "output_type": "stream",
     "text": [
      "Save Best model: R2:0.9623, Loss Avg:-25.9489\n"
     ]
    },
    {
     "name": "stderr",
     "output_type": "stream",
     "text": [
      "Epoch 10 Training: 100%|██████████| 3830/3830 [01:19<00:00, 48.48batch/s, loss=-23.1617, loss_avg=-25.8640, lr=0.000238, r2=0.9655]\n",
      "Epoch 10 Validating: 100%|██████████| 213/213 [00:03<00:00, 59.72batch/s, loss_avg=-24.4534, loss_val=-24.4288, mse=0.0015, r2=0.9673] \n"
     ]
    },
    {
     "name": "stdout",
     "output_type": "stream",
     "text": [
      "Save Best model: R2:0.9673, Loss Avg:-24.4534\n"
     ]
    },
    {
     "name": "stderr",
     "output_type": "stream",
     "text": [
      "Epoch 11 Training: 100%|██████████| 3830/3830 [01:18<00:00, 48.49batch/s, loss=-27.0903, loss_avg=-26.0533, lr=0.000238, r2=0.9705]\n",
      "Epoch 11 Validating: 100%|██████████| 213/213 [00:03<00:00, 58.53batch/s, loss_avg=-26.1376, loss_val=-26.0828, mse=0.0013, r2=0.9724] \n"
     ]
    },
    {
     "name": "stdout",
     "output_type": "stream",
     "text": [
      "Save Best model: R2:0.9724, Loss Avg:-26.1376\n"
     ]
    },
    {
     "name": "stderr",
     "output_type": "stream",
     "text": [
      "Epoch 12 Training: 100%|██████████| 3830/3830 [01:18<00:00, 48.73batch/s, loss=-26.4147, loss_avg=-26.1551, lr=0.000238, r2=0.9735]\n",
      "Epoch 12 Validating: 100%|██████████| 213/213 [00:03<00:00, 59.88batch/s, loss_avg=-25.1987, loss_val=-25.1157, mse=0.0012, r2=0.9746] \n"
     ]
    },
    {
     "name": "stdout",
     "output_type": "stream",
     "text": [
      "Save Best model: R2:0.9746, Loss Avg:-25.1987\n"
     ]
    },
    {
     "name": "stderr",
     "output_type": "stream",
     "text": [
      "Epoch 13 Training: 100%|██████████| 3830/3830 [01:18<00:00, 48.81batch/s, loss=-27.6857, loss_avg=-26.5471, lr=0.000238, r2=0.9762]\n",
      "Epoch 13 Validating: 100%|██████████| 213/213 [00:03<00:00, 60.35batch/s, loss_avg=-26.3115, loss_val=-26.3402, mse=0.0011, r2=0.9766] \n"
     ]
    },
    {
     "name": "stdout",
     "output_type": "stream",
     "text": [
      "Save Best model: R2:0.9766, Loss Avg:-26.3115\n"
     ]
    },
    {
     "name": "stderr",
     "output_type": "stream",
     "text": [
      "Epoch 14 Training: 100%|██████████| 3830/3830 [01:18<00:00, 48.93batch/s, loss=-28.2860, loss_avg=-27.0375, lr=0.000238, r2=0.9783]\n",
      "Epoch 14 Validating: 100%|██████████| 213/213 [00:03<00:00, 58.97batch/s, loss_avg=-27.9895, loss_val=-27.9509, mse=0.0009, r2=0.9797] \n"
     ]
    },
    {
     "name": "stdout",
     "output_type": "stream",
     "text": [
      "Save Best model: R2:0.9797, Loss Avg:-27.9895\n"
     ]
    },
    {
     "name": "stderr",
     "output_type": "stream",
     "text": [
      "Epoch 15 Training: 100%|██████████| 3830/3830 [01:08<00:00, 55.65batch/s, loss=-26.3689, loss_avg=-27.1460, lr=0.000238, r2=0.9798]\n",
      "Epoch 15 Validating: 100%|██████████| 213/213 [00:04<00:00, 52.85batch/s, loss_avg=-25.8765, loss_val=-25.8437, mse=0.0010, r2=0.9786] \n"
     ]
    },
    {
     "name": "stdout",
     "output_type": "stream",
     "text": [
      " \n"
     ]
    },
    {
     "name": "stderr",
     "output_type": "stream",
     "text": [
      "Epoch 16 Training: 100%|██████████| 3830/3830 [01:19<00:00, 48.35batch/s, loss=-28.0428, loss_avg=-27.3505, lr=0.000238, r2=0.9813]\n",
      "Epoch 16 Validating: 100%|██████████| 213/213 [00:03<00:00, 58.56batch/s, loss_avg=-28.1898, loss_val=-28.2015, mse=0.0008, r2=0.9827] \n"
     ]
    },
    {
     "name": "stdout",
     "output_type": "stream",
     "text": [
      "Save Best model: R2:0.9827, Loss Avg:-28.1898\n"
     ]
    },
    {
     "name": "stderr",
     "output_type": "stream",
     "text": [
      "Epoch 17 Training: 100%|██████████| 3830/3830 [01:19<00:00, 47.97batch/s, loss=-28.0591, loss_avg=-27.1622, lr=0.000238, r2=0.9824]\n",
      "Epoch 17 Validating: 100%|██████████| 213/213 [00:03<00:00, 57.89batch/s, loss_avg=-27.8870, loss_val=-27.8832, mse=0.0007, r2=0.9837] \n"
     ]
    },
    {
     "name": "stdout",
     "output_type": "stream",
     "text": [
      "Save Best model: R2:0.9837, Loss Avg:-27.8870\n"
     ]
    },
    {
     "name": "stderr",
     "output_type": "stream",
     "text": [
      "Epoch 18 Training: 100%|██████████| 3830/3830 [01:09<00:00, 55.42batch/s, loss=-27.7373, loss_avg=-27.7046, lr=0.000238, r2=0.9841]\n",
      "Epoch 18 Validating: 100%|██████████| 213/213 [00:02<00:00, 71.22batch/s, loss_avg=-27.6836, loss_val=-27.6345, mse=0.0008, r2=0.9836] \n"
     ]
    },
    {
     "name": "stdout",
     "output_type": "stream",
     "text": [
      " \n"
     ]
    },
    {
     "name": "stderr",
     "output_type": "stream",
     "text": [
      "Epoch 19 Training: 100%|██████████| 3830/3830 [01:13<00:00, 52.43batch/s, loss=-28.2189, loss_avg=-27.7291, lr=0.000238, r2=0.9848]\n",
      "Epoch 19 Validating: 100%|██████████| 213/213 [00:03<00:00, 55.22batch/s, loss_avg=-27.6595, loss_val=-27.6330, mse=0.0007, r2=0.9851] \n"
     ]
    },
    {
     "name": "stdout",
     "output_type": "stream",
     "text": [
      "Save Best model: R2:0.9851, Loss Avg:-27.6595\n"
     ]
    },
    {
     "name": "stderr",
     "output_type": "stream",
     "text": [
      "Epoch 20 Training: 100%|██████████| 3830/3830 [01:19<00:00, 48.11batch/s, loss=-28.0017, loss_avg=-27.8078, lr=0.000238, r2=0.9850]\n",
      "Epoch 20 Validating: 100%|██████████| 213/213 [00:03<00:00, 59.80batch/s, loss_avg=-28.0999, loss_val=-28.0958, mse=0.0008, r2=0.9824] \n"
     ]
    },
    {
     "name": "stdout",
     "output_type": "stream",
     "text": [
      " \n"
     ]
    },
    {
     "name": "stderr",
     "output_type": "stream",
     "text": [
      "Epoch 21 Training: 100%|██████████| 3830/3830 [01:17<00:00, 49.18batch/s, loss=-28.8193, loss_avg=-27.8629, lr=0.000238, r2=0.9851]\n",
      "Epoch 21 Validating: 100%|██████████| 213/213 [00:03<00:00, 62.06batch/s, loss_avg=-27.8824, loss_val=-27.8377, mse=0.0006, r2=0.9859] \n"
     ]
    },
    {
     "name": "stdout",
     "output_type": "stream",
     "text": [
      "Save Best model: R2:0.9859, Loss Avg:-27.8824\n"
     ]
    },
    {
     "name": "stderr",
     "output_type": "stream",
     "text": [
      "Epoch 22 Training: 100%|██████████| 3830/3830 [01:07<00:00, 56.48batch/s, loss=-26.0100, loss_avg=-27.8456, lr=0.000238, r2=0.9845]\n",
      "Epoch 22 Validating: 100%|██████████| 213/213 [00:03<00:00, 58.09batch/s, loss_avg=-27.3503, loss_val=-27.2063, mse=0.0007, r2=0.9853] \n"
     ]
    },
    {
     "name": "stdout",
     "output_type": "stream",
     "text": [
      " \n"
     ]
    },
    {
     "name": "stderr",
     "output_type": "stream",
     "text": [
      "Epoch 23 Training: 100%|██████████| 3830/3830 [01:19<00:00, 48.04batch/s, loss=-27.4470, loss_avg=-27.9710, lr=0.000238, r2=0.9851]\n",
      "Epoch 23 Validating: 100%|██████████| 213/213 [00:03<00:00, 60.23batch/s, loss_avg=-27.2796, loss_val=-27.2239, mse=0.0007, r2=0.9841] \n"
     ]
    },
    {
     "name": "stdout",
     "output_type": "stream",
     "text": [
      " \n"
     ]
    },
    {
     "name": "stderr",
     "output_type": "stream",
     "text": [
      "Epoch 24 Training: 100%|██████████| 3830/3830 [01:19<00:00, 48.11batch/s, loss=-27.7844, loss_avg=-27.7184, lr=0.000238, r2=0.9847]\n",
      "Epoch 24 Validating: 100%|██████████| 213/213 [00:03<00:00, 56.87batch/s, loss_avg=-28.0635, loss_val=-27.9691, mse=0.0007, r2=0.9843] \n"
     ]
    },
    {
     "name": "stdout",
     "output_type": "stream",
     "text": [
      " \n"
     ]
    },
    {
     "name": "stderr",
     "output_type": "stream",
     "text": [
      "Epoch 25 Training: 100%|██████████| 3830/3830 [01:19<00:00, 48.30batch/s, loss=-29.2141, loss_avg=-27.7377, lr=0.000238, r2=0.9848]\n",
      "Epoch 25 Validating: 100%|██████████| 213/213 [00:03<00:00, 58.45batch/s, loss_avg=-29.1962, loss_val=-29.0883, mse=0.0006, r2=0.9863] \n"
     ]
    },
    {
     "name": "stdout",
     "output_type": "stream",
     "text": [
      "Save Best model: R2:0.9863, Loss Avg:-29.1962\n"
     ]
    },
    {
     "name": "stderr",
     "output_type": "stream",
     "text": [
      "Epoch 26 Training: 100%|██████████| 3830/3830 [01:19<00:00, 48.26batch/s, loss=-29.2403, loss_avg=-27.9557, lr=0.000238, r2=0.9851]\n",
      "Epoch 26 Validating: 100%|██████████| 213/213 [00:03<00:00, 58.74batch/s, loss_avg=-29.2867, loss_val=-29.2435, mse=0.0006, r2=0.9857] \n"
     ]
    },
    {
     "name": "stdout",
     "output_type": "stream",
     "text": [
      " \n"
     ]
    },
    {
     "name": "stderr",
     "output_type": "stream",
     "text": [
      "Epoch 27 Training: 100%|██████████| 3830/3830 [01:19<00:00, 48.19batch/s, loss=-27.2179, loss_avg=-27.7912, lr=0.000238, r2=0.9847]\n",
      "Epoch 27 Validating: 100%|██████████| 213/213 [00:03<00:00, 57.11batch/s, loss_avg=-26.4641, loss_val=-26.3954, mse=0.0008, r2=0.9826] \n"
     ]
    },
    {
     "name": "stdout",
     "output_type": "stream",
     "text": [
      " \n"
     ]
    },
    {
     "name": "stderr",
     "output_type": "stream",
     "text": [
      "Epoch 28 Training: 100%|██████████| 3830/3830 [01:18<00:00, 48.57batch/s, loss=-27.8679, loss_avg=-26.6222, lr=0.000238, r2=0.9812]\n",
      "Epoch 28 Validating: 100%|██████████| 213/213 [00:03<00:00, 58.27batch/s, loss_avg=-27.7373, loss_val=-27.7174, mse=0.0007, r2=0.9838] \n"
     ]
    },
    {
     "name": "stdout",
     "output_type": "stream",
     "text": [
      " \n"
     ]
    },
    {
     "name": "stderr",
     "output_type": "stream",
     "text": [
      "Epoch 29 Training: 100%|██████████| 3830/3830 [01:19<00:00, 47.96batch/s, loss=-28.7834, loss_avg=-26.7230, lr=0.000238, r2=0.9830]\n",
      "Epoch 29 Validating: 100%|██████████| 213/213 [00:03<00:00, 56.64batch/s, loss_avg=-27.2396, loss_val=-27.2314, mse=0.0006, r2=0.9869] \n"
     ]
    },
    {
     "name": "stdout",
     "output_type": "stream",
     "text": [
      "Save Best model: R2:0.9869, Loss Avg:-27.2396\n"
     ]
    },
    {
     "name": "stderr",
     "output_type": "stream",
     "text": [
      "Epoch 30 Training: 100%|██████████| 3830/3830 [01:19<00:00, 48.31batch/s, loss=-26.3192, loss_avg=-26.9747, lr=0.000238, r2=0.9833]\n",
      "Epoch 30 Validating: 100%|██████████| 213/213 [00:03<00:00, 61.35batch/s, loss_avg=-26.5442, loss_val=-26.5208, mse=0.0008, r2=0.9836] \n"
     ]
    },
    {
     "name": "stdout",
     "output_type": "stream",
     "text": [
      " \n"
     ]
    },
    {
     "name": "stderr",
     "output_type": "stream",
     "text": [
      "Epoch 31 Training: 100%|██████████| 3830/3830 [01:19<00:00, 47.94batch/s, loss=-27.4136, loss_avg=-27.1580, lr=0.000238, r2=0.9822]\n",
      "Epoch 31 Validating: 100%|██████████| 213/213 [00:03<00:00, 58.54batch/s, loss_avg=-26.8765, loss_val=-26.8518, mse=0.0008, r2=0.9821] \n"
     ]
    },
    {
     "name": "stdout",
     "output_type": "stream",
     "text": [
      " \n"
     ]
    },
    {
     "name": "stderr",
     "output_type": "stream",
     "text": [
      "Epoch 32 Training: 100%|██████████| 3830/3830 [01:20<00:00, 47.85batch/s, loss=-28.9705, loss_avg=-27.7563, lr=0.000238, r2=0.9845]\n",
      "Epoch 32 Validating: 100%|██████████| 213/213 [00:03<00:00, 55.95batch/s, loss_avg=-27.9914, loss_val=-28.0080, mse=0.0006, r2=0.9875] \n"
     ]
    },
    {
     "name": "stdout",
     "output_type": "stream",
     "text": [
      "Save Best model: R2:0.9875, Loss Avg:-27.9914\n"
     ]
    },
    {
     "name": "stderr",
     "output_type": "stream",
     "text": [
      "Epoch 33 Training: 100%|██████████| 3830/3830 [01:19<00:00, 47.95batch/s, loss=-26.0091, loss_avg=-27.8656, lr=0.000238, r2=0.9846]\n",
      "Epoch 33 Validating: 100%|██████████| 213/213 [00:03<00:00, 56.89batch/s, loss_avg=-26.6239, loss_val=-26.4889, mse=0.0007, r2=0.9839] \n"
     ]
    },
    {
     "name": "stdout",
     "output_type": "stream",
     "text": [
      " \n"
     ]
    },
    {
     "name": "stderr",
     "output_type": "stream",
     "text": [
      "Epoch 34 Training: 100%|██████████| 3830/3830 [01:22<00:00, 46.46batch/s, loss=-28.6608, loss_avg=-28.3728, lr=0.000238, r2=0.9864]\n",
      "Epoch 34 Validating: 100%|██████████| 213/213 [00:03<00:00, 55.66batch/s, loss_avg=-28.8327, loss_val=-28.7826, mse=0.0006, r2=0.9865] \n"
     ]
    },
    {
     "name": "stdout",
     "output_type": "stream",
     "text": [
      " \n"
     ]
    },
    {
     "name": "stderr",
     "output_type": "stream",
     "text": [
      "Epoch 35 Training: 100%|██████████| 3830/3830 [01:28<00:00, 43.11batch/s, loss=-28.9135, loss_avg=-28.4530, lr=0.000238, r2=0.9866]\n",
      "Epoch 35 Validating: 100%|██████████| 213/213 [00:03<00:00, 54.06batch/s, loss_avg=-28.4542, loss_val=-28.3867, mse=0.0006, r2=0.9874] \n"
     ]
    },
    {
     "name": "stdout",
     "output_type": "stream",
     "text": [
      " \n"
     ]
    },
    {
     "name": "stderr",
     "output_type": "stream",
     "text": [
      "Epoch 36 Training: 100%|██████████| 3830/3830 [01:23<00:00, 45.89batch/s, loss=-29.1073, loss_avg=-28.5925, lr=0.000238, r2=0.9873]\n",
      "Epoch 36 Validating: 100%|██████████| 213/213 [00:03<00:00, 54.57batch/s, loss_avg=-29.2340, loss_val=-29.2445, mse=0.0005, r2=0.9881] \n"
     ]
    },
    {
     "name": "stdout",
     "output_type": "stream",
     "text": [
      "Save Best model: R2:0.9881, Loss Avg:-29.2340\n"
     ]
    },
    {
     "name": "stderr",
     "output_type": "stream",
     "text": [
      "Epoch 37 Training: 100%|██████████| 3830/3830 [01:20<00:00, 47.29batch/s, loss=-29.1057, loss_avg=-28.5214, lr=0.000238, r2=0.9872]\n",
      "Epoch 37 Validating: 100%|██████████| 213/213 [00:03<00:00, 63.75batch/s, loss_avg=-29.0806, loss_val=-29.0267, mse=0.0006, r2=0.9878] \n"
     ]
    },
    {
     "name": "stdout",
     "output_type": "stream",
     "text": [
      " \n"
     ]
    },
    {
     "name": "stderr",
     "output_type": "stream",
     "text": [
      "Epoch 38 Training: 100%|██████████| 3830/3830 [01:02<00:00, 61.27batch/s, loss=-28.9603, loss_avg=-28.5441, lr=0.000238, r2=0.9876]\n",
      "Epoch 38 Validating: 100%|██████████| 213/213 [00:03<00:00, 60.00batch/s, loss_avg=-28.8733, loss_val=-28.8775, mse=0.0006, r2=0.9878] \n"
     ]
    },
    {
     "name": "stdout",
     "output_type": "stream",
     "text": [
      " \n"
     ]
    },
    {
     "name": "stderr",
     "output_type": "stream",
     "text": [
      "Epoch 39 Training: 100%|██████████| 3830/3830 [01:02<00:00, 61.16batch/s, loss=-29.9804, loss_avg=-28.5321, lr=0.000238, r2=0.9871]\n",
      "Epoch 39 Validating: 100%|██████████| 213/213 [00:03<00:00, 70.34batch/s, loss_avg=-30.0865, loss_val=-29.9946, mse=0.0005, r2=0.9889] \n"
     ]
    },
    {
     "name": "stdout",
     "output_type": "stream",
     "text": [
      "Save Best model: R2:0.9889, Loss Avg:-30.0865\n"
     ]
    },
    {
     "name": "stderr",
     "output_type": "stream",
     "text": [
      "Epoch 40 Training: 100%|██████████| 3830/3830 [01:02<00:00, 61.08batch/s, loss=-27.0340, loss_avg=-28.2607, lr=0.000238, r2=0.9872]\n",
      "Epoch 40 Validating: 100%|██████████| 213/213 [00:03<00:00, 64.72batch/s, loss_avg=-27.6576, loss_val=-27.5679, mse=0.0007, r2=0.9851] \n"
     ]
    },
    {
     "name": "stdout",
     "output_type": "stream",
     "text": [
      " \n"
     ]
    },
    {
     "name": "stderr",
     "output_type": "stream",
     "text": [
      "Epoch 41 Training: 100%|██████████| 3830/3830 [01:02<00:00, 60.90batch/s, loss=-30.4637, loss_avg=-28.4084, lr=0.000238, r2=0.9872]\n",
      "Epoch 41 Validating: 100%|██████████| 213/213 [00:03<00:00, 70.81batch/s, loss_avg=-30.4376, loss_val=-30.3816, mse=0.0004, r2=0.9900] \n"
     ]
    },
    {
     "name": "stdout",
     "output_type": "stream",
     "text": [
      "Save Best model: R2:0.9900, Loss Avg:-30.4376\n"
     ]
    },
    {
     "name": "stderr",
     "output_type": "stream",
     "text": [
      "Epoch 42 Training: 100%|██████████| 3830/3830 [01:02<00:00, 61.19batch/s, loss=-29.3969, loss_avg=-28.2904, lr=0.000238, r2=0.9873]\n",
      "Epoch 42 Validating: 100%|██████████| 213/213 [00:02<00:00, 71.33batch/s, loss_avg=-30.1991, loss_val=-30.1075, mse=0.0005, r2=0.9883] \n"
     ]
    },
    {
     "name": "stdout",
     "output_type": "stream",
     "text": [
      " \n"
     ]
    },
    {
     "name": "stderr",
     "output_type": "stream",
     "text": [
      "Epoch 43 Training: 100%|██████████| 3830/3830 [01:02<00:00, 61.77batch/s, loss=-29.5306, loss_avg=-28.5846, lr=0.000238, r2=0.9870]\n",
      "Epoch 43 Validating: 100%|██████████| 213/213 [00:03<00:00, 69.64batch/s, loss_avg=-29.4123, loss_val=-29.3329, mse=0.0006, r2=0.9871] \n"
     ]
    },
    {
     "name": "stdout",
     "output_type": "stream",
     "text": [
      " \n"
     ]
    },
    {
     "name": "stderr",
     "output_type": "stream",
     "text": [
      "Epoch 44 Training: 100%|██████████| 3830/3830 [01:01<00:00, 61.77batch/s, loss=-30.5961, loss_avg=-28.6911, lr=0.000238, r2=0.9874]\n",
      "Epoch 44 Validating: 100%|██████████| 213/213 [00:03<00:00, 69.21batch/s, loss_avg=-30.5915, loss_val=-30.5286, mse=0.0005, r2=0.9894] \n"
     ]
    },
    {
     "name": "stdout",
     "output_type": "stream",
     "text": [
      " \n"
     ]
    },
    {
     "name": "stderr",
     "output_type": "stream",
     "text": [
      "Epoch 45 Training: 100%|██████████| 3830/3830 [01:02<00:00, 61.28batch/s, loss=-30.4446, loss_avg=-28.7590, lr=0.000238, r2=0.9877]\n",
      "Epoch 45 Validating: 100%|██████████| 213/213 [00:02<00:00, 71.08batch/s, loss_avg=-30.3152, loss_val=-30.3460, mse=0.0005, r2=0.9898] \n"
     ]
    },
    {
     "name": "stdout",
     "output_type": "stream",
     "text": [
      " \n"
     ]
    },
    {
     "name": "stderr",
     "output_type": "stream",
     "text": [
      "Epoch 46 Training: 100%|██████████| 3830/3830 [01:14<00:00, 51.62batch/s, loss=-26.4016, loss_avg=-28.8333, lr=0.000238, r2=0.9883]\n",
      "Epoch 46 Validating: 100%|██████████| 213/213 [00:03<00:00, 55.92batch/s, loss_avg=-26.6443, loss_val=-26.6612, mse=0.0006, r2=0.9870] \n"
     ]
    },
    {
     "name": "stdout",
     "output_type": "stream",
     "text": [
      " \n"
     ]
    },
    {
     "name": "stderr",
     "output_type": "stream",
     "text": [
      "Epoch 47 Training: 100%|██████████| 3830/3830 [01:19<00:00, 48.05batch/s, loss=-29.4901, loss_avg=-29.0785, lr=0.000238, r2=0.9888]\n",
      "Epoch 47 Validating: 100%|██████████| 213/213 [00:03<00:00, 57.95batch/s, loss_avg=-26.0013, loss_val=-25.9937, mse=0.0006, r2=0.9873] \n"
     ]
    },
    {
     "name": "stdout",
     "output_type": "stream",
     "text": [
      " \n"
     ]
    },
    {
     "name": "stderr",
     "output_type": "stream",
     "text": [
      "Epoch 48 Training: 100%|██████████| 3830/3830 [01:20<00:00, 47.85batch/s, loss=-29.7422, loss_avg=-29.2791, lr=0.000238, r2=0.9893]\n",
      "Epoch 48 Validating: 100%|██████████| 213/213 [00:03<00:00, 56.22batch/s, loss_avg=-29.2793, loss_val=-29.1856, mse=0.0004, r2=0.9904] \n"
     ]
    },
    {
     "name": "stdout",
     "output_type": "stream",
     "text": [
      "Save Best model: R2:0.9904, Loss Avg:-29.2793\n"
     ]
    },
    {
     "name": "stderr",
     "output_type": "stream",
     "text": [
      "Epoch 49 Training: 100%|██████████| 3830/3830 [01:20<00:00, 47.54batch/s, loss=-30.1676, loss_avg=-29.5304, lr=0.000238, r2=0.9902]\n",
      "Epoch 49 Validating: 100%|██████████| 213/213 [00:03<00:00, 57.01batch/s, loss_avg=-28.4050, loss_val=-28.5047, mse=0.0004, r2=0.9916] \n"
     ]
    },
    {
     "name": "stdout",
     "output_type": "stream",
     "text": [
      "Save Best model: R2:0.9916, Loss Avg:-28.4050\n"
     ]
    },
    {
     "name": "stderr",
     "output_type": "stream",
     "text": [
      "Epoch 50 Training: 100%|██████████| 3830/3830 [01:19<00:00, 48.10batch/s, loss=-30.7185, loss_avg=-29.5761, lr=0.000238, r2=0.9909]\n",
      "Epoch 50 Validating: 100%|██████████| 213/213 [00:03<00:00, 56.50batch/s, loss_avg=-30.5773, loss_val=-30.5576, mse=0.0004, r2=0.9909] \n"
     ]
    },
    {
     "name": "stdout",
     "output_type": "stream",
     "text": [
      " \n"
     ]
    },
    {
     "name": "stderr",
     "output_type": "stream",
     "text": [
      "Epoch 51 Training: 100%|██████████| 3830/3830 [01:20<00:00, 47.85batch/s, loss=-26.1185, loss_avg=-29.5406, lr=0.000238, r2=0.9907]\n",
      "Epoch 51 Validating: 100%|██████████| 213/213 [00:03<00:00, 60.56batch/s, loss_avg=-27.1852, loss_val=-27.4587, mse=0.0005, r2=0.9899] \n"
     ]
    },
    {
     "name": "stdout",
     "output_type": "stream",
     "text": [
      " \n"
     ]
    },
    {
     "name": "stderr",
     "output_type": "stream",
     "text": [
      "Epoch 52 Training: 100%|██████████| 3830/3830 [01:19<00:00, 48.06batch/s, loss=-30.5640, loss_avg=-29.6232, lr=0.000238, r2=0.9907]\n",
      "Epoch 52 Validating: 100%|██████████| 213/213 [00:03<00:00, 58.17batch/s, loss_avg=-30.6435, loss_val=-30.5217, mse=0.0004, r2=0.9907] \n"
     ]
    },
    {
     "name": "stdout",
     "output_type": "stream",
     "text": [
      " \n"
     ]
    },
    {
     "name": "stderr",
     "output_type": "stream",
     "text": [
      "Epoch 53 Training: 100%|██████████| 3830/3830 [01:21<00:00, 47.26batch/s, loss=-30.7783, loss_avg=-30.0412, lr=0.000238, r2=0.9912]\n",
      "Epoch 53 Validating: 100%|██████████| 213/213 [00:03<00:00, 56.61batch/s, loss_avg=-28.2689, loss_val=-28.2142, mse=0.0004, r2=0.9913] \n"
     ]
    },
    {
     "name": "stdout",
     "output_type": "stream",
     "text": [
      " \n"
     ]
    },
    {
     "name": "stderr",
     "output_type": "stream",
     "text": [
      "Epoch 54 Training: 100%|██████████| 3830/3830 [01:10<00:00, 54.16batch/s, loss=-30.5626, loss_avg=-29.9790, lr=0.000238, r2=0.9911]\n",
      "Epoch 54 Validating: 100%|██████████| 213/213 [00:03<00:00, 55.37batch/s, loss_avg=-30.4547, loss_val=-30.4603, mse=0.0004, r2=0.9915] \n"
     ]
    },
    {
     "name": "stdout",
     "output_type": "stream",
     "text": [
      " \n"
     ]
    },
    {
     "name": "stderr",
     "output_type": "stream",
     "text": [
      "Epoch 55 Training: 100%|██████████| 3830/3830 [01:20<00:00, 47.34batch/s, loss=-31.2116, loss_avg=-29.4585, lr=0.000238, r2=0.9902]\n",
      "Epoch 55 Validating: 100%|██████████| 213/213 [00:03<00:00, 55.98batch/s, loss_avg=-30.9160, loss_val=-30.8861, mse=0.0004, r2=0.9912] \n"
     ]
    },
    {
     "name": "stdout",
     "output_type": "stream",
     "text": [
      " \n"
     ]
    },
    {
     "name": "stderr",
     "output_type": "stream",
     "text": [
      "Epoch 56 Training: 100%|██████████| 3830/3830 [01:20<00:00, 47.68batch/s, loss=-29.6238, loss_avg=-29.3415, lr=0.000238, r2=0.9899]\n",
      "Epoch 56 Validating: 100%|██████████| 213/213 [00:03<00:00, 56.02batch/s, loss_avg=-29.0303, loss_val=-28.9991, mse=0.0005, r2=0.9899] \n"
     ]
    },
    {
     "name": "stdout",
     "output_type": "stream",
     "text": [
      " \n"
     ]
    },
    {
     "name": "stderr",
     "output_type": "stream",
     "text": [
      "Epoch 57 Training: 100%|██████████| 3830/3830 [01:20<00:00, 47.73batch/s, loss=-31.5044, loss_avg=-29.5710, lr=0.000238, r2=0.9906]\n",
      "Epoch 57 Validating: 100%|██████████| 213/213 [00:03<00:00, 57.99batch/s, loss_avg=-30.8372, loss_val=-30.7786, mse=0.0004, r2=0.9918] \n"
     ]
    },
    {
     "name": "stdout",
     "output_type": "stream",
     "text": [
      "Save Best model: R2:0.9918, Loss Avg:-30.8372\n"
     ]
    },
    {
     "name": "stderr",
     "output_type": "stream",
     "text": [
      "Epoch 58 Training: 100%|██████████| 3830/3830 [01:20<00:00, 47.76batch/s, loss=-28.8893, loss_avg=-29.8403, lr=0.000238, r2=0.9911]\n",
      "Epoch 58 Validating: 100%|██████████| 213/213 [00:03<00:00, 59.42batch/s, loss_avg=-29.2136, loss_val=-29.1307, mse=0.0004, r2=0.9915] \n"
     ]
    },
    {
     "name": "stdout",
     "output_type": "stream",
     "text": [
      " \n"
     ]
    },
    {
     "name": "stderr",
     "output_type": "stream",
     "text": [
      "Epoch 59 Training: 100%|██████████| 3830/3830 [01:08<00:00, 55.67batch/s, loss=-30.1263, loss_avg=-30.2009, lr=0.000238, r2=0.9907]\n",
      "Epoch 59 Validating: 100%|██████████| 213/213 [00:03<00:00, 69.91batch/s, loss_avg=-29.8343, loss_val=-29.8379, mse=0.0004, r2=0.9906] \n"
     ]
    },
    {
     "name": "stdout",
     "output_type": "stream",
     "text": [
      " \n"
     ]
    },
    {
     "name": "stderr",
     "output_type": "stream",
     "text": [
      "Epoch 60 Training: 100%|██████████| 3830/3830 [01:13<00:00, 52.00batch/s, loss=-30.9815, loss_avg=-30.0738, lr=0.000238, r2=0.9907]\n",
      "Epoch 60 Validating: 100%|██████████| 213/213 [00:03<00:00, 58.11batch/s, loss_avg=-30.8448, loss_val=-30.7825, mse=0.0004, r2=0.9906] \n"
     ]
    },
    {
     "name": "stdout",
     "output_type": "stream",
     "text": [
      " \n"
     ]
    },
    {
     "name": "stderr",
     "output_type": "stream",
     "text": [
      "Epoch 61 Training: 100%|██████████| 3830/3830 [01:20<00:00, 47.74batch/s, loss=-31.4099, loss_avg=-30.1288, lr=0.000238, r2=0.9910]\n",
      "Epoch 61 Validating: 100%|██████████| 213/213 [00:03<00:00, 55.49batch/s, loss_avg=-29.0874, loss_val=-29.1160, mse=0.0004, r2=0.9913] \n"
     ]
    },
    {
     "name": "stdout",
     "output_type": "stream",
     "text": [
      " \n"
     ]
    },
    {
     "name": "stderr",
     "output_type": "stream",
     "text": [
      "Epoch 62 Training: 100%|██████████| 3830/3830 [01:21<00:00, 47.23batch/s, loss=-30.6837, loss_avg=-29.7041, lr=0.000238, r2=0.9908]\n",
      "Epoch 62 Validating: 100%|██████████| 213/213 [00:03<00:00, 61.30batch/s, loss_avg=-30.6406, loss_val=-30.6300, mse=0.0004, r2=0.9919] \n"
     ]
    },
    {
     "name": "stdout",
     "output_type": "stream",
     "text": [
      "Save Best model: R2:0.9919, Loss Avg:-30.6406\n"
     ]
    },
    {
     "name": "stderr",
     "output_type": "stream",
     "text": [
      "Epoch 63 Training: 100%|██████████| 3830/3830 [01:23<00:00, 45.86batch/s, loss=-30.9229, loss_avg=-29.9013, lr=0.000238, r2=0.9913]\n",
      "Epoch 63 Validating: 100%|██████████| 213/213 [00:03<00:00, 56.78batch/s, loss_avg=-29.9982, loss_val=-29.9252, mse=0.0004, r2=0.9911] \n"
     ]
    },
    {
     "name": "stdout",
     "output_type": "stream",
     "text": [
      " \n"
     ]
    },
    {
     "name": "stderr",
     "output_type": "stream",
     "text": [
      "Epoch 64 Training: 100%|██████████| 3830/3830 [01:19<00:00, 48.13batch/s, loss=-28.3852, loss_avg=-29.3049, lr=0.000238, r2=0.9899]\n",
      "Epoch 64 Validating: 100%|██████████| 213/213 [00:03<00:00, 55.89batch/s, loss_avg=-28.8557, loss_val=-28.9225, mse=0.0005, r2=0.9900] \n"
     ]
    },
    {
     "name": "stdout",
     "output_type": "stream",
     "text": [
      " \n"
     ]
    },
    {
     "name": "stderr",
     "output_type": "stream",
     "text": [
      "Epoch 65 Training: 100%|██████████| 3830/3830 [01:19<00:00, 48.13batch/s, loss=-28.9010, loss_avg=-29.8568, lr=0.000238, r2=0.9907]\n",
      "Epoch 65 Validating: 100%|██████████| 213/213 [00:03<00:00, 59.21batch/s, loss_avg=-28.5579, loss_val=-28.4859, mse=0.0005, r2=0.9883] \n"
     ]
    },
    {
     "name": "stdout",
     "output_type": "stream",
     "text": [
      " \n"
     ]
    },
    {
     "name": "stderr",
     "output_type": "stream",
     "text": [
      "Epoch 66 Training: 100%|██████████| 3830/3830 [01:19<00:00, 48.39batch/s, loss=-31.3947, loss_avg=-29.5512, lr=0.000238, r2=0.9906]\n",
      "Epoch 66 Validating: 100%|██████████| 213/213 [00:03<00:00, 57.16batch/s, loss_avg=-30.6923, loss_val=-30.7538, mse=0.0004, r2=0.9920] \n"
     ]
    },
    {
     "name": "stdout",
     "output_type": "stream",
     "text": [
      "Save Best model: R2:0.9920, Loss Avg:-30.6923\n"
     ]
    },
    {
     "name": "stderr",
     "output_type": "stream",
     "text": [
      "Epoch 67 Training: 100%|██████████| 3830/3830 [01:19<00:00, 48.24batch/s, loss=-29.6869, loss_avg=-29.8046, lr=0.000238, r2=0.9911]\n",
      "Epoch 67 Validating: 100%|██████████| 213/213 [00:03<00:00, 56.73batch/s, loss_avg=-27.4806, loss_val=-27.3832, mse=0.0004, r2=0.9912] \n"
     ]
    },
    {
     "name": "stdout",
     "output_type": "stream",
     "text": [
      " \n"
     ]
    },
    {
     "name": "stderr",
     "output_type": "stream",
     "text": [
      "Epoch 68 Training: 100%|██████████| 3830/3830 [01:19<00:00, 48.13batch/s, loss=-31.2269, loss_avg=-29.7751, lr=0.000238, r2=0.9912]\n",
      "Epoch 68 Validating: 100%|██████████| 213/213 [00:03<00:00, 58.95batch/s, loss_avg=-31.6269, loss_val=-31.5605, mse=0.0003, r2=0.9925] \n"
     ]
    },
    {
     "name": "stdout",
     "output_type": "stream",
     "text": [
      "Save Best model: R2:0.9925, Loss Avg:-31.6269\n"
     ]
    },
    {
     "name": "stderr",
     "output_type": "stream",
     "text": [
      "Epoch 69 Training: 100%|██████████| 3830/3830 [01:19<00:00, 47.88batch/s, loss=-28.9703, loss_avg=-29.8556, lr=0.000238, r2=0.9912]\n",
      "Epoch 69 Validating: 100%|██████████| 213/213 [00:04<00:00, 52.33batch/s, loss_avg=-29.4600, loss_val=-29.4758, mse=0.0004, r2=0.9913] \n"
     ]
    },
    {
     "name": "stdout",
     "output_type": "stream",
     "text": [
      " \n"
     ]
    },
    {
     "name": "stderr",
     "output_type": "stream",
     "text": [
      "Epoch 70 Training: 100%|██████████| 3830/3830 [01:21<00:00, 47.05batch/s, loss=-29.0175, loss_avg=-29.9734, lr=0.000238, r2=0.9910]\n",
      "Epoch 70 Validating: 100%|██████████| 213/213 [00:03<00:00, 58.29batch/s, loss_avg=-22.6285, loss_val=-22.6148, mse=0.0006, r2=0.9877] \n"
     ]
    },
    {
     "name": "stdout",
     "output_type": "stream",
     "text": [
      " \n"
     ]
    },
    {
     "name": "stderr",
     "output_type": "stream",
     "text": [
      "Epoch 71 Training: 100%|██████████| 3830/3830 [01:19<00:00, 48.10batch/s, loss=-30.0532, loss_avg=-29.9719, lr=0.000238, r2=0.9913]\n",
      "Epoch 71 Validating: 100%|██████████| 213/213 [00:03<00:00, 57.54batch/s, loss_avg=-30.1222, loss_val=-30.0661, mse=0.0004, r2=0.9916] \n"
     ]
    },
    {
     "name": "stdout",
     "output_type": "stream",
     "text": [
      " \n"
     ]
    },
    {
     "name": "stderr",
     "output_type": "stream",
     "text": [
      "Epoch 72 Training: 100%|██████████| 3830/3830 [01:19<00:00, 48.16batch/s, loss=-29.6336, loss_avg=-29.8264, lr=0.000238, r2=0.9913]\n",
      "Epoch 72 Validating: 100%|██████████| 213/213 [00:03<00:00, 59.69batch/s, loss_avg=-28.5091, loss_val=-28.4723, mse=0.0004, r2=0.9907] \n"
     ]
    },
    {
     "name": "stdout",
     "output_type": "stream",
     "text": [
      " \n"
     ]
    },
    {
     "name": "stderr",
     "output_type": "stream",
     "text": [
      "Epoch 73 Training: 100%|██████████| 3830/3830 [01:19<00:00, 48.13batch/s, loss=-23.1165, loss_avg=-29.3589, lr=0.000238, r2=0.9905]\n",
      "Epoch 73 Validating: 100%|██████████| 213/213 [00:03<00:00, 58.48batch/s, loss_avg=-23.4212, loss_val=-23.4577, mse=0.0008, r2=0.9817] \n"
     ]
    },
    {
     "name": "stdout",
     "output_type": "stream",
     "text": [
      " \n"
     ]
    },
    {
     "name": "stderr",
     "output_type": "stream",
     "text": [
      "Epoch 74 Training: 100%|██████████| 3830/3830 [01:20<00:00, 47.75batch/s, loss=-31.6209, loss_avg=-30.2566, lr=0.000238, r2=0.9913]\n",
      "Epoch 74 Validating: 100%|██████████| 213/213 [00:03<00:00, 58.81batch/s, loss_avg=-30.0730, loss_val=-29.8722, mse=0.0003, r2=0.9923] \n"
     ]
    },
    {
     "name": "stdout",
     "output_type": "stream",
     "text": [
      " \n"
     ]
    },
    {
     "name": "stderr",
     "output_type": "stream",
     "text": [
      "Epoch 75 Training: 100%|██████████| 3830/3830 [01:20<00:00, 47.75batch/s, loss=-32.0730, loss_avg=-30.7360, lr=0.000238, r2=0.9920]\n",
      "Epoch 75 Validating: 100%|██████████| 213/213 [00:03<00:00, 56.99batch/s, loss_avg=-30.7206, loss_val=-30.7445, mse=0.0003, r2=0.9928] \n"
     ]
    },
    {
     "name": "stdout",
     "output_type": "stream",
     "text": [
      "Save Best model: R2:0.9928, Loss Avg:-30.7206\n"
     ]
    },
    {
     "name": "stderr",
     "output_type": "stream",
     "text": [
      "Epoch 76 Training: 100%|██████████| 3830/3830 [01:21<00:00, 46.97batch/s, loss=-32.6157, loss_avg=-30.7815, lr=0.000238, r2=0.9921]\n",
      "Epoch 76 Validating: 100%|██████████| 213/213 [00:03<00:00, 57.49batch/s, loss_avg=-31.8116, loss_val=-31.6903, mse=0.0003, r2=0.9929] \n"
     ]
    },
    {
     "name": "stdout",
     "output_type": "stream",
     "text": [
      "Save Best model: R2:0.9929, Loss Avg:-31.8116\n"
     ]
    },
    {
     "name": "stderr",
     "output_type": "stream",
     "text": [
      "Epoch 77 Training: 100%|██████████| 3830/3830 [01:19<00:00, 47.96batch/s, loss=-31.9497, loss_avg=-30.6871, lr=0.000238, r2=0.9923]\n",
      "Epoch 77 Validating: 100%|██████████| 213/213 [00:03<00:00, 57.34batch/s, loss_avg=-31.7872, loss_val=-31.7179, mse=0.0003, r2=0.9923] \n"
     ]
    },
    {
     "name": "stdout",
     "output_type": "stream",
     "text": [
      " \n"
     ]
    },
    {
     "name": "stderr",
     "output_type": "stream",
     "text": [
      "Epoch 78 Training: 100%|██████████| 3830/3830 [01:26<00:00, 44.23batch/s, loss=-31.6744, loss_avg=-30.7859, lr=0.000238, r2=0.9925]\n",
      "Epoch 78 Validating: 100%|██████████| 213/213 [00:03<00:00, 57.87batch/s, loss_avg=-31.3613, loss_val=-31.3899, mse=0.0003, r2=0.9927] \n"
     ]
    },
    {
     "name": "stdout",
     "output_type": "stream",
     "text": [
      " \n"
     ]
    },
    {
     "name": "stderr",
     "output_type": "stream",
     "text": [
      "Epoch 79 Training: 100%|██████████| 3830/3830 [01:19<00:00, 47.91batch/s, loss=-32.6625, loss_avg=-30.8730, lr=0.000238, r2=0.9926]\n",
      "Epoch 79 Validating: 100%|██████████| 213/213 [00:03<00:00, 56.49batch/s, loss_avg=-32.5498, loss_val=-32.4614, mse=0.0003, r2=0.9932] \n"
     ]
    },
    {
     "name": "stdout",
     "output_type": "stream",
     "text": [
      "Save Best model: R2:0.9932, Loss Avg:-32.5498\n"
     ]
    },
    {
     "name": "stderr",
     "output_type": "stream",
     "text": [
      "Epoch 80 Training: 100%|██████████| 3830/3830 [01:22<00:00, 46.63batch/s, loss=-30.2477, loss_avg=-30.7456, lr=0.000238, r2=0.9926]\n",
      "Epoch 80 Validating: 100%|██████████| 213/213 [00:03<00:00, 57.88batch/s, loss_avg=-29.9649, loss_val=-29.9207, mse=0.0004, r2=0.9912] \n"
     ]
    },
    {
     "name": "stdout",
     "output_type": "stream",
     "text": [
      " \n"
     ]
    },
    {
     "name": "stderr",
     "output_type": "stream",
     "text": [
      "Epoch 81 Training: 100%|██████████| 3830/3830 [01:19<00:00, 48.05batch/s, loss=-32.0107, loss_avg=-30.7478, lr=0.000238, r2=0.9924]\n",
      "Epoch 81 Validating: 100%|██████████| 213/213 [00:03<00:00, 58.66batch/s, loss_avg=-31.8976, loss_val=-31.8888, mse=0.0003, r2=0.9924] \n"
     ]
    },
    {
     "name": "stdout",
     "output_type": "stream",
     "text": [
      " \n"
     ]
    },
    {
     "name": "stderr",
     "output_type": "stream",
     "text": [
      "Epoch 82 Training: 100%|██████████| 3830/3830 [01:19<00:00, 48.13batch/s, loss=-31.7138, loss_avg=-31.0537, lr=0.000238, r2=0.9924]\n",
      "Epoch 82 Validating: 100%|██████████| 213/213 [00:03<00:00, 57.02batch/s, loss_avg=-31.8198, loss_val=-31.7049, mse=0.0003, r2=0.9928] \n"
     ]
    },
    {
     "name": "stdout",
     "output_type": "stream",
     "text": [
      " \n"
     ]
    },
    {
     "name": "stderr",
     "output_type": "stream",
     "text": [
      "Epoch 83 Training: 100%|██████████| 3830/3830 [01:19<00:00, 48.14batch/s, loss=-30.7917, loss_avg=-30.9711, lr=0.000238, r2=0.9926]\n",
      "Epoch 83 Validating: 100%|██████████| 213/213 [00:03<00:00, 58.02batch/s, loss_avg=-30.7033, loss_val=-30.6828, mse=0.0004, r2=0.9918] \n"
     ]
    },
    {
     "name": "stdout",
     "output_type": "stream",
     "text": [
      " \n"
     ]
    },
    {
     "name": "stderr",
     "output_type": "stream",
     "text": [
      "Epoch 84 Training: 100%|██████████| 3830/3830 [01:19<00:00, 48.13batch/s, loss=-32.7431, loss_avg=-31.1689, lr=0.000238, r2=0.9930]\n",
      "Epoch 84 Validating: 100%|██████████| 213/213 [00:03<00:00, 57.34batch/s, loss_avg=-32.1776, loss_val=-32.1852, mse=0.0003, r2=0.9934] \n"
     ]
    },
    {
     "name": "stdout",
     "output_type": "stream",
     "text": [
      "Save Best model: R2:0.9934, Loss Avg:-32.1776\n"
     ]
    },
    {
     "name": "stderr",
     "output_type": "stream",
     "text": [
      "Epoch 85 Training: 100%|██████████| 3830/3830 [01:19<00:00, 48.21batch/s, loss=-31.8146, loss_avg=-30.9578, lr=0.000238, r2=0.9928]\n",
      "Epoch 85 Validating: 100%|██████████| 213/213 [00:03<00:00, 55.97batch/s, loss_avg=-32.1967, loss_val=-32.1176, mse=0.0003, r2=0.9931] \n"
     ]
    },
    {
     "name": "stdout",
     "output_type": "stream",
     "text": [
      " \n"
     ]
    },
    {
     "name": "stderr",
     "output_type": "stream",
     "text": [
      "Epoch 86 Training: 100%|██████████| 3830/3830 [01:19<00:00, 48.30batch/s, loss=-31.1928, loss_avg=-31.1005, lr=0.000238, r2=0.9931]\n",
      "Epoch 86 Validating: 100%|██████████| 213/213 [00:03<00:00, 55.65batch/s, loss_avg=-31.4798, loss_val=-31.3990, mse=0.0003, r2=0.9932] \n"
     ]
    },
    {
     "name": "stdout",
     "output_type": "stream",
     "text": [
      " \n"
     ]
    },
    {
     "name": "stderr",
     "output_type": "stream",
     "text": [
      "Epoch 87 Training: 100%|██████████| 3830/3830 [01:24<00:00, 45.58batch/s, loss=-29.9145, loss_avg=-30.8819, lr=0.000238, r2=0.9929]\n",
      "Epoch 87 Validating: 100%|██████████| 213/213 [00:03<00:00, 57.73batch/s, loss_avg=-31.8350, loss_val=-31.8205, mse=0.0003, r2=0.9930] \n"
     ]
    },
    {
     "name": "stdout",
     "output_type": "stream",
     "text": [
      " \n"
     ]
    },
    {
     "name": "stderr",
     "output_type": "stream",
     "text": [
      "Epoch 88 Training: 100%|██████████| 3830/3830 [01:19<00:00, 47.99batch/s, loss=-31.1414, loss_avg=-30.8010, lr=0.000238, r2=0.9929]\n",
      "Epoch 88 Validating: 100%|██████████| 213/213 [00:03<00:00, 57.28batch/s, loss_avg=-31.1305, loss_val=-31.0120, mse=0.0003, r2=0.9928] \n"
     ]
    },
    {
     "name": "stdout",
     "output_type": "stream",
     "text": [
      " \n"
     ]
    },
    {
     "name": "stderr",
     "output_type": "stream",
     "text": [
      "Epoch 89 Training: 100%|██████████| 3830/3830 [01:19<00:00, 48.09batch/s, loss=-29.5458, loss_avg=-30.9076, lr=0.000238, r2=0.9923]\n",
      "Epoch 89 Validating: 100%|██████████| 213/213 [00:03<00:00, 58.23batch/s, loss_avg=-29.6825, loss_val=-29.6434, mse=0.0006, r2=0.9865] \n"
     ]
    },
    {
     "name": "stdout",
     "output_type": "stream",
     "text": [
      " \n"
     ]
    },
    {
     "name": "stderr",
     "output_type": "stream",
     "text": [
      "Epoch 90 Training: 100%|██████████| 3830/3830 [01:19<00:00, 48.06batch/s, loss=-32.0963, loss_avg=-30.8909, lr=0.000238, r2=0.9925]\n",
      "Epoch 90 Validating: 100%|██████████| 213/213 [00:03<00:00, 56.96batch/s, loss_avg=-31.2824, loss_val=-31.2091, mse=0.0003, r2=0.9931] \n"
     ]
    },
    {
     "name": "stdout",
     "output_type": "stream",
     "text": [
      " \n"
     ]
    },
    {
     "name": "stderr",
     "output_type": "stream",
     "text": [
      "Epoch 91 Training: 100%|██████████| 3830/3830 [01:19<00:00, 48.23batch/s, loss=-31.2890, loss_avg=-30.9452, lr=0.000238, r2=0.9927]\n",
      "Epoch 91 Validating: 100%|██████████| 213/213 [00:03<00:00, 58.27batch/s, loss_avg=-30.2140, loss_val=-30.2671, mse=0.0003, r2=0.9923] \n"
     ]
    },
    {
     "name": "stdout",
     "output_type": "stream",
     "text": [
      " \n"
     ]
    },
    {
     "name": "stderr",
     "output_type": "stream",
     "text": [
      "Epoch 92 Training: 100%|██████████| 3830/3830 [01:19<00:00, 48.23batch/s, loss=-30.3015, loss_avg=-31.0394, lr=0.000238, r2=0.9930]\n",
      "Epoch 92 Validating: 100%|██████████| 213/213 [00:03<00:00, 58.73batch/s, loss_avg=-31.9998, loss_val=-31.9180, mse=0.0003, r2=0.9934] \n"
     ]
    },
    {
     "name": "stdout",
     "output_type": "stream",
     "text": [
      " \n"
     ]
    },
    {
     "name": "stderr",
     "output_type": "stream",
     "text": [
      "Epoch 93 Training: 100%|██████████| 3830/3830 [01:17<00:00, 49.46batch/s, loss=-31.8979, loss_avg=-31.1896, lr=0.000238, r2=0.9931]\n",
      "Epoch 93 Validating: 100%|██████████| 213/213 [00:03<00:00, 56.06batch/s, loss_avg=-31.5549, loss_val=-31.5343, mse=0.0003, r2=0.9935] \n"
     ]
    },
    {
     "name": "stdout",
     "output_type": "stream",
     "text": [
      "Save Best model: R2:0.9935, Loss Avg:-31.5549\n"
     ]
    },
    {
     "name": "stderr",
     "output_type": "stream",
     "text": [
      "Epoch 94 Training: 100%|██████████| 3830/3830 [01:20<00:00, 47.76batch/s, loss=-24.8413, loss_avg=-31.0597, lr=0.000238, r2=0.9930]\n",
      "Epoch 94 Validating: 100%|██████████| 213/213 [00:03<00:00, 57.81batch/s, loss_avg=-24.4963, loss_val=-24.4230, mse=0.0005, r2=0.9891] \n"
     ]
    },
    {
     "name": "stdout",
     "output_type": "stream",
     "text": [
      " \n"
     ]
    },
    {
     "name": "stderr",
     "output_type": "stream",
     "text": [
      "Epoch 95 Training: 100%|██████████| 3830/3830 [01:19<00:00, 48.16batch/s, loss=-33.2031, loss_avg=-31.2958, lr=0.000238, r2=0.9932]\n",
      "Epoch 95 Validating: 100%|██████████| 213/213 [00:03<00:00, 59.32batch/s, loss_avg=-32.8906, loss_val=-32.8731, mse=0.0003, r2=0.9939] \n"
     ]
    },
    {
     "name": "stdout",
     "output_type": "stream",
     "text": [
      "Save Best model: R2:0.9939, Loss Avg:-32.8906\n"
     ]
    },
    {
     "name": "stderr",
     "output_type": "stream",
     "text": [
      "Epoch 96 Training: 100%|██████████| 3830/3830 [01:19<00:00, 48.04batch/s, loss=-33.0321, loss_avg=-31.4464, lr=0.000238, r2=0.9935]\n",
      "Epoch 96 Validating: 100%|██████████| 213/213 [00:03<00:00, 60.90batch/s, loss_avg=-32.8682, loss_val=-32.8625, mse=0.0003, r2=0.9936] \n"
     ]
    },
    {
     "name": "stdout",
     "output_type": "stream",
     "text": [
      " \n"
     ]
    },
    {
     "name": "stderr",
     "output_type": "stream",
     "text": [
      "Epoch 97 Training: 100%|██████████| 3830/3830 [01:19<00:00, 48.02batch/s, loss=-32.9384, loss_avg=-31.7396, lr=0.000238, r2=0.9939]\n",
      "Epoch 97 Validating: 100%|██████████| 213/213 [00:03<00:00, 58.85batch/s, loss_avg=-32.4595, loss_val=-32.2554, mse=0.0003, r2=0.9940] \n"
     ]
    },
    {
     "name": "stdout",
     "output_type": "stream",
     "text": [
      "Save Best model: R2:0.9940, Loss Avg:-32.4595\n"
     ]
    },
    {
     "name": "stderr",
     "output_type": "stream",
     "text": [
      "Epoch 98 Training: 100%|██████████| 3830/3830 [01:19<00:00, 47.88batch/s, loss=-28.3382, loss_avg=-31.7389, lr=0.000238, r2=0.9939]\n",
      "Epoch 98 Validating: 100%|██████████| 213/213 [00:03<00:00, 57.78batch/s, loss_avg=-29.0781, loss_val=-29.1422, mse=0.0003, r2=0.9926] \n"
     ]
    },
    {
     "name": "stdout",
     "output_type": "stream",
     "text": [
      " \n"
     ]
    },
    {
     "name": "stderr",
     "output_type": "stream",
     "text": [
      "Epoch 99 Training: 100%|██████████| 3830/3830 [01:20<00:00, 47.71batch/s, loss=-30.2930, loss_avg=-31.6343, lr=0.000238, r2=0.9938]\n",
      "Epoch 99 Validating: 100%|██████████| 213/213 [00:03<00:00, 59.13batch/s, loss_avg=-30.2246, loss_val=-30.2046, mse=0.0004, r2=0.9906] \n"
     ]
    },
    {
     "name": "stdout",
     "output_type": "stream",
     "text": [
      " \n"
     ]
    },
    {
     "name": "stderr",
     "output_type": "stream",
     "text": [
      "Epoch 100 Training: 100%|██████████| 3830/3830 [01:19<00:00, 48.21batch/s, loss=-32.2534, loss_avg=-31.6496, lr=0.000238, r2=0.9939]\n",
      "Epoch 100 Validating: 100%|██████████| 213/213 [00:02<00:00, 75.74batch/s, loss_avg=-32.2695, loss_val=-32.2309, mse=0.0003, r2=0.9937] \n"
     ]
    },
    {
     "name": "stdout",
     "output_type": "stream",
     "text": [
      " \n"
     ]
    },
    {
     "name": "stderr",
     "output_type": "stream",
     "text": [
      "Epoch 101 Training: 100%|██████████| 3830/3830 [00:58<00:00, 65.49batch/s, loss=-31.3468, loss_avg=-31.5757, lr=0.000238, r2=0.9939]\n",
      "Epoch 101 Validating: 100%|██████████| 213/213 [00:02<00:00, 73.32batch/s, loss_avg=-29.2005, loss_val=-29.1014, mse=0.0003, r2=0.9933] \n"
     ]
    },
    {
     "name": "stdout",
     "output_type": "stream",
     "text": [
      " \n"
     ]
    },
    {
     "name": "stderr",
     "output_type": "stream",
     "text": [
      "Epoch 102 Training: 100%|██████████| 3830/3830 [00:58<00:00, 65.55batch/s, loss=-32.3864, loss_avg=-31.7605, lr=0.000238, r2=0.9940]\n",
      "Epoch 102 Validating: 100%|██████████| 213/213 [00:02<00:00, 76.34batch/s, loss_avg=-32.5321, loss_val=-32.4923, mse=0.0003, r2=0.9937] \n"
     ]
    },
    {
     "name": "stdout",
     "output_type": "stream",
     "text": [
      " \n"
     ]
    },
    {
     "name": "stderr",
     "output_type": "stream",
     "text": [
      "Epoch 103 Training: 100%|██████████| 3830/3830 [00:58<00:00, 65.69batch/s, loss=-33.4227, loss_avg=-31.7164, lr=0.000238, r2=0.9940]\n",
      "Epoch 103 Validating: 100%|██████████| 213/213 [00:02<00:00, 74.92batch/s, loss_avg=-33.0781, loss_val=-33.0647, mse=0.0002, r2=0.9946] \n"
     ]
    },
    {
     "name": "stdout",
     "output_type": "stream",
     "text": [
      "Save Best model: R2:0.9946, Loss Avg:-33.0781\n"
     ]
    },
    {
     "name": "stderr",
     "output_type": "stream",
     "text": [
      "Epoch 104 Training: 100%|██████████| 3830/3830 [01:15<00:00, 50.98batch/s, loss=-33.0213, loss_avg=-31.6189, lr=0.000238, r2=0.9939]\n",
      "Epoch 104 Validating: 100%|██████████| 213/213 [00:03<00:00, 57.30batch/s, loss_avg=-31.6126, loss_val=-31.6043, mse=0.0003, r2=0.9933] \n"
     ]
    },
    {
     "name": "stdout",
     "output_type": "stream",
     "text": [
      " \n"
     ]
    },
    {
     "name": "stderr",
     "output_type": "stream",
     "text": [
      "Epoch 105 Training: 100%|██████████| 3830/3830 [01:19<00:00, 47.92batch/s, loss=-33.5386, loss_avg=-31.4463, lr=0.000238, r2=0.9935]\n",
      "Epoch 105 Validating: 100%|██████████| 213/213 [00:03<00:00, 56.71batch/s, loss_avg=-33.3188, loss_val=-33.2604, mse=0.0003, r2=0.9941] \n"
     ]
    },
    {
     "name": "stdout",
     "output_type": "stream",
     "text": [
      " \n"
     ]
    },
    {
     "name": "stderr",
     "output_type": "stream",
     "text": [
      "Epoch 106 Training: 100%|██████████| 3830/3830 [01:20<00:00, 47.87batch/s, loss=-30.9754, loss_avg=-31.7518, lr=0.000238, r2=0.9935]\n",
      "Epoch 106 Validating: 100%|██████████| 213/213 [00:03<00:00, 58.96batch/s, loss_avg=-31.0299, loss_val=-30.9592, mse=0.0003, r2=0.9929] \n"
     ]
    },
    {
     "name": "stdout",
     "output_type": "stream",
     "text": [
      " \n"
     ]
    },
    {
     "name": "stderr",
     "output_type": "stream",
     "text": [
      "Epoch 107 Training: 100%|██████████| 3830/3830 [01:20<00:00, 47.75batch/s, loss=-29.9515, loss_avg=-31.6742, lr=0.000238, r2=0.9936]\n",
      "Epoch 107 Validating: 100%|██████████| 213/213 [00:03<00:00, 58.29batch/s, loss_avg=-31.6991, loss_val=-31.6119, mse=0.0003, r2=0.9942] \n"
     ]
    },
    {
     "name": "stdout",
     "output_type": "stream",
     "text": [
      " \n"
     ]
    },
    {
     "name": "stderr",
     "output_type": "stream",
     "text": [
      "Epoch 108 Training: 100%|██████████| 3830/3830 [01:20<00:00, 47.65batch/s, loss=-33.2485, loss_avg=-31.8110, lr=0.000238, r2=0.9938]\n",
      "Epoch 108 Validating: 100%|██████████| 213/213 [00:03<00:00, 58.04batch/s, loss_avg=-33.0387, loss_val=-33.0537, mse=0.0003, r2=0.9941] \n"
     ]
    },
    {
     "name": "stdout",
     "output_type": "stream",
     "text": [
      " \n"
     ]
    },
    {
     "name": "stderr",
     "output_type": "stream",
     "text": [
      "Epoch 109 Training: 100%|██████████| 3830/3830 [01:20<00:00, 47.85batch/s, loss=-33.1524, loss_avg=-31.9907, lr=0.000238, r2=0.9939]\n",
      "Epoch 109 Validating: 100%|██████████| 213/213 [00:02<00:00, 76.54batch/s, loss_avg=-32.4640, loss_val=-32.4333, mse=0.0003, r2=0.9941] \n"
     ]
    },
    {
     "name": "stdout",
     "output_type": "stream",
     "text": [
      " \n"
     ]
    },
    {
     "name": "stderr",
     "output_type": "stream",
     "text": [
      "Epoch 110 Training: 100%|██████████| 3830/3830 [00:58<00:00, 65.52batch/s, loss=-30.8755, loss_avg=-31.8518, lr=0.000238, r2=0.9938]\n",
      "Epoch 110 Validating: 100%|██████████| 213/213 [00:02<00:00, 74.48batch/s, loss_avg=-29.5105, loss_val=-29.5199, mse=0.0004, r2=0.9921] \n"
     ]
    },
    {
     "name": "stdout",
     "output_type": "stream",
     "text": [
      " \n"
     ]
    },
    {
     "name": "stderr",
     "output_type": "stream",
     "text": [
      "Epoch 111 Training: 100%|██████████| 3830/3830 [00:58<00:00, 65.72batch/s, loss=-32.9920, loss_avg=-31.8544, lr=0.000238, r2=0.9937]\n",
      "Epoch 111 Validating: 100%|██████████| 213/213 [00:02<00:00, 75.22batch/s, loss_avg=-32.9138, loss_val=-32.8032, mse=0.0003, r2=0.9938] \n"
     ]
    },
    {
     "name": "stdout",
     "output_type": "stream",
     "text": [
      " \n"
     ]
    },
    {
     "name": "stderr",
     "output_type": "stream",
     "text": [
      "Epoch 112 Training: 100%|██████████| 3830/3830 [00:57<00:00, 66.15batch/s, loss=-32.7225, loss_avg=-32.0088, lr=0.000238, r2=0.9939]\n",
      "Epoch 112 Validating: 100%|██████████| 213/213 [00:02<00:00, 75.98batch/s, loss_avg=-31.9573, loss_val=-31.9313, mse=0.0003, r2=0.9939] \n"
     ]
    },
    {
     "name": "stdout",
     "output_type": "stream",
     "text": [
      " \n"
     ]
    },
    {
     "name": "stderr",
     "output_type": "stream",
     "text": [
      "Epoch 113 Training: 100%|██████████| 3830/3830 [00:58<00:00, 65.99batch/s, loss=-29.2606, loss_avg=-32.0302, lr=0.000238, r2=0.9941]\n",
      "Epoch 113 Validating: 100%|██████████| 213/213 [00:02<00:00, 76.59batch/s, loss_avg=-29.3493, loss_val=-29.3961, mse=0.0003, r2=0.9939] \n"
     ]
    },
    {
     "name": "stdout",
     "output_type": "stream",
     "text": [
      " \n"
     ]
    },
    {
     "name": "stderr",
     "output_type": "stream",
     "text": [
      "Epoch 114 Training: 100%|██████████| 3830/3830 [00:58<00:00, 65.46batch/s, loss=-32.6034, loss_avg=-32.0798, lr=0.000238, r2=0.9942]\n",
      "Epoch 114 Validating: 100%|██████████| 213/213 [00:02<00:00, 76.58batch/s, loss_avg=-31.9171, loss_val=-31.8175, mse=0.0002, r2=0.9944] \n"
     ]
    },
    {
     "name": "stdout",
     "output_type": "stream",
     "text": [
      " \n"
     ]
    },
    {
     "name": "stderr",
     "output_type": "stream",
     "text": [
      "Epoch 115 Training: 100%|██████████| 3830/3830 [00:58<00:00, 66.03batch/s, loss=-21.8326, loss_avg=-32.0260, lr=0.000238, r2=0.9942]\n",
      "Epoch 115 Validating: 100%|██████████| 213/213 [00:02<00:00, 76.25batch/s, loss_avg=-29.6855, loss_val=-29.7604, mse=0.0003, r2=0.9937] \n"
     ]
    },
    {
     "name": "stdout",
     "output_type": "stream",
     "text": [
      " \n"
     ]
    },
    {
     "name": "stderr",
     "output_type": "stream",
     "text": [
      "Epoch 116 Training: 100%|██████████| 3830/3830 [00:57<00:00, 66.22batch/s, loss=-32.5982, loss_avg=-31.9630, lr=0.000238, r2=0.9941]\n",
      "Epoch 116 Validating: 100%|██████████| 213/213 [00:02<00:00, 75.20batch/s, loss_avg=-32.9196, loss_val=-32.9273, mse=0.0002, r2=0.9946] \n"
     ]
    },
    {
     "name": "stdout",
     "output_type": "stream",
     "text": [
      "Save Best model: R2:0.9946, Loss Avg:-32.9196\n"
     ]
    },
    {
     "name": "stderr",
     "output_type": "stream",
     "text": [
      "Epoch 117 Training: 100%|██████████| 3830/3830 [00:58<00:00, 66.02batch/s, loss=-33.3586, loss_avg=-31.7599, lr=0.000238, r2=0.9941]\n",
      "Epoch 117 Validating: 100%|██████████| 213/213 [00:02<00:00, 75.49batch/s, loss_avg=-32.8757, loss_val=-32.8807, mse=0.0002, r2=0.9946] \n"
     ]
    },
    {
     "name": "stdout",
     "output_type": "stream",
     "text": [
      " \n"
     ]
    },
    {
     "name": "stderr",
     "output_type": "stream",
     "text": [
      "Epoch 118 Training: 100%|██████████| 3830/3830 [00:57<00:00, 66.10batch/s, loss=-32.9301, loss_avg=-31.8100, lr=0.000238, r2=0.9942]\n",
      "Epoch 118 Validating: 100%|██████████| 213/213 [00:02<00:00, 77.34batch/s, loss_avg=-32.7365, loss_val=-32.7098, mse=0.0002, r2=0.9945] \n"
     ]
    },
    {
     "name": "stdout",
     "output_type": "stream",
     "text": [
      " \n"
     ]
    },
    {
     "name": "stderr",
     "output_type": "stream",
     "text": [
      "Epoch 119 Training: 100%|██████████| 3830/3830 [00:57<00:00, 66.09batch/s, loss=-33.6565, loss_avg=-32.0205, lr=0.000238, r2=0.9942]\n",
      "Epoch 119 Validating: 100%|██████████| 213/213 [00:02<00:00, 73.88batch/s, loss_avg=-32.0971, loss_val=-32.0698, mse=0.0002, r2=0.9946] \n"
     ]
    },
    {
     "name": "stdout",
     "output_type": "stream",
     "text": [
      " \n"
     ]
    },
    {
     "name": "stderr",
     "output_type": "stream",
     "text": [
      "Epoch 120 Training: 100%|██████████| 3830/3830 [00:58<00:00, 65.98batch/s, loss=-31.9954, loss_avg=-32.1679, lr=0.000238, r2=0.9940]\n",
      "Epoch 120 Validating: 100%|██████████| 213/213 [00:02<00:00, 76.31batch/s, loss_avg=-32.2834, loss_val=-32.2437, mse=0.0003, r2=0.9935] \n"
     ]
    },
    {
     "name": "stdout",
     "output_type": "stream",
     "text": [
      " \n"
     ]
    },
    {
     "name": "stderr",
     "output_type": "stream",
     "text": [
      "Epoch 121 Training: 100%|██████████| 3830/3830 [00:57<00:00, 66.38batch/s, loss=-33.5795, loss_avg=-32.2112, lr=0.000238, r2=0.9941]\n",
      "Epoch 121 Validating: 100%|██████████| 213/213 [00:02<00:00, 77.13batch/s, loss_avg=-33.4700, loss_val=-33.4118, mse=0.0002, r2=0.9944] \n"
     ]
    },
    {
     "name": "stdout",
     "output_type": "stream",
     "text": [
      " \n"
     ]
    },
    {
     "name": "stderr",
     "output_type": "stream",
     "text": [
      "Epoch 122 Training: 100%|██████████| 3830/3830 [00:58<00:00, 65.89batch/s, loss=-33.3401, loss_avg=-32.0913, lr=0.000238, r2=0.9940]\n",
      "Epoch 122 Validating: 100%|██████████| 213/213 [00:02<00:00, 74.65batch/s, loss_avg=-33.5427, loss_val=-33.5579, mse=0.0002, r2=0.9944] \n"
     ]
    },
    {
     "name": "stdout",
     "output_type": "stream",
     "text": [
      " \n"
     ]
    },
    {
     "name": "stderr",
     "output_type": "stream",
     "text": [
      "Epoch 123 Training: 100%|██████████| 3830/3830 [00:58<00:00, 65.14batch/s, loss=-33.3718, loss_avg=-32.3671, lr=0.000238, r2=0.9941]\n",
      "Epoch 123 Validating: 100%|██████████| 213/213 [00:02<00:00, 75.12batch/s, loss_avg=-33.2283, loss_val=-33.2310, mse=0.0002, r2=0.9944] \n"
     ]
    },
    {
     "name": "stdout",
     "output_type": "stream",
     "text": [
      " \n"
     ]
    },
    {
     "name": "stderr",
     "output_type": "stream",
     "text": [
      "Epoch 124 Training: 100%|██████████| 3830/3830 [00:57<00:00, 66.09batch/s, loss=-31.7395, loss_avg=-32.1648, lr=0.000238, r2=0.9940]\n",
      "Epoch 124 Validating: 100%|██████████| 213/213 [00:02<00:00, 73.91batch/s, loss_avg=-30.3623, loss_val=-30.2305, mse=0.0003, r2=0.9932] \n"
     ]
    },
    {
     "name": "stdout",
     "output_type": "stream",
     "text": [
      " \n"
     ]
    },
    {
     "name": "stderr",
     "output_type": "stream",
     "text": [
      "Epoch 125 Training: 100%|██████████| 3830/3830 [00:58<00:00, 65.85batch/s, loss=-33.1939, loss_avg=-32.1673, lr=0.000238, r2=0.9941]\n",
      "Epoch 125 Validating: 100%|██████████| 213/213 [00:02<00:00, 75.16batch/s, loss_avg=-32.7031, loss_val=-32.6195, mse=0.0002, r2=0.9946] \n"
     ]
    },
    {
     "name": "stdout",
     "output_type": "stream",
     "text": [
      " \n"
     ]
    },
    {
     "name": "stderr",
     "output_type": "stream",
     "text": [
      "Epoch 126 Training: 100%|██████████| 3830/3830 [00:58<00:00, 65.82batch/s, loss=-33.2424, loss_avg=-32.3304, lr=0.000238, r2=0.9941]\n",
      "Epoch 126 Validating: 100%|██████████| 213/213 [00:02<00:00, 75.07batch/s, loss_avg=-33.2316, loss_val=-33.1536, mse=0.0003, r2=0.9941] \n"
     ]
    },
    {
     "name": "stdout",
     "output_type": "stream",
     "text": [
      " \n"
     ]
    },
    {
     "name": "stderr",
     "output_type": "stream",
     "text": [
      "Epoch 127 Training: 100%|██████████| 3830/3830 [00:57<00:00, 66.09batch/s, loss=-32.0622, loss_avg=-32.0740, lr=0.000238, r2=0.9941]\n",
      "Epoch 127 Validating: 100%|██████████| 213/213 [00:02<00:00, 75.17batch/s, loss_avg=-32.0129, loss_val=-31.9518, mse=0.0003, r2=0.9929] \n"
     ]
    },
    {
     "name": "stdout",
     "output_type": "stream",
     "text": [
      " \n"
     ]
    },
    {
     "name": "stderr",
     "output_type": "stream",
     "text": [
      "Epoch 128 Training: 100%|██████████| 3830/3830 [00:58<00:00, 65.11batch/s, loss=-29.9558, loss_avg=-32.3412, lr=0.000238, r2=0.9943]\n",
      "Epoch 128 Validating: 100%|██████████| 213/213 [00:02<00:00, 75.58batch/s, loss_avg=-31.7086, loss_val=-31.6634, mse=0.0003, r2=0.9936] \n"
     ]
    },
    {
     "name": "stdout",
     "output_type": "stream",
     "text": [
      " \n"
     ]
    },
    {
     "name": "stderr",
     "output_type": "stream",
     "text": [
      "Epoch 129 Training: 100%|██████████| 3830/3830 [00:58<00:00, 66.02batch/s, loss=-33.6121, loss_avg=-32.2069, lr=0.000238, r2=0.9943]\n",
      "Epoch 129 Validating: 100%|██████████| 213/213 [00:02<00:00, 75.48batch/s, loss_avg=-33.1799, loss_val=-33.1230, mse=0.0002, r2=0.9949] \n"
     ]
    },
    {
     "name": "stdout",
     "output_type": "stream",
     "text": [
      "Save Best model: R2:0.9949, Loss Avg:-33.1799\n"
     ]
    },
    {
     "name": "stderr",
     "output_type": "stream",
     "text": [
      "Epoch 130 Training: 100%|██████████| 3830/3830 [00:58<00:00, 65.70batch/s, loss=-33.1056, loss_avg=-32.2857, lr=0.000238, r2=0.9944]\n",
      "Epoch 130 Validating: 100%|██████████| 213/213 [00:02<00:00, 74.74batch/s, loss_avg=-33.3037, loss_val=-33.2930, mse=0.0002, r2=0.9947] \n"
     ]
    },
    {
     "name": "stdout",
     "output_type": "stream",
     "text": [
      " \n"
     ]
    },
    {
     "name": "stderr",
     "output_type": "stream",
     "text": [
      "Epoch 131 Training: 100%|██████████| 3830/3830 [00:58<00:00, 65.47batch/s, loss=-31.8905, loss_avg=-32.2318, lr=0.000238, r2=0.9944]\n",
      "Epoch 131 Validating: 100%|██████████| 213/213 [00:02<00:00, 76.97batch/s, loss_avg=-28.3693, loss_val=-28.4310, mse=0.0003, r2=0.9926] \n"
     ]
    },
    {
     "name": "stdout",
     "output_type": "stream",
     "text": [
      " \n"
     ]
    },
    {
     "name": "stderr",
     "output_type": "stream",
     "text": [
      "Epoch 132 Training: 100%|██████████| 3830/3830 [00:58<00:00, 65.67batch/s, loss=-33.7688, loss_avg=-32.1635, lr=0.000238, r2=0.9943]\n",
      "Epoch 132 Validating: 100%|██████████| 213/213 [00:02<00:00, 76.71batch/s, loss_avg=-33.5683, loss_val=-33.5365, mse=0.0002, r2=0.9944] \n"
     ]
    },
    {
     "name": "stdout",
     "output_type": "stream",
     "text": [
      " \n"
     ]
    },
    {
     "name": "stderr",
     "output_type": "stream",
     "text": [
      "Epoch 133 Training: 100%|██████████| 3830/3830 [00:58<00:00, 65.79batch/s, loss=-32.4013, loss_avg=-32.1019, lr=0.000238, r2=0.9943]\n",
      "Epoch 133 Validating: 100%|██████████| 213/213 [00:02<00:00, 75.31batch/s, loss_avg=-32.3888, loss_val=-32.3191, mse=0.0003, r2=0.9940] \n"
     ]
    },
    {
     "name": "stdout",
     "output_type": "stream",
     "text": [
      " \n"
     ]
    },
    {
     "name": "stderr",
     "output_type": "stream",
     "text": [
      "Epoch 134 Training: 100%|██████████| 3830/3830 [00:58<00:00, 65.66batch/s, loss=-32.8404, loss_avg=-32.3055, lr=0.000238, r2=0.9945]\n",
      "Epoch 134 Validating: 100%|██████████| 213/213 [00:02<00:00, 74.19batch/s, loss_avg=-33.0801, loss_val=-33.0243, mse=0.0003, r2=0.9942] \n"
     ]
    },
    {
     "name": "stdout",
     "output_type": "stream",
     "text": [
      " \n"
     ]
    },
    {
     "name": "stderr",
     "output_type": "stream",
     "text": [
      "Epoch 135 Training: 100%|██████████| 3830/3830 [00:58<00:00, 65.68batch/s, loss=-33.2642, loss_avg=-32.1682, lr=0.000238, r2=0.9941]\n",
      "Epoch 135 Validating: 100%|██████████| 213/213 [00:02<00:00, 72.97batch/s, loss_avg=-30.3399, loss_val=-30.3508, mse=0.0003, r2=0.9942] \n"
     ]
    },
    {
     "name": "stdout",
     "output_type": "stream",
     "text": [
      " \n"
     ]
    },
    {
     "name": "stderr",
     "output_type": "stream",
     "text": [
      "Epoch 136 Training: 100%|██████████| 3830/3830 [00:58<00:00, 65.38batch/s, loss=-33.3146, loss_avg=-32.2597, lr=0.000238, r2=0.9942]\n",
      "Epoch 136 Validating: 100%|██████████| 213/213 [00:02<00:00, 75.78batch/s, loss_avg=-33.4756, loss_val=-33.3783, mse=0.0002, r2=0.9944] \n"
     ]
    },
    {
     "name": "stdout",
     "output_type": "stream",
     "text": [
      " \n"
     ]
    },
    {
     "name": "stderr",
     "output_type": "stream",
     "text": [
      "Epoch 137 Training: 100%|██████████| 3830/3830 [00:58<00:00, 65.48batch/s, loss=-33.4370, loss_avg=-32.2324, lr=0.000238, r2=0.9941]\n",
      "Epoch 137 Validating: 100%|██████████| 213/213 [00:02<00:00, 75.37batch/s, loss_avg=-31.9108, loss_val=-31.8125, mse=0.0002, r2=0.9945] \n"
     ]
    },
    {
     "name": "stdout",
     "output_type": "stream",
     "text": [
      " \n"
     ]
    },
    {
     "name": "stderr",
     "output_type": "stream",
     "text": [
      "Epoch 138 Training: 100%|██████████| 3830/3830 [00:58<00:00, 65.68batch/s, loss=-33.8670, loss_avg=-32.3179, lr=0.000238, r2=0.9943]\n",
      "Epoch 138 Validating: 100%|██████████| 213/213 [00:02<00:00, 76.30batch/s, loss_avg=-33.3092, loss_val=-33.3357, mse=0.0002, r2=0.9947] \n"
     ]
    },
    {
     "name": "stdout",
     "output_type": "stream",
     "text": [
      " \n"
     ]
    },
    {
     "name": "stderr",
     "output_type": "stream",
     "text": [
      "Epoch 139 Training: 100%|██████████| 3830/3830 [00:58<00:00, 65.93batch/s, loss=-33.5768, loss_avg=-32.3007, lr=0.000238, r2=0.9943]\n",
      "Epoch 139 Validating: 100%|██████████| 213/213 [00:02<00:00, 76.24batch/s, loss_avg=-32.4569, loss_val=-32.3718, mse=0.0003, r2=0.9941] \n"
     ]
    },
    {
     "name": "stdout",
     "output_type": "stream",
     "text": [
      " \n"
     ]
    },
    {
     "name": "stderr",
     "output_type": "stream",
     "text": [
      "Epoch 140 Training: 100%|██████████| 3830/3830 [00:57<00:00, 66.51batch/s, loss=-30.3775, loss_avg=-32.3194, lr=0.000238, r2=0.9943]\n",
      "Epoch 140 Validating: 100%|██████████| 213/213 [00:02<00:00, 78.23batch/s, loss_avg=-30.4465, loss_val=-30.4754, mse=0.0003, r2=0.9935] \n"
     ]
    },
    {
     "name": "stdout",
     "output_type": "stream",
     "text": [
      " \n"
     ]
    },
    {
     "name": "stderr",
     "output_type": "stream",
     "text": [
      "Epoch 141 Training: 100%|██████████| 3830/3830 [01:05<00:00, 58.61batch/s, loss=-32.6488, loss_avg=-32.1393, lr=0.000238, r2=0.9942]\n",
      "Epoch 141 Validating: 100%|██████████| 213/213 [00:02<00:00, 71.06batch/s, loss_avg=-32.5103, loss_val=-32.4065, mse=0.0003, r2=0.9942] \n"
     ]
    },
    {
     "name": "stdout",
     "output_type": "stream",
     "text": [
      " \n"
     ]
    },
    {
     "name": "stderr",
     "output_type": "stream",
     "text": [
      "Epoch 142 Training: 100%|██████████| 3830/3830 [00:58<00:00, 65.54batch/s, loss=-33.6681, loss_avg=-32.3146, lr=0.000238, r2=0.9945]\n",
      "Epoch 142 Validating: 100%|██████████| 213/213 [00:02<00:00, 72.78batch/s, loss_avg=-33.0992, loss_val=-33.1299, mse=0.0002, r2=0.9948] \n"
     ]
    },
    {
     "name": "stdout",
     "output_type": "stream",
     "text": [
      " \n"
     ]
    },
    {
     "name": "stderr",
     "output_type": "stream",
     "text": [
      "Epoch 143 Training: 100%|██████████| 3830/3830 [00:59<00:00, 64.12batch/s, loss=-33.7124, loss_avg=-32.3924, lr=0.000238, r2=0.9946]\n",
      "Epoch 143 Validating: 100%|██████████| 213/213 [00:03<00:00, 64.71batch/s, loss_avg=-33.6941, loss_val=-33.6784, mse=0.0002, r2=0.9951] \n"
     ]
    },
    {
     "name": "stdout",
     "output_type": "stream",
     "text": [
      "Save Best model: R2:0.9951, Loss Avg:-33.6941\n"
     ]
    },
    {
     "name": "stderr",
     "output_type": "stream",
     "text": [
      "Epoch 144 Training: 100%|██████████| 3830/3830 [01:01<00:00, 61.87batch/s, loss=-34.1849, loss_avg=-32.2567, lr=0.000238, r2=0.9945]\n",
      "Epoch 144 Validating: 100%|██████████| 213/213 [00:03<00:00, 61.19batch/s, loss_avg=-33.0816, loss_val=-33.0044, mse=0.0002, r2=0.9948] \n"
     ]
    },
    {
     "name": "stdout",
     "output_type": "stream",
     "text": [
      " \n"
     ]
    },
    {
     "name": "stderr",
     "output_type": "stream",
     "text": [
      "Epoch 145 Training: 100%|██████████| 3830/3830 [01:00<00:00, 63.81batch/s, loss=-33.1876, loss_avg=-32.4214, lr=0.000238, r2=0.9944]\n",
      "Epoch 145 Validating: 100%|██████████| 213/213 [00:03<00:00, 67.55batch/s, loss_avg=-33.2580, loss_val=-33.1444, mse=0.0002, r2=0.9947] \n"
     ]
    },
    {
     "name": "stdout",
     "output_type": "stream",
     "text": [
      " \n"
     ]
    },
    {
     "name": "stderr",
     "output_type": "stream",
     "text": [
      "Epoch 146 Training: 100%|██████████| 3830/3830 [00:59<00:00, 64.66batch/s, loss=-32.7180, loss_avg=-32.6357, lr=0.000238, r2=0.9946]\n",
      "Epoch 146 Validating: 100%|██████████| 213/213 [00:02<00:00, 73.93batch/s, loss_avg=-31.9256, loss_val=-31.7720, mse=0.0002, r2=0.9946] \n"
     ]
    },
    {
     "name": "stdout",
     "output_type": "stream",
     "text": [
      " \n"
     ]
    },
    {
     "name": "stderr",
     "output_type": "stream",
     "text": [
      "Epoch 147 Training: 100%|██████████| 3830/3830 [01:10<00:00, 54.41batch/s, loss=-29.5480, loss_avg=-32.5394, lr=0.000238, r2=0.9944]\n",
      "Epoch 147 Validating: 100%|██████████| 213/213 [00:03<00:00, 64.35batch/s, loss_avg=-30.6800, loss_val=-30.5776, mse=0.0003, r2=0.9933] \n"
     ]
    },
    {
     "name": "stdout",
     "output_type": "stream",
     "text": [
      " \n"
     ]
    },
    {
     "name": "stderr",
     "output_type": "stream",
     "text": [
      "Epoch 148 Training: 100%|██████████| 3830/3830 [01:01<00:00, 62.55batch/s, loss=-34.2432, loss_avg=-32.4607, lr=0.000238, r2=0.9944]\n",
      "Epoch 148 Validating: 100%|██████████| 213/213 [00:02<00:00, 71.34batch/s, loss_avg=-33.5648, loss_val=-33.5123, mse=0.0002, r2=0.9947] \n"
     ]
    },
    {
     "name": "stdout",
     "output_type": "stream",
     "text": [
      " \n"
     ]
    },
    {
     "name": "stderr",
     "output_type": "stream",
     "text": [
      "Epoch 149 Training: 100%|██████████| 3830/3830 [00:59<00:00, 63.98batch/s, loss=-33.3486, loss_avg=-32.6084, lr=0.000238, r2=0.9945]\n",
      "Epoch 149 Validating: 100%|██████████| 213/213 [00:02<00:00, 72.37batch/s, loss_avg=-33.0169, loss_val=-32.9749, mse=0.0002, r2=0.9945] \n"
     ]
    },
    {
     "name": "stdout",
     "output_type": "stream",
     "text": [
      " \n"
     ]
    },
    {
     "name": "stderr",
     "output_type": "stream",
     "text": [
      "Epoch 150 Training: 100%|██████████| 3830/3830 [00:59<00:00, 64.66batch/s, loss=-33.0071, loss_avg=-32.4513, lr=0.000238, r2=0.9946]\n",
      "Epoch 150 Validating: 100%|██████████| 213/213 [00:02<00:00, 72.74batch/s, loss_avg=-33.7206, loss_val=-33.6518, mse=0.0002, r2=0.9950] "
     ]
    },
    {
     "name": "stdout",
     "output_type": "stream",
     "text": [
      " \n"
     ]
    },
    {
     "name": "stderr",
     "output_type": "stream",
     "text": [
      "\n"
     ]
    }
   ],
   "source": [
    "t_l, v_l, val_r2, train_r2, mse = loop.fit_for_MDN(t_loader, v_loader, criterion, model=model, mixture=pdf, warmup_epoch=5)"
   ]
  },
  {
   "cell_type": "code",
   "execution_count": 13,
   "metadata": {
    "pycharm": {
     "name": "#%%\n"
    }
   },
   "outputs": [
    {
     "data": {
      "image/png": "[encoded data removed]",
      "text/plain": [
       "<Figure size 720x432 with 1 Axes>"
      ]
     },
     "metadata": {},
     "output_type": "display_data"
    }
   ],
   "source": [
    "result_pd = pd.DataFrame()\n",
    "result_pd['epoch'] = range(150)\n",
    "result_pd['train_r2_avg'] = train_r2\n",
    "result_pd['val_r2_avg'] = val_r2\n",
    "\n",
    "loop.plot_line_2(y_1='train_r2_avg', y_2='val_r2_avg', df=result_pd, fig_size=(10, 6), output_path=\"D:\\\\PythonProject\\\\RebuildProject\\\\Rock\\\\imgs\\\\MRCk2_MDN20231129_TrainValR2.png\", dpi=300)"
   ]
  },
  {
   "cell_type": "code",
   "execution_count": 14,
   "metadata": {
    "pycharm": {
     "name": "#%%\n"
    }
   },
   "outputs": [
    {
     "data": {
      "image/png": "[encoded data removed]",
      "text/plain": [
       "<Figure size 720x432 with 1 Axes>"
      ]
     },
     "metadata": {},
     "output_type": "display_data"
    }
   ],
   "source": [
    "result_pd = pd.DataFrame()\n",
    "result_pd['epoch'] = range(150)\n",
    "result_pd['train_loss_avg'] = t_l\n",
    "result_pd['val_loss_avg'] = v_l\n",
    "\n",
    "loop.plot_line_2(y_1='train_loss_avg', y_2='val_loss_avg', df=result_pd, fig_size=(10, 6), output_path=\"D:\\\\PythonProject\\\\RebuildProject\\\\Rock\\\\imgs\\\\MRCk2_MDN20231129_TrainValLoss.png\", dpi=300)"
   ]
  },
  {
   "cell_type": "code",
   "execution_count": 16,
   "metadata": {
    "pycharm": {
     "name": "#%%\n"
    }
   },
   "outputs": [],
   "source": [
    "test_x_np = test_x.numpy()\n",
    "test_y_np = test_y.numpy()"
   ]
  },
  {
   "cell_type": "code",
   "execution_count": 17,
   "metadata": {
    "pycharm": {
     "name": "#%%\n"
    }
   },
   "outputs": [],
   "source": [
    "np.save('D:\\\\Resource\\\\MDN\\\\TestDataMRCk2\\\\test_x.npy', test_x_np)\n",
    "np.save('D:\\\\Resource\\\\MDN\\\\TestDataMRCk2\\\\test_y.npy', test_y_np)\n",
    "np.save('D:\\\\Resource\\\\MDN\\\\TestDataMRCk2\\\\scaler_x.npy', s_x)\n",
    "np.save('D:\\\\Resource\\\\MDN\\\\TestDataMRCk2\\\\scaler_y.npy', s_y)"
   ]
  },
  {
   "cell_type": "code",
   "execution_count": 39,
   "outputs": [
    {
     "data": {
      "text/plain": "['D:\\\\Resource\\\\MDN\\\\TestDataMRCk2\\\\MDN_MRCk2_yscaler_20231201.save']"
     },
     "execution_count": 39,
     "metadata": {},
     "output_type": "execute_result"
    }
   ],
   "source": [
    "joblib.dump(s_x, \"D:\\\\Resource\\\\MDN\\\\TestDataMRCk2\\\\MDN_MRCk2_Xscaler_20231201.save\")\n",
    "joblib.dump(s_y, \"D:\\\\Resource\\\\MDN\\\\TestDataMRCk2\\\\MDN_MRCk2_yscaler_20231201.save\")"
   ],
   "metadata": {
    "collapsed": false,
    "pycharm": {
     "name": "#%%\n"
    }
   }
  }
 ],
 "metadata": {
  "kernelspec": {
   "display_name": "Python 3 (ipykernel)",
   "language": "python",
   "name": "python3"
  },
  "language_info": {
   "codemirror_mode": {
    "name": "ipython",
    "version": 3
   },
   "file_extension": ".py",
   "mimetype": "text/x-python",
   "name": "python",
   "nbconvert_exporter": "python",
   "pygments_lexer": "ipython3",
   "version": "3.7.1"
  }
 },
 "nbformat": 4,
 "nbformat_minor": 1
}