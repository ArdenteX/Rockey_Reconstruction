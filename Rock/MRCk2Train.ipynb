{
 "cells": [
  {
   "cell_type": "code",
   "execution_count": 1,
   "metadata": {
    "pycharm": {
     "name": "#%%\n"
    },
    "ExecuteTime": {
     "end_time": "2024-02-02T20:07:44.092106500Z",
     "start_time": "2024-02-02T20:07:27.283865400Z"
    }
   },
   "outputs": [],
   "source": [
    "from tortreinador import train\n",
    "import pandas as pd\n",
    "import os\n",
    "import numpy as np\n",
    "from tortreinador.utils.plot import plot_line_2\n",
    "from tortreinador.utils.preprocessing import load_data\n",
    "from tortreinador.train import TorchTrainer\n",
    "from tortreinador.models.MDN import mdn, Mixture, NLLLoss\n",
    "from tortreinador.utils.View import init_weights, split_weights\n",
    "import joblib\n",
    "import torch"
   ]
  },
  {
   "cell_type": "code",
   "execution_count": 5,
   "metadata": {
    "pycharm": {
     "name": "#%%\n"
    },
    "ExecuteTime": {
     "end_time": "2024-02-02T20:08:20.451895400Z",
     "start_time": "2024-02-02T20:08:20.431289800Z"
    }
   },
   "outputs": [],
   "source": [
    "input_parameters = [\n",
    "    'Mass',\n",
    "    'Radius',\n",
    "    'Fe_(Mg+Si)',\n",
    "    'k2',\n",
    "]\n",
    "\n",
    "\n",
    "output_parameters = [\n",
    "    'WRF',\n",
    "    'MRF',\n",
    "    'CRF',\n",
    "    'CMF',\n",
    "    'PRS_CMB',\n",
    "    'TEP_CMB',\n",
    "]"
   ]
  },
  {
   "cell_type": "code",
   "execution_count": 3,
   "metadata": {
    "pycharm": {
     "name": "#%%\n"
    },
    "ExecuteTime": {
     "end_time": "2024-01-28T19:01:27.872889300Z",
     "start_time": "2024-01-28T19:01:27.834020400Z"
    }
   },
   "outputs": [
    {
     "name": "stdout",
     "output_type": "stream",
     "text": [
      "Batch size: 512, Epoch:200, is GPU: True\n"
     ]
    }
   ],
   "source": [
    "trainer = train.TorchTrainer(epoch=200)"
   ]
  },
  {
   "cell_type": "code",
   "execution_count": 4,
   "metadata": {
    "pycharm": {
     "name": "#%%\n"
    },
    "ExecuteTime": {
     "end_time": "2024-01-28T19:01:29.215033700Z",
     "start_time": "2024-01-28T19:01:29.174167700Z"
    }
   },
   "outputs": [],
   "source": [
    "model = mdn(len(input_parameters), len(output_parameters), 20, 512)\n",
    "init_weights(model)\n",
    "criterion = NLLLoss()\n",
    "pdf = Mixture()\n",
    "optim = torch.optim.Adam(split_weights(model), lr=0.0001)\n"
   ]
  },
  {
   "cell_type": "code",
   "execution_count": 5,
   "metadata": {
    "pycharm": {
     "name": "#%%\n"
    },
    "ExecuteTime": {
     "end_time": "2024-01-28T19:01:54.318043900Z",
     "start_time": "2024-01-28T19:01:29.936083100Z"
    }
   },
   "outputs": [],
   "source": [
    "file_path = 'D:\\\\Resource\\\\MRCK_2\\\\'\n",
    "nowater_data_frames = []\n",
    "\n",
    "file_nowater = os.listdir(file_path + 'nowater')\n",
    "for f in file_nowater:\n",
    "    tmp = pd.read_table(file_path + '\\\\' + 'nowater\\\\' + f, delimiter=\"\\s+\", header=None)\n",
    "    nowater_data_frames.append(tmp)\n",
    "\n",
    "df_nowater = pd.concat(nowater_data_frames)\n",
    "\n",
    "\n",
    "file_water = os.listdir(file_path + 'water')\n",
    "water_data_frames = []\n",
    "for f in file_water:\n",
    "    tmp = pd.read_table(file_path + '\\\\' + 'water\\\\' + f, delimiter=\"\\s+\", header=None)\n",
    "    water_data_frames.append(tmp)\n",
    "\n",
    "df_water = pd.concat(water_data_frames)\n",
    "\n",
    "\n",
    "# combine merged nowater and water data\n",
    "df_all = pd.concat([df_nowater, df_water])\n",
    "\n",
    "# rename columns\n",
    "df_all.columns = ['Mass', 'Radius', 'WMF',\n",
    "                  'CMF', 'WRF', 'CRF', 'PRS_WMB',\n",
    "                  'TEP_WMB', 'PRS_CMB', 'TEP_CMB', 'PRS_CEN', 'TEP_CEN',\n",
    "                  'k2', 'FeMg_mantle', 'SiMg_mantle', 'FeO_mantle']\n",
    "\n",
    "# reset index\n",
    "df_all = df_all.reset_index(drop=True)\n",
    "\n",
    "df_all = df_all.astype(float)\n",
    "\n",
    "CaMg = 0.06\n",
    "AlMg = 0.08\n",
    "wt_frac_S_core = 0.0695     # by mass\n",
    "\n",
    "mFe = 55.845\n",
    "mMg = 24.306\n",
    "mSi = 28.0867\n",
    "mO = 15.9994\n",
    "mS = 32.0650\n",
    "mCa = 40.078\n",
    "mAl = 26.981\n",
    "\n",
    "# you can check the FeO_mantle results from the mantle molar ratios FeMg, SiMg, CaMg, AlMg\n",
    "# The results should be same as the column FeO_mantle\n",
    "reduced_mantle_mass = df_all['FeMg_mantle'] * (mFe+mO) + df_all['SiMg_mantle'] * (mSi+2.0*mO) + CaMg * (mCa+mO) + AlMg * (mAl+1.5*mO) + (mMg+mO)\n",
    "FeO_mantle_cal = df_all['FeMg_mantle'] * (mFe+mO) / reduced_mantle_mass\n",
    "\n",
    "# number of Fe atoms in the core\n",
    "nFe_core = df_all['CMF'] * (1.0 - wt_frac_S_core) / mFe\n",
    "\n",
    "# number of Fe atoms in the mantle\n",
    "nFe_mantle = (1.0 - df_all['CMF'] - df_all['WMF']) * df_all['FeO_mantle'] / (mFe + mO)\n",
    "\n",
    "# number of Mg atoms in the mantle\n",
    "nMg_mantle = nFe_mantle / df_all['FeMg_mantle']\n",
    "\n",
    "# bulk FeMg\n",
    "FeMg = (nFe_core + nFe_mantle) / nMg_mantle\n",
    "df_all['FeMg'] = FeMg\n",
    "\n",
    "# bulk SiMg: there is no Si & Mg in the core\n",
    "df_all['SiMg'] = df_all['SiMg_mantle']\n",
    "\n",
    "df_all = df_all[df_all['FeMg']<=40]\n",
    "\n",
    "df_all[\"Fe_(Mg+Si)\"] = df_all[\"FeMg\"]/(df_all[\"SiMg\"] + 1)\n",
    "\n",
    "df_all[\"MRF\"] = 1 - df_all[\"WRF\"] - df_all[\"CRF\"]"
   ]
  },
  {
   "cell_type": "code",
   "execution_count": 6,
   "metadata": {
    "pycharm": {
     "name": "#%%\n"
    },
    "ExecuteTime": {
     "end_time": "2024-01-28T19:02:06.857682Z",
     "start_time": "2024-01-28T19:02:03.806998800Z"
    }
   },
   "outputs": [],
   "source": [
    "t_loader, v_loader, test_x, test_y, s_x, s_y = load_data(data=df_all, input_parameters=input_parameters, output_parameters=output_parameters,\n",
    "                           if_normal=True, if_shuffle=True, batch_size=512)"
   ]
  },
  {
   "cell_type": "code",
   "execution_count": 8,
   "outputs": [
    {
     "name": "stdout",
     "output_type": "stream",
     "text": [
      "module.root_layer.0.weight : torch.Size([512, 4])\n",
      "module.root_layer.0.bias : torch.Size([512])\n",
      "module.root_layer.2.weight : torch.Size([512, 512])\n",
      "module.root_layer.2.bias : torch.Size([512])\n",
      "module.root_layer.4.weight : torch.Size([512, 512])\n",
      "module.root_layer.4.bias : torch.Size([512])\n",
      "module.pi.0.weight : torch.Size([512, 512])\n",
      "module.pi.0.bias : torch.Size([512])\n",
      "module.pi.2.weight : torch.Size([20, 512])\n",
      "module.pi.2.bias : torch.Size([20])\n",
      "module.mu.0.weight : torch.Size([512, 512])\n",
      "module.mu.0.bias : torch.Size([512])\n",
      "module.mu.2.weight : torch.Size([120, 512])\n",
      "module.mu.2.bias : torch.Size([120])\n",
      "module.sigma.0.weight : torch.Size([512, 512])\n",
      "module.sigma.0.bias : torch.Size([512])\n",
      "module.sigma.2.weight : torch.Size([120, 512])\n",
      "module.sigma.2.bias : torch.Size([120])\n"
     ]
    },
    {
     "name": "stderr",
     "output_type": "stream",
     "text": [
      "  0%|          | 0/6808 [00:00<?, ?batch/s]E:\\anaconda\\envs\\deeplearning\\lib\\site-packages\\torch\\optim\\lr_scheduler.py:136: UserWarning: Detected call of `lr_scheduler.step()` before `optimizer.step()`. In PyTorch 1.1.0 and later, you should call them in the opposite order: `optimizer.step()` before `lr_scheduler.step()`.  Failure to do this will result in PyTorch skipping the first value of the learning rate schedule. See more details at https://pytorch.org/docs/stable/optim.html#how-to-adjust-learning-rate\n",
      "  \"https://pytorch.org/docs/stable/optim.html#how-to-adjust-learning-rate\", UserWarning)\n",
      "Epoch 1 Training: 100%|██████████| 6808/6808 [02:36<00:00, 43.60batch/s, loss=-16.6457, loss_avg=-11.0358, lr=0.000020, r2=-4.9120]\n",
      "Epoch 1 Validating: 100%|██████████| 851/851 [00:11<00:00, 75.24batch/s, loss=-16.9643, loss_avg=-16.8173, mse=0.0426, r2=0.1903]\n",
      "Epoch 2 Training: 100%|██████████| 6808/6808 [02:27<00:00, 46.21batch/s, loss=-21.3459, loss_avg=-19.4683, lr=0.000040, r2=0.6555]\n",
      "Epoch 2 Validating: 100%|██████████| 851/851 [00:09<00:00, 85.90batch/s, loss=-21.3558, loss_avg=-21.2948, mse=0.0090, r2=0.8177] \n"
     ]
    },
    {
     "name": "stdout",
     "output_type": "stream",
     "text": [
      "Save Best model: R2:0.8177, Loss Avg:-21.2948\n"
     ]
    },
    {
     "name": "stderr",
     "output_type": "stream",
     "text": [
      "Epoch 3 Training: 100%|██████████| 6808/6808 [02:27<00:00, 46.27batch/s, loss=-22.5337, loss_avg=-21.9842, lr=0.000060, r2=0.8475]\n",
      "Epoch 3 Validating: 100%|██████████| 851/851 [00:09<00:00, 86.40batch/s, loss=-22.7249, loss_avg=-22.5239, mse=0.0061, r2=0.8700] \n"
     ]
    },
    {
     "name": "stdout",
     "output_type": "stream",
     "text": [
      "Save Best model: R2:0.8700, Loss Avg:-22.5239\n"
     ]
    },
    {
     "name": "stderr",
     "output_type": "stream",
     "text": [
      "Epoch 4 Training: 100%|██████████| 6808/6808 [02:26<00:00, 46.39batch/s, loss=-23.8046, loss_avg=-23.2456, lr=0.000080, r2=0.8779]\n",
      "Epoch 4 Validating: 100%|██████████| 851/851 [00:09<00:00, 87.83batch/s, loss=-24.1824, loss_avg=-23.8351, mse=0.0059, r2=0.8843] \n"
     ]
    },
    {
     "name": "stdout",
     "output_type": "stream",
     "text": [
      "Save Best model: R2:0.8843, Loss Avg:-23.8351\n"
     ]
    },
    {
     "name": "stderr",
     "output_type": "stream",
     "text": [
      "Epoch 5 Training: 100%|██████████| 6808/6808 [02:26<00:00, 46.34batch/s, loss=-24.4103, loss_avg=-24.2138, lr=0.000100, r2=0.8868]\n",
      "Epoch 5 Validating: 100%|██████████| 851/851 [00:09<00:00, 86.64batch/s, loss=-24.8119, loss_avg=-24.5233, mse=0.0044, r2=0.8786] \n",
      "Epoch 6 Training: 100%|██████████| 6808/6808 [02:25<00:00, 46.81batch/s, loss=-25.2674, loss_avg=-24.7994, lr=0.000120, r2=-2.9264]\n",
      "Epoch 6 Validating: 100%|██████████| 851/851 [00:09<00:00, 87.26batch/s, loss=-25.1396, loss_avg=-25.0688, mse=0.0224, r2=0.7774] \n",
      "Epoch 7 Training: 100%|██████████| 6808/6808 [02:24<00:00, 47.09batch/s, loss=-25.7180, loss_avg=-25.5200, lr=0.000120, r2=0.9393]\n",
      "Epoch 7 Validating: 100%|██████████| 851/851 [00:09<00:00, 90.28batch/s, loss=-26.0221, loss_avg=-25.8940, mse=0.0021, r2=0.9568] \n"
     ]
    },
    {
     "name": "stdout",
     "output_type": "stream",
     "text": [
      "Save Best model: R2:0.9568, Loss Avg:-25.8940\n"
     ]
    },
    {
     "name": "stderr",
     "output_type": "stream",
     "text": [
      "Epoch 8 Training: 100%|██████████| 6808/6808 [02:24<00:00, 46.97batch/s, loss=-27.0045, loss_avg=-26.3696, lr=0.000120, r2=0.9674]\n",
      "Epoch 8 Validating: 100%|██████████| 851/851 [00:09<00:00, 88.11batch/s, loss=-26.9058, loss_avg=-26.6376, mse=0.0010, r2=0.9751] \n"
     ]
    },
    {
     "name": "stdout",
     "output_type": "stream",
     "text": [
      "Save Best model: R2:0.9751, Loss Avg:-26.6376\n"
     ]
    },
    {
     "name": "stderr",
     "output_type": "stream",
     "text": [
      "Epoch 9 Training: 100%|██████████| 6808/6808 [02:25<00:00, 46.80batch/s, loss=-27.9569, loss_avg=-27.2987, lr=0.000120, r2=0.9805]\n",
      "Epoch 9 Validating: 100%|██████████| 851/851 [00:09<00:00, 88.18batch/s, loss=-27.9398, loss_avg=-27.9444, mse=0.0008, r2=0.9846] \n"
     ]
    },
    {
     "name": "stdout",
     "output_type": "stream",
     "text": [
      "Save Best model: R2:0.9846, Loss Avg:-27.9444\n"
     ]
    },
    {
     "name": "stderr",
     "output_type": "stream",
     "text": [
      "Epoch 10 Training: 100%|██████████| 6808/6808 [02:25<00:00, 46.80batch/s, loss=-28.6204, loss_avg=-28.0378, lr=0.000120, r2=0.9855]\n",
      "Epoch 10 Validating: 100%|██████████| 851/851 [00:09<00:00, 89.33batch/s, loss=-28.6171, loss_avg=-28.6328, mse=0.0007, r2=0.9873] \n"
     ]
    },
    {
     "name": "stdout",
     "output_type": "stream",
     "text": [
      "Save Best model: R2:0.9873, Loss Avg:-28.6328\n"
     ]
    },
    {
     "name": "stderr",
     "output_type": "stream",
     "text": [
      "Epoch 11 Training: 100%|██████████| 6808/6808 [02:25<00:00, 46.91batch/s, loss=-29.2237, loss_avg=-28.5357, lr=0.000120, r2=0.9880]\n",
      "Epoch 11 Validating: 100%|██████████| 851/851 [00:09<00:00, 89.47batch/s, loss=-29.1915, loss_avg=-29.1434, mse=0.0005, r2=0.9896] \n"
     ]
    },
    {
     "name": "stdout",
     "output_type": "stream",
     "text": [
      "Save Best model: R2:0.9896, Loss Avg:-29.1434\n"
     ]
    },
    {
     "name": "stderr",
     "output_type": "stream",
     "text": [
      "Epoch 12 Training: 100%|██████████| 6808/6808 [02:25<00:00, 46.80batch/s, loss=-28.7692, loss_avg=-28.8728, lr=0.000120, r2=0.9897]\n",
      "Epoch 12 Validating: 100%|██████████| 851/851 [00:09<00:00, 89.36batch/s, loss=-29.1268, loss_avg=-29.0449, mse=0.0005, r2=0.9903] \n"
     ]
    },
    {
     "name": "stdout",
     "output_type": "stream",
     "text": [
      "Save Best model: R2:0.9903, Loss Avg:-29.0449\n"
     ]
    },
    {
     "name": "stderr",
     "output_type": "stream",
     "text": [
      "Epoch 13 Training: 100%|██████████| 6808/6808 [02:24<00:00, 47.12batch/s, loss=-29.8820, loss_avg=-29.2422, lr=0.000120, r2=0.9908]\n",
      "Epoch 13 Validating: 100%|██████████| 851/851 [00:09<00:00, 88.15batch/s, loss=-29.9752, loss_avg=-29.9220, mse=0.0004, r2=0.9917] \n"
     ]
    },
    {
     "name": "stdout",
     "output_type": "stream",
     "text": [
      "Save Best model: R2:0.9917, Loss Avg:-29.9220\n"
     ]
    },
    {
     "name": "stderr",
     "output_type": "stream",
     "text": [
      "Epoch 14 Training: 100%|██████████| 6808/6808 [02:24<00:00, 47.04batch/s, loss=-29.9007, loss_avg=-29.5426, lr=0.000120, r2=0.9917]\n",
      "Epoch 14 Validating: 100%|██████████| 851/851 [00:09<00:00, 88.08batch/s, loss=-29.9156, loss_avg=-29.8313, mse=0.0004, r2=0.9921] \n"
     ]
    },
    {
     "name": "stdout",
     "output_type": "stream",
     "text": [
      "Save Best model: R2:0.9921, Loss Avg:-29.8313\n"
     ]
    },
    {
     "name": "stderr",
     "output_type": "stream",
     "text": [
      "Epoch 15 Training: 100%|██████████| 6808/6808 [02:24<00:00, 47.03batch/s, loss=-30.4545, loss_avg=-29.8485, lr=0.000120, r2=0.9924]\n",
      "Epoch 15 Validating: 100%|██████████| 851/851 [00:09<00:00, 89.51batch/s, loss=-30.1603, loss_avg=-30.1207, mse=0.0003, r2=0.9930] \n"
     ]
    },
    {
     "name": "stdout",
     "output_type": "stream",
     "text": [
      "Save Best model: R2:0.9930, Loss Avg:-30.1207\n"
     ]
    },
    {
     "name": "stderr",
     "output_type": "stream",
     "text": [
      "Epoch 16 Training: 100%|██████████| 6808/6808 [02:24<00:00, 47.00batch/s, loss=-30.6650, loss_avg=-30.0942, lr=0.000120, r2=0.9929]\n",
      "Epoch 16 Validating: 100%|██████████| 851/851 [00:09<00:00, 87.32batch/s, loss=-30.6381, loss_avg=-30.6273, mse=0.0004, r2=0.9935] \n"
     ]
    },
    {
     "name": "stdout",
     "output_type": "stream",
     "text": [
      "Save Best model: R2:0.9935, Loss Avg:-30.6273\n"
     ]
    },
    {
     "name": "stderr",
     "output_type": "stream",
     "text": [
      "Epoch 17 Training: 100%|██████████| 6808/6808 [02:24<00:00, 47.15batch/s, loss=-30.6645, loss_avg=-30.3087, lr=0.000120, r2=0.9933]\n",
      "Epoch 17 Validating: 100%|██████████| 851/851 [00:09<00:00, 88.60batch/s, loss=-30.2815, loss_avg=-30.2124, mse=0.0003, r2=0.9933] \n",
      "Epoch 18 Training: 100%|██████████| 6808/6808 [02:23<00:00, 47.32batch/s, loss=-30.8559, loss_avg=-30.4989, lr=0.000120, r2=0.9935]\n",
      "Epoch 18 Validating: 100%|██████████| 851/851 [00:09<00:00, 89.31batch/s, loss=-30.6304, loss_avg=-30.5871, mse=0.0003, r2=0.9941] \n"
     ]
    },
    {
     "name": "stdout",
     "output_type": "stream",
     "text": [
      "Save Best model: R2:0.9941, Loss Avg:-30.5871\n"
     ]
    },
    {
     "name": "stderr",
     "output_type": "stream",
     "text": [
      "Epoch 19 Training: 100%|██████████| 6808/6808 [02:24<00:00, 47.02batch/s, loss=-30.7559, loss_avg=-30.6706, lr=0.000120, r2=0.9937]\n",
      "Epoch 19 Validating: 100%|██████████| 851/851 [00:09<00:00, 89.35batch/s, loss=-30.9277, loss_avg=-30.9566, mse=0.0003, r2=0.9940] \n",
      "Epoch 20 Training: 100%|██████████| 6808/6808 [02:24<00:00, 47.23batch/s, loss=-30.5743, loss_avg=-30.7970, lr=0.000120, r2=0.9937]\n",
      "Epoch 20 Validating: 100%|██████████| 851/851 [00:09<00:00, 89.30batch/s, loss=-30.1785, loss_avg=-30.3015, mse=0.0003, r2=0.9938] \n",
      "Epoch 21 Training: 100%|██████████| 6808/6808 [02:23<00:00, 47.40batch/s, loss=-31.2286, loss_avg=-30.8849, lr=0.000120, r2=0.9938]\n",
      "Epoch 21 Validating: 100%|██████████| 851/851 [00:09<00:00, 87.58batch/s, loss=-31.3945, loss_avg=-31.4400, mse=0.0003, r2=0.9941] \n"
     ]
    },
    {
     "name": "stdout",
     "output_type": "stream",
     "text": [
      "Save Best model: R2:0.9941, Loss Avg:-31.4400\n"
     ]
    },
    {
     "name": "stderr",
     "output_type": "stream",
     "text": [
      "Epoch 22 Training: 100%|██████████| 6808/6808 [02:24<00:00, 47.09batch/s, loss=-31.2925, loss_avg=-30.9940, lr=0.000120, r2=0.9941]\n",
      "Epoch 22 Validating: 100%|██████████| 851/851 [00:09<00:00, 88.64batch/s, loss=-31.8135, loss_avg=-31.7377, mse=0.0003, r2=0.9946] \n"
     ]
    },
    {
     "name": "stdout",
     "output_type": "stream",
     "text": [
      "Save Best model: R2:0.9946, Loss Avg:-31.7377\n"
     ]
    },
    {
     "name": "stderr",
     "output_type": "stream",
     "text": [
      "Epoch 23 Training: 100%|██████████| 6808/6808 [02:24<00:00, 47.16batch/s, loss=-31.4723, loss_avg=-30.9834, lr=0.000120, r2=0.9940]\n",
      "Epoch 23 Validating: 100%|██████████| 851/851 [00:09<00:00, 87.80batch/s, loss=-31.3655, loss_avg=-31.3351, mse=0.0003, r2=0.9940] \n",
      "Epoch 24 Training: 100%|██████████| 6808/6808 [02:23<00:00, 47.31batch/s, loss=-31.4645, loss_avg=-31.0862, lr=0.000120, r2=0.9941]\n",
      "Epoch 24 Validating: 100%|██████████| 851/851 [00:09<00:00, 88.31batch/s, loss=-32.0742, loss_avg=-31.9830, mse=0.0002, r2=0.9949] \n"
     ]
    },
    {
     "name": "stdout",
     "output_type": "stream",
     "text": [
      "Save Best model: R2:0.9949, Loss Avg:-31.9830\n"
     ]
    },
    {
     "name": "stderr",
     "output_type": "stream",
     "text": [
      "Epoch 25 Training: 100%|██████████| 6808/6808 [02:24<00:00, 47.16batch/s, loss=-30.0240, loss_avg=-31.1585, lr=0.000120, r2=0.9942]\n",
      "Epoch 25 Validating: 100%|██████████| 851/851 [00:09<00:00, 88.32batch/s, loss=-30.1013, loss_avg=-30.0335, mse=0.0003, r2=0.9933] \n",
      "Epoch 26 Training: 100%|██████████| 6808/6808 [02:24<00:00, 47.23batch/s, loss=-31.8831, loss_avg=-31.2573, lr=0.000120, r2=0.9943]\n",
      "Epoch 26 Validating: 100%|██████████| 851/851 [00:09<00:00, 87.94batch/s, loss=-32.0251, loss_avg=-31.9918, mse=0.0003, r2=0.9944] \n",
      "Epoch 27 Training: 100%|██████████| 6808/6808 [02:24<00:00, 47.28batch/s, loss=-31.7325, loss_avg=-31.2159, lr=0.000120, r2=0.9942]\n",
      "Epoch 27 Validating: 100%|██████████| 851/851 [00:09<00:00, 89.16batch/s, loss=-31.2772, loss_avg=-31.2791, mse=0.0002, r2=0.9942] \n",
      "Epoch 28 Training: 100%|██████████| 6808/6808 [02:23<00:00, 47.35batch/s, loss=-31.5632, loss_avg=-31.2734, lr=0.000120, r2=0.9943]\n",
      "Epoch 28 Validating: 100%|██████████| 851/851 [00:09<00:00, 86.76batch/s, loss=-31.6450, loss_avg=-31.6339, mse=0.0003, r2=0.9942] \n",
      "Epoch 29 Training: 100%|██████████| 6808/6808 [02:23<00:00, 47.41batch/s, loss=-31.6329, loss_avg=-31.4822, lr=0.000120, r2=0.9944]\n",
      "Epoch 29 Validating: 100%|██████████| 851/851 [00:09<00:00, 89.91batch/s, loss=-31.5578, loss_avg=-31.4978, mse=0.0002, r2=0.9948] \n",
      "Epoch 30 Training: 100%|██████████| 6808/6808 [02:23<00:00, 47.50batch/s, loss=-32.1542, loss_avg=-31.5043, lr=0.000120, r2=0.9944]\n",
      "Epoch 30 Validating: 100%|██████████| 851/851 [00:09<00:00, 86.09batch/s, loss=-32.1129, loss_avg=-31.9528, mse=0.0003, r2=0.9946] \n",
      "Epoch 31 Training: 100%|██████████| 6808/6808 [02:23<00:00, 47.59batch/s, loss=-31.0560, loss_avg=-31.4921, lr=0.000120, r2=0.9945]\n",
      "Epoch 31 Validating: 100%|██████████| 851/851 [00:09<00:00, 90.66batch/s, loss=-31.0793, loss_avg=-31.0430, mse=0.0003, r2=0.9942] \n",
      "Epoch 32 Training: 100%|██████████| 6808/6808 [02:22<00:00, 47.71batch/s, loss=-32.5600, loss_avg=-31.5867, lr=0.000120, r2=0.9945]\n",
      "Epoch 32 Validating: 100%|██████████| 851/851 [00:09<00:00, 90.08batch/s, loss=-31.7515, loss_avg=-31.6867, mse=0.0003, r2=0.9945] \n",
      "Epoch 33 Training: 100%|██████████| 6808/6808 [02:22<00:00, 47.74batch/s, loss=-32.0664, loss_avg=-31.7625, lr=0.000120, r2=0.9946]\n",
      "Epoch 33 Validating: 100%|██████████| 851/851 [00:09<00:00, 89.76batch/s, loss=-32.3310, loss_avg=-32.3014, mse=0.0003, r2=0.9950] \n"
     ]
    },
    {
     "name": "stdout",
     "output_type": "stream",
     "text": [
      "Save Best model: R2:0.9950, Loss Avg:-32.3014\n"
     ]
    },
    {
     "name": "stderr",
     "output_type": "stream",
     "text": [
      "Epoch 34 Training: 100%|██████████| 6808/6808 [02:24<00:00, 47.05batch/s, loss=-31.4441, loss_avg=-31.7530, lr=0.000120, r2=0.9946]\n",
      "Epoch 34 Validating: 100%|██████████| 851/851 [00:09<00:00, 89.55batch/s, loss=-31.6008, loss_avg=-31.5993, mse=0.0002, r2=0.9947] \n",
      "Epoch 35 Training: 100%|██████████| 6808/6808 [02:24<00:00, 47.25batch/s, loss=-31.6157, loss_avg=-31.8853, lr=0.000120, r2=0.9947]\n",
      "Epoch 35 Validating: 100%|██████████| 851/851 [00:09<00:00, 88.58batch/s, loss=-32.2704, loss_avg=-32.2861, mse=0.0003, r2=0.9950] \n",
      "Epoch 36 Training: 100%|██████████| 6808/6808 [02:23<00:00, 47.37batch/s, loss=-32.0657, loss_avg=-31.9259, lr=0.000120, r2=0.9947]\n",
      "Epoch 36 Validating: 100%|██████████| 851/851 [00:09<00:00, 87.41batch/s, loss=-32.0258, loss_avg=-32.0576, mse=0.0002, r2=0.9951] \n"
     ]
    },
    {
     "name": "stdout",
     "output_type": "stream",
     "text": [
      "Save Best model: R2:0.9951, Loss Avg:-32.0576\n"
     ]
    },
    {
     "name": "stderr",
     "output_type": "stream",
     "text": [
      "Epoch 37 Training: 100%|██████████| 6808/6808 [02:24<00:00, 47.11batch/s, loss=-32.2991, loss_avg=-32.0078, lr=0.000120, r2=0.9948]\n",
      "Epoch 37 Validating: 100%|██████████| 851/851 [00:09<00:00, 89.54batch/s, loss=-31.8775, loss_avg=-31.8199, mse=0.0003, r2=0.9949] \n",
      "Epoch 38 Training: 100%|██████████| 6808/6808 [02:23<00:00, 47.29batch/s, loss=-30.8497, loss_avg=-32.0306, lr=0.000120, r2=0.9949]\n",
      "Epoch 38 Validating: 100%|██████████| 851/851 [00:09<00:00, 90.41batch/s, loss=-32.2249, loss_avg=-32.1574, mse=0.0002, r2=0.9946] \n",
      "Epoch 39 Training: 100%|██████████| 6808/6808 [02:23<00:00, 47.35batch/s, loss=-31.4909, loss_avg=-32.0225, lr=0.000120, r2=0.9949]\n",
      "Epoch 39 Validating: 100%|██████████| 851/851 [00:09<00:00, 88.12batch/s, loss=-31.5305, loss_avg=-31.5329, mse=0.0002, r2=0.9947] \n",
      "Epoch 40 Training: 100%|██████████| 6808/6808 [02:23<00:00, 47.33batch/s, loss=-31.8879, loss_avg=-32.0538, lr=0.000120, r2=0.9949]\n",
      "Epoch 40 Validating: 100%|██████████| 851/851 [00:09<00:00, 90.42batch/s, loss=-32.7354, loss_avg=-32.6678, mse=0.0003, r2=0.9952] \n"
     ]
    },
    {
     "name": "stdout",
     "output_type": "stream",
     "text": [
      "Save Best model: R2:0.9952, Loss Avg:-32.6678\n"
     ]
    },
    {
     "name": "stderr",
     "output_type": "stream",
     "text": [
      "Epoch 41 Training: 100%|██████████| 6808/6808 [02:24<00:00, 47.27batch/s, loss=-31.6689, loss_avg=-32.1424, lr=0.000120, r2=0.9950]\n",
      "Epoch 41 Validating: 100%|██████████| 851/851 [00:09<00:00, 89.23batch/s, loss=-31.5860, loss_avg=-31.6324, mse=0.0002, r2=0.9946] \n",
      "Epoch 42 Training: 100%|██████████| 6808/6808 [02:23<00:00, 47.31batch/s, loss=-32.4135, loss_avg=-32.2015, lr=0.000120, r2=0.9950]\n",
      "Epoch 42 Validating: 100%|██████████| 851/851 [00:09<00:00, 89.02batch/s, loss=-32.7140, loss_avg=-32.6536, mse=0.0002, r2=0.9953] \n"
     ]
    },
    {
     "name": "stdout",
     "output_type": "stream",
     "text": [
      "Save Best model: R2:0.9953, Loss Avg:-32.6536\n"
     ]
    },
    {
     "name": "stderr",
     "output_type": "stream",
     "text": [
      "Epoch 43 Training: 100%|██████████| 6808/6808 [02:24<00:00, 47.15batch/s, loss=-31.9324, loss_avg=-32.2247, lr=0.000120, r2=0.9951]\n",
      "Epoch 43 Validating: 100%|██████████| 851/851 [00:09<00:00, 88.47batch/s, loss=-32.5513, loss_avg=-32.5281, mse=0.0002, r2=0.9949] \n",
      "Epoch 44 Training: 100%|██████████| 6808/6808 [02:24<00:00, 47.27batch/s, loss=-32.8510, loss_avg=-32.3052, lr=0.000120, r2=0.9951]\n",
      "Epoch 44 Validating: 100%|██████████| 851/851 [00:09<00:00, 88.82batch/s, loss=-32.3414, loss_avg=-32.2569, mse=0.0002, r2=0.9951] \n",
      "Epoch 45 Training: 100%|██████████| 6808/6808 [02:23<00:00, 47.31batch/s, loss=-32.7631, loss_avg=-32.3754, lr=0.000120, r2=0.9951]\n",
      "Epoch 45 Validating: 100%|██████████| 851/851 [00:09<00:00, 88.45batch/s, loss=-32.7969, loss_avg=-32.6617, mse=0.0002, r2=0.9954] \n"
     ]
    },
    {
     "name": "stdout",
     "output_type": "stream",
     "text": [
      "Save Best model: R2:0.9954, Loss Avg:-32.6617\n"
     ]
    },
    {
     "name": "stderr",
     "output_type": "stream",
     "text": [
      "Epoch 46 Training: 100%|██████████| 6808/6808 [02:24<00:00, 47.21batch/s, loss=-33.2263, loss_avg=-32.4174, lr=0.000120, r2=0.9952]\n",
      "Epoch 46 Validating: 100%|██████████| 851/851 [00:09<00:00, 90.16batch/s, loss=-33.1835, loss_avg=-33.1498, mse=0.0002, r2=0.9953] \n",
      "Epoch 47 Training: 100%|██████████| 6808/6808 [02:24<00:00, 47.24batch/s, loss=-31.6316, loss_avg=-32.4232, lr=0.000120, r2=0.9952]\n",
      "Epoch 47 Validating: 100%|██████████| 851/851 [00:09<00:00, 90.09batch/s, loss=-31.6131, loss_avg=-31.6977, mse=0.0002, r2=0.9948] \n",
      "Epoch 48 Training: 100%|██████████| 6808/6808 [02:23<00:00, 47.45batch/s, loss=-32.8078, loss_avg=-32.5379, lr=0.000120, r2=0.9953]\n",
      "Epoch 48 Validating: 100%|██████████| 851/851 [00:09<00:00, 89.13batch/s, loss=-33.3241, loss_avg=-33.2604, mse=0.0002, r2=0.9954] \n"
     ]
    },
    {
     "name": "stdout",
     "output_type": "stream",
     "text": [
      "Save Best model: R2:0.9954, Loss Avg:-33.2604\n"
     ]
    },
    {
     "name": "stderr",
     "output_type": "stream",
     "text": [
      "Epoch 49 Training: 100%|██████████| 6808/6808 [02:25<00:00, 46.90batch/s, loss=-32.9879, loss_avg=-32.5095, lr=0.000120, r2=0.9952]\n",
      "Epoch 49 Validating: 100%|██████████| 851/851 [00:09<00:00, 89.16batch/s, loss=-32.4975, loss_avg=-32.5668, mse=0.0003, r2=0.9941] \n",
      "Epoch 50 Training: 100%|██████████| 6808/6808 [02:24<00:00, 47.07batch/s, loss=-30.9365, loss_avg=-32.6474, lr=0.000120, r2=0.9953]\n",
      "Epoch 50 Validating: 100%|██████████| 851/851 [00:09<00:00, 88.91batch/s, loss=-31.9391, loss_avg=-31.9721, mse=0.0002, r2=0.9950] \n",
      "Epoch 51 Training: 100%|██████████| 6808/6808 [02:24<00:00, 47.04batch/s, loss=-32.7956, loss_avg=-32.5840, lr=0.000120, r2=0.9953]\n",
      "Epoch 51 Validating: 100%|██████████| 851/851 [00:09<00:00, 88.58batch/s, loss=-32.9889, loss_avg=-32.9487, mse=0.0002, r2=0.9955] \n"
     ]
    },
    {
     "name": "stdout",
     "output_type": "stream",
     "text": [
      "Save Best model: R2:0.9955, Loss Avg:-32.9487\n"
     ]
    },
    {
     "name": "stderr",
     "output_type": "stream",
     "text": [
      "Epoch 52 Training: 100%|██████████| 6808/6808 [02:24<00:00, 46.97batch/s, loss=-32.8506, loss_avg=-32.5441, lr=0.000120, r2=0.9952]\n",
      "Epoch 52 Validating: 100%|██████████| 851/851 [00:09<00:00, 88.98batch/s, loss=-31.8922, loss_avg=-31.9678, mse=0.0002, r2=0.9952] \n",
      "Epoch 53 Training: 100%|██████████| 6808/6808 [02:24<00:00, 47.25batch/s, loss=-31.9239, loss_avg=-32.5801, lr=0.000120, r2=0.9953]\n",
      "Epoch 53 Validating: 100%|██████████| 851/851 [00:09<00:00, 89.25batch/s, loss=-31.9753, loss_avg=-31.9271, mse=0.0003, r2=0.9943] \n",
      "Epoch 54 Training: 100%|██████████| 6808/6808 [02:24<00:00, 47.25batch/s, loss=-32.7712, loss_avg=-32.6962, lr=0.000120, r2=0.9953]\n",
      "Epoch 54 Validating: 100%|██████████| 851/851 [00:09<00:00, 88.86batch/s, loss=-33.0103, loss_avg=-33.0978, mse=0.0002, r2=0.9954] \n",
      "Epoch 55 Training: 100%|██████████| 6808/6808 [02:23<00:00, 47.39batch/s, loss=-32.9345, loss_avg=-32.6734, lr=0.000120, r2=0.9953]\n",
      "Epoch 55 Validating: 100%|██████████| 851/851 [00:09<00:00, 88.31batch/s, loss=-33.1677, loss_avg=-33.1247, mse=0.0002, r2=0.9953] \n",
      "Epoch 56 Training: 100%|██████████| 6808/6808 [02:23<00:00, 47.45batch/s, loss=-33.4976, loss_avg=-32.7514, lr=0.000120, r2=0.9953]\n",
      "Epoch 56 Validating: 100%|██████████| 851/851 [00:09<00:00, 88.53batch/s, loss=-33.3927, loss_avg=-33.4257, mse=0.0002, r2=0.9956] \n"
     ]
    },
    {
     "name": "stdout",
     "output_type": "stream",
     "text": [
      "Save Best model: R2:0.9956, Loss Avg:-33.4257\n"
     ]
    },
    {
     "name": "stderr",
     "output_type": "stream",
     "text": [
      "Epoch 57 Training: 100%|██████████| 6808/6808 [02:24<00:00, 47.20batch/s, loss=-33.8468, loss_avg=-32.8008, lr=0.000120, r2=0.9953]\n",
      "Epoch 57 Validating: 100%|██████████| 851/851 [00:09<00:00, 90.44batch/s, loss=-33.8955, loss_avg=-33.9265, mse=0.0002, r2=0.9958] \n"
     ]
    },
    {
     "name": "stdout",
     "output_type": "stream",
     "text": [
      "Save Best model: R2:0.9958, Loss Avg:-33.9265\n"
     ]
    },
    {
     "name": "stderr",
     "output_type": "stream",
     "text": [
      "Epoch 58 Training: 100%|██████████| 6808/6808 [02:24<00:00, 47.11batch/s, loss=-33.1232, loss_avg=-32.8505, lr=0.000120, r2=0.9954]\n",
      "Epoch 58 Validating: 100%|██████████| 851/851 [00:09<00:00, 88.97batch/s, loss=-33.5437, loss_avg=-33.5025, mse=0.0002, r2=0.9957] \n",
      "Epoch 59 Training: 100%|██████████| 6808/6808 [02:24<00:00, 47.23batch/s, loss=-32.6318, loss_avg=-32.9983, lr=0.000120, r2=0.9955]\n",
      "Epoch 59 Validating: 100%|██████████| 851/851 [00:09<00:00, 89.08batch/s, loss=-33.6948, loss_avg=-33.5104, mse=0.0002, r2=0.9958] \n"
     ]
    },
    {
     "name": "stdout",
     "output_type": "stream",
     "text": [
      "Save Best model: R2:0.9958, Loss Avg:-33.5104\n"
     ]
    },
    {
     "name": "stderr",
     "output_type": "stream",
     "text": [
      "Epoch 60 Training: 100%|██████████| 6808/6808 [02:24<00:00, 47.17batch/s, loss=-33.2428, loss_avg=-33.0246, lr=0.000120, r2=0.9955]\n",
      "Epoch 60 Validating: 100%|██████████| 851/851 [00:09<00:00, 87.80batch/s, loss=-34.1545, loss_avg=-34.1593, mse=0.0002, r2=0.9959] \n"
     ]
    },
    {
     "name": "stdout",
     "output_type": "stream",
     "text": [
      "Save Best model: R2:0.9959, Loss Avg:-34.1593\n"
     ]
    },
    {
     "name": "stderr",
     "output_type": "stream",
     "text": [
      "Epoch 61 Training: 100%|██████████| 6808/6808 [02:24<00:00, 47.00batch/s, loss=-33.5350, loss_avg=-32.8911, lr=0.000120, r2=0.9953]\n",
      "Epoch 61 Validating: 100%|██████████| 851/851 [00:09<00:00, 88.53batch/s, loss=-34.1793, loss_avg=-34.1650, mse=0.0002, r2=0.9959] \n"
     ]
    },
    {
     "name": "stdout",
     "output_type": "stream",
     "text": [
      "Save Best model: R2:0.9959, Loss Avg:-34.1650\n"
     ]
    },
    {
     "name": "stderr",
     "output_type": "stream",
     "text": [
      "Epoch 62 Training: 100%|██████████| 6808/6808 [02:23<00:00, 47.28batch/s, loss=-31.4729, loss_avg=-32.8316, lr=0.000120, r2=0.9955]\n",
      "Epoch 62 Validating: 100%|██████████| 851/851 [00:09<00:00, 89.67batch/s, loss=-31.6169, loss_avg=-31.6069, mse=0.0003, r2=0.9946] \n",
      "Epoch 63 Training: 100%|██████████| 6808/6808 [02:23<00:00, 47.32batch/s, loss=-33.7436, loss_avg=-32.8428, lr=0.000120, r2=0.9955]\n",
      "Epoch 63 Validating: 100%|██████████| 851/851 [00:09<00:00, 89.47batch/s, loss=-33.6436, loss_avg=-33.6654, mse=0.0002, r2=0.9957] \n",
      "Epoch 64 Training: 100%|██████████| 6808/6808 [02:23<00:00, 47.38batch/s, loss=-32.7365, loss_avg=-32.9646, lr=0.000120, r2=0.9955]\n",
      "Epoch 64 Validating: 100%|██████████| 851/851 [00:09<00:00, 89.80batch/s, loss=-32.3801, loss_avg=-32.3322, mse=0.0002, r2=0.9953] \n",
      "Epoch 65 Training: 100%|██████████| 6808/6808 [02:22<00:00, 47.61batch/s, loss=-32.1271, loss_avg=-32.9941, lr=0.000120, r2=0.9956]\n",
      "Epoch 65 Validating: 100%|██████████| 851/851 [00:09<00:00, 89.83batch/s, loss=-32.1181, loss_avg=-32.2275, mse=0.0002, r2=0.9951] \n",
      "Epoch 66 Training: 100%|██████████| 6808/6808 [02:23<00:00, 47.46batch/s, loss=-31.9656, loss_avg=-32.9559, lr=0.000120, r2=0.9955]\n",
      "Epoch 66 Validating: 100%|██████████| 851/851 [00:09<00:00, 89.65batch/s, loss=-33.3426, loss_avg=-33.3736, mse=0.0002, r2=0.9957] \n",
      "Epoch 67 Training: 100%|██████████| 6808/6808 [02:23<00:00, 47.60batch/s, loss=-30.8370, loss_avg=-32.9912, lr=0.000120, r2=0.9956]\n",
      "Epoch 67 Validating: 100%|██████████| 851/851 [00:09<00:00, 90.34batch/s, loss=-31.6234, loss_avg=-31.7056, mse=0.0003, r2=0.9944] \n",
      "Epoch 68 Training: 100%|██████████| 6808/6808 [02:23<00:00, 47.59batch/s, loss=-32.2139, loss_avg=-33.0486, lr=0.000120, r2=0.9956]\n",
      "Epoch 68 Validating: 100%|██████████| 851/851 [00:09<00:00, 89.13batch/s, loss=-32.7238, loss_avg=-32.5668, mse=0.0002, r2=0.9957] \n",
      "Epoch 69 Training: 100%|██████████| 6808/6808 [02:22<00:00, 47.72batch/s, loss=-32.1029, loss_avg=-33.1265, lr=0.000120, r2=0.9956]\n",
      "Epoch 69 Validating: 100%|██████████| 851/851 [00:09<00:00, 89.99batch/s, loss=-33.1249, loss_avg=-33.1416, mse=0.0002, r2=0.9956] \n",
      "Epoch 70 Training: 100%|██████████| 6808/6808 [02:22<00:00, 47.70batch/s, loss=-33.0317, loss_avg=-33.0307, lr=0.000120, r2=0.9956]\n",
      "Epoch 70 Validating: 100%|██████████| 851/851 [00:09<00:00, 89.37batch/s, loss=-31.7096, loss_avg=-31.6816, mse=0.0002, r2=0.9953] \n",
      "Epoch 71 Training: 100%|██████████| 6808/6808 [02:22<00:00, 47.84batch/s, loss=-33.6808, loss_avg=-33.0842, lr=0.000120, r2=0.9956]\n",
      "Epoch 71 Validating: 100%|██████████| 851/851 [00:09<00:00, 90.26batch/s, loss=-33.7613, loss_avg=-33.7157, mse=0.0002, r2=0.9956] \n",
      "Epoch 72 Training: 100%|██████████| 6808/6808 [02:22<00:00, 47.93batch/s, loss=-33.9886, loss_avg=-33.0667, lr=0.000120, r2=0.9956]\n",
      "Epoch 72 Validating: 100%|██████████| 851/851 [00:09<00:00, 89.46batch/s, loss=-34.2094, loss_avg=-34.2683, mse=0.0002, r2=0.9958] \n",
      "Epoch 73 Training: 100%|██████████| 6808/6808 [02:21<00:00, 47.96batch/s, loss=-33.7435, loss_avg=-33.1335, lr=0.000120, r2=0.9956]\n",
      "Epoch 73 Validating: 100%|██████████| 851/851 [00:09<00:00, 89.78batch/s, loss=-33.3201, loss_avg=-33.2660, mse=0.0002, r2=0.9958] \n",
      "Epoch 74 Training: 100%|██████████| 6808/6808 [02:21<00:00, 48.10batch/s, loss=-33.3963, loss_avg=-33.2530, lr=0.000120, r2=0.9957]\n",
      "Epoch 74 Validating: 100%|██████████| 851/851 [00:09<00:00, 89.37batch/s, loss=-34.1956, loss_avg=-34.0965, mse=0.0002, r2=0.9959] \n"
     ]
    },
    {
     "name": "stdout",
     "output_type": "stream",
     "text": [
      "Save Best model: R2:0.9959, Loss Avg:-34.0965\n"
     ]
    },
    {
     "name": "stderr",
     "output_type": "stream",
     "text": [
      "Epoch 75 Training: 100%|██████████| 6808/6808 [02:24<00:00, 47.15batch/s, loss=-33.4466, loss_avg=-33.1953, lr=0.000120, r2=0.9956]\n",
      "Epoch 75 Validating: 100%|██████████| 851/851 [00:09<00:00, 88.94batch/s, loss=-33.1826, loss_avg=-33.1145, mse=0.0002, r2=0.9958] \n",
      "Epoch 76 Training: 100%|██████████| 6808/6808 [02:23<00:00, 47.28batch/s, loss=-34.1026, loss_avg=-33.2386, lr=0.000120, r2=0.9956]\n",
      "Epoch 76 Validating: 100%|██████████| 851/851 [00:09<00:00, 88.08batch/s, loss=-34.1443, loss_avg=-34.1792, mse=0.0002, r2=0.9956] \n",
      "Epoch 77 Training: 100%|██████████| 6808/6808 [02:23<00:00, 47.35batch/s, loss=-32.7861, loss_avg=-33.2578, lr=0.000120, r2=0.9956]\n",
      "Epoch 77 Validating: 100%|██████████| 851/851 [00:09<00:00, 89.37batch/s, loss=-33.6688, loss_avg=-33.6837, mse=0.0002, r2=0.9956] \n",
      "Epoch 78 Training: 100%|██████████| 6808/6808 [02:23<00:00, 47.36batch/s, loss=-33.5028, loss_avg=-33.3320, lr=0.000120, r2=0.9956]\n",
      "Epoch 78 Validating: 100%|██████████| 851/851 [00:09<00:00, 89.06batch/s, loss=-33.9749, loss_avg=-33.9429, mse=0.0002, r2=0.9956] \n",
      "Epoch 79 Training: 100%|██████████| 6808/6808 [02:23<00:00, 47.43batch/s, loss=-33.0799, loss_avg=-33.3758, lr=0.000120, r2=0.9956]\n",
      "Epoch 79 Validating: 100%|██████████| 851/851 [00:09<00:00, 87.84batch/s, loss=-33.1829, loss_avg=-33.1048, mse=0.0002, r2=0.9959] \n",
      "Epoch 80 Training: 100%|██████████| 6808/6808 [02:23<00:00, 47.58batch/s, loss=-33.0452, loss_avg=-33.4197, lr=0.000120, r2=0.9957]\n",
      "Epoch 80 Validating: 100%|██████████| 851/851 [00:09<00:00, 88.84batch/s, loss=-32.3875, loss_avg=-32.2640, mse=0.0002, r2=0.9957] \n",
      "Epoch 81 Training: 100%|██████████| 6808/6808 [02:23<00:00, 47.55batch/s, loss=-33.7362, loss_avg=-33.4752, lr=0.000120, r2=0.9957]\n",
      "Epoch 81 Validating: 100%|██████████| 851/851 [00:09<00:00, 89.61batch/s, loss=-33.3856, loss_avg=-33.4448, mse=0.0002, r2=0.9959] \n",
      "Epoch 82 Training: 100%|██████████| 6808/6808 [02:23<00:00, 47.56batch/s, loss=-34.3965, loss_avg=-33.5592, lr=0.000120, r2=0.9958]\n",
      "Epoch 82 Validating: 100%|██████████| 851/851 [00:09<00:00, 89.33batch/s, loss=-34.6920, loss_avg=-34.6582, mse=0.0001, r2=0.9961] \n"
     ]
    },
    {
     "name": "stdout",
     "output_type": "stream",
     "text": [
      "Save Best model: R2:0.9961, Loss Avg:-34.6582\n"
     ]
    },
    {
     "name": "stderr",
     "output_type": "stream",
     "text": [
      "Epoch 83 Training: 100%|██████████| 6808/6808 [02:24<00:00, 47.12batch/s, loss=-34.2594, loss_avg=-33.6155, lr=0.000120, r2=0.9958]\n",
      "Epoch 83 Validating: 100%|██████████| 851/851 [00:09<00:00, 88.35batch/s, loss=-34.6805, loss_avg=-34.6244, mse=0.0002, r2=0.9960] \n",
      "Epoch 84 Training: 100%|██████████| 6808/6808 [02:24<00:00, 47.22batch/s, loss=-33.6611, loss_avg=-33.6446, lr=0.000120, r2=0.9958]\n",
      "Epoch 84 Validating: 100%|██████████| 851/851 [00:09<00:00, 86.06batch/s, loss=-34.1511, loss_avg=-33.9582, mse=0.0002, r2=0.9959] \n",
      "Epoch 85 Training: 100%|██████████| 6808/6808 [02:23<00:00, 47.36batch/s, loss=-34.2353, loss_avg=-33.6730, lr=0.000120, r2=0.9958]\n",
      "Epoch 85 Validating: 100%|██████████| 851/851 [00:09<00:00, 88.65batch/s, loss=-34.1698, loss_avg=-34.1552, mse=0.0002, r2=0.9958] \n",
      "Epoch 86 Training: 100%|██████████| 6808/6808 [02:23<00:00, 47.47batch/s, loss=-34.1155, loss_avg=-33.7218, lr=0.000120, r2=0.9958]\n",
      "Epoch 86 Validating: 100%|██████████| 851/851 [00:09<00:00, 88.36batch/s, loss=-34.7151, loss_avg=-34.5388, mse=0.0002, r2=0.9961] \n",
      "Epoch 87 Training: 100%|██████████| 6808/6808 [02:23<00:00, 47.35batch/s, loss=-34.2967, loss_avg=-33.7716, lr=0.000120, r2=0.9959]\n",
      "Epoch 87 Validating: 100%|██████████| 851/851 [00:09<00:00, 89.29batch/s, loss=-34.4227, loss_avg=-34.3830, mse=0.0002, r2=0.9956] \n",
      "Epoch 88 Training: 100%|██████████| 6808/6808 [02:23<00:00, 47.52batch/s, loss=-33.1342, loss_avg=-33.7711, lr=0.000120, r2=0.9955]\n",
      "Epoch 88 Validating: 100%|██████████| 851/851 [00:09<00:00, 89.32batch/s, loss=-34.2347, loss_avg=-34.1292, mse=0.0001, r2=0.9961] \n"
     ]
    },
    {
     "name": "stdout",
     "output_type": "stream",
     "text": [
      "Save Best model: R2:0.9961, Loss Avg:-34.1292\n"
     ]
    },
    {
     "name": "stderr",
     "output_type": "stream",
     "text": [
      "Epoch 89 Training: 100%|██████████| 6808/6808 [02:24<00:00, 47.11batch/s, loss=-34.0458, loss_avg=-33.8051, lr=0.000120, r2=0.9959]\n",
      "Epoch 89 Validating: 100%|██████████| 851/851 [00:09<00:00, 88.05batch/s, loss=-33.4825, loss_avg=-33.4142, mse=0.0002, r2=0.9959] \n",
      "Epoch 90 Training: 100%|██████████| 6808/6808 [02:23<00:00, 47.30batch/s, loss=-33.4808, loss_avg=-33.9482, lr=0.000120, r2=0.9959]\n",
      "Epoch 90 Validating: 100%|██████████| 851/851 [00:09<00:00, 87.88batch/s, loss=-33.5006, loss_avg=-33.5016, mse=0.0002, r2=0.9956] \n",
      "Epoch 91 Training: 100%|██████████| 6808/6808 [02:23<00:00, 47.37batch/s, loss=-34.6777, loss_avg=-33.8205, lr=0.000120, r2=0.9958]\n",
      "Epoch 91 Validating: 100%|██████████| 851/851 [00:09<00:00, 89.41batch/s, loss=-34.5384, loss_avg=-34.2796, mse=0.0002, r2=0.9959] \n",
      "Epoch 92 Training: 100%|██████████| 6808/6808 [02:23<00:00, 47.37batch/s, loss=-33.0053, loss_avg=-34.0026, lr=0.000120, r2=0.9959]\n",
      "Epoch 92 Validating: 100%|██████████| 851/851 [00:09<00:00, 89.49batch/s, loss=-32.3308, loss_avg=-32.3650, mse=0.0002, r2=0.9943] \n",
      "Epoch 93 Training: 100%|██████████| 6808/6808 [02:23<00:00, 47.42batch/s, loss=-33.4727, loss_avg=-34.0304, lr=0.000120, r2=0.9958]\n",
      "Epoch 93 Validating: 100%|██████████| 851/851 [00:09<00:00, 88.74batch/s, loss=-34.1563, loss_avg=-34.1351, mse=0.0002, r2=0.9958] \n",
      "Epoch 94 Training: 100%|██████████| 6808/6808 [02:23<00:00, 47.44batch/s, loss=-32.8572, loss_avg=-34.0163, lr=0.000120, r2=0.9959]\n",
      "Epoch 94 Validating: 100%|██████████| 851/851 [00:09<00:00, 89.98batch/s, loss=-29.2146, loss_avg=-29.0871, mse=0.0002, r2=0.9951] \n",
      "Epoch 95 Training: 100%|██████████| 6808/6808 [02:22<00:00, 47.75batch/s, loss=-33.3631, loss_avg=-33.9646, lr=0.000120, r2=0.9959]\n",
      "Epoch 95 Validating: 100%|██████████| 851/851 [00:09<00:00, 88.33batch/s, loss=-33.4202, loss_avg=-33.4482, mse=0.0002, r2=0.9956] \n",
      "Epoch 96 Training: 100%|██████████| 6808/6808 [02:22<00:00, 47.68batch/s, loss=-34.3094, loss_avg=-34.0019, lr=0.000120, r2=0.9959]\n",
      "Epoch 96 Validating: 100%|██████████| 851/851 [00:09<00:00, 89.31batch/s, loss=-34.2383, loss_avg=-34.4388, mse=0.0002, r2=0.9961] \n",
      "Epoch 97 Training: 100%|██████████| 6808/6808 [02:22<00:00, 47.67batch/s, loss=-34.8711, loss_avg=-34.0828, lr=0.000120, r2=0.9960]\n",
      "Epoch 97 Validating: 100%|██████████| 851/851 [00:09<00:00, 90.36batch/s, loss=-34.9317, loss_avg=-34.9305, mse=0.0002, r2=0.9962] \n"
     ]
    },
    {
     "name": "stdout",
     "output_type": "stream",
     "text": [
      "Save Best model: R2:0.9962, Loss Avg:-34.9305\n"
     ]
    },
    {
     "name": "stderr",
     "output_type": "stream",
     "text": [
      "Epoch 98 Training: 100%|██████████| 6808/6808 [02:24<00:00, 47.08batch/s, loss=-33.2931, loss_avg=-34.1076, lr=0.000120, r2=0.9960]\n",
      "Epoch 98 Validating: 100%|██████████| 851/851 [00:09<00:00, 88.77batch/s, loss=-34.3606, loss_avg=-34.4454, mse=0.0002, r2=0.9961] \n",
      "Epoch 99 Training: 100%|██████████| 6808/6808 [02:24<00:00, 47.23batch/s, loss=-34.0111, loss_avg=-34.1709, lr=0.000120, r2=0.9960]\n",
      "Epoch 99 Validating: 100%|██████████| 851/851 [00:09<00:00, 90.50batch/s, loss=-34.5171, loss_avg=-34.5637, mse=0.0002, r2=0.9962] \n"
     ]
    },
    {
     "name": "stdout",
     "output_type": "stream",
     "text": [
      "Save Best model: R2:0.9962, Loss Avg:-34.5637\n"
     ]
    },
    {
     "name": "stderr",
     "output_type": "stream",
     "text": [
      "Epoch 100 Training: 100%|██████████| 6808/6808 [02:24<00:00, 47.14batch/s, loss=-34.8471, loss_avg=-34.2109, lr=0.000120, r2=0.9960]\n",
      "Epoch 100 Validating: 100%|██████████| 851/851 [00:09<00:00, 88.65batch/s, loss=-34.7518, loss_avg=-34.7576, mse=0.0002, r2=0.9961] \n",
      "Epoch 101 Training: 100%|██████████| 6808/6808 [02:24<00:00, 47.23batch/s, loss=-32.5358, loss_avg=-34.2205, lr=0.000120, r2=0.9960]\n",
      "Epoch 101 Validating: 100%|██████████| 851/851 [00:09<00:00, 89.56batch/s, loss=-32.9951, loss_avg=-32.9288, mse=0.0002, r2=0.9954] \n",
      "Epoch 102 Training: 100%|██████████| 6808/6808 [02:23<00:00, 47.37batch/s, loss=-33.8039, loss_avg=-34.2445, lr=0.000120, r2=0.9960]\n",
      "Epoch 102 Validating: 100%|██████████| 851/851 [00:09<00:00, 89.09batch/s, loss=-33.9587, loss_avg=-33.8632, mse=0.0002, r2=0.9958] \n",
      "Epoch 103 Training: 100%|██████████| 6808/6808 [02:23<00:00, 47.56batch/s, loss=-33.9180, loss_avg=-34.2040, lr=0.000120, r2=0.9960]\n",
      "Epoch 103 Validating: 100%|██████████| 851/851 [00:09<00:00, 88.15batch/s, loss=-33.7241, loss_avg=-33.6936, mse=0.0002, r2=0.9958] \n",
      "Epoch 104 Training: 100%|██████████| 6808/6808 [02:23<00:00, 47.52batch/s, loss=-34.5961, loss_avg=-34.2771, lr=0.000120, r2=0.9960]\n",
      "Epoch 104 Validating: 100%|██████████| 851/851 [00:09<00:00, 89.89batch/s, loss=-34.6992, loss_avg=-34.5061, mse=0.0002, r2=0.9959] \n",
      "Epoch 105 Training: 100%|██████████| 6808/6808 [02:22<00:00, 47.63batch/s, loss=-35.1210, loss_avg=-34.2578, lr=0.000120, r2=0.9960]\n",
      "Epoch 105 Validating: 100%|██████████| 851/851 [00:09<00:00, 89.84batch/s, loss=-34.7432, loss_avg=-34.8474, mse=0.0002, r2=0.9962] \n"
     ]
    },
    {
     "name": "stdout",
     "output_type": "stream",
     "text": [
      "Save Best model: R2:0.9962, Loss Avg:-34.8474\n"
     ]
    },
    {
     "name": "stderr",
     "output_type": "stream",
     "text": [
      "Epoch 106 Training: 100%|██████████| 6808/6808 [02:24<00:00, 47.22batch/s, loss=-34.6373, loss_avg=-34.2494, lr=0.000120, r2=0.9960]\n",
      "Epoch 106 Validating: 100%|██████████| 851/851 [00:09<00:00, 90.86batch/s, loss=-34.5030, loss_avg=-34.5520, mse=0.0002, r2=0.9961] \n",
      "Epoch 107 Training: 100%|██████████| 6808/6808 [02:23<00:00, 47.37batch/s, loss=-34.7753, loss_avg=-34.3147, lr=0.000120, r2=0.9960]\n",
      "Epoch 107 Validating: 100%|██████████| 851/851 [00:09<00:00, 89.19batch/s, loss=-34.7713, loss_avg=-34.8073, mse=0.0002, r2=0.9961] \n",
      "Epoch 108 Training: 100%|██████████| 6808/6808 [02:24<00:00, 47.17batch/s, loss=-34.3998, loss_avg=-34.2674, lr=0.000120, r2=0.9960]\n",
      "Epoch 108 Validating: 100%|██████████| 851/851 [00:09<00:00, 89.33batch/s, loss=-35.0350, loss_avg=-35.0518, mse=0.0002, r2=0.9960] \n",
      "Epoch 109 Training: 100%|██████████| 6808/6808 [02:23<00:00, 47.45batch/s, loss=-34.9314, loss_avg=-34.4237, lr=0.000120, r2=0.9960]\n",
      "Epoch 109 Validating: 100%|██████████| 851/851 [00:09<00:00, 90.90batch/s, loss=-35.1584, loss_avg=-35.2166, mse=0.0002, r2=0.9963] \n"
     ]
    },
    {
     "name": "stdout",
     "output_type": "stream",
     "text": [
      "Save Best model: R2:0.9963, Loss Avg:-35.2166\n"
     ]
    },
    {
     "name": "stderr",
     "output_type": "stream",
     "text": [
      "Epoch 110 Training: 100%|██████████| 6808/6808 [02:24<00:00, 47.11batch/s, loss=-35.1014, loss_avg=-34.5008, lr=0.000120, r2=0.9961]\n",
      "Epoch 110 Validating: 100%|██████████| 851/851 [00:09<00:00, 89.43batch/s, loss=-34.5867, loss_avg=-34.3919, mse=0.0001, r2=0.9962] \n",
      "Epoch 111 Training: 100%|██████████| 6808/6808 [02:24<00:00, 47.20batch/s, loss=-33.7724, loss_avg=-34.4431, lr=0.000120, r2=0.9960]\n",
      "Epoch 111 Validating: 100%|██████████| 851/851 [00:09<00:00, 89.05batch/s, loss=-33.8481, loss_avg=-33.8226, mse=0.0001, r2=0.9961] \n",
      "Epoch 112 Training: 100%|██████████| 6808/6808 [02:23<00:00, 47.35batch/s, loss=-33.0973, loss_avg=-34.4705, lr=0.000120, r2=0.9960]\n",
      "Epoch 112 Validating: 100%|██████████| 851/851 [00:09<00:00, 88.73batch/s, loss=-35.3539, loss_avg=-35.3124, mse=0.0002, r2=0.9963] \n",
      "Epoch 113 Training: 100%|██████████| 6808/6808 [02:23<00:00, 47.38batch/s, loss=-33.9295, loss_avg=-34.5464, lr=0.000120, r2=0.9961]\n",
      "Epoch 113 Validating: 100%|██████████| 851/851 [00:09<00:00, 89.37batch/s, loss=-33.6072, loss_avg=-33.6441, mse=0.0002, r2=0.9959] \n",
      "Epoch 114 Training: 100%|██████████| 6808/6808 [02:23<00:00, 47.49batch/s, loss=-35.1570, loss_avg=-34.5337, lr=0.000120, r2=0.9961]\n",
      "Epoch 114 Validating: 100%|██████████| 851/851 [00:09<00:00, 89.94batch/s, loss=-34.5990, loss_avg=-34.5132, mse=0.0002, r2=0.9962] \n",
      "Epoch 115 Training: 100%|██████████| 6808/6808 [02:23<00:00, 47.42batch/s, loss=-34.8671, loss_avg=-34.5283, lr=0.000120, r2=0.9961]\n",
      "Epoch 115 Validating: 100%|██████████| 851/851 [00:09<00:00, 90.34batch/s, loss=-34.7524, loss_avg=-34.6666, mse=0.0002, r2=0.9962] \n",
      "Epoch 116 Training: 100%|██████████| 6808/6808 [02:23<00:00, 47.48batch/s, loss=-34.7139, loss_avg=-34.5142, lr=0.000120, r2=0.9961]\n",
      "Epoch 116 Validating: 100%|██████████| 851/851 [00:09<00:00, 89.20batch/s, loss=-34.4966, loss_avg=-34.7171, mse=0.0002, r2=0.9960] \n",
      "Epoch 117 Training: 100%|██████████| 6808/6808 [02:22<00:00, 47.72batch/s, loss=-35.4999, loss_avg=-34.4988, lr=0.000120, r2=0.9960]\n",
      "Epoch 117 Validating: 100%|██████████| 851/851 [00:09<00:00, 90.19batch/s, loss=-35.4435, loss_avg=-35.4385, mse=0.0002, r2=0.9963] \n",
      "Epoch 118 Training: 100%|██████████| 6808/6808 [02:22<00:00, 47.77batch/s, loss=-34.3267, loss_avg=-34.5866, lr=0.000120, r2=0.9961]\n",
      "Epoch 118 Validating: 100%|██████████| 851/851 [00:09<00:00, 90.24batch/s, loss=-34.6623, loss_avg=-34.6056, mse=0.0002, r2=0.9960] \n",
      "Epoch 119 Training: 100%|██████████| 6808/6808 [02:22<00:00, 47.90batch/s, loss=-35.1384, loss_avg=-34.6044, lr=0.000120, r2=0.9961]\n",
      "Epoch 119 Validating: 100%|██████████| 851/851 [00:09<00:00, 89.50batch/s, loss=-35.4774, loss_avg=-35.4025, mse=0.0002, r2=0.9963] \n",
      "Epoch 120 Training: 100%|██████████| 6808/6808 [02:22<00:00, 47.92batch/s, loss=-33.1603, loss_avg=-34.5812, lr=0.000120, r2=0.9961]\n",
      "Epoch 120 Validating: 100%|██████████| 851/851 [00:09<00:00, 90.71batch/s, loss=-30.3539, loss_avg=-30.5180, mse=0.0002, r2=0.9957] \n",
      "Epoch 121 Training: 100%|██████████| 6808/6808 [02:19<00:00, 48.68batch/s, loss=-34.1681, loss_avg=-34.6882, lr=0.000120, r2=0.9961]\n",
      "Epoch 121 Validating: 100%|██████████| 851/851 [00:09<00:00, 92.61batch/s, loss=-34.9501, loss_avg=-34.8798, mse=0.0002, r2=0.9961] \n",
      "Epoch 122 Training: 100%|██████████| 6808/6808 [02:18<00:00, 49.18batch/s, loss=-34.4239, loss_avg=-34.7112, lr=0.000120, r2=0.9961]\n",
      "Epoch 122 Validating: 100%|██████████| 851/851 [00:09<00:00, 91.27batch/s, loss=-34.4346, loss_avg=-34.4519, mse=0.0002, r2=0.9956] \n",
      "Epoch 123 Training: 100%|██████████| 6808/6808 [02:18<00:00, 49.25batch/s, loss=-35.7376, loss_avg=-34.6870, lr=0.000120, r2=0.9961]\n",
      "Epoch 123 Validating: 100%|██████████| 851/851 [00:09<00:00, 92.45batch/s, loss=-35.2826, loss_avg=-35.2535, mse=0.0002, r2=0.9962] \n",
      "Epoch 124 Training: 100%|██████████| 6808/6808 [02:18<00:00, 49.23batch/s, loss=-35.1359, loss_avg=-34.7302, lr=0.000120, r2=0.9961]\n",
      "Epoch 124 Validating: 100%|██████████| 851/851 [00:09<00:00, 91.80batch/s, loss=-35.1233, loss_avg=-35.0380, mse=0.0002, r2=0.9959] \n",
      "Epoch 125 Training: 100%|██████████| 6808/6808 [02:18<00:00, 49.21batch/s, loss=-35.5941, loss_avg=-34.6194, lr=0.000120, r2=0.9960]\n",
      "Epoch 125 Validating: 100%|██████████| 851/851 [00:09<00:00, 92.08batch/s, loss=-35.7264, loss_avg=-35.6752, mse=0.0001, r2=0.9962] \n",
      "Epoch 126 Training: 100%|██████████| 6808/6808 [02:18<00:00, 49.04batch/s, loss=-33.1584, loss_avg=-34.6093, lr=0.000120, r2=0.9960]\n",
      "Epoch 126 Validating: 100%|██████████| 851/851 [00:09<00:00, 92.22batch/s, loss=-33.6836, loss_avg=-33.3902, mse=0.0002, r2=0.9958] \n",
      "Epoch 127 Training: 100%|██████████| 6808/6808 [02:18<00:00, 49.15batch/s, loss=-34.6454, loss_avg=-34.7086, lr=0.000120, r2=0.9961]\n",
      "Epoch 127 Validating: 100%|██████████| 851/851 [00:09<00:00, 93.29batch/s, loss=-34.5976, loss_avg=-34.6048, mse=0.0002, r2=0.9959] \n",
      "Epoch 128 Training: 100%|██████████| 6808/6808 [02:17<00:00, 49.38batch/s, loss=-35.0556, loss_avg=-34.6365, lr=0.000120, r2=0.9960]\n",
      "Epoch 128 Validating: 100%|██████████| 851/851 [00:09<00:00, 92.85batch/s, loss=-34.8707, loss_avg=-34.9465, mse=0.0002, r2=0.9960] \n",
      "Epoch 129 Training: 100%|██████████| 6808/6808 [02:17<00:00, 49.49batch/s, loss=-35.1179, loss_avg=-34.6706, lr=0.000120, r2=0.9961]\n",
      "Epoch 129 Validating: 100%|██████████| 851/851 [00:09<00:00, 92.14batch/s, loss=-35.4011, loss_avg=-35.4299, mse=0.0002, r2=0.9962] \n",
      "Epoch 130 Training: 100%|██████████| 6808/6808 [02:17<00:00, 49.44batch/s, loss=-33.5687, loss_avg=-34.7625, lr=0.000120, r2=0.9961]\n",
      "Epoch 130 Validating: 100%|██████████| 851/851 [00:09<00:00, 90.47batch/s, loss=-33.6554, loss_avg=-33.6369, mse=0.0003, r2=0.9956] \n",
      "Epoch 131 Training: 100%|██████████| 6808/6808 [02:17<00:00, 49.48batch/s, loss=-35.8256, loss_avg=-34.8044, lr=0.000120, r2=0.9961]\n",
      "Epoch 131 Validating: 100%|██████████| 851/851 [00:09<00:00, 93.03batch/s, loss=-35.1695, loss_avg=-35.1981, mse=0.0002, r2=0.9963] \n",
      "Epoch 132 Training: 100%|██████████| 6808/6808 [02:17<00:00, 49.46batch/s, loss=-34.4051, loss_avg=-34.7548, lr=0.000120, r2=0.9961]\n",
      "Epoch 132 Validating: 100%|██████████| 851/851 [00:09<00:00, 92.97batch/s, loss=-30.7966, loss_avg=-30.9382, mse=0.0002, r2=0.9956] \n",
      "Epoch 133 Training: 100%|██████████| 6808/6808 [02:17<00:00, 49.43batch/s, loss=-35.0388, loss_avg=-34.8077, lr=0.000120, r2=0.9961]\n",
      "Epoch 133 Validating: 100%|██████████| 851/851 [00:09<00:00, 91.98batch/s, loss=-35.3716, loss_avg=-35.2423, mse=0.0002, r2=0.9962] \n",
      "Epoch 134 Training: 100%|██████████| 6808/6808 [02:17<00:00, 49.44batch/s, loss=-34.8184, loss_avg=-34.8238, lr=0.000120, r2=0.9961]\n",
      "Epoch 134 Validating: 100%|██████████| 851/851 [00:09<00:00, 92.05batch/s, loss=-34.0957, loss_avg=-34.2803, mse=0.0002, r2=0.9952] \n",
      "Epoch 135 Training: 100%|██████████| 6808/6808 [02:17<00:00, 49.47batch/s, loss=-35.3955, loss_avg=-34.8732, lr=0.000120, r2=0.9961]\n",
      "Epoch 135 Validating: 100%|██████████| 851/851 [00:09<00:00, 92.57batch/s, loss=-34.5789, loss_avg=-34.5175, mse=0.0002, r2=0.9959] \n",
      "Epoch 136 Training: 100%|██████████| 6808/6808 [02:16<00:00, 49.72batch/s, loss=-35.1414, loss_avg=-34.8349, lr=0.000120, r2=0.9961]\n",
      "Epoch 136 Validating: 100%|██████████| 851/851 [00:09<00:00, 93.46batch/s, loss=-35.4374, loss_avg=-35.3015, mse=0.0002, r2=0.9962] \n",
      "Epoch 137 Training: 100%|██████████| 6808/6808 [02:16<00:00, 49.74batch/s, loss=-35.4558, loss_avg=-34.9193, lr=0.000120, r2=0.9961]\n",
      "Epoch 137 Validating: 100%|██████████| 851/851 [00:09<00:00, 92.26batch/s, loss=-35.0998, loss_avg=-35.0533, mse=0.0002, r2=0.9962] \n",
      "Epoch 138 Training: 100%|██████████| 6808/6808 [02:17<00:00, 49.52batch/s, loss=-35.8936, loss_avg=-34.8405, lr=0.000120, r2=0.9961]\n",
      "Epoch 138 Validating: 100%|██████████| 851/851 [00:09<00:00, 89.78batch/s, loss=-35.9973, loss_avg=-35.9330, mse=0.0002, r2=0.9963] \n"
     ]
    },
    {
     "name": "stdout",
     "output_type": "stream",
     "text": [
      "Save Best model: R2:0.9963, Loss Avg:-35.9330\n"
     ]
    },
    {
     "name": "stderr",
     "output_type": "stream",
     "text": [
      "Epoch 139 Training: 100%|██████████| 6808/6808 [02:21<00:00, 48.00batch/s, loss=-35.1185, loss_avg=-34.6945, lr=0.000120, r2=0.9961]\n",
      "Epoch 139 Validating: 100%|██████████| 851/851 [00:09<00:00, 89.56batch/s, loss=-35.4798, loss_avg=-35.4137, mse=0.0002, r2=0.9961] \n",
      "Epoch 140 Training: 100%|██████████| 6808/6808 [02:21<00:00, 47.98batch/s, loss=-35.2878, loss_avg=-34.7739, lr=0.000120, r2=0.9961]\n",
      "Epoch 140 Validating: 100%|██████████| 851/851 [00:09<00:00, 90.88batch/s, loss=-35.7081, loss_avg=-35.6058, mse=0.0001, r2=0.9963] \n",
      "Epoch 141 Training: 100%|██████████| 6808/6808 [02:21<00:00, 48.11batch/s, loss=-34.7967, loss_avg=-34.8103, lr=0.000120, r2=0.9961]\n",
      "Epoch 141 Validating: 100%|██████████| 851/851 [00:09<00:00, 89.04batch/s, loss=-35.8051, loss_avg=-35.6551, mse=0.0002, r2=0.9963] \n",
      "Epoch 142 Training: 100%|██████████| 6808/6808 [02:20<00:00, 48.34batch/s, loss=-34.2876, loss_avg=-34.8158, lr=0.000120, r2=0.9961]\n",
      "Epoch 142 Validating: 100%|██████████| 851/851 [00:09<00:00, 92.56batch/s, loss=-35.6013, loss_avg=-35.4918, mse=0.0001, r2=0.9963] \n",
      "Epoch 143 Training: 100%|██████████| 6808/6808 [02:20<00:00, 48.34batch/s, loss=-35.5741, loss_avg=-34.8630, lr=0.000120, r2=0.9961]\n",
      "Epoch 143 Validating: 100%|██████████| 851/851 [00:09<00:00, 91.19batch/s, loss=-35.8527, loss_avg=-35.7269, mse=0.0001, r2=0.9963] \n",
      "Epoch 144 Training: 100%|██████████| 6808/6808 [02:20<00:00, 48.47batch/s, loss=-33.8236, loss_avg=-34.8864, lr=0.000120, r2=0.9961]\n",
      "Epoch 144 Validating: 100%|██████████| 851/851 [00:09<00:00, 91.27batch/s, loss=-33.2242, loss_avg=-33.3181, mse=0.0002, r2=0.9958] \n",
      "Epoch 145 Training: 100%|██████████| 6808/6808 [02:20<00:00, 48.53batch/s, loss=-35.6285, loss_avg=-34.9275, lr=0.000120, r2=0.9961]\n",
      "Epoch 145 Validating: 100%|██████████| 851/851 [00:09<00:00, 91.90batch/s, loss=-35.9334, loss_avg=-35.8424, mse=0.0002, r2=0.9963] \n"
     ]
    },
    {
     "name": "stdout",
     "output_type": "stream",
     "text": [
      "Save Best model: R2:0.9963, Loss Avg:-35.8424\n"
     ]
    },
    {
     "name": "stderr",
     "output_type": "stream",
     "text": [
      "Epoch 146 Training: 100%|██████████| 6808/6808 [02:21<00:00, 48.18batch/s, loss=-32.7117, loss_avg=-34.8687, lr=0.000120, r2=0.9961]\n",
      "Epoch 146 Validating: 100%|██████████| 851/851 [00:09<00:00, 91.99batch/s, loss=-34.9164, loss_avg=-34.7482, mse=0.0002, r2=0.9963] \n",
      "Epoch 147 Training: 100%|██████████| 6808/6808 [02:21<00:00, 48.22batch/s, loss=-35.4536, loss_avg=-34.9210, lr=0.000120, r2=0.9961]\n",
      "Epoch 147 Validating: 100%|██████████| 851/851 [00:09<00:00, 92.44batch/s, loss=-35.7206, loss_avg=-35.6748, mse=0.0001, r2=0.9962] \n",
      "Epoch 148 Training: 100%|██████████| 6808/6808 [02:20<00:00, 48.29batch/s, loss=-34.1251, loss_avg=-34.9749, lr=0.000120, r2=0.9961]\n",
      "Epoch 148 Validating: 100%|██████████| 851/851 [00:09<00:00, 91.09batch/s, loss=-34.5421, loss_avg=-34.4805, mse=0.0002, r2=0.9957] \n",
      "Epoch 149 Training: 100%|██████████| 6808/6808 [02:21<00:00, 48.25batch/s, loss=-34.4393, loss_avg=-34.9538, lr=0.000120, r2=0.9961]\n",
      "Epoch 149 Validating: 100%|██████████| 851/851 [00:09<00:00, 92.20batch/s, loss=-35.0612, loss_avg=-34.9824, mse=0.0002, r2=0.9960] \n",
      "Epoch 150 Training: 100%|██████████| 6808/6808 [02:21<00:00, 48.28batch/s, loss=-34.8185, loss_avg=-34.9974, lr=0.000120, r2=0.9961]\n",
      "Epoch 150 Validating: 100%|██████████| 851/851 [00:09<00:00, 91.22batch/s, loss=-34.4103, loss_avg=-34.3541, mse=0.0002, r2=0.9961] \n",
      "Epoch 151 Training: 100%|██████████| 6808/6808 [02:20<00:00, 48.48batch/s, loss=-35.4489, loss_avg=-35.0450, lr=0.000120, r2=0.9961]\n",
      "Epoch 151 Validating: 100%|██████████| 851/851 [00:09<00:00, 91.98batch/s, loss=-36.0175, loss_avg=-35.8462, mse=0.0002, r2=0.9962] \n",
      "Epoch 152 Training: 100%|██████████| 6808/6808 [02:20<00:00, 48.49batch/s, loss=-35.1284, loss_avg=-35.0885, lr=0.000120, r2=0.9962]\n",
      "Epoch 152 Validating: 100%|██████████| 851/851 [00:09<00:00, 90.98batch/s, loss=-34.2136, loss_avg=-34.1878, mse=0.0002, r2=0.9960] \n",
      "Epoch 153 Training: 100%|██████████| 6808/6808 [02:19<00:00, 48.68batch/s, loss=-35.6523, loss_avg=-35.0518, lr=0.000120, r2=0.9962]\n",
      "Epoch 153 Validating: 100%|██████████| 851/851 [00:09<00:00, 90.21batch/s, loss=-35.4551, loss_avg=-35.4289, mse=0.0002, r2=0.9962] \n",
      "Epoch 154 Training: 100%|██████████| 6808/6808 [02:19<00:00, 48.67batch/s, loss=-35.4946, loss_avg=-35.1098, lr=0.000120, r2=0.9962]\n",
      "Epoch 154 Validating: 100%|██████████| 851/851 [00:09<00:00, 92.06batch/s, loss=-35.5643, loss_avg=-35.5767, mse=0.0002, r2=0.9963] \n"
     ]
    },
    {
     "name": "stdout",
     "output_type": "stream",
     "text": [
      "Save Best model: R2:0.9963, Loss Avg:-35.5767\n"
     ]
    },
    {
     "name": "stderr",
     "output_type": "stream",
     "text": [
      "Epoch 155 Training: 100%|██████████| 6808/6808 [02:21<00:00, 48.11batch/s, loss=-36.1050, loss_avg=-35.0576, lr=0.000120, r2=0.9962]\n",
      "Epoch 155 Validating: 100%|██████████| 851/851 [00:09<00:00, 89.04batch/s, loss=-35.5722, loss_avg=-35.5917, mse=0.0002, r2=0.9962] \n",
      "Epoch 156 Training: 100%|██████████| 6808/6808 [02:22<00:00, 47.73batch/s, loss=-34.4989, loss_avg=-35.1422, lr=0.000120, r2=0.9962]\n",
      "Epoch 156 Validating: 100%|██████████| 851/851 [00:09<00:00, 89.14batch/s, loss=-34.5332, loss_avg=-34.4098, mse=0.0002, r2=0.9960] \n",
      "Epoch 157 Training: 100%|██████████| 6808/6808 [02:22<00:00, 47.89batch/s, loss=-32.9515, loss_avg=-35.1654, lr=0.000120, r2=0.9962]\n",
      "Epoch 157 Validating: 100%|██████████| 851/851 [00:09<00:00, 90.19batch/s, loss=-34.1928, loss_avg=-34.1213, mse=0.0001, r2=0.9961] \n",
      "Epoch 158 Training: 100%|██████████| 6808/6808 [02:21<00:00, 47.97batch/s, loss=-34.9977, loss_avg=-35.1630, lr=0.000120, r2=0.9962]\n",
      "Epoch 158 Validating: 100%|██████████| 851/851 [00:09<00:00, 89.16batch/s, loss=-35.2699, loss_avg=-35.2403, mse=0.0001, r2=0.9963] \n",
      "Epoch 159 Training: 100%|██████████| 6808/6808 [02:21<00:00, 48.17batch/s, loss=-34.5017, loss_avg=-35.2093, lr=0.000120, r2=0.9962]\n",
      "Epoch 159 Validating: 100%|██████████| 851/851 [00:09<00:00, 91.64batch/s, loss=-34.9640, loss_avg=-34.9021, mse=0.0002, r2=0.9960] \n",
      "Epoch 160 Training: 100%|██████████| 6808/6808 [02:20<00:00, 48.40batch/s, loss=-35.1241, loss_avg=-35.1875, lr=0.000120, r2=0.9962]\n",
      "Epoch 160 Validating: 100%|██████████| 851/851 [00:09<00:00, 92.26batch/s, loss=-35.6877, loss_avg=-35.5849, mse=0.0002, r2=0.9961] \n",
      "Epoch 161 Training: 100%|██████████| 6808/6808 [02:20<00:00, 48.62batch/s, loss=-35.5553, loss_avg=-35.1781, lr=0.000120, r2=0.9962]\n",
      "Epoch 161 Validating: 100%|██████████| 851/851 [00:09<00:00, 92.49batch/s, loss=-36.0612, loss_avg=-35.9640, mse=0.0001, r2=0.9964] \n"
     ]
    },
    {
     "name": "stdout",
     "output_type": "stream",
     "text": [
      "Save Best model: R2:0.9964, Loss Avg:-35.9640\n"
     ]
    },
    {
     "name": "stderr",
     "output_type": "stream",
     "text": [
      "Epoch 162 Training: 100%|██████████| 6808/6808 [02:22<00:00, 47.80batch/s, loss=-35.2572, loss_avg=-35.2370, lr=0.000120, r2=0.9962]\n",
      "Epoch 162 Validating: 100%|██████████| 851/851 [00:09<00:00, 90.98batch/s, loss=-35.6818, loss_avg=-35.6067, mse=0.0002, r2=0.9963] \n",
      "Epoch 163 Training: 100%|██████████| 6808/6808 [02:21<00:00, 48.08batch/s, loss=-34.1527, loss_avg=-35.3171, lr=0.000120, r2=0.9962]\n",
      "Epoch 163 Validating: 100%|██████████| 851/851 [00:09<00:00, 90.76batch/s, loss=-35.3351, loss_avg=-35.2549, mse=0.0002, r2=0.9963] \n",
      "Epoch 164 Training: 100%|██████████| 6808/6808 [02:21<00:00, 48.28batch/s, loss=-35.4593, loss_avg=-35.2584, lr=0.000120, r2=0.9962]\n",
      "Epoch 164 Validating: 100%|██████████| 851/851 [00:09<00:00, 91.28batch/s, loss=-35.5270, loss_avg=-35.5136, mse=0.0001, r2=0.9963] \n",
      "Epoch 165 Training: 100%|██████████| 6808/6808 [02:20<00:00, 48.36batch/s, loss=-35.8446, loss_avg=-35.2814, lr=0.000120, r2=0.9962]\n",
      "Epoch 165 Validating: 100%|██████████| 851/851 [00:09<00:00, 91.06batch/s, loss=-36.1275, loss_avg=-36.0243, mse=0.0001, r2=0.9962] \n",
      "Epoch 166 Training: 100%|██████████| 6808/6808 [02:20<00:00, 48.54batch/s, loss=-35.2204, loss_avg=-35.2990, lr=0.000120, r2=0.9962]\n",
      "Epoch 166 Validating: 100%|██████████| 851/851 [00:09<00:00, 92.78batch/s, loss=-35.1648, loss_avg=-35.0931, mse=0.0001, r2=0.9961] \n",
      "Epoch 167 Training: 100%|██████████| 6808/6808 [02:20<00:00, 48.43batch/s, loss=-34.5436, loss_avg=-35.3807, lr=0.000120, r2=0.9962]\n",
      "Epoch 167 Validating: 100%|██████████| 851/851 [00:09<00:00, 93.12batch/s, loss=-34.9630, loss_avg=-34.8815, mse=0.0002, r2=0.9962] \n",
      "Epoch 168 Training: 100%|██████████| 6808/6808 [02:19<00:00, 48.66batch/s, loss=-36.0770, loss_avg=-35.3077, lr=0.000120, r2=0.9962]\n",
      "Epoch 168 Validating: 100%|██████████| 851/851 [00:09<00:00, 90.79batch/s, loss=-36.0730, loss_avg=-36.0267, mse=0.0002, r2=0.9964] \n",
      "Epoch 169 Training: 100%|██████████| 6808/6808 [02:20<00:00, 48.54batch/s, loss=-33.3093, loss_avg=-35.4313, lr=0.000120, r2=0.9962]\n",
      "Epoch 169 Validating: 100%|██████████| 851/851 [00:09<00:00, 93.05batch/s, loss=-34.3304, loss_avg=-34.4212, mse=0.0002, r2=0.9961] \n",
      "Epoch 170 Training: 100%|██████████| 6808/6808 [02:19<00:00, 48.76batch/s, loss=-35.9326, loss_avg=-35.2689, lr=0.000120, r2=0.9962]\n",
      "Epoch 170 Validating: 100%|██████████| 851/851 [00:09<00:00, 92.20batch/s, loss=-35.7130, loss_avg=-35.5725, mse=0.0002, r2=0.9962] \n",
      "Epoch 171 Training: 100%|██████████| 6808/6808 [02:19<00:00, 48.88batch/s, loss=-35.6359, loss_avg=-35.4190, lr=0.000120, r2=0.9962]\n",
      "Epoch 171 Validating: 100%|██████████| 851/851 [00:09<00:00, 92.37batch/s, loss=-35.6313, loss_avg=-35.5975, mse=0.0002, r2=0.9962] \n",
      "Epoch 172 Training: 100%|██████████| 6808/6808 [02:19<00:00, 48.97batch/s, loss=-34.4865, loss_avg=-35.4231, lr=0.000120, r2=0.9962]\n",
      "Epoch 172 Validating: 100%|██████████| 851/851 [00:09<00:00, 92.25batch/s, loss=-34.8260, loss_avg=-34.6365, mse=0.0002, r2=0.9960] \n",
      "Epoch 173 Training: 100%|██████████| 6808/6808 [02:19<00:00, 48.86batch/s, loss=-35.2055, loss_avg=-35.4328, lr=0.000120, r2=0.9962]\n",
      "Epoch 173 Validating: 100%|██████████| 851/851 [00:09<00:00, 91.78batch/s, loss=-35.7057, loss_avg=-35.5542, mse=0.0001, r2=0.9964] \n",
      "Epoch 174 Training: 100%|██████████| 6808/6808 [02:19<00:00, 48.93batch/s, loss=-36.0229, loss_avg=-35.5072, lr=0.000120, r2=0.9963]\n",
      "Epoch 174 Validating: 100%|██████████| 851/851 [00:09<00:00, 92.24batch/s, loss=-35.8410, loss_avg=-35.7708, mse=0.0002, r2=0.9963] \n",
      "Epoch 175 Training: 100%|██████████| 6808/6808 [02:19<00:00, 48.85batch/s, loss=-34.9944, loss_avg=-35.5921, lr=0.000120, r2=0.9963]\n",
      "Epoch 175 Validating: 100%|██████████| 851/851 [00:09<00:00, 89.98batch/s, loss=-35.8461, loss_avg=-35.8341, mse=0.0001, r2=0.9963] \n",
      "Epoch 176 Training: 100%|██████████| 6808/6808 [02:19<00:00, 48.82batch/s, loss=-35.1318, loss_avg=-35.5155, lr=0.000120, r2=0.9963]\n",
      "Epoch 176 Validating: 100%|██████████| 851/851 [00:09<00:00, 91.47batch/s, loss=-35.6249, loss_avg=-35.5292, mse=0.0002, r2=0.9961] \n",
      "Epoch 177 Training: 100%|██████████| 6808/6808 [02:18<00:00, 48.99batch/s, loss=-35.3853, loss_avg=-35.5056, lr=0.000120, r2=0.9963]\n",
      "Epoch 177 Validating: 100%|██████████| 851/851 [00:09<00:00, 91.87batch/s, loss=-35.8726, loss_avg=-35.7730, mse=0.0001, r2=0.9962] \n",
      "Epoch 178 Training: 100%|██████████| 6808/6808 [02:18<00:00, 49.26batch/s, loss=-36.0397, loss_avg=-35.4654, lr=0.000120, r2=0.9962]\n",
      "Epoch 178 Validating: 100%|██████████| 851/851 [00:09<00:00, 90.31batch/s, loss=-35.8331, loss_avg=-35.8687, mse=0.0002, r2=0.9963] \n",
      "Epoch 179 Training: 100%|██████████| 6808/6808 [02:18<00:00, 49.32batch/s, loss=-36.2693, loss_avg=-35.5766, lr=0.000120, r2=0.9963]\n",
      "Epoch 179 Validating: 100%|██████████| 851/851 [00:09<00:00, 92.02batch/s, loss=-36.5516, loss_avg=-36.5317, mse=0.0001, r2=0.9963] \n",
      "Epoch 180 Training: 100%|██████████| 6808/6808 [02:18<00:00, 49.16batch/s, loss=-35.6202, loss_avg=-35.5462, lr=0.000120, r2=0.9963]\n",
      "Epoch 180 Validating: 100%|██████████| 851/851 [00:09<00:00, 91.67batch/s, loss=-35.7572, loss_avg=-35.7729, mse=0.0002, r2=0.9964] \n"
     ]
    },
    {
     "name": "stdout",
     "output_type": "stream",
     "text": [
      "Save Best model: R2:0.9964, Loss Avg:-35.7729\n"
     ]
    },
    {
     "name": "stderr",
     "output_type": "stream",
     "text": [
      "Epoch 181 Training: 100%|██████████| 6808/6808 [02:22<00:00, 47.87batch/s, loss=-36.6354, loss_avg=-35.5707, lr=0.000120, r2=0.9963]\n",
      "Epoch 181 Validating: 100%|██████████| 851/851 [00:09<00:00, 90.12batch/s, loss=-36.9144, loss_avg=-36.8286, mse=0.0001, r2=0.9965] \n"
     ]
    },
    {
     "name": "stdout",
     "output_type": "stream",
     "text": [
      "Save Best model: R2:0.9965, Loss Avg:-36.8286\n"
     ]
    },
    {
     "name": "stderr",
     "output_type": "stream",
     "text": [
      "Epoch 182 Training: 100%|██████████| 6808/6808 [02:22<00:00, 47.88batch/s, loss=-35.9928, loss_avg=-35.5988, lr=0.000120, r2=0.9963]\n",
      "Epoch 182 Validating: 100%|██████████| 851/851 [00:09<00:00, 90.26batch/s, loss=-36.2510, loss_avg=-36.3053, mse=0.0002, r2=0.9964] \n",
      "Epoch 183 Training: 100%|██████████| 6808/6808 [02:21<00:00, 47.99batch/s, loss=-36.3049, loss_avg=-35.5932, lr=0.000120, r2=0.9963]\n",
      "Epoch 183 Validating: 100%|██████████| 851/851 [00:09<00:00, 90.83batch/s, loss=-36.5269, loss_avg=-36.4387, mse=0.0001, r2=0.9964] \n",
      "Epoch 184 Training: 100%|██████████| 6808/6808 [02:21<00:00, 48.20batch/s, loss=-36.8801, loss_avg=-35.5392, lr=0.000120, r2=0.9963]\n",
      "Epoch 184 Validating: 100%|██████████| 851/851 [00:09<00:00, 91.07batch/s, loss=-36.6441, loss_avg=-36.5539, mse=0.0002, r2=0.9964] \n",
      "Epoch 185 Training: 100%|██████████| 6808/6808 [02:20<00:00, 48.36batch/s, loss=-36.6473, loss_avg=-35.6867, lr=0.000120, r2=0.9963]\n",
      "Epoch 185 Validating: 100%|██████████| 851/851 [00:09<00:00, 91.98batch/s, loss=-37.0043, loss_avg=-36.9389, mse=0.0001, r2=0.9965] \n"
     ]
    },
    {
     "name": "stdout",
     "output_type": "stream",
     "text": [
      "Save Best model: R2:0.9965, Loss Avg:-36.9389\n"
     ]
    },
    {
     "name": "stderr",
     "output_type": "stream",
     "text": [
      "Epoch 186 Training: 100%|██████████| 6808/6808 [02:21<00:00, 48.02batch/s, loss=-36.3972, loss_avg=-35.6631, lr=0.000120, r2=0.9963]\n",
      "Epoch 186 Validating: 100%|██████████| 851/851 [00:09<00:00, 88.84batch/s, loss=-36.5271, loss_avg=-36.5261, mse=0.0002, r2=0.9965] \n",
      "Epoch 187 Training: 100%|██████████| 6808/6808 [02:20<00:00, 48.30batch/s, loss=-34.7349, loss_avg=-35.6559, lr=0.000120, r2=0.9963]\n",
      "Epoch 187 Validating: 100%|██████████| 851/851 [00:09<00:00, 91.23batch/s, loss=-35.0696, loss_avg=-35.0118, mse=0.0002, r2=0.9962] \n",
      "Epoch 188 Training: 100%|██████████| 6808/6808 [02:20<00:00, 48.31batch/s, loss=-36.6855, loss_avg=-35.6353, lr=0.000120, r2=0.9963]\n",
      "Epoch 188 Validating: 100%|██████████| 851/851 [00:09<00:00, 91.63batch/s, loss=-36.9115, loss_avg=-36.8401, mse=0.0002, r2=0.9965] \n",
      "Epoch 189 Training: 100%|██████████| 6808/6808 [02:20<00:00, 48.33batch/s, loss=-35.4893, loss_avg=-35.6227, lr=0.000120, r2=0.9963]\n",
      "Epoch 189 Validating: 100%|██████████| 851/851 [00:09<00:00, 91.37batch/s, loss=-35.3174, loss_avg=-35.3106, mse=0.0002, r2=0.9962] \n",
      "Epoch 190 Training: 100%|██████████| 6808/6808 [02:20<00:00, 48.31batch/s, loss=-35.7180, loss_avg=-35.6407, lr=0.000120, r2=0.9963]\n",
      "Epoch 190 Validating: 100%|██████████| 851/851 [00:09<00:00, 92.04batch/s, loss=-36.2976, loss_avg=-36.2459, mse=0.0002, r2=0.9964] \n",
      "Epoch 191 Training: 100%|██████████| 6808/6808 [02:20<00:00, 48.44batch/s, loss=-36.2490, loss_avg=-35.5956, lr=0.000120, r2=0.9963]\n",
      "Epoch 191 Validating: 100%|██████████| 851/851 [00:09<00:00, 89.07batch/s, loss=-36.6139, loss_avg=-36.4663, mse=0.0002, r2=0.9964] \n",
      "Epoch 192 Training: 100%|██████████| 6808/6808 [02:21<00:00, 48.20batch/s, loss=-35.3131, loss_avg=-35.6518, lr=0.000120, r2=0.9963]\n",
      "Epoch 192 Validating: 100%|██████████| 851/851 [00:09<00:00, 90.96batch/s, loss=-36.2377, loss_avg=-36.1904, mse=0.0001, r2=0.9964] \n",
      "Epoch 193 Training: 100%|██████████| 6808/6808 [02:21<00:00, 48.14batch/s, loss=-36.6259, loss_avg=-35.7286, lr=0.000120, r2=0.9963]\n",
      "Epoch 193 Validating: 100%|██████████| 851/851 [00:09<00:00, 90.41batch/s, loss=-35.4377, loss_avg=-35.5362, mse=0.0001, r2=0.9964] \n",
      "Epoch 194 Training: 100%|██████████| 6808/6808 [02:21<00:00, 48.15batch/s, loss=-33.8708, loss_avg=-35.6719, lr=0.000120, r2=0.9963]\n",
      "Epoch 194 Validating: 100%|██████████| 851/851 [00:09<00:00, 90.75batch/s, loss=-35.0612, loss_avg=-34.9716, mse=0.0002, r2=0.9963] \n",
      "Epoch 195 Training: 100%|██████████| 6808/6808 [02:21<00:00, 48.23batch/s, loss=-34.5637, loss_avg=-35.6683, lr=0.000120, r2=0.9963]\n",
      "Epoch 195 Validating: 100%|██████████| 851/851 [00:09<00:00, 90.98batch/s, loss=-35.5643, loss_avg=-35.6094, mse=0.0001, r2=0.9962] \n",
      "Epoch 196 Training: 100%|██████████| 6808/6808 [02:19<00:00, 48.83batch/s, loss=-35.6891, loss_avg=-35.6648, lr=0.000120, r2=0.9963]\n",
      "Epoch 196 Validating: 100%|██████████| 851/851 [00:09<00:00, 92.47batch/s, loss=-35.6123, loss_avg=-35.5888, mse=0.0001, r2=0.9963] \n",
      "Epoch 197 Training: 100%|██████████| 6808/6808 [02:19<00:00, 48.92batch/s, loss=-36.3007, loss_avg=-35.7048, lr=0.000120, r2=0.9963]\n",
      "Epoch 197 Validating: 100%|██████████| 851/851 [00:09<00:00, 92.34batch/s, loss=-36.2292, loss_avg=-36.1747, mse=0.0002, r2=0.9964] \n",
      "Epoch 198 Training: 100%|██████████| 6808/6808 [02:19<00:00, 48.89batch/s, loss=-36.4299, loss_avg=-35.7651, lr=0.000120, r2=0.9963]\n",
      "Epoch 198 Validating: 100%|██████████| 851/851 [00:09<00:00, 93.15batch/s, loss=-36.6017, loss_avg=-36.4788, mse=0.0001, r2=0.9964] \n",
      "Epoch 199 Training: 100%|██████████| 6808/6808 [02:19<00:00, 48.80batch/s, loss=-36.3492, loss_avg=-35.7778, lr=0.000120, r2=0.9963]\n",
      "Epoch 199 Validating: 100%|██████████| 851/851 [00:09<00:00, 92.33batch/s, loss=-36.9909, loss_avg=-36.9001, mse=0.0001, r2=0.9965] \n",
      "Epoch 200 Training: 100%|██████████| 6808/6808 [02:19<00:00, 48.92batch/s, loss=-34.4211, loss_avg=-35.7715, lr=0.000120, r2=0.9963]\n",
      "Epoch 200 Validating: 100%|██████████| 851/851 [00:09<00:00, 92.44batch/s, loss=-35.1154, loss_avg=-35.0824, mse=0.0002, r2=0.9962] \n"
     ]
    }
   ],
   "source": [
    "t_l, v_l, val_r2, train_r2, mse = trainer.fit_for_MDN(t_loader, v_loader, criterion, model=model, mixture=pdf, model_save_path='D:\\\\Resource\\\\MDN\\\\rockyExoplanetV2\\\\', optim=optim, best_r2=0.8, warmup_epoch=5)\n"
   ],
   "metadata": {
    "collapsed": false,
    "pycharm": {
     "name": "#%%\n"
    },
    "ExecuteTime": {
     "end_time": "2024-01-29T03:29:02.814016700Z",
     "start_time": "2024-01-28T19:02:44.398255900Z"
    }
   }
  },
  {
   "cell_type": "code",
   "execution_count": 9,
   "metadata": {
    "pycharm": {
     "name": "#%%\n"
    },
    "ExecuteTime": {
     "end_time": "2024-01-29T03:29:03.085116300Z",
     "start_time": "2024-01-29T03:29:02.803218Z"
    }
   },
   "outputs": [
    {
     "data": {
      "text/plain": "<Figure size 720x432 with 1 Axes>",
      "image/png": "[encoded data removed]"
     },
     "metadata": {},
     "output_type": "display_data"
    }
   ],
   "source": [
    "result_pd = pd.DataFrame()\n",
    "result_pd['epoch'] = range(200)\n",
    "result_pd['train_r2_avg'] = train_r2\n",
    "result_pd['val_r2_avg'] = val_r2\n",
    "\n",
    "plot_line_2(y_1='train_r2_avg', y_2='val_r2_avg', df=result_pd, fig_size=(10, 6), output_path=\"D:\\\\PythonProject\\\\RebuildProject\\\\Rock\\\\imgs\\\\MRCk2_MDN20231129_TrainValR2.png\", dpi=300)"
   ]
  },
  {
   "cell_type": "code",
   "execution_count": 10,
   "metadata": {
    "pycharm": {
     "name": "#%%\n"
    },
    "ExecuteTime": {
     "end_time": "2024-01-29T03:29:03.368168600Z",
     "start_time": "2024-01-29T03:29:03.086113500Z"
    }
   },
   "outputs": [
    {
     "data": {
      "text/plain": "<Figure size 720x432 with 1 Axes>",
      "image/png": "[encoded data removed]"
     },
     "metadata": {},
     "output_type": "display_data"
    }
   ],
   "source": [
    "result_pd = pd.DataFrame()\n",
    "result_pd['epoch'] = range(200)\n",
    "result_pd['train_loss_avg'] = t_l\n",
    "result_pd['val_loss_avg'] = v_l\n",
    "\n",
    "plot_line_2(y_1='train_loss_avg', y_2='val_loss_avg', df=result_pd, fig_size=(10, 6), output_path=\"D:\\\\PythonProject\\\\RebuildProject\\\\Rock\\\\imgs\\\\MRCk2_MDN20231129_TrainValLoss.png\", dpi=300)"
   ]
  },
  {
   "cell_type": "code",
   "outputs": [],
   "source": [
    "r2_distance = np.abs((np.array(train_r2) - np.array(val_r2)).mean())\n",
    "loss_distance = np.abs((np.array(t_l) - np.array(v_l)).mean())\n",
    "loss_dis_df = pd.DataFrame(np.abs(np.array(t_l) - np.array(v_l))).iloc[10:, :]\n",
    "max_dis_10 = loss_dis_df.sort_values(by=0, ascending=False).iloc[:10, :].sort_index()\n",
    "dis_mean = max_dis_10.mean()\n",
    "dis_std = max_dis_10.std()"
   ],
   "metadata": {
    "collapsed": false,
    "ExecuteTime": {
     "end_time": "2024-01-29T04:58:38.998201400Z",
     "start_time": "2024-01-29T04:58:38.978265200Z"
    }
   },
   "execution_count": 16
  },
  {
   "cell_type": "code",
   "outputs": [],
   "source": [
    "cov = np.cov(np.array(t_l), np.array(v_l))"
   ],
   "metadata": {
    "collapsed": false,
    "ExecuteTime": {
     "end_time": "2024-01-29T05:52:40.889185900Z",
     "start_time": "2024-01-29T05:52:40.850316700Z"
    }
   },
   "execution_count": 18
  },
  {
   "cell_type": "code",
   "execution_count": 12,
   "metadata": {
    "pycharm": {
     "name": "#%%\n"
    },
    "ExecuteTime": {
     "end_time": "2024-01-29T03:29:03.413018500Z",
     "start_time": "2024-01-29T03:29:03.386108700Z"
    }
   },
   "outputs": [],
   "source": [
    "test_x_np = test_x.numpy()\n",
    "test_y_np = test_y.numpy()"
   ]
  },
  {
   "cell_type": "code",
   "execution_count": 13,
   "metadata": {
    "pycharm": {
     "name": "#%%\n"
    },
    "ExecuteTime": {
     "end_time": "2024-01-29T03:29:03.446904900Z",
     "start_time": "2024-01-29T03:29:03.402057500Z"
    }
   },
   "outputs": [],
   "source": [
    "np.save('D:\\\\Resource\\\\MDN\\\\TestDataMRCk2\\\\test_x.npy', test_x_np)\n",
    "np.save('D:\\\\Resource\\\\MDN\\\\TestDataMRCk2\\\\test_y.npy', test_y_np)\n",
    "# np.save('D:\\\\Resource\\\\MDN\\\\TestDataMRCk2\\\\scaler_x.npy', s_x)\n",
    "# np.save('D:\\\\Resource\\\\MDN\\\\TestDataMRCk2\\\\scaler_y.npy', s_y)"
   ]
  },
  {
   "cell_type": "code",
   "execution_count": 14,
   "outputs": [
    {
     "data": {
      "text/plain": "['D:\\\\Resource\\\\MDN\\\\TestDataMRCk2\\\\MDN_MRCk2_yscaler_20231201.save']"
     },
     "execution_count": 14,
     "metadata": {},
     "output_type": "execute_result"
    }
   ],
   "source": [
    "joblib.dump(s_x, \"D:\\\\Resource\\\\MDN\\\\TestDataMRCk2\\\\MDN_MRCk2_Xscaler_20231201.save\")\n",
    "joblib.dump(s_y, \"D:\\\\Resource\\\\MDN\\\\TestDataMRCk2\\\\MDN_MRCk2_yscaler_20231201.save\")"
   ],
   "metadata": {
    "collapsed": false,
    "pycharm": {
     "name": "#%%\n"
    },
    "ExecuteTime": {
     "end_time": "2024-01-29T03:29:03.489762100Z",
     "start_time": "2024-01-29T03:29:03.447901900Z"
    }
   }
  },
  {
   "cell_type": "code",
   "outputs": [],
   "source": [
    "import torch.nn as nn\n",
    "from tortreinador.utils.metrics import r2_score"
   ],
   "metadata": {
    "collapsed": false,
    "ExecuteTime": {
     "end_time": "2024-02-02T20:07:44.093026100Z",
     "start_time": "2024-02-02T20:07:44.059217500Z"
    }
   },
   "execution_count": 2
  },
  {
   "cell_type": "code",
   "outputs": [],
   "source": [
    "t_x = np.load(\"D:\\\\Resource\\\\MDN\\\\TestDataMRCk2\\\\test_x.npy\")\n",
    "t_y = np.load(\"D:\\\\Resource\\\\MDN\\\\TestDataMRCk2\\\\test_y.npy\")\n",
    "m_y = joblib.load(\"D:\\\\Resource\\\\MDN\\\\TestDataMRCk2\\\\MDN_MRCk2_yscaler_20231201.save\")"
   ],
   "metadata": {
    "collapsed": false,
    "ExecuteTime": {
     "end_time": "2024-02-02T20:07:44.453731900Z",
     "start_time": "2024-02-02T20:07:44.059217500Z"
    }
   },
   "execution_count": 3
  },
  {
   "cell_type": "code",
   "outputs": [
    {
     "data": {
      "text/plain": "<All keys matched successfully>"
     },
     "execution_count": 7,
     "metadata": {},
     "output_type": "execute_result"
    }
   ],
   "source": [
    "model = mdn(len(input_parameters), len(output_parameters), 20, 512)\n",
    "init_weights(model)\n",
    "model = nn.DataParallel(model)\n",
    "model.to(\"cuda\")\n",
    "model.load_state_dict(torch.load(\"D:\\\\Resource\\\\MDN\\\\rockyExoplanetV2\\\\best_model.pth\"))\n"
   ],
   "metadata": {
    "collapsed": false,
    "ExecuteTime": {
     "end_time": "2024-02-02T20:08:57.163580600Z",
     "start_time": "2024-02-02T20:08:57.064225Z"
    }
   },
   "execution_count": 7
  },
  {
   "cell_type": "code",
   "outputs": [
    {
     "name": "stdout",
     "output_type": "stream",
     "text": [
      "NLLLoss: -36.934946396735256, MSE: 0.00014880198387144894, R2: 0.99652592268116\n"
     ]
    }
   ],
   "source": [
    "# Predict\n",
    "model.eval()\n",
    "pi, mu, sigma = model(torch.from_numpy(t_x))\n",
    "mix = Mixture()\n",
    "criterion = NLLLoss()\n",
    "mse = nn.MSELoss()\n",
    "sample = mix(pi, mu, sigma).sample()\n",
    "print(\"NLLLoss: {}, MSE: {}, R2: {}\".format(criterion(pi, mu, sigma, torch.from_numpy(t_y).to('cuda')),\n",
    "                                            mse(torch.from_numpy(t_y).to('cuda'), sample),\n",
    "                                            r2_score(sample, torch.from_numpy(t_y).to('cuda'))))"
   ],
   "metadata": {
    "collapsed": false,
    "ExecuteTime": {
     "end_time": "2024-02-02T20:09:14.805167200Z",
     "start_time": "2024-02-02T20:08:59.231970900Z"
    }
   },
   "execution_count": 8
  },
  {
   "cell_type": "code",
   "outputs": [],
   "source": [],
   "metadata": {
    "collapsed": false
   }
  }
 ],
 "metadata": {
  "kernelspec": {
   "display_name": "Python 3 (ipykernel)",
   "language": "python",
   "name": "python3"
  },
  "language_info": {
   "codemirror_mode": {
    "name": "ipython",
    "version": 3
   },
   "file_extension": ".py",
   "mimetype": "text/x-python",
   "name": "python",
   "nbconvert_exporter": "python",
   "pygments_lexer": "ipython3",
   "version": "3.7.1"
  }
 },
 "nbformat": 4,
 "nbformat_minor": 1
}
