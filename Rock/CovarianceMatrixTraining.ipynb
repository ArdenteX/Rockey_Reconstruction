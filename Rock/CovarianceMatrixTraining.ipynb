{
 "cells": [
  {
   "cell_type": "code",
   "execution_count": 1,
   "id": "initial_id",
   "metadata": {
    "collapsed": true,
    "ExecuteTime": {
     "end_time": "2024-07-17T03:55:09.963989Z",
     "start_time": "2024-07-17T03:54:50.356882Z"
    }
   },
   "outputs": [],
   "source": [
    "import pandas as pd\n",
    "from tortreinador.utils.tools import check_outlier\n",
    "from tortreinador.utils.plot import plot_line_2\n",
    "from tortreinador.utils.preprocessing import load_data\n",
    "from tortreinador.train import TorchTrainer\n",
    "from Rock.Model.MLP import MLP_Attention\n",
    "from Rock.Model.SelfAttention import torch_cov\n",
    "from tortreinador.utils.View import init_weights, split_weights\n",
    "from tortreinador.utils.plot import calculate_GMM\n",
    "import torch\n",
    "import torch.nn as nn\n",
    "from tortreinador.utils.metrics import r2_score\n",
    "import matplotlib\n",
    "from matplotlib import pyplot as plt\n",
    "import proplot as pplt\n",
    "import joblib"
   ]
  },
  {
   "cell_type": "code",
   "outputs": [],
   "source": [
    "df_chunk_0 = pd.read_parquet(\"D:\\\\Resource\\\\rockyExoplanetV3\\\\data_chunk_0.parquet\")\n",
    "df_chunk_1 = pd.read_parquet(\"D:\\\\Resource\\\\rockyExoplanetV3\\\\data_chunk_1.parquet\")\n",
    "\n",
    "df_all = pd.concat([df_chunk_0, df_chunk_1])"
   ],
   "metadata": {
    "collapsed": false,
    "ExecuteTime": {
     "end_time": "2024-07-17T03:55:11.955858Z",
     "start_time": "2024-07-17T03:55:09.964991Z"
    }
   },
   "id": "94546acceabdee5c",
   "execution_count": 2
  },
  {
   "cell_type": "code",
   "outputs": [],
   "source": [
    "input_parameters = [\n",
    "    'Mass',\n",
    "    'Radius',\n",
    "    'FeMg',\n",
    "    'SiMg',\n",
    "]\n",
    "\n",
    "output_parameters = [\n",
    "    'WRF',\n",
    "    'MRF',\n",
    "    'CRF',\n",
    "    'WMF',\n",
    "    'CMF',\n",
    "    'CPS',\n",
    "    'CTP',\n",
    "    'k2'\n",
    "]"
   ],
   "metadata": {
    "collapsed": false,
    "ExecuteTime": {
     "end_time": "2024-07-17T03:55:11.971190Z",
     "start_time": "2024-07-17T03:55:11.955991Z"
    }
   },
   "id": "19c515f46cf95087",
   "execution_count": 3
  },
  {
   "cell_type": "code",
   "outputs": [],
   "source": [
    "t_loader, v_loader, test_x, test_y, s_x, s_y = load_data(data=df_all, input_parameters=input_parameters,\n",
    "                                                         output_parameters=output_parameters,\n",
    "                                                         if_normal=True, if_shuffle=True, batch_size=256)"
   ],
   "metadata": {
    "collapsed": false,
    "ExecuteTime": {
     "end_time": "2024-07-17T03:55:13.777896Z",
     "start_time": "2024-07-17T03:55:11.972190Z"
    }
   },
   "id": "3ab785d8033899af",
   "execution_count": 4
  },
  {
   "cell_type": "code",
   "outputs": [],
   "source": [
    "model = MLP_Attention(input_size=len(input_parameters), output_size=len(output_parameters), layer1_size=256, layer2_size=128, mode='cov')\n",
    "init_weights(model)\n",
    "criterion = nn.MSELoss()\n",
    "optimizer = torch.optim.Adam(split_weights(model), lr=0.0001, weight_decay=0.0001)"
   ],
   "metadata": {
    "collapsed": false,
    "ExecuteTime": {
     "end_time": "2024-07-17T03:55:14.057696Z",
     "start_time": "2024-07-17T03:55:13.778896Z"
    }
   },
   "id": "4a77cb7373598321",
   "execution_count": 5
  },
  {
   "cell_type": "code",
   "outputs": [],
   "source": [
    "class Trainer(TorchTrainer):\n",
    "    def calculate(self, x, y, mode='t'):\n",
    "        output, weight = model(x)\n",
    "        y_pred = torch.mean(output, dim=0)\n",
    "\n",
    "        y = torch_cov(y).to(torch.float64)\n",
    "        loss = self.criterion(y_pred, y)\n",
    "\n",
    "        metric_per = r2_score(y, y_pred)\n",
    "        \n",
    "        return self._standard_return(loss=loss, metric_per=metric_per, mode=mode, y=y, y_pred=y_pred)\n",
    "        "
   ],
   "metadata": {
    "collapsed": false,
    "ExecuteTime": {
     "end_time": "2024-07-17T03:55:14.073787Z",
     "start_time": "2024-07-17T03:55:14.058697Z"
    }
   },
   "id": "a5a6cdb0de324fa8",
   "execution_count": 6
  },
  {
   "cell_type": "code",
   "outputs": [
    {
     "name": "stdout",
     "output_type": "stream",
     "text": [
      "Epoch:20, is GPU: True\n"
     ]
    }
   ],
   "source": [
    "trainer = Trainer(is_gpu=True, epoch=20, optimizer=optimizer, model=model, criterion=criterion)"
   ],
   "metadata": {
    "collapsed": false,
    "ExecuteTime": {
     "end_time": "2024-07-17T03:55:14.244151Z",
     "start_time": "2024-07-17T03:55:14.075768Z"
    }
   },
   "id": "da465e0f7a1288a",
   "execution_count": 7
  },
  {
   "cell_type": "code",
   "outputs": [],
   "source": [
    "config = {\n",
    "    'b_m': 0.8,\n",
    "    'm_p': 'D:\\\\Resource\\\\MDN\\\\MLPSelfAttention\\\\Test\\\\',\n",
    "    'w_e': 5,\n",
    "    # 'l_m': {\n",
    "    #     's_l': [43, 50, 74, 134, 148, 157, 166, 180],\n",
    "    #     'gamma': 0.7\n",
    "    # }\n",
    "}"
   ],
   "metadata": {
    "collapsed": false,
    "ExecuteTime": {
     "end_time": "2024-07-17T03:55:14.259148Z",
     "start_time": "2024-07-17T03:55:14.244688Z"
    }
   },
   "id": "ff9bdeca264ce67a",
   "execution_count": 8
  },
  {
   "cell_type": "code",
   "outputs": [
    {
     "name": "stdout",
     "output_type": "stream",
     "text": [
      "module.layer1.weight : torch.Size([256, 4])\n",
      "module.layer1.bias : torch.Size([256])\n",
      "module.layer2.weight : torch.Size([128, 256])\n",
      "module.layer2.bias : torch.Size([128])\n",
      "module.output.Q_layer.weight : torch.Size([64, 128])\n",
      "module.output.Q_layer.bias : torch.Size([64])\n",
      "module.output.K_layer.weight : torch.Size([64, 128])\n",
      "module.output.K_layer.bias : torch.Size([64])\n",
      "module.output.V_layer.weight : torch.Size([64, 128])\n",
      "module.output.V_layer.bias : torch.Size([64])\n"
     ]
    },
    {
     "name": "stderr",
     "output_type": "stream",
     "text": [
      "  0%|          | 0/11025 [00:00<?, ?batch/s]E:\\anaconda\\envs\\deeplearning\\lib\\site-packages\\torch\\optim\\lr_scheduler.py:136: UserWarning: Detected call of `lr_scheduler.step()` before `optimizer.step()`. In PyTorch 1.1.0 and later, you should call them in the opposite order: `optimizer.step()` before `lr_scheduler.step()`.  Failure to do this will result in PyTorch skipping the first value of the learning rate schedule. See more details at https://pytorch.org/docs/stable/optim.html#how-to-adjust-learning-rate\n",
      "  \"https://pytorch.org/docs/stable/optim.html#how-to-adjust-learning-rate\", UserWarning)\n",
      "Epoch 1 Training: 100%|██████████| 11025/11025 [01:15<00:00, 145.17batch/s, loss=0.0000, loss_avg=0.0016, lr=0.000020, train_metric=-2.8356]\n",
      "Epoch 1 Validating: 100%|██████████| 1379/1379 [00:04<00:00, 331.39batch/s, loss=0.0000, loss_avg=0.0000, val_metric=0.9807]\n"
     ]
    },
    {
     "name": "stdout",
     "output_type": "stream",
     "text": [
      "Save Best model: Metric:0.9807, Loss Avg:0.0000\n"
     ]
    },
    {
     "name": "stderr",
     "output_type": "stream",
     "text": [
      "Epoch 2 Training: 100%|██████████| 11025/11025 [00:51<00:00, 212.37batch/s, loss=0.0000, loss_avg=0.0000, lr=0.000040, train_metric=0.9826]\n",
      "Epoch 2 Validating: 100%|██████████| 1379/1379 [00:04<00:00, 337.61batch/s, loss=0.0000, loss_avg=0.0000, val_metric=0.9827]\n"
     ]
    },
    {
     "name": "stdout",
     "output_type": "stream",
     "text": [
      "Save Best model: Metric:0.9827, Loss Avg:0.0000\n"
     ]
    },
    {
     "name": "stderr",
     "output_type": "stream",
     "text": [
      "Epoch 3 Training: 100%|██████████| 11025/11025 [00:52<00:00, 210.93batch/s, loss=0.0000, loss_avg=0.0000, lr=0.000060, train_metric=0.9828]\n",
      "Epoch 3 Validating: 100%|██████████| 1379/1379 [00:03<00:00, 345.88batch/s, loss=0.0000, loss_avg=0.0000, val_metric=0.9828]\n"
     ]
    },
    {
     "name": "stdout",
     "output_type": "stream",
     "text": [
      "Save Best model: Metric:0.9828, Loss Avg:0.0000\n"
     ]
    },
    {
     "name": "stderr",
     "output_type": "stream",
     "text": [
      "Epoch 4 Training: 100%|██████████| 11025/11025 [00:53<00:00, 206.75batch/s, loss=0.0000, loss_avg=0.0000, lr=0.000080, train_metric=0.9829]\n",
      "Epoch 4 Validating: 100%|██████████| 1379/1379 [00:04<00:00, 342.16batch/s, loss=0.0000, loss_avg=0.0000, val_metric=0.9828]\n",
      "Epoch 5 Training: 100%|██████████| 11025/11025 [00:51<00:00, 213.41batch/s, loss=0.0000, loss_avg=0.0000, lr=0.000100, train_metric=0.9828]\n",
      "Epoch 5 Validating: 100%|██████████| 1379/1379 [00:04<00:00, 339.75batch/s, loss=0.0000, loss_avg=0.0000, val_metric=0.9828]\n",
      "Epoch 6 Training: 100%|██████████| 11025/11025 [00:51<00:00, 213.37batch/s, loss=0.0000, loss_avg=0.0000, lr=0.000100, train_metric=0.9828]\n",
      "Epoch 6 Validating: 100%|██████████| 1379/1379 [00:04<00:00, 325.27batch/s, loss=0.0000, loss_avg=0.0000, val_metric=0.9828]\n"
     ]
    },
    {
     "name": "stdout",
     "output_type": "stream",
     "text": [
      "Save Best model: Metric:0.9828, Loss Avg:0.0000\n"
     ]
    },
    {
     "name": "stderr",
     "output_type": "stream",
     "text": [
      "Epoch 7 Training: 100%|██████████| 11025/11025 [00:51<00:00, 213.22batch/s, loss=0.0000, loss_avg=0.0000, lr=0.000100, train_metric=0.9828]\n",
      "Epoch 7 Validating: 100%|██████████| 1379/1379 [00:04<00:00, 340.66batch/s, loss=0.0000, loss_avg=0.0000, val_metric=0.9828]\n",
      "Epoch 8 Training: 100%|██████████| 11025/11025 [00:50<00:00, 219.62batch/s, loss=0.0000, loss_avg=0.0000, lr=0.000100, train_metric=0.9828]\n",
      "Epoch 8 Validating: 100%|██████████| 1379/1379 [00:04<00:00, 336.57batch/s, loss=0.0000, loss_avg=0.0000, val_metric=0.9828]\n",
      "Epoch 9 Training: 100%|██████████| 11025/11025 [00:53<00:00, 205.29batch/s, loss=0.0000, loss_avg=0.0000, lr=0.000100, train_metric=0.9828]\n",
      "Epoch 9 Validating: 100%|██████████| 1379/1379 [00:04<00:00, 294.91batch/s, loss=0.0000, loss_avg=0.0000, val_metric=0.9828]\n",
      "Epoch 10 Training: 100%|██████████| 11025/11025 [00:51<00:00, 213.77batch/s, loss=0.0000, loss_avg=0.0000, lr=0.000100, train_metric=0.9828]\n",
      "Epoch 10 Validating: 100%|██████████| 1379/1379 [00:04<00:00, 341.24batch/s, loss=0.0000, loss_avg=0.0000, val_metric=0.9828]\n",
      "Epoch 11 Training: 100%|██████████| 11025/11025 [00:51<00:00, 214.24batch/s, loss=0.0000, loss_avg=0.0000, lr=0.000100, train_metric=0.9828]\n",
      "Epoch 11 Validating: 100%|██████████| 1379/1379 [00:04<00:00, 343.20batch/s, loss=0.0000, loss_avg=0.0000, val_metric=0.9828]\n",
      "Epoch 12 Training: 100%|██████████| 11025/11025 [00:51<00:00, 213.37batch/s, loss=0.0000, loss_avg=0.0000, lr=0.000100, train_metric=0.9828]\n",
      "Epoch 12 Validating: 100%|██████████| 1379/1379 [00:03<00:00, 349.41batch/s, loss=0.0000, loss_avg=0.0000, val_metric=0.9828]\n",
      "Epoch 13 Training: 100%|██████████| 11025/11025 [00:50<00:00, 218.14batch/s, loss=0.0000, loss_avg=0.0000, lr=0.000100, train_metric=0.9828]\n",
      "Epoch 13 Validating: 100%|██████████| 1379/1379 [00:04<00:00, 339.99batch/s, loss=0.0000, loss_avg=0.0000, val_metric=0.9828]\n",
      "Epoch 14 Training: 100%|██████████| 11025/11025 [00:50<00:00, 218.39batch/s, loss=0.0000, loss_avg=0.0000, lr=0.000100, train_metric=0.9828]\n",
      "Epoch 14 Validating: 100%|██████████| 1379/1379 [00:03<00:00, 354.36batch/s, loss=0.0000, loss_avg=0.0000, val_metric=0.9828]\n",
      "Epoch 15 Training: 100%|██████████| 11025/11025 [00:50<00:00, 218.08batch/s, loss=0.0000, loss_avg=0.0000, lr=0.000100, train_metric=0.9828]\n",
      "Epoch 15 Validating: 100%|██████████| 1379/1379 [00:04<00:00, 337.94batch/s, loss=0.0000, loss_avg=0.0000, val_metric=0.9828]\n",
      "Epoch 16 Training: 100%|██████████| 11025/11025 [00:51<00:00, 212.58batch/s, loss=0.0000, loss_avg=0.0000, lr=0.000100, train_metric=0.9828]\n",
      "Epoch 16 Validating: 100%|██████████| 1379/1379 [00:04<00:00, 344.26batch/s, loss=0.0000, loss_avg=0.0000, val_metric=0.9828]\n",
      "Epoch 17 Training: 100%|██████████| 11025/11025 [00:51<00:00, 214.60batch/s, loss=0.0000, loss_avg=0.0000, lr=0.000100, train_metric=0.9828]\n",
      "Epoch 17 Validating: 100%|██████████| 1379/1379 [00:04<00:00, 344.26batch/s, loss=0.0000, loss_avg=0.0000, val_metric=0.9828]\n",
      "Epoch 18 Training: 100%|██████████| 11025/11025 [00:51<00:00, 214.19batch/s, loss=0.0000, loss_avg=0.0000, lr=0.000100, train_metric=0.9828]\n",
      "Epoch 18 Validating: 100%|██████████| 1379/1379 [00:03<00:00, 345.06batch/s, loss=0.0000, loss_avg=0.0000, val_metric=0.9828]\n",
      "Epoch 19 Training: 100%|██████████| 11025/11025 [00:51<00:00, 212.63batch/s, loss=0.0000, loss_avg=0.0000, lr=0.000100, train_metric=0.9828]\n",
      "Epoch 19 Validating: 100%|██████████| 1379/1379 [00:03<00:00, 347.18batch/s, loss=0.0000, loss_avg=0.0000, val_metric=0.9828]\n",
      "Epoch 20 Training: 100%|██████████| 11025/11025 [00:51<00:00, 214.57batch/s, loss=0.0000, loss_avg=0.0000, lr=0.000100, train_metric=0.9828]\n",
      "Epoch 20 Validating: 100%|██████████| 1379/1379 [00:03<00:00, 347.98batch/s, loss=0.0000, loss_avg=0.0000, val_metric=0.9828]\n"
     ]
    }
   ],
   "source": [
    "result = trainer.fit(t_loader, v_loader, **config)\n"
   ],
   "metadata": {
    "collapsed": false,
    "ExecuteTime": {
     "end_time": "2024-07-17T04:14:12.539328Z",
     "start_time": "2024-07-17T03:55:14.260148Z"
    }
   },
   "id": "3368a4b8fa73a9e4",
   "execution_count": 9
  },
  {
   "cell_type": "code",
   "outputs": [],
   "source": [],
   "metadata": {
    "collapsed": false,
    "ExecuteTime": {
     "end_time": "2024-07-12T07:54:49.125189Z",
     "start_time": "2024-07-12T07:54:49.113661Z"
    }
   },
   "id": "d8472b5f5087c5fa",
   "execution_count": 9
  }
 ],
 "metadata": {
  "kernelspec": {
   "display_name": "Python 3",
   "language": "python",
   "name": "python3"
  },
  "language_info": {
   "codemirror_mode": {
    "name": "ipython",
    "version": 2
   },
   "file_extension": ".py",
   "mimetype": "text/x-python",
   "name": "python",
   "nbconvert_exporter": "python",
   "pygments_lexer": "ipython2",
   "version": "2.7.6"
  }
 },
 "nbformat": 4,
 "nbformat_minor": 5
}
