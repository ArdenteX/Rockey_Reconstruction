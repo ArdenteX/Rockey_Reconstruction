{
 "cells": [
  {
   "cell_type": "code",
   "execution_count": 25,
   "id": "initial_id",
   "metadata": {
    "collapsed": true,
    "ExecuteTime": {
     "end_time": "2024-07-01T15:45:50.718401Z",
     "start_time": "2024-07-01T15:45:50.699523Z"
    }
   },
   "outputs": [],
   "source": [
    "from tensorflow.keras.models import load_model  # For loading a saved model\n",
    "\n",
    "import mdn  # For Mixture Density Networks\n",
    "import joblib  # For serialization and deserialization of Python objects\n",
    "from sklearn.model_selection import train_test_split\n",
    "from sklearn.preprocessing import MinMaxScaler\n",
    "from tensorflow import keras\n",
    "from sklearn.metrics import r2_score\n",
    "from Rock.Model.EnsembleMDN import EnsembleMDN\n",
    "from tortreinador.utils.plot import calculate_GMM\n",
    "from tortreinador.utils.View import init_weights\n",
    "from tortreinador.models.MDN import Mixture, NLLLoss\n",
    "from tortreinador.utils.metrics import r2_score as r2\n",
    "import torch\n",
    "import torch.nn as nn\n",
    "import pandas as pd\n",
    "import numpy as np"
   ]
  },
  {
   "cell_type": "code",
   "outputs": [],
   "source": [
    "df_chunk_0 = pd.read_parquet(\"D:\\\\Resource\\\\rockyExoplanetV3\\\\data_chunk_0.parquet\")\n",
    "df_chunk_1 = pd.read_parquet(\"D:\\\\Resource\\\\rockyExoplanetV3\\\\data_chunk_1.parquet\")\n",
    "\n",
    "df_all = pd.concat([df_chunk_0, df_chunk_1])"
   ],
   "metadata": {
    "collapsed": false,
    "ExecuteTime": {
     "end_time": "2024-07-01T15:38:53.392707Z",
     "start_time": "2024-07-01T15:38:53.019823Z"
    }
   },
   "id": "9b12c60f68e0cc9b",
   "execution_count": 2
  },
  {
   "cell_type": "code",
   "outputs": [],
   "source": [
    "input_parameters = [\n",
    "    'Mass',\n",
    "    'Radius',\n",
    "    'FeMg',\n",
    "    'SiMg',\n",
    "    'Mass_Noise',\n",
    "    'Radius_Noise',\n",
    "    'FeMg_Noise',\n",
    "    'SiMg_Noise'\n",
    "]\n",
    "\n",
    "output_parameters = [\n",
    "    'WRF',\n",
    "    'MRF',\n",
    "    'CRF',\n",
    "    'WMF',\n",
    "    'CMF',\n",
    "    'CPS',\n",
    "    'CTP',\n",
    "    'k2'\n",
    "]"
   ],
   "metadata": {
    "collapsed": false,
    "ExecuteTime": {
     "end_time": "2024-07-01T15:38:53.408738Z",
     "start_time": "2024-07-01T15:38:53.393667Z"
    }
   },
   "id": "7f399923f0144887",
   "execution_count": 3
  },
  {
   "cell_type": "code",
   "outputs": [],
   "source": [
    "scaler_x = MinMaxScaler()\n",
    "scaler_y = MinMaxScaler()"
   ],
   "metadata": {
    "collapsed": false,
    "ExecuteTime": {
     "end_time": "2024-07-01T15:38:56.606998Z",
     "start_time": "2024-07-01T15:38:56.587130Z"
    }
   },
   "id": "30968c748b1e371d",
   "execution_count": 4
  },
  {
   "cell_type": "code",
   "outputs": [],
   "source": [
    "X_train, X_test, y_train, y_test = train_test_split(scaler_x.fit_transform(df_all[input_parameters[:4]].to_numpy()), scaler_y.fit_transform(df_all[output_parameters].to_numpy()), test_size=0.1, random_state=125)"
   ],
   "metadata": {
    "collapsed": false,
    "ExecuteTime": {
     "end_time": "2024-07-01T15:38:58.626333Z",
     "start_time": "2024-07-01T15:38:57.042713Z"
    }
   },
   "id": "7fcf010a6302a769",
   "execution_count": 5
  },
  {
   "cell_type": "code",
   "outputs": [],
   "source": [
    "OUTPUT_DIMS = len(output_parameters)\n",
    "N_MIXES = 20"
   ],
   "metadata": {
    "collapsed": false,
    "ExecuteTime": {
     "end_time": "2024-07-01T15:23:40.326951Z",
     "start_time": "2024-07-01T15:23:40.320966Z"
    }
   },
   "id": "e1e4928b1d019e6b",
   "execution_count": 11
  },
  {
   "cell_type": "code",
   "outputs": [],
   "source": [
    "m_2 = keras.models.load_model('D:\\\\Resource\\\\MDN\\\\rockyExoplanetV3\\\\model.h5', custom_objects={'MDN': mdn.MDN, 'mdn_loss_func': mdn.get_mixture_loss_func(OUTPUT_DIMS, N_MIXES)})"
   ],
   "metadata": {
    "collapsed": false,
    "ExecuteTime": {
     "end_time": "2024-07-01T15:22:51.778742Z",
     "start_time": "2024-07-01T15:22:47.620848Z"
    }
   },
   "id": "d0fffde2ed778453",
   "execution_count": 10
  },
  {
   "cell_type": "code",
   "outputs": [],
   "source": [
    "sample_rand_idx = np.random.randint(0, X_test.shape[0], size=20000)"
   ],
   "metadata": {
    "collapsed": false,
    "ExecuteTime": {
     "end_time": "2024-07-01T15:28:09.394175Z",
     "start_time": "2024-07-01T15:28:09.379682Z"
    }
   },
   "id": "722c5ba1822f7158",
   "execution_count": 17
  },
  {
   "cell_type": "code",
   "outputs": [],
   "source": [
    "X_test_sampled = X_test[sample_rand_idx]\n",
    "y_test_sampled = y_test[sample_rand_idx]"
   ],
   "metadata": {
    "collapsed": false,
    "ExecuteTime": {
     "end_time": "2024-07-01T15:28:53.412989Z",
     "start_time": "2024-07-01T15:28:53.396545Z"
    }
   },
   "id": "dcf061c4dbf467e1",
   "execution_count": 18
  },
  {
   "cell_type": "code",
   "outputs": [
    {
     "name": "stdout",
     "output_type": "stream",
     "text": [
      "r2 score: 0.9395445156788287, MSE: 0.002544329734519124, NLLLoss: -13.209503173828125\n"
     ]
    }
   ],
   "source": [
    "mse_function = mdn.get_mixture_mse_accuracy(OUTPUT_DIMS, N_MIXES)\n",
    "c = mdn.get_mixture_loss_func(OUTPUT_DIMS, N_MIXES)\n",
    "sample_function = mdn.get_mixture_sampling_fun(OUTPUT_DIMS, N_MIXES)\n",
    "pred = m_2.predict(X_test_sampled)\n",
    "samples = sample_function(pred)\n",
    "print(\"r2 score: {}, MSE: {}, NLLLoss: {}\".format(r2_score(y_test_sampled, samples),\n",
    "                                                  np.mean(mse_function(y_test_sampled.astype('float32'), pred)),\n",
    "                                                  np.mean(c(y_test_sampled.astype('float32'), pred))))"
   ],
   "metadata": {
    "collapsed": false,
    "ExecuteTime": {
     "end_time": "2024-07-01T15:29:09.112663Z",
     "start_time": "2024-07-01T15:29:08.038012Z"
    }
   },
   "id": "e4ee7fa77a6c9c68",
   "execution_count": 19
  },
  {
   "cell_type": "code",
   "outputs": [],
   "source": [
    "mus = np.apply_along_axis((lambda a: a[:N_MIXES * OUTPUT_DIMS]), 1, pred)\n",
    "sigs = np.apply_along_axis((lambda a: a[N_MIXES * OUTPUT_DIMS:2 * N_MIXES * OUTPUT_DIMS]), 1, pred)\n",
    "pis = np.apply_along_axis((lambda a: mdn.softmax(a[-N_MIXES:])), 1, pred)\n",
    "mus = mus.reshape(mus.shape[0], N_MIXES, int(mus.shape[1] / N_MIXES))\n",
    "sigs = sigs.reshape(sigs.shape[0], N_MIXES, int(sigs.shape[1] / N_MIXES))"
   ],
   "metadata": {
    "collapsed": false,
    "ExecuteTime": {
     "end_time": "2024-07-01T15:29:14.109986Z",
     "start_time": "2024-07-01T15:29:13.905685Z"
    }
   },
   "id": "3b8282f5ddcb3e14",
   "execution_count": 20
  },
  {
   "cell_type": "code",
   "outputs": [],
   "source": [
    "tf_GMM = calculate_GMM(pis, mus, sigs)"
   ],
   "metadata": {
    "collapsed": false,
    "ExecuteTime": {
     "end_time": "2024-07-01T15:30:04.332086Z",
     "start_time": "2024-07-01T15:29:53.451845Z"
    }
   },
   "id": "3fb8634a044ecb08",
   "execution_count": 21
  },
  {
   "cell_type": "code",
   "outputs": [],
   "source": [
    "tf_test_y_inverse = scaler_y.inverse_transform(y_test_sampled)"
   ],
   "metadata": {
    "collapsed": false,
    "ExecuteTime": {
     "end_time": "2024-07-01T15:34:32.933135Z",
     "start_time": "2024-07-01T15:34:32.919471Z"
    }
   },
   "id": "2450f31c2cdd9f21",
   "execution_count": 23
  },
  {
   "cell_type": "code",
   "outputs": [],
   "source": [
    "tf_col_dis = []\n",
    "for o in range(len(output_parameters)):\n",
    "    dis = 0\n",
    "    for i in range(0, tf_GMM.shape[-1], len(output_parameters)):\n",
    "        test_y_current = tf_test_y_inverse[int(i / len(output_parameters)), o]\n",
    "        GMM_cal = tf_GMM[:, o + i].reshape(-1, 1)\n",
    "        offset = np.sqrt((GMM_cal - test_y_current) ** 2)\n",
    "        dis += np.mean(offset)\n",
    "    tf_col_dis.append(dis / len(tf_test_y_inverse))"
   ],
   "metadata": {
    "collapsed": false,
    "ExecuteTime": {
     "end_time": "2024-07-01T15:34:53.998793Z",
     "start_time": "2024-07-01T15:34:52.726527Z"
    }
   },
   "id": "2b411b98e7d133c0",
   "execution_count": 25
  },
  {
   "cell_type": "code",
   "outputs": [
    {
     "data": {
      "text/plain": "[0.12942624748606513,\n 0.31394649432756416,\n 0.5872808851584715,\n 0.12588102788453473,\n 0.49116098137752107,\n 531.4397889488772,\n 3199.016203612213,\n 0.6364761625623442]"
     },
     "execution_count": 26,
     "metadata": {},
     "output_type": "execute_result"
    }
   ],
   "source": [
    "tf_col_dis"
   ],
   "metadata": {
    "collapsed": false,
    "ExecuteTime": {
     "end_time": "2024-07-01T15:35:01.375875Z",
     "start_time": "2024-07-01T15:35:01.366630Z"
    }
   },
   "id": "2aab59a30809ad11",
   "execution_count": 26
  },
  {
   "cell_type": "code",
   "outputs": [],
   "source": [
    "t_x = np.load(\"D:\\\\Resource\\\\MDN\\\\rockyExoplanetV3\\\\NoiseADD\\\\testData\\\\test_x.npy\")\n",
    "t_y = np.load(\"D:\\\\Resource\\\\MDN\\\\rockyExoplanetV3\\\\NoiseADD\\\\testData\\\\test_y.npy\")\n",
    "# m_y = joblib.load(\"D:\\\\Resource\\\\MDN\\\\rockyExoplanetV3\\\\NoiseADD\\\\testData\\\\MDN_v3_yscaler_20240630.save\")"
   ],
   "metadata": {
    "collapsed": false,
    "ExecuteTime": {
     "end_time": "2024-07-01T15:39:09.652534Z",
     "start_time": "2024-07-01T15:39:09.613055Z"
    }
   },
   "id": "2a0257d525a6772",
   "execution_count": 7
  },
  {
   "cell_type": "code",
   "outputs": [
    {
     "data": {
      "text/plain": "<All keys matched successfully>"
     },
     "execution_count": 21,
     "metadata": {},
     "output_type": "execute_result"
    }
   ],
   "source": [
    "model = EnsembleMDN(int(len(input_parameters) / 2), len(output_parameters), 20, 512, kernel_size=3)\n",
    "init_weights(model)\n",
    "model = nn.DataParallel(model)\n",
    "model.load_state_dict(torch.load(\"D:\\\\Resource\\\\MDN\\\\rockyExoplanetV3\\\\NoiseADD\\\\best_model.pth\"))"
   ],
   "metadata": {
    "collapsed": false,
    "ExecuteTime": {
     "end_time": "2024-07-01T15:44:30.079681Z",
     "start_time": "2024-07-01T15:44:29.923352Z"
    }
   },
   "id": "ec2c56d09ff0dae9",
   "execution_count": 21
  },
  {
   "cell_type": "code",
   "outputs": [],
   "source": [
    "rand_idx = torch.randint(0, t_x.shape[0], size=(20000,))\n",
    "sampled_test_x = t_x[rand_idx]\n",
    "sampled_test_y = t_y[rand_idx]\n",
    "t_x_o, t_x_n = np.array_split(sampled_test_x, 2, axis=1)"
   ],
   "metadata": {
    "collapsed": false,
    "ExecuteTime": {
     "end_time": "2024-07-01T15:39:36.922227Z",
     "start_time": "2024-07-01T15:39:36.912213Z"
    }
   },
   "id": "f65623defcfd048a",
   "execution_count": 9
  },
  {
   "cell_type": "code",
   "outputs": [],
   "source": [
    "model.eval()\n",
    "pred = model(torch.from_numpy(t_x_o), torch.from_numpy(t_x_n))"
   ],
   "metadata": {
    "collapsed": false,
    "ExecuteTime": {
     "end_time": "2024-07-01T15:44:13.803992Z",
     "start_time": "2024-07-01T15:44:13.602950Z"
    }
   },
   "id": "b1b0ee27ed2e3511",
   "execution_count": 19
  },
  {
   "cell_type": "code",
   "outputs": [
    {
     "name": "stdout",
     "output_type": "stream",
     "text": [
      "NLLLoss: -44.20869823588779, MSE: 0.0012548256948102354, R2: 0.9608586190710933\n"
     ]
    }
   ],
   "source": [
    "mix = Mixture()\n",
    "criterion = NLLLoss()\n",
    "mse = nn.MSELoss()\n",
    "sample = mix(pred[0], pred[1], pred[2]).sample()\n",
    "print(\"NLLLoss: {}, MSE: {}, R2: {}\".format((criterion(pred[0], pred[1], pred[2], torch.from_numpy(sampled_test_y).to('cuda'))),\n",
    "                                            mse(torch.from_numpy(sampled_test_y).to('cuda'), sample),\n",
    "                                            r2(sample, torch.from_numpy(sampled_test_y).to('cuda'))))"
   ],
   "metadata": {
    "collapsed": false,
    "ExecuteTime": {
     "end_time": "2024-07-01T15:46:36.568749Z",
     "start_time": "2024-07-01T15:46:36.384249Z"
    }
   },
   "id": "c47edfc092d2abd9",
   "execution_count": 26
  },
  {
   "cell_type": "code",
   "outputs": [],
   "source": [
    "torch_GMM_PDF = calculate_GMM(torch.exp(pred[0]).detach().cpu().numpy(), pred[1].detach().cpu().numpy(), pred[2].detach().cpu().numpy())"
   ],
   "metadata": {
    "collapsed": false,
    "ExecuteTime": {
     "end_time": "2024-07-01T15:47:21.657844Z",
     "start_time": "2024-07-01T15:47:09.044091Z"
    }
   },
   "id": "a3c97bf99f7e7a1d",
   "execution_count": 27
  },
  {
   "cell_type": "code",
   "outputs": [],
   "source": [
    "torch_test_y_inverse = scaler_y.inverse_transform(sampled_test_y)"
   ],
   "metadata": {
    "collapsed": false,
    "ExecuteTime": {
     "end_time": "2024-07-01T15:47:43.722961Z",
     "start_time": "2024-07-01T15:47:43.713292Z"
    }
   },
   "id": "cd3c07a719ab09d7",
   "execution_count": 28
  },
  {
   "cell_type": "code",
   "outputs": [],
   "source": [
    "torch_col_dis = []\n",
    "for o in range(len(output_parameters)):\n",
    "    dis = 0\n",
    "    for i in range(0, torch_GMM_PDF.shape[-1], len(output_parameters)):\n",
    "        test_y_current = torch_test_y_inverse[int(i / len(output_parameters)), o]\n",
    "        GMM_cal = torch_GMM_PDF[:, o + i].reshape(-1, 1)\n",
    "        offset = np.sqrt((GMM_cal - test_y_current) ** 2)\n",
    "        dis += np.mean(offset)\n",
    "    torch_col_dis.append(dis / len(torch_test_y_inverse))"
   ],
   "metadata": {
    "collapsed": false,
    "ExecuteTime": {
     "end_time": "2024-07-01T15:48:47.882801Z",
     "start_time": "2024-07-01T15:48:46.519635Z"
    }
   },
   "id": "88089070449dec63",
   "execution_count": 32
  },
  {
   "cell_type": "code",
   "outputs": [
    {
     "data": {
      "text/plain": "[0.10460889902484155,\n 0.317102186614911,\n 0.5893799308047999,\n 0.09091835632806951,\n 0.49229983739943917,\n 529.6751894080876,\n 3203.117553491791,\n 0.6502587398106625]"
     },
     "execution_count": 33,
     "metadata": {},
     "output_type": "execute_result"
    }
   ],
   "source": [
    "torch_col_dis"
   ],
   "metadata": {
    "collapsed": false,
    "ExecuteTime": {
     "end_time": "2024-07-01T15:48:48.424084Z",
     "start_time": "2024-07-01T15:48:48.407417Z"
    }
   },
   "id": "1ca68f13f89845ec",
   "execution_count": 33
  },
  {
   "cell_type": "code",
   "outputs": [],
   "source": [],
   "metadata": {
    "collapsed": false
   },
   "id": "275a93594a0241fc"
  }
 ],
 "metadata": {
  "kernelspec": {
   "display_name": "Python 3",
   "language": "python",
   "name": "python3"
  },
  "language_info": {
   "codemirror_mode": {
    "name": "ipython",
    "version": 2
   },
   "file_extension": ".py",
   "mimetype": "text/x-python",
   "name": "python",
   "nbconvert_exporter": "python",
   "pygments_lexer": "ipython2",
   "version": "2.7.6"
  }
 },
 "nbformat": 4,
 "nbformat_minor": 5
}
