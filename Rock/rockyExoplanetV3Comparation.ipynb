{
 "cells": [
  {
   "cell_type": "code",
   "execution_count": 78,
   "id": "5858bb54",
   "metadata": {
    "collapsed": true,
    "ExecuteTime": {
     "end_time": "2024-07-03T09:08:41.835365Z",
     "start_time": "2024-07-03T09:08:41.828881Z"
    }
   },
   "outputs": [],
   "source": [
    "from tensorflow.keras.models import load_model  # For loading a saved model\n",
    "from matplotlib.ticker import AutoMinorLocator\n",
    "import mdn  # For Mixture Density Networks\n",
    "import joblib  # For serialization and deserialization of Python objects\n",
    "from sklearn.model_selection import train_test_split\n",
    "from sklearn.preprocessing import MinMaxScaler\n",
    "from tensorflow import keras\n",
    "from sklearn.metrics import r2_score\n",
    "from Rock.Model.EnsembleMDN import EnsembleMDN\n",
    "from tortreinador.utils.plot import calculate_GMM\n",
    "from tortreinador.utils.View import init_weights\n",
    "from tortreinador.models.MDN import Mixture, NLLLoss\n",
    "from tortreinador.utils.metrics import r2_score as r2\n",
    "import matplotlib.pyplot as plt\n",
    "import torch\n",
    "import torch.nn as nn\n",
    "import pandas as pd\n",
    "import numpy as np\n",
    "import math"
   ]
  },
  {
   "cell_type": "code",
   "execution_count": 3,
   "id": "9cd7ba62",
   "metadata": {
    "ExecuteTime": {
     "end_time": "2024-07-03T06:42:29.261150Z",
     "start_time": "2024-07-03T06:42:26.882803Z"
    }
   },
   "outputs": [],
   "source": [
    "df_chunk_0 = pd.read_parquet(\"D:\\\\Resource\\\\rockyExoplanetV3\\\\data_chunk_0.parquet\")\n",
    "df_chunk_1 = pd.read_parquet(\"D:\\\\Resource\\\\rockyExoplanetV3\\\\data_chunk_1.parquet\")\n",
    "\n",
    "df_all = pd.concat([df_chunk_0, df_chunk_1])"
   ]
  },
  {
   "cell_type": "code",
   "execution_count": 4,
   "id": "aa19f505",
   "metadata": {
    "ExecuteTime": {
     "end_time": "2024-07-03T06:42:29.275842Z",
     "start_time": "2024-07-03T06:42:29.262147Z"
    }
   },
   "outputs": [],
   "source": [
    "input_parameters = [\n",
    "    'Mass',\n",
    "    'Radius',\n",
    "    'FeMg',\n",
    "    'SiMg',\n",
    "    'Mass_Noise',\n",
    "    'Radius_Noise',\n",
    "    'FeMg_Noise',\n",
    "    'SiMg_Noise'\n",
    "]\n",
    "\n",
    "output_parameters = [\n",
    "    'WRF',\n",
    "    'MRF',\n",
    "    'CRF',\n",
    "    'WMF',\n",
    "    'CMF',\n",
    "    'CPS',\n",
    "    'CTP',\n",
    "    'k2'\n",
    "]"
   ]
  },
  {
   "cell_type": "code",
   "execution_count": 4,
   "id": "1f264754",
   "metadata": {
    "ExecuteTime": {
     "end_time": "2024-07-01T15:38:56.606998Z",
     "start_time": "2024-07-01T15:38:56.587130Z"
    }
   },
   "outputs": [],
   "source": [
    "scaler_x = MinMaxScaler()\n",
    "scaler_y = MinMaxScaler()"
   ]
  },
  {
   "cell_type": "code",
   "execution_count": 5,
   "id": "1547797a",
   "metadata": {
    "ExecuteTime": {
     "end_time": "2024-07-01T15:38:58.626333Z",
     "start_time": "2024-07-01T15:38:57.042713Z"
    }
   },
   "outputs": [],
   "source": [
    "X_train, X_test, y_train, y_test = train_test_split(scaler_x.fit_transform(df_all[input_parameters[:4]].to_numpy()), scaler_y.fit_transform(df_all[output_parameters].to_numpy()), test_size=0.1, random_state=125)"
   ]
  },
  {
   "cell_type": "code",
   "execution_count": 11,
   "id": "056a4fed",
   "metadata": {
    "ExecuteTime": {
     "end_time": "2024-07-01T15:23:40.326951Z",
     "start_time": "2024-07-01T15:23:40.320966Z"
    }
   },
   "outputs": [],
   "source": [
    "OUTPUT_DIMS = len(output_parameters)\n",
    "N_MIXES = 20"
   ]
  },
  {
   "cell_type": "code",
   "execution_count": 10,
   "id": "b01d6a4c",
   "metadata": {
    "ExecuteTime": {
     "end_time": "2024-07-01T15:22:51.778742Z",
     "start_time": "2024-07-01T15:22:47.620848Z"
    }
   },
   "outputs": [],
   "source": [
    "m_2 = keras.models.load_model('D:\\\\Resource\\\\MDN\\\\rockyExoplanetV3\\\\model.h5', custom_objects={'MDN': mdn.MDN, 'mdn_loss_func': mdn.get_mixture_loss_func(OUTPUT_DIMS, N_MIXES)})"
   ]
  },
  {
   "cell_type": "code",
   "execution_count": 17,
   "id": "3285fb9b",
   "metadata": {
    "ExecuteTime": {
     "end_time": "2024-07-01T15:28:09.394175Z",
     "start_time": "2024-07-01T15:28:09.379682Z"
    }
   },
   "outputs": [],
   "source": [
    "sample_rand_idx = np.random.randint(0, X_test.shape[0], size=20000)"
   ]
  },
  {
   "cell_type": "code",
   "execution_count": 18,
   "id": "6895a402",
   "metadata": {
    "ExecuteTime": {
     "end_time": "2024-07-01T15:28:53.412989Z",
     "start_time": "2024-07-01T15:28:53.396545Z"
    }
   },
   "outputs": [],
   "source": [
    "X_test_sampled = X_test[sample_rand_idx]\n",
    "y_test_sampled = y_test[sample_rand_idx]"
   ]
  },
  {
   "cell_type": "code",
   "execution_count": 19,
   "id": "5fb08bb7",
   "metadata": {
    "ExecuteTime": {
     "end_time": "2024-07-01T15:29:09.112663Z",
     "start_time": "2024-07-01T15:29:08.038012Z"
    }
   },
   "outputs": [
    {
     "name": "stdout",
     "output_type": "stream",
     "text": [
      "r2 score: 0.9395445156788287, MSE: 0.002544329734519124, NLLLoss: -13.209503173828125\n"
     ]
    }
   ],
   "source": [
    "mse_function = mdn.get_mixture_mse_accuracy(OUTPUT_DIMS, N_MIXES)\n",
    "c = mdn.get_mixture_loss_func(OUTPUT_DIMS, N_MIXES)\n",
    "sample_function = mdn.get_mixture_sampling_fun(OUTPUT_DIMS, N_MIXES)\n",
    "pred = m_2.predict(X_test_sampled)\n",
    "samples = sample_function(pred)\n",
    "print(\"r2 score: {}, MSE: {}, NLLLoss: {}\".format(r2_score(y_test_sampled, samples),\n",
    "                                                  np.mean(mse_function(y_test_sampled.astype('float32'), pred)),\n",
    "                                                  np.mean(c(y_test_sampled.astype('float32'), pred))))"
   ]
  },
  {
   "cell_type": "code",
   "execution_count": 20,
   "id": "8d7a5e3a",
   "metadata": {
    "ExecuteTime": {
     "end_time": "2024-07-01T15:29:14.109986Z",
     "start_time": "2024-07-01T15:29:13.905685Z"
    }
   },
   "outputs": [],
   "source": [
    "mus = np.apply_along_axis((lambda a: a[:N_MIXES * OUTPUT_DIMS]), 1, pred)\n",
    "sigs = np.apply_along_axis((lambda a: a[N_MIXES * OUTPUT_DIMS:2 * N_MIXES * OUTPUT_DIMS]), 1, pred)\n",
    "pis = np.apply_along_axis((lambda a: mdn.softmax(a[-N_MIXES:])), 1, pred)\n",
    "mus = mus.reshape(mus.shape[0], N_MIXES, int(mus.shape[1] / N_MIXES))\n",
    "sigs = sigs.reshape(sigs.shape[0], N_MIXES, int(sigs.shape[1] / N_MIXES))"
   ]
  },
  {
   "cell_type": "code",
   "execution_count": 21,
   "id": "8f790433",
   "metadata": {
    "ExecuteTime": {
     "end_time": "2024-07-01T15:30:04.332086Z",
     "start_time": "2024-07-01T15:29:53.451845Z"
    }
   },
   "outputs": [],
   "source": [
    "tf_GMM = calculate_GMM(pis, mus, sigs)"
   ]
  },
  {
   "cell_type": "code",
   "execution_count": 23,
   "id": "0043c616",
   "metadata": {
    "ExecuteTime": {
     "end_time": "2024-07-01T15:34:32.933135Z",
     "start_time": "2024-07-01T15:34:32.919471Z"
    }
   },
   "outputs": [],
   "source": [
    "tf_test_y_inverse = scaler_y.inverse_transform(y_test_sampled)"
   ]
  },
  {
   "cell_type": "code",
   "execution_count": 25,
   "id": "76d8e884",
   "metadata": {
    "ExecuteTime": {
     "end_time": "2024-07-01T15:34:53.998793Z",
     "start_time": "2024-07-01T15:34:52.726527Z"
    }
   },
   "outputs": [],
   "source": [
    "tf_col_dis = []\n",
    "for o in range(len(output_parameters)):\n",
    "    dis = 0\n",
    "    for i in range(0, tf_GMM.shape[-1], len(output_parameters)):\n",
    "        test_y_current = tf_test_y_inverse[int(i / len(output_parameters)), o]\n",
    "        GMM_cal = tf_GMM[:, o + i].reshape(-1, 1)\n",
    "        offset = np.sqrt((GMM_cal - test_y_current) ** 2)\n",
    "        dis += np.mean(offset)\n",
    "    tf_col_dis.append(dis / len(tf_test_y_inverse))"
   ]
  },
  {
   "cell_type": "code",
   "execution_count": 26,
   "id": "90da5eaa",
   "metadata": {
    "ExecuteTime": {
     "end_time": "2024-07-01T15:35:01.375875Z",
     "start_time": "2024-07-01T15:35:01.366630Z"
    }
   },
   "outputs": [
    {
     "data": {
      "text/plain": [
       "[0.12942624748606513,\n",
       " 0.31394649432756416,\n",
       " 0.5872808851584715,\n",
       " 0.12588102788453473,\n",
       " 0.49116098137752107,\n",
       " 531.4397889488772,\n",
       " 3199.016203612213,\n",
       " 0.6364761625623442]"
      ]
     },
     "execution_count": 26,
     "metadata": {},
     "output_type": "execute_result"
    }
   ],
   "source": [
    "tf_col_dis"
   ]
  },
  {
   "cell_type": "code",
   "execution_count": 7,
   "id": "6fb44e7d",
   "metadata": {
    "ExecuteTime": {
     "end_time": "2024-07-01T15:39:09.652534Z",
     "start_time": "2024-07-01T15:39:09.613055Z"
    }
   },
   "outputs": [],
   "source": [
    "t_x = np.load(\"D:\\\\Resource\\\\MDN\\\\rockyExoplanetV3\\\\NoiseADD\\\\testData\\\\test_x.npy\")\n",
    "t_y = np.load(\"D:\\\\Resource\\\\MDN\\\\rockyExoplanetV3\\\\NoiseADD\\\\testData\\\\test_y.npy\")\n",
    "m_y = joblib.load(\"D:\\\\Resource\\\\MDN\\\\rockyExoplanetV3\\\\NoiseADD\\\\testData\\\\MDN_v3_yscaler_20240630.save\")"
   ]
  },
  {
   "cell_type": "code",
   "execution_count": 6,
   "id": "312b1b4b",
   "metadata": {
    "ExecuteTime": {
     "end_time": "2024-07-03T06:43:20.939553Z",
     "start_time": "2024-07-03T06:43:12.712717Z"
    }
   },
   "outputs": [
    {
     "data": {
      "text/plain": "<All keys matched successfully>"
     },
     "execution_count": 6,
     "metadata": {},
     "output_type": "execute_result"
    }
   ],
   "source": [
    "model = EnsembleMDN(int(len(input_parameters) / 2), len(output_parameters), 10, 256, kernel_size=2)\n",
    "init_weights(model)\n",
    "model = nn.DataParallel(model)\n",
    "model.load_state_dict(torch.load(\"D:\\\\Resource\\\\MDN\\\\rockyExoplanetV3\\\\NoiseADD\\\\best_model.pth\"))"
   ]
  },
  {
   "cell_type": "code",
   "execution_count": 9,
   "id": "b1b358e5",
   "metadata": {
    "ExecuteTime": {
     "end_time": "2024-07-01T15:39:36.922227Z",
     "start_time": "2024-07-01T15:39:36.912213Z"
    }
   },
   "outputs": [],
   "source": [
    "rand_idx = torch.randint(0, t_x.shape[0], size=(20000,))\n",
    "sampled_test_x = t_x[rand_idx]\n",
    "sampled_test_y = t_y[rand_idx]\n",
    "t_x_o, t_x_n = np.array_split(sampled_test_x, 2, axis=1)"
   ]
  },
  {
   "cell_type": "code",
   "execution_count": 19,
   "id": "c8bc1fe9",
   "metadata": {
    "ExecuteTime": {
     "end_time": "2024-07-01T15:44:13.803992Z",
     "start_time": "2024-07-01T15:44:13.602950Z"
    }
   },
   "outputs": [],
   "source": [
    "model.eval()\n",
    "pred = model(torch.from_numpy(t_x_o), torch.from_numpy(t_x_n))"
   ]
  },
  {
   "cell_type": "code",
   "execution_count": 26,
   "id": "e525edc3",
   "metadata": {
    "ExecuteTime": {
     "end_time": "2024-07-01T15:46:36.568749Z",
     "start_time": "2024-07-01T15:46:36.384249Z"
    }
   },
   "outputs": [
    {
     "name": "stdout",
     "output_type": "stream",
     "text": [
      "NLLLoss: -44.20869823588779, MSE: 0.0012548256948102354, R2: 0.9608586190710933\n"
     ]
    }
   ],
   "source": [
    "mix = Mixture()\n",
    "criterion = NLLLoss()\n",
    "mse = nn.MSELoss()\n",
    "sample = mix(pred[0], pred[1], pred[2]).sample()\n",
    "print(\"NLLLoss: {}, MSE: {}, R2: {}\".format((criterion(pred[0], pred[1], pred[2], torch.from_numpy(sampled_test_y).to('cuda'))),\n",
    "                                            mse(torch.from_numpy(sampled_test_y).to('cuda'), sample),\n",
    "                                            r2(sample, torch.from_numpy(sampled_test_y).to('cuda'))))"
   ]
  },
  {
   "cell_type": "code",
   "execution_count": 27,
   "id": "b156d5de",
   "metadata": {
    "ExecuteTime": {
     "end_time": "2024-07-01T15:47:21.657844Z",
     "start_time": "2024-07-01T15:47:09.044091Z"
    }
   },
   "outputs": [],
   "source": [
    "torch_GMM_PDF = calculate_GMM(torch.exp(pred[0]).detach().cpu().numpy(), pred[1].detach().cpu().numpy(), pred[2].detach().cpu().numpy())"
   ]
  },
  {
   "cell_type": "code",
   "execution_count": 28,
   "id": "6879bdf6",
   "metadata": {
    "ExecuteTime": {
     "end_time": "2024-07-01T15:47:43.722961Z",
     "start_time": "2024-07-01T15:47:43.713292Z"
    }
   },
   "outputs": [],
   "source": [
    "torch_test_y_inverse = scaler_y.inverse_transform(sampled_test_y)"
   ]
  },
  {
   "cell_type": "code",
   "execution_count": 32,
   "id": "8f34fa06",
   "metadata": {
    "ExecuteTime": {
     "end_time": "2024-07-01T15:48:47.882801Z",
     "start_time": "2024-07-01T15:48:46.519635Z"
    }
   },
   "outputs": [],
   "source": [
    "torch_col_dis = []\n",
    "for o in range(len(output_parameters)):\n",
    "    dis = 0\n",
    "    for i in range(0, torch_GMM_PDF.shape[-1], len(output_parameters)):\n",
    "        test_y_current = torch_test_y_inverse[int(i / len(output_parameters)), o]\n",
    "        GMM_cal = torch_GMM_PDF[:, o + i].reshape(-1, 1)\n",
    "        offset = np.sqrt((GMM_cal - test_y_current) ** 2)\n",
    "        dis += np.mean(offset)\n",
    "    torch_col_dis.append(dis / len(torch_test_y_inverse))"
   ]
  },
  {
   "cell_type": "code",
   "execution_count": 33,
   "id": "c39b32c8",
   "metadata": {
    "ExecuteTime": {
     "end_time": "2024-07-01T15:48:48.424084Z",
     "start_time": "2024-07-01T15:48:48.407417Z"
    }
   },
   "outputs": [
    {
     "data": {
      "text/plain": [
       "[0.10460889902484155,\n",
       " 0.317102186614911,\n",
       " 0.5893799308047999,\n",
       " 0.09091835632806951,\n",
       " 0.49229983739943917,\n",
       " 529.6751894080876,\n",
       " 3203.117553491791,\n",
       " 0.6502587398106625]"
      ]
     },
     "execution_count": 33,
     "metadata": {},
     "output_type": "execute_result"
    }
   ],
   "source": [
    "torch_col_dis"
   ]
  },
  {
   "cell_type": "code",
   "execution_count": 97,
   "id": "b3b138fe",
   "metadata": {
    "ExecuteTime": {
     "end_time": "2024-07-03T09:20:51.282418Z",
     "start_time": "2024-07-03T09:20:50.727066Z"
    }
   },
   "outputs": [
    {
     "data": {
      "text/plain": "<Figure size 720x576 with 4 Axes>",
      "image/png": "[encoded data removed]"
     },
     "metadata": {},
     "output_type": "display_data"
    }
   ],
   "source": [
    "# Set the random seed for reproducibility\n",
    "np.random.seed(125)\n",
    "\n",
    "# Define the function to generate samples and plot histogram\n",
    "def generate_samples_and_plot(mean, err, title, ax):\n",
    "    \"\"\"\n",
    "    Generates Gaussian distributed samples around a mean with a given error,\n",
    "    and plots a histogram of the samples.\n",
    "    \n",
    "    Parameters:\n",
    "    - mean: The mean value for the Gaussian distribution.\n",
    "    - err: The standard deviation (error) for the Gaussian distribution.\n",
    "    - title: The title of the plot.\n",
    "    - ax: The matplotlib Axes object on which to plot.\n",
    "    \n",
    "    Returns:\n",
    "    - samples: The generated samples.\n",
    "    \"\"\"\n",
    "    samples = np.random.normal(loc=mean, scale=err, size=1000)\n",
    "    ax.hist(samples, bins=50, color='steelblue', edgecolor='black')\n",
    "    ax.set_title(title)\n",
    "    ax.set_xlabel('Value')\n",
    "    ax.set_ylabel('Frequency')\n",
    "    ax.axvline(mean, color='red', linestyle='dashed', linewidth=2)  # Mark the mean value\n",
    "    ax.fill_between([mean-err, mean+err], [0, 0], [100, 100], alpha=0.2, color='green')  # Highlight the error range\n",
    "    return samples\n",
    "\n",
    "# Create subplots for plotting histograms\n",
    "fig, axs = plt.subplots(nrows=2, ncols=2, figsize=(10, 8))\n",
    "\n",
    "# Generate and plot samples for various parameters\n",
    "mass_samples = generate_samples_and_plot(1.77, 0.25, 'Mass Histogram', axs[0, 0])\n",
    "radius_samples = generate_samples_and_plot(1.228, 0.019, 'Radius Histogram', axs[0, 1])\n",
    "femg_samples = generate_samples_and_plot(0.813, 0.248, 'Fe/Mg Histogram', axs[1, 0])\n",
    "simg_samples = generate_samples_and_plot(0.933, 0.281, 'Si/Mg Histogram', axs[1, 1])\n",
    "\n",
    "# Combine all samples into an input matrix X\n",
    "X = np.stack([mass_samples, radius_samples, femg_samples, simg_samples], axis=1)\n",
    "\n",
    "# Adjust the layout of the subplots\n",
    "plt.tight_layout()\n",
    "\n",
    "# Display the histograms\n",
    "plt.show()"
   ]
  },
  {
   "cell_type": "code",
   "outputs": [],
   "source": [
    "mass_samples_ori = np.random.normal(1.77, 0, size=1000)\n",
    "radius_samples_ori = np.random.normal(1.228, 0, size=1000)\n",
    "femg_samples_ori = np.random.normal(0.813, 0, size=1000)\n",
    "simg_samples_ori = np.random.normal(0.933, 0, size=1000)"
   ],
   "metadata": {
    "collapsed": false,
    "ExecuteTime": {
     "end_time": "2024-07-03T09:20:59.852646Z",
     "start_time": "2024-07-03T09:20:59.841505Z"
    }
   },
   "id": "efdd0dea67ff85c2",
   "execution_count": 98
  },
  {
   "cell_type": "code",
   "outputs": [],
   "source": [
    "X_ori = np.stack([mass_samples_ori, radius_samples_ori, femg_samples_ori, simg_samples_ori], axis=1)"
   ],
   "metadata": {
    "collapsed": false,
    "ExecuteTime": {
     "end_time": "2024-07-03T09:21:02.839347Z",
     "start_time": "2024-07-03T09:21:02.822031Z"
    }
   },
   "id": "c0b87b27ea10ca74",
   "execution_count": 99
  },
  {
   "cell_type": "code",
   "outputs": [],
   "source": [
    "def calculate_GMM(p, m, s, y_label):\n",
    "    \"\"\"\n",
    "    Calculate the probability density function of the Gaussian Mixture Model\n",
    "\n",
    "        Args:\n",
    "            - param p: pi\n",
    "            - param m: mean\n",
    "            - param s: standard deviation\n",
    "            - param y_label: e.g. np.arange(0, 1, 0.001)\n",
    "\n",
    "    \"\"\"\n",
    "    if len(y_label.shape) == 1:\n",
    "        y_label = y_label.reshape(-1, 1)\n",
    "        \n",
    "    y_label_ = y_label[:, np.newaxis, np.newaxis, :]\n",
    "\n",
    "    mu_sub_T = np.transpose(m, (0, 2, 1))\n",
    "    sigma_sub_T = np.transpose(s, (0, 2, 1))\n",
    "\n",
    "    # shape(1000, 6, 100, 10) 1000 data, 6 type, 100 rows with 10 columns every type\n",
    "    exponent = np.exp(\n",
    "        -1 / 2 * np.square(np.transpose((y_label_ - mu_sub_T), (1, 2, 0, 3)) / sigma_sub_T[:, :, np.newaxis, :]))\n",
    "    factors = 1 / math.sqrt(2 * math.pi) / sigma_sub_T[:, :, np.newaxis, :]\n",
    "    GMM_PDF = np.sum(p[:, np.newaxis, np.newaxis, :] * factors * exponent, axis=-1)\n",
    "    GMM_PDF = GMM_PDF.reshape(GMM_PDF.shape[0] * GMM_PDF.shape[1], GMM_PDF.shape[-1]).transpose((-1, 0))\n",
    "    # f = e.transpose((-1, 0))\n",
    "    return GMM_PDF"
   ],
   "metadata": {
    "collapsed": false,
    "ExecuteTime": {
     "end_time": "2024-07-03T08:30:34.496963Z",
     "start_time": "2024-07-03T08:30:34.477685Z"
    }
   },
   "id": "19f7821615e6ad73",
   "execution_count": 24
  },
  {
   "cell_type": "code",
   "outputs": [],
   "source": [
    "mix = Mixture()\n",
    "m_y = joblib.load(\"D:\\\\Resource\\\\MDN\\\\rockyExoplanetV3\\\\NoiseADD\\\\testData\\\\MDN_v3_yscaler_20240630.save\")\n",
    "m_x = joblib.load(\"D:\\\\Resource\\\\MDN\\\\rockyExoplanetV3\\\\NoiseADD\\\\testData\\\\MDN_v3_xscaler_20240630.save\")"
   ],
   "metadata": {
    "collapsed": false,
    "ExecuteTime": {
     "end_time": "2024-07-03T09:03:58.008498Z",
     "start_time": "2024-07-03T09:03:57.997378Z"
    }
   },
   "id": "98f135b31b10a74d",
   "execution_count": 70
  },
  {
   "cell_type": "code",
   "outputs": [],
   "source": [
    "X_com = np.concatenate((X, X_ori), axis=1)"
   ],
   "metadata": {
    "collapsed": false,
    "ExecuteTime": {
     "end_time": "2024-07-03T09:21:06.382417Z",
     "start_time": "2024-07-03T09:21:06.371525Z"
    }
   },
   "id": "6dce6163e8b55651",
   "execution_count": 100
  },
  {
   "cell_type": "code",
   "outputs": [
    {
     "name": "stderr",
     "output_type": "stream",
     "text": [
      "E:\\anaconda\\envs\\deeplearning\\lib\\site-packages\\sklearn\\base.py:451: UserWarning: X does not have valid feature names, but MinMaxScaler was fitted with feature names\n",
      "  \"X does not have valid feature names, but\"\n"
     ]
    }
   ],
   "source": [
    "X_scaled = m_x.transform(X_com)"
   ],
   "metadata": {
    "collapsed": false,
    "ExecuteTime": {
     "end_time": "2024-07-03T09:21:07.457798Z",
     "start_time": "2024-07-03T09:21:07.441726Z"
    }
   },
   "id": "af8c8c236883d79f",
   "execution_count": 101
  },
  {
   "cell_type": "code",
   "outputs": [],
   "source": [
    "tensor_x = torch.from_numpy(X_scaled)\n",
    "x_o, x_n = tensor_x.chunk(2, dim=1)"
   ],
   "metadata": {
    "collapsed": false,
    "ExecuteTime": {
     "end_time": "2024-07-03T09:21:09.154724Z",
     "start_time": "2024-07-03T09:21:09.147506Z"
    }
   },
   "id": "66607c42decb2b84",
   "execution_count": 102
  },
  {
   "cell_type": "code",
   "outputs": [],
   "source": [
    "pred = model(x_o, x_n)"
   ],
   "metadata": {
    "collapsed": false,
    "ExecuteTime": {
     "end_time": "2024-07-03T09:21:11.184665Z",
     "start_time": "2024-07-03T09:21:11.167619Z"
    }
   },
   "id": "45010524b116dfc",
   "execution_count": 103
  },
  {
   "cell_type": "code",
   "outputs": [],
   "source": [
    "y_l = np.arange(0, 1, 0.001).reshape(-1, 1)"
   ],
   "metadata": {
    "collapsed": false,
    "ExecuteTime": {
     "end_time": "2024-07-03T08:56:01.224449Z",
     "start_time": "2024-07-03T08:56:01.208043Z"
    }
   },
   "id": "46f65bfd3c800b41",
   "execution_count": 50
  },
  {
   "cell_type": "code",
   "outputs": [],
   "source": [
    "sample = mix(pred[0], pred[1], pred[2]).sample()\n",
    "sample_inverse = m_y.inverse_transform(sample.cpu().numpy())"
   ],
   "metadata": {
    "collapsed": false,
    "ExecuteTime": {
     "end_time": "2024-07-03T09:21:12.733432Z",
     "start_time": "2024-07-03T09:21:12.725184Z"
    }
   },
   "id": "7babf4c53969de8",
   "execution_count": 104
  },
  {
   "cell_type": "code",
   "outputs": [],
   "source": [
    "mcmc_result = pd.read_csv(\"D:\\\\Resource\\\\rockyExoplanetV3\\\\Kepler78b_feo.csv\")\n",
    "mcmc_result[\"MRF\"] = 1 - mcmc_result[\"WRF\"] - mcmc_result[\"CRF\"]"
   ],
   "metadata": {
    "collapsed": false,
    "ExecuteTime": {
     "end_time": "2024-07-03T08:46:37.294725Z",
     "start_time": "2024-07-03T08:46:37.015603Z"
    }
   },
   "id": "872176f1e5fdd081",
   "execution_count": 35
  },
  {
   "cell_type": "code",
   "outputs": [
    {
     "data": {
      "text/plain": "<Figure size 1152x576 with 8 Axes>",
      "image/png": "[encoded data removed]"
     },
     "metadata": {},
     "output_type": "display_data"
    }
   ],
   "source": [
    "x_labels = ['Water Radial Fraction', 'Mantle Radial Fraction', 'Core Radial Fraction', \n",
    "            'Water Mass Fraction', 'Core Mass Fraction', 'CMB Pressure (TPa)', \n",
    "            'CMB Temperature (10^3K)', 'Love number k2']\n",
    "x_max = [0.15, 1, 1, 0.1, 1, 2500, 6000, 1.5]\n",
    "x_locator = [0.05, 0.2, 0.2, 0.02, 0.2, 500, 2000, 0.5]\n",
    "colors = [\"steelblue\"] * len(output_parameters)\n",
    "\n",
    "fig, axs = plt.subplots(2, 4, figsize=(16, 8))\n",
    "axs = axs.flatten()\n",
    "for i, param in enumerate(output_parameters):\n",
    "    ax = axs[i]\n",
    "    # plot MCMC results\n",
    "    x = mcmc_result[param]\n",
    "    ax.hist(x, density=True, bins=15, histtype='step', color='#4682b4', linewidth=2, label='MCMC inference')\n",
    "    median = np.median(x)\n",
    "    ax.axvline(median, color='#4682b4', linestyle='--', lw=2)\n",
    "    \n",
    "    # plot MDN results\n",
    "    params_x = sample_inverse[:,i]\n",
    "    counts, bins, _ = ax.hist(params_x, density=True, bins=15, histtype='step', color='red', linewidth=2, label='MDN inference')\n",
    "    median = np.median(params_x)\n",
    "    ax.axvline(median, color='r', linestyle='--', lw=2)\n",
    "    \n",
    "    # Set x-axis label from the provided list\n",
    "    ax.set_xlabel(x_labels[i])\n",
    "\n",
    "    ax.set_xlim(0, x_max[i])\n",
    "    ax.set_yticks([])\n",
    "    ax.xaxis.set_major_locator(plt.MultipleLocator(x_locator[i]))\n",
    "    ax.xaxis.set_minor_locator(AutoMinorLocator())\n",
    "\n",
    "    # Add legend to the first subplot\n",
    "    if i == 0:\n",
    "        ax.legend()\n",
    "\n",
    "# Adjust the layout\n",
    "plt.tight_layout()\n",
    "\n",
    "# Display the plot\n",
    "plt.show()"
   ],
   "metadata": {
    "collapsed": false,
    "ExecuteTime": {
     "end_time": "2024-07-03T09:21:15.364345Z",
     "start_time": "2024-07-03T09:21:14.346513Z"
    }
   },
   "id": "56523af4a25e4fb9",
   "execution_count": 105
  },
  {
   "cell_type": "code",
   "outputs": [],
   "source": [],
   "metadata": {
    "collapsed": false
   },
   "id": "43889b727c7f2900"
  }
 ],
 "metadata": {
  "kernelspec": {
   "display_name": "Python 3 (ipykernel)",
   "language": "python",
   "name": "python3"
  },
  "language_info": {
   "codemirror_mode": {
    "name": "ipython",
    "version": 3
   },
   "file_extension": ".py",
   "mimetype": "text/x-python",
   "name": "python",
   "nbconvert_exporter": "python",
   "pygments_lexer": "ipython3",
   "version": "3.7.1"
  }
 },
 "nbformat": 4,
 "nbformat_minor": 5
}
