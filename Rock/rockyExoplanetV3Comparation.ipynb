{
 "cells": [
  {
   "cell_type": "code",
   "execution_count": 1,
   "id": "68b29e20",
   "metadata": {
    "ExecuteTime": {
     "end_time": "2024-07-09T13:17:28.788720Z",
     "start_time": "2024-07-09T13:16:19.973680Z"
    }
   },
   "outputs": [],
   "source": [
    "import sys\n",
    "sys.path.append(\"D:\\PythonProject\\RebuildProject\")\n",
    "from tensorflow.keras.models import load_model  # For loading a saved model\n",
    "from matplotlib.ticker import AutoMinorLocator\n",
    "import mdn  # For Mixture Density Networks\n",
    "import joblib  # For serialization and deserialization of Python objects\n",
    "from sklearn.model_selection import train_test_split\n",
    "from sklearn.preprocessing import MinMaxScaler\n",
    "from tensorflow import keras\n",
    "from sklearn.metrics import r2_score\n",
    "from Rock.Model.EnsembleMDN import EnsembleMDN\n",
    "# from tortreinador.utils.plot import calculate_GMM\n",
    "from tortreinador.utils.View import init_weights\n",
    "from tortreinador.models.MDN import Mixture, NLLLoss\n",
    "from tortreinador.utils.metrics import r2_score as r2\n",
    "import matplotlib.pyplot as plt\n",
    "import torch\n",
    "import torch.nn as nn\n",
    "import pandas as pd\n",
    "import numpy as np\n",
    "import math"
   ]
  },
  {
   "cell_type": "code",
   "execution_count": 5,
   "id": "aedaf2ef",
   "metadata": {
    "ExecuteTime": {
     "end_time": "2024-07-06T07:02:14.854441Z",
     "start_time": "2024-07-06T07:02:12.271981Z"
    }
   },
   "outputs": [],
   "source": [
    "df_chunk_0 = pd.read_parquet(\"D:\\\\Resource\\\\rockyExoplanetV3\\\\data_chunk_0.parquet\")\n",
    "df_chunk_1 = pd.read_parquet(\"D:\\\\Resource\\\\rockyExoplanetV3\\\\data_chunk_1.parquet\")\n",
    "\n",
    "df_all = pd.concat([df_chunk_0, df_chunk_1])"
   ]
  },
  {
   "cell_type": "code",
   "execution_count": 2,
   "id": "395d9cc4",
   "metadata": {
    "ExecuteTime": {
     "end_time": "2024-07-09T13:17:28.803530Z",
     "start_time": "2024-07-09T13:17:28.789717Z"
    }
   },
   "outputs": [],
   "source": [
    "input_parameters = [\n",
    "    'Mass',\n",
    "    'Radius',\n",
    "    'FeMg',\n",
    "    'SiMg',\n",
    "    'Mass_Noise',\n",
    "    'Radius_Noise',\n",
    "    'FeMg_Noise',\n",
    "    'SiMg_Noise'\n",
    "]\n",
    "\n",
    "output_parameters = [\n",
    "    'WRF',\n",
    "    'MRF',\n",
    "    'CRF',\n",
    "    'WMF',\n",
    "    'CMF',\n",
    "    'CPS',\n",
    "    'CTP',\n",
    "    'k2'\n",
    "]"
   ]
  },
  {
   "cell_type": "code",
   "execution_count": 3,
   "id": "4d21413a",
   "metadata": {
    "ExecuteTime": {
     "end_time": "2024-07-06T07:01:22.103351Z",
     "start_time": "2024-07-06T07:01:22.088401Z"
    }
   },
   "outputs": [],
   "source": [
    "scaler_x = MinMaxScaler()\n",
    "scaler_y = MinMaxScaler()"
   ]
  },
  {
   "cell_type": "code",
   "execution_count": 6,
   "id": "04dd8df5",
   "metadata": {
    "ExecuteTime": {
     "end_time": "2024-07-06T07:02:17.693270Z",
     "start_time": "2024-07-06T07:02:16.167425Z"
    }
   },
   "outputs": [],
   "source": [
    "X_train, X_test, y_train, y_test = train_test_split(scaler_x.fit_transform(df_all[input_parameters[:4]].to_numpy()), scaler_y.fit_transform(df_all[output_parameters].to_numpy()), test_size=0.1, random_state=9887)"
   ]
  },
  {
   "cell_type": "code",
   "execution_count": 8,
   "id": "c67d20cb",
   "metadata": {},
   "outputs": [],
   "source": [
    "_, X_test_pre, _, y_test_pre = train_test_split(X_test, y_test, test_size=0.2, random_state=9887)"
   ]
  },
  {
   "cell_type": "code",
   "execution_count": 3,
   "id": "d1bf82e1",
   "metadata": {
    "ExecuteTime": {
     "end_time": "2024-07-09T13:17:28.819478Z",
     "start_time": "2024-07-09T13:17:28.804527Z"
    }
   },
   "outputs": [],
   "source": [
    "OUTPUT_DIMS = len(output_parameters)\n",
    "N_MIXES = 20"
   ]
  },
  {
   "cell_type": "code",
   "execution_count": 9,
   "id": "92743ac0",
   "metadata": {
    "ExecuteTime": {
     "end_time": "2024-07-06T07:02:28.166147Z",
     "start_time": "2024-07-06T07:02:22.521848Z"
    }
   },
   "outputs": [],
   "source": [
    "m_2 = keras.models.load_model('D:\\\\Resource\\\\MDN\\\\rockyExoplanetV3\\\\model.h5', custom_objects={'MDN': mdn.MDN, 'mdn_loss_func': mdn.get_mixture_loss_func(OUTPUT_DIMS, N_MIXES)})"
   ]
  },
  {
   "cell_type": "code",
   "execution_count": 17,
   "id": "933c47bb",
   "metadata": {
    "ExecuteTime": {
     "end_time": "2024-07-01T15:28:09.394175Z",
     "start_time": "2024-07-01T15:28:09.379682Z"
    }
   },
   "outputs": [],
   "source": [
    "sample_rand_idx = np.random.randint(0, X_test.shape[0], size=20000)"
   ]
  },
  {
   "cell_type": "code",
   "execution_count": 18,
   "id": "028c7d6c",
   "metadata": {
    "ExecuteTime": {
     "end_time": "2024-07-01T15:28:53.412989Z",
     "start_time": "2024-07-01T15:28:53.396545Z"
    }
   },
   "outputs": [],
   "source": [
    "X_test_sampled = X_test[sample_rand_idx]\n",
    "y_test_sampled = y_test[sample_rand_idx]"
   ]
  },
  {
   "cell_type": "code",
   "execution_count": 12,
   "id": "d1223fad",
   "metadata": {
    "ExecuteTime": {
     "end_time": "2024-07-01T15:29:09.112663Z",
     "start_time": "2024-07-01T15:29:08.038012Z"
    }
   },
   "outputs": [
    {
     "name": "stdout",
     "output_type": "stream",
     "text": [
      "r2 score: 0.9390722848351685, MSE: 0.0024862459395080805, NLLLoss: -13.057703971862793\n"
     ]
    }
   ],
   "source": [
    "mse_function = mdn.get_mixture_mse_accuracy(OUTPUT_DIMS, N_MIXES)\n",
    "c = mdn.get_mixture_loss_func(OUTPUT_DIMS, N_MIXES)\n",
    "sample_function = mdn.get_mixture_sampling_fun(OUTPUT_DIMS, N_MIXES)\n",
    "pred = m_2.predict(X_test_pre)\n",
    "samples = sample_function(pred)\n",
    "print(\"r2 score: {}, MSE: {}, NLLLoss: {}\".format(r2_score(y_test_pre, samples),\n",
    "                                                  np.mean(mse_function(y_test_pre.astype('float32'), pred)),\n",
    "                                                  np.mean(c(y_test_pre.astype('float32'), pred))))"
   ]
  },
  {
   "cell_type": "code",
   "execution_count": 20,
   "id": "13844081",
   "metadata": {
    "ExecuteTime": {
     "end_time": "2024-07-06T10:20:02.495047Z",
     "start_time": "2024-07-06T10:20:02.482218Z"
    }
   },
   "outputs": [],
   "source": [
    "mus = np.apply_along_axis((lambda a: a[:N_MIXES * OUTPUT_DIMS]), 1, pred)\n",
    "sigs = np.apply_along_axis((lambda a: a[N_MIXES * OUTPUT_DIMS:2 * N_MIXES * OUTPUT_DIMS]), 1, pred)\n",
    "pis = np.apply_along_axis((lambda a: mdn.softmax(a[-N_MIXES:])), 1, pred)\n",
    "mus = mus.reshape(mus.shape[0], N_MIXES, int(mus.shape[1] / N_MIXES))\n",
    "sigs = sigs.reshape(sigs.shape[0], N_MIXES, int(sigs.shape[1] / N_MIXES))"
   ]
  },
  {
   "cell_type": "code",
   "execution_count": 21,
   "id": "91df7560",
   "metadata": {
    "ExecuteTime": {
     "end_time": "2024-07-06T10:20:03.325483Z",
     "start_time": "2024-07-06T10:20:03.310468Z"
    }
   },
   "outputs": [],
   "source": [
    "tf_GMM = calculate_GMM(pis, mus, sigs)"
   ]
  },
  {
   "cell_type": "code",
   "execution_count": 19,
   "id": "e0a1a7a6",
   "metadata": {},
   "outputs": [
    {
     "data": {
      "text/plain": [
       "70560"
      ]
     },
     "execution_count": 19,
     "metadata": {},
     "output_type": "execute_result"
    }
   ],
   "source": [
    "len(y_test_pre)"
   ]
  },
  {
   "cell_type": "code",
   "execution_count": 16,
   "id": "3c3f5014",
   "metadata": {
    "ExecuteTime": {
     "end_time": "2024-07-01T15:34:32.933135Z",
     "start_time": "2024-07-01T15:34:32.919471Z"
    }
   },
   "outputs": [],
   "source": [
    "tf_test_y_inverse = scaler_y.inverse_transform(y_test_pre)"
   ]
  },
  {
   "cell_type": "code",
   "execution_count": 17,
   "id": "6df746f9",
   "metadata": {
    "ExecuteTime": {
     "end_time": "2024-07-01T15:34:53.998793Z",
     "start_time": "2024-07-01T15:34:52.726527Z"
    }
   },
   "outputs": [],
   "source": [
    "tf_col_dis = []\n",
    "for o in range(len(output_parameters)):\n",
    "    dis = 0\n",
    "    for i in range(0, tf_GMM.shape[-1], len(output_parameters)):\n",
    "        test_y_current = tf_test_y_inverse[int(i / len(output_parameters)), o]\n",
    "        GMM_cal = tf_GMM[:, o + i].reshape(-1, 1)\n",
    "        offset = np.sqrt((GMM_cal - test_y_current) ** 2)\n",
    "        dis += np.mean(offset)\n",
    "    tf_col_dis.append(dis / len(tf_test_y_inverse))"
   ]
  },
  {
   "cell_type": "code",
   "execution_count": 18,
   "id": "b5a3c900",
   "metadata": {
    "ExecuteTime": {
     "end_time": "2024-07-01T15:35:01.375875Z",
     "start_time": "2024-07-01T15:35:01.366630Z"
    }
   },
   "outputs": [
    {
     "data": {
      "text/plain": [
       "[0.12841172626788616,\n",
       " 0.31344589433927955,\n",
       " 0.5882560927303219,\n",
       " 0.12460618537584418,\n",
       " 0.49255198873747086,\n",
       " 527.2070480216809,\n",
       " 3198.7033150023585,\n",
       " 0.6368219277019227]"
      ]
     },
     "execution_count": 18,
     "metadata": {},
     "output_type": "execute_result"
    }
   ],
   "source": [
    "tf_col_dis"
   ]
  },
  {
   "cell_type": "code",
   "execution_count": 3,
   "id": "a155710d",
   "metadata": {
    "ExecuteTime": {
     "end_time": "2024-07-05T06:51:17.831116Z",
     "start_time": "2024-07-05T06:51:17.304861Z"
    }
   },
   "outputs": [],
   "source": [
    "t_x = np.load(\"D:\\\\Resource\\\\MDN\\\\rockyExoplanetV3\\\\NoiseADD\\\\testData\\\\test_x.npy\")\n",
    "t_y = np.load(\"D:\\\\Resource\\\\MDN\\\\rockyExoplanetV3\\\\NoiseADD\\\\testData\\\\test_y.npy\")\n",
    "m_y = joblib.load(\"D:\\\\Resource\\\\MDN\\\\rockyExoplanetV3\\\\NoiseADD\\\\testData\\\\MDN_v3_yscaler_20240630.save\")"
   ]
  },
  {
   "cell_type": "code",
   "execution_count": 49,
   "id": "873d7ae1",
   "metadata": {
    "ExecuteTime": {
     "end_time": "2024-07-09T17:17:46.316886Z",
     "start_time": "2024-07-09T17:17:46.088829Z"
    }
   },
   "outputs": [
    {
     "data": {
      "text/plain": "<All keys matched successfully>"
     },
     "execution_count": 49,
     "metadata": {},
     "output_type": "execute_result"
    }
   ],
   "source": [
    "model = EnsembleMDN(int(len(input_parameters) / 2), len(output_parameters), 10, 256, kernel_size=2)\n",
    "init_weights(model)\n",
    "model = nn.DataParallel(model)\n",
    "model.load_state_dict(torch.load(\"D:\\\\Resource\\\\MDN\\\\rockyExoplanetV3\\\\NoiseADD\\\\best_model.pth\"))"
   ]
  },
  {
   "cell_type": "code",
   "execution_count": 6,
   "id": "3eb9f1aa",
   "metadata": {
    "ExecuteTime": {
     "end_time": "2024-07-01T15:39:36.922227Z",
     "start_time": "2024-07-01T15:39:36.912213Z"
    }
   },
   "outputs": [],
   "source": [
    "rand_idx = torch.randint(0, t_x.shape[0], size=(70560,))\n",
    "sampled_test_x = t_x[rand_idx]\n",
    "sampled_test_y = t_y[rand_idx]\n",
    "t_x_o, t_x_n = np.array_split(sampled_test_x, 2, axis=1)"
   ]
  },
  {
   "cell_type": "code",
   "execution_count": 7,
   "id": "bf2215b4",
   "metadata": {
    "ExecuteTime": {
     "end_time": "2024-07-01T15:44:13.803992Z",
     "start_time": "2024-07-01T15:44:13.602950Z"
    }
   },
   "outputs": [],
   "source": [
    "model.eval()\n",
    "pred = model(torch.from_numpy(t_x_o), torch.from_numpy(t_x_n))"
   ]
  },
  {
   "cell_type": "code",
   "execution_count": 8,
   "id": "4f1f0aee",
   "metadata": {
    "ExecuteTime": {
     "end_time": "2024-07-01T15:46:36.568749Z",
     "start_time": "2024-07-01T15:46:36.384249Z"
    }
   },
   "outputs": [
    {
     "name": "stdout",
     "output_type": "stream",
     "text": [
      "NLLLoss: -41.0252186617822, MSE: 0.0011328561347307602, R2: 0.9630526833377644\n"
     ]
    }
   ],
   "source": [
    "mix = Mixture()\n",
    "criterion = NLLLoss()\n",
    "mse = nn.MSELoss()\n",
    "sample = mix(pred[0], pred[1], pred[2]).sample()\n",
    "print(\"NLLLoss: {}, MSE: {}, R2: {}\".format((criterion(pred[0], pred[1], pred[2], torch.from_numpy(sampled_test_y).to('cuda'))),\n",
    "                                            mse(torch.from_numpy(sampled_test_y).to('cuda'), sample),\n",
    "                                            r2(sample, torch.from_numpy(sampled_test_y).to('cuda'))))"
   ]
  },
  {
   "cell_type": "code",
   "execution_count": 9,
   "id": "a492f9d8",
   "metadata": {
    "ExecuteTime": {
     "end_time": "2024-07-01T15:47:21.657844Z",
     "start_time": "2024-07-01T15:47:09.044091Z"
    }
   },
   "outputs": [],
   "source": [
    "torch_GMM_PDF = calculate_GMM(torch.exp(pred[0]).detach().cpu().numpy(), pred[1].detach().cpu().numpy(), pred[2].detach().cpu().numpy())"
   ]
  },
  {
   "cell_type": "code",
   "execution_count": 11,
   "id": "26c3b6cc",
   "metadata": {
    "ExecuteTime": {
     "end_time": "2024-07-01T15:47:43.722961Z",
     "start_time": "2024-07-01T15:47:43.713292Z"
    }
   },
   "outputs": [],
   "source": [
    "torch_test_y_inverse = m_y.inverse_transform(sampled_test_y)"
   ]
  },
  {
   "cell_type": "code",
   "execution_count": 12,
   "id": "e15ee502",
   "metadata": {
    "ExecuteTime": {
     "end_time": "2024-07-01T15:48:47.882801Z",
     "start_time": "2024-07-01T15:48:46.519635Z"
    }
   },
   "outputs": [],
   "source": [
    "torch_col_dis = []\n",
    "for o in range(len(output_parameters)):\n",
    "    dis = 0\n",
    "    for i in range(0, torch_GMM_PDF.shape[-1], len(output_parameters)):\n",
    "        test_y_current = torch_test_y_inverse[int(i / len(output_parameters)), o]\n",
    "        GMM_cal = torch_GMM_PDF[:, o + i].reshape(-1, 1)\n",
    "        offset = np.sqrt((GMM_cal - test_y_current) ** 2)\n",
    "        dis += np.mean(offset)\n",
    "    torch_col_dis.append(dis / len(torch_test_y_inverse))"
   ]
  },
  {
   "cell_type": "code",
   "execution_count": 13,
   "id": "fc9978dc",
   "metadata": {
    "ExecuteTime": {
     "end_time": "2024-07-01T15:48:48.424084Z",
     "start_time": "2024-07-01T15:48:48.407417Z"
    }
   },
   "outputs": [
    {
     "data": {
      "text/plain": [
       "[0.1009618267278057,\n",
       " 0.3151337696364372,\n",
       " 0.5907286436619519,\n",
       " 0.08599745917122328,\n",
       " 0.4928586250780018,\n",
       " 527.4741109703947,\n",
       " 3197.136507810926,\n",
       " 0.653157348501983]"
      ]
     },
     "execution_count": 13,
     "metadata": {},
     "output_type": "execute_result"
    }
   ],
   "source": [
    "torch_col_dis"
   ]
  },
  {
   "cell_type": "code",
   "outputs": [],
   "source": [
    "# Set the random seed for reproducibility\n",
    "np.random.seed(125)\n",
    "\n",
    "# Define the function to generate samples and plot histogram\n",
    "def generate_samples_and_plot(mean, err, title, ax):\n",
    "    \"\"\"\n",
    "    Generates Gaussian distributed samples around a mean with a given error,\n",
    "    and plots a histogram of the samples.\n",
    "    \n",
    "    Parameters:\n",
    "    - mean: The mean value for the Gaussian distribution.\n",
    "    - err: The standard deviation (error) for the Gaussian distribution.\n",
    "    - title: The title of the plot.\n",
    "    - ax: The matplotlib Axes object on which to plot.\n",
    "    \n",
    "    Returns:\n",
    "    - samples: The generated samples.\n",
    "    \"\"\"\n",
    "    samples = np.random.normal(loc=mean, scale=err, size=1000)\n",
    "    ax.hist(samples, bins=50, color='steelblue', edgecolor='black')\n",
    "    ax.set_title(title)\n",
    "    ax.set_xlabel('Value')\n",
    "    ax.set_ylabel('Frequency')\n",
    "    ax.axvline(mean, color='red', linestyle='dashed', linewidth=2)  # Mark the mean value\n",
    "    ax.fill_between([mean-err, mean+err], [0, 0], [100, 100], alpha=0.2, color='green')  # Highlight the error range\n",
    "    return samples"
   ],
   "metadata": {
    "collapsed": false,
    "ExecuteTime": {
     "end_time": "2024-07-06T07:02:34.559534Z",
     "start_time": "2024-07-06T07:02:34.544585Z"
    }
   },
   "id": "19926ff2edf045ed",
   "execution_count": 10
  },
  {
   "cell_type": "code",
   "execution_count": 11,
   "id": "1fc4ffd2",
   "metadata": {
    "ExecuteTime": {
     "end_time": "2024-07-06T07:02:36.601920Z",
     "start_time": "2024-07-06T07:02:35.439592Z"
    }
   },
   "outputs": [
    {
     "data": {
      "text/plain": "<Figure size 720x576 with 4 Axes>",
      "image/png": "[encoded data removed]"
     },
     "metadata": {},
     "output_type": "display_data"
    }
   ],
   "source": [
    "# Create subplots for plotting histograms\n",
    "fig, axs = plt.subplots(nrows=2, ncols=2, figsize=(10, 8))\n",
    "\n",
    "# Generate and plot samples for various parameters\n",
    "mass_samples = generate_samples_and_plot(1.77, 0.25, 'Mass Histogram', axs[0, 0])\n",
    "radius_samples = generate_samples_and_plot(1.228, 0.019, 'Radius Histogram', axs[0, 1])\n",
    "femg_samples = generate_samples_and_plot(0.813, 0.248, 'Fe/Mg Histogram', axs[1, 0])\n",
    "simg_samples = generate_samples_and_plot(0.933, 0.281, 'Si/Mg Histogram', axs[1, 1])\n",
    "\n",
    "# Combine all samples into an input matrix X\n",
    "X = np.stack([mass_samples, radius_samples, femg_samples, simg_samples], axis=1)\n",
    "\n",
    "# Adjust the layout of the subplots\n",
    "plt.tight_layout()\n",
    "\n",
    "# Display the histograms\n",
    "plt.show()"
   ]
  },
  {
   "cell_type": "code",
   "outputs": [],
   "source": [
    "# Define the density storage structure for the outputs\n",
    "density_x = {param: [] for param in output_parameters}\n",
    "density_y = {param: [] for param in output_parameters}\n",
    "\n",
    "# Gaussian Sampling\n",
    "for input_array in X:\n",
    "    # Transform input for the model prediction\n",
    "    scaled_input = scaler_x.transform([input_array])\n",
    "    pred = m_2.predict(scaled_input)\n",
    "    \n",
    "    # Extract the Gaussian mixture parameters\n",
    "    mus = pred[:, :N_MIXES*OUTPUT_DIMS]\n",
    "    sigs = pred[:, N_MIXES*OUTPUT_DIMS:2*N_MIXES*OUTPUT_DIMS]\n",
    "    pis = mdn.softmax(pred[:, -N_MIXES:])\n",
    "    \n",
    "    # Prepare for the sampling\n",
    "    y_label = np.arange(0, 1, 0.001).reshape(-1, 1)\n",
    "    \n",
    "    # Calculate the Gaussian Mixture Model PDF and sample from it\n",
    "    for i, output_param in enumerate(output_parameters):\n",
    "        mus_ = mus[0, i::OUTPUT_DIMS]\n",
    "        sigs_ = sigs[0, i::OUTPUT_DIMS]\n",
    "        factors = 1 / math.sqrt(2 * math.pi) / sigs_\n",
    "        exponent = np.exp(-0.5 * ((y_label - mus_) / sigs_)**2)\n",
    "        GMM_PDF = np.sum(pis[0] * factors * exponent, axis=1)\n",
    "        \n",
    "        # Handling edge cases where the GMM PDF is zero to avoid division by zero\n",
    "        pdf_nonzero = np.count_nonzero(GMM_PDF)\n",
    "        if GMM_PDF.sum() ==0:\n",
    "            index = np.random.choice(y_label[:,0], size=20, replace=True)\n",
    "        else:\n",
    "            size = min(20, pdf_nonzero)  # 确保采样大小不超过非零元素数量\n",
    "            index = np.random.choice(y_label[:,0], size=size, replace=False, p=GMM_PDF/GMM_PDF.sum())\n",
    "        bins = np.concatenate(([y_label[0, 0]], y_label[:, 0]))\n",
    "        indices = np.searchsorted(bins, index) - 1\n",
    "        density_x[output_param]=np.concatenate([density_x[output_param],y_label[:,0][indices]])\n",
    "        density_y[output_param]=np.concatenate([density_y[output_param],GMM_PDF[indices]])"
   ],
   "metadata": {
    "collapsed": false,
    "ExecuteTime": {
     "end_time": "2024-07-06T07:03:27.623547Z",
     "start_time": "2024-07-06T07:02:46.859472Z"
    }
   },
   "id": "943e06723b4ed260",
   "execution_count": 13
  },
  {
   "cell_type": "code",
   "outputs": [],
   "source": [
    "mus = pred[:, :N_MIXES*OUTPUT_DIMS]\n",
    "sigs = pred[:, N_MIXES*OUTPUT_DIMS:2*N_MIXES*OUTPUT_DIMS]\n",
    "pis = mdn.softmax(pred[:, -N_MIXES:])"
   ],
   "metadata": {
    "collapsed": false,
    "ExecuteTime": {
     "end_time": "2024-07-06T10:24:29.626318Z",
     "start_time": "2024-07-06T10:24:29.613096Z"
    }
   },
   "id": "59a4e145dd50309c",
   "execution_count": 27
  },
  {
   "cell_type": "code",
   "outputs": [
    {
     "data": {
      "text/plain": "array([0.06344099, 0.04086499, 0.03743485, 0.04070851, 0.04586504,\n       0.0444488 , 0.06298548, 0.04730497, 0.04794168, 0.06583356,\n       0.03989641, 0.04699802, 0.06881526, 0.0515085 , 0.05020863,\n       0.04723894, 0.04087811, 0.05240232, 0.04305666, 0.06216835],\n      dtype=float32)"
     },
     "execution_count": 31,
     "metadata": {},
     "output_type": "execute_result"
    }
   ],
   "source": [
    "pis[0]"
   ],
   "metadata": {
    "collapsed": false,
    "ExecuteTime": {
     "end_time": "2024-07-06T10:26:42.782400Z",
     "start_time": "2024-07-06T10:26:42.764092Z"
    }
   },
   "id": "daf44688602fc5bf",
   "execution_count": 31
  },
  {
   "cell_type": "code",
   "outputs": [],
   "source": [
    "# Plot settings for MDN and MCMC results\n",
    "x_max = [0.15, 1, 1, 0.1, 1, 2500, 6000, 1.5]\n",
    "x_locator = [0.05, 0.2, 0.2, 0.02, 0.2, 500, 2000, 0.5]\n",
    "colors = [\"steelblue\"] * len(output_parameters)\n",
    "\n",
    "\n",
    "# Convert density dictionaries into DataFrames for easier manipulation\n",
    "df_density_x = pd.DataFrame(dict([(k, pd.Series(v)) for k, v in density_x.items()]))\n",
    "df_density_y = pd.DataFrame(dict([(k, pd.Series(v)) for k, v in density_y.items()]))\n",
    "\n",
    "\n",
    "# Ensure that the original_x DataFrame has the same index as df_density_y after dropping NaNs\n",
    "original_x = scaler_y.inverse_transform(df_density_x)\n",
    "\n",
    "df_k_samples = pd.DataFrame(original_x, columns=output_parameters)"
   ],
   "metadata": {
    "collapsed": false,
    "ExecuteTime": {
     "end_time": "2024-07-06T07:03:36.586880Z",
     "start_time": "2024-07-06T07:03:36.565950Z"
    }
   },
   "id": "375537c405a5a4ce",
   "execution_count": 14
  },
  {
   "cell_type": "code",
   "outputs": [],
   "source": [
    "df_k = pd.read_csv(\"D:\\\\Resource\\\\rockyExoplanetV3\\\\Kepler78b_feo.csv\")\n",
    "df_k[\"MRF\"] = 1 - df_k[\"WRF\"] - df_k[\"CRF\"]"
   ],
   "metadata": {
    "collapsed": false,
    "ExecuteTime": {
     "end_time": "2024-07-06T07:04:40.969533Z",
     "start_time": "2024-07-06T07:04:40.258683Z"
    }
   },
   "id": "fbecb6fb7678ce25",
   "execution_count": 16
  },
  {
   "cell_type": "code",
   "outputs": [
    {
     "data": {
      "text/plain": "<Figure size 1152x576 with 8 Axes>",
      "image/png": "[encoded data removed]"
     },
     "metadata": {},
     "output_type": "display_data"
    }
   ],
   "source": [
    "# Plotting comparison histograms for MCMC and MDN results\n",
    "# Assuming output_parameters, x_max, x_locator are defined as before\n",
    "# Assuming df_k is the DataFrame containing the MCMC results, loaded as before\n",
    "\n",
    "x_labels = ['Water Radial Fraction', 'Mantle Radial Fraction', 'Core Radial Fraction', \n",
    "            'Water Mass Fraction', 'Core Mass Fraction', 'CMB Pressure (TPa)', \n",
    "            'CMB Temperature (10^3K)', 'Love number k2']\n",
    "\n",
    "fig, axs = plt.subplots(2, 4, figsize=(16, 8))\n",
    "axs = axs.flatten()\n",
    "\n",
    "for i, param in enumerate(output_parameters):\n",
    "    ax = axs[i]\n",
    "    # plot MCMC results\n",
    "    x = df_k[param]\n",
    "    ax.hist(x, density=True, bins=15, histtype='step', color='#4682b4', linewidth=2, label='MCMC inference')\n",
    "    median = np.median(x)\n",
    "    ax.axvline(median, color='#4682b4', linestyle='--', lw=2)\n",
    "    \n",
    "    # plot MDN results\n",
    "    params_x = original_x[:,i]\n",
    "    counts, bins, _ = ax.hist(params_x, density=True, bins=15, histtype='step', color='red', linewidth=2, label='MDN inference')\n",
    "    median = np.median(params_x)\n",
    "    ax.axvline(median, color='r', linestyle='--', lw=2)\n",
    "\n",
    "    # Set x-axis label from the provided list\n",
    "    ax.set_xlabel(x_labels[i])\n",
    "\n",
    "    ax.set_xlim(0, x_max[i])\n",
    "    ax.set_yticks([])\n",
    "    ax.xaxis.set_major_locator(plt.MultipleLocator(x_locator[i]))\n",
    "    ax.xaxis.set_minor_locator(AutoMinorLocator())\n",
    "\n",
    "    # Add legend to the first subplot\n",
    "    if i == 0:\n",
    "        ax.legend()\n",
    "\n",
    "# Adjust the layout\n",
    "plt.tight_layout()\n",
    "\n",
    "# Display the plot\n",
    "plt.show()\n",
    "\n",
    "# Compare the MCMC and MDN results and calculate the errors\n",
    "df_k_p = df_k[output_parameters]\n",
    "q16 = df_k_p.quantile(0.16)\n",
    "q84 = df_k_p.quantile(0.84)\n",
    "\n",
    "# MDN statistics\n",
    "mdn_median = np.median(original_x, axis=0)\n",
    "mdn_lower_err = mdn_median - np.percentile(original_x, 16, axis=0)\n",
    "mdn_upper_err = np.percentile(original_x, 84, axis=0) - mdn_median\n",
    "\n",
    "# MCMC statistics\n",
    "mcmc_median = df_k_p.median()\n",
    "mcmc_lower_err = mcmc_median - q16\n",
    "mcmc_upper_err = q84 - mcmc_median\n",
    "\n",
    "# Store the results in a DataFrame\n",
    "results = {\n",
    "    \"Output Parameter\": output_parameters,\n",
    "    \"MCMC Median\": mcmc_median,\n",
    "    \"MDN Median\": mdn_median.tolist(),\n",
    "    \"MCMC Lower Error\": mcmc_lower_err,\n",
    "    \"MCMC Upper Error\": mcmc_upper_err,\n",
    "    \"MDN Lower Error\": mdn_lower_err,\n",
    "    \"MDN Upper Error\": mdn_upper_err\n",
    "}\n",
    "df_results = pd.DataFrame(results)"
   ],
   "metadata": {
    "collapsed": false,
    "ExecuteTime": {
     "end_time": "2024-07-06T07:05:09.532900Z",
     "start_time": "2024-07-06T07:05:08.151195Z"
    }
   },
   "id": "b90d829789dcb185",
   "execution_count": 17
  },
  {
   "cell_type": "code",
   "outputs": [
    {
     "name": "stderr",
     "output_type": "stream",
     "text": [
      "E:\\anaconda\\envs\\deeplearning\\lib\\site-packages\\sklearn\\base.py:338: UserWarning: Trying to unpickle estimator MinMaxScaler from version 0.24.0 when using version 1.0.2. This might lead to breaking code or invalid results. Use at your own risk. For more info please refer to:\n",
      "https://scikit-learn.org/stable/modules/model_persistence.html#security-maintainability-limitations\n",
      "  UserWarning,\n"
     ]
    }
   ],
   "source": [
    "# mix = Mixture()\n",
    "m_y = joblib.load(\"D:\\\\Resource\\\\MDN\\\\rockyExoplanetV3\\\\NoiseADD\\\\testData\\\\yscaler.save\")\n",
    "m_x = joblib.load(\"D:\\\\Resource\\\\MDN\\\\rockyExoplanetV3\\\\NoiseADD\\\\testData\\\\Xscaler.save\")"
   ],
   "metadata": {
    "collapsed": false,
    "ExecuteTime": {
     "end_time": "2024-07-09T13:18:58.023662Z",
     "start_time": "2024-07-09T13:18:57.917018Z"
    }
   },
   "id": "abb71a4275a5d80b",
   "execution_count": 11
  },
  {
   "cell_type": "code",
   "outputs": [],
   "source": [
    "pred = m_2.predict(scaler_x.transform(X))\n",
    "# sample_function = mdn.get_mixture_sampling_fun(OUTPUT_DIMS, N_MIXES)\n",
    "# samples = sample_function(pred)"
   ],
   "metadata": {
    "collapsed": false,
    "ExecuteTime": {
     "end_time": "2024-07-06T10:38:37.019473Z",
     "start_time": "2024-07-06T10:38:36.950643Z"
    }
   },
   "id": "f01d04d7f00cd8a",
   "execution_count": 43
  },
  {
   "cell_type": "code",
   "outputs": [],
   "source": [
    "mus = np.apply_along_axis((lambda a: a[:N_MIXES * OUTPUT_DIMS]), 1, pred)\n",
    "sigs = np.apply_along_axis((lambda a: a[N_MIXES * OUTPUT_DIMS:2 * N_MIXES * OUTPUT_DIMS]), 1, pred)\n",
    "pis = np.apply_along_axis((lambda a: mdn.softmax(a[-N_MIXES:])), 1, pred)\n",
    "mus = mus.reshape(mus.shape[0], N_MIXES, int(mus.shape[1] / N_MIXES))\n",
    "sigs = sigs.reshape(sigs.shape[0], N_MIXES, int(sigs.shape[1] / N_MIXES))"
   ],
   "metadata": {
    "collapsed": false,
    "ExecuteTime": {
     "end_time": "2024-07-05T17:54:05.432554Z",
     "start_time": "2024-07-05T17:54:05.417405Z"
    }
   },
   "id": "6799b4429e6c7611",
   "execution_count": 12
  },
  {
   "cell_type": "code",
   "outputs": [],
   "source": [
    "samples = mix(torch.from_numpy(pis), torch.from_numpy(mus), torch.from_numpy(sigs)).sample()"
   ],
   "metadata": {
    "collapsed": false,
    "ExecuteTime": {
     "end_time": "2024-07-05T17:55:06.552048Z",
     "start_time": "2024-07-05T17:55:06.514071Z"
    }
   },
   "id": "c34c6d3d202890e9",
   "execution_count": 14
  },
  {
   "cell_type": "code",
   "execution_count": 5,
   "id": "78cc9953",
   "metadata": {
    "ExecuteTime": {
     "end_time": "2024-07-09T13:17:42.979033Z",
     "start_time": "2024-07-09T13:17:42.967171Z"
    }
   },
   "outputs": [],
   "source": [
    "def calculate_GMM(p, m, s, y_label):\n",
    "    \"\"\"\n",
    "    Calculate the probability density function of the Gaussian Mixture Model\n",
    "\n",
    "        Args:\n",
    "            - param p: pi\n",
    "            - param m: mean\n",
    "            - param s: standard deviation\n",
    "            - param y_label: e.g. np.arange(0, 1, 0.001)\n",
    "\n",
    "    \"\"\"\n",
    "    if len(y_label.shape) == 1:\n",
    "        y_label = y_label.reshape(-1, 1)\n",
    "\n",
    "    y_label_ = y_label[:, np.newaxis, np.newaxis, :]\n",
    "\n",
    "    mu_sub_T = np.transpose(m, (0, 2, 1))\n",
    "    sigma_sub_T = np.transpose(s, (0, 2, 1))\n",
    "\n",
    "    exponent = np.exp(\n",
    "        -1 / 2 * np.square(np.transpose((y_label_ - mu_sub_T), (1, 2, 0, 3)) / sigma_sub_T[:, :, np.newaxis, :]))\n",
    "    factors = 1 / math.sqrt(2 * math.pi) / sigma_sub_T[:, :, np.newaxis, :]\n",
    "\n",
    "    # Shape (number of data, number of y_label, types) e.g.(1000, 10, 8)\n",
    "    GMM_PDF = np.sum(p[:, np.newaxis, np.newaxis, :] * factors * exponent, axis=-1).transpose((0, -1, 1))\n",
    "    # GMM_PDF = GMM_PDF.reshape(GMM_PDF.shape[0] * GMM_PDF.shape[1], GMM_PDF.shape[-1]).transpose((-1, 0))\n",
    "    # f = e.transpose((-1, 0))\n",
    "    return GMM_PDF"
   ]
  },
  {
   "cell_type": "code",
   "outputs": [],
   "source": [
    "def sampling_from_gmm_pdf(gmm, y_l_):\n",
    "    bins = np.concatenate(([y_l_[0, 0]], y_l_[:, 0]))\n",
    "    d_x = {param: [] for param in output_parameters}\n",
    "    # density_y = {param: [] for param in output_parameters}\n",
    "    # Loop start here\n",
    "    for out_param in range(len(output_parameters)):\n",
    "        GMM_PDF_Tor_sub = gmm[:, :, out_param]\n",
    "    \n",
    "        GMM_PDF_Tor_sub_sum = GMM_PDF_Tor_sub.sum(axis=1)[:, np.newaxis]\n",
    "    \n",
    "        prob = np.divide(GMM_PDF_Tor_sub, GMM_PDF_Tor_sub_sum)\n",
    "        non_zero = np.count_nonzero(GMM_PDF_Tor_sub, axis=1)\n",
    "    \n",
    "        cond = np.where(GMM_PDF_Tor_sub_sum == 0, True, False)\n",
    "        p = np.where(cond, 1 / len(y_l_), prob)\n",
    "        size_cond = np.where((non_zero < 20) & (non_zero > 0), non_zero, np.where(non_zero == 0, 20, 20))\n",
    "    \n",
    "        idx = [np.random.choice(y_l_[:, 0], size=size_cond[i], replace=cond[i, 0], p=p[i, :]) for i in range(len(GMM_PDF_Tor_sub))]\n",
    "        indices = [np.searchsorted(bins, idx[i]) - 1 for i in range(len(idx))]\n",
    "        flattened_indices = np.concatenate(indices)\n",
    "        d_x[output_parameters[out_param]] = np.concatenate([d_x[output_parameters[out_param]], y_l_[:, 0][flattened_indices].ravel()])\n",
    "    \n",
    "    return d_x"
   ],
   "metadata": {
    "collapsed": false,
    "ExecuteTime": {
     "end_time": "2024-07-09T13:17:42.994694Z",
     "start_time": "2024-07-09T13:17:42.981228Z"
    }
   },
   "id": "7f2b16030e2f88f3",
   "execution_count": 6
  },
  {
   "cell_type": "markdown",
   "source": [
    "# Kepler 78b\n"
   ],
   "metadata": {
    "collapsed": false
   },
   "id": "c68bdb8503bf58ca"
  },
  {
   "cell_type": "code",
   "outputs": [],
   "source": [
    "np.random.seed(125)"
   ],
   "metadata": {
    "collapsed": false,
    "ExecuteTime": {
     "end_time": "2024-07-09T13:17:43.010202Z",
     "start_time": "2024-07-09T13:17:42.995690Z"
    }
   },
   "id": "34e7a69446da2e86",
   "execution_count": 7
  },
  {
   "cell_type": "code",
   "outputs": [],
   "source": [
    "mass_samples_ori = np.random.normal(1.77, 0, size=1000)\n",
    "radius_samples_ori = np.random.normal(1.228, 0, size=1000)\n",
    "femg_samples_ori = np.random.normal(0.813, 0, size=1000)\n",
    "simg_samples_ori = np.random.normal(0.933, 0, size=1000)\n",
    "\n",
    "mass_samples = np.random.normal(1.77, 0.25, size=1000)\n",
    "radius_samples = np.random.normal(1.228, 0.019, size=1000)\n",
    "femg_samples = np.random.normal(0.813, 0.248, size=1000)\n",
    "simg_samples = np.random.normal(0.933, 0.281, size=1000)\n",
    "\n",
    "X_ori = np.stack([mass_samples_ori, radius_samples_ori, femg_samples_ori, simg_samples_ori], axis=1)\n",
    "X = np.stack([mass_samples, radius_samples, femg_samples, simg_samples], axis=1)"
   ],
   "metadata": {
    "collapsed": false,
    "ExecuteTime": {
     "end_time": "2024-07-09T13:19:04.456303Z",
     "start_time": "2024-07-09T13:19:04.449914Z"
    }
   },
   "id": "34c63c78d33455fd",
   "execution_count": 12
  },
  {
   "cell_type": "code",
   "execution_count": 13,
   "id": "2aef4277",
   "metadata": {
    "ExecuteTime": {
     "end_time": "2024-07-09T13:19:04.982544Z",
     "start_time": "2024-07-09T13:19:04.970584Z"
    }
   },
   "outputs": [],
   "source": [
    "X_com = np.concatenate((m_x.transform(X_ori), m_x.transform(X)), axis=1)\n",
    "# X_scaled = m_x.transform(X_com)\n",
    "tensor_x = torch.from_numpy(X_com)\n",
    "x_o, x_n = tensor_x.chunk(2, dim=1)"
   ]
  },
  {
   "cell_type": "code",
   "execution_count": 14,
   "id": "6fa49509",
   "metadata": {
    "ExecuteTime": {
     "end_time": "2024-07-09T13:19:21.485251Z",
     "start_time": "2024-07-09T13:19:05.578870Z"
    }
   },
   "outputs": [],
   "source": [
    "pred = model(x_o, x_n)"
   ]
  },
  {
   "cell_type": "code",
   "outputs": [],
   "source": [
    "y_l = np.arange(0, 1, 0.001).reshape(-1, 1)"
   ],
   "metadata": {
    "collapsed": false,
    "ExecuteTime": {
     "end_time": "2024-07-09T13:19:27.401801Z",
     "start_time": "2024-07-09T13:19:27.398Z"
    }
   },
   "id": "ade17ae2c4d7a031",
   "execution_count": 16
  },
  {
   "cell_type": "code",
   "execution_count": 17,
   "id": "1359346e",
   "metadata": {
    "ExecuteTime": {
     "end_time": "2024-07-09T13:19:31.070207Z",
     "start_time": "2024-07-09T13:19:28.426477Z"
    }
   },
   "outputs": [],
   "source": [
    "# (number of range, number of types * number of pred data), e.g. (1000, 8000)\n",
    "GMM = calculate_GMM(torch.exp(pred[0]).detach().cpu().numpy(), pred[1].detach().cpu().numpy(), pred[2].detach().cpu().numpy(), y_l)"
   ]
  },
  {
   "cell_type": "code",
   "outputs": [],
   "source": [
    "density_x = sampling_from_gmm_pdf(GMM, y_l)"
   ],
   "metadata": {
    "collapsed": false,
    "ExecuteTime": {
     "end_time": "2024-07-09T13:19:32.783377Z",
     "start_time": "2024-07-09T13:19:32.112721Z"
    }
   },
   "id": "6f9d3ec88a461c74",
   "execution_count": 18
  },
  {
   "cell_type": "code",
   "execution_count": 19,
   "id": "03c84868",
   "metadata": {
    "ExecuteTime": {
     "end_time": "2024-07-09T13:19:33.422845Z",
     "start_time": "2024-07-09T13:19:32.794340Z"
    }
   },
   "outputs": [],
   "source": [
    "mcmc_result = pd.read_csv(\"D:\\\\Resource\\\\rockyExoplanetV3\\\\Kepler78b_feo.csv\")\n",
    "mcmc_result[\"MRF\"] = 1 - mcmc_result[\"WRF\"] - mcmc_result[\"CRF\"]"
   ]
  },
  {
   "cell_type": "code",
   "outputs": [],
   "source": [
    "# Convert density dictionaries into DataFrames for easier manipulation\n",
    "df_density_x = pd.DataFrame(dict([(k, pd.Series(v)) for k, v in density_x.items()]))\n",
    "\n",
    "# Ensure that the original_x DataFrame has the same index as df_density_y after dropping NaNs\n",
    "original_x = m_y.inverse_transform(df_density_x)\n",
    "\n",
    "df_k_samples = pd.DataFrame(original_x, columns=output_parameters)"
   ],
   "metadata": {
    "collapsed": false,
    "ExecuteTime": {
     "end_time": "2024-07-09T13:19:33.438793Z",
     "start_time": "2024-07-09T13:19:33.423843Z"
    }
   },
   "id": "2dce5c6be0450421",
   "execution_count": 20
  },
  {
   "cell_type": "code",
   "execution_count": 21,
   "id": "0bd040e0",
   "metadata": {
    "ExecuteTime": {
     "end_time": "2024-07-09T13:19:34.203236Z",
     "start_time": "2024-07-09T13:19:34.187290Z"
    }
   },
   "outputs": [],
   "source": [
    "def plot(mcmc, s_i, o_p):\n",
    "    x_labels = ['Water Radial Fraction', 'Mantle Radial Fraction', 'Core Radial Fraction', \n",
    "                'Water Mass Fraction', 'Core Mass Fraction', 'CMB Pressure (TPa)', \n",
    "                'CMB Temperature (10^3K)', 'Love number k2']\n",
    "    x_max = [0.15, 1, 1, 0.1, 1, 2500, 6000, 1.5]\n",
    "    x_locator = [0.05, 0.2, 0.2, 0.02, 0.2, 500, 2000, 0.5]\n",
    "    colors = [\"steelblue\"] * len(output_parameters)\n",
    "    \n",
    "    fig, axs = plt.subplots(2, 4, figsize=(16, 8))\n",
    "    axs = axs.flatten()\n",
    "    for i, param in enumerate(o_p):\n",
    "        ax = axs[i]\n",
    "        # plot MCMC results\n",
    "        x = mcmc[param]\n",
    "        ax.hist(x, density=True, bins=15, histtype='step', color='#4682b4', linewidth=2, label='MCMC inference')\n",
    "        median = np.median(x)\n",
    "        ax.axvline(median, color='#4682b4', linestyle='--', lw=2)\n",
    "        \n",
    "        # plot MDN results\n",
    "        params_x = s_i[:,i]\n",
    "        counts, bins, _ = ax.hist(params_x, density=True, bins=15, histtype='step', color='red', linewidth=2, label='MDN inference')\n",
    "        median = np.median(params_x)\n",
    "        ax.axvline(median, color='r', linestyle='--', lw=2)\n",
    "        \n",
    "        # Set x-axis label from the provided list\n",
    "        ax.set_xlabel(x_labels[i])\n",
    "    \n",
    "        ax.set_xlim(0, x_max[i])\n",
    "        ax.set_yticks([])\n",
    "        ax.xaxis.set_major_locator(plt.MultipleLocator(x_locator[i]))\n",
    "        ax.xaxis.set_minor_locator(AutoMinorLocator())\n",
    "    \n",
    "        # Add legend to the first subplot\n",
    "        if i == 0:\n",
    "            ax.legend()\n",
    "    \n",
    "    # Adjust the layout\n",
    "    plt.tight_layout()\n",
    "    \n",
    "    # Display the plot\n",
    "    plt.show()"
   ]
  },
  {
   "cell_type": "code",
   "outputs": [
    {
     "data": {
      "text/plain": "<Figure size 1152x576 with 8 Axes>",
      "image/png": "[encoded data removed]"
     },
     "metadata": {},
     "output_type": "display_data"
    }
   ],
   "source": [
    "plot(mcmc_result, original_x, output_parameters)"
   ],
   "metadata": {
    "collapsed": false,
    "ExecuteTime": {
     "end_time": "2024-07-09T13:19:35.834360Z",
     "start_time": "2024-07-09T13:19:34.763797Z"
    }
   },
   "id": "f14e5c0a2696c11f",
   "execution_count": 22
  },
  {
   "cell_type": "code",
   "outputs": [],
   "source": [
    "predict_label = [\n",
    "    \"Water radial fraction\",\"Mass radial fraction\", \"Core radial fraction\", \n",
    "    \"Water mass fraction\",\"Core mass fraction\", \"CMB pressure (GPa)\", \"CMB temperature (K)\",\n",
    "    \"k2\",\n",
    "]\n",
    "df_k_p = mcmc_result[output_parameters]\n",
    "# 从MCMC结果中获取84%和16%的位置误差\n",
    "q16 = df_k_p.quantile(0.16)\n",
    "q84 = df_k_p.quantile(0.84)\n",
    "\n",
    "# 计算MDN结果的中位数和位置误差\n",
    "median = np.median(original_x, axis=0)\n",
    "lower_err = median - np.percentile(original_x, q=16, axis=0)\n",
    "upper_err = np.percentile(original_x, q=84, axis=0) - median\n",
    "\n",
    "# 计算MCMC结果的中位数和位置误差\n",
    "mcmc_median = df_k_p.median()\n",
    "mcmc_lower_err = mcmc_median - q16\n",
    "mcmc_upper_err = q84 - mcmc_median\n",
    "\n",
    "# 将所有结果存储在一个DataFrame中\n",
    "results = {\n",
    "    \"Output Parameter\": predict_label,\n",
    "    \"MCMC Median\": mcmc_median,\n",
    "    \"MDN Median\": median.tolist(),\n",
    "    \"MCMC Lower Error\": mcmc_lower_err,\n",
    "    \"MCMC Upper Error\": mcmc_upper_err,\n",
    "    \"MDN Lower Error\": lower_err,\n",
    "    \"MDN Upper Error\": upper_err\n",
    "}\n",
    "df_results = pd.DataFrame(results)"
   ],
   "metadata": {
    "collapsed": false,
    "ExecuteTime": {
     "end_time": "2024-07-09T13:19:35.942Z",
     "start_time": "2024-07-09T13:19:35.836353Z"
    }
   },
   "id": "c876bcbf30a34dbc",
   "execution_count": 23
  },
  {
   "cell_type": "markdown",
   "source": [
    "# Kepler 10b"
   ],
   "metadata": {
    "collapsed": false
   },
   "id": "f35b4f22fc25a4bd"
  },
  {
   "cell_type": "code",
   "execution_count": 24,
   "id": "d3587ceb",
   "metadata": {
    "ExecuteTime": {
     "end_time": "2024-07-09T13:58:12.533820Z",
     "start_time": "2024-07-09T13:58:12.521648Z"
    }
   },
   "outputs": [],
   "source": [
    "mass_samples_ori = np.random.normal(3.72, 0, size=1000)\n",
    "radius_samples_ori = np.random.normal(1.470, 0, size=1000)\n",
    "femg_samples_ori = np.random.normal(0.589, 0, size=1000)\n",
    "simg_samples_ori = np.random.normal(0.661, 0, size=1000)\n",
    "\n",
    "mass_samples = np.random.normal(3.72, 0.42, size=1000)\n",
    "radius_samples = np.random.normal(1.470, 0.03, size=1000)\n",
    "femg_samples = np.random.normal(0.589, 0.073, size=1000)\n",
    "simg_samples = np.random.normal(0.661, 0.098, size=1000)\n",
    "\n",
    "X_ori = np.stack([mass_samples_ori, radius_samples_ori, femg_samples_ori, simg_samples_ori], axis=1)\n",
    "X = np.stack([mass_samples, radius_samples, femg_samples, simg_samples], axis=1)\n",
    "X_com = np.concatenate((m_x.transform(X_ori), m_x.transform(X)), axis=1)\n",
    "# X_scaled = m_x.transform(X_com)\n",
    "tensor_x = torch.from_numpy(X_com)\n",
    "x_o, x_n = tensor_x.chunk(2, dim=1)"
   ]
  },
  {
   "cell_type": "code",
   "outputs": [],
   "source": [
    "pred = model(x_o, x_n)"
   ],
   "metadata": {
    "collapsed": false,
    "ExecuteTime": {
     "end_time": "2024-07-09T13:58:13.326014Z",
     "start_time": "2024-07-09T13:58:13.285307Z"
    }
   },
   "id": "f69c094668771bdf",
   "execution_count": 25
  },
  {
   "cell_type": "code",
   "outputs": [],
   "source": [
    "y_l = np.arange(0, 1, 0.001).reshape(-1, 1)\n",
    "# (number of range, number of types * number of pred data), e.g. (1000, 8000)\n",
    "GMM = calculate_GMM(torch.exp(pred[0]).detach().cpu().numpy(), pred[1].detach().cpu().numpy(),\n",
    "                    pred[2].detach().cpu().numpy(), y_l)\n",
    "density_x = sampling_from_gmm_pdf(GMM, y_l)\n",
    "mcmc_result = pd.read_csv(\"D:\\\\Resource\\\\rockyExoplanetV3\\\\Kepler10b_feo.csv\")\n",
    "mcmc_result[\"MRF\"] = 1 - mcmc_result[\"WRF\"] - mcmc_result[\"CRF\"]\n",
    "# Convert density dictionaries into DataFrames for easier manipulation\n",
    "df_density_x = pd.DataFrame(dict([(k, pd.Series(v)) for k, v in density_x.items()]))\n",
    "\n",
    "# Ensure that the original_x DataFrame has the same index as df_density_y after dropping NaNs\n",
    "original_x = m_y.inverse_transform(df_density_x)\n",
    "\n",
    "df_k_samples = pd.DataFrame(original_x, columns=output_parameters)"
   ],
   "metadata": {
    "collapsed": false,
    "ExecuteTime": {
     "end_time": "2024-07-09T13:58:18.162361Z",
     "start_time": "2024-07-09T13:58:13.924663Z"
    }
   },
   "id": "8acaf7dd8165c184",
   "execution_count": 26
  },
  {
   "cell_type": "code",
   "outputs": [
    {
     "data": {
      "text/plain": "<Figure size 1152x576 with 8 Axes>",
      "image/png": "[encoded data removed]"
     },
     "metadata": {},
     "output_type": "display_data"
    }
   ],
   "source": [
    "plot(mcmc_result, original_x, output_parameters)"
   ],
   "metadata": {
    "collapsed": false,
    "ExecuteTime": {
     "end_time": "2024-07-09T13:58:18.902945Z",
     "start_time": "2024-07-09T13:58:18.163359Z"
    }
   },
   "id": "3d4e8091366790c6",
   "execution_count": 27
  },
  {
   "cell_type": "code",
   "outputs": [],
   "source": [
    "predict_label = [\n",
    "    \"Water radial fraction\",\"Mass radial fraction\", \"Core radial fraction\", \n",
    "    \"Water mass fraction\",\"Core mass fraction\", \"CMB pressure (GPa)\", \"CMB temperature (K)\",\n",
    "    \"k2\",\n",
    "]\n",
    "df_k_p = mcmc_result[output_parameters]\n",
    "# 从MCMC结果中获取84%和16%的位置误差\n",
    "q16 = df_k_p.quantile(0.16)\n",
    "q84 = df_k_p.quantile(0.84)\n",
    "\n",
    "# 计算MDN结果的中位数和位置误差\n",
    "median = np.median(original_x, axis=0)\n",
    "lower_err = median - np.percentile(original_x, q=16, axis=0)\n",
    "upper_err = np.percentile(original_x, q=84, axis=0) - median\n",
    "\n",
    "# 计算MCMC结果的中位数和位置误差\n",
    "mcmc_median = df_k_p.median()\n",
    "mcmc_lower_err = mcmc_median - q16\n",
    "mcmc_upper_err = q84 - mcmc_median\n",
    "\n",
    "# 将所有结果存储在一个DataFrame中\n",
    "results = {\n",
    "    \"Output Parameter\": predict_label,\n",
    "    \"MCMC Median\": mcmc_median,\n",
    "    \"MDN Median\": median.tolist(),\n",
    "    \"MCMC Lower Error\": mcmc_lower_err,\n",
    "    \"MCMC Upper Error\": mcmc_upper_err,\n",
    "    \"MDN Lower Error\": lower_err,\n",
    "    \"MDN Upper Error\": upper_err\n",
    "}\n",
    "df_results = pd.DataFrame(results)"
   ],
   "metadata": {
    "collapsed": false,
    "ExecuteTime": {
     "end_time": "2024-07-09T13:58:26.262669Z",
     "start_time": "2024-07-09T13:58:26.170976Z"
    }
   },
   "id": "2c8d973778c24a5d",
   "execution_count": 28
  },
  {
   "cell_type": "markdown",
   "source": [
    "# HD 3167 b"
   ],
   "metadata": {
    "collapsed": false
   },
   "id": "9da32e3a93577ef2"
  },
  {
   "cell_type": "code",
   "outputs": [],
   "source": [
    "mass_samples_ori = np.random.normal(5.69, 0, size=1000)\n",
    "radius_samples_ori = np.random.normal(1.574, 0, size=1000)\n",
    "femg_samples_ori = np.random.normal(0.692, 0, size=1000)\n",
    "simg_samples_ori = np.random.normal(0.692, 0, size=1000)\n",
    "\n",
    "mass_samples = np.random.normal(5.69, 0.44, size=1000)\n",
    "radius_samples = np.random.normal(1.574, 0.054, size=1000)\n",
    "femg_samples = np.random.normal(0.692, 0.103, size=1000)\n",
    "simg_samples = np.random.normal(0.692, 0.130, size=1000)\n",
    "\n",
    "X_ori = np.stack([mass_samples_ori, radius_samples_ori, femg_samples_ori, simg_samples_ori], axis=1)\n",
    "X = np.stack([mass_samples, radius_samples, femg_samples, simg_samples], axis=1)\n",
    "X_com = np.concatenate((m_x.transform(X_ori), m_x.transform(X)), axis=1)\n",
    "# X_scaled = m_x.transform(X_com)\n",
    "tensor_x = torch.from_numpy(X_com)\n",
    "x_o, x_n = tensor_x.chunk(2, dim=1)"
   ],
   "metadata": {
    "collapsed": false,
    "ExecuteTime": {
     "end_time": "2024-07-09T14:48:37.777733Z",
     "start_time": "2024-07-09T14:48:37.770232Z"
    }
   },
   "id": "9a9202a8fc4b252e",
   "execution_count": 30
  },
  {
   "cell_type": "code",
   "outputs": [],
   "source": [
    "pred = model(x_o, x_n)"
   ],
   "metadata": {
    "collapsed": false,
    "ExecuteTime": {
     "end_time": "2024-07-09T14:48:38.617711Z",
     "start_time": "2024-07-09T14:48:38.595587Z"
    }
   },
   "id": "a64fc827c3d729e4",
   "execution_count": 31
  },
  {
   "cell_type": "code",
   "outputs": [],
   "source": [
    "y_l = np.arange(0, 1, 0.001).reshape(-1, 1)\n",
    "# (number of range, number of types * number of pred data), e.g. (1000, 8000)\n",
    "GMM = calculate_GMM(torch.exp(pred[0]).detach().cpu().numpy(), pred[1].detach().cpu().numpy(),\n",
    "                    pred[2].detach().cpu().numpy(), y_l)\n",
    "density_x = sampling_from_gmm_pdf(GMM, y_l)\n",
    "mcmc_result = pd.read_csv(\"D:\\\\Resource\\\\rockyExoplanetV3\\\\HD3167b_feo.csv\")\n",
    "mcmc_result[\"MRF\"] = 1 - mcmc_result[\"WRF\"] - mcmc_result[\"CRF\"]\n",
    "# Convert density dictionaries into DataFrames for easier manipulation\n",
    "df_density_x = pd.DataFrame(dict([(k, pd.Series(v)) for k, v in density_x.items()]))\n",
    "\n",
    "# Ensure that the original_x DataFrame has the same index as df_density_y after dropping NaNs\n",
    "original_x = m_y.inverse_transform(df_density_x)\n",
    "\n",
    "df_k_samples = pd.DataFrame(original_x, columns=output_parameters)"
   ],
   "metadata": {
    "collapsed": false,
    "ExecuteTime": {
     "end_time": "2024-07-09T14:48:43.923665Z",
     "start_time": "2024-07-09T14:48:39.125841Z"
    }
   },
   "id": "6a0fb2aec58322d1",
   "execution_count": 32
  },
  {
   "cell_type": "code",
   "outputs": [
    {
     "data": {
      "text/plain": "<Figure size 1152x576 with 8 Axes>",
      "image/png": "[encoded data removed]"
     },
     "metadata": {},
     "output_type": "display_data"
    }
   ],
   "source": [
    "plot(mcmc_result, original_x, output_parameters)"
   ],
   "metadata": {
    "collapsed": false,
    "ExecuteTime": {
     "end_time": "2024-07-09T14:48:45.217771Z",
     "start_time": "2024-07-09T14:48:43.924662Z"
    }
   },
   "id": "58633bade29931d7",
   "execution_count": 33
  },
  {
   "cell_type": "code",
   "outputs": [],
   "source": [
    "predict_label = [\n",
    "    \"Water radial fraction\",\"Mass radial fraction\", \"Core radial fraction\", \n",
    "    \"Water mass fraction\",\"Core mass fraction\", \"CMB pressure (GPa)\", \"CMB temperature (K)\",\n",
    "    \"k2\",\n",
    "]\n",
    "df_k_p = mcmc_result[output_parameters]\n",
    "# 从MCMC结果中获取84%和16%的位置误差\n",
    "q16 = df_k_p.quantile(0.16)\n",
    "q84 = df_k_p.quantile(0.84)\n",
    "\n",
    "# 计算MDN结果的中位数和位置误差\n",
    "median = np.median(original_x, axis=0)\n",
    "lower_err = median - np.percentile(original_x, q=16, axis=0)\n",
    "upper_err = np.percentile(original_x, q=84, axis=0) - median\n",
    "\n",
    "# 计算MCMC结果的中位数和位置误差\n",
    "mcmc_median = df_k_p.median()\n",
    "mcmc_lower_err = mcmc_median - q16\n",
    "mcmc_upper_err = q84 - mcmc_median\n",
    "\n",
    "# 将所有结果存储在一个DataFrame中\n",
    "results = {\n",
    "    \"Output Parameter\": predict_label,\n",
    "    \"MCMC Median\": mcmc_median,\n",
    "    \"MDN Median\": median.tolist(),\n",
    "    \"MCMC Lower Error\": mcmc_lower_err,\n",
    "    \"MCMC Upper Error\": mcmc_upper_err,\n",
    "    \"MDN Lower Error\": lower_err,\n",
    "    \"MDN Upper Error\": upper_err\n",
    "}\n",
    "df_results = pd.DataFrame(results)"
   ],
   "metadata": {
    "collapsed": false,
    "ExecuteTime": {
     "end_time": "2024-07-09T14:48:53.992857Z",
     "start_time": "2024-07-09T14:48:53.896457Z"
    }
   },
   "id": "7c0b91e9184d1504",
   "execution_count": 34
  },
  {
   "cell_type": "markdown",
   "source": [
    "# HD 219134b"
   ],
   "metadata": {
    "collapsed": false
   },
   "id": "d8b2d59d09ae4562"
  },
  {
   "cell_type": "code",
   "outputs": [],
   "source": [
    "mass_samples_ori = np.random.normal(4.74, 0, size=1000)\n",
    "radius_samples_ori = np.random.normal(1.602, 0, size=1000)\n",
    "femg_samples_ori = np.random.normal(0.794, 0, size=1000)\n",
    "simg_samples_ori = np.random.normal(0.871, 0, size=1000)\n",
    "\n",
    "mass_samples = np.random.normal(4.74, 0.19, size=1000)\n",
    "radius_samples = np.random.normal(1.602, 0.055, size=1000)\n",
    "femg_samples = np.random.normal(0.794, 0.154, size=1000)\n",
    "simg_samples = np.random.normal(0.871, 0.195, size=1000)\n",
    "\n",
    "X_ori = np.stack([mass_samples_ori, radius_samples_ori, femg_samples_ori, simg_samples_ori], axis=1)\n",
    "X = np.stack([mass_samples, radius_samples, femg_samples, simg_samples], axis=1)\n",
    "X_com = np.concatenate((m_x.transform(X_ori), m_x.transform(X)), axis=1)\n",
    "# X_scaled = m_x.transform(X_com)\n",
    "tensor_x = torch.from_numpy(X_com)\n",
    "x_o, x_n = tensor_x.chunk(2, dim=1)"
   ],
   "metadata": {
    "collapsed": false,
    "ExecuteTime": {
     "end_time": "2024-07-09T14:57:34.297062Z",
     "start_time": "2024-07-09T14:57:34.276819Z"
    }
   },
   "id": "8e5fb05a7ffee112",
   "execution_count": 39
  },
  {
   "cell_type": "code",
   "outputs": [],
   "source": [
    "pred = model(x_o, x_n)"
   ],
   "metadata": {
    "collapsed": false,
    "ExecuteTime": {
     "end_time": "2024-07-09T14:57:34.747620Z",
     "start_time": "2024-07-09T14:57:34.736628Z"
    }
   },
   "id": "54a775618445eac5",
   "execution_count": 40
  },
  {
   "cell_type": "code",
   "outputs": [],
   "source": [
    "y_l = np.arange(0, 1, 0.001).reshape(-1, 1)\n",
    "# (number of range, number of types * number of pred data), e.g. (1000, 8000)\n",
    "GMM = calculate_GMM(pred[0].detach().cpu().numpy(), pred[1].detach().cpu().numpy(),\n",
    "                    pred[2].detach().cpu().numpy(), y_l)\n",
    "density_x = sampling_from_gmm_pdf(GMM, y_l)\n",
    "mcmc_result = pd.read_csv(\"D:\\\\Resource\\\\rockyExoplanetV3\\\\HD219134b_feo.csv\")\n",
    "mcmc_result[\"MRF\"] = 1 - mcmc_result[\"WRF\"] - mcmc_result[\"CRF\"]\n",
    "# Convert density dictionaries into DataFrames for easier manipulation\n",
    "df_density_x = pd.DataFrame(dict([(k, pd.Series(v)) for k, v in density_x.items()]))\n",
    "\n",
    "# Ensure that the original_x DataFrame has the same index as df_density_y after dropping NaNs\n",
    "original_x = m_y.inverse_transform(df_density_x)\n",
    "\n",
    "df_k_samples = pd.DataFrame(original_x, columns=output_parameters)"
   ],
   "metadata": {
    "collapsed": false,
    "ExecuteTime": {
     "end_time": "2024-07-09T14:57:39.149033Z",
     "start_time": "2024-07-09T14:57:35.213251Z"
    }
   },
   "id": "b84faec7de89bfa9",
   "execution_count": 41
  },
  {
   "cell_type": "code",
   "outputs": [
    {
     "data": {
      "text/plain": "<Figure size 1152x576 with 8 Axes>",
      "image/png": "[encoded data removed]"
     },
     "metadata": {},
     "output_type": "display_data"
    }
   ],
   "source": [
    "plot(mcmc_result, original_x, output_parameters)"
   ],
   "metadata": {
    "collapsed": false,
    "ExecuteTime": {
     "end_time": "2024-07-09T14:57:40.175016Z",
     "start_time": "2024-07-09T14:57:39.151028Z"
    }
   },
   "id": "f54fba801a7c43f3",
   "execution_count": 42
  },
  {
   "cell_type": "code",
   "outputs": [],
   "source": [
    "predict_label = [\n",
    "    \"Water radial fraction\",\"Mass radial fraction\", \"Core radial fraction\", \n",
    "    \"Water mass fraction\",\"Core mass fraction\", \"CMB pressure (GPa)\", \"CMB temperature (K)\",\n",
    "    \"k2\",\n",
    "]\n",
    "df_k_p = mcmc_result[output_parameters]\n",
    "# 从MCMC结果中获取84%和16%的位置误差\n",
    "q16 = df_k_p.quantile(0.16)\n",
    "q84 = df_k_p.quantile(0.84)\n",
    "\n",
    "# 计算MDN结果的中位数和位置误差\n",
    "median = np.median(original_x, axis=0)\n",
    "lower_err = median - np.percentile(original_x, q=16, axis=0)\n",
    "upper_err = np.percentile(original_x, q=84, axis=0) - median\n",
    "\n",
    "# 计算MCMC结果的中位数和位置误差\n",
    "mcmc_median = df_k_p.median()\n",
    "mcmc_lower_err = mcmc_median - q16\n",
    "mcmc_upper_err = q84 - mcmc_median\n",
    "\n",
    "# 将所有结果存储在一个DataFrame中\n",
    "results = {\n",
    "    \"Output Parameter\": predict_label,\n",
    "    \"MCMC Median\": mcmc_median,\n",
    "    \"MDN Median\": median.tolist(),\n",
    "    \"MCMC Lower Error\": mcmc_lower_err,\n",
    "    \"MCMC Upper Error\": mcmc_upper_err,\n",
    "    \"MDN Lower Error\": lower_err,\n",
    "    \"MDN Upper Error\": upper_err\n",
    "}\n",
    "df_results = pd.DataFrame(results)"
   ],
   "metadata": {
    "collapsed": false,
    "ExecuteTime": {
     "end_time": "2024-07-09T14:57:40.268579Z",
     "start_time": "2024-07-09T14:57:40.176013Z"
    }
   },
   "id": "e31caa3b3dad6962",
   "execution_count": 43
  },
  {
   "cell_type": "markdown",
   "source": [
    "# EPIC 249893012 b"
   ],
   "metadata": {
    "collapsed": false
   },
   "id": "31a2a36f920be5e0"
  },
  {
   "cell_type": "code",
   "outputs": [],
   "source": [
    "mass_samples_ori = np.random.normal(8.75, 0, size=1000)\n",
    "radius_samples_ori = np.random.normal(1.95, 0, size=1000)\n",
    "femg_samples_ori = np.random.normal(0.692, 0, size=1000)\n",
    "simg_samples_ori = np.random.normal(0.741, 0, size=1000)\n",
    "\n",
    "mass_samples = np.random.normal(8.75, 1.09, size=1000)\n",
    "radius_samples = np.random.normal(1.95, 0.09, size=1000)\n",
    "femg_samples = np.random.normal(0.692, 0.124, size=1000)\n",
    "simg_samples = np.random.normal(0.741, 0.134, size=1000)\n",
    "\n",
    "X_ori = np.stack([mass_samples_ori, radius_samples_ori, femg_samples_ori, simg_samples_ori], axis=1)\n",
    "X = np.stack([mass_samples, radius_samples, femg_samples, simg_samples], axis=1)\n",
    "X_com = np.concatenate((m_x.transform(X_ori), m_x.transform(X)), axis=1)\n",
    "# X_scaled = m_x.transform(X_com)\n",
    "tensor_x = torch.from_numpy(X_com)\n",
    "x_o, x_n = tensor_x.chunk(2, dim=1)"
   ],
   "metadata": {
    "collapsed": false,
    "ExecuteTime": {
     "end_time": "2024-07-09T17:17:54.600813Z",
     "start_time": "2024-07-09T17:17:54.591829Z"
    }
   },
   "id": "c6e40c834439fd63",
   "execution_count": 50
  },
  {
   "cell_type": "code",
   "outputs": [],
   "source": [
    "pred = model(x_o, x_n)"
   ],
   "metadata": {
    "collapsed": false,
    "ExecuteTime": {
     "end_time": "2024-07-09T17:17:54.911130Z",
     "start_time": "2024-07-09T17:17:54.894155Z"
    }
   },
   "id": "e2f70fa34c1a264a",
   "execution_count": 51
  },
  {
   "cell_type": "code",
   "outputs": [
    {
     "name": "stderr",
     "output_type": "stream",
     "text": [
      "E:\\anaconda\\envs\\deeplearning\\lib\\site-packages\\ipykernel_launcher.py:11: RuntimeWarning: invalid value encountered in true_divide\n",
      "  # This is added back by InteractiveShellApp.init_path()\n"
     ]
    }
   ],
   "source": [
    "y_l = np.arange(0, 1, 0.001).reshape(-1, 1)\n",
    "# (number of range, number of types * number of pred data), e.g. (1000, 8000)\n",
    "GMM = calculate_GMM(torch.exp(pred[0]).detach().cpu().numpy(), pred[1].detach().cpu().numpy(),\n",
    "                    pred[2].detach().cpu().numpy(), y_l)\n",
    "density_x = sampling_from_gmm_pdf(GMM, y_l)\n",
    "mcmc_result = pd.read_csv(\"D:\\\\Resource\\\\rockyExoplanetV3\\\\EPIC249893012b_feo.csv\")\n",
    "mcmc_result[\"MRF\"] = 1 - mcmc_result[\"WRF\"] - mcmc_result[\"CRF\"]\n",
    "# Convert density dictionaries into DataFrames for easier manipulation\n",
    "df_density_x = pd.DataFrame(dict([(k, pd.Series(v)) for k, v in density_x.items()]))\n",
    "\n",
    "# Ensure that the original_x DataFrame has the same index as df_density_y after dropping NaNs\n",
    "original_x = m_y.inverse_transform(df_density_x)\n",
    "\n",
    "df_k_samples = pd.DataFrame(original_x, columns=output_parameters)"
   ],
   "metadata": {
    "collapsed": false,
    "ExecuteTime": {
     "end_time": "2024-07-09T17:17:59.696842Z",
     "start_time": "2024-07-09T17:17:55.375562Z"
    }
   },
   "id": "e5777327873b38d7",
   "execution_count": 52
  },
  {
   "cell_type": "code",
   "outputs": [
    {
     "data": {
      "text/plain": "<Figure size 1152x576 with 8 Axes>",
      "image/png": "[encoded data removed]"
     },
     "metadata": {},
     "output_type": "display_data"
    }
   ],
   "source": [
    "plot(mcmc_result, original_x, output_parameters)\n"
   ],
   "metadata": {
    "collapsed": false,
    "ExecuteTime": {
     "end_time": "2024-07-09T17:18:00.548899Z",
     "start_time": "2024-07-09T17:17:59.698837Z"
    }
   },
   "id": "21cfe2cb26ca05a2",
   "execution_count": 53
  },
  {
   "cell_type": "code",
   "outputs": [],
   "source": [
    "predict_label = [\n",
    "    \"Water radial fraction\",\"Mass radial fraction\", \"Core radial fraction\", \n",
    "    \"Water mass fraction\",\"Core mass fraction\", \"CMB pressure (GPa)\", \"CMB temperature (K)\",\n",
    "    \"k2\",\n",
    "]\n",
    "df_k_p = mcmc_result[output_parameters]\n",
    "# 从MCMC结果中获取84%和16%的位置误差\n",
    "q16 = df_k_p.quantile(0.16)\n",
    "q84 = df_k_p.quantile(0.84)\n",
    "\n",
    "# 计算MDN结果的中位数和位置误差\n",
    "median = np.median(original_x, axis=0)\n",
    "lower_err = median - np.percentile(original_x, q=16, axis=0)\n",
    "upper_err = np.percentile(original_x, q=84, axis=0) - median\n",
    "\n",
    "# 计算MCMC结果的中位数和位置误差\n",
    "mcmc_median = df_k_p.median()\n",
    "mcmc_lower_err = mcmc_median - q16\n",
    "mcmc_upper_err = q84 - mcmc_median\n",
    "\n",
    "# 将所有结果存储在一个DataFrame中\n",
    "results = {\n",
    "    \"Output Parameter\": predict_label,\n",
    "    \"MCMC Median\": mcmc_median,\n",
    "    \"MDN Median\": median.tolist(),\n",
    "    \"MCMC Lower Error\": mcmc_lower_err,\n",
    "    \"MCMC Upper Error\": mcmc_upper_err,\n",
    "    \"MDN Lower Error\": lower_err,\n",
    "    \"MDN Upper Error\": upper_err\n",
    "}\n",
    "df_results = pd.DataFrame(results)"
   ],
   "metadata": {
    "collapsed": false,
    "ExecuteTime": {
     "end_time": "2024-07-09T17:18:00.672563Z",
     "start_time": "2024-07-09T17:18:00.549899Z"
    }
   },
   "id": "c64222ddeaabfb86",
   "execution_count": 54
  },
  {
   "cell_type": "code",
   "outputs": [],
   "source": [],
   "metadata": {
    "collapsed": false
   },
   "id": "ea0bbbeb2b441ca8"
  }
 ],
 "metadata": {
  "kernelspec": {
   "display_name": "Python 3 (ipykernel)",
   "language": "python",
   "name": "python3"
  },
  "language_info": {
   "codemirror_mode": {
    "name": "ipython",
    "version": 3
   },
   "file_extension": ".py",
   "mimetype": "text/x-python",
   "name": "python",
   "nbconvert_exporter": "python",
   "pygments_lexer": "ipython3",
   "version": "3.7.1"
  }
 },
 "nbformat": 4,
 "nbformat_minor": 5
}
